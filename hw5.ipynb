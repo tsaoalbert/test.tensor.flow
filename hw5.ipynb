{
 "cells": [
  {
   "cell_type": "markdown",
   "metadata": {},
   "source": [
    "# <a href= \"http://interactivepython.org/runestone/static/pythonds/SortSearch/toctree.html\"> Chapter 5: Searching and Sorting </a>"
   ]
  },
  {
   "cell_type": "markdown",
   "metadata": {},
   "source": [
    "<h3> <a href= \"\n",
    "http://interactivepython.org/runestone/static/pythonds/SortSearch/ProgrammingExercises.html    \"> \n",
    "Programming Exercises\n",
    "</a>\n",
    "</h3>\n",
    "(Note that you may find answers or partial answers in the lecture notes.)"
   ]
  },
  {
   "cell_type": "markdown",
   "metadata": {},
   "source": [
    "Q#1: Implement the following for the hash table Map ADT implementation.\n",
    "<ul> \n",
    "  <li>  len method (__len__)</li>\n",
    "  <li> in method (__contains__)</li>\n",
    "  <li> del method using the following for collision resolution</li>\n",
    "  <ul>\n",
    "         <li>  chaining </li>\n",
    "         <li> open addressing</li>\n",
    "           <li>quadratic probing</li>\n",
    "  </ul>\n",
    "          \n",
    "</ul>\n",
    "\n"
   ]
  },
  {
   "cell_type": "markdown",
   "metadata": {},
   "source": [
    "Q#2: Implement the mergeSort function without using the slice operator."
   ]
  },
  {
   "cell_type": "markdown",
   "metadata": {},
   "source": [
    "Q#3: Using a random number generator, create a list of 500 integers. Perform a benchmark analysis two sorting algorithmsfrom this chapter. The first one has to be one of the insertion/selection/bubble sorting algorithms and the other is one of the quick/merge sorting algorithm.  What is the difference in execution speed?"
   ]
  },
  {
   "cell_type": "code",
   "execution_count": 7,
   "metadata": {},
   "outputs": [
    {
     "name": "stdout",
     "output_type": "stream",
     "text": [
      "Selection Sort:\n",
      "0.0220181941986084\n",
      "Merge Sort\n",
      "0.002973318099975586\n"
     ]
    }
   ],
   "source": [
    "import time, random\n",
    "\n",
    "def mergeSort(alist, i=0 ):\n",
    "\n",
    "\n",
    "  if len(alist)>1:\n",
    "    mid = len(alist)//2\n",
    "    lefthalf = alist[:mid]\n",
    "    righthalf = alist[mid:]\n",
    "\n",
    "    mergeSort(lefthalf, i+1)\n",
    "    mergeSort(righthalf, i+1)\n",
    "\n",
    "    i=0\n",
    "    j=0\n",
    "    k=0\n",
    "    while i<len(lefthalf) and j<len(righthalf):\n",
    "      if lefthalf[i]<righthalf[j]:\n",
    "        alist[k]=lefthalf[i]\n",
    "        i=i+1\n",
    "      else:\n",
    "        alist[k]=righthalf[j]\n",
    "        j=j+1\n",
    "      k=k+1\n",
    "\n",
    "    while i<len(lefthalf):\n",
    "      alist[k]=lefthalf[i]\n",
    "      i=i+1\n",
    "      k=k+1\n",
    "\n",
    "    while j<len(righthalf):\n",
    "      alist[k]=righthalf[j]\n",
    "      j=j+1\n",
    "      k=k+1\n",
    "\n",
    "\n",
    "\n",
    "def selectionSort(alist):\n",
    "\n",
    "  for i in range(len(alist)-1,0,-1):\n",
    "    j=i\n",
    "    for k in range(0,i):\n",
    "      if alist[k]>alist[j]:\n",
    "        j = k \n",
    "    alist[i], alist[j] = alist[j], alist[i]\n",
    "\n",
    "\n",
    "L= list ( range(500) )  # create a randome\n",
    "random.shuffle (L)\n",
    "print (\"Selection Sort:\") \n",
    "start = time.time()\n",
    "selectionSort(L)      #xxx\n",
    "end = time.time()     # get the ending time\n",
    "print ( end-start)\n",
    "\n",
    "L= list ( range(500) )\n",
    "random.shuffle (L)\n",
    "print(\"Merge Sort\")\n",
    "start = time.time()   # xxx\n",
    "mergeSort(L)\n",
    "end = time.time()\n",
    "print ( end-start)\n"
   ]
  },
  {
   "cell_type": "markdown",
   "metadata": {},
   "source": [
    "Q#4; Given a list of numbers in random order, write an algorithm that works\n",
    "      in O(nlog(n)) to find the kth smallest number in the list."
   ]
  },
  {
   "cell_type": "code",
   "execution_count": 2,
   "metadata": {},
   "outputs": [
    {
     "name": "stdout",
     "output_type": "stream",
     "text": [
      "5\n"
     ]
    }
   ],
   "source": [
    "def selection (k, L): # The given list L is in  random order\n",
    "    L.sort()      # sort L in an increasing oder\n",
    "    return L[k]  # return k_th smallest, L[0]: smallest, L[1]: 2nd smallest\n",
    "\n",
    "L = [ 3,2,5,4,9,1]\n",
    "print ( selection (4, L ))"
   ]
  },
  {
   "cell_type": "markdown",
   "metadata": {},
   "source": [
    "Q#5: Improve the algorithm from the previous problem to be linear? (Hints: the quick sort algorithms.) \n"
   ]
  },
  {
   "cell_type": "markdown",
   "metadata": {},
   "source": [
    "(Optional) Research perfect hash functions. Using a list of names (classmates, family members, etc.), generate the hash values using the perfect hash algorithm."
   ]
  }
 ],
 "metadata": {
  "kernelspec": {
   "display_name": "Python 3",
   "language": "python",
   "name": "python3"
  },
  "language_info": {
   "codemirror_mode": {
    "name": "ipython",
    "version": 3
   },
   "file_extension": ".py",
   "mimetype": "text/x-python",
   "name": "python",
   "nbconvert_exporter": "python",
   "pygments_lexer": "ipython3",
   "version": "3.7.1"
  }
 },
 "nbformat": 4,
 "nbformat_minor": 2
}
