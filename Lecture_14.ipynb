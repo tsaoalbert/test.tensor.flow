{
  "nbformat": 4,
  "nbformat_minor": 0,
  "metadata": {
    "colab": {
      "name": "Lecture 14.ipynb",
      "version": "0.3.2",
      "provenance": [],
      "include_colab_link": true
    },
    "language_info": {
      "codemirror_mode": {
        "name": "ipython",
        "version": 3
      },
      "file_extension": ".py",
      "mimetype": "text/x-python",
      "name": "python",
      "nbconvert_exporter": "python",
      "pygments_lexer": "ipython3",
      "version": "3.7.0"
    },
    "kernelspec": {
      "display_name": "Python 3",
      "language": "python",
      "name": "python3"
    }
  },
  "cells": [
    {
      "cell_type": "markdown",
      "metadata": {
        "id": "view-in-github",
        "colab_type": "text"
      },
      "source": [
        "<a href=\"https://colab.research.google.com/github/tsaoalbert/test.tensor.flow/blob/master/Lecture_14.ipynb\" target=\"_parent\"><img src=\"https://colab.research.google.com/assets/colab-badge.svg\" alt=\"Open In Colab\"/></a>"
      ]
    },
    {
      "cell_type": "markdown",
      "metadata": {
        "id": "PCVnwfmQ7N0O",
        "colab_type": "text"
      },
      "source": [
        "# Balancing Binary Search Trees\n",
        "\n",
        "## The magic of rotation\n",
        "\n",
        "Here's the problem in a nutshell ...:\n",
        "\n",
        "<center><img src=\"https://adrianmejia.com/images/balanced-vs-non-balanced-tree.jpg\" height=800 width=800></center>\n",
        "\n",
        "You'd much prefer to do searching of the balanced tree, but depending on how you do insertions/deletions you might end up with the unbalanced one.  How can you maintain some kind of balance as items are added and removed from the tree?\n",
        "\n",
        "The requirements are:\n",
        "* Preserve the \"binary search tree\" invariant.  Another way of saying this is that we must preserve the in-order traversal ordering.\n",
        "* Reduce (or at least not increase) the height of the tree.\n",
        "* Constant cost (just pointer shuffling)\n",
        "\n",
        "And tree rotations give us just what we want!"
      ]
    },
    {
      "cell_type": "markdown",
      "metadata": {
        "id": "G4OI3fpk7N0Q",
        "colab_type": "text"
      },
      "source": [
        "## Rotations\n",
        "\n",
        "<center><img src=\"https://upload.wikimedia.org/wikipedia/commons/2/23/Tree_rotation.png\"></center>\n",
        "\n",
        "Here we \"pivot on P\" to do the right rotation and \"pivot on Q\" to do the left rotation.  \n",
        "\n",
        "The sequence to do the ***right rotation*** is:\n",
        "\n",
        "Let `root` be the current \"root\" node (this could be the root of the entire tree or only a subtree).  Then do:\n",
        "\n",
        "    pivot = root.left\n",
        "    root.left = pivot.right\n",
        "    pivot.right = root\n",
        "\n",
        "Now `pivot` is the new root node.  \n",
        "\n",
        "The sequence to do a ***left rotation*** is:\n",
        "\n",
        "    pivot = root.right\n",
        "    root.right = pivot.left\n",
        "    pivot.left = root\n",
        "    \n",
        "And again `pivot` is the new root.\n",
        "\n",
        "Here's another picture:\n",
        "\n",
        "<center><img src=\"https://cs2852uphoff.files.wordpress.com/2011/05/treerotationexample.png\" ></center>"
      ]
    },
    {
      "cell_type": "markdown",
      "metadata": {
        "id": "xY-NRNNC7N0R",
        "colab_type": "text"
      },
      "source": [
        "Here the `root` node is 9 and the `pivot` node is 15; we rotate left ...\n",
        "<img src=\"https://image1.slideserve.com/2571924/left-rotation-n.jpg\">\n",
        "\n",
        "Now, let's look at rotations in action ..."
      ]
    },
    {
      "cell_type": "code",
      "metadata": {
        "id": "SLG2Miiu7N0S",
        "colab_type": "code",
        "colab": {}
      },
      "source": [
        "# This broadens the Notebook screen to use the entire width of the display\n",
        "from IPython.core.display import display, HTML\n",
        "display(HTML(\"<style>.container { width:100% !important; }</style>\"))"
      ],
      "execution_count": 0,
      "outputs": []
    },
    {
      "cell_type": "markdown",
      "metadata": {
        "id": "wtNRxbnT7N0W",
        "colab_type": "text"
      },
      "source": [
        "Let's walk through a couple more examples.  Here the `root` node is 15 and the `pivot` node is 9; we rotate right ...\n",
        "\n",
        "<img src=\"https://image1.slideserve.com/2571924/right-rotation-n.jpg\">"
      ]
    },
    {
      "cell_type": "code",
      "metadata": {
        "id": "mSVBUppz7N0X",
        "colab_type": "code",
        "colab": {}
      },
      "source": [
        "# First a simple class of tree nodes, with left and right pointers and a size\n",
        "\n",
        "class TreeNode:\n",
        "    def __init__(self, key, value):\n",
        "        self.key = key\n",
        "        self.value = value\n",
        "        self.left, self.right = None, None\n",
        "    \n",
        "    def size(self):\n",
        "        left = 0 if self.left is None else self.left.size()\n",
        "        right = 0 if self.right is None else self.right.size()\n",
        "        return left + right + 1\n",
        "    \n",
        "    def maxHeight(self):\n",
        "        left = 0 if self.left is None else self.left.maxHeight()\n",
        "        right = 0 if self.right is None else self.right.maxHeight()\n",
        "        return max(left, right) + 1\n",
        "    \n",
        "    # We'll add a simple __repr__ function to give a string representation\n",
        "    def __repr__(self):\n",
        "        string = \"(\" + str(self.key) + \",\" + str(self.value) + \")\"\n",
        "        if not self.left is None:\n",
        "            string = \"[\" + str(self.left) + \"]\" + string\n",
        "        if not self.right is None:\n",
        "            string = string + \"[\" + str(self.right) + \"]\"\n",
        "        return string"
      ],
      "execution_count": 0,
      "outputs": []
    },
    {
      "cell_type": "code",
      "metadata": {
        "id": "NzvJn3Gk7N0a",
        "colab_type": "code",
        "colab": {}
      },
      "source": [
        "# Now Binary Trees are just extensions of our TreeNode    \n",
        "class BinaryTree(TreeNode):\n",
        "    # Make the value optional\n",
        "    def __init__(self, key, value=None):\n",
        "        TreeNode.__init__(self, key, value)\n",
        "        \n",
        "    def setChildren(self, left: \"BinaryTree\", right: \"BinaryTree\") -> \"BinaryTree\":\n",
        "        self.right = right\n",
        "        self.left = left\n",
        "        return self\n",
        "    \n",
        "    def leftChild(self):\n",
        "        return self.left\n",
        "    \n",
        "    def rightChild(self):\n",
        "        return self.right\n",
        "    \n",
        "    def childCount(self):\n",
        "        return 2 - (1 if self.leftChild() == None else 0) - (1 if self.rightChild() == None else 0)\n",
        "    \n",
        "    # A method to iterate through all of the nodes in the tree in the proper order\n",
        "    def __iter__(self, f = lambda n: (n.key, n.value)):\n",
        "        if not self.leftChild() is None:\n",
        "            yield from self.leftChild().__iter__(f)\n",
        "        yield f(self)\n",
        "        if not self.rightChild() is None:\n",
        "            yield from self.rightChild().__iter__(f)"
      ],
      "execution_count": 0,
      "outputs": []
    },
    {
      "cell_type": "markdown",
      "metadata": {
        "id": "82ICpggP7N0d",
        "colab_type": "text"
      },
      "source": [
        "# Printing Binary Trees\n",
        "\n",
        "First, a simple text-based \"pretty print\" ..."
      ]
    },
    {
      "cell_type": "code",
      "metadata": {
        "id": "09yq-Js77N0f",
        "colab_type": "code",
        "colab": {}
      },
      "source": [
        "# Pretty print composes the lines that need to be printed to show a tree\n",
        "# and then prints them\n",
        "def prettyPrint(self):\n",
        "    lines, width, height, middle = self.composeLines()\n",
        "    for line in lines:\n",
        "        print(line)\n",
        "\n",
        "def composeLines(self):\n",
        "    \"\"\"Returns list of strings, width, height, and horizontal coordinate of the root.\"\"\"\n",
        "    # No child.\n",
        "    if self.right is None and self.left is None:\n",
        "        if self.value is not None:\n",
        "            line = \"({0}:{1})\".format(self.key, self.value)\n",
        "        else:\n",
        "            line = str(self.key)\n",
        "        width = len(line)\n",
        "        height = 1\n",
        "        middle = width // 2\n",
        "        return [line], width, height, middle\n",
        "\n",
        "    # Only left child.\n",
        "    if self.right is None:\n",
        "        lines, width, height, middle = self.left.composeLines()\n",
        "        if self.value is not None:\n",
        "            s = \"({0}:{1})\".format(self.key, self.value)\n",
        "        else:\n",
        "            s = str(self.key)\n",
        "        u = len(s)\n",
        "        first_line = (middle + 1) * ' ' + (width - middle - 1) * '_' + s\n",
        "        second_line = middle * ' ' + '/' + (width - middle - 1 + u) * ' '\n",
        "        shifted_lines = [line + u * ' ' for line in lines]\n",
        "        return [first_line, second_line] + shifted_lines, width + u, height + 2, width + u // 2\n",
        "\n",
        "    # Only right child.\n",
        "    if self.left is None:\n",
        "        lines, width, height, middle = self.right.composeLines()\n",
        "        if self.value is not None:\n",
        "            s = \"({0}:{1})\".format(self.key, self.value)\n",
        "        else:\n",
        "            s = str(self.key)\n",
        "        u = len(s)\n",
        "        first_line = s + middle * '_' + (width - middle) * ' '\n",
        "        second_line = (u + middle) * ' ' + '\\\\' + (width - middle - 1) * ' '\n",
        "        shifted_lines = [u * ' ' + line for line in lines]\n",
        "        return [first_line, second_line] + shifted_lines, width + u, height + 2, u // 2\n",
        "\n",
        "    # Two children.\n",
        "    left, l_width, l_height, l_middle  = self.left.composeLines()\n",
        "    right, r_width, r_height, r_middle = self.right.composeLines()\n",
        "    if self.value is not None:\n",
        "        s = \"({0}:{1})\".format(self.key, self.value)\n",
        "    else:\n",
        "        s = str(self.key)\n",
        "    u = len(s)\n",
        "    first_line = (l_middle + 1) * ' ' + (l_width - l_middle - 1) * '_' + s + r_middle * '_' + (r_width - r_middle) * ' '\n",
        "    second_line = l_middle * ' ' + '/' + (l_width - l_middle - 1 + u + r_middle) * ' ' + '\\\\' + (r_width - r_middle - 1) * ' '\n",
        "    if l_height < r_height:\n",
        "        left += [l_width * ' '] * (r_height - l_height)\n",
        "    elif r_height < l_height:\n",
        "        right += [r_width * ' '] * (l_height - r_height)\n",
        "    zipped_lines = zip(left, right)\n",
        "    lines = [first_line, second_line] + [a + u * ' ' + b for a, b in zipped_lines]\n",
        "    return lines, l_width + r_width + u, max(l_height, r_height) + 2, l_width + u // 2\n",
        "    \n",
        "BinaryTree.prettyPrint = prettyPrint\n",
        "BinaryTree.composeLines = composeLines"
      ],
      "execution_count": 0,
      "outputs": []
    },
    {
      "cell_type": "markdown",
      "metadata": {
        "id": "5ASJncyh7N0j",
        "colab_type": "text"
      },
      "source": [
        "The second choice prints nice pictures -- we'll likely use this a lot!\n",
        "\n",
        "To use this, you need to install `graphviz`, an open-source graph visualization package.  It's **not** Python, but there is an Anaconda installation package that sets everything up nicely.  To install it, use\n",
        "\n",
        "    conda install python-graphviz\n",
        "    \n",
        "from the Anaconda prompt.  Then run the following `pip install` ..."
      ]
    },
    {
      "cell_type": "code",
      "metadata": {
        "id": "XOUxCb9u7N0l",
        "colab_type": "code",
        "colab": {}
      },
      "source": [
        "!pip install graphviz"
      ],
      "execution_count": 0,
      "outputs": []
    },
    {
      "cell_type": "code",
      "metadata": {
        "id": "q-IgCKtX7N0o",
        "colab_type": "code",
        "colab": {}
      },
      "source": [
        "from graphviz import Digraph, nohtml\n",
        "\n",
        "# Return a graphviz \"Digraph\" of the tree, suitable for print (as PDF) or display\n",
        "\n",
        "def toDigraph(self, caption = None, empty_list_string = u\"\\u2205\", colors = dict()):\n",
        "    \n",
        "    # Generate a node name from the id of a Python object (in this case a TreeNode)\n",
        "    def makeName(n):\n",
        "        return \"L\" + '{:10X}'.format(id(n))\n",
        "    \n",
        "    # Add a node to the information for the tree\n",
        "    # We both add to the \"nodes\" list with the name and value of the node and\n",
        "    # add to the \"edges\" list for the left and right subtree links (if any)\n",
        "    def addNode(n):\n",
        "        nonlocal nodes, edges\n",
        "        # Make a name\n",
        "        name = makeName(n)\n",
        "        # Make a value string\n",
        "        if n.value is not None:\n",
        "            value = \"({0}:{1})\".format(n.key, n.value)\n",
        "        else:\n",
        "            value = str(n.key)\n",
        "            \n",
        "        # Add a new tuple to the list of nodes with:\n",
        "        # 0. The name of the node\n",
        "        # 1. The value of the node\n",
        "        # 2. A pair of Booleans specifying whether the left or right child is empty\n",
        "        # 3. The color to be used for the node (the colors list maps keys to colors)\n",
        "        \n",
        "        nodeData = (name, value, (n.leftChild() is None, n.rightChild() is None), colors.get(n.key, None))\n",
        "        nodes.append(nodeData)\n",
        "        \n",
        "        # Add a new tuple to the list of edges that gives the names of the left and right children\n",
        "        edgeData = (None if n.leftChild() is None else makeName(n.leftChild()),\n",
        "                   None if n.rightChild() is None else makeName(n.rightChild()))\n",
        "        edges.append((name, edgeData))\n",
        "\n",
        "    # Walk the tree and build the lists of nodes and edges    \n",
        "    nodes = []\n",
        "    edges = []\n",
        "    for n in self.__iter__(f = lambda n: n):\n",
        "        addNode(n)\n",
        "    \n",
        "    # Now create the Digraph structure\n",
        "    d = Digraph(node_attr={'shape': 'record', 'height': '.1', \"style\": \"filled\"})\n",
        "    \n",
        "    for node in nodes:\n",
        "        label = \"<f0> \"\n",
        "        if node[2][0]:\n",
        "            label = label + empty_list_string\n",
        "        label = label + '|<f1> ' + node[1] + '|<f2> '\n",
        "        if node[2][1]:\n",
        "            label = label + empty_list_string\n",
        "        color = node[3]\n",
        "        if color is None:\n",
        "            d.node(node[0], nohtml(label), fillcolor = \"white\")\n",
        "        else:\n",
        "            d.node(node[0], nohtml(label), fillcolor = color)\n",
        "    for edge in edges:\n",
        "        name = edge[0]\n",
        "        if not edge[1][0] is None:\n",
        "            d.edge(name + \":f0\", edge[1][0] + \":f1\", color = \"red\")\n",
        "        if not edge[1][1] is None:\n",
        "            d.edge(name + \":f2\", edge[1][1] + \":f1\", color = \"blue\")\n",
        "    \n",
        "    if not caption is None:\n",
        "        d.attr(label=\"\\n\" + caption + \"\\n\", labelloc=\"top\", labeljust=\"center\")\n",
        "    return d\n",
        "\n",
        "BinaryTree.toDigraph = toDigraph\n",
        "\n",
        "BinaryTree.emptyNode = emptyNode\n"
      ],
      "execution_count": 0,
      "outputs": []
    },
    {
      "cell_type": "markdown",
      "metadata": {
        "id": "jGj3Sbw57N0s",
        "colab_type": "text"
      },
      "source": [
        "## Finally, the binary search tree implementation"
      ]
    },
    {
      "cell_type": "code",
      "metadata": {
        "id": "GMBKwx7v7N0t",
        "colab_type": "code",
        "colab": {}
      },
      "source": [
        "from graphviz import Digraph, nohtml\n",
        "import IPython.display\n",
        "\n",
        "class BST:\n",
        "    def __init__(self):\n",
        "        self.root = None\n",
        "        self.rotations = [] # To keep track of multiple rotations\n",
        "        \n",
        "    def prettyPrint(self):\n",
        "        if self.root is None:\n",
        "            print(\"None\")\n",
        "        else:\n",
        "            self.root.prettyPrint()\n",
        "            \n",
        "    def emptyNode(self, empty_list_string = u\"\\u2205\", caption = None):\n",
        "        d = Digraph(node_attr={'shape': 'record', 'height': '.1'})\n",
        "        label = \"<f0> \" + empty_list_string + \"|<f1> None |<f2> \" + empty_list_string\n",
        "        d.node(\"empty\", nohtml(label))\n",
        "        if not caption is None:\n",
        "            d.attr(label=\"\\n\" + caption + \"\\n\", labelloc=\"top\", labeljust=\"center\")\n",
        "        return d\n",
        "    \n",
        "    def toDigraph(self, colors = {}, empty_list_string = u\"\\u2205\", caption = None):\n",
        "        if self.root is None:\n",
        "            return self.emptyNode(empty_list_string = empty_list_string, caption = caption)\n",
        "        else:\n",
        "            return self.root.toDigraph(colors = colors, empty_list_string = empty_list_string, caption = caption)\n",
        "        \n",
        "    def display(self, colors = {}, empty_list_string = u\"\\u2205\", caption = None):\n",
        "        IPython.display.display(self.toDigraph(colors = colors, empty_list_string = empty_list_string, caption = caption))            \n",
        "    \n",
        "    # Find given the key   \n",
        "    def find(self, key):\n",
        "        node = self.root\n",
        "        while(not node is None):\n",
        "            if node.key == key:\n",
        "                return node.value\n",
        "            elif node.key > key:\n",
        "                node = node.leftChild()\n",
        "            else:\n",
        "                node = node.rightChild()\n",
        "        return None\n",
        "    \n",
        "    # An internal method that inserts at the node\n",
        "    def _insertNode(self, key, value, node):\n",
        "        if key < node.key:\n",
        "            if node.leftChild() is None:\n",
        "                node.setChildren(BinaryTree(key, value = value), node.rightChild())\n",
        "            else:\n",
        "                self._insertNode(key, value, node.leftChild())\n",
        "        else:\n",
        "            if node.rightChild() is None:\n",
        "                node.setChildren(node.leftChild(), BinaryTree(key, value))\n",
        "            else:\n",
        "                self._insertNode(key, value, node.rightChild())\n",
        "    \n",
        "    # The public insert method\n",
        "    def insert(self, key, value = None):\n",
        "        if self.root is None:\n",
        "            self.root = BinaryTree(key, value = value)\n",
        "        else:\n",
        "            self._insertNode(key, value, self.root)\n",
        "        return self\n",
        "    \n",
        "    # Return an iterator that gives all the items in the tree in order\n",
        "    def items(self):\n",
        "        return iter(self.root)\n",
        "    \n",
        "    # Return the height of the tree\n",
        "    def height(self):\n",
        "        if self.root is None:\n",
        "            return 0\n",
        "        return self.root.maxHeight()\n",
        "    \n",
        "    # Return the size of the tree\n",
        "    def size(self):\n",
        "        if self.root is None:\n",
        "            return 0\n",
        "        return self.root.size()"
      ],
      "execution_count": 0,
      "outputs": []
    },
    {
      "cell_type": "markdown",
      "metadata": {
        "id": "WGEjOvPS7N0z",
        "colab_type": "text"
      },
      "source": [
        "### Rotations!"
      ]
    },
    {
      "cell_type": "code",
      "metadata": {
        "id": "JFFsYpHE7N02",
        "colab_type": "code",
        "colab": {}
      },
      "source": [
        "            \n",
        "def _rotateRightAtNode(self, node):\n",
        "    new_root = node.leftChild()\n",
        "    node.setChildren(new_root.rightChild(), node.rightChild())\n",
        "    new_root.setChildren(new_root.leftChild(), node)\n",
        "    return new_root\n",
        "\n",
        "def _rotateLeftAtNode(self, node):\n",
        "    new_root = node.rightChild()\n",
        "    node.setChildren(node.leftChild(), new_root.leftChild())\n",
        "    new_root.setChildren(node, new_root.rightChild())\n",
        "    return new_root\n",
        "\n",
        "def _rotateRight(self, key, node):\n",
        "    if node.key == key:\n",
        "        return self._rotateRightAtNode(node)\n",
        "    elif key < node.key:\n",
        "        return node.setChildren(self._rotateRight(key, node.leftChild()), node.rightChild())\n",
        "    else:\n",
        "        return node.setChildren(node.leftChild(), self._rotateRight(key, node.rightChild()))\n",
        "            \n",
        "def rotateRight(self, key):\n",
        "    self.root = self._rotateRight(key, self.root)\n",
        "                \n",
        "def _rotateLeft(self, key, node):\n",
        "    if node.key == key:\n",
        "        return self._rotateLeftAtNode(node)\n",
        "    elif key < node.key:\n",
        "        return node.setChildren(self._rotateLeft(key, node.leftChild()), node.rightChild())\n",
        "    else:\n",
        "        return node.setChildren(node.leftChild(), self._rotateLeft(key, node.rightChild()))\n",
        "            \n",
        "def rotateLeft(self, key):\n",
        "    self.root = self._rotateLeft(key, self.root)\n",
        "\n",
        "BST.rotateLeft = rotateLeft\n",
        "BST.rotateRight = rotateRight\n",
        "\n",
        "BST._rotateRight = _rotateRight\n",
        "BST._rotateLeft = _rotateLeft\n",
        "\n",
        "BST._rotateLeftAtNode = _rotateLeftAtNode\n",
        "BST._rotateRightAtNode = _rotateRightAtNode"
      ],
      "execution_count": 0,
      "outputs": []
    },
    {
      "cell_type": "markdown",
      "metadata": {
        "id": "R7JN2nwK7N06",
        "colab_type": "text"
      },
      "source": [
        "Now, let's go through the examples again ...  First a right rotation\n",
        "\n",
        "<img src=\"https://image1.slideserve.com/2571924/right-rotation-n.jpg\">"
      ]
    },
    {
      "cell_type": "code",
      "metadata": {
        "scrolled": true,
        "id": "nPL7LMar7N08",
        "colab_type": "code",
        "colab": {}
      },
      "source": [
        "# Here's our original tree (with 9 and 15 highlighted)\n",
        "BST().display(caption = \"Empty Tree\")\n",
        "b = BST().insert(15).insert(9).insert(4).insert(12).insert(22)\n",
        "b.prettyPrint()\n",
        "b.display(colors = {9: \"red\", 15: \"lightgreen\"}, caption = \"Simple Tree\")"
      ],
      "execution_count": 0,
      "outputs": []
    },
    {
      "cell_type": "markdown",
      "metadata": {
        "id": "z3VWTHdV7N1A",
        "colab_type": "text"
      },
      "source": [
        "Now, let's do the right rotation -- 9 becomes the new root and 15 gets \"pushed down\" to the right"
      ]
    },
    {
      "cell_type": "code",
      "metadata": {
        "id": "fn0F17S_7N1D",
        "colab_type": "code",
        "colab": {}
      },
      "source": [
        "b.rotateRight(15)\n",
        "b.prettyPrint()\n",
        "b.display(colors = {9: \"red\", 15: \"lightgreen\"})"
      ],
      "execution_count": 0,
      "outputs": []
    },
    {
      "cell_type": "markdown",
      "metadata": {
        "id": "pidagzIV7N1G",
        "colab_type": "text"
      },
      "source": [
        "Now, let's rotate things back to the left to restore things ..."
      ]
    },
    {
      "cell_type": "code",
      "metadata": {
        "id": "vCysChAe7N1H",
        "colab_type": "code",
        "colab": {}
      },
      "source": [
        "b.rotateLeft(9)\n",
        "b.prettyPrint()\n",
        "b.display(colors = {9: \"red\", 15: \"lightgreen\"})"
      ],
      "execution_count": 0,
      "outputs": []
    },
    {
      "cell_type": "markdown",
      "metadata": {
        "id": "LVuf0nbO7N1K",
        "colab_type": "text"
      },
      "source": [
        "OK, why was the `rotateLeft` `rotateLeft(15)` and not `rotateLeft(9)`?\n",
        "\n",
        "The big idea is that you can perform sequences of rotations to:\n",
        "* Improve tree balance\n",
        "* Move individual items around in the tree\n",
        "\n",
        "First, tree rebalancing ... Here's the basic idea:\n",
        "\n",
        "<center><img src=\"https://upload.wikimedia.org/wikipedia/commons/thumb/c/c4/Tree_Rebalancing.gif/1920px-Tree_Rebalancing.gif\" height=1200 width=1000></center>\n",
        "\n",
        "More about this later ..."
      ]
    },
    {
      "cell_type": "markdown",
      "metadata": {
        "id": "bp2T9R527N1K",
        "colab_type": "text"
      },
      "source": [
        "### Inserting at the root node\n",
        "\n",
        "One important use of sequences of rotations is to allow \"insert at root\".  If we just blindly insert the next value at the root, then we would certainly end up violating the \"binary search tree\" invariant. However, we can do an \"insert at root\" by inserting the node and then rotating the tree to preserve the invariant."
      ]
    },
    {
      "cell_type": "code",
      "metadata": {
        "id": "cJjJ0Uiq7N1M",
        "colab_type": "code",
        "colab": {}
      },
      "source": [
        "def _insertAtRoot(self, key, value, node):\n",
        "    if node is None:\n",
        "        return  BinaryTree(key, value=value)\n",
        "    if key < node.key:\n",
        "        # Do the insertion in the left subtree\n",
        "        node.setChildren(self._insertAtRoot(key, value, node.leftChild()), node.rightChild())\n",
        "        # Do a right rotation of the node\n",
        "        self.rotations.insert(0, (\"R\", node.key))\n",
        "        return self._rotateRightAtNode(node)\n",
        "    else:\n",
        "        # Do the insertion in the right subtree\n",
        "        node.setChildren(node.leftChild(), self._insertAtRoot(key, value, node.rightChild()))\n",
        "        # Do a right rotation of the node\n",
        "        self.rotations.insert(0, (\"L\", node.key))\n",
        "        return self._rotateLeftAtNode(node)\n",
        "\n",
        "# We'll keep track of the sequence of rotations\n",
        "# Note: insertion at the root may change the root!\n",
        "def insertAtRoot(self, key, value=None):\n",
        "    self.rotations = []\n",
        "    self.root = self._insertAtRoot(key, value, self.root)\n",
        "    return self\n",
        "\n",
        "BST.insertAtRoot = insertAtRoot\n",
        "BST._insertAtRoot = _insertAtRoot"
      ],
      "execution_count": 0,
      "outputs": []
    },
    {
      "cell_type": "code",
      "metadata": {
        "id": "7eO9AB457N1S",
        "colab_type": "code",
        "colab": {}
      },
      "source": [
        "# Here's our original tree\n",
        "b = BST().insert(15).insert(9).insert(4).insert(12).insert(22)\n",
        "b.display()"
      ],
      "execution_count": 0,
      "outputs": []
    },
    {
      "cell_type": "code",
      "metadata": {
        "id": "z2FJZvzu7N1W",
        "colab_type": "code",
        "colab": {}
      },
      "source": [
        "# Now, let's insert 10 at the root\n",
        "b.insertAtRoot(10)\n",
        "b.display()\n",
        "print(b.rotations)"
      ],
      "execution_count": 0,
      "outputs": []
    },
    {
      "cell_type": "markdown",
      "metadata": {
        "id": "lpE-XQjz7N1i",
        "colab_type": "text"
      },
      "source": [
        "Now let's do a more complicated example taken from \n",
        "\n",
        "<img src=\"https://image.slidesharecdn.com/09binarysearchtrees-key-090902044357-phpapp02/95/binary-search-trees-27-728.jpg?cb=1251866708\" height=600 width=800>"
      ]
    },
    {
      "cell_type": "code",
      "metadata": {
        "scrolled": false,
        "id": "VP9vwd7M7N1k",
        "colab_type": "code",
        "colab": {}
      },
      "source": [
        "root = BST()\n",
        "for l in \"ASERCHINGXMPL\":\n",
        "    root.insertAtRoot(l)\n",
        "    print()\n",
        "    root.display(caption = \"Insert of \" + l)\n",
        "    print(root.rotations)"
      ],
      "execution_count": 0,
      "outputs": []
    },
    {
      "cell_type": "markdown",
      "metadata": {
        "id": "4eMivmBu7N1p",
        "colab_type": "text"
      },
      "source": [
        "We can also use rotations to simplify node removal.  First we need to introduce a partition operation that restructures the tree so that the left subtree has k nodes."
      ]
    },
    {
      "cell_type": "code",
      "metadata": {
        "id": "HufetvJJ7N1q",
        "colab_type": "code",
        "colab": {}
      },
      "source": [
        "# Partition the tree so that the given node has k children in the left subtree\n",
        "def _partition(self, k, node):\n",
        "    if node is None:\n",
        "        return None\n",
        "    # Compute the current size of the left subtree\n",
        "    left_count = 0 if node.leftChild() is None else node.leftChild().size()\n",
        "    # If it's k, then we're good\n",
        "    if left_count == k:\n",
        "        return node\n",
        "    # If it's greater than k, then partition the left subtree (which has more than k nodes)\n",
        "    # and rotate it right, so that the left subtree becomes the new root\n",
        "    if left_count > k:\n",
        "        node.setChildren(self._partition(k, node.leftChild()), node.rightChild())\n",
        "        self.rotations.insert(0, (\"R\", node.key))\n",
        "        return self._rotateRightAtNode(node)\n",
        "    # Otherwise partition the right subtree to contain the necessary remaining nodes\n",
        "    # and rotate it left so that the right subtree becomes the new root\n",
        "    else:\n",
        "        node.setChildren(node.leftChild(), self._partition(k - left_count - 1, node.rightChild()))\n",
        "        self.rotations.insert(0, (\"L\", node.key))\n",
        "        return self._rotateLeftAtNode(node)\n",
        "        \n",
        "def partition(self, k):\n",
        "    self.rotations = []\n",
        "    self.root = self._partition(k, self.root) # Set the root node to whatever the new root is\n",
        "        \n",
        "BST._partition = _partition\n",
        "BST.partition = partition"
      ],
      "execution_count": 0,
      "outputs": []
    },
    {
      "cell_type": "code",
      "metadata": {
        "id": "ZM3GUtka7N1t",
        "colab_type": "code",
        "colab": {}
      },
      "source": [
        "b = BST().insert(15).insert(9).insert(4).insert(12).insert(22)\n",
        "print(b.size())\n",
        "b.display(caption=\"Original\")\n",
        "b.partition(0)\n",
        "b.display(caption=\"Left Is Empty\")\n",
        "print(b.rotations, b.size())\n",
        "b = BST().insert(15).insert(9).insert(4).insert(12).insert(22)\n",
        "print(b.size())\n",
        "b.partition(b.size()-1)\n",
        "b.display(caption=\"Right Is Empty\")\n",
        "print(b.rotations, b.size())"
      ],
      "execution_count": 0,
      "outputs": []
    },
    {
      "cell_type": "markdown",
      "metadata": {
        "id": "BqjBG26l7N1x",
        "colab_type": "text"
      },
      "source": [
        "Now, assume we have to binary search trees, $BST_{1}$ and $BST_{2}$ where we know that all of the nodes in $BST_{1}$ are less than the nodes in $BST_{2}$.  Then we can join the two trees into a single tree by:\n",
        "* Partitioning $BST_{1}$ so that it has no right subtree (like we did above), and\n",
        "* Inserting the root node of $BST_{2}$ as the right subtree.\n",
        "\n",
        "Why does this preserve the binary search tree invariant?"
      ]
    },
    {
      "cell_type": "code",
      "metadata": {
        "id": "2Rqdm3VV7N1z",
        "colab_type": "code",
        "colab": {}
      },
      "source": [
        "# Join another binary search tree at this node\n",
        "# Where we assume that all of the nodes in the other bst are greater than the\n",
        "# nodes in the subtree at the given node\n",
        "def _join(self, node, bst):\n",
        "    # If either is None, then just return the other one\n",
        "    if bst is None:\n",
        "        return node\n",
        "    if node is None:\n",
        "        return bst\n",
        "    # Move everything to have an empty right subtree\n",
        "    node = self._partition(node.size()-1, node)\n",
        "    # Insert the other tree as the new right child\n",
        "    node.setChildren(node.leftChild(), bst)\n",
        "    return node\n",
        "\n",
        "# Join another binary search tree with this one\n",
        "def join(self, bst):\n",
        "    self.root = self._join(self.root, bst.root)\n",
        "    return self\n",
        "\n",
        "BST._join = _join\n",
        "BST.join = join"
      ],
      "execution_count": 0,
      "outputs": []
    },
    {
      "cell_type": "code",
      "metadata": {
        "id": "BXJPHo7K7N14",
        "colab_type": "code",
        "colab": {}
      },
      "source": [
        "b1 = BST().insert(15).insert(9).insert(4).insert(12).insert(22)\n",
        "b1.display(caption = \"Tree 1\")\n",
        "b2 = BST().insert(30).insert(40)\n",
        "b2.display(caption = \"Tree 2\")\n",
        "\n",
        "b1.join(b2).display(caption = \"Join of Tree 1 and Tree 2\")"
      ],
      "execution_count": 0,
      "outputs": []
    },
    {
      "cell_type": "markdown",
      "metadata": {
        "id": "dqHm8pM97N17",
        "colab_type": "text"
      },
      "source": [
        "And now we have a simple algorithm for remove:\n",
        "* Split the tree into two disjoint subtrees at the node we are deleting\n",
        "* Join the subtrees back into a binary search tree using our join algorithm"
      ]
    },
    {
      "cell_type": "code",
      "metadata": {
        "id": "tPjM0RXR7N18",
        "colab_type": "code",
        "colab": {}
      },
      "source": [
        "def _remove(self, key, node):\n",
        "    if node is None:\n",
        "        return None\n",
        "    # Go left if the node is in the left subtree\n",
        "    if key < node.key:\n",
        "        return node.setChildren(self._remove(key, node.leftChild()), node.rightChild())\n",
        "    # Go right if the node is in the right subtree\n",
        "    elif key > node.key:\n",
        "        return node.setChildren(node.leftChild(), self._remove(key, node.rightChild()))\n",
        "    # Join the left and right subtrees (thus removing the node)\n",
        "    else:\n",
        "        return self._join(node.leftChild(), node.rightChild()) \n",
        "\n",
        "def remove(self, key):\n",
        "    self.root = self._remove(key, self.root)\n",
        "    return self\n",
        "    \n",
        "BST.remove = remove\n",
        "BST._remove = _remove"
      ],
      "execution_count": 0,
      "outputs": []
    },
    {
      "cell_type": "code",
      "metadata": {
        "id": "yJZB8f6K7N1_",
        "colab_type": "code",
        "colab": {}
      },
      "source": [
        "b1 = BST().insert(15).insert(9).insert(4).insert(12).insert(22)\n",
        "b1.display(caption = \"Original\")\n",
        "\n",
        "for i in [9, 12, 4, 22, 15]:\n",
        "    b1.remove(i)\n",
        "    b1.display(caption = \"Removal of \" + str(i))\n"
      ],
      "execution_count": 0,
      "outputs": []
    },
    {
      "cell_type": "markdown",
      "metadata": {
        "id": "hEtDZlG57N2E",
        "colab_type": "text"
      },
      "source": [
        "## Random trees"
      ]
    },
    {
      "cell_type": "code",
      "metadata": {
        "id": "Z_JI3dEj7N2F",
        "colab_type": "code",
        "colab": {}
      },
      "source": [
        "from random import randint, seed\n",
        "\n",
        "class RST(BST):\n",
        "    \n",
        "    def __init__(self, my_seed = 0):\n",
        "        BST.__init__(self)\n",
        "        if my_seed != 0:\n",
        "            seed(my_seed)\n",
        "        \n",
        "    def _insertRandomNode(self, key, value, node):\n",
        "        if node is None:\n",
        "            return BinaryTree(key, value)\n",
        "        if randint(0, node.size()+1) == 0:\n",
        "            return self._insertAtRoot(key, value, node)\n",
        "        elif key < node.key:\n",
        "            return node.setChildren(self._insertRandomNode(key, value, node.leftChild()), node.rightChild())\n",
        "        else:\n",
        "            return node.setChildren(node.leftChild(), self._insertRandomNode(key, value, node.rightChild()))\n",
        "    \n",
        "    def insert(self, key, value = None):\n",
        "        self.root = self._insertRandomNode(key, value, self.root)\n",
        "        return self\n",
        "\n",
        "    def _join(self, node, bst):\n",
        "        if bst is None:\n",
        "            return node\n",
        "        if node is None:\n",
        "            return bst\n",
        "        if randint(0, node.size() + bst.size()) < node.size():\n",
        "            node.setChildren(node.leftChild(), self._join(node.rightChild(), bst))\n",
        "            return node\n",
        "        else:\n",
        "            bst.setChildren(self._join(node, bst.leftChild()), bst.rightChild())\n",
        "            return bst"
      ],
      "execution_count": 0,
      "outputs": []
    },
    {
      "cell_type": "code",
      "metadata": {
        "id": "Iun5jjdU7N2J",
        "colab_type": "code",
        "colab": {}
      },
      "source": [
        "rtest = RST().insert(15, \"b\").insert(20, \"c\").insert(70, \"d\").insert(3, \"e\")\n",
        "rtest.prettyPrint()"
      ],
      "execution_count": 0,
      "outputs": []
    },
    {
      "cell_type": "code",
      "metadata": {
        "scrolled": false,
        "id": "RA8IxySn7N2V",
        "colab_type": "code",
        "colab": {}
      },
      "source": [
        "heights = []\n",
        "for s in range(10):\n",
        "    r = RST(s)\n",
        "    for i in range(30):\n",
        "        r.insert(i)\n",
        "    r.display(caption = \"Random Tree of Height \" + str(r.height()))\n",
        "    heights.append(r.height())\n",
        "    \n",
        "print(\"Min height:\", min(heights), \"Max height: \", max(heights))\n"
      ],
      "execution_count": 0,
      "outputs": []
    },
    {
      "cell_type": "code",
      "metadata": {
        "id": "mKCTRxK57N2Z",
        "colab_type": "code",
        "colab": {}
      },
      "source": [
        "heights = []\n",
        "for s in range(10):\n",
        "    r = RST(s)\n",
        "    for i in range(1000):\n",
        "        r.insert(i)\n",
        "    heights.append(r.height())\n",
        "    \n",
        "print(\"Min height:\", min(heights), \"Max height: \", max(heights))"
      ],
      "execution_count": 0,
      "outputs": []
    },
    {
      "cell_type": "code",
      "metadata": {
        "scrolled": false,
        "id": "2HsADks17N2b",
        "colab_type": "code",
        "colab": {}
      },
      "source": [
        "r = RST(100)\n",
        "for i in range(30):\n",
        "    r.insert(i)\n",
        "        \n",
        "for i in range(30):\n",
        "    r.remove(i)\n",
        "    r.display(caption=\"Tree after removing \" + str(i))\n",
        "    print(\"Height is \" + str(r.height()))"
      ],
      "execution_count": 0,
      "outputs": []
    },
    {
      "cell_type": "code",
      "metadata": {
        "scrolled": true,
        "id": "KvwBqZWO7N2d",
        "colab_type": "code",
        "colab": {}
      },
      "source": [
        "rtest = RST().insert(15).insert(20).insert(70).insert(3).insert(10).insert(5).insert(17)\n",
        "rtest.display()\n",
        "rtest.remove(17)\n",
        "rtest.display(caption = \"Remove 17\")\n",
        "rtest.remove(3)\n",
        "rtest.display(caption = \"Remove 3\")"
      ],
      "execution_count": 0,
      "outputs": []
    },
    {
      "cell_type": "markdown",
      "metadata": {
        "id": "dfs-gukC7N2g",
        "colab_type": "text"
      },
      "source": [
        "## Splay Trees\n",
        "\n",
        "Splay trees use rotations as part of every operation -- even search.  The idea is to rebalance the tree on every operation, paying a small cost on each one, hoping that amortizing that cost over sequences of operations wins.  In general, the amortized cost of a splay tree operation is $O(\\log n)$, even though some operations can be $O(n)$. The splay tree moves a node $x$ to the root of the tree by performing series of single and double tree rotations:\n",
        "* Each double rotations moves $x$ to its grandparent’s place and\n",
        "* Each single rotation moves $x$ to its parent’s place. \n",
        "\n",
        "We perform these rotations until $x$ reaches to the root of the tree. This process is called splaying. Besides moving $x$ to the root, splaying also shortens the height of the tree which makes the tree more balanced. There are two types of single rotations (\"zigs\" and \"zags\") and four types of double rotations (\"zig-zig\", \"zig-zag\", \"zag-zig\" and \"zag-zag\").\n",
        "\n"
      ]
    },
    {
      "cell_type": "markdown",
      "metadata": {
        "id": "HPGJyrpo7N2i",
        "colab_type": "text"
      },
      "source": [
        "### Zig\n",
        "\n",
        "Single rotation to the right. We do zig rotation on node $x$ if $x$ is a left child and $x$ does not have a grandparent (i.e. x’s parent is a root node). To make the zig rotation, we rotate x’s parent to the right.\n",
        "\n",
        "<center><img src=\"https://algorithmtutor.com/images/SplayZig.png\" height=300 width=600/> </center>"
      ]
    },
    {
      "cell_type": "markdown",
      "metadata": {
        "id": "CW5qNzqk7N2j",
        "colab_type": "text"
      },
      "source": [
        "### Zag\n",
        "\n",
        "Single rotation to the left. We do zig rotation on node $x$ if $x$ is a right child and $x$ does not have a grandparent (i.e. x’s parent is a root node). To make the zig rotation, we rotate x’s parent to the left.\n",
        "\n",
        "<center><img src=\"https://algorithmtutor.com/images/SplayZag.png\" height=300 width=600/> </center>"
      ]
    },
    {
      "cell_type": "markdown",
      "metadata": {
        "id": "8IPCXy5F7N2k",
        "colab_type": "text"
      },
      "source": [
        "### Zig-Zig\n",
        "\n",
        "Zig-Zig is a double rotation. We do a zig-zig rotation on $x$ when x is a left child and x’s parent node is also a left child. The zig-zig rotation is done by rotating x’s grandparent node to the right followed by right rotation at x’s parent node.\n",
        "\n",
        "<center><img src=\"https://algorithmtutor.com/images/SplayZigZig.png\" height=400 width=800/> </center>"
      ]
    },
    {
      "cell_type": "markdown",
      "metadata": {
        "id": "-tQgeyyj7N2l",
        "colab_type": "text"
      },
      "source": [
        "### Zag-Zag\n",
        "\n",
        "Zag-Zag rotation is a mirror of zig-zig rotation. We do zag-zag rotation on $x$ if $x$ is a right child and x’s parent is also a right child. To make the zag-zag rotation, we first do a left rotation at x’s grandparent and then do the left rotation at x’s parent node.\n",
        "\n",
        "<center><img src=\"https://algorithmtutor.com/images/SplayZagZag.png\" height=400 width=800/> </center>"
      ]
    },
    {
      "cell_type": "markdown",
      "metadata": {
        "id": "xfeGjMVV7N2l",
        "colab_type": "text"
      },
      "source": [
        "### Zig-Zag\n",
        "\n",
        "Zig-zag rotation is also a double rotation. We perform zig-zag rotation on x when $x$ is a right child and x’s parent is a left child. Zig-zag rotation is done by doing a left rotation at x’s parent node followed by right rotating x grandparent (new parent) node.\n",
        "\n",
        "<center><img src=\"https://algorithmtutor.com/images/SplayZigZag.png\" height=400 width=800/> </center>"
      ]
    },
    {
      "cell_type": "markdown",
      "metadata": {
        "id": "2xmgXDuL7N2m",
        "colab_type": "text"
      },
      "source": [
        "### Zag-Zig\n",
        "\n",
        "The last rotation is the zag-zig rotation. It is a mirror of zig-zag rotation. To do zag-zig rotation on node $x$, we do the right rotation at x’s parent node and left rotation at x grandparent (new parent) node.\n",
        "\n",
        "<center><img src=\"https://algorithmtutor.com/images/SplayZagZig.png\" height=400 width=800/> </center>"
      ]
    },
    {
      "cell_type": "markdown",
      "metadata": {
        "id": "W1jJ-ZBs7N2m",
        "colab_type": "text"
      },
      "source": [
        ""
      ]
    },
    {
      "cell_type": "code",
      "metadata": {
        "id": "GmPpKj7U7N2n",
        "colab_type": "code",
        "colab": {}
      },
      "source": [
        "# A splay tree class\n",
        "# Before any insert, find, or remove we do a splay on the key to move\n",
        "# the node to the root\n",
        "class SplayTree(BST):\n",
        "    def __init__(self):\n",
        "        BST.__init__(self)\n",
        "    \n",
        "    # A recursive implementation of splay \n",
        "    # (so we don't need to keep parent nodes)\n",
        "    # It returns the new root of the tree originally rooted at the node\n",
        "    def splay(self, node, key):\n",
        "        if node is None:\n",
        "            return None\n",
        "        \n",
        "        # If the key is at the root, just return the node\n",
        "        if key == node.key:\n",
        "            return node\n",
        "        \n",
        "        # If the key is less than the key in the node, shift the left subtree\n",
        "        if key < node.key:\n",
        "            \n",
        "            # It's not in the left child, so just return the node\n",
        "            if node.leftChild() is None:\n",
        "                return node\n",
        "            \n",
        "            # If it's to the left of the left child, splay the left child's left child\n",
        "            # and rotate the node to the right to get it in position\n",
        "            if key < node.leftChild().key:\n",
        "                node.leftChild().setChildren(self.splay(node.leftChild().leftChild(), key),\n",
        "                                            node.leftChild().rightChild())\n",
        "                node = self._rotateRightAtNode(node)\n",
        "                \n",
        "            # If it's to the right of the left child, splay the left child's right child\n",
        "            # and rotate if necessary\n",
        "            elif key > node.leftChild().key:\n",
        "                node.leftChild().setChildren(node.leftChild().leftChild(),\n",
        "                                            self.splay(node.leftChild().rightChild(), key))\n",
        "                if not node.leftChild().rightChild() is None:\n",
        "                    node.setChildren(self._rotateLeftAtNode(node.leftChild()), node.rightChild())\n",
        "                    \n",
        "            # If you've got a left child, then lift it up; otherwise, return the node     \n",
        "            if not node.leftChild() is None:\n",
        "                return self._rotateRightAtNode(node)\n",
        "            \n",
        "            return node\n",
        "        \n",
        "        # And the right child case is symmetric\n",
        "        elif key > node.key:\n",
        "            \n",
        "            if node.rightChild() is None:\n",
        "                return node\n",
        "            \n",
        "            if key < node.rightChild().key:\n",
        "                node.rightChild().setChildren(self.splay(node.rightChild().leftChild(), key),\n",
        "                                            node.rightChild().rightChild())\n",
        "                \n",
        "                if not node.rightChild().leftChild() is None:\n",
        "                    node.setChildren(node.leftChild(), self._rotateRightAtNode(node.rightChild()))\n",
        "                    \n",
        "            elif key > node.rightChild().key:\n",
        "                node.rightChild().setChildren(node.rightChild().leftChild(),\n",
        "                                            self.splay(node.rightChild().rightChild(), key))\n",
        "                \n",
        "                node = self._rotateLeftAtNode(node)\n",
        "                \n",
        "            if not node.rightChild() is None:\n",
        "                return self._rotateLeftAtNode(node)\n",
        "            \n",
        "            return node\n",
        "    \n",
        "    def insert(self, key, value=None):\n",
        "        # If the root is empty, then this is the new root node\n",
        "        if self.root is None:\n",
        "            self.root = BinaryTree(key, value)\n",
        "            return self\n",
        "        # Do a splay to get the key to the root\n",
        "        self.root = self.splay(self.root, key)\n",
        "        # If the key is already there, just change the value\n",
        "        if key == self.root.key:\n",
        "            self.root.value = value\n",
        "            return\n",
        "        # Insert it in the proper place as either the new right or left child of the root\n",
        "        node = BinaryTree(key, value)\n",
        "        if key < self.root.key:\n",
        "            node.setChildren(self.root.leftChild(), self.root)\n",
        "            self.root.setChildren(None, self.root.rightChild())\n",
        "        else:\n",
        "            node.setChildren(self.root, self.root.rightChild())\n",
        "            self.root.setChildren(self.root.leftChild(), None)\n",
        "        # The node we inserted is now the new root of the tree\n",
        "        self.root = node\n",
        "        return self\n",
        "    \n",
        "    def remove(self, key):\n",
        "        # Do a splay\n",
        "        self.root = self.splay(self.root, key)\n",
        "        # Now the key should be at the root.  If it's not, the node doesn't exist\n",
        "        if self.root.key != key:\n",
        "            return self\n",
        "        # If the left child is null, then just set the root to be the right child\n",
        "        if self.root.leftChild() is None:\n",
        "            self.root = self.root.rightChild()\n",
        "        else:\n",
        "            # Otherwise, use splay again so that we can rebuild the tree\n",
        "            new_right = self.root.rightChild()\n",
        "            # Perform a splay on the left child\n",
        "            self.root = self.splay(self.root.leftChild(), key)\n",
        "            # Now the right child of the root is empty\n",
        "            assert self.root.rightChild() is None\n",
        "            self.root.setChildren(self.root.leftChild(), new_right)\n",
        "        return self\n",
        "    \n",
        "    def find(self, key):\n",
        "        # Do a splay\n",
        "        self.root = self.splay(self.root, key)\n",
        "        # The node should be at the root\n",
        "        if self.root.key == key:\n",
        "            return self.root.value\n",
        "        return None"
      ],
      "execution_count": 0,
      "outputs": []
    },
    {
      "cell_type": "code",
      "metadata": {
        "id": "k24J5tDV7N2t",
        "colab_type": "code",
        "colab": {}
      },
      "source": [
        "stest = SplayTree().insert(15, \"b\").insert(20, \"c\").insert(70, \"d\").insert(3, \"e\").insert(50, \"x\").insert(10, \"f\")\n",
        "stest.prettyPrint()"
      ],
      "execution_count": 0,
      "outputs": []
    },
    {
      "cell_type": "code",
      "metadata": {
        "id": "fP7M5kRD7N2v",
        "colab_type": "code",
        "colab": {}
      },
      "source": [
        "print(stest.find(20))\n",
        "stest.prettyPrint()"
      ],
      "execution_count": 0,
      "outputs": []
    },
    {
      "cell_type": "code",
      "metadata": {
        "id": "0IwmF28E7N2y",
        "colab_type": "code",
        "colab": {}
      },
      "source": [
        "stest.remove(70)\n",
        "stest.prettyPrint()"
      ],
      "execution_count": 0,
      "outputs": []
    },
    {
      "cell_type": "code",
      "metadata": {
        "id": "w-cKi_Td7N21",
        "colab_type": "code",
        "colab": {}
      },
      "source": [
        "stest.remove(20)\n",
        "stest.prettyPrint()"
      ],
      "execution_count": 0,
      "outputs": []
    },
    {
      "cell_type": "code",
      "metadata": {
        "id": "-OikQ9q17N27",
        "colab_type": "code",
        "colab": {}
      },
      "source": [
        "s = SplayTree()\n",
        "for i in range(30):\n",
        "    s.insert(i)\n",
        "\n",
        "for i in range(30):\n",
        "    s.remove(i)\n",
        "    s.display(caption = \"Splay Tree of Height \" + str(s.height()))\n"
      ],
      "execution_count": 0,
      "outputs": []
    },
    {
      "cell_type": "code",
      "metadata": {
        "id": "AHrJoAMf7N3E",
        "colab_type": "code",
        "colab": {}
      },
      "source": [
        "s = SplayTree()\n",
        "for i in range(30):\n",
        "    s.insert(i)\n",
        "\n",
        "s.find(1)\n",
        "s.display()\n",
        "\n",
        "s.find(10)\n",
        "s.display()\n",
        "\n",
        "s.find(26)\n",
        "s.display()"
      ],
      "execution_count": 0,
      "outputs": []
    },
    {
      "cell_type": "code",
      "metadata": {
        "id": "6YP2AFA27N3I",
        "colab_type": "code",
        "colab": {}
      },
      "source": [
        ""
      ],
      "execution_count": 0,
      "outputs": []
    }
  ]
}