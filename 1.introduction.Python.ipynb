{
 "cells": [
  {
   "cell_type": "markdown",
   "metadata": {},
   "source": [
    "<h1> Textbook \n",
    "<a href='http://interactivepython.org/runestone/static/pythonds/index.html'> Problem Solving with Algorithms and Data Structures using Python  </a> </h1>"
   ]
  },
  {
   "cell_type": "markdown",
   "metadata": {},
   "source": [
    "<h2> <a href='http://interactivepython.org/runestone/static/pythonds/Introduction/toctree.html'> Chapter 1, Introduction  </a> </h2>\n",
    "<ul>\n",
    "<li>\n",
    "    <h3> \n",
    "    <a href='\n",
    "http://interactivepython.org/runestone/static/pythonds/Introduction/WhyStudyDataStructuresandAbstractDataTypes.html\n",
    "    '> 1.5 Data Structures and Abstract Data Types (ADT)  </a> </h3>  </l1>\n",
    "<li>   \n",
    "<h3> \n",
    "    <a href='\n",
    "http://interactivepython.org/runestone/static/pythonds/Introduction/ReviewofBasicPython.html\n",
    "    '> \n",
    "1.7 Review of Basic Python  </a> </h3>    \n",
    "    </li>\n",
    "\n",
    "</ul>"
   ]
  },
  {
   "cell_type": "markdown",
   "metadata": {},
   "source": [
    "<h2> <a href='http://interactivepython.org/runestone/static/pythonds/Introduction/WhatIsProgramming.html'>  What is Programming  </a> </h2>\n",
    "<ul>\n",
    "<li>Programming is the process of taking an algorithm and encoding it into a notation, a programming language, so that it can be executed by a computer. \n",
    "    </li>\n",
    "<li> Although many programming languages and many different types of computers exist, the important first step is the need to have the solution.   </li> \n",
    "<li> Without an algorithm there can be no program.. </li> \n",
    "</ul>\n",
    "\n",
    "http://interactivepython.org/runestone/static/pythonds/Introduction/WhatIsProgramming.html"
   ]
  },
  {
   "cell_type": "markdown",
   "metadata": {},
   "source": [
    "<h2> Abstract Data Type  (ADT) </h2>\n",
    "<ul>\n",
    "<li> A logical description of how we view the data and the operations that are allowed without regard to how they will be implemented. \n",
    "<li> Focus on what the data is representing, not  how it will eventually be constructed.  </li> \n",
    "<li> By providing this level of abstraction, we  encapsulate the details of the implementation and  hide them from the user’s view (information hiding). </li> \n",
    "</ul>"
   ]
  },
  {
   "cell_type": "markdown",
   "metadata": {},
   "source": [
    "<h2> Data Structure </h2>\n",
    "<ul>\n",
    "<li>\n",
    "        the implementation of an abstract data type.\n",
    "    </li>\n",
    "    </ul>"
   ]
  },
  {
   "cell_type": "markdown",
   "metadata": {},
   "source": [
    "<div class=\"image123\">\n",
    "    <div style=\"float:left;margin-right:55px;\">\n",
    "        <img src=\"images/ADT.png\" height=\"400\" width=\"400\"  />\n",
    "        <p style=\"text-align:center;\"> Abstractions allows us to focus on the “big picture” without getting lost in the details.  </p>\n",
    "    </div>\n",
    "</div>"
   ]
  },
  {
   "cell_type": "code",
   "execution_count": null,
   "metadata": {},
   "outputs": [],
   "source": [
    "print(\"Algorithms and Data Structures\")"
   ]
  },
  {
   "cell_type": "markdown",
   "metadata": {},
   "source": [
    "<h1> 1.7 Review of Basic Python </h1>\n",
    "<h3> Built-in Atomic Data Types</h3>\n",
    "<ul>\n",
    "    <li>\n",
    "        integer\n",
    "    </li>\n",
    "    <li>\n",
    "        float\n",
    "    </li>\n",
    "    <li>\n",
    "        boolean\n",
    "    </li>    \n",
    "\n",
    "</ul>"
   ]
  },
  {
   "cell_type": "code",
   "execution_count": 4,
   "metadata": {},
   "outputs": [
    {
     "name": "stdout",
     "output_type": "stream",
     "text": [
      "14\n",
      "20\n",
      "1024\n",
      "2.0\n",
      "2.3333333333333335\n",
      "2\n",
      "1\n",
      "0.5\n",
      "0\n",
      "3\n",
      "1073741824\n",
      "1.073741824\n",
      "-2\n"
     ]
    }
   ],
   "source": [
    "\n",
    "print(7/3)\n",
    "print(7//3)\n",
    "print(7%3)\n",
    "print(3/6)      # true div operator\n",
    "print(3//6)     # interger div operator\n",
    "print(3%6)      # modulus operator\n",
    "print(2**30)   # Definition of 1 G\n",
    "print(2**30/(10**9))   # 1G = 1.07 billions\n",
    "\n",
    "print ( (-3)//2 )"
   ]
  },
  {
   "cell_type": "code",
   "execution_count": 4,
   "metadata": {},
   "outputs": [
    {
     "data": {
      "text/plain": [
       "True"
      ]
     },
     "execution_count": 4,
     "metadata": {},
     "output_type": "execute_result"
    }
   ],
   "source": [
    ">>> True\n",
    "True\n",
    ">>> False\n",
    "False\n",
    ">>> False or True\n",
    "True\n",
    ">>> not (False or True)\n",
    "False\n",
    ">>> True and True\n",
    "True"
   ]
  },
  {
   "cell_type": "raw",
   "metadata": {},
   "source": [
    "Operation Name        Operator      Explanation\n",
    "less than             <<            Less than operator\n",
    "greater than          >>            Greater than operator\n",
    "less than or equal    <=            Less than or equal to operator\n",
    "greater than or equal >=            Greater than or equal to operator\n",
    "equal                 ==            Equality operator\n",
    "not equal             !=            Not equal operator\n",
    "logical and           and           Both operands True for result to be True\n",
    "logical or            or            One or the other operand is True for the result to be True\n",
    "logical not           not           Negates the truth value, False becomes True, True becomes False"
   ]
  },
  {
   "cell_type": "code",
   "execution_count": 13,
   "metadata": {},
   "outputs": [
    {
     "name": "stdout",
     "output_type": "stream",
     "text": [
      "False\n",
      "True\n",
      "True\n"
     ]
    }
   ],
   "source": [
    "print(5==10)\n",
    "print(10 > 5)\n",
    "print((5 >= 1) and (5 <= 10))"
   ]
  },
  {
   "cell_type": "code",
   "execution_count": 6,
   "metadata": {},
   "outputs": [
    {
     "name": "stdout",
     "output_type": "stream",
     "text": [
      "0\n",
      "1\n",
      "True\n"
     ]
    }
   ],
   "source": [
    "# The variable will hold a reference to a piece of data and not the data itself. \n",
    "theSum = 0\n",
    "print (theSum )\n",
    "theSum = theSum + 1\n",
    "print (theSum )\n",
    "theSum = True\n",
    "print (theSum )"
   ]
  },
  {
   "cell_type": "code",
   "execution_count": 14,
   "metadata": {},
   "outputs": [
    {
     "data": {
      "text/plain": [
       "True"
      ]
     },
     "execution_count": 14,
     "metadata": {},
     "output_type": "execute_result"
    }
   ],
   "source": [
    "x = 100022; y = 100000\n",
    "x > y  or  not x >y     # True or FAlse"
   ]
  },
  {
   "cell_type": "markdown",
   "metadata": {},
   "source": [
    "<div class=\"image123\">\n",
    "    <div style=\"float:left;margin-left:155px;\">\n",
    "<img src=\"images/Figure.1.png\" alt=\"Figure.1\" border=\"0\" width=\"200\" /> \n",
    "        <p style=\"text-align:center;\"> The same variable can refer to many different types of data.  </p>\n",
    "    </div>\n",
    "</div>\n",
    "\n"
   ]
  },
  {
   "cell_type": "markdown",
   "metadata": {},
   "source": [
    "<h3> Built-in Collection Data Types</h3>\n",
    "<ul>\n",
    "    <li>\n",
    "        list\n",
    "    </li>\n",
    "    <li>\n",
    "        tuple\n",
    "    </li>\n",
    "    <li>\n",
    "        string\n",
    "    </li>    \n",
    "    <li>\n",
    "        dictionary\n",
    "    </li>\n",
    "    <li>\n",
    "        set \n",
    "    </li>\n",
    "</ul>"
   ]
  },
  {
   "cell_type": "code",
   "execution_count": null,
   "metadata": {},
   "outputs": [],
   "source": []
  },
  {
   "cell_type": "markdown",
   "metadata": {},
   "source": [
    "<h2> list:  an ordered collection of zero or more references to Python data objects. <h2> \n",
    "* heterogeneous\n",
    "* Sequentially ordered\n",
    "* Mutable"
   ]
  },
  {
   "cell_type": "code",
   "execution_count": 16,
   "metadata": {},
   "outputs": [
    {
     "data": {
      "text/plain": [
       "[1, 3, True, 6.5]"
      ]
     },
     "execution_count": 16,
     "metadata": {},
     "output_type": "execute_result"
    }
   ],
   "source": [
    "[1,3,True,6.5]\n",
    "myList = [1,3,True,6.5]\n",
    "myList"
   ]
  },
  {
   "cell_type": "raw",
   "metadata": {},
   "source": [
    "Operation Name  Operator    Explanation\n",
    "indexing        [ ]         Access an element of a sequence\n",
    "concatenation   +           Combine sequences together\n",
    "repetition      *           Concatenate a repeated number of times\n",
    "membership      in          Ask whether an item is in a sequence\n",
    "length          len         Ask the number of items in the sequence\n",
    "slicing         [ : ]       Extract a part of a sequence"
   ]
  },
  {
   "cell_type": "code",
   "execution_count": 25,
   "metadata": {},
   "outputs": [
    {
     "data": {
      "text/plain": [
       "True"
      ]
     },
     "execution_count": 25,
     "metadata": {},
     "output_type": "execute_result"
    }
   ],
   "source": [
    "A = [0],\n",
    "len (A)\n",
    "\n",
    "i=1\n",
    "n = len (A)\n",
    "A[-i ] == A[ n - i ] # True or False"
   ]
  },
  {
   "cell_type": "code",
   "execution_count": 3,
   "metadata": {},
   "outputs": [
    {
     "name": "stdout",
     "output_type": "stream",
     "text": [
      "[[1, 2, 3, 4], [1, 2, 3, 4], [1, 2, 3, 4]]\n",
      "[[1, 2, 45, 4], [1, 2, 45, 4], [1, 2, 45, 4]]\n",
      "[[1, 2, 45, 4], [1, 2, 45, 4], 33]\n"
     ]
    },
    {
     "data": {
      "text/plain": [
       "[[1, 2, 0, 4], [1, 2, 0, 4], 33]"
      ]
     },
     "execution_count": 3,
     "metadata": {},
     "output_type": "execute_result"
    }
   ],
   "source": [
    "myList = [1,2,3,4]\n",
    "A = [myList]*3   # Repetition of References (intro_3)\n",
    "print(A)\n",
    "myList[2]=45     # a change to one element of myList shows up in all three occurrences in A.\n",
    "print(A)      \n",
    "A[2] = 33        \n",
    "print(A)\n",
    "myList[2] = 0 \n",
    "A"
   ]
  },
  {
   "cell_type": "code",
   "execution_count": 9,
   "metadata": {},
   "outputs": [
    {
     "data": {
      "text/plain": [
       "[1, 2, 3, 4, 1, 2, 3, 4, 1, 2, 3, 4]"
      ]
     },
     "execution_count": 9,
     "metadata": {},
     "output_type": "execute_result"
    }
   ],
   "source": [
    "myList = [1,2,3,4]\n",
    "A = myList*3\n",
    "myList[2] = 0 \n",
    "A"
   ]
  },
  {
   "cell_type": "raw",
   "metadata": {},
   "source": [
    "Table 3\n",
    "Lists support a number of methods that will be used to build data structures.\n",
    "\n",
    "Method Name       Use                         Explanation\n",
    "append            alist.append(item)          Adds a new item to the end of a list\n",
    "insert            alist.insert(i,item)        Inserts an item at the ith position in a list\n",
    "pop               alist.pop()                 Removes and returns the last item in a list\n",
    "pop               alist.pop(i)                Removes and returns the ith item in a list\n",
    "sort              alist.sort()                Modifies a list to be sorted\n",
    "reverse           alist.reverse()             Modifies a list to be in reverse order\n",
    "del               del alist[i]                Deletes the item in the ith position\n",
    "index             alist.index(item)           Returns the index of the first occurrence of item\n",
    "count             alist.count(item)           Returns the number of occurrences of item\n",
    "remove            alist.remove(item)          Removes the first occurrence of item"
   ]
  },
  {
   "cell_type": "code",
   "execution_count": 33,
   "metadata": {},
   "outputs": [
    {
     "name": "stdout",
     "output_type": "stream",
     "text": [
      "[1024, 3, True, 6.5, False] [1024, 3, True, 6.5, False]\n"
     ]
    },
    {
     "data": {
      "text/plain": [
       "True"
      ]
     },
     "execution_count": 33,
     "metadata": {},
     "output_type": "execute_result"
    }
   ],
   "source": [
    "A = [1024, 3, True, 6.5]\n",
    "B = A + [False]\n",
    "A.append(False)\n",
    "\n",
    "print (A, B)\n",
    "A==B"
   ]
  },
  {
   "cell_type": "code",
   "execution_count": 11,
   "metadata": {},
   "outputs": [
    {
     "name": "stdout",
     "output_type": "stream",
     "text": [
      "[1024, 3, True, 6.5, False]\n",
      "[1024, 3, 4.5, True, 6.5, False]\n",
      "False\n",
      "[1024, 3, 4.5, True, 6.5]\n",
      "3\n",
      "[1024, 4.5, True, 6.5]\n",
      "[1024, 4.5, 6.5]\n",
      "[4.5, 6.5, 1024]\n",
      "[1024, 6.5, 4.5]\n"
     ]
    }
   ],
   "source": [
    "myList = [1024, 3, True, 6.5]\n",
    "myList.append(False)\n",
    "\n",
    "\n",
    "\n",
    "print(myList)\n",
    "myList.insert(2,4.5)         # “dot” notation enables an object to invoke a method.\n",
    "print(myList)\n",
    "print(myList.pop())\n",
    "print(myList)\n",
    "print(myList.pop(1))\n",
    "print(myList)\n",
    "myList.pop(2)\n",
    "print(myList)\n",
    "myList.sort()\n",
    "print(myList)\n",
    "myList.reverse()\n",
    "print(myList)\n"
   ]
  },
  {
   "cell_type": "code",
   "execution_count": 12,
   "metadata": {},
   "outputs": [
    {
     "name": "stdout",
     "output_type": "stream",
     "text": [
      "1\n",
      "2\n",
      "0\n",
      "[1024, 4.5]\n",
      "[4.5]\n"
     ]
    }
   ],
   "source": [
    "myList = [1024, 6.5, 4.5]\n",
    "print(myList.count(6.5)) # frequency of 6.5, which 1\n",
    "print(myList.index(4.5)) # 2\n",
    "myList.remove(6.5)\n",
    "del myList[1]\n",
    "\n",
    "\n",
    "print(myList.count(6.5))\n",
    "print(myList)\n",
    "print(myList)"
   ]
  },
  {
   "cell_type": "code",
   "execution_count": 11,
   "metadata": {},
   "outputs": [
    {
     "data": {
      "text/plain": [
       "75"
      ]
     },
     "execution_count": 11,
     "metadata": {},
     "output_type": "execute_result"
    }
   ],
   "source": [
    "(54).__add__(21)  # same as 54+21"
   ]
  },
  {
   "cell_type": "code",
   "execution_count": 5,
   "metadata": {},
   "outputs": [
    {
     "name": "stdout",
     "output_type": "stream",
     "text": [
      "range(0, 10)\n"
     ]
    }
   ],
   "source": [
    "range(10)  # The range object represents a sequence of integers\n",
    "print ( range(10))"
   ]
  },
  {
   "cell_type": "code",
   "execution_count": 7,
   "metadata": {},
   "outputs": [
    {
     "name": "stdout",
     "output_type": "stream",
     "text": [
      "list(range(10))  [0, 1, 2, 3, 4, 5, 6, 7, 8, 9]\n",
      "range(5,10) =  range(5, 10)\n",
      "list(range(5,10)) =  [5, 6, 7, 8, 9]\n",
      "list(range(5,10,2)) = [5, 7, 9]\n",
      "list(range(10,1,-1)) =  [10, 9, 8, 7, 6, 5, 4, 3, 2]\n"
     ]
    }
   ],
   "source": [
    "print ( \"list(range(10)) \", list(range(10)) )  # convert the range object to List\n",
    "print (\"range(5,10) = \", range(5,10) )\n",
    "print (\"list(range(5,10)) = \", list(range(5,10)))   # convert the range object to List\n",
    "print ( \"list(range(5,10,2)) \", list(range(5,10,2)) )\n",
    "print ( \"list(range(10,1,-1)) = \", list(range(10,1,-1)) )"
   ]
  },
  {
   "cell_type": "markdown",
   "metadata": {},
   "source": [
    "<h1> Strings </h1>"
   ]
  },
  {
   "cell_type": "markdown",
   "metadata": {},
   "source": [
    "<h3>Strings are sequential collections of zero or more characters, including  letters, numbers and other symbols.</h3>"
   ]
  },
  {
   "cell_type": "markdown",
   "metadata": {},
   "source": [
    "<h4>Literal string values are differentiated from identifiers by using quotation marks (either single or double).</h4>"
   ]
  },
  {
   "cell_type": "raw",
   "metadata": {},
   "source": [
    ">>> \"David\"\n",
    "'David'\n",
    ">>> myName = \"David\"\n",
    ">>> myName[3]\n",
    "'i'\n",
    ">>> myName*2\n",
    "'DavidDavid'\n",
    ">>> len(myName)\n",
    "5\n",
    ">>>"
   ]
  },
  {
   "cell_type": "markdown",
   "metadata": {},
   "source": [
    "#### String is sequence"
   ]
  },
  {
   "cell_type": "raw",
   "metadata": {},
   "source": [
    "\n",
    ">>> myName\n",
    "'David'\n",
    ">>> myName.upper()\n",
    "'DAVID'\n",
    ">>> myName.center(10)\n",
    "'  David   '\n",
    ">>> myName.find('v')\n",
    "2\n",
    ">>> myName.split('v')\n",
    "['Da', 'id']"
   ]
  },
  {
   "cell_type": "raw",
   "metadata": {},
   "source": [
    "Method Name  Use                   Explanation\n",
    "center       astring.center(w)     Returns a string centered in a field of size w\n",
    "count        astring.count(item)   Returns the number of occurrences of item in the string\n",
    "ljust        astring.ljust(w)      Returns a string left-justified in a field of size w\n",
    "lower        astring.lower()       Returns a string in all lowercase\n",
    "rjust        astring.rjust(w)      Returns a string right-justified in a field of size w\n",
    "find         astring.find(item)    Returns the index of the first occurrence of item \n",
    "split        astring.split(schar)  Splits a string into substrings at schar"
   ]
  },
  {
   "cell_type": "code",
   "execution_count": 44,
   "metadata": {},
   "outputs": [
    {
     "name": "stdout",
     "output_type": "stream",
     "text": [
      "                                              abcdefg                                               \n",
      "ABCDEFG\n"
     ]
    },
    {
     "data": {
      "text/plain": [
       "'abcdefg'"
      ]
     },
     "execution_count": 44,
     "metadata": {},
     "output_type": "execute_result"
    }
   ],
   "source": [
    "astring = \"abcdefg\" ; \n",
    "print ( astring.center  (100) )\n",
    "\n",
    "print ( astring.upper () )\n",
    "astring"
   ]
  },
  {
   "cell_type": "markdown",
   "metadata": {},
   "source": [
    "#### String is immutable"
   ]
  },
  {
   "cell_type": "code",
   "execution_count": 14,
   "metadata": {},
   "outputs": [
    {
     "name": "stdout",
     "output_type": "stream",
     "text": [
      "[1024, 3, True, 6.5]\n",
      "Xavid\n"
     ]
    }
   ],
   "source": [
    "myList = [1, 3, True, 6.5]\n",
    "myList[0]=2**10; print (myList)   # [1024, 3, True, 6.5]\n",
    "myName = 'David'\n",
    "# myName[0]='X'       # object doesn't support item assignment\n",
    "myName = 'X' + myName[1:]\n",
    "print (myName)"
   ]
  },
  {
   "cell_type": "markdown",
   "metadata": {},
   "source": [
    "#### Tuples are heterogeneous sequences of data list lists, but is immutable, like a string. "
   ]
  },
  {
   "cell_type": "raw",
   "metadata": {},
   "source": [
    ">>> myTuple = (2,True,4.96)\n",
    ">>> myTuple\n",
    "(2, True, 4.96)\n",
    ">>> len(myTuple)\n",
    "3\n",
    ">>> myTuple[0]\n",
    "2\n",
    ">>> myTuple * 3\n",
    "(2, True, 4.96, 2, True, 4.96, 2, True, 4.96)\n",
    ">>> myTuple[0:2]\n",
    "(2, True)\n",
    ">>>"
   ]
  },
  {
   "cell_type": "raw",
   "metadata": {},
   "source": [
    ">>> myTuple[1]=False\n",
    "\n",
    "Traceback (most recent call last):\n",
    "  File \"<pyshell#137>\", line 1, in -toplevel-\n",
    "    myTuple[1]=False\n",
    "TypeError: object doesn't support item assignment\n",
    ">>>"
   ]
  },
  {
   "cell_type": "markdown",
   "metadata": {},
   "source": [
    "<h3> A set is an unordered collection of zero or more immutable Python data objects. </h3>\n",
    "<ul>\n",
    "<li>  \n",
    "    Sets do not allow duplicates and are written as comma-delimited values enclosed in curly braces. \n",
    "</li>   \n",
    "<li>\n",
    "    The empty set is represented by set(). \n",
    "</li>  \n",
    "<li>   \n",
    "    Sets are heterogeneous, and the collection can be assigned to a variable as below.\n",
    "</li>  \n",
    "</ul>"
   ]
  },
  {
   "cell_type": "code",
   "execution_count": 17,
   "metadata": {},
   "outputs": [],
   "source": [
    "mySet = {3,6,\"cat\",4.5,False}   # printed out as {False, 4.5, 3, 6, 'cat'}\n",
    "# mySet[0] = 0                  # error"
   ]
  },
  {
   "cell_type": "raw",
   "metadata": {},
   "source": [
    "Operation Name      Operator              Explanation\n",
    "membership          in                    Set membership\n",
    "length              len                   Returns the cardinality of the set\n",
    "|                   aset | otherset       Returns a new set with all elements from both sets\n",
    "&                   aset & otherset       Returns a new set with only those elements common to both sets\n",
    "-                   aset - otherset       Returns a new set with all items from the first set not in second\n",
    "<=                  aset <= otherset       Asks whether all elements of the first set are in the second"
   ]
  },
  {
   "cell_type": "raw",
   "metadata": {},
   "source": [
    ">>> mySet\n",
    "{False, 4.5, 3, 6, 'cat'}\n",
    ">>> len(mySet)\n",
    "5\n",
    ">>> False in mySet\n",
    "True\n",
    ">>> \"dog\" in mySet\n",
    "False\n",
    ">>>"
   ]
  },
  {
   "cell_type": "raw",
   "metadata": {},
   "source": [
    "Method Name       Use                           Explanation\n",
    "union             aset.union(otherset)          Returns a new set with all elements from both sets\n",
    "intersection      aset.intersection(otherset)   Returns a new set with only those elements common to both sets\n",
    "difference        aset.difference(otherset)     Returns a new set with all items from first set not in second\n",
    "issubset          aset.issubset(otherset)       Asks whether all elements of one set are in the other\n",
    "add               aset.add(item)                Adds item to the set\n",
    "remove            aset.remove(item)             Removes item from the set\n",
    "pop               aset.pop()                    Removes an arbitrary element from the set\n",
    "clear             aset.clear()                  Removes all elements from the set"
   ]
  },
  {
   "cell_type": "raw",
   "metadata": {},
   "source": [
    ">>> mySet\n",
    "{False, 4.5, 3, 6, 'cat'}\n",
    ">>> yourSet = {99,3,100}\n",
    ">>> mySet.union(yourSet)\n",
    "{False, 4.5, 3, 100, 6, 'cat', 99}\n",
    ">>> mySet | yourSet\n",
    "{False, 4.5, 3, 100, 6, 'cat', 99}\n",
    ">>> mySet.intersection(yourSet)\n",
    "{3}\n",
    ">>> mySet & yourSet\n",
    "{3}\n",
    ">>> mySet.difference(yourSet)\n",
    "{False, 4.5, 6, 'cat'}\n",
    ">>> mySet - yourSet\n",
    "{False, 4.5, 6, 'cat'}\n",
    ">>> {3,100}.issubset(yourSet)\n",
    "True\n",
    ">>> {3,100}<=yourSet\n",
    "True\n",
    ">>> mySet.add(\"house\")\n",
    ">>> mySet\n",
    "{False, 4.5, 3, 6, 'house', 'cat'}\n",
    ">>> mySet.remove(4.5)\n",
    ">>> mySet\n",
    "{False, 3, 6, 'house', 'cat'}\n",
    ">>> mySet.pop()\n",
    "False\n",
    ">>> mySet\n",
    "{3, 6, 'house', 'cat'}\n",
    ">>> mySet.clear()\n",
    ">>> mySet\n",
    "set()\n",
    ">>>"
   ]
  },
  {
   "cell_type": "markdown",
   "metadata": {},
   "source": [
    "<h4> Dictionary </h4>"
   ]
  },
  {
   "cell_type": "raw",
   "metadata": {},
   "source": [
    "# Dictionaries are collections of associated pairs of items where each pair consists of a key and a value. \n",
    "# This key-value pair is typically written as key:value.\n",
    ">>> capitals = {'Iowa':'DesMoines','Wisconsin':'Madison'}\n",
    ">>> capitals\n",
    "{'Wisconsin': 'Madison', 'Iowa': 'DesMoines'}\n",
    ">>>"
   ]
  },
  {
   "cell_type": "code",
   "execution_count": 14,
   "metadata": {},
   "outputs": [
    {
     "name": "stdout",
     "output_type": "stream",
     "text": [
      "DesMoines\n",
      "{'Iowa': 'DesMoines', 'Wisconsin': 'Madison', 'Utah': 'SaltLakeCity'}\n",
      "4\n",
      "DesMoines  is the capital of  Iowa\n",
      "Madison  is the capital of  Wisconsin\n",
      "SaltLakeCity  is the capital of  Utah\n",
      "Sacramento  is the capital of  California\n"
     ]
    }
   ],
   "source": [
    "capitals = {'Iowa':'DesMoines','Wisconsin':'Madison'}\n",
    "print(capitals['Iowa'])\n",
    "capitals['Utah']='SaltLakeCity'\n",
    "print(capitals)\n",
    "capitals['California']='Sacramento'\n",
    "print(len(capitals))\n",
    "for k in capitals:\n",
    "   print(capitals[k],\" is the capital of \", k)"
   ]
  },
  {
   "cell_type": "raw",
   "metadata": {},
   "source": [
    "Operator      Use                  Explanation\n",
    "[]            myDict[k]            Returns the value associated with k, otherwise its an error\n",
    "in            key in adict         Returns True if key is in the dictionary, False otherwise\n",
    "del           del adict[key]       Removes the entry from the dictionary"
   ]
  },
  {
   "cell_type": "raw",
   "metadata": {},
   "source": [
    "Method      Name              Use Explanation\n",
    "keys        adict.keys()      Returns the keys of the dictionary in a dict_keys object\n",
    "values      adict.values()    Returns the values of the dictionary in a dict_values object\n",
    "items       adict.items()     Returns the key-value pairs in a dict_items object\n",
    "get         adict.get(k)      Returns the value associated with k, None otherwise\n",
    "get         adict.get(k,alt)  Returns the value associated with k, alt otherwise"
   ]
  },
  {
   "cell_type": "raw",
   "metadata": {},
   "source": [
    ">>> phoneext={'david':1410,'brad':1137}\n",
    ">>> phoneext\n",
    "{'brad': 1137, 'david': 1410}\n",
    ">>> phoneext.keys()\n",
    "dict_keys(['brad', 'david'])\n",
    ">>> list(phoneext.keys())\n",
    "['brad', 'david']\n",
    ">>> phoneext.values()\n",
    "dict_values([1137, 1410])\n",
    ">>> list(phoneext.values())\n",
    "[1137, 1410]\n",
    ">>> phoneext.items()\n",
    "dict_items([('brad', 1137), ('david', 1410)])\n",
    ">>> list(phoneext.items())\n",
    "[('brad', 1137), ('david', 1410)]\n",
    ">>> phoneext.get(\"kent\")\n",
    ">>> phoneext.get(\"kent\",\"NO ENTRY\")\n",
    "'NO ENTRY'\n",
    ">>>"
   ]
  },
  {
   "cell_type": "code",
   "execution_count": 48,
   "metadata": {},
   "outputs": [
    {
     "ename": "KeyError",
     "evalue": "3",
     "output_type": "error",
     "traceback": [
      "\u001b[0;31m---------------------------------------------------------------------------\u001b[0m",
      "\u001b[0;31mKeyError\u001b[0m                                  Traceback (most recent call last)",
      "\u001b[0;32m<ipython-input-48-83b317dbeb39>\u001b[0m in \u001b[0;36m<module>\u001b[0;34m\u001b[0m\n\u001b[1;32m      1\u001b[0m \u001b[0md\u001b[0m \u001b[0;34m=\u001b[0m \u001b[0;34m{\u001b[0m  \u001b[0;36m0\u001b[0m\u001b[0;34m:\u001b[0m\u001b[0;34m\"zero\"\u001b[0m\u001b[0;34m,\u001b[0m \u001b[0;36m1\u001b[0m\u001b[0;34m:\u001b[0m \u001b[0;34m\"one\"\u001b[0m    \u001b[0;34m,\u001b[0m  \u001b[0;36m2\u001b[0m\u001b[0;34m:\u001b[0m\u001b[0;34m\"two\"\u001b[0m    \u001b[0;34m,\u001b[0m \u001b[0;34m}\u001b[0m\u001b[0;34m\u001b[0m\u001b[0;34m\u001b[0m\u001b[0m\n\u001b[1;32m      2\u001b[0m \u001b[0md\u001b[0m\u001b[0;34m[\u001b[0m\u001b[0;36m2\u001b[0m\u001b[0;34m]\u001b[0m \u001b[0;34m=\u001b[0m \u001b[0;34m\"Two\"\u001b[0m\u001b[0;34m\u001b[0m\u001b[0;34m\u001b[0m\u001b[0m\n\u001b[0;32m----> 3\u001b[0;31m \u001b[0mprint\u001b[0m \u001b[0;34m(\u001b[0m  \u001b[0md\u001b[0m\u001b[0;34m[\u001b[0m\u001b[0;36m3\u001b[0m\u001b[0;34m]\u001b[0m \u001b[0;34m)\u001b[0m\u001b[0;34m\u001b[0m\u001b[0;34m\u001b[0m\u001b[0m\n\u001b[0m",
      "\u001b[0;31mKeyError\u001b[0m: 3"
     ]
    }
   ],
   "source": [
    "d = {  0:\"zero\", 1: \"one\"    ,  2:\"two\"    , }\n",
    "d[2] = \"Two\"\n",
    "print (  d[3] )"
   ]
  },
  {
   "cell_type": "markdown",
   "metadata": {},
   "source": [
    "## 1.9. Input and Output"
   ]
  },
  {
   "cell_type": "code",
   "execution_count": 15,
   "metadata": {},
   "outputs": [
    {
     "name": "stdout",
     "output_type": "stream",
     "text": [
      "Please enter your name xxx\n",
      "Your name in all capitals is XXX and has length 3\n"
     ]
    }
   ],
   "source": [
    "aName = input(\"Please enter your name \")\n",
    "print(\"Your name in all capitals is\",aName.upper(),\n",
    "      \"and has length\", len(aName))"
   ]
  },
  {
   "cell_type": "markdown",
   "metadata": {},
   "source": [
    "### 1.9.1. String Formatting"
   ]
  },
  {
   "cell_type": "raw",
   "metadata": {},
   "source": [
    ">>> print(\"Hello\")\n",
    "Hello\n",
    ">>> print(\"Hello\",\"World\")\n",
    "Hello World\n",
    ">>> print(\"Hello\",\"World\", sep=\"***\")\n",
    "Hello***World\n",
    ">>> print(\"Hello\",\"World\", end=\"***\")\n",
    "Hello World***>>>"
   ]
  },
  {
   "cell_type": "code",
   "execution_count": 16,
   "metadata": {},
   "outputs": [
    {
     "name": "stdout",
     "output_type": "stream",
     "text": [
      "xxx is 33 years old.\n",
      "xxx is 33 years old.\n"
     ]
    }
   ],
   "source": [
    "age = 33\n",
    "print(aName, \"is\", age, \"years old.\")\n",
    "print(\"%s is %d years old.\" % (aName, age))\n"
   ]
  },
  {
   "cell_type": "markdown",
   "metadata": {},
   "source": [
    "#### formatting expression"
   ]
  },
  {
   "cell_type": "raw",
   "metadata": {},
   "source": [
    "Modifier   Example         Description\n",
    "number     %20d           Put the value in a field width of 20\n",
    "-          %-20d          Put the value in a field 20 characters wide, left-justified\n",
    "+          %+20d Put the  value in a field 20 characters wide, right-justified\n",
    "0          %020d Put the  value in a field 20 characters wide, fill in with leading zeros.\n",
    ".          %20.2f         Put the value in a field 20 characters wide with 2 characters to the right of the decimal point.\n",
    "(name)     %(name)d       Get the value from the supplied dictionary using name as the key."
   ]
  },
  {
   "cell_type": "raw",
   "metadata": {},
   "source": [
    ">>> price = 24\n",
    ">>> item = \"banana\"\n",
    ">>> print(\"The %s costs %d cents\"%(item,price))\n",
    "The banana costs 24 cents\n",
    ">>> print(\"The %+10s costs %5.2f cents\"%(item,price))\n",
    "The     banana costs 24.00 cents\n",
    ">>> print(\"The %+10s costs %10.2f cents\"%(item,price))\n",
    "The     banana costs      24.00 cents\n",
    ">>> itemdict = {\"item\":\"banana\",\"cost\":24}\n",
    ">>> print(\"The %(item)s costs %(cost)7.1f cents\"%itemdict)\n",
    "The banana costs    24.0 cents\n",
    ">>>"
   ]
  },
  {
   "cell_type": "markdown",
   "metadata": {},
   "source": [
    "## 1.10. Control Structures"
   ]
  },
  {
   "cell_type": "raw",
   "metadata": {},
   "source": [
    ">>> counter = 1\n",
    ">>> while counter <= 5:\n",
    "...     print(\"Hello, world\")\n",
    "...     counter = counter + 1\n",
    "\n",
    "\n",
    "Hello, world\n",
    "Hello, world\n",
    "Hello, world\n",
    "Hello, world\n",
    "Hello, world"
   ]
  },
  {
   "cell_type": "raw",
   "metadata": {},
   "source": [
    ">>> for item in [1,3,6,2,5]:\n",
    "...    print(item)\n",
    "...\n",
    "1\n",
    "3\n",
    "6\n",
    "2\n",
    "5"
   ]
  },
  {
   "cell_type": "raw",
   "metadata": {},
   "source": [
    ">>> for item in range(5):\n",
    "...    print(item**2)\n",
    "...\n",
    "0\n",
    "1\n",
    "4\n",
    "9\n",
    "16"
   ]
  },
  {
   "cell_type": "code",
   "execution_count": 17,
   "metadata": {},
   "outputs": [
    {
     "name": "stdout",
     "output_type": "stream",
     "text": [
      "['c', 'a', 't', 'd', 'o', 'g', 'r', 'a', 'b', 'b', 'i', 't']\n"
     ]
    }
   ],
   "source": [
    "wordlist = ['cat','dog','rabbit']\n",
    "letterlist = [ ]\n",
    "for aword in wordlist:\n",
    "    for aletter in aword:\n",
    "        letterlist.append(aletter)\n",
    "print(letterlist)"
   ]
  },
  {
   "cell_type": "code",
   "execution_count": 8,
   "metadata": {},
   "outputs": [
    {
     "name": "stdout",
     "output_type": "stream",
     "text": [
      "F\n"
     ]
    }
   ],
   "source": [
    "score = 0\n",
    "if score >= 90:\n",
    "   print('A')\n",
    "else:\n",
    "   if score >=80:\n",
    "      print('B')\n",
    "   else:\n",
    "      if score >= 70:\n",
    "         print('C')\n",
    "      else:\n",
    "         if score >= 60:\n",
    "            print('D')\n",
    "         else:\n",
    "            print('F')"
   ]
  },
  {
   "cell_type": "code",
   "execution_count": 9,
   "metadata": {},
   "outputs": [
    {
     "name": "stdout",
     "output_type": "stream",
     "text": [
      "F\n"
     ]
    }
   ],
   "source": [
    "if score >= 90:\n",
    "   print('A')\n",
    "elif score >=80:\n",
    "   print('B')\n",
    "elif score >= 70:\n",
    "   print('C')\n",
    "elif score >= 60:\n",
    "   print('D')\n",
    "else:\n",
    "   print('F')"
   ]
  },
  {
   "cell_type": "markdown",
   "metadata": {},
   "source": [
    "# Class Exercise # 1"
   ]
  },
  {
   "cell_type": "code",
   "execution_count": 20,
   "metadata": {},
   "outputs": [
    {
     "name": "stdout",
     "output_type": "stream",
     "text": [
      "['c', 'a', 't', 'd', 'o', 'g', 'r', 'a', 'b', 'b', 'i', 't']\n"
     ]
    }
   ],
   "source": [
    "# Modify the following code so that the \n",
    "# final list only contains a single copy of each letter.\n",
    "# the answer is: ['c', 'a', 't', 'd', 'o', 'g', 'r', 'b', 'i']\n",
    "\n",
    "wordlist = ['cat','dog','rabbit']\n",
    "letterlist = [ ]\n",
    "for aword in wordlist:\n",
    "    for aletter in aword:\n",
    "        letterlist.append(aletter)\n",
    "print(letterlist)\n",
    "\n"
   ]
  },
  {
   "cell_type": "code",
   "execution_count": null,
   "metadata": {},
   "outputs": [],
   "source": []
  },
  {
   "cell_type": "markdown",
   "metadata": {},
   "source": [
    "## 1.11. Exception Handling¶\n"
   ]
  },
  {
   "cell_type": "raw",
   "metadata": {},
   "source": [
    ">>> for i in range(10)\n",
    "SyntaxError: invalid syntax (<pyshell#61>, line 1)"
   ]
  },
  {
   "cell_type": "raw",
   "metadata": {},
   "source": [
    ">>> anumber = int(input(\"Please enter an integer \"))\n",
    "Please enter an integer -23\n",
    ">>> print(math.sqrt(anumber))\n",
    "Traceback (most recent call last):\n",
    "  File \"<pyshell#102>\", line 1, in <module>\n",
    "    print(math.sqrt(anumber))\n",
    "ValueError: math domain error\n",
    ">>>"
   ]
  },
  {
   "cell_type": "raw",
   "metadata": {},
   "source": [
    ">>> try:\n",
    "       print(math.sqrt(anumber))\n",
    "    except:\n",
    "       print(\"Bad Value for square root\")\n",
    "       print(\"Using absolute value instead\")\n",
    "       print(math.sqrt(abs(anumber)))\n",
    "\n",
    "Bad Value for square root\n",
    "Using absolute value instead\n",
    "4.79583152331\n",
    ">>>"
   ]
  },
  {
   "cell_type": "raw",
   "metadata": {},
   "source": [
    ">>> if anumber < 0:\n",
    "...    raise RuntimeError(\"You can't use a negative number\")\n",
    "... else:\n",
    "...    print(math.sqrt(anumber))\n",
    "...\n",
    "Traceback (most recent call last):\n",
    "  File \"<stdin>\", line 2, in <module>\n",
    "RuntimeError: You can't use a negative number\n",
    ">>>"
   ]
  },
  {
   "cell_type": "markdown",
   "metadata": {},
   "source": [
    "## 1.12. Defining Functions¶"
   ]
  },
  {
   "cell_type": "code",
   "execution_count": 21,
   "metadata": {},
   "outputs": [],
   "source": [
    "#listing 1\n",
    "def squareroot(n):\n",
    "    root = n/2    #initial guess will be 1/2 of n\n",
    "    for k in range(20):\n",
    "        root = (1/2)*(root + (n / root))\n",
    "\n",
    "    return root"
   ]
  },
  {
   "cell_type": "markdown",
   "metadata": {},
   "source": [
    "<h2> <a href='http://interactivepython.org/runestone/static/pythonds/Introduction/ObjectOrientedProgramminginPythonDefiningClasses.html#a-fraction-class'> 1.13. Object-Oriented Programming in Python: Defining Classes </a> </h2>\n",
    "<ul>\n",
    "<li>\n",
    "    <h3> \n",
    "    <a href='\n",
    "http://interactivepython.org/runestone/static/pythonds/Introduction/ObjectOrientedProgramminginPythonDefiningClasses.html#a-fraction-class    '> 1.13.1. A Fraction Class </a> </h3>  </l1>\n",
    "\n",
    "\n",
    "</ul>"
   ]
  },
  {
   "cell_type": "markdown",
   "metadata": {},
   "source": [
    "<img src=\"images/my.fraction.png\" alt=\"my.fraction.png\" border=\"0\" width=\"500\" /> "
   ]
  },
  {
   "cell_type": "code",
   "execution_count": 22,
   "metadata": {},
   "outputs": [],
   "source": [
    "# listing 2\n",
    "class Fraction:\n",
    "\n",
    "    def __init__(self,top,bottom):\n",
    "\n",
    "        self.num = top\n",
    "        self.den = bottom"
   ]
  },
  {
   "cell_type": "code",
   "execution_count": 23,
   "metadata": {},
   "outputs": [],
   "source": [
    "# listing 3\n",
    "def show(self):\n",
    "     print(self.num,\"/\",self.den)"
   ]
  },
  {
   "cell_type": "code",
   "execution_count": 24,
   "metadata": {},
   "outputs": [],
   "source": [
    "# listing 4\n",
    "def __str__(self):\n",
    "    return str(self.num)+\"/\"+str(self.den)"
   ]
  },
  {
   "cell_type": "code",
   "execution_count": null,
   "metadata": {},
   "outputs": [],
   "source": []
  },
  {
   "cell_type": "code",
   "execution_count": 25,
   "metadata": {},
   "outputs": [],
   "source": [
    "#listing 5\n",
    "def __add__(self,otherfraction):\n",
    "\n",
    "     newnum = self.num*otherfraction.den + self.den*otherfraction.num\n",
    "     newden = self.den * otherfraction.den\n",
    "\n",
    "     return Fraction(newnum,newden)"
   ]
  },
  {
   "cell_type": "raw",
   "metadata": {},
   "source": [
    ">>> f1=Fraction(1,4)\n",
    ">>> f2=Fraction(1,2)\n",
    ">>> f3=f1+f2\n",
    ">>> print(f3)\n",
    "6/8\n",
    ">>>"
   ]
  },
  {
   "cell_type": "code",
   "execution_count": 26,
   "metadata": {},
   "outputs": [],
   "source": [
    "#list 6\n",
    "def gcd(m,n):\n",
    "    while m%n != 0:\n",
    "        oldm = m\n",
    "        oldn = n\n",
    "\n",
    "        m = oldn\n",
    "        n = oldm%oldn\n",
    "    return n\n",
    "def __add__(self,o):\n",
    "    # a/b + c/d = (a*d + c*b) / (c*d)\n",
    "    a = self.num;\n",
    "    b = self.den;\n",
    "    c = o.num\n",
    "    d = o.den\n",
    "\n",
    "    return Fraction(  a*d + c*b ,  b*d)\n",
    "\n",
    "def __sub__(self,o):\n",
    "    return self + Fraction (-o.num,o.den )\n",
    " "
   ]
  },
  {
   "cell_type": "markdown",
   "metadata": {},
   "source": [
    "Shallow equality\n",
    "* Assume we have two Fraction objects, f1 and f2. \n",
    "* f1==f2 will only be True if they are references to the same object. \n",
    "* Two different objects with the same numerators and denominators would not be equal under this implementation. "
   ]
  },
  {
   "cell_type": "markdown",
   "metadata": {},
   "source": [
    "<div class=\"image123\">\n",
    "    <div style=\"float:left;margin-right:15px;\">\n",
    "    <figure>\n",
    "        <img class=\"middle-img\" src=\"images/my.fraction.shallow.equality.png\" height=\"400\" width=\"400\" />\n",
    "        <figcaption style=\"text-align:center;\"> Shallow Equality </figcaption>\n",
    "    </figure>\n",
    "\n",
    "</div>\n"
   ]
  },
  {
   "cell_type": "markdown",
   "metadata": {},
   "source": [
    "Deep equality\n",
    "* equality by the same value, not the same reference\n",
    "* Override the standard __eq__ method such that it compares two objects and returns True if their values are the same, False otherwise. "
   ]
  },
  {
   "cell_type": "markdown",
   "metadata": {},
   "source": [
    "<div class=\"image123\">\n",
    "    <div style=\"float:left;margin-right:15px;\">\n",
    "    <figure>\n",
    "        <img class=\"middle-img\" src=\"images/my.fraction.deep.equality.png\" height=\"400\" width=\"400\" />\n",
    "        <figcaption style=\"text-align:center;\"> Deep Equality </figcaption>\n",
    "    </figure>\n",
    "    </div>\n",
    "</div>\n"
   ]
  },
  {
   "cell_type": "code",
   "execution_count": 27,
   "metadata": {},
   "outputs": [],
   "source": [
    "#list 7\n",
    "def __eq__(self, other): # a/b == c/d iff a*d = b*c\n",
    "    a = self.num\n",
    "    b = self.den\n",
    "    c = other.num\n",
    "    d = other.den\n",
    "\n",
    "    return a*d == b*c"
   ]
  },
  {
   "cell_type": "code",
   "execution_count": 28,
   "metadata": {
    "scrolled": true
   },
   "outputs": [
    {
     "name": "stdout",
     "output_type": "stream",
     "text": [
      "7/6\n",
      "False\n"
     ]
    }
   ],
   "source": [
    "# Active Code 2\n",
    "def gcd(m,n):\n",
    "    while m%n != 0:\n",
    "        oldm = m\n",
    "        oldn = n\n",
    "\n",
    "        m = oldn\n",
    "        n = oldm%oldn\n",
    "    return n\n",
    "\n",
    "class Fraction:\n",
    "     def __init__(self,top,bottom):\n",
    "         self.num = top\n",
    "         self.den = bottom\n",
    "\n",
    "     def __str__(self):\n",
    "         return str(self.num)+\"/\"+str(self.den)\n",
    "\n",
    "     def show(self):\n",
    "         print(__str__(self))\n",
    "\n",
    "     def __add__(self,otherfraction):\n",
    "         newnum = self.num*otherfraction.den + \\\n",
    "                      self.den*otherfraction.num\n",
    "         newden = self.den * otherfraction.den\n",
    "         common = gcd(newnum,newden)\n",
    "         return Fraction(newnum//common,newden//common)\n",
    "\n",
    "     def __eq__(self, other):\n",
    "         firstnum = self.num * other.den\n",
    "         secondnum = other.num * self.den\n",
    "\n",
    "         return firstnum == secondnum\n",
    "\n",
    "x = Fraction(1,2)\n",
    "y = Fraction(2,3)\n",
    "print(x+y)\n",
    "print(x == y)"
   ]
  },
  {
   "cell_type": "markdown",
   "metadata": {},
   "source": [
    "<h3>  \n",
    "    <a href='http://interactivepython.org/runestone/static/pythonds/Introduction/ObjectOrientedProgramminginPythonDefiningClasses.html#inheritance-logic-gates-and-circuits'> \n",
    "1.13.2 Class Inheritance: Logic Gates and Circuits </a> \n",
    "</h3>"
   ]
  },
  {
   "cell_type": "raw",
   "metadata": {},
   "source": [
    "Inheritance is the ability for one class to be related to another class.\n",
    "Children inherit characteristics from their parents. \n",
    "Similarly, Python child (sub)classes can inherit characteristic data and behavior from a parent (super)class. "
   ]
  },
  {
   "cell_type": "markdown",
   "metadata": {},
   "source": [
    "\n",
    "\n",
    "<div class=\"image123\">\n",
    "    <div style=\"float:left;margin-right:15px;\">\n",
    "    <figure>\n",
    "        <img class=\"middle-img\" src=\"images/class.hierarchy.python.png\" height=\"400\" width=\"400\" />\n",
    "        <figcaption style=\"text-align:center;\">  The built-in Python collections and their relationships to one another (Python Inheirtance Hierarchy) </figcaption>\n",
    "    </figure>\n",
    "    </div>\n",
    "</div>"
   ]
  },
  {
   "cell_type": "markdown",
   "metadata": {},
   "source": [
    "IS-A Relationship \n",
    "* The list is a child of the sequential collection. \n",
    "* We call the list the child and the sequence the parent (or subclass list and superclass sequence).\n",
    "(the list IS-A sequential collection). \n",
    "* This implies that lists inherit important characteristics from sequences, namely the ordering of the underlying data and operations such as concatenation, repetition, and indexing."
   ]
  },
  {
   "cell_type": "markdown",
   "metadata": {},
   "source": [
    "<h3> Logic Gate and Circuit Simulation </h3>\n",
    "\n",
    " By combining these gates in various patterns and then applying a set of input values, we can build circuits that have logical functions. "
   ]
  },
  {
   "cell_type": "markdown",
   "metadata": {},
   "source": [
    "\n",
    "\n",
    "<div class=\"image123\">\n",
    "    <div style=\"float:left;margin-right:15px;\">\n",
    "    <figure>\n",
    "        <img class=\"middle-img\" src=\"images/circuit.1.png\" height=\"400\" width=\"400\" />\n",
    "        <figcaption style=\"text-align:center;\">   </figcaption>\n",
    "    </figure>\n",
    "    </div>\n",
    "    <div style=\"float:left;margin-right:15px;\">\n",
    "    <figure>\n",
    "        <img class=\"middle-img\" src=\"images/circuit.2.png\" height=\"400\" width=\"400\" />\n",
    "        <figcaption style=\"text-align:center;\">   </figcaption>\n",
    "    </figure>\n",
    "     </div>\n",
    "</div>       \n",
    "        \n",
    "\n",
    "        \n"
   ]
  },
  {
   "cell_type": "markdown",
   "metadata": {},
   "source": [
    "<h3> Logic Gate Hierarchy  </h3>\n",
    "\n",
    "At the top of the hierarchy, the LogicGate class represents the most general characteristics of logic gates: namely, a label for the gate and an output line. \n",
    "The next level of subclasses breaks the logic gates into two families, those that have one input line and those that have two. Below that, the specific logic functions of each appear."
   ]
  },
  {
   "cell_type": "markdown",
   "metadata": {},
   "source": [
    "\n",
    "\n",
    "<div class=\"image123\">\n",
    "    <div style=\"float:left;margin-right:15px;\">\n",
    "    <figure>\n",
    "        <img class=\"middle-img\" src=\"images/class.hierarchy.logic.gate.png\" height=\"600\" width=\"600\" />\n",
    "        <figcaption style=\"text-align:left;\">  </figcaption>\n",
    "    </figure>\n",
    "    </div>\n",
    "</div>"
   ]
  },
  {
   "cell_type": "code",
   "execution_count": 19,
   "metadata": {},
   "outputs": [],
   "source": [
    "# list 8\n",
    "class LogicGate:\n",
    "\n",
    "    def __init__(self,n):\n",
    "        self.label = n\n",
    "        self.output = None\n",
    "\n",
    "    def getLabel(self):\n",
    "        return self.label\n",
    "\n",
    "    def getOutput(self):\n",
    "        self.output = self.performGateLogic()\n",
    "        return self.output"
   ]
  },
  {
   "cell_type": "code",
   "execution_count": 20,
   "metadata": {},
   "outputs": [],
   "source": [
    "#listing 9\n",
    "class BinaryGate(LogicGate):\n",
    "\n",
    "    def __init__(self,n):\n",
    "        LogicGate.__init__(self,n)\n",
    "\n",
    "        self.pinA = None\n",
    "        self.pinB = None\n",
    "\n",
    "    def getPinA(self):\n",
    "        return int(input(\"Enter Pin A input for gate \"+ self.getLabel()+\"-->\"))\n",
    "\n",
    "    def getPinB(self):\n",
    "        return int(input(\"Enter Pin B input for gate \"+ self.getLabel()+\"-->\"))"
   ]
  },
  {
   "cell_type": "code",
   "execution_count": 21,
   "metadata": {},
   "outputs": [],
   "source": [
    "#listing 10\n",
    "class UnaryGate(LogicGate):\n",
    "\n",
    "    def __init__(self,n):\n",
    "        LogicGate.__init__(self,n)\n",
    "\n",
    "        self.pin = None\n",
    "\n",
    "    def getPin(self):\n",
    "        return int(input(\"Enter Pin input for gate \"+ self.getLabel()+\"-->\"))"
   ]
  },
  {
   "cell_type": "code",
   "execution_count": 22,
   "metadata": {},
   "outputs": [],
   "source": [
    "# listing 11\n",
    "class AndGate(BinaryGate):\n",
    "    def __init__(self,n):\n",
    "        BinaryGate.__init__(self,n)\n",
    "\n",
    "    def performGateLogic(self):\n",
    "\n",
    "        a = self.getPinA()\n",
    "        b = self.getPinB()\n",
    "        if a==1 and b==1:\n",
    "            return 1\n",
    "        else:\n",
    "            return 0"
   ]
  },
  {
   "cell_type": "raw",
   "metadata": {},
   "source": [
    ">>> g1 = AndGate(\"G1\")\n",
    ">>> g1.getOutput()\n",
    "Enter Pin A input for gate G1-->1\n",
    "Enter Pin B input for gate G1-->0\n",
    "0"
   ]
  },
  {
   "cell_type": "raw",
   "metadata": {},
   "source": [
    ">>> g2 = OrGate(\"G2\")\n",
    ">>> g2.getOutput()\n",
    "Enter Pin A input for gate G2-->1\n",
    "Enter Pin B input for gate G2-->1\n",
    "1\n",
    ">>> g2.getOutput()\n",
    "Enter Pin A input for gate G2-->0\n",
    "Enter Pin B input for gate G2-->0\n",
    "0\n",
    ">>> g3 = NotGate(\"G3\")\n",
    ">>> g3.getOutput()\n",
    "Enter Pin input for gate G3-->0\n",
    "1"
   ]
  },
  {
   "cell_type": "code",
   "execution_count": null,
   "metadata": {},
   "outputs": [],
   "source": [
    "# listing #12\n",
    "class Connector:\n",
    "\n",
    "    def __init__(self, fgate, tgate):\n",
    "        self.fromgate = fgate\n",
    "        self.togate = tgate\n",
    "\n",
    "        tgate.setNextPin(self)\n",
    "\n",
    "    def getFrom(self):\n",
    "        return self.fromgate\n",
    "\n",
    "    def getTo(self):\n",
    "        return self.togate"
   ]
  },
  {
   "cell_type": "code",
   "execution_count": null,
   "metadata": {},
   "outputs": [],
   "source": [
    "class LogicGate:\n",
    "\n",
    "    def __init__(self,n):\n",
    "        self.name = n\n",
    "        self.output = None\n",
    "\n",
    "    def getName(self):\n",
    "        return self.name\n",
    "\n",
    "    def getOutput(self):\n",
    "        self.output = self.performGateLogic()\n",
    "        return self.output\n",
    "\n",
    "\n",
    "class BinaryGate(LogicGate):\n",
    "    \"\"\"\n",
    "      a    b     \n",
    "      |    |      \n",
    "    +-.----.-+    \n",
    "    | Binary |   \n",
    "    |  Gate  |   \n",
    "    +---.----+   \n",
    "        | \n",
    "        o = f(a,b)\n",
    "    \"\"\"\n",
    "    def __init__(self,n):\n",
    "        LogicGate.__init__(self,n)\n",
    "\n",
    "        self.pinA = None\n",
    "        self.pinB = None\n",
    "\n",
    "    def getPinA(self):\n",
    "        if self.pinA == None:\n",
    "            return int(input(\"Enter Pin A input for gate \"+self.getName()+\"-->\"))\n",
    "        else:\n",
    "            return self.pinA.getFrom().getOutput()\n",
    "\n",
    "    def getPinB(self):\n",
    "        if self.pinB == None:\n",
    "            return int(input(\"Enter Pin B input for gate \"+self.getName()+\"-->\"))\n",
    "        else:\n",
    "            return self.pinB.getFrom().getOutput()\n",
    "\n",
    "    def setNextPin(self,source):\n",
    "        if self.pinA == None:\n",
    "            self.pinA = source\n",
    "        else:\n",
    "            if self.pinB == None:\n",
    "                self.pinB = source\n",
    "            else:\n",
    "                print(\"Cannot Connect: NO EMPTY PINS on this gate\")\n",
    "\n",
    "\n",
    "class AndGate(BinaryGate):\n",
    "    \"\"\"\n",
    "     a    b     \n",
    "     |    |       \n",
    "   +-.----.-+    \n",
    "   |  And   |   \n",
    "   |  Gate  |   \n",
    "   +---.----+   \n",
    "       | \n",
    "       o = f(a,b) = (a and b)\n",
    "    \"\"\"\n",
    "    def __init__(self,n):\n",
    "        BinaryGate.__init__(self,n)\n",
    "\n",
    "    def performGateLogic(self):\n",
    "\n",
    "        a = self.getPinA()\n",
    "        b = self.getPinB()\n",
    "        if a==1 and b==1:\n",
    "            return 1\n",
    "        else:\n",
    "            return 0\n",
    "\n",
    "class OrGate(BinaryGate):\n",
    "    \"\"\"\n",
    "     a    b     \n",
    "     |    |       \n",
    "   +-.----.-+    \n",
    "   |   OR   |   \n",
    "   |  Gate  |   \n",
    "   +---.----+   \n",
    "       | \n",
    "       o = f(a,b) = (a or b)\n",
    "    \"\"\"\n",
    "    def __init__(self,n):\n",
    "        BinaryGate.__init__(self,n)\n",
    "\n",
    "    def performGateLogic(self):\n",
    "\n",
    "        a = self.getPinA()\n",
    "        b = self.getPinB()\n",
    "        if a ==1 or b==1:\n",
    "            return 1\n",
    "        else:\n",
    "            return 0\n",
    "\n",
    "class UnaryGate(LogicGate):\n",
    "    \"\"\"\n",
    "    a        \n",
    "    |         \n",
    "+-.----.-+    \n",
    "| Unary  |   \n",
    "|  Gate  |   \n",
    "+---.----+   \n",
    "    | \n",
    "    o = f(a)\n",
    "    \"\"\"\n",
    "    \n",
    "    def __init__(self,n):\n",
    "        LogicGate.__init__(self,n)\n",
    "\n",
    "        self.pin = None\n",
    "\n",
    "    def getPin(self):\n",
    "        if self.pin == None:\n",
    "            return int(input(\"Enter Pin input for gate \"+self.getName()+\"-->\"))\n",
    "        else:\n",
    "            return self.pin.getFrom().getOutput()\n",
    "\n",
    "    def setNextPin(self,source):\n",
    "        if self.pin == None:\n",
    "            self.pin = source\n",
    "        else:\n",
    "            print(\"Cannot Connect: NO EMPTY PINS on this gate\")\n",
    "\n",
    "\n",
    "class NotGate(UnaryGate):\n",
    "    \"\"\"\n",
    "    a        \n",
    "    |         \n",
    "+-.----.-+    \n",
    "|  Not   |   \n",
    "|  Gate  |   \n",
    "+---.----+   \n",
    "    | \n",
    "    o = f(a) = not a\n",
    "    \"\"\"\n",
    "    def __init__(self,n):\n",
    "        UnaryGate.__init__(self,n)\n",
    "\n",
    "    def performGateLogic(self):\n",
    "        if self.getPin():\n",
    "            return 0\n",
    "        else:\n",
    "            return 1\n",
    "\n",
    "\n",
    "class Connector:\n",
    "    \"\"\"\n",
    "    fromgate       \n",
    "    |         \n",
    "    |   \n",
    "    | \n",
    "    togate\n",
    "    \"\"\"\n",
    "    def __init__(self, fgate, tgate):\n",
    "        self.fromgate = fgate\n",
    "        self.togate = tgate\n",
    "\n",
    "        tgate.setNextPin(self)\n",
    "\n",
    "    def getFrom(self):\n",
    "        return self.fromgate\n",
    "\n",
    "    def getTo(self):\n",
    "        return self.togate\n",
    "\n",
    "\n",
    "def main():    \n",
    "    \"\"\"\n",
    "  a    b        c    d\n",
    "  |    |        |    |\n",
    "  v    v        v    v  \n",
    "+--------+    +--------+\n",
    "|  AND   |    |  AND   |\n",
    "|   G1   |    |  G2    |\n",
    "+--------+    +--------+\n",
    "    |             |\n",
    "    +----+   +----+\n",
    "         |   |\n",
    "      +--------+   \n",
    "      |   OR   |  \n",
    "      |   G3   |  \n",
    "      +--------+ \n",
    "          | \n",
    "      +--------+   \n",
    "      |   NOT  |  \n",
    "      |   G4   |  \n",
    "      +--------+       \n",
    "          | \n",
    "          v  = !(  (a && b) || (c&&d)   )\n",
    "    \"\"\"          \n",
    "    g1 = AndGate(\"G1\")\n",
    "    g2 = AndGate(\"G2\")\n",
    "    g3 = OrGate(\"G3\")\n",
    "    g4 = NotGate(\"G4\")\n",
    "    c1 = Connector(g1,g3)\n",
    "    c2 = Connector(g2,g3)\n",
    "    c3 = Connector(g3,g4)\n",
    "    print(g4.getOutput())\n",
    "\n",
    "main()\n"
   ]
  },
  {
   "cell_type": "code",
   "execution_count": null,
   "metadata": {},
   "outputs": [],
   "source": [
    "\"\"\"\n",
    "1.17. Programming Exercises: #10\n",
    "Research other types of gates that exist (such as NAND, NOR, and XOR). Add them to the circuit hierarchy.\n",
    "\"\"\""
   ]
  }
 ],
 "metadata": {
  "kernelspec": {
   "display_name": "Python 3",
   "language": "python",
   "name": "python3"
  },
  "language_info": {
   "codemirror_mode": {
    "name": "ipython",
    "version": 3
   },
   "file_extension": ".py",
   "mimetype": "text/x-python",
   "name": "python",
   "nbconvert_exporter": "python",
   "pygments_lexer": "ipython3",
   "version": "3.7.1"
  }
 },
 "nbformat": 4,
 "nbformat_minor": 2
}
