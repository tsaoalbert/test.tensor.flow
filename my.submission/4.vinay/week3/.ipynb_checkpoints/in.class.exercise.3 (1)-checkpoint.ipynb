{
 "cells": [
  {
   "cell_type": "markdown",
   "metadata": {},
   "source": [
    "<h1> In Class Exercise 3 <a href='http://interactivepython.org/runestone/static/pythonds/BasicDS/toctree.html'> \n",
    "(Basic Data Structures) </a> </h1>"
   ]
  },
  {
   "cell_type": "code",
   "execution_count": null,
   "metadata": {},
   "outputs": [],
   "source": [
    "Grade:   50/100"
   ]
  },
  {
   "cell_type": "markdown",
   "metadata": {},
   "source": [
    "<h1> <a href='\n",
    "http://interactivepython.org/runestone/static/pythonds/BasicDS/DiscussionQuestions.html   \n",
    "    '>  Discussion Questions  </a> </h1>"
   ]
  },
  {
   "cell_type": "raw",
   "metadata": {},
   "source": [
    "10/10\n",
    "Convert the following values to binary using “divide by 2.” Show the stack of remainders.\n",
    "17\n",
    "45\n",
    "96"
   ]
  },
  {
   "cell_type": "code",
   "execution_count": 3,
   "metadata": {},
   "outputs": [
    {
     "name": "stdout",
     "output_type": "stream",
     "text": [
      "10001\n",
      "101101\n",
      "1100000\n"
     ]
    }
   ],
   "source": [
    "def int2bin(i):\n",
    "    if i == 0: return \"0\"\n",
    "    s = ''\n",
    "    while i:\n",
    "        if i %2 == 1:\n",
    "            s = \"1\" + s\n",
    "        else:\n",
    "            s = \"0\" + s\n",
    "        i //= 2\n",
    "    return s\n",
    "print(int2bin(17))\n",
    "print(int2bin(45))\n",
    "print(int2bin(96))"
   ]
  },
  {
   "cell_type": "raw",
   "metadata": {},
   "source": [
    "10/10\n",
    "Convert the following infix expressions to both prefix and postfix (use full parentheses):\n",
    "(A+B)*(C+D)*(E+F)\n",
    "A+((B+C)*(D+E))\n",
    "A*B*C*D+E+F"
   ]
  },
  {
   "cell_type": "code",
   "execution_count": null,
   "metadata": {},
   "outputs": [],
   "source": [
    "infix                      postfix                                prefix\n",
    "(A+B)*(C+D)*(E+F)      A B + C D + * E F + *                    **+AB+CD+EF\n",
    "A+((B+C)*(D+E))        A B C + D E + * +                        +A*+BC+DE\n",
    "A*B*C*D+E+F            A B * C * D * E + F +                    ++***ABCDEF\n",
    "\n",
    "#needed to be checked"
   ]
  },
  {
   "cell_type": "code",
   "execution_count": 4,
   "metadata": {},
   "outputs": [],
   "source": [
    "# direct conversion algorithm\n",
    "class StackClass:\n",
    "\n",
    "    def __init__(self, itemlist=[]):\n",
    "        self.items = itemlist\n",
    "\n",
    "    def isEmpty(self):\n",
    "        if self.items == []:\n",
    "            return True\n",
    "        else:\n",
    "            return False\n",
    "\n",
    "    def peek(self):\n",
    "        return self.items[-1:][0]\n",
    "\n",
    "    def pop(self):\n",
    "        return self.items.pop()\n",
    "\n",
    "    def push(self, item):\n",
    "        self.items.append(item)\n",
    "        return 0\n",
    "\n",
    "def infixtopostfix(infixexpr):\n",
    "\n",
    "    opstack=StackClass()\n",
    "    outlst=[]\n",
    "    prec={}\n",
    "    prec['/']=3\n",
    "    prec['*']=3\n",
    "    prec['+']=2\n",
    "    prec['-']=2\n",
    "    prec['(']=1\n",
    "    oplst=['/','*','+','-']\n",
    "\n",
    "    tokenlst=list(infixexpr)\n",
    "    for token in tokenlst:\n",
    "        if token in 'ABCDEFGHIJKLMNOPQRSTUVWXYZ' or token in '0123456789':\n",
    "            outlst.append(token)\n",
    "\n",
    "        elif token == '(':\n",
    "            opstack.push(token)\n",
    "\n",
    "        elif token == ')':\n",
    "            topToken=opstack.pop()\n",
    "            while topToken != '(':\n",
    "                outlst.append(topToken)\n",
    "                topToken=opstack.pop()\n",
    "        else:\n",
    "            while (not opstack.isEmpty()) and (prec[opstack.peek()] >= prec[token]):\n",
    "                #print token\n",
    "                outlst.append(opstack.pop())\n",
    "                #print outlst\n",
    "\n",
    "            opstack.push(token)\n",
    "            #print (s.peek())\n",
    "\n",
    "    while not opstack.isEmpty():\n",
    "        opToken=opstack.pop()\n",
    "        outlst.append(opToken)\n",
    "        #print outlst\n",
    "    #return outlst\n",
    "    return \" \".join(outlst)\n",
    "    \n"
   ]
  },
  {
   "cell_type": "markdown",
   "metadata": {},
   "source": [
    "<div class=\"image123\">\n",
    "    <div style=\"float:left;margin-right:55px;\">\n",
    "    <figure>\n",
    "        <img src=\"images/postfix.png\" height=\"300\" width=\"200\"  />\n",
    "        <figcaption style=\"text-align:center;\">  </figcaption>\n",
    "    </figure>\n",
    "    </div>\n",
    "    <div style=\"float:left;margin-right:55px;\">\n",
    "    <figure>\n",
    "        <img class=\"middle-img\" src=\"images/prefix.png\" height=\"300\" width=\"200\" />\n",
    "        <figcaption style=\"text-align:center;\"> </figcaption>\n",
    "    </figure>\n",
    "    </div>\n",
    "    <div style=\"float:left;margin-right:55px;\">\n",
    "    <figure>\n",
    "        <img src=\"images/infix.png\" height=\"400\" width=\"400\" />\n",
    "        <figcaption style=\"text-align:center;\">  </figcaption>\n",
    "    </figure>\n",
    "    </div>\n",
    "</div>"
   ]
  },
  {
   "cell_type": "raw",
   "metadata": {},
   "source": [
    "5/10\n",
    "Convert the following infix expressions to postfix using the direct conversion algorithm as shown below\n",
    "Fill in the rule that is used at each step in the following table.\n",
    "(A+B)*(C+D)*(E+F)\n",
    "Show the stack as the conversion takes place.\n"
   ]
  },
  {
   "cell_type": "code",
   "execution_count": 6,
   "metadata": {},
   "outputs": [
    {
     "name": "stdout",
     "output_type": "stream",
     "text": [
      "A B + C D + * E F + *\n"
     ]
    }
   ],
   "source": [
    "print(infixtopostfix(\"(A+B)*(C+D)*(E+F)\"))"
   ]
  },
  {
   "cell_type": "markdown",
   "metadata": {},
   "source": [
    "Direct Conversion Algorithm: \n",
    "Create an empty stack called opstack for keeping operators. \n",
    "Create an empty list for output.\n",
    "Convert the input infix string to a list by using the string method split.\n",
    "Scan the token list from left to right.\n",
    "\n",
    "* A. If the token is an operand, append it to the end of the output list.\n",
    "* B. If the token is a (, push it on the opstack.\n",
    "* C. If the token is a ), pop the opstack until the corresponding ( is removed. Append each operator to the end of the output list.\n",
    "* D. If the token is an arithmatic operator, *, /, +, or -, push it on the opstack. \n",
    "* E. However, first remove any operators already on the opstack that have higher or equal precedence and append them to the output list.\n",
    "* F. When the input expression has been completely processed, append any operators still on the stack  to the end of the output list."
   ]
  },
  {
   "cell_type": "markdown",
   "metadata": {},
   "source": [
    "<div class=\"image123\">\n",
    "    <div style=\"float:left;margin-right:55px;\">\n",
    "    <figure>\n",
    "        <img src=\"images/infix.postfix.1.png\" height=\"300\" width=\"900\"  />\n",
    "        <figcaption style=\"text-align:center;\">  </figcaption>\n",
    "    </figure>\n",
    "    </div>\n",
    "\n",
    "</div>"
   ]
  },
  {
   "cell_type": "raw",
   "metadata": {},
   "source": [
    "5/10\n",
    "Convert the following infix expressions to postfix using the direct conversion algorithm. \n",
    "A+((B+C)*(D+E))\n",
    "Fill in the rule that is used at each step in the following table.\n",
    "Show the stack as the conversion takes place."
   ]
  },
  {
   "cell_type": "code",
   "execution_count": 7,
   "metadata": {},
   "outputs": [
    {
     "name": "stdout",
     "output_type": "stream",
     "text": [
      "A B C + D E + * +\n"
     ]
    }
   ],
   "source": [
    "print(infixtopostfix(\"A+((B+C)*(D+E))\"))"
   ]
  },
  {
   "cell_type": "markdown",
   "metadata": {},
   "source": [
    "<div class=\"image123\">\n",
    "    <div style=\"float:left;margin-right:55px;\">\n",
    "    <figure>\n",
    "        <img src=\"images/infix.postfix.2.png\" height=\"300\" width=\"900\"  />\n",
    "        <figcaption style=\"text-align:center;\">  </figcaption>\n",
    "    </figure>\n",
    "    </div>\n",
    "\n",
    "</div>"
   ]
  },
  {
   "cell_type": "raw",
   "metadata": {},
   "source": [
    "5/10\n",
    "Convert the following infix expressions to postfix using the direct conversion algorithm. \n",
    "Fill in the rule that is used at each step in the following table.\n",
    "A*B*C*D+E+F\n",
    "Show the stack as the conversion takes place."
   ]
  },
  {
   "cell_type": "code",
   "execution_count": 8,
   "metadata": {},
   "outputs": [
    {
     "name": "stdout",
     "output_type": "stream",
     "text": [
      "A B * C * D * E + F +\n"
     ]
    }
   ],
   "source": [
    "print(infixtopostfix(\"A*B*C*D+E+F\"))"
   ]
  },
  {
   "cell_type": "markdown",
   "metadata": {},
   "source": [
    "<div class=\"image123\">\n",
    "    <div style=\"float:left;margin-right:55px;\">\n",
    "    <figure>\n",
    "        <img src=\"images/infix.postfix.3.png\" height=\"300\" width=\"900\"  />\n",
    "        <figcaption style=\"text-align:center;\">  </figcaption>\n",
    "    </figure>\n",
    "    </div>\n",
    "\n",
    "</div>"
   ]
  },
  {
   "cell_type": "raw",
   "metadata": {},
   "source": []
  },
  {
   "cell_type": "code",
   "execution_count": null,
   "metadata": {},
   "outputs": [],
   "source": [
    "5/10\n",
    "Evaluate the following postfix expressions. \n",
    "2 3 * 4 +\n",
    "1 2 + 3 + 4 + 5 +\n",
    "1 2 3 4 5 * + * +\n",
    "Show the stack as each operand and operator is processed."
   ]
  },
  {
   "cell_type": "code",
   "execution_count": null,
   "metadata": {},
   "outputs": [],
   "source": [
    "Answers:\n",
    "\n",
    "Postfix:  2 3 *  4  +\n",
    "----------------------------\n",
    "            3    4   \n",
    " Stack    2 2 6  6  10\n",
    "----------------------------"
   ]
  },
  {
   "cell_type": "markdown",
   "metadata": {},
   "source": [
    "The alternative implementation of the Queue ADT is to use a list such that the rear of the queue is at the end of the list. \n",
    "What would this mean for Big-O performance? \n",
    "Hints: In this case, enqueue() and dequeue() becomes the append and pop(0) methods of the Python List."
   ]
  },
  {
   "cell_type": "markdown",
   "metadata": {},
   "source": [
    "What is the result of carrying out both steps of the singly linked list add method in reverse order? \n",
    "What kind of reference results? \n",
    "What types of problems may result?\n",
    "(Hints: see the graphs below.)"
   ]
  },
  {
   "cell_type": "markdown",
   "metadata": {},
   "source": [
    "<div class=\"image123\">\n",
    "    <div style=\"float:left;margin-right:55px;\">\n",
    "    <figure>\n",
    "        <img src=\"images/list.add.node.at.front.png\" height=\"400\" width=\"400\"  />\n",
    "        <figcaption style=\"text-align:left;\">   Add a node (26) <br/>\n",
    "                    Step 1: temp.setNext(self.head)  <br/>\n",
    "        Step 2: self.head = temp\n",
    "        </figcaption>\n",
    "    </figure>\n",
    "    </div>\n",
    "    <div style=\"float:left;margin-right:55px;\">\n",
    "    <figure>\n",
    "        <img src=\"images/list.add.node.at.front.wrong.png\" height=\"400\" width=\"400\"  />\n",
    "        <figcaption style=\"text-align:left;\">   Erroneous node addition<br/>\n",
    "        Step 2: self.head = temp<br/>\n",
    "                            Step 1: temp.setNext(self.head)\n",
    "        </figcaption>\n",
    "    </figure>\n",
    "    </div> \n",
    "</div>"
   ]
  },
  {
   "cell_type": "markdown",
   "metadata": {},
   "source": [
    "What is the time complexity of the singly linked list remove method when the item to be removed is in the last node (that is, the pop() method). Explain the reason.\n"
   ]
  },
  {
   "cell_type": "markdown",
   "metadata": {},
   "source": [
    "With the tail pointer, the time comlexity for the append method can be improved to O(1). \n",
    "Explain the reason.\n",
    "\n",
    "Would the  tail pointer also improve the performance of the pop method to O(1) like the append method?"
   ]
  },
  {
   "cell_type": "markdown",
   "metadata": {},
   "source": [
    "<div class=\"image123\">\n",
    "    <div style=\"float:left;margin-right:55px;\">\n",
    "    <figure>\n",
    "        <img src=\"images/list.remove.tail.png\" height=\"300\" width=\"900\"  />\n",
    "        <figcaption style=\"text-align:center;\">  </figcaption>\n",
    "    </figure>\n",
    "    </div>\n",
    "\n",
    "</div>"
   ]
  },
  {
   "cell_type": "markdown",
   "metadata": {},
   "source": [
    "10/10\n",
    "With an additional tail pointer in the singly linked list, how can we improve the implementation of the Queue ADT such that both enqueue() and dequeue() take only O(1)? "
   ]
  },
  {
   "cell_type": "raw",
   "metadata": {},
   "source": [
    "Answers:\n",
    "\n",
    "For the sinlgy linked list L with tail pointr, the operation L.pop(0) and L.append() takes O(1).\n",
    "When we use L as the internal engine of the Queue, the enqueue() method can be implemented using L.append(), and dequeue with L.pop(0)"
   ]
  },
  {
   "cell_type": "markdown",
   "metadata": {},
   "source": [
    "(Repeat the above question for the doubly linked lists.)\n",
    "What is the time complexity of the doubly linked list remove method  when the item to be removed is in the last node. Explain the reason.\n",
    "Would the time complexity change if the item to be removed is not the last node?\n",
    "List the codes for the remove method of the doubly circular linked list."
   ]
  },
  {
   "cell_type": "markdown",
   "metadata": {},
   "source": [
    "<div class=\"image123\">\n",
    "    <div style=\"float:left;margin-right:55px;\">\n",
    "    <figure>\n",
    "        <img src=\"images/doubly.linked.remove.tail.png\" height=\"600\" width=\"600\"  />\n",
    "        <figcaption style=\"text-align:center;\">    Remove the last node  </figcaption>\n",
    "    </figure>\n",
    "    </div>\n",
    "</div>"
   ]
  },
  {
   "cell_type": "markdown",
   "metadata": {},
   "source": [
    "Explain how the remove method works when the item is in the only node in both singly and doubly circular linked list. Write the codes to implement the methods for both  lists. (Hints: the implementations of both methods in this case should be the same.)"
   ]
  },
  {
   "cell_type": "markdown",
   "metadata": {},
   "source": [
    "<div class=\"image123\">\n",
    "    <div style=\"float:left;margin-right:55px;\">\n",
    "    <figure>\n",
    "        <img src=\"images/doubly.linked.insertion.empty.png\" height=\"300\" width=\"300\"  />\n",
    "        <figcaption style=\"text-align:center;\">  </figcaption>\n",
    "    </figure>\n",
    "    </div>\n",
    "\n",
    "</div>"
   ]
  },
  {
   "cell_type": "code",
   "execution_count": null,
   "metadata": {},
   "outputs": [],
   "source": []
  }
 ],
 "metadata": {
  "kernelspec": {
   "display_name": "Python 3",
   "language": "python",
   "name": "python3"
  },
  "language_info": {
   "codemirror_mode": {
    "name": "ipython",
    "version": 3
   },
   "file_extension": ".py",
   "mimetype": "text/x-python",
   "name": "python",
   "nbconvert_exporter": "python",
   "pygments_lexer": "ipython3",
   "version": "3.7.1"
  }
 },
 "nbformat": 4,
 "nbformat_minor": 2
}
