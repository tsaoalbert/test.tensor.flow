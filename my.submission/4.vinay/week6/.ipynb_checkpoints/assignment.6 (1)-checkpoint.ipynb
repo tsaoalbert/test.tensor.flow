{
 "cells": [
  {
   "cell_type": "code",
   "execution_count": 2,
   "metadata": {},
   "outputs": [
    {
     "data": {
      "text/plain": [
       "3"
      ]
     },
     "execution_count": 2,
     "metadata": {},
     "output_type": "execute_result"
    }
   ],
   "source": [
    "Week6: Trees and Tree Algorithms\n",
    "  Topics:\n",
    "     Tree Traversal: in-order, pre-order, post-order\n",
    "     Priority Queues with Binary Heaps\n",
    "     Binary Search Trees:\n",
    "     Balnaced Binary Search Trees: AVL/Red-Black Tree\n",
    "\n",
    "HW#6:\n",
    "  20/25 Extend the buildParseTree function to handle\n",
    "        * expressions with no spaces between every character.\n",
    "        * boolean statements (and, or, and not).\n",
    "\n",
    "  20/25   Using the buildHeap method, write a sorting function that can sort a list in O(nlogn) time.\n",
    "\n",
    "   20/25  Implement a binary heap as a max heap.\n",
    "\n",
    "   5/25\n",
    "    Using the BinaryHeap class, implement a new class called PriorityQueue that\n",
    "      implement the constructor, plus the enqueue and dequeue methods."
   ]
  },
  {
   "cell_type": "markdown",
   "metadata": {},
   "source": [
    "<a href=' http://my.jessup.edu/'> my.jessup  </a>"
   ]
  },
  {
   "cell_type": "code",
   "execution_count": null,
   "metadata": {},
   "outputs": [],
   "source": [
    "from pythonds.basic.stack import Stack\n",
    "from pythonds.trees.binaryTree import BinaryTree\n",
    "\n",
    "def buildParseTree(fpexp):\n",
    "    fplist = fpexp.split()\n",
    "    pStack = Stack()\n",
    "    eTree = BinaryTree('')\n",
    "    pStack.push(eTree)\n",
    "    currentTree = eTree\n",
    "    for i in fplist:\n",
    "        if i is not ' ':\n",
    "            if i == '(':\n",
    "                currentTree.insertLeft('')\n",
    "                pStack.push(currentTree)\n",
    "                currentTree = currentTree.getLeftChild()\n",
    "            elif i not in ['+', '-', '*', '/', ')','and','not','or']:\n",
    "                currentTree.setRootVal(int(i))\n",
    "                parent = pStack.pop()\n",
    "                currentTree = parent\n",
    "            elif i in ['+', '-', '*', '/','and','not','or']:\n",
    "                currentTree.setRootVal(i)\n",
    "                currentTree.insertRight('')\n",
    "                pStack.push(currentTree)\n",
    "                currentTree = currentTree.getRightChild()\n",
    "            elif i == ')':\n",
    "                currentTree = pStack.pop()\n",
    "            else:\n",
    "                raise ValueError\n",
    "    return eTree\n",
    "buildParseTree (\")1+2)\")"
   ]
  },
  {
   "cell_type": "code",
   "execution_count": null,
   "metadata": {},
   "outputs": [],
   "source": [
    "def buildheap(arr, n, i): \n",
    "    largest = i  \n",
    "    l = 2 * i + 1\n",
    "    r = 2 * i + 2\n",
    "    if l < n and arr[i] < arr[l]: \n",
    "        largest = l \n",
    "    if r < n and arr[largest] < arr[r]: \n",
    "        largest = r  \n",
    "    if largest != i: \n",
    "        arr[i],arr[largest] = arr[largest],arr[i]\n",
    "        heapify(arr, n, largest) \n",
    "def heapSort(arr): \n",
    "    n = len(arr) \n",
    "    for i in range(n, -1, -1): \n",
    "        buildheap(arr, n, i) \n",
    "    for i in range(n-1, 0, -1): \n",
    "        arr[i], arr[0] = arr[0], arr[i] # swap \n",
    "        buildheap(arr, i, 0) "
   ]
  },
  {
   "cell_type": "code",
   "execution_count": null,
   "metadata": {},
   "outputs": [],
   "source": [
    "import heapq\n",
    "class MinHeap:\n",
    "    def __init__(self):\n",
    "        self.heap = []\n",
    "\n",
    "    def push(self, item):\n",
    "        heapq.heappush(self.heap, item)\n",
    "\n",
    "    def pop(self):\n",
    "        return heapq.heappop(self.heap)\n",
    "\n",
    "    def peek(self):\n",
    "        return self.heap[0]\n",
    "\n",
    "    def __getitem__(self, item):\n",
    "        return self.heap[item]\n",
    "\n",
    "    def __len__(self):\n",
    "        return len(self.heap)\n",
    "    \n",
    "class MaxHeap(MinHeap):\n",
    "    def push(self, item):\n",
    "        heapq.heappush(self.heap, Comparator(item))\n",
    "class Comparator:\n",
    "    def __init__(self, val):\n",
    "        self.val = val\n",
    "\n",
    "    def __lt__(self, other):\n",
    "        return self.val > other.val\n",
    "\n",
    "    def __eq__(self, other):\n",
    "        return self.val == other.val\n",
    "\n",
    "    def __repr__(self):\n",
    "        return repr(self.val)"
   ]
  },
  {
   "cell_type": "code",
   "execution_count": null,
   "metadata": {},
   "outputs": [],
   "source": [
    "from heapq import heappush, heappop, heapify  \n",
    "\n",
    "class BinaryHeap: \n",
    "    def parent(self, i): \n",
    "        return (i-1)/2\n",
    "\n",
    "    def insertKey(self, k): \n",
    "        heappush(self.heap, k)            \n",
    "    def decreaseKey(self, i, new_val): \n",
    "        self.heap[i]  = new_val  \n",
    "        while(i != 0 and self.heap[self.parent(i)] > self.heap[i]): \n",
    "            self.heap[i] , self.heap[self.parent(i)] = ( \n",
    "            self.heap[self.parent(i)], self.heap[i]) \n",
    "    def extractMin(self): \n",
    "        return heappop(self.heap) \n",
    " \n",
    "    def deleteKey(self, i): \n",
    "        self.decreaseKey(i, float(\"-inf\")) \n",
    "        self.extractMin() \n",
    "    def getMin(self): \n",
    "        return self.heap[0]\n",
    "\n",
    "class PriorityQueue(BinaryHeap): #\n",
    "\n",
    "    def __init__(self):\n",
    "        self.heap = None\n",
    "\n",
    "    def enqueue(self, item, priority):\n",
    "        self.heap.insertKey((priority, item))\n",
    "\n",
    "    def dequeue(self):\n",
    "    if self.heap is None:\n",
    "        raise ValueError(\"This queue is empty.\")\n",
    "    self.heap.delete_max()\n"
   ]
  }
 ],
 "metadata": {
  "kernelspec": {
   "display_name": "Python 3",
   "language": "python",
   "name": "python3"
  },
  "language_info": {
   "codemirror_mode": {
    "name": "ipython",
    "version": 3
   },
   "file_extension": ".py",
   "mimetype": "text/x-python",
   "name": "python",
   "nbconvert_exporter": "python",
   "pygments_lexer": "ipython3",
   "version": "3.7.1"
  }
 },
 "nbformat": 4,
 "nbformat_minor": 2
}
