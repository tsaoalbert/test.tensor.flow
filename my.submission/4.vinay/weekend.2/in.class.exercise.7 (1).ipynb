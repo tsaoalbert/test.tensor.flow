{
 "cells": [
  {
   "cell_type": "markdown",
   "metadata": {},
   "source": [
    "<h1><a href='http://interactivepython.org/runestone/static/pythonds/Graphs/toctree.html'> 7. Graphs and Graph Algorithms</a></h1>"
   ]
  },
  {
   "cell_type": "markdown",
   "metadata": {},
   "source": [
    "<h2><a href='http://interactivepython.org/runestone/static/pythonds/Graphs/DiscussionQuestions.html'> 7.25. Discussion Questions</a></h2>"
   ]
  },
  {
   "cell_type": "markdown",
   "metadata": {},
   "source": [
    "Q#1 Use online graph http://graphonline.ru/en/ to draw a nice graph corresponding to the following adjacency matrix.\n",
    "<div class=\"binarySearch\">\n",
    "    <div style=\"float:left;margin-right:55px;\">\n",
    "    <figure>\n",
    "        <img src=\"images/adj.matrix.png\" height=\"400\" width=\"400\"  />\n",
    "        <figcaption style=\"text-align:center;\"> Adjacency Matrix  </figcaption>\n",
    "    </figure>\n",
    "    </div>\n",
    "    \n",
    "</div>"
   ]
  },
  {
   "cell_type": "raw",
   "metadata": {},
   "source": [
    "Q#2 \n",
    "Draw the graph corresponding to the following list of edges.\n",
    "from\tto\t    cost\n",
    "1\t    2    \t10\n",
    "1    \t3    \t15\n",
    "1    \t6    \t5\n",
    "2    \t3\t    7\n",
    "3    \t4\t    7\n",
    "3\t    6\t    10\n",
    "4\t    5\t    7\n",
    "6    \t4\t    5\n",
    "5\t    6\t    13\n",
    "hints: sample graph at http://graphonline.ru/en/?graph=DJTdnIUwAzlCppwr"
   ]
  },
  {
   "cell_type": "raw",
   "metadata": {},
   "source": [
    "Q#3 \n",
    "* Show each step in applying Dijkstra’s algorithm to the graph shown above.\n",
    "* Using Prim’s algorithm, find the minimum weight spanning tree for the graph shown above.\n",
    "* Ignoring the weights, perform a breadth first search on the graph from the previous question.\n",
    "\n",
    "\n",
    "\n",
    "Cluster Analysis\n",
    "Handwriting recognition\n",
    "Image segmentation\n",
    "\n",
    "Sort the graph edges with respect to their weights.\n",
    "Start adding edges to the MST from the edge with the smallest weight until the edge of the largest weight.\n",
    "Only add edges which doesn't form a cycle , edges which connect only disconnected components.\n",
    "\n",
    "\n",
    "#include <iostream>\n",
    "#include <vector>\n",
    "#include <utility>\n",
    "#include <algorithm>\n",
    "\n",
    "using namespace std;\n",
    "const int MAX = 1e4 + 5;\n",
    "int id[MAX], nodes, edges;\n",
    "pair <long long, pair<int, int> > p[MAX];\n",
    "\n",
    "void initialize()\n",
    "{\n",
    "    for(int i = 0;i < MAX;++i)\n",
    "        id[i] = i;\n",
    "}\n",
    "\n",
    "int root(int x)\n",
    "{\n",
    "    while(id[x] != x)\n",
    "    {\n",
    "        id[x] = id[id[x]];\n",
    "        x = id[x];\n",
    "    }\n",
    "    return x"
   ]
  },
  {
   "cell_type": "markdown",
   "metadata": {},
   "source": []
  },
  {
   "cell_type": "code",
   "execution_count": null,
   "metadata": {},
   "outputs": [],
   "source": [
    "Q#4\n",
    "Prim’s Algorithm: Fill in the following table.\n",
    "dv = Cheapest edge cost to connect node v to tree T\n",
    "pv = Node in T to which the cheapest edge is connected\n",
    "\n",
    "A tree is an undirected graph G = (V, E) that is connected and acyclic.\n",
    "All the following are equivalent:\n",
    "G is a tree.\n",
    "G is connected and acyclic.\n",
    "G is minimally connected (removing any edge from G disconnects it.)\n",
    "G is maximally acyclic (adding any edge creates a cycle)\n",
    "G is connected and |E| = |V| - 1.\n",
    "Theorem: Let T be a tree and (u, v) ∉ T. The graph\n",
    "T ∪ {(u, v)} contains a cycle. For any edge (x, y) on\n",
    "the cycle, the graph T' = T ∪{(u, v)} – {(x, y)} is a tree.\n",
    "Proof: Since (u, v) ∉ T and (x, y) ∈ T ∪ {(u, v)}, we know |T'|=|T|+1–1=|T|=|V|–1. Therefore,wewill show that T' is connected to conclude T' is a tree."
   ]
  },
  {
   "cell_type": "markdown",
   "metadata": {},
   "source": [
    "<div class=\"binarySearch\">\n",
    "    <div style=\"float:left;margin-top:75px;\">\n",
    "    <figure>\n",
    "        <img src=\"images/prim.exer.2.png\" width=\"550\"  />\n",
    "        <figcaption style=\"text-align:center;\">   </figcaption>\n",
    "    </figure>\n",
    "    </div>\n",
    "    <div style=\"float:left;margin-right:55px;\">\n",
    "    <figure>\n",
    "        <img src=\"images/prim.exer.1.png\"  width=\"250\"  />\n",
    "        <figcaption style=\"text-align:center;\">   </figcaption>\n",
    "    </figure>\n",
    "    </div>\n",
    "</div>"
   ]
  },
  {
   "cell_type": "raw",
   "metadata": {},
   "source": [
    "Q#5\n",
    "Consider the example below. What are the discovered and finished times for each node, and the topological order? (Note that the answers can be not unique. To make the answer unique, we assume that lower-numbered edges are explored first.) \n",
    "1)\tNode A? Answer(1pt): ? | ?\n",
    "2)\tNode B? Answer(1pt): ? | ?\n",
    "3)\tNode C? Answer(1pt): ? | ?\n",
    "4)\tNode D? Answer(1pt): ? | ?\n",
    "5)\tNode E? Answer(1pt): ? | ?\n",
    "6)\tWhat is the topological order? Answer(1pt): "
   ]
  },
  {
   "cell_type": "markdown",
   "metadata": {},
   "source": [
    "<div class=\"binarySearch\">\n",
    "    <div style=\"float:left;margin-right:55px;\">\n",
    "    <figure>\n",
    "        <img src=\"images/topo.sort.exer.png\" height=\"400\" width=\"400\"  />\n",
    "        <figcaption style=\"text-align:center;\">   </figcaption>\n",
    "    </figure>\n",
    "    </div>\n",
    "</div>"
   ]
  },
  {
   "cell_type": "code",
   "execution_count": null,
   "metadata": {},
   "outputs": [],
   "source": [
    "1 A: 0|9\n",
    "2 B: 2|5\n",
    "3 C: 1|8\n",
    "4 D: 3|4\n",
    "5 E: 6|7\n",
    "    Order : A C E B D\n",
    "A: 0|9\n",
    "B: 2|5\n",
    "C: 1|8\n",
    "D: 3|4\n",
    "E: 6|7\n",
    "\n",
    "order:A C E B D"
   ]
  }
 ],
 "metadata": {
  "kernelspec": {
   "display_name": "Python 3",
   "language": "python",
   "name": "python3"
  },
  "language_info": {
   "codemirror_mode": {
    "name": "ipython",
    "version": 3
   },
   "file_extension": ".py",
   "mimetype": "text/x-python",
   "name": "python",
   "nbconvert_exporter": "python",
   "pygments_lexer": "ipython3",
   "version": "3.7.1"
  }
 },
 "nbformat": 4,
 "nbformat_minor": 2
}
