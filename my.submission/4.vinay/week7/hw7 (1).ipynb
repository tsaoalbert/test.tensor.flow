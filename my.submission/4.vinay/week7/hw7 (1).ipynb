{
 "cells": [
  {
   "cell_type": "markdown",
   "metadata": {},
   "source": [
    "<h1> HW #7:  Tree and Tree Algorithms </h1>"
   ]
  },
  {
   "cell_type": "markdown",
   "metadata": {},
   "source": [
    "<h3> The questions are taken from\n",
    "<a href='\n",
    "http://interactivepython.org/runestone/static/pythonds/Graphs/ProgrammingExercises.html\n",
    "         '> 7.26. Programming Exercises  </a></h3>\n"
   ]
  },
  {
   "cell_type": "raw",
   "metadata": {},
   "source": [
    "5/20\n",
    "Q#1 Modify the depth first search function to produce a topological sort. Write down the algorithms with pseudo codes. No coding is required"
   ]
  },
  {
   "cell_type": "code",
   "execution_count": null,
   "metadata": {},
   "outputs": [],
   "source": [
    "The DFS algorithm works as follows:\n",
    "\n",
    "1)Start by putting any one of the graph's vertices on top of a stack.\n",
    "2)Take the top item of the stack and add it to the visited list.\n",
    "3)Create a list of that vertex's adjacent nodes. Add the ones which aren't in the visited list to the top of stack.\n",
    "4)Keep repeating steps 2 and 3 until the stack is empty.\n",
    "\n",
    "Pseudo Code :\n",
    "\n",
    "DFS(G, u)\n",
    "    u.visited = true\n",
    "    for each v ∈ G.Adj[u]\n",
    "        if v.visited == false\n",
    "            DFS(G,v)\n",
    "     \n",
    "init() {\n",
    "    For each u ∈ G\n",
    "        u.visited = false\n",
    "     For each u ∈ G\n",
    "       DFS(G, u)\n",
    "}\n",
    "\n"
   ]
  },
  {
   "cell_type": "raw",
   "metadata": {},
   "source": [
    "20/20\n",
    "Q#2 Modify the depth first search to produce strongly connected components. Write down the algorithms with pseudo codes. No coding is required"
   ]
  },
  {
   "cell_type": "code",
   "execution_count": null,
   "metadata": {},
   "outputs": [],
   "source": [
    "Algorithm\n",
    "\n",
    "1) Create an empty stack ‘S’ and do DFS traversal of a graph. In DFS traversal, after calling recursive DFS for adjacent \n",
    "vertices of a vertex, push the vertex to stack. In the above graph, if we start DFS from vertex 0, we get vertices in stack\n",
    "as 1, 2, 4, 3, 0.\n",
    "2) Reverse directions of all arcs to obtain the transpose graph.\n",
    "3) One by one pop a vertex from S while S is not empty. Let the popped vertex be ‘v’. Take v as source and do DFS \n",
    "(call DFSUtil(v)). The DFS starting from v prints strongly connected component of v. In the above example, we process \n",
    "vertices in order 0, 3, 4, 2, 1 (One by one popped from stack)."
   ]
  },
  {
   "cell_type": "raw",
   "metadata": {},
   "source": [
    "20/20\n",
    "Q#3: (Optional) Write a Python program to implement the transpose method for the Graph class."
   ]
  },
  {
   "cell_type": "code",
   "execution_count": null,
   "metadata": {},
   "outputs": [],
   "source": [
    "\n",
    "def addEdge(adj, src, dest):\n",
    "    adj[src].append(dest)\n",
    "\n",
    "def displayGraph(adj, v):\n",
    "    for i in range(v):\n",
    "        print(i, “–> “, end = “”)\n",
    "        for j in range(len(adj[i])):\n",
    "        print(adj[i][j], end = ” “)\n",
    "        print()\n",
    "\n",
    "# function to get Transpose of a graph\n",
    "# taking adjacency list of given graph\n",
    "# and that of Transpose graph\n",
    "def transposeGraph(adj, transpose, v):\n",
    "    for i in range(v):\n",
    "        for j in range(len(adj[i])):\n",
    "            addEdge(transpose, adj[i][j], i)"
   ]
  },
  {
   "cell_type": "raw",
   "metadata": {},
   "source": [
    "15/20\n",
    "Q#4: Using BFS revise the maze program from the recursion chapter to find the shortest path out of a maze."
   ]
  },
  {
   "cell_type": "code",
   "execution_count": 1,
   "metadata": {},
   "outputs": [
    {
     "ename": "SyntaxError",
     "evalue": "Missing parentheses in call to 'print'. Did you mean print(distances[node], end=\" \")? (<ipython-input-1-110e10ae5b98>, line 44)",
     "output_type": "error",
     "traceback": [
      "\u001b[0;36m  File \u001b[0;32m\"<ipython-input-1-110e10ae5b98>\"\u001b[0;36m, line \u001b[0;32m44\u001b[0m\n\u001b[0;31m    print distances[node],\u001b[0m\n\u001b[0m                  ^\u001b[0m\n\u001b[0;31mSyntaxError\u001b[0m\u001b[0;31m:\u001b[0m Missing parentheses in call to 'print'. Did you mean print(distances[node], end=\" \")?\n"
     ]
    }
   ],
   "source": [
    "def shortestPath():\n",
    "    testCases = int(raw_input())\n",
    "\n",
    "    for a in range(testCases):\n",
    "        nodes,edges = raw_input().strip().split(' ')\n",
    "        numNodes,edges = [int(nodes), int(edges)]\n",
    "\n",
    "        edgeList = []\n",
    "\n",
    "        # input data\n",
    "        for b in range(edges):\n",
    "            a,b = raw_input().strip().split(' ')\n",
    "            a,b = [int(a), int(b)]\n",
    "            edgeList += [[a,b]]\n",
    "        root = int(raw_input())\n",
    "\n",
    "        marked = [] # what I've checked\n",
    "        fringe = [root] # things to check\n",
    "        distances = {} # what to return\n",
    "        levels = {root: 0} # the level of each element\n",
    "        counter = 1\n",
    "\n",
    "        # do the BFS\n",
    "        while fringe != []:\n",
    "            node = fringe[0]\n",
    "            fringe.remove(node)\n",
    "            marked += [node]\n",
    "            if counter > levels[node] + 1:\n",
    "                counter = levels[node] + 1\n",
    "            nbrsList = Nbrs(node, edgeList)\n",
    "            for v in nbrsList:\n",
    "                levels[v] = counter\n",
    "                if v not in fringe and v not in marked:\n",
    "                    levels[v] = counter\n",
    "                    distances[v] = 6*counter\n",
    "                    fringe += [v]\n",
    "            counter += 1\n",
    "\n",
    "        listOfNodes = nodeList(edgeList, numNodes)\n",
    "\n",
    "        for node in listOfNodes:\n",
    "            if node != root:\n",
    "                if node in distances:\n",
    "                    print distances[node],\n",
    "                else:\n",
    "                    print -1,  \n",
    "        print \"\"\n",
    "    print \"\"\n",
    "\n",
    "def nodeList(edges, numNodes):\n",
    "    nodes = []\n",
    "    for edge in edges:\n",
    "        for element in edge:\n",
    "            if element not in nodes:\n",
    "                nodes += [element]\n",
    "    nodes.sort()\n",
    "\n",
    "    for x in range(1,numNodes+1):\n",
    "        if x not in nodes:\n",
    "            nodes += [x]\n",
    "    nodes.sort()\n",
    "    return nodes\n",
    "\n",
    "\n",
    "def Nbrs(node, edges):\n",
    "    tempList = []\n",
    "    for edge in edges:\n",
    "        if node in edge:\n",
    "            for element in edge:\n",
    "                if element != node:\n",
    "                    tempList += [element]\n",
    "    return tempList"
   ]
  },
  {
   "cell_type": "raw",
   "metadata": {},
   "source": [
    "0/20\n",
    "Q#5:\n",
    "Dijkstra’s Algorithm: Fill in the table, where\n",
    "dv = Shortest path length from source node s to v\n",
    "pv = Node in T to which Node v is connected\n"
   ]
  },
  {
   "cell_type": "code",
   "execution_count": null,
   "metadata": {},
   "outputs": [],
   "source": []
  },
  {
   "cell_type": "markdown",
   "metadata": {},
   "source": [
    "<div class=\"binarySearch\">\n",
    "    <div style=\"float:left;margin-top:75px;\">\n",
    "    <figure>\n",
    "        <img src=\"images/dijkstra.hw7.5.png\" height=\"400\" width=\"500\"  />\n",
    "        <figcaption style=\"text-align:center;\">   </figcaption>\n",
    "    </figure>\n",
    "    </div>\n",
    "    <div style=\"float:left;margin-right:55px;\">\n",
    "    <figure>\n",
    "        <img src=\"images/dijkstra.hw7.5_2.png\" width=\"300\"   />\n",
    "        <figcaption style=\"text-align:center;\">   </figcaption>\n",
    "    </figure>\n",
    "    </div>\n",
    "</div>"
   ]
  },
  {
   "cell_type": "markdown",
   "metadata": {},
   "source": [
    "10/20\n",
    "Q#6\n",
    "What is the Big-O running time of \n",
    "* the buildGraph function? -- O(V^2)\n",
    "* the topological sort algorithm. ---  O(|V|+|E|)(O(|number of nodes|+|number of edges|))\n",
    "* the strongly connected components algorithm -- O(|V|+|E|)(O(|number of nodes|+|number of edges|))\n",
    "* Prim’s minimum spanning tree algorithm? -- O(V^2)"
   ]
  },
  {
   "cell_type": "code",
   "execution_count": null,
   "metadata": {},
   "outputs": [],
   "source": [
    "Assign to every node a tentative distance value: set it to zero for our initial node and to infinity for all other nodes. Set the initial node as current.\n",
    "For the current node, consider all of its unvisited neighbours and calculate their tentative distances through the current node. Compare the newly calculated tentative distance to the current assigned value and assign the smaller one. For example, if the current node A is marked with a distance of 6, and the edge connecting it with a neighbour B has length 2, then the distance to B through A will be 6 + 2 = 8. If B was previously marked with a distance greater than 8 then change it to 8. Otherwise, keep the current value.\n",
    "\n",
    "When we are done considering all of the unvisited neighbours of the current node, mark the current node as visited and remove it from the unvisited set. A visited node will never be checked again.\n",
    "\n",
    "If the destination node has been marked visited (when planning a route between two specific nodes) or if the smallest tentative distance among the nodes in the unvisited set is infinity (when planning a complete traversal; occurs when there is no connection between the initial node and remaining unvisited nodes), then stop. The algorithm has finished."
   ]
  }
 ],
 "metadata": {
  "kernelspec": {
   "display_name": "Python 3",
   "language": "python",
   "name": "python3"
  },
  "language_info": {
   "codemirror_mode": {
    "name": "ipython",
    "version": 3
   },
   "file_extension": ".py",
   "mimetype": "text/x-python",
   "name": "python",
   "nbconvert_exporter": "python",
   "pygments_lexer": "ipython3",
   "version": "3.7.1"
  }
 },
 "nbformat": 4,
 "nbformat_minor": 2
}
