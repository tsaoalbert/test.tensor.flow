{
 "cells": [
  {
   "cell_type": "markdown",
   "metadata": {},
   "source": [
    "<h1> <a href= \"http://interactivepython.org/runestone/static/pythonds/Recursion/toctree.html\"> In Class Exercise: #4 </a>  </h1>\n",
    "<ul>\n",
    "    \n",
    "<li> Recursion vs Iteration </li>\n",
    "<li> Three Laws of Recusion</li>\n",
    "<li>  Example: Tower of Hanoi, Maze, Dynamic Programming</li>\n",
    "</ul>\n"
   ]
  },
  {
   "cell_type": "markdown",
   "metadata": {},
   "source": [
    "<h1> <a href= \"http://interactivepython.org/runestone/static/pythonds/Recursion/DiscussionQuestions.html\">4.15. Discussion Questions\n",
    " </a> \n",
    "\n",
    "</h1>\n",
    "\n"
   ]
  },
  {
   "cell_type": "markdown",
   "metadata": {},
   "source": [
    "Write both  recursive and iterative function to compute the Fibonacci sequence. \n",
    "        How does the performance of the recursive function compare to that of an iterative version?\n",
    "           F(1)=F(2) = 1\n",
    "   F(n) = F(n-1)+F(n-2), for n >= 3"
   ]
  },
  {
   "cell_type": "code",
   "execution_count": 19,
   "metadata": {},
   "outputs": [
    {
     "name": "stdout",
     "output_type": "stream",
     "text": [
      "1\n",
      "2\n",
      "3\n",
      "5\n",
      "8\n",
      "13\n",
      "21\n",
      "34\n",
      "55\n",
      "89\n",
      "89\n"
     ]
    }
   ],
   "source": [
    "# using Iteration\n",
    "def F(n):\n",
    "    a, b = 0, 1\n",
    "    for i in range(n):\n",
    "        a, b = b, a+b\n",
    "        print(b)\n",
    "    return b\n",
    "print(F(10))"
   ]
  },
  {
   "cell_type": "code",
   "execution_count": 37,
   "metadata": {},
   "outputs": [
    {
     "name": "stdout",
     "output_type": "stream",
     "text": [
      "1\n",
      "1\n",
      "2\n",
      "3\n",
      "5\n",
      "8\n",
      "13\n",
      "21\n",
      "34\n",
      "55\n",
      "89\n"
     ]
    }
   ],
   "source": [
    "# Using Recursion:\n",
    "def F(n):\n",
    "    if n == 0 or n ==1:\n",
    "        return 1\n",
    "    else:\n",
    "        return F(n-1)+F(n-2)\n",
    "for i in range(11):\n",
    "       print(F(i))"
   ]
  },
  {
   "cell_type": "code",
   "execution_count": null,
   "metadata": {},
   "outputs": [],
   "source": [
    "Recursion :\n",
    "\n",
    "Internally for every recursion (i.e.) for every return value a new stack is created.\n",
    "\n",
    "So, a lot of memory is wasted if we have many recursion calls !! \n",
    "But it is more efficient because recursion have a unique property called backtrack (i.e.) \n",
    "as for every return value a new Stack is created that means all the values can be reviewed back and \n",
    "can rectify if their is any flaw in function of the application!!\n",
    "\n",
    "Loops:\n",
    "\n",
    "In loops, we have may have defined set of iterations based on given conditions. \n",
    "So for example for i = 0 after the condition has been satisfied it executes the set of \n",
    "instructions in the loop when it finishes execution then the instance created for i = 0 is no more \n",
    "exits in memory.\n",
    "\n",
    "So memory wise Loops are efficient!! But, as loops instances are cleared after every iterations \n",
    "there is no scope for backtracking !! So loops are not efficient only this case !!"
   ]
  },
  {
   "cell_type": "markdown",
   "metadata": {},
   "source": []
  },
  {
   "cell_type": "markdown",
   "metadata": {},
   "source": [
    "Using the dynamic programming algorithm for making change, find the smallest number of coins that you can use to make 33 cents in change. In addition to the usual coins assume that you have an 8 cent coin."
   ]
  },
  {
   "cell_type": "code",
   "execution_count": 1,
   "metadata": {},
   "outputs": [
    {
     "name": "stdout",
     "output_type": "stream",
     "text": [
      "2\n"
     ]
    }
   ],
   "source": [
    "def recDC(coinValueList,change,knownResults):\n",
    "   minCoins = change\n",
    "   if change in coinValueList:\n",
    "      knownResults[change] = 1\n",
    "      return 1\n",
    "   elif knownResults[change] > 0:\n",
    "      return knownResults[change]\n",
    "   else:\n",
    "       for i in [c for c in coinValueList if c <= change]:\n",
    "         numCoins = 1 + recDC(coinValueList, change-i,\n",
    "                              knownResults)\n",
    "         if numCoins < minCoins:\n",
    "            minCoins = numCoins\n",
    "            knownResults[change] = minCoins\n",
    "   return minCoins\n",
    "\n",
    "print(recDC([1,5,10,25,8],33,[0]*64))\n"
   ]
  },
  {
   "cell_type": "code",
   "execution_count": null,
   "metadata": {},
   "outputs": [],
   "source": []
  }
 ],
 "metadata": {
  "kernelspec": {
   "display_name": "Python 3",
   "language": "python",
   "name": "python3"
  },
  "language_info": {
   "codemirror_mode": {
    "name": "ipython",
    "version": 3
   },
   "file_extension": ".py",
   "mimetype": "text/x-python",
   "name": "python",
   "nbconvert_exporter": "python",
   "pygments_lexer": "ipython3",
   "version": "3.7.1"
  }
 },
 "nbformat": 4,
 "nbformat_minor": 2
}
