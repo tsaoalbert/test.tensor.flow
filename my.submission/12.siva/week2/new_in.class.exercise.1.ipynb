{
 "cells": [
  {
   "cell_type": "markdown",
   "metadata": {},
   "source": [
    "<h1> <a href='http://interactivepython.org/runestone/static/pythonds/Introduction/DiscussionQuestions.html'> In Class Exercise 1 (Python Introduction)  </a> </h1>"
   ]
  },
  {
   "cell_type": "markdown",
   "metadata": {},
   "source": [
    "Write Python program to display 6 multiplcation tables of different sizes as shown below"
   ]
  },
  {
   "cell_type": "code",
   "execution_count": 2,
   "metadata": {},
   "outputs": [
    {
     "name": "stdout",
     "output_type": "stream",
     "text": [
      "\n",
      "                                   1*1 = 1                                      \n",
      "\n",
      "                              1*1 = 1    1*2 = 2                                \n",
      "                              2*1 = 2    2*2 = 4                                \n",
      "\n",
      "                        1*1 = 1    1*2 = 2    1*3 = 3                           \n",
      "                        2*1 = 2    2*2 = 4    2*3 = 6                           \n",
      "                        3*1 = 3    3*2 = 6    3*3 = 9                           \n",
      "\n",
      "                   1*1 = 1    1*2 = 2    1*3 = 3    1*4 = 4                     \n",
      "                   2*1 = 2    2*2 = 4    2*3 = 6    2*4 = 8                     \n",
      "                   3*1 = 3    3*2 = 6    3*3 = 9    3*4 = 12                    \n",
      "                   4*1 = 4    4*2 = 8    4*3 = 12   4*4 = 16                    \n",
      "\n",
      "             1*1 = 1    1*2 = 2    1*3 = 3    1*4 = 4    1*5 = 5                \n",
      "             2*1 = 2    2*2 = 4    2*3 = 6    2*4 = 8    2*5 = 10               \n",
      "             3*1 = 3    3*2 = 6    3*3 = 9    3*4 = 12   3*5 = 15               \n",
      "             4*1 = 4    4*2 = 8    4*3 = 12   4*4 = 16   4*5 = 20               \n",
      "             5*1 = 5    5*2 = 10   5*3 = 15   5*4 = 20   5*5 = 25               \n",
      "\n",
      "        1*1 = 1    1*2 = 2    1*3 = 3    1*4 = 4    1*5 = 5    1*6 = 6          \n",
      "        2*1 = 2    2*2 = 4    2*3 = 6    2*4 = 8    2*5 = 10   2*6 = 12         \n",
      "        3*1 = 3    3*2 = 6    3*3 = 9    3*4 = 12   3*5 = 15   3*6 = 18         \n",
      "        4*1 = 4    4*2 = 8    4*3 = 12   4*4 = 16   4*5 = 20   4*6 = 24         \n",
      "        5*1 = 5    5*2 = 10   5*3 = 15   5*4 = 20   5*5 = 25   5*6 = 30         \n",
      "        6*1 = 6    6*2 = 12   6*3 = 18   6*4 = 24   6*5 = 30   6*6 = 36         \n",
      "\n"
     ]
    }
   ],
   "source": [
    "def multiplication (n):\n",
    "    for i in range (1,n):\n",
    "        s = \"\"                   # the string for one row in the table like, 1*1, 1*2, 1*3..\n",
    "        for j in range (1,n):\n",
    "            product = i*j\n",
    "            s += \"{0:2}*{1:} = {2:<2}  \".format (i,j,product)   # one item in the table\n",
    "        print (s.center ( 80))\n",
    "for i in range (1,8):\n",
    "    multiplication (i)\n",
    "    print ()"
   ]
  },
  {
   "cell_type": "code",
   "execution_count": 3,
   "metadata": {},
   "outputs": [],
   "source": [
    "                                    1*1 = 1 \n",
    "\n",
    "                                 1*1 = 1  1*2 = 2 \n",
    "                                 2*1 = 2  2*2 = 4 \n",
    "\n",
    "                             1*1 = 1  1*2 = 2  1*3 = 3 \n",
    "                             2*1 = 2  2*2 = 4  2*3 = 6 \n",
    "                             3*1 = 3  3*2 = 6  3*3 = 9 \n",
    "\n",
    "                         1*1 = 1  1*2 = 2  1*3 = 3  1*4 = 4 \n",
    "                         2*1 = 2  2*2 = 4  2*3 = 6  2*4 = 8 \n",
    "                         3*1 = 3  3*2 = 6  3*3 = 9  3*4 =12 \n",
    "                         4*1 = 4  4*2 = 8  4*3 =12  4*4 =16 \n",
    "\n",
    "                     1*1 = 1  1*2 = 2  1*3 = 3  1*4 = 4  1*5 = 5 \n",
    "                     2*1 = 2  2*2 = 4  2*3 = 6  2*4 = 8  2*5 =10 \n",
    "                     3*1 = 3  3*2 = 6  3*3 = 9  3*4 =12  3*5 =15 \n",
    "                     4*1 = 4  4*2 = 8  4*3 =12  4*4 =16  4*5 =20 \n",
    "                     5*1 = 5  5*2 =10  5*3 =15  5*4 =20  5*5 =25 \n",
    "\n",
    "                 1*1 = 1  1*2 = 2  1*3 = 3  1*4 = 4  1*5 = 5  1*6 = 6 \n",
    "                 2*1 = 2  2*2 = 4  2*3 = 6  2*4 = 8  2*5 =10  2*6 =12 \n",
    "                 3*1 = 3  3*2 = 6  3*3 = 9  3*4 =12  3*5 =15  3*6 =18 \n",
    "                 4*1 = 4  4*2 = 8  4*3 =12  4*4 =16  4*5 =20  4*6 =24 \n",
    "                 5*1 = 5  5*2 =10  5*3 =15  5*4 =20  5*5 =25  5*6 =30 \n",
    "                 6*1 = 6  6*2 =12  6*3 =18  6*4 =24  6*5 =30  6*6 =36 \n"
   ]
  },
  {
   "cell_type": "raw",
   "metadata": {},
   "source": [
    "Construct a class hierarchy for people on a college campus, including faculty, staff, and students. \n",
    "What do they have in common? For example, they all have names.\n",
    "What distinguishes them from one another? "
   ]
  },
  {
   "cell_type": "raw",
   "metadata": {},
   "source": [
    "class Person:\n",
    "    def __init__(self, name, surname, number):\n",
    "        self.name = name\n",
    "        self.surname = surname\n",
    "        self.number = number\n",
    "\n",
    "\n",
    "class Student(Person):\n",
    "    UNDERGRADUATE, POSTGRADUATE = range(2)\n",
    "\n",
    "    def __init__(self, student_type, *args, **kwargs):\n",
    "        self.student_type = student_type\n",
    "        self.classes = []\n",
    "        super(Student, self).__init__(*args, **kwargs)\n",
    "\n",
    "    def enrol(self, course):\n",
    "        self.classes.append(course)\n",
    "\n",
    "\n",
    "class StaffMember(Person):\n",
    "    PERMANENT, TEMPORARY = range(2)\n",
    "\n",
    "    def __init__(self, employment_type, *args, **kwargs):\n",
    "        self.employment_type = employment_type\n",
    "        super(StaffMember, self).__init__(*args, **kwargs)\n",
    "\n",
    "\n",
    "class Lecturer(StaffMember):\n",
    "    def __init__(self, *args, **kwargs):\n",
    "        self.courses_taught = []\n",
    "        super(Lecturer, self).__init__(*args, **kwargs)\n",
    "\n",
    "    def assign_teaching(self, course):\n",
    "        self.courses_taught.append(course)\n",
    "\n",
    "\n",
    "jane = Student(Student.POSTGRADUATE, \"Jane\", \"Smith\", \"SMTJNX045\")\n",
    "jane.enrol(a_postgrad_course)\n",
    "\n",
    "bob = Lecturer(StaffMember.PERMANENT, \"Bob\", \"Jones\", \"123456789\")\n",
    "bob.assign_teaching(an_undergrad_course)"
   ]
  },
  {
   "cell_type": "code",
   "execution_count": null,
   "metadata": {},
   "outputs": [],
   "source": [
    "# We represent both student numbers and staff numbers by a single attribute, \n",
    "# number, which we define in the base class"
   ]
  },
  {
   "cell_type": "markdown",
   "metadata": {},
   "source": [
    "Hints:\n",
    "names, addresses, gender, rank, \n",
    "Checking, Savings, Certified Deposit\n",
    "notebooke, desktop"
   ]
  },
  {
   "cell_type": "markdown",
   "metadata": {},
   "source": [
    "<h3> Reference  <a href='http://www.jesshamrick.com/2011/05/18/an-introduction-to-classes-and-inheritance-in-python/    '> \"An Introduction to Classes and Inheritance (in Python)\" </a>  \n",
    "<ul>\n",
    "    <li>\n",
    "Construct a class hierarchy for different types of pets that include birds and fish, in addtion to cats and dogs.        </li>\n",
    "<li>\n",
    "     What do they have in common? \n",
    "       </li>    \n",
    "<li>\n",
    "     What distinguishes them from one another?\n",
    "       </li>\n",
    "</ul>\n",
    "</h3>"
   ]
  },
  {
   "cell_type": "code",
   "execution_count": 4,
   "metadata": {},
   "outputs": [],
   "source": [
    "class Pet(object):   # base class\n",
    "\n",
    "    def __init__(self, name, species):\n",
    "        self.name = name\n",
    "        self.species = species\n",
    "\n",
    "    def getName(self):\n",
    "        return self.name\n",
    "\n",
    "    def getSpecies(self):\n",
    "        return self.species\n",
    "\n",
    "    def __str__(self):\n",
    "        return \"%s is a %s\" % (self.name, self.species)"
   ]
  },
  {
   "cell_type": "code",
   "execution_count": 5,
   "metadata": {},
   "outputs": [],
   "source": [
    "class Bird (Pet):\n",
    "    def __init__(self, name):\n",
    "        Pet.__init__(self, name, \"Bird\")\n",
    "    def __str__(self):\n",
    "        return Pet.__str__(self) \n",
    "    \n",
    "class Fish (Pet):\n",
    "    def __init__(self, name, live_in_fresh_water ):\n",
    "        Pet.__init__(self, name, \"Fish\")\n",
    "        self.live_in_fresh_water = live_in_fresh_water\n",
    "        \n",
    "    def __str__(self):\n",
    "        s = Pet.__str__(self)\n",
    "        if self.live_in_fresh_water:\n",
    "            s += \", and live in the fresh water\"\n",
    "        else:\n",
    "            s += \", and live in the salty water\"            \n",
    "        return s"
   ]
  },
  {
   "cell_type": "code",
   "execution_count": 6,
   "metadata": {},
   "outputs": [],
   "source": [
    "class Dog(Pet):   # subclass\n",
    "    def __init__(self, name, chases_cats):\n",
    "        Pet.__init__(self, name, \"Dog\")\n",
    "        self.chases_cats = chases_cats\n",
    "\n",
    "    def chasesCats(self):\n",
    "        return self.chases_cats\n",
    "\n",
    "    def __str__(self):\n",
    "        s = [ \"chase cats.\", \"ok with cats.\"]\n",
    "        return Pet.__str__(self) + \", and \" + s[self.chasesCats()]"
   ]
  },
  {
   "cell_type": "code",
   "execution_count": 7,
   "metadata": {},
   "outputs": [],
   "source": [
    "class Cat(Pet):\n",
    "\n",
    "    def __init__(self, name, hates_dogs):\n",
    "        Pet.__init__(self, name, \"Cat\")\n",
    "        self.hates_dogs = hates_dogs\n",
    "\n",
    "    def hatesDogs(self):\n",
    "        return self.hates_dogs\n",
    "    def __str__(self):\n",
    "        s = [ \"hates dogs.\", \"ok with dogs.\" ]\n",
    "        i = self.hatesDogs()\n",
    "        return Pet.__str__(self) + \", and \" + s[i]"
   ]
  },
  {
   "cell_type": "raw",
   "metadata": {},
   "source": [
    "Test your the implmentation of your program that include birds and fish as the following example."
   ]
  },
  {
   "cell_type": "code",
   "execution_count": 8,
   "metadata": {},
   "outputs": [
    {
     "name": "stdout",
     "output_type": "stream",
     "text": [
      "Fido is a Dog, and ok with cats.\n",
      "Rover is a Dog, and chase cats.\n",
      "Mittens is a Cat, and ok with dogs.\n",
      "Fluffy is a Cat, and hates dogs.\n",
      "Golden is a Fish, and live in the fresh water\n",
      "Boss is a Fish, and live in the salty water\n",
      "Twitty is a Bird\n"
     ]
    }
   ],
   "source": [
    "fido = Dog(\"Fido\", True)\n",
    "rover = Dog(\"Rover\", False)\n",
    "mittens = Cat(\"Mittens\", True)\n",
    "fluffy = Cat(\"Fluffy\", False)\n",
    "golden =   Fish ( \"Golden\", True )\n",
    "boss  =    Fish (\"Boss\", False)\n",
    "twitty = Bird (\"Twitty\")\n",
    "list = [fido, rover, mittens, fluffy, golden, boss, twitty ]\n",
    "for p in list:\n",
    "    print (p)"
   ]
  },
  {
   "cell_type": "markdown",
   "metadata": {},
   "source": [
    "Repeat the previous work, write codes to construct a class hierarchy for different types of bank accounts, including \n",
    "* CD\n",
    "* Checking\n",
    "* Savings\n"
   ]
  },
  {
   "cell_type": "markdown",
   "metadata": {},
   "source": [
    "<h1> END of ASSIGNMENTS</h1>"
   ]
  }
 ],
 "metadata": {
  "kernelspec": {
   "display_name": "Python 3",
   "language": "python",
   "name": "python3"
  },
  "language_info": {
   "codemirror_mode": {
    "name": "ipython",
    "version": 3
   },
   "file_extension": ".py",
   "mimetype": "text/x-python",
   "name": "python",
   "nbconvert_exporter": "python",
   "pygments_lexer": "ipython3",
   "version": "3.6.7"
  }
 },
 "nbformat": 4,
 "nbformat_minor": 2
}
