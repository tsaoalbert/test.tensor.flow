{
 "cells": [
  {
   "cell_type": "markdown",
   "metadata": {},
   "source": [
    "<h1> <a href='http://interactivepython.org/runestone/static/pythonds/AlgorithmAnalysis/toctree.html'> Assignment 2:  Algorithm Analysis  </a> </h1>"
   ]
  },
  {
   "cell_type": "markdown",
   "metadata": {},
   "source": [
    "<h3> <a href='http://interactivepython.org/runestone/static/pythonds/AlgorithmAnalysis/ProgrammingExercises.html'> 2.11 Programming Exercises  </a> </h3>"
   ]
  },
  {
   "cell_type": "markdown",
   "metadata": {},
   "source": [
    "Q1: What are the time complexity with Big-O notation for each of the following operations?\n",
    "* list index operator\n",
    "* dictionary get operator\n",
    "* dictionary set operator\n",
    "* del operator for lists \n",
    "* del operator for dictionaries \n"
   ]
  },
  {
   "cell_type": "code",
   "execution_count": null,
   "metadata": {},
   "outputs": [],
   "source": [
    "Answers:\n",
    "    \n",
    "LIST: \n",
    "Operation        Average Case        Worst Case\n",
    "\n",
    "Copy                O(n)               O(n)\n",
    "\n",
    "Append              O(1)                 O(1)\n",
    "\n",
    "Pop last            O(1)                O(1)\n",
    "\n",
    "Insert               O(n)                O(n)\n",
    "\n",
    "Get Item            O(1)                 O(1)\n",
    "\n",
    "\n",
    "Delete Item        O(n)                  O(n)\n",
    "\n",
    "Iteration          O(n)                  O(n)\n",
    "\n",
    "Del Slice          O(n)                   O(n)\n",
    "\n",
    "---------------------------------------------------------------\n",
    "DICTIONARY:\n",
    "    \n",
    "Get Item           O(1)                    O(n)\n",
    "\n",
    "Set Item           O(1)                    O(n)\n",
    "\n",
    "Delete Item        O(1)                    O(n)\n",
    "\n"
   ]
  },
  {
   "cell_type": "markdown",
   "metadata": {},
   "source": [
    "Q2: (Continue) The following is an experiment to verify the time complexity of operations mentioned above.\n",
    " Fill in one of the five timeit.Timer objects (oa, ob,oc,od,oe) in the program  that are used to measure the perfromance of the following \n",
    "* list index operator             \n",
    "* Ans: ______________ (Choose one of the objects oa, ob,oc,od,oe in the program.) \n",
    "* dictionary get operator         \n",
    "* Ans: ______________ (Choose one of the objects oa, ob,oc,od,oe in the program.)\n",
    "* dictionary set operator  \n",
    "* Ans: ______________ (Choose one of the objects oa, ob,oc,od,oe in the program.)\n",
    "* del operator for lists   A\n",
    "* Ans: ______________ (Choose one of the objects oa, ob,oc,od,oe in the program.)\n",
    "* del operator for dictionaries   \n",
    "* Ans: ______________ (Choose one of the objects oa, ob,oc,od,oe in the program.)"
   ]
  },
  {
   "cell_type": "code",
   "execution_count": null,
   "metadata": {},
   "outputs": [],
   "source": [
    "Answer:\n",
    "list index operator\n",
    "Ans: _oa 0.00003_ \n",
    "dictionary get operator\n",
    "Ans: _oa 0.00003_ \n",
    "dictionary set operator\n",
    "Ans: _oa 0.00001_ \n",
    "del operator for lists A\n",
    "Ans: _oe 0.00005_ \n",
    "del operator for dictionaries\n",
    "Ans: _oa _ "
   ]
  },
  {
   "cell_type": "raw",
   "metadata": {},
   "source": [
    "Q#3 (Continue) Usually the program take more time for larger problem size.\n",
    "As you may notice, the experimental data does not always show the property.\n",
    "perfromance of the following \n",
    "Discuss the possible reasons why this happens in the experiments."
   ]
  },
  {
   "cell_type": "code",
   "execution_count": 4,
   "metadata": {
    "scrolled": true
   },
   "outputs": [
    {
     "name": "stdout",
     "output_type": "stream",
     "text": [
      "   index:      list_index        dict_get        dict_set        list_del        dict_del \n",
      "  100000:         0.00003         0.00003         0.00001         0.00096         0.00002 \n",
      "  200000:         0.00003         0.00003         0.00001         0.00230         0.00002 \n",
      "  300000:         0.00003         0.00003         0.00001         0.00331         0.00002 \n",
      "  400000:         0.00003         0.00003         0.00001         0.00501         0.00004 \n",
      "  500000:         0.00003         0.00003         0.00002         0.00611         0.00004 \n",
      "  600000:         0.00003         0.00003         0.00001         0.00768         0.00004 \n",
      "  700000:         0.00003         0.00003         0.00002         0.00994         0.00004 \n",
      "  800000:         0.00003         0.00004         0.00002         0.01030         0.00004 \n",
      "  900000:         0.00004         0.00005         0.00003         0.01383         0.00005 \n",
      " 1000000:         0.00005         0.00007         0.00003         0.01523         0.00005 \n"
     ]
    }
   ],
   "source": [
    "\"\"\"\n",
    "\n",
    "#2.1 Devise an experiment to verify that the list index operator is O(1)\n",
    "#2.2 Devise an experiment to verify that get item and set item are O(1) for dictionaries.\n",
    "#2.3 Devise an experiment that compares the performance of the \n",
    "      del operator on lists and dictionaries.\n",
    "      \n",
    "\"\"\"\n",
    "import timeit\n",
    "import random as r\n",
    "\n",
    "oa = timeit.Timer(\"for i in L: lis[i]\", \"from __main__ import lis,L\")\n",
    "ob = timeit.Timer(\"for i in L: dict[i]\", \"from __main__ import dict,L\")\n",
    "oc = timeit.Timer(\"for i in L: dict[i]=-i\", \"from __main__ import dict,L\")\n",
    "\n",
    "od = timeit.Timer(\"for i in L: del lis[i]\", \"from __main__ import  lis,L; \")\n",
    "oe = timeit.Timer(\"for i in L: del dict[i]\", \"from __main__ import  dict,L; \")\n",
    "\n",
    "\n",
    "inc = 100000   #100000\n",
    "print(\"%8s: %15s %15s %15s %15s %15s \" \\\n",
    "      %(\"index\", \"list_index\",\"dict_get\",\"dict_set\", \"list_del\", \"dict_del\" ))\n",
    "num_repeats = 1       # 100000\n",
    "m = 100\n",
    "X= list ( range ( inc, inc*11, inc))\n",
    "A=[]; B=[]; C=[]; D=[]; E=[]\n",
    "for n in X :\n",
    "    lis = list(range(n))\n",
    "    dict = { i : i for i in lis }\n",
    "    L = list(range(0,n-m, n//m ))  # index\n",
    "       \n",
    "    a = oa.timeit(number=num_repeats)\n",
    "    b = ob.timeit(number=num_repeats)\n",
    "    c = oc.timeit(number=num_repeats)\n",
    "    A.append ( a )\n",
    "    B.append ( b )\n",
    "    C.append ( c)\n",
    "    \n",
    "    d = od.timeit(number=num_repeats)\n",
    "    e = oe.timeit(number=num_repeats)\n",
    "\n",
    "    D.append(d)\n",
    "    E.append (e )\n",
    "    print(\"%8d: %15.5f %15.5f %15.5f %15.5f %15.5f \" %(n, \\\n",
    "    a, b, c, d, e  ))\n"
   ]
  },
  {
   "cell_type": "raw",
   "metadata": {},
   "source": [
    "The following program displays the relationship between  run time vs the problem size for different opeations\n",
    "Repeat this experiements to display the relationship between  run time vs the problem size for anagramSolution 1,2, and 4. (Hints: you can use the codes from the lecture.)"
   ]
  },
  {
   "cell_type": "code",
   "execution_count": 64,
   "metadata": {},
   "outputs": [
    {
     "name": "stdout",
     "output_type": "stream",
     "text": [
      "False\n",
      "True\n",
      "True\n",
      "Time for 1st solution:  996\n",
      "Time for 2nd solution:  0\n",
      "Time for 2nd solution:  0\n"
     ]
    },
    {
     "data": {
      "image/png": "[encoded data removed]",
      "text/plain": [
       "<Figure size 432x288 with 1 Axes>"
      ]
     },
     "metadata": {
      "needs_background": "light"
     },
     "output_type": "display_data"
    }
   ],
   "source": [
    "%matplotlib inline\n",
    "import numpy as np\n",
    "import matplotlib.pyplot as plt\n",
    "import timeit\n",
    "from datetime import datetime\n",
    "\n",
    "def anagramSolution(s1,s2):\n",
    "    alist1 = list(s1)\n",
    "    alist2 = list(s2)\n",
    "\n",
    "    alist1.sort()\n",
    "    alist2.sort()\n",
    "\n",
    "    pos = 0\n",
    "    matches = True\n",
    "\n",
    "    while pos < len(s1) and matches:\n",
    "        if alist1[pos]==alist2[pos]:\n",
    "            pos = pos + 1\n",
    "        else:\n",
    "            matches = False\n",
    "\n",
    "    return matches\n",
    "\n",
    "str1 = \"William Shakespeare\"\n",
    "str2 = 'undefinability'\n",
    "str3 = 'hydroxydeoxycorticosterones'\n",
    "start1=datetime.now()\n",
    "print(anagramSolution('William Shakespeare   ','I am a weakish speller'))\n",
    "stop1 = datetime.now()\n",
    "\n",
    "start2=datetime.now()\n",
    "print(anagramSolution('undefinability','unidentifiably'))\n",
    "stop2 = datetime.now()\n",
    "\n",
    "start3=datetime.now()\n",
    "print(anagramSolution('hydroxydeoxycorticosterones','hydroxydesoxycorticosterone'))\n",
    "stop3 = datetime.now()\n",
    "\n",
    "A = (stop1 - start1)\n",
    "B = (stop2 - start2)\n",
    "C = (stop3 - start3)\n",
    "print('Time for 1st solution: ', A.microseconds) \n",
    "print('Time for 2nd solution: ', B.microseconds) \n",
    "print('Time for 2nd solution: ', C.microseconds)\n",
    "\n",
    "x = [A.microseconds, B.microseconds, C.microseconds]\n",
    "y = [len(str1), len(str2), len(str3)]\n",
    "plt.plot(x,y, color=\"blue\", linewidth=2.5, linestyle=\"-\")\n",
    "plt.show()\n"
   ]
  },
  {
   "cell_type": "markdown",
   "metadata": {},
   "source": [
    "#   END of ASSIGNMENT"
   ]
  },
  {
   "cell_type": "code",
   "execution_count": null,
   "metadata": {},
   "outputs": [],
   "source": []
  }
 ],
 "metadata": {
  "kernelspec": {
   "display_name": "Python 3",
   "language": "python",
   "name": "python3"
  },
  "language_info": {
   "codemirror_mode": {
    "name": "ipython",
    "version": 3
   },
   "file_extension": ".py",
   "mimetype": "text/x-python",
   "name": "python",
   "nbconvert_exporter": "python",
   "pygments_lexer": "ipython3",
   "version": "3.7.0"
  }
 },
 "nbformat": 4,
 "nbformat_minor": 2
}
