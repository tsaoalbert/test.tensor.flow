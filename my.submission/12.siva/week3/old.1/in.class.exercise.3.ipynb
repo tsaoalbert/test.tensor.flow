{
 "cells": [
  {
   "cell_type": "markdown",
   "metadata": {},
   "source": [
    "<h1> In Class Exercise 3 <a href='http://interactivepython.org/runestone/static/pythonds/BasicDS/toctree.html'> \n",
    "(Basic Data Structures) </a> </h1>"
   ]
  },
  {
   "cell_type": "markdown",
   "metadata": {},
   "source": [
    "<h1> <a href='\n",
    "http://interactivepython.org/runestone/static/pythonds/BasicDS/DiscussionQuestions.html   \n",
    "    '>  Discussion Questions  </a> </h1>"
   ]
  },
  {
   "cell_type": "raw",
   "metadata": {},
   "source": [
    "Q1:10/10\n",
    "Convert the following values to binary using “divide by 2.” Show the stack of remainders.\n",
    "17\n",
    "45\n",
    "96"
   ]
  },
  {
   "cell_type": "code",
   "execution_count": 1,
   "metadata": {},
   "outputs": [
    {
     "name": "stdout",
     "output_type": "stream",
     "text": [
      "Binary of 17: 10001\n",
      "Binary of 45: 101101\n",
      "Binary of 96: 1100000\n"
     ]
    }
   ],
   "source": [
    "def binary(i):\n",
    "    data = []\n",
    "    while i != 0:\n",
    "        k = i%2\n",
    "        i = i//2\n",
    "        data.append(str(k))\n",
    "    return ''.join(data[::-1])\n",
    "\n",
    "\n",
    "items = [17, 45, 96]\n",
    "for i in items:\n",
    "    print(\"Binary of {}: {}\".format(i,binary(i)))"
   ]
  },
  {
   "cell_type": "raw",
   "metadata": {},
   "source": [
    "Q2 10/10\n",
    "Convert the following infix expressions to both prefix and postfix (use full parentheses):\n",
    "(A+B)*(C+D)*(E+F)\n",
    "A+((B+C)*(D+E))\n",
    "A*B*C*D+E+F"
   ]
  },
  {
   "cell_type": "code",
   "execution_count": null,
   "metadata": {},
   "outputs": [],
   "source": [
    "Ans:\n",
    "(A+B)*(C+D)*(E+F) : Postfix - A B + C D + * E F + *, Prefix: **+AB+CD+EF\n",
    "A+((B+C)*(D+E))   :   Postfix - A B C + D E + * +, Prefix: +A*+BC+DE\n",
    "A*B*C*D+E+F       : Postfix - A B * C * D * E + F +, Prefix: ++***ABCDEF"
   ]
  },
  {
   "cell_type": "markdown",
   "metadata": {},
   "source": [
    "<div class=\"image123\">\n",
    "    <div style=\"float:left;margin-right:55px;\">\n",
    "    <figure>\n",
    "        <img src=\"images/postfix.png\" height=\"300\" width=\"200\"  />\n",
    "        <figcaption style=\"text-align:center;\">  </figcaption>\n",
    "    </figure>\n",
    "    </div>\n",
    "    <div style=\"float:left;margin-right:55px;\">\n",
    "    <figure>\n",
    "        <img class=\"middle-img\" src=\"images/prefix.png\" height=\"300\" width=\"200\" />\n",
    "        <figcaption style=\"text-align:center;\"> </figcaption>\n",
    "    </figure>\n",
    "    </div>\n",
    "    <div style=\"float:left;margin-right:55px;\">\n",
    "    <figure>\n",
    "        <img src=\"images/infix.png\" height=\"400\" width=\"400\" />\n",
    "        <figcaption style=\"text-align:center;\">  </figcaption>\n",
    "    </figure>\n",
    "    </div>\n",
    "</div>"
   ]
  },
  {
   "cell_type": "raw",
   "metadata": {},
   "source": [
    "Q3: 10/10\n",
    "Convert the following infix expressions to postfix using the direct conversion algorithm as shown below\n",
    "Fill in the rule that is used at each step in the following table.\n",
    "(A+B)*(C+D)*(E+F)\n",
    "Show the stack as the conversion takes place."
   ]
  },
  {
   "cell_type": "markdown",
   "metadata": {},
   "source": [
    "Direct Conversion Algorithm: \n",
    "Create an empty stack called opstack for keeping operators. \n",
    "Create an empty list for output.\n",
    "Convert the input infix string to a list by using the string method split.\n",
    "Scan the token list from left to right.\n",
    "\n",
    "* A. If the token is an operand, append it to the end of the output list.\n",
    "* B. If the token is a (, push it on the opstack.\n",
    "* C. If the token is a ), pop the opstack until the corresponding ( is removed. Append each operator to the end of the output list.\n",
    "* D. If the token is an arithmatic operator, *, /, +, or -, push it on the opstack. \n",
    "* E. However, first remove any operators already on the opstack that have higher or equal precedence and append them to the output list.\n",
    "* F. When the input expression has been completely processed, append any operators still on the stack  to the end of the output list."
   ]
  },
  {
   "cell_type": "code",
   "execution_count": 25,
   "metadata": {},
   "outputs": [
    {
     "name": "stdout",
     "output_type": "stream",
     "text": [
      "['A']\n",
      "['A', 'B']\n",
      "['A', 'B', '+']\n",
      "['A', 'B', '+', 'C']\n",
      "['A', 'B', '+', 'C', 'D']\n",
      "['A', 'B', '+', 'C', 'D', '+']\n",
      "['A', 'B', '+', 'C', 'D', '+', '*', 'E']\n",
      "['A', 'B', '+', 'C', 'D', '+', '*', 'E', 'F']\n",
      "['A', 'B', '+', 'C', 'D', '+', '*', 'E', 'F', '+']\n",
      "['A', 'B', '+', 'C', 'D', '+', '*', 'E', 'F', '+', '*']\n",
      "A B + C D + * E F + *\n"
     ]
    }
   ],
   "source": [
    "class Stack:\n",
    "     def __init__(self):\n",
    "         self.items = []\n",
    "\n",
    "     def isEmpty(self):\n",
    "         return self.items == []\n",
    "\n",
    "     def push(self, item):\n",
    "         self.items.append(item)\n",
    "\n",
    "     def pop(self):\n",
    "         return self.items.pop()\n",
    "\n",
    "     def peek(self):\n",
    "         return self.items[len(self.items)-1]\n",
    "\n",
    "     def size(self):\n",
    "         return len(self.items)\n",
    "\n",
    "\n",
    "def infixToPostfix(infixexpr):\n",
    "    prec = {}\n",
    "    prec[\"*\"] = 3\n",
    "    prec[\"/\"] = 3\n",
    "    prec[\"+\"] = 2\n",
    "    prec[\"-\"] = 2\n",
    "    prec[\"(\"] = 1\n",
    "    opStack = Stack()\n",
    "    postfixList = []\n",
    "    tokenList = infixexpr.split()\n",
    "\n",
    "    for token in tokenList:\n",
    "        if token in \"ABCDEFGHIJKLMNOPQRSTUVWXYZ\" or token in \"0123456789\":\n",
    "            postfixList.append(token)\n",
    "            print(postfixList)\n",
    "        elif token == '(':\n",
    "            opStack.push(token)\n",
    "        elif token == ')':\n",
    "            topToken = opStack.pop()\n",
    "            while topToken != '(':\n",
    "                postfixList.append(topToken)\n",
    "                topToken = opStack.pop()\n",
    "            \n",
    "            print(postfixList)\n",
    "        else:\n",
    "            while (not opStack.isEmpty()) and \\\n",
    "               (prec[opStack.peek()] >= prec[token]):\n",
    "                  postfixList.append(opStack.pop())\n",
    "            opStack.push(token)\n",
    "\n",
    "    while not opStack.isEmpty():\n",
    "        postfixList.append(opStack.pop())\n",
    "        print(postfixList)\n",
    "    return \" \".join(postfixList)\n",
    "\n",
    "print(infixToPostfix(\"( A + B ) * ( C + D ) * ( E + F )\"))\n"
   ]
  },
  {
   "cell_type": "markdown",
   "metadata": {},
   "source": [
    "<div class=\"image123\">\n",
    "    <div style=\"float:left;margin-right:55px;\">\n",
    "    <figure>\n",
    "        <img src=\"images/infix.postfix.1.png\" height=\"300\" width=\"900\"  />\n",
    "        <figcaption style=\"text-align:center;\">  </figcaption>\n",
    "    </figure>\n",
    "    </div>\n",
    "\n",
    "</div>"
   ]
  },
  {
   "cell_type": "raw",
   "metadata": {},
   "source": [
    "Q4: 10/10\n",
    "Convert the following infix expressions to postfix using the direct conversion algorithm. \n",
    "A+((B+C)*(D+E))\n",
    "Fill in the rule that is used at each step in the following table.\n",
    "Show the stack as the conversion takes place."
   ]
  },
  {
   "cell_type": "code",
   "execution_count": 26,
   "metadata": {},
   "outputs": [
    {
     "name": "stdout",
     "output_type": "stream",
     "text": [
      "['A']\n",
      "['A', 'B']\n",
      "['A', 'B', 'C']\n",
      "['A', 'B', 'C', '+']\n",
      "['A', 'B', 'C', '+', 'D']\n",
      "['A', 'B', 'C', '+', 'D', 'E']\n",
      "['A', 'B', 'C', '+', 'D', 'E', '+']\n",
      "['A', 'B', 'C', '+', 'D', 'E', '+', '*']\n",
      "['A', 'B', 'C', '+', 'D', 'E', '+', '*', '+']\n",
      "A B C + D E + * +\n"
     ]
    }
   ],
   "source": [
    "print(infixToPostfix(\"A + ( ( B + C ) * ( D + E ) )\"))"
   ]
  },
  {
   "cell_type": "markdown",
   "metadata": {},
   "source": [
    "<div class=\"image123\">\n",
    "    <div style=\"float:left;margin-right:55px;\">\n",
    "    <figure>\n",
    "        <img src=\"images/infix.postfix.2.png\" height=\"300\" width=\"900\"  />\n",
    "        <figcaption style=\"text-align:center;\">  </figcaption>\n",
    "    </figure>\n",
    "    </div>\n",
    "\n",
    "</div>"
   ]
  },
  {
   "cell_type": "raw",
   "metadata": {},
   "source": [
    "Q5: 10/10\n",
    "Convert the following infix expressions to postfix using the direct conversion algorithm. \n",
    "Fill in the rule that is used at each step in the following table.\n",
    "A*B*C*D+E+F\n",
    "Show the stack as the conversion takes place."
   ]
  },
  {
   "cell_type": "code",
   "execution_count": 27,
   "metadata": {
    "scrolled": true
   },
   "outputs": [
    {
     "name": "stdout",
     "output_type": "stream",
     "text": [
      "['A']\n",
      "['A', 'B']\n",
      "['A', 'B', '*', 'C']\n",
      "['A', 'B', '*', 'C', '*', 'D']\n",
      "['A', 'B', '*', 'C', '*', 'D', '*', 'E']\n",
      "['A', 'B', '*', 'C', '*', 'D', '*', 'E', '+', 'F']\n",
      "['A', 'B', '*', 'C', '*', 'D', '*', 'E', '+', 'F', '+']\n",
      "A B * C * D * E + F +\n"
     ]
    }
   ],
   "source": [
    "print(infixToPostfix(\"A * B * C * D + E + F\"))"
   ]
  },
  {
   "cell_type": "markdown",
   "metadata": {},
   "source": [
    "<div class=\"image123\">\n",
    "    <div style=\"float:left;margin-right:55px;\">\n",
    "    <figure>\n",
    "        <img src=\"images/infix.postfix.3.png\" height=\"300\" width=\"900\"  />\n",
    "        <figcaption style=\"text-align:center;\">  </figcaption>\n",
    "    </figure>\n",
    "    </div>\n",
    "\n",
    "</div>"
   ]
  },
  {
   "cell_type": "raw",
   "metadata": {},
   "source": []
  },
  {
   "cell_type": "code",
   "execution_count": null,
   "metadata": {},
   "outputs": [],
   "source": [
    "Q6: 10/10\n",
    "    Evaluate the following postfix expressions. \n",
    "2 3 * 4 +\n",
    "1 2 + 3 + 4 + 5 +\n",
    "1 2 3 4 5 * + * +\n",
    "Show the stack as each operand and operator is processed."
   ]
  },
  {
   "cell_type": "code",
   "execution_count": null,
   "metadata": {},
   "outputs": [],
   "source": [
    "Answers:\n",
    "    \n",
    "1. \n",
    "Postfix:  2  3  * 4 + \n",
    "    -------------------------------      \n",
    "Stack:    \n",
    "             3     4\n",
    "          2  2  6  6  10\n",
    "\n",
    "\n",
    "2. \n",
    " Postfix:      1  2  +  3  +  4  +  5  +\n",
    "    -------------------------------------------\n",
    "    \n",
    "   Stack:     \n",
    "                  2     3     4       5\n",
    "               1  1  3  3  6  6  10  10  15\n",
    "\n",
    "            \n",
    "            \n",
    "3. \n",
    "  postfix:     1  2  3  4  5  *  +  *  +\n",
    "        -----------------------------------------\n",
    "        \n",
    "   Stack:                  5\n",
    "                        4  4  20\n",
    "                     3  3  3  3   23\n",
    "                  2  2  2  2  2   2   46\n",
    "               1  1  1  1  1  1   1   1   47\n",
    "            \n",
    "        "
   ]
  },
  {
   "cell_type": "markdown",
   "metadata": {},
   "source": [
    "Q7: 0/10\n",
    "The alternative implementation of the Queue ADT is to use a list such that the rear of the queue is at the end of the list. \n",
    "What would this mean for Big-O performance? \n",
    "Hints: In this case, enqueue() and dequeue() becomes the append and pop(0) methods of the Python List."
   ]
  },
  {
   "cell_type": "code",
   "execution_count": null,
   "metadata": {},
   "outputs": [],
   "source": [
    "Answer:\n",
    "    Big O specifically describes the worst-case scenario, and can be used to describe the execution \n",
    "    time required or the space used by an algorithm.\n",
    "    \n",
    "\n",
    "\n",
    "Runtime Analysis of Algorithms\n",
    "\n",
    "In general cases, we mainly used to measure and compare the worst-case theoretical running time complexities of \n",
    "algorithms for the performance analysis. The fastest possible running time for any algorithm is O(1), \n",
    "commonly referred to as Constant Running Time. In this case, the algorithm always takes the same amount of \n",
    "time to execute, regardless of the input size. This is the ideal runtime for an algorithm, but it’s rarely achievable.\n",
    "In actual cases, the performance (Runtime) of an algorithm depends on n, that is the size of the input \n",
    "or the number of operations is required for each input item.    \n",
    "\n",
    "              Time Complexity\tSpace Complexity\n",
    "    \n",
    "    Access\tSearch\tInsertion\tDeletion\tAccess\tSearch\tInsertion\tDeletion\n",
    "Queue\tΘ(n)\tΘ(n)\tΘ(1)\tΘ(1)\tO(n)\tO(n)\tO(1)\tO(1)\tO(n)\n",
    "    "
   ]
  },
  {
   "cell_type": "raw",
   "metadata": {},
   "source": [
    "Q8: 0/10\n",
    "What is the result of carrying out both steps of the singly linked list add method in reverse order? \n",
    "What kind of reference results? \n",
    "What types of problems may result?\n",
    "(Hints: see the graphs below.)"
   ]
  },
  {
   "cell_type": "markdown",
   "metadata": {},
   "source": [
    "<div class=\"image123\">\n",
    "    <div style=\"float:left;margin-right:55px;\">\n",
    "    <figure>\n",
    "        <img src=\"images/list.add.node.at.front.png\" height=\"400\" width=\"400\"  />\n",
    "        <figcaption style=\"text-align:left;\">   Add a node (26) <br/>\n",
    "                    Step 1: temp.setNext(self.head)  <br/>\n",
    "        Step 2: self.head = temp\n",
    "        </figcaption>\n",
    "    </figure>\n",
    "    </div>\n",
    "    <div style=\"float:left;margin-right:55px;\">\n",
    "    <figure>\n",
    "        <img src=\"images/list.add.node.at.front.wrong.png\" height=\"400\" width=\"400\"  />\n",
    "        <figcaption style=\"text-align:left;\">   Erroneous node addition<br/>\n",
    "        Step 2: self.head = temp<br/>\n",
    "                            Step 1: temp.setNext(self.head)\n",
    "        </figcaption>\n",
    "    </figure>\n",
    "    </div> \n",
    "</div>"
   ]
  },
  {
   "cell_type": "markdown",
   "metadata": {},
   "source": [
    "Q9: 10/10\n",
    "What is the time complexity of the singly linked list remove method when the item to be removed is in the last node (that is, the pop() method). Explain the reason.\n"
   ]
  },
  {
   "cell_type": "code",
   "execution_count": null,
   "metadata": {},
   "outputs": [],
   "source": [
    "Answer: O(n) is the time complexity of linkedlist.\n"
   ]
  },
  {
   "cell_type": "markdown",
   "metadata": {},
   "source": [
    "Q10: 5/10\n",
    "With the tail pointer, the time comlexity for the append method can be improved to O(1). \n",
    "Explain the reason.\n",
    "\n",
    "Would the  tail pointer also improve the performance of the pop method to O(1) like the append method?"
   ]
  },
  {
   "cell_type": "raw",
   "metadata": {},
   "source": [
    "Answer: With tail we dont need to traverse. We just need to connect the node to a new node and then point the tail to new node.\n",
    "    tail.setNext(temp)\n",
    "    tail = newNode\n",
    "\n",
    "xxx Yes tail pointer can also improve the performance of the pop method to O(1)"
   ]
  },
  {
   "cell_type": "code",
   "execution_count": null,
   "metadata": {},
   "outputs": [],
   "source": []
  },
  {
   "cell_type": "markdown",
   "metadata": {},
   "source": [
    "<div class=\"image123\">\n",
    "    <div style=\"float:left;margin-right:55px;\">\n",
    "    <figure>\n",
    "        <img src=\"images/list.remove.tail.png\" height=\"300\" width=\"900\"  />\n",
    "        <figcaption style=\"text-align:center;\">  </figcaption>\n",
    "    </figure>\n",
    "    </div>\n",
    "\n",
    "</div>"
   ]
  },
  {
   "cell_type": "markdown",
   "metadata": {},
   "source": [
    "Q11: 10/10\n",
    "With an additional tail pointer in the list node, how can we improve the implementation of the Queue ADT such that both enqueue() and dequeue() take only O(1)? "
   ]
  },
  {
   "cell_type": "code",
   "execution_count": null,
   "metadata": {},
   "outputs": [],
   "source": [
    "Answer: \n",
    "For the singly linked list L, the operations L.pop(0) and L.append() takes O(1).\n",
    "When we use L as the internal engine of the queue, "
   ]
  },
  {
   "cell_type": "markdown",
   "metadata": {},
   "source": [
    "Q12: 0/10\n",
    "(Repeat the above question for the doubly linked lists.)\n",
    "What is the time complexity of the doubly linked list remove method  when the item to be removed is in the last node. Explain the reason.\n",
    "Would the time complexity change if the item to be removed is not the last node?\n",
    "List the codes for the remove method of the doubly circular linked list."
   ]
  },
  {
   "cell_type": "markdown",
   "metadata": {},
   "source": [
    "<div class=\"image123\">\n",
    "    <div style=\"float:left;margin-right:55px;\">\n",
    "    <figure>\n",
    "        <img src=\"images/doubly.linked.remove.tail.png\" height=\"600\" width=\"600\"  />\n",
    "        <figcaption style=\"text-align:center;\">    Remove the last node  </figcaption>\n",
    "    </figure>\n",
    "    </div>\n",
    "</div>"
   ]
  },
  {
   "cell_type": "raw",
   "metadata": {},
   "source": [
    "Q13: 3/10\n",
    "Explain how the remove method works when the item is in the only node in both singly and doubly circular linked list. Write the codes to implement the methods for both  lists. (Hints: the implementations of both methods in this case should be the same.)"
   ]
  },
  {
   "cell_type": "markdown",
   "metadata": {},
   "source": [
    "<div class=\"image123\">\n",
    "    <div style=\"float:left;margin-right:55px;\">\n",
    "    <figure>\n",
    "        <img src=\"images/doubly.linked.insertion.empty.png\" height=\"300\" width=\"300\"  />\n",
    "        <figcaption style=\"text-align:center;\">  </figcaption>\n",
    "    </figure>\n",
    "    </div>\n",
    "\n",
    "</div>"
   ]
  },
  {
   "cell_type": "code",
   "execution_count": null,
   "metadata": {},
   "outputs": [],
   "source": [
    "# Answers with Explanation in between added:\n",
    "# 1. Deleting a Node for the Double Linked List\n",
    "class DoublyLinkedList:\n",
    "    # Constructor for empty Doubly Linked List \n",
    "    def __init__(self):\n",
    "        self.head = None\n",
    "\n",
    "    # Function to delete a node in a Doubly Linked List. \n",
    "    # head_ref --> pointer to head node pointer. \n",
    "    # dele --> pointer to node to be deleted \n",
    "\n",
    "    def deleteNode(self, dele):\n",
    "\n",
    "        # Base Case \n",
    "        if self.head is None or dele is None:\n",
    "            return\n",
    "\n",
    "            # If node to be deleted is head node \n",
    "        if self.head == dele:\n",
    "            self.head = dele.next\n",
    "\n",
    "        # Change next only if node to be deleted is NOT \n",
    "        # the last node \n",
    "        if dele.next is not None:\n",
    "            dele.next.prev = dele.prev\n",
    "\n",
    "            # Change prev only if node to be deleted is NOT  \n",
    "        # the first node \n",
    "        if dele.prev is not None:\n",
    "            dele.prev.next = dele.next"
   ]
  },
  {
   "cell_type": "code",
   "execution_count": null,
   "metadata": {},
   "outputs": [],
   "source": [
    "# 2 . Deleting a Node for the Single Linked List\n",
    "class Node:\n",
    "\n",
    "    # Constructor to initialize the node object \n",
    "    def __init__(self, data):\n",
    "        self.data = data\n",
    "        self.next = None\n",
    "\n",
    "\n",
    "class LinkedList:\n",
    "\n",
    "    # Constructor to initialize head \n",
    "    def __init__(self):\n",
    "        self.head = None\n",
    "\n",
    "    # Function to insert a new node at the beginning \n",
    "    def push(self, new_data):\n",
    "        new_node = Node(new_data)\n",
    "        new_node.next = self.head\n",
    "        self.head = new_node\n",
    "\n",
    "    # Given a reference to the head of a list \n",
    "    # and a position, delete the node at a given position \n",
    "    def deleteNode(self, position):\n",
    "\n",
    "        # If linked list is empty \n",
    "        if self.head == None:\n",
    "            return\n",
    "\n",
    "        # Store head node \n",
    "        temp = self.head\n",
    "\n",
    "        # If head needs to be removed \n",
    "        if position == 0:\n",
    "            self.head = temp.next\n",
    "            temp = None\n",
    "            return\n",
    "\n",
    "        # Find previous node of the node to be deleted \n",
    "        for i in range(position - 1):\n",
    "            temp = temp.next\n",
    "            if temp is None:\n",
    "                break\n",
    "\n",
    "        # If position is more than number of nodes \n",
    "        if temp is None:\n",
    "            return\n",
    "        if temp.next is None:\n",
    "            return\n",
    "\n",
    "        # Node temp.next is the node to be deleted \n",
    "        # store pointer to the next of node to be deleted \n",
    "        next = temp.next.next\n",
    "\n",
    "        # Unlink the node from linked list \n",
    "        temp.next = None\n",
    "\n",
    "        temp.next = next\n",
    "\n"
   ]
  }
 ],
 "metadata": {
  "kernelspec": {
   "display_name": "Python 3",
   "language": "python",
   "name": "python3"
  },
  "language_info": {
   "codemirror_mode": {
    "name": "ipython",
    "version": 3
   },
   "file_extension": ".py",
   "mimetype": "text/x-python",
   "name": "python",
   "nbconvert_exporter": "python",
   "pygments_lexer": "ipython3",
   "version": "3.7.1"
  }
 },
 "nbformat": 4,
 "nbformat_minor": 2
}
