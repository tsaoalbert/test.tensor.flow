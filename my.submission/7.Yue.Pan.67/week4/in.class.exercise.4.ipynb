{
 "cells": [
  {
   "cell_type": "markdown",
   "metadata": {},
   "source": [
    "<h1> <a href= \"http://interactivepython.org/runestone/static/pythonds/Recursion/toctree.html\"> In Class Exercise: #4 </a>  </h1>\n",
    "<ul>\n",
    "    \n",
    "<li> Recursion vs Iteration </li>\n",
    "<li> Three Laws of Recusion</li>\n",
    "<li>  Example: Tower of Hanoi, Maze, Dynamic Programming</li>\n",
    "</ul>\n"
   ]
  },
  {
   "cell_type": "markdown",
   "metadata": {},
   "source": [
    "<h1> <a href= \"http://interactivepython.org/runestone/static/pythonds/Recursion/DiscussionQuestions.html\">4.15. Discussion Questions\n",
    " </a> \n",
    "\n",
    "</h1>\n",
    "\n"
   ]
  },
  {
   "cell_type": "markdown",
   "metadata": {},
   "source": [
    "Write both  recursive and iterative function to compute the Fibonacci sequence. \n",
    "        How does the performance of the recursive function compare to that of an iterative version?\n",
    "           F(1)=F(2) = 1\n",
    "   F(n) = F(n-1)+F(n-2), for n >= 3"
   ]
  },
  {
   "cell_type": "code",
   "execution_count": 1,
   "metadata": {},
   "outputs": [],
   "source": [
    "def fib_recursive(n):\n",
    "    if n <=0:\n",
    "        return 0\n",
    "    elif n<=2:\n",
    "        return n\n",
    "    else:\n",
    "        return fib_recursive(n-1)+fib_recursive(n-2)"
   ]
  },
  {
   "cell_type": "code",
   "execution_count": 2,
   "metadata": {},
   "outputs": [],
   "source": [
    "def fib_iterative(n):\n",
    "    current = 1\n",
    "    last = 0\n",
    "    if n <= 0:\n",
    "        return 0\n",
    "    elif n < 2:\n",
    "        return 1\n",
    "    else:\n",
    "        for i in range(n):\n",
    "            fib = current + last\n",
    "            last = current\n",
    "            current = fib\n",
    "        return current"
   ]
  },
  {
   "cell_type": "code",
   "execution_count": 15,
   "metadata": {},
   "outputs": [
    {
     "name": "stdout",
     "output_type": "stream",
     "text": [
      "CPU times: user 263 ms, sys: 2.16 ms, total: 265 ms\n",
      "Wall time: 264 ms\n"
     ]
    },
    {
     "data": {
      "text/plain": [
       "1346269"
      ]
     },
     "execution_count": 15,
     "metadata": {},
     "output_type": "execute_result"
    }
   ],
   "source": [
    "%time fib_recursive(30)"
   ]
  },
  {
   "cell_type": "code",
   "execution_count": 16,
   "metadata": {},
   "outputs": [
    {
     "name": "stdout",
     "output_type": "stream",
     "text": [
      "CPU times: user 6 µs, sys: 0 ns, total: 6 µs\n",
      "Wall time: 8.82 µs\n"
     ]
    },
    {
     "data": {
      "text/plain": [
       "1346269"
      ]
     },
     "execution_count": 16,
     "metadata": {},
     "output_type": "execute_result"
    }
   ],
   "source": [
    "%time fib_iterative(30)"
   ]
  },
  {
   "cell_type": "markdown",
   "metadata": {},
   "source": [
    "Answer: The performance of the recursive method is worse than the iterative method. Because with the recursive method, we solve for overlapping subproblems repeatedly, whereas with iterative method, we solve for a specific fib(n) only once."
   ]
  },
  {
   "cell_type": "markdown",
   "metadata": {},
   "source": []
  },
  {
   "cell_type": "markdown",
   "metadata": {},
   "source": [
    "Using the dynamic programming algorithm for making change, find the smallest number of coins that you can use to make 33 cents in change. In addition to the usual coins assume that you have an 8 cent coin."
   ]
  },
  {
   "cell_type": "code",
   "execution_count": 3,
   "metadata": {},
   "outputs": [
    {
     "name": "stdout",
     "output_type": "stream",
     "text": [
      "Making change for 26 requires\n",
      "2 coins\n",
      "They are:\n",
      "1\n",
      "25\n"
     ]
    }
   ],
   "source": [
    "def dpMakeChange(coinValueList,change,minCoins,coinsUsed):\n",
    "    for cents in range(change+1):\n",
    "        coinCount = cents\n",
    "        newCoin = 1\n",
    "        for j in [c for c in coinValueList if c <= cents]:\n",
    "            if minCoins[cents-j] + 1 < coinCount:\n",
    "                coinCount = minCoins[cents-j] + 1\n",
    "                newCoin = j\n",
    "        minCoins[cents] = coinCount\n",
    "        coinsUsed[cents] = newCoin\n",
    "    return minCoins[change]\n",
    "\n",
    "def printCoins(coinsUsed,change):\n",
    "    coin = change\n",
    "    while coin > 0:\n",
    "        thisCoin = coinsUsed[coin]\n",
    "        print(thisCoin)\n",
    "        coin = coin - thisCoin\n",
    "\n",
    "def main():\n",
    "    amnt = 26\n",
    "    clist = [1,5,8,10,25]\n",
    "    coinsUsed = [0]*(amnt+1)\n",
    "    coinCount = [0]*(amnt+1)\n",
    "\n",
    "    print(\"Making change for\", amnt,\"requires\")\n",
    "    print(dpMakeChange(clist,amnt,coinCount,coinsUsed),\"coins\")\n",
    "    print(\"They are:\")\n",
    "    printCoins(coinsUsed,amnt)\n",
    "\n",
    "main()"
   ]
  },
  {
   "cell_type": "code",
   "execution_count": null,
   "metadata": {},
   "outputs": [],
   "source": []
  }
 ],
 "metadata": {
  "kernelspec": {
   "display_name": "Python 3",
   "language": "python",
   "name": "python3"
  },
  "language_info": {
   "codemirror_mode": {
    "name": "ipython",
    "version": 3
   },
   "file_extension": ".py",
   "mimetype": "text/x-python",
   "name": "python",
   "nbconvert_exporter": "python",
   "pygments_lexer": "ipython3",
   "version": "3.7.1"
  }
 },
 "nbformat": 4,
 "nbformat_minor": 2
}
