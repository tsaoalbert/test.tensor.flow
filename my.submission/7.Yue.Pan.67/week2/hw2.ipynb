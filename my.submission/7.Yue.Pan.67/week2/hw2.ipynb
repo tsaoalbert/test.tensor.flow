{
 "cells": [
  {
   "cell_type": "markdown",
   "metadata": {},
   "source": [
    "<h1> <a href='http://interactivepython.org/runestone/static/pythonds/AlgorithmAnalysis/toctree.html'> Assignment 2:  Algorithm Analysis  </a> </h1>"
   ]
  },
  {
   "cell_type": "markdown",
   "metadata": {},
   "source": [
    "<h3> <a href='http://interactivepython.org/runestone/static/pythonds/AlgorithmAnalysis/ProgrammingExercises.html'> 2.11 Programming Exercises  </a> </h3>"
   ]
  },
  {
   "cell_type": "markdown",
   "metadata": {},
   "source": [
    "Q1: What are the time complexity with Big-O notation for each of the following operations?\n",
    "* list index operator\n",
    "* dictionary get operator\n",
    "* dictionary set operator\n",
    "* del operator for lists \n",
    "* del operator for dictionaries \n"
   ]
  },
  {
   "cell_type": "markdown",
   "metadata": {},
   "source": [
    "Answers:\n",
    "   * O(1)\n",
    "   * O(1)\n",
    "   * O(1) \n",
    "   * O(N)\n",
    "   * O(1) "
   ]
  },
  {
   "cell_type": "markdown",
   "metadata": {},
   "source": [
    "Q2: (Continue) The following is an experiment to verify the time complexity of operations mentioned above.\n",
    " Fill in one of the five timeit.Timer objects (oa, ob,oc,od,oe) in the program  that are used to measure the perfromance of the following \n",
    "* list index operator             \n",
    "* Ans: ____oa_______ (Choose one of the objects oa, ob,oc,od,oe in the program.) \n",
    "* dictionary get operator         \n",
    "* Ans: ______ob________ (Choose one of the objects oa, ob,oc,od,oe in the program.)\n",
    "* dictionary set operator  \n",
    "* Ans: _______oc______ (Choose one of the objects oa, ob,oc,od,oe in the program.)\n",
    "* del operator for lists   A\n",
    "* Ans: ______od________ (Choose one of the objects oa, ob,oc,od,oe in the program.)\n",
    "* del operator for dictionaries   \n",
    "* Ans: _________oe_____ (Choose one of the objects oa, ob,oc,od,oe in the program.)"
   ]
  },
  {
   "cell_type": "raw",
   "metadata": {},
   "source": [
    "Q#3 (Continue) Usually the program take more time for larger problem size.\n",
    "As you may notice, the experimental data does not always show the property.\n",
    "perfromance of the following \n",
    "Discuss the possible reasons why this happens in the experiments."
   ]
  },
  {
   "cell_type": "code",
   "execution_count": 46,
   "metadata": {
    "scrolled": true
   },
   "outputs": [
    {
     "name": "stdout",
     "output_type": "stream",
     "text": [
      "   index:      list_index        dict_get        dict_set        list_del        dict_del \n",
      "  100000:         0.00003         0.00003         0.00001         0.00151         0.00004 \n",
      "  200000:         0.00003         0.00003         0.00001         0.00298         0.00005 \n",
      "  300000:         0.00003         0.00003         0.00001         0.00453         0.00005 \n",
      "  400000:         0.00003         0.00003         0.00001         0.00574         0.00004 \n",
      "  500000:         0.00003         0.00003         0.00001         0.00588         0.00003 \n",
      "  600000:         0.00003         0.00003         0.00001         0.00677         0.00004 \n",
      "  700000:         0.00003         0.00003         0.00001         0.00879         0.00004 \n",
      "  800000:         0.00003         0.00003         0.00001         0.01114         0.00005 \n",
      "  900000:         0.00003         0.00003         0.00001         0.01246         0.00005 \n",
      " 1000000:         0.00003         0.00003         0.00001         0.01432         0.00005 \n"
     ]
    }
   ],
   "source": [
    "\"\"\"\n",
    "\n",
    "#2.1 Devise an experiment to verify that the list index operator is O(1)\n",
    "#2.2 Devise an experiment to verify that get item and set item are O(1) for dictionaries.\n",
    "#2.3 Devise an experiment that compares the performance of the \n",
    "      del operator on lists and dictionaries.\n",
    "      \n",
    "\"\"\"\n",
    "import timeit\n",
    "import random as r\n",
    "\n",
    "oa = timeit.Timer(\"for i in L: lis[i]\", \"from __main__ import lis,L\")\n",
    "ob = timeit.Timer(\"for i in L: dict[i]\", \"from __main__ import dict,L\")\n",
    "oc = timeit.Timer(\"for i in L: dict[i]=-i\", \"from __main__ import dict,L\")\n",
    "\n",
    "od = timeit.Timer(\"for i in L: del lis[i]\", \"from __main__ import  lis,L; \")\n",
    "oe = timeit.Timer(\"for i in L: del dict[i]\", \"from __main__ import  dict,L; \")\n",
    "\n",
    "\n",
    "inc = 100000   #100000\n",
    "print(\"%8s: %15s %15s %15s %15s %15s \" \\\n",
    "      %(\"index\", \"list_index\",\"dict_get\",\"dict_set\", \"list_del\", \"dict_del\" ))\n",
    "num_repeats = 1       # 100000\n",
    "m = 100\n",
    "X= list ( range ( inc, inc*11, inc))\n",
    "A=[]; B=[]; C=[]; D=[]; E=[]\n",
    "for n in X :\n",
    "    lis = list(range(n))\n",
    "    dict = { i : i for i in lis }\n",
    "    L = list(range(0,n-m, n//m ))  # index\n",
    "       \n",
    "    a = oa.timeit(number=num_repeats)\n",
    "    b = ob.timeit(number=num_repeats)\n",
    "    c = oc.timeit(number=num_repeats)\n",
    "    A.append ( a )\n",
    "    B.append ( b )\n",
    "    C.append ( c)\n",
    "    \n",
    "    d = od.timeit(number=num_repeats)\n",
    "    e = oe.timeit(number=num_repeats)\n",
    "\n",
    "    D.append(d)\n",
    "    E.append (e )\n",
    "    print(\"%8d: %15.5f %15.5f %15.5f %15.5f %15.5f \" %(n, \\\n",
    "    a, b, c, d, e  ))\n"
   ]
  },
  {
   "cell_type": "raw",
   "metadata": {},
   "source": [
    "The following program displays the relationship between  run time vs the problem size for different opeations\n",
    "Repeat this experiements to display the relationship between  run time vs the problem size for anagramSolution 1,2, and 4. (Hints: you can use the codes from the lecture.)"
   ]
  },
  {
   "cell_type": "code",
   "execution_count": 18,
   "metadata": {},
   "outputs": [
    {
     "data": {
      "image/png": "[encoded data removed]",
      "text/plain": [
       "<Figure size 1152x648 with 1 Axes>"
      ]
     },
     "metadata": {},
     "output_type": "display_data"
    }
   ],
   "source": [
    "%matplotlib inline\n",
    "import matplotlib.pyplot as plt\n",
    "plt.style.use('seaborn-whitegrid')\n",
    "plt.figure(figsize=(16,9))\n",
    "\n",
    "\n",
    "plt.plot(X, A, label=\"A: \")\n",
    "plt.plot(X, B, label='B: ')\n",
    "plt.plot(X, C, label='C: ')\n",
    "\n",
    "plt.plot(X, D, label=\"D: \")\n",
    "plt.plot(X, E, label='E: ')\n",
    "\n",
    "plt.legend(loc=\"upper center\", fontsize=\"xx-large\")\n",
    "plt.show()"
   ]
  },
  {
   "cell_type": "code",
   "execution_count": 40,
   "metadata": {},
   "outputs": [
    {
     "name": "stdout",
     "output_type": "stream",
     "text": [
      "   index:       solution1       solution2       solution4 \n",
      "    1000:         0.10247         0.00057         0.00036 \n",
      "    2000:         0.38772         0.00112         0.00070 \n",
      "    3000:         0.89832         0.00183         0.00116 \n",
      "    4000:         1.58653         0.00227         0.00137 \n",
      "    5000:         2.46292         0.00294         0.00204 \n",
      "    6000:         3.52651         0.00358         0.00206 \n",
      "    7000:         4.86562         0.00423         0.00259 \n",
      "    8000:         6.36836         0.00490         0.00292 \n",
      "    9000:         7.95949         0.00515         0.00309 \n",
      "   10000:         9.93854         0.00595         0.00350 \n"
     ]
    }
   ],
   "source": [
    "import itertools\n",
    "from timeit import Timer\n",
    "import random\n",
    "import string\n",
    "\n",
    "# Assume len(s1)==len(s2)\n",
    "def anagramSolution1(s1,s2):  # O(N^2)\n",
    "    alist = list(s2)          # string s2 is immutable, alist is mutable\n",
    "\n",
    "    pos1 = 0\n",
    "    stillOK = True\n",
    "\n",
    "    while pos1 < len(s1) and stillOK:    # for each position in string s1 O(N)\n",
    "        pos2 = 0\n",
    "        found = False\n",
    "        while pos2 < len(alist) and not found:  # check if the current char exists on alist O(N)\n",
    "            if s1[pos1] == alist[pos2]:\n",
    "                found = True\n",
    "            else:\n",
    "                pos2 = pos2 + 1                 # if not found, move to next position\n",
    "\n",
    "        if found:\n",
    "            alist[pos2] = None\n",
    "        else:\n",
    "            stillOK = False\n",
    "\n",
    "        pos1 = pos1 + 1\n",
    "\n",
    "    return stillOK\n",
    "\n",
    "\n",
    "\n",
    "def anagramSolution2(s1,s2): # O(n log n)\n",
    "    \"\"\"\n",
    "    If s1 and s2 are sorted first, then they are anagram if s1==s2 \n",
    "\n",
    "    @param param1: the 1st string\n",
    "    @param param2: second string\n",
    "    @return: true if s1 and s2 are anagram\n",
    "    @raise keyError: raises an exception\n",
    "    \"\"\"\n",
    "    alist1 = list(s1)\n",
    "    alist2 = list(s2)\n",
    "\n",
    "\n",
    "    alist1.sort()\n",
    "    alist2.sort()\n",
    "    #return alist1 == alist2\n",
    "    \n",
    "    \n",
    "    pos = 0\n",
    "    matches = True\n",
    "\n",
    "    while pos < len(s1) and matches:\n",
    "        if alist1[pos]==alist2[pos]:\n",
    "            pos = pos + 1\n",
    "        else:\n",
    "            matches = False\n",
    "    return matches\n",
    "\n",
    "# def anagramSolution3(s1,s2): # O(n!) >  O(2^n)\n",
    "#     for s3 in itertools.permutations(s1):\n",
    "#         if \"\".join(s3)==s2:\n",
    "#             return True\n",
    "#     return theSum\n",
    "\n",
    "def anagramSolution4(s1,s2):  # O(n)\n",
    "    \"\"\"\n",
    "      count and compare\n",
    "    \"\"\"\n",
    "    c1 = [0]*26\n",
    "\n",
    "    n = len(s1)\n",
    "    x = ord('a')\n",
    "    for i in range( n ):\n",
    "        pos = ord(s1[i])-x\n",
    "        c1[pos] += 1\n",
    "        pos = ord(s2[i])-x\n",
    "        c1[pos] -=  1\n",
    "\n",
    "    for i in c1:\n",
    "        if i != 0:\n",
    "            return False\n",
    "\n",
    "    return True\n",
    "\n",
    "def demo():\n",
    "    x,y = randomword (5)\n",
    "    L = ( (x,y), ('abcd','dcba'), ('abcde','edcba'), ('abcde','edcba'), ('apple','pleap'), ('python', 'typhon'))\n",
    "    for z in L:\n",
    "        x = z[0]; y = z[1];\n",
    "        assert (anagramSolution1(x,y))\n",
    "        assert (anagramSolution2(x,y))\n",
    "#         assert (anagramSolution3(x,y))\n",
    "        assert (anagramSolution4(x,y))\n",
    "\n",
    "\n",
    "\n",
    "def randomword(length):\n",
    "    allchar = string.ascii_lowercase \n",
    "    L = [random.choice(allchar) for i in range(length) ]\n",
    "    random.shuffle(L)\n",
    "    x = ''.join(L)\n",
    "    random.shuffle(L)\n",
    "    y = ''.join(L)\n",
    "    return x,y\n",
    "\n",
    "demo() \n",
    "\n",
    "inc = 1000\n",
    "X= list ( range ( inc, inc*11, inc))\n",
    "A=[]; B=[]; C=[];\n",
    "if True:\n",
    "    print(\"%8s: %15s %15s %15s \" \\\n",
    "      %(\"index\", \"solution1\",\"solution2\",\"solution4\"))\n",
    "    for n in X:\n",
    "        x,y = randomword(n)\n",
    "        M=1\n",
    "        t1 = Timer(\"anagramSolution1(x,y)\", \"from __main__ import anagramSolution1, x, y \")\n",
    "        t2 = Timer(\"anagramSolution2(x,y)\", \"from __main__ import anagramSolution2, x, y \")\n",
    "        t4 = Timer(\"anagramSolution4(x,y)\", \"from __main__ import anagramSolution4, x,y \")\n",
    "        a = t1.timeit(number=M)\n",
    "        b = t2.timeit(number=M)\n",
    "        c = t4.timeit(number=M)\n",
    "        A.append ( a )\n",
    "        B.append ( b )\n",
    "        C.append ( c)\n",
    "        print(\"%8d: %15.5f %15.5f %15.5f \" %(n, \\\n",
    "        a, b, c ))"
   ]
  },
  {
   "cell_type": "code",
   "execution_count": 44,
   "metadata": {},
   "outputs": [
    {
     "data": {
      "image/png": "[encoded data removed]",
      "text/plain": [
       "<Figure size 1152x648 with 1 Axes>"
      ]
     },
     "metadata": {},
     "output_type": "display_data"
    }
   ],
   "source": [
    "plt.style.use('seaborn-whitegrid')\n",
    "plt.figure(figsize=(16,9))\n",
    "\n",
    "\n",
    "plt.plot(X, A, label=\"A: \")\n",
    "plt.plot(X, B, label='B: ')\n",
    "plt.plot(X, C, label='C: ')\n",
    "\n",
    "plt.legend(loc=\"upper center\", fontsize=\"xx-large\")\n",
    "plt.show()"
   ]
  },
  {
   "cell_type": "markdown",
   "metadata": {},
   "source": [
    "#   END of ASSIGNMENT"
   ]
  },
  {
   "cell_type": "code",
   "execution_count": null,
   "metadata": {},
   "outputs": [],
   "source": []
  }
 ],
 "metadata": {
  "kernelspec": {
   "display_name": "Python 3",
   "language": "python",
   "name": "python3"
  },
  "language_info": {
   "codemirror_mode": {
    "name": "ipython",
    "version": 3
   },
   "file_extension": ".py",
   "mimetype": "text/x-python",
   "name": "python",
   "nbconvert_exporter": "python",
   "pygments_lexer": "ipython3",
   "version": "3.6.5"
  }
 },
 "nbformat": 4,
 "nbformat_minor": 2
}
