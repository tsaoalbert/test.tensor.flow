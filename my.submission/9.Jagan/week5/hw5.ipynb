{
 "cells": [
  {
   "cell_type": "markdown",
   "metadata": {},
   "source": [
    "# <a href= \"http://interactivepython.org/runestone/static/pythonds/SortSearch/toctree.html\"> Chapter 5: Searching and Sorting </a>"
   ]
  },
  {
   "cell_type": "markdown",
   "metadata": {},
   "source": [
    "<h3> <a href= \"\n",
    "http://interactivepython.org/runestone/static/pythonds/SortSearch/ProgrammingExercises.html    \"> \n",
    "Programming Exercises\n",
    "</a>\n",
    "</h3>\n",
    "(Note that you may find answers or partial answers in the lecture notes.)"
   ]
  },
  {
   "cell_type": "markdown",
   "metadata": {},
   "source": [
    "Q#1: Implement the following for the hash table Map ADT implementation.\n",
    "<ul> \n",
    "  <li>  len method (__len__)</li>\n",
    "  <li> in method (__contains__)</li>\n",
    "  <li> del method using the following for collision resolution</li>\n",
    "  <ul>\n",
    "         <li>  chaining </li>\n",
    "         <li> open addressing</li>\n",
    "           <li>quadratic probing</li>\n",
    "  </ul>\n",
    "          \n",
    "</ul>\n",
    "\n"
   ]
  },
  {
   "cell_type": "code",
   "execution_count": null,
   "metadata": {},
   "outputs": [],
   "source": []
  },
  {
   "cell_type": "markdown",
   "metadata": {},
   "source": [
    "Q#2: Implement the mergeSort function without using the slice operator."
   ]
  },
  {
   "cell_type": "code",
   "execution_count": 19,
   "metadata": {},
   "outputs": [
    {
     "name": "stdout",
     "output_type": "stream",
     "text": [
      "Given array is\n",
      "19 101 33 5 6 7 2 44 72 12 1 0 \n",
      "\n",
      "Sorted array is\n",
      "0 1 2 5 6 7 12 19 33 44 72 101 "
     ]
    }
   ],
   "source": [
    "def merge(arr, l, m, r):   # \n",
    "  n1 = m - l + 1 \n",
    "  n2 = r- m \n",
    "  L = [ arr[l+i] for i in range(n1) ] \n",
    "  R = [ arr[m+1+i] for i in range(n2) ] \n",
    "\n",
    "  i = 0 \n",
    "  j = 0 \n",
    "  k = l \n",
    "  while i < n1 and j < n2 :\n",
    "    if L[i] <= R[j]:\n",
    "      arr[k] = L[i]\n",
    "      i += 1\n",
    "    else:\n",
    "      arr[k] = R[j]\n",
    "      j += 1\n",
    "    k += 1\n",
    "    \n",
    "  while i < n1:\n",
    "    arr[k] = L[i]\n",
    "    i += 1\n",
    "    k += 1\n",
    "\n",
    "  while j < n2:\n",
    "    arr[k] = R[j]\n",
    "    j += 1\n",
    "    k += 1\n",
    "\n",
    "\n",
    "def mergeSort(arr,l,r):\n",
    "\n",
    "  if l < r: \n",
    "    m = (l+(r-1))//2 \n",
    "    mergeSort(arr, l, m) \n",
    "    mergeSort(arr, m+1, r) \n",
    "    merge(arr, l, m, r) \n",
    "\n",
    "arr = [19, 101, 33, 5, 6, 7,2,44,72,12,1,0] \n",
    "n = len(arr) \n",
    "print (\"Given array is\") \n",
    "for i in range(n): \n",
    "  print (\"%d\" %arr[i], end=\" \")\n",
    "\n",
    "mergeSort(arr,0,n-1) \n",
    "print(\"\\n\\nSorted array is\") \n",
    "for i in range(n): \n",
    "  print (\"%d\" %arr[i], end = \" \")"
   ]
  },
  {
   "cell_type": "markdown",
   "metadata": {},
   "source": [
    "Q#3: Using a random number generator, create a list of 500 integers. Perform a benchmark analysis two sorting algorithmsfrom this chapter. The first one has to be one of the insertion/selection/bubble sorting algorithms and the other is one of the quick/merge sorting algorithm.  What is the difference in execution speed?"
   ]
  },
  {
   "cell_type": "code",
   "execution_count": 20,
   "metadata": {},
   "outputs": [
    {
     "name": "stdout",
     "output_type": "stream",
     "text": [
      "Selection Sort:\n",
      "0.013926982879638672\n",
      "Merge Sort\n",
      "0.0028841495513916016\n"
     ]
    }
   ],
   "source": [
    "import time, random\n",
    "\n",
    "def mergeSort(alist, i=0 ):\n",
    "\n",
    "\n",
    "  if len(alist)>1:\n",
    "    mid = len(alist)//2\n",
    "    lefthalf = alist[:mid]\n",
    "    righthalf = alist[mid:]\n",
    "\n",
    "    mergeSort(lefthalf, i+1)\n",
    "    mergeSort(righthalf, i+1)\n",
    "\n",
    "    i=0\n",
    "    j=0\n",
    "    k=0\n",
    "    while i<len(lefthalf) and j<len(righthalf):\n",
    "      if lefthalf[i]<righthalf[j]:\n",
    "        alist[k]=lefthalf[i]\n",
    "        i=i+1\n",
    "      else:\n",
    "        alist[k]=righthalf[j]\n",
    "        j=j+1\n",
    "      k=k+1\n",
    "\n",
    "    while i<len(lefthalf):\n",
    "      alist[k]=lefthalf[i]\n",
    "      i=i+1\n",
    "      k=k+1\n",
    "\n",
    "    while j<len(righthalf):\n",
    "      alist[k]=righthalf[j]\n",
    "      j=j+1\n",
    "      k=k+1\n",
    "\n",
    "\n",
    "\n",
    "def selectionSort(alist):\n",
    "\n",
    "  for i in range(len(alist)-1,0,-1):\n",
    "    j=i\n",
    "    for k in range(0,i):\n",
    "      if alist[k]>alist[j]:\n",
    "        j = k \n",
    "    alist[i], alist[j] = alist[j], alist[i]\n",
    "\n",
    "\n",
    "L= list ( range(500) )\n",
    "random.shuffle (L)\n",
    "print (\"Selection Sort:\")\n",
    "start = time.time()\n",
    "selectionSort(L)    # start time \n",
    "end = time.time()\n",
    "print ( end-start)\n",
    "\n",
    "L= list ( range(500) )\n",
    "random.shuffle (L)\n",
    "print(\"Merge Sort\")\n",
    "start = time.time()   # start time \n",
    "mergeSort(L)\n",
    "end = time.time()   # end time \n",
    "print ( end-start) # start time and end time diffarence "
   ]
  },
  {
   "cell_type": "markdown",
   "metadata": {},
   "source": [
    "Q#4; Given a list of numbers in random order, write an algorithm that works\n",
    "      in O(nlog(n)) to find the kth smallest number in the list."
   ]
  },
  {
   "cell_type": "code",
   "execution_count": 21,
   "metadata": {},
   "outputs": [
    {
     "name": "stdout",
     "output_type": "stream",
     "text": [
      "6\n"
     ]
    }
   ],
   "source": [
    "def selection (K,L): # The given list L is in random order\n",
    "    L.sort() #sort L in an increasing order\n",
    "    return L[K] # return k_th smallest, L(0):Smallest, L[1]:2nd smallest\n",
    "\n",
    "L = [3,2,6,4,9,1,]\n",
    "print (selection (4,L))"
   ]
  },
  {
   "cell_type": "markdown",
   "metadata": {},
   "source": [
    "Q#5: Improve the algorithm from the previous problem to be linear? (Hints: the qsort algorithms.) \n"
   ]
  },
  {
   "cell_type": "code",
   "execution_count": 22,
   "metadata": {},
   "outputs": [
    {
     "data": {
      "text/plain": [
       "-1"
      ]
     },
     "execution_count": 22,
     "metadata": {},
     "output_type": "execute_result"
    }
   ],
   "source": [
    "def search(arr, x):  # Linearly search x in arr[]\n",
    " \n",
    "    for i in range(len(arr)): # If x is present then return its location\n",
    " \n",
    "        if arr[i] == x:  # else return -1\n",
    " \n",
    "            return i\n",
    "return -1"
   ]
  },
  {
   "cell_type": "markdown",
   "metadata": {},
   "source": [
    "(Optional) Research perfect hash functions. Using a list of names (classmates, family members, etc.), generate the hash values using the perfect hash algorithm."
   ]
  }
 ],
 "metadata": {
  "kernelspec": {
   "display_name": "Python 3",
   "language": "python",
   "name": "python3"
  },
  "language_info": {
   "codemirror_mode": {
    "name": "ipython",
    "version": 3
   },
   "file_extension": ".py",
   "mimetype": "text/x-python",
   "name": "python",
   "nbconvert_exporter": "python",
   "pygments_lexer": "ipython3",
   "version": "3.7.1"
  }
 },
 "nbformat": 4,
 "nbformat_minor": 2
}
