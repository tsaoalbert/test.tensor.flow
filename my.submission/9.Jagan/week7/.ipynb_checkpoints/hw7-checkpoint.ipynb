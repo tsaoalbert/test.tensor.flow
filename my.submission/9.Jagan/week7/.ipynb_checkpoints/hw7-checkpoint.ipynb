{
 "cells": [
  {
   "cell_type": "markdown",
   "metadata": {},
   "source": [
    "<h1> HW #7:  Tree and Tree Algorithms </h1>"
   ]
  },
  {
   "cell_type": "markdown",
   "metadata": {},
   "source": [
    "<h3> The questions are taken from\n",
    "<a href='\n",
    "http://interactivepython.org/runestone/static/pythonds/Graphs/ProgrammingExercises.html\n",
    "         '> 7.26. Programming Exercises  </a></h3>\n"
   ]
  },
  {
   "cell_type": "raw",
   "metadata": {},
   "source": [
    "Q#1 Modify the depth first search function to produce a topological sort. Write down the algorithms with pseudo codes. No coding is required"
   ]
  },
  {
   "cell_type": "raw",
   "metadata": {},
   "source": [
    "Q#2 Modify the depth first search to produce strongly connected components. Write down the algorithms with pseudo codes. No coding is required"
   ]
  },
  {
   "cell_type": "code",
   "execution_count": null,
   "metadata": {},
   "outputs": [],
   "source": []
  },
  {
   "cell_type": "raw",
   "metadata": {},
   "source": [
    "Q#3: (Optional) Write a Python program to implement the transpose method for the Graph class."
   ]
  },
  {
   "cell_type": "raw",
   "metadata": {},
   "source": [
    "Q#4: Using BFS revise the maze program from the recursion chapter to find the shortest path out of a maze."
   ]
  },
  {
   "cell_type": "code",
   "execution_count": 1,
   "metadata": {},
   "outputs": [
    {
     "name": "stdout",
     "output_type": "stream",
     "text": [
      "1 0 0 0 \n",
      "1 1 0 0 \n",
      "0 1 0 0 \n",
      "0 1 1 1 \n"
     ]
    }
   ],
   "source": [
    "N = 4  # Maze size \n",
    "  \n",
    "def printSolution( sol ): # A utility function to print solution matrix sol \n",
    "      \n",
    "    for i in sol: \n",
    "        for j in i: \n",
    "            print(str(j) + \" \", end=\"\") \n",
    "        print(\"\") \n",
    "  \n",
    "# A utility function to check if x,y is valid \n",
    "# index for N*N Maze \n",
    "def isSafe( maze, x, y ): \n",
    "      \n",
    "    if x >= 0 and x < N and y >= 0 and y < N and maze[x][y] == 1: \n",
    "        return True\n",
    "      \n",
    "    return False\n",
    "\n",
    "def solveMaze( maze ): \n",
    "      \n",
    "    # Creating a 4 * 4 2-D list \n",
    "    sol = [ [ 0 for j in range(4) ] for i in range(4) ] \n",
    "      \n",
    "    if solveMazeUtil(maze, 0, 0, sol) == False: \n",
    "        print(\"Solution doesn't exist\"); \n",
    "        return False\n",
    "      \n",
    "    printSolution(sol) \n",
    "    return True\n",
    "      \n",
    "def solveMazeUtil(maze, x, y, sol):   # A recursive utility function to solve Maze problem \n",
    "      \n",
    "    #if (x,y is goal) return True \n",
    "    if x == N - 1 and y == N - 1: \n",
    "        sol[x][y] = 1\n",
    "        return True\n",
    "          \n",
    "    if isSafe(maze, x, y) == True:   # Check if maze[x][y] is valid \n",
    "        \n",
    "        sol[x][y] = 1   # mark x, y as part of solution path \n",
    "        \n",
    "        if solveMazeUtil(maze, x + 1, y, sol) == True: # Move forward in x direction \n",
    "            return True\n",
    "              \n",
    "        if solveMazeUtil(maze, x, y + 1, sol) == True: \n",
    "            return True     # If none of the above movements work then  \n",
    "         \n",
    "        sol[x][y] = 0       # BACKTRACK: unmark x,y as part of solution path\n",
    "        return False\n",
    "  \n",
    "# Driver program to test above function \n",
    "if __name__ == \"__main__\": \n",
    "                       \n",
    "    maze = [ [1, 0, 0, 0],    # Initialising the maze \n",
    "             [1, 1, 0, 1], \n",
    "             [0, 1, 0, 0], \n",
    "             [1, 1, 1, 1] ] \n",
    "               \n",
    "    solveMaze(maze) \n",
    "  "
   ]
  },
  {
   "cell_type": "raw",
   "metadata": {},
   "source": [
    "Q#5:\n",
    "Dijkstra’s Algorithm: Fill in the table, where\n",
    "dv = Shortest path length from source node s to v\n",
    "pv = Node in T to which Node v is connected\n"
   ]
  },
  {
   "cell_type": "markdown",
   "metadata": {},
   "source": [
    "<div class=\"binarySearch\">\n",
    "    <div style=\"float:left;margin-top:75px;\">\n",
    "    <figure>\n",
    "        <img src=\"images/dijkstra.hw7.5.png\" height=\"400\" width=\"500\"  />\n",
    "        <figcaption style=\"text-align:center;\">   </figcaption>\n",
    "    </figure>\n",
    "    </div>\n",
    "    <div style=\"float:left;margin-right:55px;\">\n",
    "    <figure>\n",
    "        <img src=\"images/dijkstra.hw7.5_2.png\" width=\"300\"   />\n",
    "        <figcaption style=\"text-align:center;\">   </figcaption>\n",
    "    </figure>\n",
    "    </div>\n",
    "</div>"
   ]
  },
  {
   "cell_type": "markdown",
   "metadata": {},
   "source": [
    "Q#6\n",
    "What is the Big-O running time of \n",
    "* the buildGraph function?\n",
    "* the topological sort algorithm.\n",
    "* the strongly connected components algorithm.\n",
    "* Prim’s minimum spanning tree algorithm?"
   ]
  }
 ],
 "metadata": {
  "kernelspec": {
   "display_name": "Python 3",
   "language": "python",
   "name": "python3"
  },
  "language_info": {
   "codemirror_mode": {
    "name": "ipython",
    "version": 3
   },
   "file_extension": ".py",
   "mimetype": "text/x-python",
   "name": "python",
   "nbconvert_exporter": "python",
   "pygments_lexer": "ipython3",
   "version": "3.7.1"
  }
 },
 "nbformat": 4,
 "nbformat_minor": 2
}
