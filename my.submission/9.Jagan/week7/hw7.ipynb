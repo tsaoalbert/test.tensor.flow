{
 "cells": [
  {
   "cell_type": "markdown",
   "metadata": {},
   "source": [
    "<h1> HW #7:  Tree and Tree Algorithms </h1>"
   ]
  },
  {
   "cell_type": "markdown",
   "metadata": {},
   "source": [
    "<h3> The questions are taken from\n",
    "<a href='\n",
    "http://interactivepython.org/runestone/static/pythonds/Graphs/ProgrammingExercises.html\n",
    "         '> 7.26. Programming Exercises  </a></h3>\n"
   ]
  },
  {
   "cell_type": "raw",
   "metadata": {},
   "source": [
    "20/20\n",
    "Q#1 Modify the depth first search function to produce a topological sort. Write down the algorithms with pseudo codes. No coding is required"
   ]
  },
  {
   "cell_type": "code",
   "execution_count": null,
   "metadata": {},
   "outputs": [],
   "source": [
    "The algorithm for the topological sort is as follows\n",
    "1) Call dfs(g) for some graph g.The main reason we want to call depth first search is to compute the finish times for\n",
    "   each of the vertices.\n",
    "2) Store the vertices in a list in decreasing order of finish time.\n",
    "3) Return the ordered list as the result of the topology sort."
   ]
  },
  {
   "cell_type": "raw",
   "metadata": {},
   "source": [
    "20/20\n",
    "Q#2 Modify the depth first search to produce strongly connected components. Write down the algorithms with pseudo codes. No coding is required"
   ]
  },
  {
   "cell_type": "code",
   "execution_count": null,
   "metadata": {},
   "outputs": [],
   "source": [
    "We can now decrible the alogorithm to computer the strongly connected components for a graph.\n",
    "1) Call dfs for the graph G to compute the finish times for each vertex.\n",
    "2) Compute GT\n",
    "3) Call dfs for the graph GT but in the main loop DFS explore each vertex in decreasing order of finish time.\n",
    "4) Each tree in the forest in the step 3 is a strongly connected component. Output the vertex ids for each vertex\n",
    "   in each tree in the forest to identify the component."
   ]
  },
  {
   "cell_type": "raw",
   "metadata": {},
   "source": [
    "Q#3: (Optional) Write a Python program to implement the transpose method for the Graph class."
   ]
  },
  {
   "cell_type": "raw",
   "metadata": {},
   "source": [
    "10/20\n",
    "Q#4: Using BFS revise the maze program from the recursion chapter to find the shortest path out of a maze."
   ]
  },
  {
   "cell_type": "code",
   "execution_count": 3,
   "metadata": {},
   "outputs": [
    {
     "name": "stdout",
     "output_type": "stream",
     "text": [
      "1 0 0 0 \n",
      "1 1 0 0 \n",
      "0 1 0 0 \n",
      "0 1 1 1 \n"
     ]
    }
   ],
   "source": [
    "N = 4  # Maze size \n",
    "  \n",
    "def printSolution( sol ): # A utility function to print solution matrix sol \n",
    "      \n",
    "    for i in sol: \n",
    "        for j in i: \n",
    "            print(str(j) + \" \", end=\"\") \n",
    "        print(\"\") \n",
    "  \n",
    "# A utility function to check if x,y is valid \n",
    "# index for N*N Maze \n",
    "def isSafe( maze, x, y ): \n",
    "      \n",
    "    if x >= 0 and x < N and y >= 0 and y < N and maze[x][y] == 1: \n",
    "        return True\n",
    "      \n",
    "    return False\n",
    "\n",
    "def solveMaze( maze ): \n",
    "      \n",
    "    # Creating a 4 * 4 2-D list \n",
    "    sol = [ [ 0 for j in range(4) ] for i in range(4) ] \n",
    "      \n",
    "    if solveMazeUtil(maze, 0, 0, sol) == False: \n",
    "        print(\"Solution doesn't exist\"); \n",
    "        return False\n",
    "      \n",
    "    printSolution(sol) \n",
    "    return True\n",
    "      \n",
    "def solveMazeUtil(maze, x, y, sol):   # A recursive utility function to solve Maze problem \n",
    "      \n",
    "    #if (x,y is goal) return True \n",
    "    if x == N - 1 and y == N - 1: \n",
    "        sol[x][y] = 1\n",
    "        return True\n",
    "          \n",
    "    if isSafe(maze, x, y) == True:   # Check if maze[x][y] is valid \n",
    "        \n",
    "        sol[x][y] = 1   # mark x, y as part of solution path \n",
    "        \n",
    "        if solveMazeUtil(maze, x + 1, y, sol) == True: # Move forward in x direction \n",
    "            return True\n",
    "              \n",
    "        if solveMazeUtil(maze, x, y + 1, sol) == True: \n",
    "            return True     # If none of the above movements work then  \n",
    "         \n",
    "        sol[x][y] = 0       # BACKTRACK: unmark x,y as part of solution path\n",
    "        return False\n",
    "  \n",
    "# Driver program to test above function \n",
    "if __name__ == \"__main__\": \n",
    "                       \n",
    "    maze = [ [1, 0, 0, 0],    # Initialising the maze \n",
    "             [1, 1, 0, 1], \n",
    "             [0, 1, 0, 0], \n",
    "             [1, 1, 1, 1] ] \n",
    "               \n",
    "    solveMaze(maze) \n",
    "  "
   ]
  },
  {
   "cell_type": "raw",
   "metadata": {},
   "source": [
    "10/20\n",
    "Q#5:\n",
    "Dijkstra’s Algorithm: Fill in the table, where\n",
    "dv = Shortest path length from source node s to v\n",
    "pv = Node in T to which Node v is connected\n"
   ]
  },
  {
   "cell_type": "code",
   "execution_count": null,
   "metadata": {},
   "outputs": [],
   "source": [
    "A T 8 B\n",
    "B T 5 C\n",
    "C T 1 D\n",
    "D T - -\n",
    "E T 2 F\n",
    "F T 3 C\n",
    "\n",
    "Total: 19"
   ]
  },
  {
   "cell_type": "markdown",
   "metadata": {},
   "source": [
    "<div class=\"binarySearch\">\n",
    "    <div style=\"float:left;margin-top:75px;\">\n",
    "    <figure>\n",
    "        <img src=\"images/dijkstra.hw7.5.png\" height=\"400\" width=\"500\"  />\n",
    "        <figcaption style=\"text-align:center;\">   </figcaption>\n",
    "    </figure>\n",
    "    </div>\n",
    "    <div style=\"float:left;margin-right:55px;\">\n",
    "    <figure>\n",
    "        <img src=\"images/dijkstra.hw7.5_2.png\" width=\"300\"   />\n",
    "        <figcaption style=\"text-align:center;\">   </figcaption>\n",
    "    </figure>\n",
    "    </div>\n",
    "</div>"
   ]
  },
  {
   "cell_type": "markdown",
   "metadata": {},
   "source": [
    "10/20\n",
    "Q#6\n",
    "What is the Big-O running time of \n",
    "* the buildGraph function?\n",
    "* the topological sort algorithm.\n",
    "* the strongly connected components algorithm.\n",
    "* Prim’s minimum spanning tree algorithm?"
   ]
  },
  {
   "cell_type": "code",
   "execution_count": null,
   "metadata": {},
   "outputs": [],
   "source": [
    "#BuildGraph function\n",
    "- A path that begins and ends at the same node is called a cycle\n",
    "- Two nodes are connected if there is a path between them.\n",
    "- A graph is connected if every pair of its nodes is connected. \n",
    "- A graph is acyclic if it doesn’t have any cycle.\n",
    "- tree is connected, acyclic graph.  |E| = |V| -1\n",
    "\n",
    "#Topological sort algorithm\n",
    "Topological-Sort()\n",
    "{  // condition: the graph is a DAG\n",
    "Run DFS\n",
    "When a vertex is finished, output it\n",
    "Vertices are output in reverse topological order\n",
    "}\n",
    "Time: O(V+E)\n",
    "Correctness: Want to prove that\u000b",
    "\t(u,v) Î G Þ u®f > v®f\n",
    "\n",
    "\n",
    "#Strong Connected Component Algorithm:\n",
    "- call DFS(G) to compute finishing times f[u] for each vertex u. \n",
    "  Cost: O(E+V)\n",
    "- Compute GT   (transpose of G, all edges are revered.)               \n",
    "  Cost: O(E+V)\n",
    "- Call DFS(GT), but in the main loop of DFS, consider the vertices in order of decreasing f[u]    \n",
    "  Cost: O(E+V)\n",
    "- Each tree output at step 3 is a SCC of G\n",
    "\n",
    "#Prim's mimimum spanning tree algorithm:\n",
    "- Create a set mstSet that keeps track of vertices already included in MST.\n",
    "- Assign a key value to all vertices in the input graph. Initialize all key values as INFINITE. Assign key value as 0 for the first vertex so that it is picked first.\n",
    "- While mstSet doesn’t include all vertices\n",
    "    a) Pick a vertex u which is not there in mstSet and has minimum key value.\n",
    "    b) Include u to mstSet.\n",
    "    c) Update key value of all adjacent vertices of u. To update the key values, iterate through all adjacent vertices. \n",
    "For every adjacent vertex v, if weight of edge u-v is less than the previous key value of v, \n",
    "update the key value as weight of u-v\n",
    "\n",
    "\n"
   ]
  }
 ],
 "metadata": {
  "kernelspec": {
   "display_name": "Python 3",
   "language": "python",
   "name": "python3"
  },
  "language_info": {
   "codemirror_mode": {
    "name": "ipython",
    "version": 3
   },
   "file_extension": ".py",
   "mimetype": "text/x-python",
   "name": "python",
   "nbconvert_exporter": "python",
   "pygments_lexer": "ipython3",
   "version": "3.7.1"
  }
 },
 "nbformat": 4,
 "nbformat_minor": 2
}
