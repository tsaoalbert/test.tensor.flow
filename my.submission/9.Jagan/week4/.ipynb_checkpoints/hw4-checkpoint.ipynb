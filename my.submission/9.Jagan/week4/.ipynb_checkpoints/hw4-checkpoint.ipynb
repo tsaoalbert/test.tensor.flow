{
 "cells": [
  {
   "cell_type": "markdown",
   "metadata": {},
   "source": [
    "<h1> <a href= \"http://interactivepython.org/runestone/static/pythonds/Recursion/toctree.html\"> Assignment 4:  Recursion </a>  </h1>\n",
    "<ul>\n",
    "    \n",
    "<li> Recursion vs Iteration </li>\n",
    "<li> Three Laws of Recusion</li>\n",
    "<li>  Example: Tower of Hanoi, Maze, Dynamic Programming</li>\n",
    "</ul>\n"
   ]
  },
  {
   "cell_type": "markdown",
   "metadata": {},
   "source": [
    "<h3> <a href= \"\n",
    "http://interactivepython.org/runestone/static/pythonds/Recursion/pythondsProgrammingExercises.html\n",
    "    \">4.17. Programming Exercises\n",
    " </a> \n",
    "\n",
    "</h3>\n",
    "\n"
   ]
  },
  {
   "cell_type": "code",
   "execution_count": 1,
   "metadata": {},
   "outputs": [
    {
     "ename": "SyntaxError",
     "evalue": "invalid syntax (<ipython-input-1-59c60b9a15ff>, line 1)",
     "output_type": "error",
     "traceback": [
      "\u001b[0;36m  File \u001b[0;32m\"<ipython-input-1-59c60b9a15ff>\"\u001b[0;36m, line \u001b[0;32m1\u001b[0m\n\u001b[0;31m    Write both recursive and iterative function to compute the factorial of a number.\u001b[0m\n\u001b[0m             ^\u001b[0m\n\u001b[0;31mSyntaxError\u001b[0m\u001b[0;31m:\u001b[0m invalid syntax\n"
     ]
    }
   ],
   "source": [
    "Write both recursive and iterative function to compute the factorial of a number.\n",
    "How does the performance of the recursive function compare to that of an iterative version?\n",
    "   F(0)=F(1) = 1\n",
    "   F(n) = F(n-1)*n, for n >=2\n"
   ]
  },
  {
   "cell_type": "code",
   "execution_count": 1,
   "metadata": {},
   "outputs": [
    {
     "name": "stdout",
     "output_type": "stream",
     "text": [
      "fac_r(5) =  120\n",
      "fac_i(5) =  120\n"
     ]
    }
   ],
   "source": [
    "def fac_r (n):\n",
    "    if  (n<=1):\n",
    "        return 1\n",
    "    return fac_r(n-1)*n\n",
    "\n",
    "def fac_i(n):\n",
    "    ans = 1\n",
    "    for i in range (1,n+1):\n",
    "        ans *= i\n",
    "    return ans\n",
    "print(\"fac_r(5) = \", fac_r(5))\n",
    "print(\"fac_i(5) = \", fac_i(5))"
   ]
  },
  {
   "cell_type": "code",
   "execution_count": null,
   "metadata": {},
   "outputs": [],
   "source": [
    "Write both  recursive and iterative function to compute the Fibonacci sequence. \n",
    "        How does the performance of the recursive function compare to that of an iterative version?\n",
    "           F(1)=F(2) = 1\n",
    "   F(n) = F(n-1)+F(n-2), for n >= 3\n"
   ]
  },
  {
   "cell_type": "code",
   "execution_count": 2,
   "metadata": {},
   "outputs": [
    {
     "name": "stdout",
     "output_type": "stream",
     "text": [
      "6765\n",
      "6765\n"
     ]
    }
   ],
   "source": [
    "def fib_r (n):\n",
    "    if (n <=2):\n",
    "        return 1\n",
    "    return fib_r(n-1) + fib_r(n-2)\n",
    "\n",
    "def fib_i (n):\n",
    "    a=b=c=1\n",
    "    for i in range (3,n+1):\n",
    "        c = a+b;\n",
    "        a,b = b,c\n",
    "    return c\n",
    "i=20\n",
    "x = fib_i(i); print (x)\n",
    "y = fib_r(i); print (y)"
   ]
  },
  {
   "cell_type": "code",
   "execution_count": 2,
   "metadata": {},
   "outputs": [],
   "source": [
    "def fib_recursive (n):\n",
    "    if n <=0:\n",
    "        return 0\n",
    "    elif n<=2:\n",
    "        return n\n",
    "    else:\n",
    "        return fib_recursive(n-1)+fib_recursive(n-2)\n",
    "def fib_iterative (n):\n",
    "    pass"
   ]
  },
  {
   "cell_type": "code",
   "execution_count": null,
   "metadata": {},
   "outputs": [],
   "source": [
    "import turtle\n",
    "import random\n",
    "\n",
    "def tree(branchLen,t, thickness):\n",
    "    if branchLen > 5:\n",
    "        d = random.randint (10,15)  # a random number between 0 and 3\n",
    "        e = random.randint (1,2)  # a random number between 0 and 3\n",
    "        thickness -= e\n",
    "        t.pensize(thickness) # thickness, drawing pen size\n",
    "\n",
    "        t.forward(branchLen)\n",
    "        t.right(20)\n",
    "        tree(branchLen-d,t, thickness)\n",
    "        t.left(40)\n",
    "        tree(branchLen-d,t, thickness)\n",
    "        t.right(20)\n",
    "        t.backward(branchLen)\n",
    "        t.color ( random.choice ([\"red\", \"green\",\"orange\"] ) )\n",
    "\n",
    "def main():\n",
    "    t = turtle.Turtle()\n",
    "    myWin = turtle.Screen()\n",
    "    t.left(90)\n",
    "    t.up()\n",
    "    t.backward(100)\n",
    "    t.down()\n",
    "    t.color(\"blue\")\n",
    "    tree(75,t, 10)\n",
    "    myWin.exitonclick()\n",
    "\n",
    "main()"
   ]
  },
  {
   "cell_type": "markdown",
   "metadata": {},
   "source": [
    "\n",
    "Modify the recursive tree program to produce a more realistic looking tree with various brnach length/thickness, and braching angles."
   ]
  },
  {
   "cell_type": "raw",
   "metadata": {},
   "source": [
    "Modify the thickness of the branches so that as the branchLen gets smaller, the line gets thinner.\n",
    "Modify the color of the branches so that as the branchLen gets very short it is colored like a leaf.\n",
    "Modify the angle used in turning the turtle so that at each branch point the angle is selected at random in some range. For example choose the angle between 15 and 45 degrees. Play around to see what looks good.\n",
    "Modify the branchLen recursively so that instead of always subtracting the same amount you subtract a random amount in some range.\n",
    "If you implement all of the above ideas you will have a very realistic looking tree."
   ]
  },
  {
   "cell_type": "raw",
   "metadata": {},
   "source": [
    "Using the recursive rules as described, draw a Sierpinski triangle using paper and pencil."
   ]
  },
  {
   "cell_type": "code",
   "execution_count": null,
   "metadata": {},
   "outputs": [],
   "source": [
    "Draw a call stack for the Tower of Hanoi problem. Assume that you start with a stack of three disks."
   ]
  },
  {
   "cell_type": "code",
   "execution_count": null,
   "metadata": {},
   "outputs": [],
   "source": [
    "                                     0    .    .  \n",
    "                                     1    .    .  \n",
    "                                     2    .    .  \n",
    "                                   ---------------\n",
    "                                     A    B    C  \n",
    "\n",
    "Step 1: Move disc 0 from A to C\n",
    "                                     .    .    .  \n",
    "                                     1    .    .  \n",
    "                                     2    .    0  \n",
    "                                   ---------------\n",
    "                                     A    B    C  \n",
    "\n",
    "Step 2: Move disc 1 from A to B\n",
    "                                     .    .    .  \n",
    "                                     .    .    .  \n",
    "                                     2    1    0  \n",
    "                                   ---------------\n",
    "                                     A    B    C  \n",
    "                        \n",
    "Step 3: Move disc 1 from A to B\n",
    "                                     .    .    .  \n",
    "                                     .    .    0  \n",
    "                                     .    2    1  \n",
    "                                   ---------------\n",
    "                                     A    B    C  \n",
    "Step 4: Move disc 1 from A to B\n",
    "                                     .    .    0  \n",
    "                                     .    .    1  \n",
    "                                     .    .    2  \n",
    "                                   ---------------\n",
    "                                     A    B    C  \n",
    "\n",
    "\n",
    "                        "
   ]
  }
 ],
 "metadata": {
  "kernelspec": {
   "display_name": "Python 3",
   "language": "python",
   "name": "python3"
  },
  "language_info": {
   "codemirror_mode": {
    "name": "ipython",
    "version": 3
   },
   "file_extension": ".py",
   "mimetype": "text/x-python",
   "name": "python",
   "nbconvert_exporter": "python",
   "pygments_lexer": "ipython3",
   "version": "3.7.1"
  }
 },
 "nbformat": 4,
 "nbformat_minor": 2
}
