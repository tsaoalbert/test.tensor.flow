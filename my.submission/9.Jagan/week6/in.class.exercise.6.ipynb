{
 "cells": [
  {
   "cell_type": "markdown",
   "metadata": {},
   "source": [
    "<h1>\n",
    "<a href='http://interactivepython.org/runestone/static/pythonds/Trees/toctree.html'> \n",
    "    In Class Exercise #6: Trees and Tree Algorithms  </a>\n",
    "    </h1>"
   ]
  },
  {
   "cell_type": "code",
   "execution_count": null,
   "metadata": {},
   "outputs": [],
   "source": [
    "90/1"
   ]
  },
  {
   "cell_type": "markdown",
   "metadata": {},
   "source": [
    "<h1> <a href='http://interactivepython.org/runestone/static/pythonds/Trees/DiscussionQuestions.html'>\n",
    "6.21. Discussion Questions  </a></h1>"
   ]
  },
  {
   "cell_type": "markdown",
   "metadata": {},
   "source": [
    "10/20\n",
    "Q#1:\n",
    "Trace the algorithm for creating an expression tree for the expression (4∗8)/6−3."
   ]
  },
  {
   "cell_type": "code",
   "execution_count": null,
   "metadata": {},
   "outputs": [],
   "source": [
    "                   attached file in the submission \n",
    "      \n",
    "        -\n",
    "    /     3\n",
    "   *    6\n",
    " 4    8"
   ]
  },
  {
   "cell_type": "markdown",
   "metadata": {},
   "source": [
    "20/20\n",
    "Q#2:\n",
    "Consider the following list of integers: [10,9,8,7,6,5,4,3,2,1]. Show the binary heap resulting from inserting the integers one at a time.\n",
    "Hints: run the program from the lecture notes"
   ]
  },
  {
   "cell_type": "code",
   "execution_count": null,
   "metadata": {},
   "outputs": [],
   "source": [
    "bh = BinHeap()\n",
    "bh.buildHeap([10,9,8,7,6,5,4,3,2,1])\n",
    "print (bh)\n",
    "n=len(bh)\n",
    "for i in range (n):\n",
    "    print(bh.delMin())\n",
    "    \n",
    "bh = BinHeap()\n",
    "bh.bhildHeap([10,9,8,7,6,5,4,3,2,1])\n",
    "bh.draw()"
   ]
  },
  {
   "cell_type": "code",
   "execution_count": null,
   "metadata": {},
   "outputs": [],
   "source": [
    "                        +------------1-------------+\n",
    "            +-----------2-------+        +---------4-------+\n",
    "    +-------3-----+       +-----6        5                 8\n",
    "    10            7       9"
   ]
  },
  {
   "cell_type": "markdown",
   "metadata": {},
   "source": [
    "20/20\n",
    "Q#3:\n",
    "Draw the binary search tree that results from inserting the following keys in the order given:  \n",
    "b = [51, 52, 64, 41, 21, 40, 76, 67, 48, 91, 26, 24, 97, 8, 24]"
   ]
  },
  {
   "cell_type": "code",
   "execution_count": 2,
   "metadata": {},
   "outputs": [
    {
     "ename": "NameError",
     "evalue": "name 'BinHeap' is not defined",
     "output_type": "error",
     "traceback": [
      "\u001b[0;31m---------------------------------------------------------------------------\u001b[0m",
      "\u001b[0;31mNameError\u001b[0m                                 Traceback (most recent call last)",
      "\u001b[0;32m<ipython-input-2-871dd86efb62>\u001b[0m in \u001b[0;36m<module>\u001b[0;34m\u001b[0m\n\u001b[1;32m      1\u001b[0m \u001b[0;31m#from BinHeap import BinHeap\u001b[0m\u001b[0;34m\u001b[0m\u001b[0;34m\u001b[0m\u001b[0;34m\u001b[0m\u001b[0m\n\u001b[1;32m      2\u001b[0m \u001b[0;34m\u001b[0m\u001b[0m\n\u001b[0;32m----> 3\u001b[0;31m \u001b[0mbh\u001b[0m \u001b[0;34m=\u001b[0m \u001b[0mBinHeap\u001b[0m\u001b[0;34m(\u001b[0m\u001b[0;34m)\u001b[0m\u001b[0;34m\u001b[0m\u001b[0;34m\u001b[0m\u001b[0m\n\u001b[0m\u001b[1;32m      4\u001b[0m \u001b[0mbh\u001b[0m\u001b[0;34m.\u001b[0m\u001b[0mbuildHeap\u001b[0m\u001b[0;34m(\u001b[0m\u001b[0;34m[\u001b[0m\u001b[0;36m10\u001b[0m\u001b[0;34m,\u001b[0m\u001b[0;36m9\u001b[0m\u001b[0;34m,\u001b[0m\u001b[0;36m8\u001b[0m\u001b[0;34m,\u001b[0m\u001b[0;36m7\u001b[0m\u001b[0;34m,\u001b[0m\u001b[0;36m6\u001b[0m\u001b[0;34m,\u001b[0m\u001b[0;36m5\u001b[0m\u001b[0;34m,\u001b[0m\u001b[0;36m4\u001b[0m\u001b[0;34m,\u001b[0m\u001b[0;36m3\u001b[0m\u001b[0;34m,\u001b[0m\u001b[0;36m2\u001b[0m\u001b[0;34m,\u001b[0m\u001b[0;36m1\u001b[0m\u001b[0;34m]\u001b[0m\u001b[0;34m)\u001b[0m\u001b[0;34m\u001b[0m\u001b[0;34m\u001b[0m\u001b[0m\n\u001b[1;32m      5\u001b[0m \u001b[0mprint\u001b[0m \u001b[0;34m(\u001b[0m\u001b[0mbh\u001b[0m\u001b[0;34m)\u001b[0m\u001b[0;34m\u001b[0m\u001b[0;34m\u001b[0m\u001b[0m\n",
      "\u001b[0;31mNameError\u001b[0m: name 'BinHeap' is not defined"
     ]
    }
   ],
   "source": [
    "                          +---------------51-----------+\n",
    "             +-----------41----+                       52------+\n",
    "        +---21----------+      48                              64--------+\n",
    "        8         +----40                                           +----76---+\n",
    "            +----26                                                67        91----+\n",
    "            24                                                                     97"
   ]
  },
  {
   "cell_type": "markdown",
   "metadata": {},
   "source": [
    "20/20\n",
    "Q5:\n",
    "Given the following tree, perform the appropriate rotations to bring it back into balance.\n",
    "<div class=\"parse.tree\">\n",
    "    <div style=\"float:left;margin-top:55px;\">\n",
    "    <figure>\n",
    "        <img src=\"images/exer.5.13.png\"  width=\"200\" />\n",
    "        <figcaption style=\"text-align:center;\">  </figcaption>\n",
    "    </figure>\n",
    "    </div>\n",
    "</div>"
   ]
  },
  {
   "cell_type": "code",
   "execution_count": null,
   "metadata": {},
   "outputs": [],
   "source": [
    "                    +----------------D-------------+\n",
    "         +----------B--------+                     E-----------+\n",
    "         A                   C                                 F"
   ]
  }
 ],
 "metadata": {
  "kernelspec": {
   "display_name": "Python 3",
   "language": "python",
   "name": "python3"
  },
  "language_info": {
   "codemirror_mode": {
    "name": "ipython",
    "version": 3
   },
   "file_extension": ".py",
   "mimetype": "text/x-python",
   "name": "python",
   "nbconvert_exporter": "python",
   "pygments_lexer": "ipython3",
   "version": "3.7.1"
  }
 },
 "nbformat": 4,
 "nbformat_minor": 2
}
