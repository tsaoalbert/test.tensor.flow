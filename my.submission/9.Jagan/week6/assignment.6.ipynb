{
 "cells": [
  {
   "cell_type": "code",
   "execution_count": 2,
   "metadata": {},
   "outputs": [
    {
     "data": {
      "text/plain": [
       "3"
      ]
     },
     "execution_count": 2,
     "metadata": {},
     "output_type": "execute_result"
    }
   ],
   "source": [
    "Week6: Trees and Tree Algorithms\n",
    "  Topics:\n",
    "     Tree Traversal: in-order, pre-order, post-order\n",
    "     Priority Queues with Binary Heaps\n",
    "     Binary Search Trees:\n",
    "     Balnaced Binary Search Trees: AVL/Red-Black Tree\n",
    "\n",
    "HW#6:\n",
    "  Extend the buildParseTree function to handle\n",
    "        * expressions with no spaces between every character.\n",
    "        * boolean statements (and, or, and not).\n",
    "\n",
    "    Using the buildHeap method, write a sorting function that can sort a list in O(nlogn) time.\n",
    "\n",
    "    Implement a binary heap as a max heap.\n",
    "\n",
    "    Using the BinaryHeap class, implement a new class called PriorityQueue that\n",
    "      implement the constructor, plus the enqueue and dequeue methods."
   ]
  },
  {
   "cell_type": "markdown",
   "metadata": {},
   "source": [
    "<a href=' http://my.jessup.edu/'> my.jessup  </a>"
   ]
  },
  {
   "cell_type": "code",
   "execution_count": 3,
   "metadata": {},
   "outputs": [
    {
     "name": "stdout",
     "output_type": "stream",
     "text": [
      "Sorted array is\n",
      "0\n",
      "1\n",
      "2\n",
      "3\n",
      "4\n",
      "5\n",
      "6\n",
      "7\n",
      "8\n",
      "9\n",
      "10\n",
      "11\n",
      "12\n",
      "13\n",
      "14\n",
      "15\n",
      "16\n",
      "17\n",
      "18\n",
      "19\n"
     ]
    }
   ],
   "source": [
    "def heapify(arr, n, i): \n",
    "    largest = i  # Initialize largest as root \n",
    "    l = 2 * i + 1     # left = 2*i + 1 \n",
    "    r = 2 * i + 2     # right = 2*i + 2 \n",
    "  \n",
    "    # See if left child of root exists and is \n",
    "    # greater than root \n",
    "    if l < n and arr[i] < arr[l]: \n",
    "        largest = l \n",
    "  \n",
    "    # See if right child of root exists and is \n",
    "   \n",
    "    if r < n and arr[largest] < arr[r]: \n",
    "        largest = r \n",
    "  \n",
    "    if largest != i: # Change root, if needed \n",
    "        arr[i],arr[largest] = arr[largest],arr[i]  # swap \n",
    " \n",
    "        heapify(arr, n, largest) # Heapify the root.\n",
    " \n",
    "def heapSort(arr):       # The main function to sort an array of given size\n",
    "    n = len(arr) \n",
    "  \n",
    "    # Build a maxheap. \n",
    "    for i in range(n, -1, -1): \n",
    "        heapify(arr, n, i) \n",
    "                                      \n",
    "    for i in range(n-1, 0, -1):  # One by one extract elements \n",
    "        arr[i], arr[0] = arr[0], arr[i]   # swap \n",
    "        heapify(arr, i, 0) \n",
    "import random                                    \n",
    "arr = [ 12, 11, 13, 5, 6, 7]  # Driver code to test above \n",
    "arr = list ( range(20))\n",
    "random.shuffle (arr)\n",
    "heapSort(arr) \n",
    "n = len(arr) \n",
    "print (\"Sorted array is\") \n",
    "for i in range(n): \n",
    "    print (\"%d\" %arr[i]), "
   ]
  },
  {
   "cell_type": "code",
   "execution_count": 2,
   "metadata": {},
   "outputs": [
    {
     "name": "stdout",
     "output_type": "stream",
     "text": [
      "9\n",
      "6\n",
      "5\n",
      "3\n",
      "2\n"
     ]
    }
   ],
   "source": [
    "class BinHeap:\n",
    "    def __init__(self):\n",
    "        self.heapList = [0]\n",
    "        self.currentSize = 0\n",
    "\n",
    "\n",
    "    def percUp(self,i):\n",
    "        while i // 2 > 0:\n",
    "          if self.heapList[i] > self.heapList[i // 2]: # xxx\n",
    "             tmp = self.heapList[i // 2]\n",
    "             self.heapList[i // 2] = self.heapList[i]\n",
    "             self.heapList[i] = tmp\n",
    "          i = i // 2\n",
    "\n",
    "    def insert(self,k):\n",
    "      self.heapList.append(k)\n",
    "      self.currentSize = self.currentSize + 1\n",
    "      self.percUp(self.currentSize)\n",
    "\n",
    "    def percDown(self,i):\n",
    "      while (i * 2) <= self.currentSize:\n",
    "          mc = self.minChild(i)\n",
    "          if self.heapList[i] < self.heapList[mc]: # xxx\n",
    "              tmp = self.heapList[i]\n",
    "              self.heapList[i] = self.heapList[mc]\n",
    "              self.heapList[mc] = tmp\n",
    "          i = mc\n",
    "\n",
    "    def minChild(self,i):\n",
    "      if i * 2 + 1 > self.currentSize:\n",
    "          return i * 2\n",
    "      else:\n",
    "          if self.heapList[i*2] > self.heapList[i*2+1]:  # xxx\n",
    "              return i * 2\n",
    "          else:\n",
    "              return i * 2 + 1\n",
    "\n",
    "    def delMin(self):\n",
    "      retval = self.heapList[1]\n",
    "      self.heapList[1] = self.heapList[self.currentSize]\n",
    "      self.currentSize = self.currentSize - 1\n",
    "      self.heapList.pop()\n",
    "      self.percDown(1)\n",
    "      return retval\n",
    "\n",
    "    def buildHeap(self,alist):\n",
    "      i = len(alist) // 2\n",
    "      self.currentSize = len(alist)\n",
    "      self.heapList = [0] + alist[:]\n",
    "      while (i > 0):\n",
    "          self.percDown(i)\n",
    "          i = i - 1\n",
    "\n",
    "bh = BinHeap()\n",
    "bh.buildHeap([9,5,6,2,3])\n",
    "\n",
    "print(bh.delMin())\n",
    "print(bh.delMin())\n",
    "print(bh.delMin())\n",
    "print(bh.delMin())\n",
    "print(bh.delMin())"
   ]
  },
  {
   "cell_type": "code",
   "execution_count": 3,
   "metadata": {},
   "outputs": [
    {
     "name": "stdout",
     "output_type": "stream",
     "text": [
      "19, 18, 17, 16, 15, 14, 13, 12, 11, 10, \n"
     ]
    }
   ],
   "source": [
    "class PriorityQueue (BinHeap): # built on top of BinHeap\n",
    "    def  enqueue(self, k):      # implement enqueue and dequeue\n",
    "        self.insert (k)\n",
    "    def  dequeue(self):\n",
    "        return self.delMin()\n",
    "\n",
    "#xxx testing\n",
    "x = PriorityQueue()\n",
    "for i in range(20):\n",
    "    x.enqueue(i)\n",
    "for i in range(10):\n",
    "    y = x.dequeue()\n",
    "    print ( y, end=\", \")\n",
    "print ()"
   ]
  },
  {
   "cell_type": "code",
   "execution_count": null,
   "metadata": {},
   "outputs": [],
   "source": []
  }
 ],
 "metadata": {
  "kernelspec": {
   "display_name": "Python 3",
   "language": "python",
   "name": "python3"
  },
  "language_info": {
   "codemirror_mode": {
    "name": "ipython",
    "version": 3
   },
   "file_extension": ".py",
   "mimetype": "text/x-python",
   "name": "python",
   "nbconvert_exporter": "python",
   "pygments_lexer": "ipython3",
   "version": "3.7.1"
  }
 },
 "nbformat": 4,
 "nbformat_minor": 2
}
