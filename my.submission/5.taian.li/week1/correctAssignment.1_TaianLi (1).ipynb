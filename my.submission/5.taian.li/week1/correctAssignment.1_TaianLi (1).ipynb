{
 "cells": [
  {
   "cell_type": "markdown",
   "metadata": {},
   "source": [
    "<h1> Assignment #1:  Python Introduction </h1>"
   ]
  },
  {
   "cell_type": "markdown",
   "metadata": {},
   "source": [
    "<h2> <a href='http://interactivepython.org/runestone/static/pythonds/Introduction/ProgrammingExercises.html'> Programming Exercises  </a> </h2>"
   ]
  },
  {
   "cell_type": "markdown",
   "metadata": {
    "scrolled": true
   },
   "source": [
    "<h3> \n",
    "    The following program is use for programming exercises: #1-6.\n",
    "<br/>\n",
    "    Fill in the missing codes at the places marked by xxx\n",
    "</h3>"
   ]
  },
  {
   "cell_type": "code",
   "execution_count": 2,
   "metadata": {},
   "outputs": [
    {
     "name": "stdout",
     "output_type": "stream",
     "text": [
      "-5\n",
      "8\n",
      "-5/8 + 3/8 = -1/4\n",
      "-5/8 - 3/8 = -1\n",
      "-5/8 * 3/8 = -15/64\n",
      "-5/8 / 3/8 = -5/3\n",
      "-5/8 == 3/8 is False\n",
      "-5/8 != 3/8 is True\n",
      "-5/8 > 3/8 is False\n",
      "-5/8 >= 3/8 is False\n",
      "-5/8 < 3/8 is True\n",
      "-5/8 <= 3/8 is True\n"
     ]
    }
   ],
   "source": [
    "\"\"\"\n",
    "Add the following method to the Class Fraction\n",
    "__sub__, __mul__, and __truediv__  (Operators -,*/)\n",
    "__gt__, __ge__, __lt__, __le__, and __ne__  (Operators >, <, >=, <=, !=, == )\n",
    "\n",
    "\"\"\"\n",
    "def gcd(a,b):\n",
    "    while a%b != 0:\n",
    "        a,b = b, a%b\n",
    "    return b\n",
    "\n",
    "class Fraction:\n",
    "     # yyy\n",
    "     def __init__(self,a, b):\n",
    "         if type(a)!= int or type(b)!= int :\n",
    "            raise ValueError (\" Have to be an integer \" ) \n",
    "         if b==0:\n",
    "            raise ValueError (\" Denominator cannot be zero! \" ) \n",
    "\n",
    "         if b < 0:\n",
    "            a = -a; b = -b;\n",
    "         g = gcd (a, b)\n",
    "         self.num = a//g\n",
    "         self.den =  b//g\n",
    "\n",
    "     def __str__(self):\n",
    "        if self.num%self.den != 0:\n",
    "            return str(self.num)+\"/\"+str(self.den)\n",
    "        return str(int(self.num/self.den))\n",
    "\n",
    "     def show(self):\n",
    "        if self.num%self.den != 0:\n",
    "            print(self.num,\"/\",self.den)\n",
    "        else:\n",
    "            print(int(self.num/self.den))\n",
    "\n",
    "     def __add__(self,y):\n",
    "        a = self.num; b = self.den; c=y.num; d=y.den;\n",
    "        # x = a/b, y= c/d ==> x+y = (a*d+b*c)/b*d\n",
    "        return Fraction (a*d+b*c, b*d)\n",
    "\n",
    "\n",
    "     # xxx\n",
    "     def __sub__(self, y):\n",
    "        '''\n",
    "        Assume self = a/b, y= c/d ==> x-y = (ad-bc)/bd \n",
    "        '''\n",
    "        a = self.num; b = self.den; c=y.num; d=y.den;\n",
    "        return Fraction(a*d-b*c,b*d)\n",
    "\n",
    "     def __mul__(self, y):\n",
    "        '''\n",
    "        Assume self = a/b, y= c/d ==> x*y = ac/bd \n",
    "        '''  \n",
    "        a = self.num; b = self.den; c=y.num; d=y.den;\n",
    "        return Fraction(a*c,b*d)\n",
    "        \n",
    "     def __truediv__(self, y):\n",
    "        '''\n",
    "        Assume self = a/b, y= c/d ==> x/y = ac/bd \n",
    "        '''  \n",
    "        a = self.num; b = self.den; c=y.num; d=y.den;\n",
    "        return Fraction(a*d,b*c)        \n",
    "\n",
    "     def __eq__(self, y):\n",
    "        '''\n",
    "        Assume self = a/b, o= c/d, then x==y iff a*d==b*c\n",
    "        '''\n",
    "        a = self.num; b = self.den; c=y.num; d=y.den;\n",
    "        return a*d==b*c\n",
    "        \n",
    "     def __ne__(self, y):\n",
    "        '''\n",
    "        Assume self = a/b, o= c/d, then x!=y iff a*d!=b*c\n",
    "        '''\n",
    "        a = self.num; b = self.den; c=y.num; d=y.den;\n",
    "        return a*d!=b*c     \n",
    "    \n",
    "     def __gt__(self, y):\n",
    "        '''\n",
    "        Assume self = a/b, o= c/d, then x>y iff a*d>b*c\n",
    "        '''\n",
    "        a = self.num; b = self.den; c=y.num; d=y.den;\n",
    "        return a*d>b*c   \n",
    "    \n",
    "     def __ge__(self, y):\n",
    "        '''\n",
    "        Assume self = a/b, o= c/d, then x>=y iff a*d>=b*c\n",
    "        '''\n",
    "        a = self.num; b = self.den; c=y.num; d=y.den;\n",
    "        return a*d>=b*c\n",
    "    \n",
    "     def __lt__(self, y):\n",
    "        '''\n",
    "        Assume self = a/b, o= c/d, then x<y iff a*d<b*c\n",
    "        '''\n",
    "        a = self.num; b = self.den; c=y.num; d=y.den;\n",
    "        return a*d<b*c\n",
    "    \n",
    "     def __le__(self, y):\n",
    "        '''\n",
    "        Assume self = a/b, o= c/d, then x<=y iff a*d<=b*c\n",
    "        '''\n",
    "        a = self.num; b = self.den; c=y.num; d=y.den;\n",
    "        return a*d<=b*c\n",
    "    \n",
    "      # yyy\n",
    "     def getNum (self):\n",
    "        return self.num\n",
    "\n",
    "      # yyy\n",
    "     def getDen (self):\n",
    "        return self.den\n",
    "def demo():\n",
    "    x = Fraction(-5,8); y = Fraction(3,8); z = Fraction (7,6)\n",
    "    print(x.getNum())\n",
    "    print(x.getDen())\n",
    "    print(x, \"+\", y, \"=\", x+y)\n",
    "    print(x, \"-\", y, \"=\", x-y)\n",
    "    print(x, \"*\", y, \"=\", x*y)\n",
    "    print(x, \"/\", y, \"=\", x/y)\n",
    "    print( x, \"==\", y, \"is\", x == y)\n",
    "    print( x, \"!=\", y, \"is\", x != y)\n",
    "    print( x, \">\", y, \"is\", x > y)\n",
    "    print( x, \">=\", y, \"is\", x >= y)\n",
    "    print( x, \"<\", y, \"is\", x <= y)\n",
    "    print( x, \"<=\", y, \"is\", x <= y)\n",
    "demo()"
   ]
  },
  {
   "cell_type": "code",
   "execution_count": 20,
   "metadata": {},
   "outputs": [],
   "source": [
    "The following codes are used to test your work."
   ]
  },
  {
   "cell_type": "code",
   "execution_count": 17,
   "metadata": {},
   "outputs": [],
   "source": [
    "def unitTest():\n",
    "    x = Fraction(2,3); y = Fraction(1,2); \n",
    "    assert x != y\n",
    "    assert x > y\n",
    "    assert x >= y\n",
    "    assert x < y\n",
    "    assert x <= y\n",
    "    z = Fraction (7,6); assert x+y==z\n",
    "    z = Fraction (1,6); assert x-y == z\n",
    "    z = Fraction (1,3); assert x*y == z\n",
    "    z = Fraction (4,3); assert x/y == z\n",
    "#unitTest()"
   ]
  },
  {
   "cell_type": "markdown",
   "metadata": {},
   "source": [
    "#   END of ASSIGNMENTS"
   ]
  },
  {
   "cell_type": "code",
   "execution_count": 18,
   "metadata": {},
   "outputs": [
    {
     "ename": "AssertionError",
     "evalue": "",
     "output_type": "error",
     "traceback": [
      "\u001b[1;31m---------------------------------------------------------------------------\u001b[0m",
      "\u001b[1;31mAssertionError\u001b[0m                            Traceback (most recent call last)",
      "\u001b[1;32m<ipython-input-18-a02f53469951>\u001b[0m in \u001b[0;36m<module>\u001b[1;34m\u001b[0m\n\u001b[1;32m----> 1\u001b[1;33m \u001b[0munitTest\u001b[0m\u001b[1;33m(\u001b[0m\u001b[1;33m)\u001b[0m\u001b[1;33m\u001b[0m\u001b[1;33m\u001b[0m\u001b[0m\n\u001b[0m",
      "\u001b[1;32m<ipython-input-17-c1ff5a4c985a>\u001b[0m in \u001b[0;36munitTest\u001b[1;34m()\u001b[0m\n\u001b[0;32m      4\u001b[0m     \u001b[1;32massert\u001b[0m \u001b[0mx\u001b[0m \u001b[1;33m>\u001b[0m \u001b[0my\u001b[0m\u001b[1;33m\u001b[0m\u001b[1;33m\u001b[0m\u001b[0m\n\u001b[0;32m      5\u001b[0m     \u001b[1;32massert\u001b[0m \u001b[0mx\u001b[0m \u001b[1;33m>=\u001b[0m \u001b[0my\u001b[0m\u001b[1;33m\u001b[0m\u001b[1;33m\u001b[0m\u001b[0m\n\u001b[1;32m----> 6\u001b[1;33m     \u001b[1;32massert\u001b[0m \u001b[0mx\u001b[0m \u001b[1;33m<\u001b[0m \u001b[0my\u001b[0m\u001b[1;33m\u001b[0m\u001b[1;33m\u001b[0m\u001b[0m\n\u001b[0m\u001b[0;32m      7\u001b[0m     \u001b[1;32massert\u001b[0m \u001b[0mx\u001b[0m \u001b[1;33m<=\u001b[0m \u001b[0my\u001b[0m\u001b[1;33m\u001b[0m\u001b[1;33m\u001b[0m\u001b[0m\n\u001b[0;32m      8\u001b[0m     \u001b[0mz\u001b[0m \u001b[1;33m=\u001b[0m \u001b[0mFraction\u001b[0m \u001b[1;33m(\u001b[0m\u001b[1;36m7\u001b[0m\u001b[1;33m,\u001b[0m\u001b[1;36m6\u001b[0m\u001b[1;33m)\u001b[0m\u001b[1;33m;\u001b[0m \u001b[1;32massert\u001b[0m \u001b[0mx\u001b[0m\u001b[1;33m+\u001b[0m\u001b[0my\u001b[0m\u001b[1;33m==\u001b[0m\u001b[0mz\u001b[0m\u001b[1;33m\u001b[0m\u001b[1;33m\u001b[0m\u001b[0m\n",
      "\u001b[1;31mAssertionError\u001b[0m: "
     ]
    }
   ],
   "source": [
    "unitTest()"
   ]
  },
  {
   "cell_type": "code",
   "execution_count": null,
   "metadata": {},
   "outputs": [],
   "source": []
  }
 ],
 "metadata": {
  "kernelspec": {
   "display_name": "Python 3",
   "language": "python",
   "name": "python3"
  },
  "language_info": {
   "codemirror_mode": {
    "name": "ipython",
    "version": 3
   },
   "file_extension": ".py",
   "mimetype": "text/x-python",
   "name": "python",
   "nbconvert_exporter": "python",
   "pygments_lexer": "ipython3",
   "version": "3.7.1"
  }
 },
 "nbformat": 4,
 "nbformat_minor": 2
}
