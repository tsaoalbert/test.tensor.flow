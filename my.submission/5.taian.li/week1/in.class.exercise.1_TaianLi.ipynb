{
 "cells": [
  {
   "cell_type": "markdown",
   "metadata": {},
   "source": [
    "<h1> <a href='http://interactivepython.org/runestone/static/pythonds/Introduction/DiscussionQuestions.html'> In Class Exercise 1 (Python Introduction)  </a> </h1>"
   ]
  },
  {
   "cell_type": "code",
   "execution_count": null,
   "metadata": {},
   "outputs": [],
   "source": [
    "Write Python program to display 6 multiplcation tables of different sizes as shown below"
   ]
  },
  {
   "cell_type": "code",
   "execution_count": null,
   "metadata": {},
   "outputs": [],
   "source": [
    "                                    1*1 = 1 \n",
    "\n",
    "                                 1*1 = 1  1*2 = 2 \n",
    "                                 2*1 = 2  2*2 = 4 \n",
    "\n",
    "                             1*1 = 1  1*2 = 2  1*3 = 3 \n",
    "                             2*1 = 2  2*2 = 4  2*3 = 6 \n",
    "                             3*1 = 3  3*2 = 6  3*3 = 9 \n",
    "\n",
    "                         1*1 = 1  1*2 = 2  1*3 = 3  1*4 = 4 \n",
    "                         2*1 = 2  2*2 = 4  2*3 = 6  2*4 = 8 \n",
    "                         3*1 = 3  3*2 = 6  3*3 = 9  3*4 =12 \n",
    "                         4*1 = 4  4*2 = 8  4*3 =12  4*4 =16 \n",
    "\n",
    "                     1*1 = 1  1*2 = 2  1*3 = 3  1*4 = 4  1*5 = 5 \n",
    "                     2*1 = 2  2*2 = 4  2*3 = 6  2*4 = 8  2*5 =10 \n",
    "                     3*1 = 3  3*2 = 6  3*3 = 9  3*4 =12  3*5 =15 \n",
    "                     4*1 = 4  4*2 = 8  4*3 =12  4*4 =16  4*5 =20 \n",
    "                     5*1 = 5  5*2 =10  5*3 =15  5*4 =20  5*5 =25 \n",
    "\n",
    "                 1*1 = 1  1*2 = 2  1*3 = 3  1*4 = 4  1*5 = 5  1*6 = 6 \n",
    "                 2*1 = 2  2*2 = 4  2*3 = 6  2*4 = 8  2*5 =10  2*6 =12 \n",
    "                 3*1 = 3  3*2 = 6  3*3 = 9  3*4 =12  3*5 =15  3*6 =18 \n",
    "                 4*1 = 4  4*2 = 8  4*3 =12  4*4 =16  4*5 =20  4*6 =24 \n",
    "                 5*1 = 5  5*2 =10  5*3 =15  5*4 =20  5*5 =25  5*6 =30 \n",
    "                 6*1 = 6  6*2 =12  6*3 =18  6*4 =24  6*5 =30  6*6 =36 \n"
   ]
  },
  {
   "cell_type": "code",
   "execution_count": 1,
   "metadata": {},
   "outputs": [
    {
     "name": "stdout",
     "output_type": "stream",
     "text": [
      "                         1*1 = 1                            \n",
      "\n",
      "                     1*1 = 1  1*2 = 2                       \n",
      "                     2*1 = 2  2*2 = 4                       \n",
      "\n",
      "                1*1 = 1  1*2 = 2  1*3 = 3                   \n",
      "                2*1 = 2  2*2 = 4  2*3 = 6                   \n",
      "                3*1 = 3  3*2 = 6  3*3 = 9                   \n",
      "\n",
      "            1*1 = 1  1*2 = 2  1*3 = 3  1*4 = 4              \n",
      "            2*1 = 2  2*2 = 4  2*3 = 6  2*4 = 8              \n",
      "            3*1 = 3  3*2 = 6  3*3 = 9  3*4 =12              \n",
      "            4*1 = 4  4*2 = 8  4*3 =12  4*4 =16              \n",
      "\n",
      "       1*1 = 1  1*2 = 2  1*3 = 3  1*4 = 4  1*5 = 5          \n",
      "       2*1 = 2  2*2 = 4  2*3 = 6  2*4 = 8  2*5 =10          \n",
      "       3*1 = 3  3*2 = 6  3*3 = 9  3*4 =12  3*5 =15          \n",
      "       4*1 = 4  4*2 = 8  4*3 =12  4*4 =16  4*5 =20          \n",
      "       5*1 = 5  5*2 =10  5*3 =15  5*4 =20  5*5 =25          \n",
      "\n",
      "   1*1 = 1  1*2 = 2  1*3 = 3  1*4 = 4  1*5 = 5  1*6 = 6     \n",
      "   2*1 = 2  2*2 = 4  2*3 = 6  2*4 = 8  2*5 =10  2*6 =12     \n",
      "   3*1 = 3  3*2 = 6  3*3 = 9  3*4 =12  3*5 =15  3*6 =18     \n",
      "   4*1 = 4  4*2 = 8  4*3 =12  4*4 =16  4*5 =20  4*6 =24     \n",
      "   5*1 = 5  5*2 =10  5*3 =15  5*4 =20  5*5 =25  5*6 =30     \n",
      "   6*1 = 6  6*2 =12  6*3 =18  6*4 =24  6*5 =30  6*6 =36     \n",
      "\n"
     ]
    }
   ],
   "source": [
    "def printAngle(amountmax):\n",
    "    for i in range(1,amountmax):\n",
    "        strln = \"\"\n",
    "        for j in range(1,amountmax):\n",
    "            strln += str(i)+\"*\"+str(j)+\" =\"+repr(i*j).rjust(2)+\"  \"\n",
    "        print(strln.center(60))\n",
    "        \n",
    "for i in range(2,8):\n",
    "    printAngle(i)\n",
    "    print()"
   ]
  },
  {
   "cell_type": "raw",
   "metadata": {},
   "source": [
    "Construct a class hierarchy for people on a college campus, including faculty, staff, and students. \n",
    "What do they have in common? For example, they all have names.\n",
    "What distinguishes them from one another? "
   ]
  },
  {
   "cell_type": "code",
   "execution_count": 22,
   "metadata": {},
   "outputs": [],
   "source": [
    "class People(object):\n",
    "    def __init__(self, name, gender, city, role):\n",
    "        self.name = name\n",
    "        self.gender = gender\n",
    "        self.city = city\n",
    "        self.role = role\n",
    "        \n",
    "    def getName(self):\n",
    "        return self.name\n",
    "    \n",
    "    def setName(self, name):\n",
    "        self.name = name\n",
    "    \n",
    "    def getGender(self):\n",
    "        return self.gender\n",
    "    \n",
    "    def setGender(self, gender):\n",
    "        self.gender = gender\n",
    "        \n",
    "    def getCity(self):\n",
    "        return self.city\n",
    "    \n",
    "    def setCity(self, city):\n",
    "        self.city = city\n",
    "        \n",
    "    def __str__(self):\n",
    "        return \"%s is a %s living in %s\" % (self.name, self.role, self.city)\n",
    "        \n",
    "\n",
    "class Faculty(People):\n",
    "    \n",
    "    def __init__(self, name, gender, address, subject):\n",
    "        People.__init__(self, name, gender, address, \"faculty\")\n",
    "        self.subject = subject\n",
    "        \n",
    "    def __str__(self):\n",
    "        return People.__str__(self) + \" who teach \" + self.subject\n",
    "\n",
    "class Staff(People):\n",
    "        \n",
    "    def __init__(self, name, gender, address, position):\n",
    "        People.__init__(self, name, gender, address, \"staff\")\n",
    "        self.position = position\n",
    "        \n",
    "    def __str__(self):\n",
    "        return People.__str__(self) + \" who is a \" + self.position\n",
    "\n",
    "class Student(People):\n",
    "        \n",
    "    def __init__(self, name, gender, address, major):\n",
    "        People.__init__(self, name, gender, address, \"student\")\n",
    "        self.major = major\n",
    "        \n",
    "    def __str__(self):\n",
    "        return People.__str__(self) + \" whose major is \" + self.major\n",
    "    "
   ]
  },
  {
   "cell_type": "code",
   "execution_count": 23,
   "metadata": {},
   "outputs": [
    {
     "name": "stdout",
     "output_type": "stream",
     "text": [
      "Awesome is a faculty living in SF who teach History\n",
      "Tina is a staff living in Rocklin who is a CEO\n",
      "Terry is a student living in San Jose whose major is MSCS\n"
     ]
    }
   ],
   "source": [
    "awesome = Faculty(\"Awesome\", \"Male\", \"SF\", \"History\")\n",
    "tina = Staff(\"Tina\", \"Female\", \"Rocklin\", \"CEO\")\n",
    "terry = Student(\"Terry\", \"Male\", \"San Jose\",\"MSCS\")\n",
    "lista = [awesome, tina, terry]\n",
    "\n",
    "for i in lista:\n",
    "    print(i)"
   ]
  },
  {
   "cell_type": "raw",
   "metadata": {},
   "source": [
    "Construct a class hierarchy for \n",
    "* different types of bank accounts.\n",
    "* different types of computers"
   ]
  },
  {
   "cell_type": "code",
   "execution_count": 29,
   "metadata": {},
   "outputs": [],
   "source": [
    "class Account(object):\n",
    "    def __init__(self, accountId, name, accountType, balance):\n",
    "        self.accountId = accountId\n",
    "        self.name = name\n",
    "        self.accountType = accountType\n",
    "        self.balance = balance\n",
    "    def __str__(self):\n",
    "        return \"%s's account is a %s account and the ID is %s\" % (self.name, self.accountType, self.accountId)\n",
    "\n",
    "class SavingAccount(Account):\n",
    "    def __init__(self, accountId, name, balance, rate):\n",
    "        Account.__init__(self, accountId, name, \"saving\", rate)\n",
    "        self.rate = rate\n",
    "    def __str__(self):\n",
    "        return Account.__str__(self) + \", its rate is %s\" % (self.rate)\n",
    "\n",
    "class CheckingAccount(Account):\n",
    "    def __init__(self, accountId, name, balance):\n",
    "        Account.__init__(self, accountId, name, \"checking\", balance)\n",
    "    def __str__(self):\n",
    "        return Account.__str__(self) + \", change it to the saving for money.\"\n",
    "    \n"
   ]
  },
  {
   "cell_type": "code",
   "execution_count": 30,
   "metadata": {},
   "outputs": [
    {
     "name": "stdout",
     "output_type": "stream",
     "text": [
      "Terry's account is a saving account and the ID is 1, its rate is 0.02\n",
      "Andy's account is a checking account and the ID is 2, change it to the saving for money.\n"
     ]
    }
   ],
   "source": [
    "terryAccount = SavingAccount(\"1\", \"Terry\", 10000, 0.02)\n",
    "andyAccount = CheckingAccount(\"2\", \"Andy\", 10)\n",
    "\n",
    "lista = [terryAccount, andyAccount]\n",
    "\n",
    "for i in lista:\n",
    "    print(i)"
   ]
  },
  {
   "cell_type": "code",
   "execution_count": 36,
   "metadata": {},
   "outputs": [],
   "source": [
    "class Computer(object):\n",
    "    def __init__(self, model, cpu, memorySize, diskSize, computerType):\n",
    "        self.model = model\n",
    "        self.cpu = cpu\n",
    "        self.memorySize = memorySize\n",
    "        self.diskSize = diskSize\n",
    "        self.computerType = computerType\n",
    "    def __str__(self):\n",
    "        return \"%s is a %s with %s ,the memory of %s and disk of %s\" % (self.model, self.computerType, self.cpu, self.memorySize, self.diskSize)\n",
    "\n",
    "class Laptop(Computer):\n",
    "    def __init__(self, model, cpu, memorySize, diskSize, weight):\n",
    "        Computer.__init__(self, model, cpu, memorySize, diskSize, \"Laptop\")\n",
    "        self.weight = weight\n",
    "    def __str__(self):\n",
    "        return Computer.__str__(self) + \", its weight is %s\" % (self.weight)\n",
    "\n",
    "class Desktop(Computer):\n",
    "    def __init__(self, model, cpu, memorySize, diskSize, monitorBrand):\n",
    "        Computer.__init__(self, model, cpu, memorySize, diskSize, \"Desktop\")\n",
    "        self.monitorBrand = monitorBrand    \n",
    "    def __str__(self):        \n",
    "        return Computer.__str__(self) + \", its monitor is made by %s\" % (self.monitorBrand)"
   ]
  },
  {
   "cell_type": "code",
   "execution_count": 37,
   "metadata": {},
   "outputs": [
    {
     "name": "stdout",
     "output_type": "stream",
     "text": [
      "model1 is a Laptop with i5 ,the memory of 8G and disk of 1TB, its weight is 2kg\n",
      "model2 is a Desktop with i8 ,the memory of 16G and disk of 5TB, its moniotr is made by Samsume\n"
     ]
    }
   ],
   "source": [
    "model1 = Laptop(\"model1\", \"i5\", \"8G\", \"1TB\", \"2kg\")\n",
    "model2 = Desktop(\"model2\", \"i8\", \"16G\", \"5TB\", \"Samsume\")\n",
    "lista = [model1, model2]\n",
    "for i in lista:\n",
    "    print(i)\n"
   ]
  },
  {
   "cell_type": "markdown",
   "metadata": {},
   "source": [
    "Hints:\n",
    "names, addresses, gender, rank, \n",
    "Checking, Savings, Certified Deposit\n",
    "notebooke, desktop"
   ]
  },
  {
   "cell_type": "markdown",
   "metadata": {},
   "source": [
    "<h3> Reference  <a href='http://www.jesshamrick.com/2011/05/18/an-introduction-to-classes-and-inheritance-in-python/    '> \"An Introduction to Classes and Inheritance (in Python)\" </a>  \n",
    "<ul>\n",
    "    <li>\n",
    "Construct a class hierarchy for different types of pets that include birds and fish, in addtion to cats and dogs.        </li>\n",
    "<li>\n",
    "     What do they have in common? \n",
    "       </li>    \n",
    "<li>\n",
    "     What distinguishes them from one another?\n",
    "       </li>\n",
    "</ul>\n",
    "</h3>"
   ]
  },
  {
   "cell_type": "code",
   "execution_count": 2,
   "metadata": {},
   "outputs": [],
   "source": [
    "class Pet(object):   # base class\n",
    "\n",
    "    def __init__(self, name, species):\n",
    "        self.name = name\n",
    "        self.species = species\n",
    "\n",
    "    def getName(self):\n",
    "        return self.name\n",
    "\n",
    "    def getSpecies(self):\n",
    "        return self.species\n",
    "\n",
    "    def __str__(self):\n",
    "        return \"%s is a %s\" % (self.name, self.species)"
   ]
  },
  {
   "cell_type": "code",
   "execution_count": 3,
   "metadata": {},
   "outputs": [],
   "source": [
    "class Dog(Pet):   # subclass\n",
    "\n",
    "    def __init__(self, name, chases_cats):\n",
    "        Pet.__init__(self, name, \"Dog\")\n",
    "        self.chases_cats = chases_cats\n",
    "\n",
    "    def chasesCats(self):\n",
    "        return self.chases_cats\n",
    "\n",
    "    def __str__(self):\n",
    "        s = [ \"chase cats.\", \"ok with cats.\"]\n",
    "        return Pet.__str__(self) + \", and \" + s[self.chasesCats()]"
   ]
  },
  {
   "cell_type": "code",
   "execution_count": 4,
   "metadata": {},
   "outputs": [],
   "source": [
    "class Cat(Pet):\n",
    "\n",
    "    def __init__(self, name, hates_dogs):\n",
    "        Pet.__init__(self, name, \"Cat\")\n",
    "        self.hates_dogs = hates_dogs\n",
    "\n",
    "    def hatesDogs(self):\n",
    "        return self.hates_dogs\n",
    "    def __str__(self):\n",
    "        s = [ \"hates dogs.\", \"ok with dogs.\" ]\n",
    "        i = self.hatesDogs()\n",
    "        return Pet.__str__(self) + \", and \" + s[i]"
   ]
  },
  {
   "cell_type": "code",
   "execution_count": 7,
   "metadata": {},
   "outputs": [],
   "source": [
    "class Fish(Pet):\n",
    "    def __init__(self, name, eat_meat):\n",
    "        Pet.__init__(self, name, \"Fish\")\n",
    "        self.eat_meat = eat_meat\n",
    "        \n",
    "    def eatMeat(self):\n",
    "        return self.eat_meat\n",
    "    \n",
    "    def __str__(self):\n",
    "        s = [ \"vegetarian\", \"predator\" ]\n",
    "        i = self.eatMeat()\n",
    "        return Pet.__str__(self) + \", and it is \" + s[i]\n",
    "    \n",
    "class Bird(Pet):\n",
    "    def __init__(self, name, swim):\n",
    "        Pet.__init__(self, name, \"Bird\")\n",
    "        self.swim = swim\n",
    "        \n",
    "    def swimming(self):\n",
    "        return self.swim\n",
    "    \n",
    "    def __str__(self):\n",
    "        s = [ \"not swim\", \"swim\" ]\n",
    "        i = self.swimming()\n",
    "        return Pet.__str__(self) + \", and it can \" + s[i]\n",
    "        "
   ]
  },
  {
   "cell_type": "raw",
   "metadata": {},
   "source": [
    "Test your the implmentation of your program that include birds and fish as the following example."
   ]
  },
  {
   "cell_type": "code",
   "execution_count": 8,
   "metadata": {},
   "outputs": [
    {
     "name": "stdout",
     "output_type": "stream",
     "text": [
      "Fido is a Dog, and ok with cats.\n",
      "Rover is a Dog, and chase cats.\n",
      "Mittens is a Cat, and ok with dogs.\n",
      "Fluffy is a Cat, and hates dogs.\n",
      "Golden is a Fish, and it is vegetarian\n",
      "Ducky is a Bird, and it can swim\n"
     ]
    }
   ],
   "source": [
    "fido = Dog(\"Fido\", True)\n",
    "rover = Dog(\"Rover\", False)\n",
    "mittens = Cat(\"Mittens\", True)\n",
    "fluffy = Cat(\"Fluffy\", False)\n",
    "golden = Fish(\"Golden\", False)\n",
    "ducky = Bird(\"Ducky\", True)\n",
    "list = [fido, rover, mittens, fluffy, golden, ducky]\n",
    "for p in list:\n",
    "    print (p)"
   ]
  },
  {
   "cell_type": "code",
   "execution_count": null,
   "metadata": {},
   "outputs": [],
   "source": []
  },
  {
   "cell_type": "markdown",
   "metadata": {},
   "source": [
    "<h1> END of ASSIGNMENTS</h1>"
   ]
  }
 ],
 "metadata": {
  "kernelspec": {
   "display_name": "Python 3",
   "language": "python",
   "name": "python3"
  },
  "language_info": {
   "codemirror_mode": {
    "name": "ipython",
    "version": 3
   },
   "file_extension": ".py",
   "mimetype": "text/x-python",
   "name": "python",
   "nbconvert_exporter": "python",
   "pygments_lexer": "ipython3",
   "version": "3.7.1"
  }
 },
 "nbformat": 4,
 "nbformat_minor": 2
}
