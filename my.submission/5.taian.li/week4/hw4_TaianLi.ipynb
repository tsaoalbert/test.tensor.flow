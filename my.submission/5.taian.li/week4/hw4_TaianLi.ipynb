{
 "cells": [
  {
   "cell_type": "markdown",
   "metadata": {},
   "source": [
    "<h1> <a href= \"http://interactivepython.org/runestone/static/pythonds/Recursion/toctree.html\"> Assignment 4:  Recursion </a>  </h1>\n",
    "<ul>\n",
    "    \n",
    "<li> Recursion vs Iteration </li>\n",
    "<li> Three Laws of Recusion</li>\n",
    "<li>  Example: Tower of Hanoi, Maze, Dynamic Programming</li>\n",
    "</ul>\n"
   ]
  },
  {
   "cell_type": "markdown",
   "metadata": {},
   "source": [
    "<h3> <a href= \"\n",
    "http://interactivepython.org/runestone/static/pythonds/Recursion/pythondsProgrammingExercises.html\n",
    "    \">4.17. Programming Exercises\n",
    " </a> \n",
    "\n",
    "</h3>\n",
    "\n"
   ]
  },
  {
   "cell_type": "code",
   "execution_count": 2,
   "metadata": {},
   "outputs": [
    {
     "data": {
      "text/plain": [
       "3"
      ]
     },
     "execution_count": 2,
     "metadata": {},
     "output_type": "execute_result"
    }
   ],
   "source": [
    "Write both recursive and iterative function to compute the factorial of a number.\n",
    "How does the performance of the recursive function compare to that of an iterative version?\n",
    "   F(0)=F(1) = 1\n",
    "   F(n) = F(n-1)*n, for n >=2\n"
   ]
  },
  {
   "cell_type": "code",
   "execution_count": 4,
   "metadata": {},
   "outputs": [
    {
     "name": "stdout",
     "output_type": "stream",
     "text": [
      "2432902008176640000 2432902008176640000 0.00002755s 0.00003901s\n"
     ]
    }
   ],
   "source": [
    "import timeit\n",
    "def f_recursive(n):\n",
    "    if n < 0:\n",
    "        return -1\n",
    "    elif n <= 1:\n",
    "        return 1\n",
    "    else:\n",
    "        return f_recursive(n-1)*n\n",
    "    \n",
    "def f_iterative(n):\n",
    "    if n < 0:\n",
    "        return -1\n",
    "    elif n <=1 :\n",
    "        return 1\n",
    "    else:\n",
    "        result = 1\n",
    "        while n >= 2:\n",
    "            result *= n\n",
    "            n = n-1\n",
    "        return result\n",
    "\n",
    "t0 = timeit.default_timer()\n",
    "a = f_iterative(20)\n",
    "t1 = timeit.default_timer()\n",
    "ta = t1-t0\n",
    "\n",
    "b = f_recursive(20)\n",
    "tb = timeit.default_timer()-t1\n",
    "\n",
    "print(a,b,\"%0.8fs %0.8fs\"%(ta,tb))"
   ]
  },
  {
   "cell_type": "code",
   "execution_count": null,
   "metadata": {},
   "outputs": [],
   "source": [
    "Answer:\n",
    "    the iterative version performs better than the recursive one since it need less momery and time."
   ]
  },
  {
   "cell_type": "code",
   "execution_count": null,
   "metadata": {},
   "outputs": [],
   "source": [
    "Write both  recursive and iterative function to compute the Fibonacci sequence. \n",
    "        How does the performance of the recursive function compare to that of an iterative version?\n",
    "           F(1)=F(2) = 1\n",
    "   F(n) = F(n-1)+F(n-2), for n >= 3"
   ]
  },
  {
   "cell_type": "code",
   "execution_count": 7,
   "metadata": {},
   "outputs": [
    {
     "name": "stdout",
     "output_type": "stream",
     "text": [
      "10946 10946 0.00002511s 0.00135802s\n"
     ]
    }
   ],
   "source": [
    "def fib_recursive (n):\n",
    "    if n <=0:\n",
    "        return 0\n",
    "    elif n<=2:\n",
    "        return n\n",
    "    else:\n",
    "        return fib_recursive(n-1)+fib_recursive(n-2)\n",
    "\n",
    "def fib_iterative (n):\n",
    "    if n <=0:\n",
    "        return 0\n",
    "    elif n<=2:\n",
    "        return n\n",
    "    else:\n",
    "        f1 = 0\n",
    "        f2 = 1\n",
    "        result = 1\n",
    "        count = 1\n",
    "        while n >= count:\n",
    "            result = f1 + f2\n",
    "            f1, f2 = f2, result\n",
    "            count += 1\n",
    "        return result\n",
    "\n",
    "t0 = timeit.default_timer()\n",
    "a = fib_iterative(20)\n",
    "t1 = timeit.default_timer()\n",
    "ta = t1-t0\n",
    "\n",
    "b = fib_recursive(20)\n",
    "tb = timeit.default_timer()-t1\n",
    "\n",
    "print(a,b,\"%0.8fs %0.8fs\"%(ta,tb))"
   ]
  },
  {
   "cell_type": "code",
   "execution_count": 6,
   "metadata": {},
   "outputs": [
    {
     "ename": "SyntaxError",
     "evalue": "invalid syntax (<ipython-input-6-d527ee6a0e70>, line 1)",
     "output_type": "error",
     "traceback": [
      "\u001b[1;36m  File \u001b[1;32m\"<ipython-input-6-d527ee6a0e70>\"\u001b[1;36m, line \u001b[1;32m1\u001b[0m\n\u001b[1;33m    Answer:\u001b[0m\n\u001b[1;37m           ^\u001b[0m\n\u001b[1;31mSyntaxError\u001b[0m\u001b[1;31m:\u001b[0m invalid syntax\n"
     ]
    }
   ],
   "source": [
    "Answer:\n",
    "    the iterative version performs better than the recursive one since it requires less momery and time."
   ]
  },
  {
   "cell_type": "code",
   "execution_count": 1,
   "metadata": {},
   "outputs": [],
   "source": [
    "import turtle\n",
    "\n",
    "def tree(branchLen,t):\n",
    "    if branchLen > 5:\n",
    "        t.forward(branchLen)\n",
    "        t.right(20)\n",
    "        tree(branchLen-15,t)\n",
    "        t.left(40)\n",
    "        tree(branchLen-15,t)\n",
    "        t.right(20)\n",
    "        t.backward(branchLen)\n",
    "\n",
    "def main():\n",
    "    t = turtle.Turtle()\n",
    "    myWin = turtle.Screen()\n",
    "    t.left(90)\n",
    "    t.up()\n",
    "    t.backward(100)\n",
    "    t.down()\n",
    "    t.color(\"green\")\n",
    "    tree(75,t)\n",
    "    myWin.exitonclick()\n",
    "\n",
    "main()\n"
   ]
  },
  {
   "cell_type": "markdown",
   "metadata": {},
   "source": [
    "\n",
    "Modify the recursive tree program to produce a more realistic looking tree with various branch length/thickness, and braching angles."
   ]
  },
  {
   "cell_type": "raw",
   "metadata": {},
   "source": [
    "Modify the thickness of the branches so that as the branchLen gets smaller, the line gets thinner.\n",
    "Modify the color of the branches so that as the branchLen gets very short it is colored like a leaf.\n",
    "Modify the angle used in turning the turtle so that at each branch point the angle is selected at random in some range. For example choose the angle between 15 and 45 degrees. Play around to see what looks good.\n",
    "Modify the branchLen recursively so that instead of always subtracting the same amount you subtract a random amount in some range.\n",
    "If you implement all of the above ideas you will have a very realistic looking tree."
   ]
  },
  {
   "cell_type": "code",
   "execution_count": 1,
   "metadata": {},
   "outputs": [],
   "source": [
    "import turtle\n",
    "\n",
    "def tree(branchLen,pensize,t):\n",
    "    if branchLen > 5:\n",
    "        if branchLen < 20:\n",
    "            t.color(\"green\")\n",
    "        else:\n",
    "            t.color(\"red\")\n",
    "        t.down()\n",
    "        t.pensize(pensize)\n",
    "        t.forward(branchLen)\n",
    "        t.right(30)\n",
    "        tree(branchLen-16,pensize-2,t)\n",
    "        t.left(50)\n",
    "        tree(branchLen-20,pensize-2,t)\n",
    "        t.right(20)\n",
    "        t.up()\n",
    "        t.backward(branchLen)\n",
    "\n",
    "def main():\n",
    "    t = turtle.Turtle()\n",
    "    myWin = turtle.Screen()\n",
    "    t.left(90)\n",
    "    t.up()\n",
    "    t.backward(140)\n",
    "    t.down()\n",
    "    tree(100,12,t)\n",
    "    myWin.exitonclick()\n",
    "\n",
    "main()"
   ]
  },
  {
   "cell_type": "raw",
   "metadata": {},
   "source": [
    "Using the recursive rules as described, draw a Sierpinski triangle using paper and pencil."
   ]
  },
  {
   "cell_type": "code",
   "execution_count": 1,
   "metadata": {},
   "outputs": [],
   "source": [
    "import turtle\n",
    "\n",
    "def drawTriangle(points,color,myTurtle):\n",
    "    myTurtle.fillcolor(color)\n",
    "    myTurtle.up()\n",
    "    myTurtle.goto(points[0][0],points[0][1])\n",
    "    myTurtle.down()\n",
    "    myTurtle.begin_fill()\n",
    "    myTurtle.goto(points[1][0],points[1][1])\n",
    "    myTurtle.goto(points[2][0],points[2][1])\n",
    "    myTurtle.goto(points[0][0],points[0][1])\n",
    "    myTurtle.end_fill()\n",
    "\n",
    "def getMid(p1,p2):\n",
    "    return ( (p1[0]+p2[0]) / 2, (p1[1] + p2[1]) / 2)\n",
    "\n",
    "def sierpinski(points,degree,myTurtle):\n",
    "    colormap = ['violet','orange','blue','red','green','white','yellow']\n",
    "    drawTriangle(points,colormap[degree],myTurtle)\n",
    "    if degree > 0:\n",
    "        sierpinski([points[0],\n",
    "                        getMid(points[0], points[1]),\n",
    "                        getMid(points[0], points[2])],\n",
    "                   degree-1, myTurtle)\n",
    "        sierpinski([points[1],\n",
    "                        getMid(points[0], points[1]),\n",
    "                        getMid(points[1], points[2])],\n",
    "                   degree-1, myTurtle)\n",
    "        sierpinski([points[2],\n",
    "                        getMid(points[2], points[1]),\n",
    "                        getMid(points[0], points[2])],\n",
    "                   degree-1, myTurtle)\n",
    "\n",
    "def main():\n",
    "   myTurtle = turtle.Turtle()\n",
    "   myWin = turtle.Screen()\n",
    "   myPoints = [[-100,-50],[0,100],[100,-50]]\n",
    "   sierpinski(myPoints,4,myTurtle)\n",
    "   myWin.exitonclick()\n",
    "\n",
    "main()\n"
   ]
  },
  {
   "cell_type": "code",
   "execution_count": null,
   "metadata": {},
   "outputs": [],
   "source": [
    "Draw a call stack for the Tower of Hanoi problem. Assume that you start with a stack of three disks."
   ]
  },
  {
   "cell_type": "code",
   "execution_count": 11,
   "metadata": {},
   "outputs": [
    {
     "name": "stdout",
     "output_type": "stream",
     "text": [
      "MT H:3 FP:A TP:B WP:C\n",
      "MT H:2 FP:A TP:C WP:B\n",
      "MT H:1 FP:A TP:B WP:C\n",
      "MT H:0 FP:A TP:C WP:B\n",
      "MD FP:A TP:B\n",
      "MT H:0 FP:C TP:B WP:A\n",
      "-------------------\n",
      "MD FP:A TP:C\n",
      "MT H:1 FP:B TP:C WP:A\n",
      "MT H:0 FP:B TP:A WP:C\n",
      "MD FP:B TP:C\n",
      "MT H:0 FP:A TP:C WP:B\n",
      "-------------------\n",
      "-------------------\n",
      "MD FP:A TP:B\n",
      "MT H:2 FP:C TP:B WP:A\n",
      "MT H:1 FP:C TP:A WP:B\n",
      "MT H:0 FP:C TP:B WP:A\n",
      "MD FP:C TP:A\n",
      "MT H:0 FP:B TP:A WP:C\n",
      "-------------------\n",
      "MD FP:C TP:B\n",
      "MT H:1 FP:A TP:B WP:C\n",
      "MT H:0 FP:A TP:C WP:B\n",
      "MD FP:A TP:B\n",
      "MT H:0 FP:C TP:B WP:A\n",
      "-------------------\n",
      "-------------------\n",
      "-------------------\n"
     ]
    }
   ],
   "source": [
    "def moveTower(height,fromPole, toPole, withPole):\n",
    "    print(\"MT H:%s FP:%s TP:%s WP:%s\"%(height,fromPole,toPole,withPole))\n",
    "    if height >= 1:\n",
    "        moveTower(height-1,fromPole,withPole,toPole)\n",
    "        moveDisk(fromPole,toPole)\n",
    "        moveTower(height-1,withPole,toPole,fromPole)\n",
    "        print(\"-------------------\")\n",
    "\n",
    "def moveDisk(fp,tp):\n",
    "    print(\"MD FP:%s TP:%s\"%(fp,tp))\n",
    "\n",
    "moveTower(3,\"A\",\"B\",\"C\")"
   ]
  },
  {
   "cell_type": "raw",
   "metadata": {},
   "source": [
    "Answer:\n",
    "MT H:3 FP:A TP:B WP:C\n",
    "MT H:2 FP:A TP:C WP:B\n",
    "MT H:1 FP:A TP:B WP:C\n",
    "MT H:0 FP:A TP:C WP:B\n",
    "\n",
    "MT H:3 FP:A TP:B WP:C\n",
    "MT H:2 FP:A TP:C WP:B\n",
    "MT H:1 FP:A TP:B WP:C\n",
    "MD FP:A TP:B  \n",
    "\n",
    "MT H:3 FP:A TP:B WP:C\n",
    "MT H:2 FP:A TP:C WP:B\n",
    "MD FP:A TP:C\n",
    "        \n",
    "MT H:3 FP:A TP:B WP:C\n",
    "MT H:2 FP:A TP:C WP:B\n",
    "MT H:1 FP:B TP:C WP:A\n",
    "MT H:0 FP:B TP:A WP:C\n",
    "\n",
    "MT H:3 FP:A TP:B WP:C\n",
    "MT H:2 FP:A TP:C WP:B\n",
    "MT H:1 FP:B TP:C WP:A\n",
    "MD FP:B TP:C\n",
    "    \n",
    "MT H:3 FP:A TP:B WP:C\n",
    "MD FP:A TP:B\n",
    "\n",
    "                \n",
    "MT H:3 FP:A TP:B WP:C\n",
    "MT H:2 FP:C TP:B WP:A\n",
    "MT H:1 FP:C TP:A WP:B\n",
    "MT H:0 FP:C TP:B WP:A        \n",
    "\n",
    "MT H:3 FP:A TP:B WP:C\n",
    "MT H:2 FP:C TP:B WP:A\n",
    "MT H:1 FP:C TP:A WP:B\n",
    "MD FP:C TP:A\n",
    "\n",
    "MT H:3 FP:A TP:B WP:C\n",
    "MT H:2 FP:C TP:B WP:A\n",
    "MD FP:C TP:B\n",
    "\n",
    "MT H:3 FP:A TP:B WP:C\n",
    "MT H:2 FP:C TP:B WP:A\n",
    "MT H:1 FP:A TP:B WP:C\n",
    "MT H:0 FP:A TP:C WP:B\n",
    "        \n",
    "MT H:3 FP:A TP:B WP:C\n",
    "MT H:2 FP:C TP:B WP:A\n",
    "MT H:1 FP:A TP:B WP:C\n",
    "MD FP:A TP:B\n",
    "\n",
    "MT H:3 FP:A TP:B WP:C\n",
    "MT H:2 FP:C TP:B WP:A\n",
    "                \n",
    "MT H:3 FP:A TP:B WP:C\n",
    "                \n"
   ]
  },
  {
   "cell_type": "code",
   "execution_count": null,
   "metadata": {},
   "outputs": [],
   "source": []
  }
 ],
 "metadata": {
  "kernelspec": {
   "display_name": "Python 3",
   "language": "python",
   "name": "python3"
  },
  "language_info": {
   "codemirror_mode": {
    "name": "ipython",
    "version": 3
   },
   "file_extension": ".py",
   "mimetype": "text/x-python",
   "name": "python",
   "nbconvert_exporter": "python",
   "pygments_lexer": "ipython3",
   "version": "3.7.1"
  }
 },
 "nbformat": 4,
 "nbformat_minor": 2
}
