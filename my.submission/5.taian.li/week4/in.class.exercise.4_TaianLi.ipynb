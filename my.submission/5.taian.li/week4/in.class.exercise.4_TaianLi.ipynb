{
 "cells": [
  {
   "cell_type": "markdown",
   "metadata": {},
   "source": [
    "<h1> <a href= \"http://interactivepython.org/runestone/static/pythonds/Recursion/toctree.html\"> In Class Exercise: #4 </a>  </h1>\n",
    "<ul>\n",
    "    \n",
    "<li> Recursion vs Iteration </li>\n",
    "<li> Three Laws of Recusion</li>\n",
    "<li>  Example: Tower of Hanoi, Maze, Dynamic Programming</li>\n",
    "</ul>\n"
   ]
  },
  {
   "cell_type": "markdown",
   "metadata": {},
   "source": [
    "<h1> <a href= \"http://interactivepython.org/runestone/static/pythonds/Recursion/DiscussionQuestions.html\">4.15. Discussion Questions\n",
    " </a> \n",
    "\n",
    "</h1>\n",
    "\n"
   ]
  },
  {
   "cell_type": "markdown",
   "metadata": {},
   "source": [
    "Write both  recursive and iterative function to compute the Fibonacci sequence. \n",
    "        How does the performance of the recursive function compare to that of an iterative version?\n",
    "           F(1)=F(2) = 1\n",
    "   F(n) = F(n-1)+F(n-2), for n >= 3"
   ]
  },
  {
   "cell_type": "code",
   "execution_count": 4,
   "metadata": {},
   "outputs": [
    {
     "name": "stdout",
     "output_type": "stream",
     "text": [
      "10946 10946 0.00002755s 0.00136265s\n"
     ]
    }
   ],
   "source": [
    "import timeit\n",
    "def fib_recursive (n):\n",
    "    if n <=0:\n",
    "        return 0\n",
    "    elif n<=2:\n",
    "        return n\n",
    "    else:\n",
    "        return fib_recursive(n-1)+fib_recursive(n-2)\n",
    "\n",
    "def fib_iterative (n):\n",
    "    if n <=0:\n",
    "        return 0\n",
    "    elif n<=2:\n",
    "        return n\n",
    "    else:\n",
    "        f1 = 0\n",
    "        f2 = 1\n",
    "        result = 1\n",
    "        count = 1\n",
    "        while n >= count:\n",
    "            result = f1 + f2\n",
    "            f1, f2 = f2, result\n",
    "            count += 1\n",
    "        return result\n",
    "t0 = timeit.default_timer()\n",
    "a = fib_iterative(20)\n",
    "t1 = timeit.default_timer()\n",
    "ta = t1-t0\n",
    "\n",
    "b = fib_recursive(20)\n",
    "tb = timeit.default_timer()-t1\n",
    "\n",
    "print(a,b,\"%0.8fs %0.8fs\"%(ta,tb))"
   ]
  },
  {
   "cell_type": "raw",
   "metadata": {},
   "source": [
    "Answer: \n",
    "    the iterative version performs better than the recursive one since it requires less momery and time."
   ]
  },
  {
   "cell_type": "markdown",
   "metadata": {},
   "source": [
    "\\begin{align}\n",
    "\\Biggl(\\biggl(\\Bigl(\\bigl((x)\\bigr)\\Bigr)\\biggr)\\Biggr)\n",
    "\\end{align}"
   ]
  },
  {
   "cell_type": "markdown",
   "metadata": {},
   "source": [
    "\\begin{align}\n",
    "\\alpha ^2\n",
    "\\end{align}"
   ]
  },
  {
   "cell_type": "markdown",
   "metadata": {},
   "source": [
    "Using the dynamic programming algorithm for making change, find the smallest number of coins that you can use to make 33 cents in change. In addition to the usual coins assume that you have an 8 cent coin."
   ]
  },
  {
   "cell_type": "code",
   "execution_count": 5,
   "metadata": {},
   "outputs": [
    {
     "name": "stdout",
     "output_type": "stream",
     "text": [
      "5\n"
     ]
    }
   ],
   "source": [
    "def recDC(coinValueList,change,knownResults):\n",
    "   minCoins = change\n",
    "   if change in coinValueList:\n",
    "      knownResults[change] = 1\n",
    "      return 1\n",
    "   elif knownResults[change] > 0:\n",
    "      return knownResults[change]\n",
    "   else:\n",
    "       for i in [c for c in coinValueList if c <= change]:\n",
    "         numCoins = 1 + recDC(coinValueList, change-i,\n",
    "                              knownResults)\n",
    "         if numCoins < minCoins:\n",
    "            minCoins = numCoins\n",
    "            knownResults[change] = minCoins\n",
    "   return minCoins\n",
    "\n",
    "print(recDC([1,5,10,25],33,[0]*34))"
   ]
  },
  {
   "cell_type": "code",
   "execution_count": 6,
   "metadata": {},
   "outputs": [
    {
     "name": "stdout",
     "output_type": "stream",
     "text": [
      "2\n"
     ]
    }
   ],
   "source": [
    "print(recDC([1,5,8,10,25],33,[0]*34))"
   ]
  }
 ],
 "metadata": {
  "kernelspec": {
   "display_name": "Python 3",
   "language": "python",
   "name": "python3"
  },
  "language_info": {
   "codemirror_mode": {
    "name": "ipython",
    "version": 3
   },
   "file_extension": ".py",
   "mimetype": "text/x-python",
   "name": "python",
   "nbconvert_exporter": "python",
   "pygments_lexer": "ipython3",
   "version": "3.7.1"
  }
 },
 "nbformat": 4,
 "nbformat_minor": 2
}
