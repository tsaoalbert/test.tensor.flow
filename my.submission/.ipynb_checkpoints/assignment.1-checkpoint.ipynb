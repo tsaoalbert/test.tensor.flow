{
 "cells": [
  {
   "cell_type": "markdown",
   "metadata": {},
   "source": [
    "<h1> Assignment #1:  Python Introduction </h1>"
   ]
  },
  {
   "cell_type": "markdown",
   "metadata": {},
   "source": [
    "<h2> <a href='http://interactivepython.org/runestone/static/pythonds/Introduction/ProgrammingExercises.html'> Programming Exercises  </a> </h2>"
   ]
  },
  {
   "cell_type": "markdown",
   "metadata": {
    "scrolled": true
   },
   "source": [
    "<h3> \n",
    "    The following program is use for programming exercises: #1-6.\n",
    "<br/>\n",
    "    Fill in the missing codes at the places marked by xxx\n",
    "</h3>"
   ]
  },
  {
   "cell_type": "code",
   "execution_count": 1,
   "metadata": {},
   "outputs": [
    {
     "name": "stdout",
     "output_type": "stream",
     "text": [
      "2/3 + 1/2 = 7/6\n",
      "2/3 - 1/2 = 1/6\n",
      "2/3 * 1/2 = 1/3\n",
      "2/3 / 1/2 = 4/3\n",
      "2/3 == 1/2 is False\n",
      "2/3 != 1/2 is True\n",
      "2/3 > 1/2 is True\n",
      "2/3 >= 1/2 is True\n",
      "2/3 < 1/2 is False\n",
      "2/3 <= 1/2 is False\n"
     ]
    }
   ],
   "source": [
    "\"\"\"\n",
    "Add the following method to the Class Fraction\n",
    "__sub__, __mul__, and __truediv__  (Operators -,*/)\n",
    "__gt__, __ge__, __lt__, __le__, and __ne__  (Operators >, <, >=, <=, !=, == )\n",
    "\n",
    "\"\"\"\n",
    "def gcd(a,b):\n",
    "    while a%b != 0:\n",
    "        a,b = b, a%b\n",
    "    return b\n",
    "\n",
    "class Fraction:\n",
    "     # yyy\n",
    "     def __init__(self,a, b):\n",
    "         if type(a)!= int or type(b)!= int :\n",
    "            raise ValueError (\" Have to be an integer \" ) \n",
    "         if b==0:\n",
    "            raise ValueError (\" Denominator cannot be zero! \" ) \n",
    "\n",
    "         if b < 0:\n",
    "            a = -a; b = -b;\n",
    "         g = gcd (a, b)\n",
    "         self.num = a//g\n",
    "         self.den =  b//g\n",
    "\n",
    "     def __str__(self):\n",
    "         return str(self.num)+\"/\"+str(self.den)\n",
    "\n",
    "     def show(self):\n",
    "         print(self.num,\"/\",self.den)\n",
    "\n",
    "     def __add__(self,y):\n",
    "        a = self.num; \n",
    "        b = self.den; \n",
    "        c=y.num; \n",
    "        d=y.den;\n",
    "        # x = a/b, y= c/d ==> x+y = (a*d+b*c)/b*d\n",
    "        return Fraction (a*d+b*c, b*d)\n",
    "\n",
    "\n",
    "     # xxx\n",
    "     def __sub__(self, y):\n",
    "        '''\n",
    "        Assume self = a/b, y= c/d ==> x-y = (a*d-b*c)/（b*d） \n",
    "        '''\n",
    "        a = self.num; \n",
    "        b = self.den; \n",
    "        c=y.num; \n",
    "        d=y.den;\n",
    "        return Fraction(a*d-b*c,b*d)\n",
    "\n",
    "     def __mul__(self, y):\n",
    "        '''\n",
    "        Assume self = a/b, y= c/d ==> x*y = ac/bd \n",
    "        '''        \n",
    "        a = self.num; \n",
    "        b = self.den; \n",
    "        c=y.num; \n",
    "        d=y.den;\n",
    "        return Fraction(a*c, b*d)\n",
    "\n",
    "       \n",
    "        \n",
    "     def __truediv__(self, y):\n",
    "        '''\n",
    "        Assume self = a/b, y= c/d ==> x/y = a/b * d/c = ad/bc \n",
    "        '''\n",
    "        a = self.num; \n",
    "        b = self.den; \n",
    "        c=y.num; \n",
    "        d=y.den;\n",
    "        return Fraction(a*d, b*c)\n",
    "       \n",
    "        \n",
    "\n",
    "     def __eq__(self, y):\n",
    "        '''\n",
    "        Assume self = a/b, o= c/d, then x==y iff a*d==b*c\n",
    "        '''\n",
    "        a = self.num; \n",
    "        b = self.den; \n",
    "        c=y.num; \n",
    "        d=y.den;\n",
    "        return  a*d==b*c\n",
    "        \n",
    "     def __ne__(self, y):\n",
    "        '''\n",
    "        Assume self = a/b, o= c/d, then x==y iff a*d==b*c \n",
    "        '''\n",
    "        a = self.num; \n",
    "        b = self.den; \n",
    "        c=y.num; \n",
    "        d=y.den;\n",
    "        return a*d != b*c\n",
    "    \n",
    "            \n",
    "     def __gt__(self, y):\n",
    "        \n",
    "        '''\n",
    "        Assume self = a/b, o= c/d, then x==y iff a*d==b*c \n",
    "        '''\n",
    "        a = self.num; \n",
    "        b = self.den; \n",
    "        c=y.num; \n",
    "        d=y.den;\n",
    "        return a*d > b*c\n",
    "          \n",
    "     def __ge__(self, y):\n",
    "        '''\n",
    "        Assume self = a/b, o= c/d, then x==y iff a*d==b*c\n",
    "        '''\n",
    "        a = self.num; \n",
    "        b = self.den; \n",
    "        c=y.num; \n",
    "        d=y.den;\n",
    "        return a*d >= b*c\n",
    "       \n",
    "     def __lt__(self, y):\n",
    "        '''\n",
    "        Assume self = a/b, o= c/d, then x==y iff a*d==b*c \n",
    "        '''\n",
    "        a = self.num; \n",
    "        b = self.den; \n",
    "        c=y.num; \n",
    "        d=y.den;\n",
    "        return a*d < b*c\n",
    "         \n",
    "     def __le__(self, y):\n",
    "        '''\n",
    "        Assume self = a/b, o= c/d, then x==y iff a*d==b*c \n",
    "        '''\n",
    "        a = self.num; \n",
    "        b = self.den; \n",
    "        c=y.num; \n",
    "        d=y.den;\n",
    "        return a*d <= b*c\n",
    "           \n",
    "      # yyy\n",
    "     def getNum (self):\n",
    "        return self.num\n",
    "\n",
    "      # yyy\n",
    "     def getDen (self):\n",
    "        return self.den\n",
    "def demo():\n",
    "    x = Fraction(2,3); y = Fraction(1,2); z = Fraction (7,6)\n",
    "    print(x, \"+\", y, \"=\", x+y)\n",
    "    print(x, \"-\", y, \"=\", x-y)\n",
    "    print(x, \"*\", y, \"=\", x*y)\n",
    "    print(x, \"/\", y, \"=\", x/y)\n",
    "    print( x, \"==\", y, \"is\", x == y)\n",
    "    print( x, \"!=\", y, \"is\", x != y)\n",
    "    print( x, \">\", y, \"is\", x > y)\n",
    "    print( x, \">=\", y, \"is\", x >= y)\n",
    "    print( x, \"<\", y, \"is\", x <= y)\n",
    "    print( x, \"<=\", y, \"is\", x <= y)\n",
    "demo()"
   ]
  },
  {
   "cell_type": "code",
   "execution_count": 2,
   "metadata": {},
   "outputs": [
    {
     "ename": "SyntaxError",
     "evalue": "invalid syntax (<ipython-input-2-b46709a4a4fb>, line 1)",
     "output_type": "error",
     "traceback": [
      "\u001b[0;36m  File \u001b[0;32m\"<ipython-input-2-b46709a4a4fb>\"\u001b[0;36m, line \u001b[0;32m1\u001b[0m\n\u001b[0;31m    The following codes are used to test your work.\u001b[0m\n\u001b[0m                ^\u001b[0m\n\u001b[0;31mSyntaxError\u001b[0m\u001b[0;31m:\u001b[0m invalid syntax\n"
     ]
    }
   ],
   "source": [
    "The following codes are used to test your work."
   ]
  },
  {
   "cell_type": "code",
   "execution_count": 3,
   "metadata": {},
   "outputs": [],
   "source": [
    "def unitTest():\n",
    "    x = Fraction(2,3); y = Fraction(1,2); \n",
    "    assert  x != y\n",
    "    assert x > y\n",
    "    assert x >= y\n",
    "    assert x < y\n",
    "    assert x <= y\n",
    "    z = Fraction (7,6); assert x+y == z\n",
    "    z = Fraction (1,6); assert x-y == z\n",
    "    z = Fraction (1,3); assert x*y == z\n",
    "    z = Fraction (4,3); assert x/y == z\n",
    "#unitTest()"
   ]
  },
  {
   "cell_type": "markdown",
   "metadata": {},
   "source": [
    "#   END of ASSIGNMENTS"
   ]
  },
  {
   "cell_type": "code",
   "execution_count": null,
   "metadata": {},
   "outputs": [],
   "source": []
  }
 ],
 "metadata": {
  "kernelspec": {
   "display_name": "Python 3",
   "language": "python",
   "name": "python3"
  },
  "language_info": {
   "codemirror_mode": {
    "name": "ipython",
    "version": 3
   },
   "file_extension": ".py",
   "mimetype": "text/x-python",
   "name": "python",
   "nbconvert_exporter": "python",
   "pygments_lexer": "ipython3",
   "version": "3.7.1"
  }
 },
 "nbformat": 4,
 "nbformat_minor": 2
}
