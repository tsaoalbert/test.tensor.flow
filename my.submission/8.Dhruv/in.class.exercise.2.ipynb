{
 "cells": [
  {
   "cell_type": "markdown",
   "metadata": {},
   "source": [
    "<h1> <a href='http://interactivepython.org/runestone/static/pythonds/AlgorithmAnalysis/toctree.html'> In Class Exercise 2 (Algorithm Analysis)  </a> </h1>"
   ]
  },
  {
   "cell_type": "markdown",
   "metadata": {},
   "source": [
    "<h1> <a href='\n",
    "http://interactivepython.org/runestone/static/pythonds/AlgorithmAnalysis/DiscussionQuestions.html    '>  Discussion Questions  </a> </h1>"
   ]
  },
  {
   "cell_type": "code",
   "execution_count": 4,
   "metadata": {},
   "outputs": [
    {
     "name": "stdout",
     "output_type": "stream",
     "text": [
      "True\n"
     ]
    }
   ],
   "source": [
    "#Give the Big-O performance of the following code fragment.\n",
    "\n",
    "#1\n",
    "n = 0\n",
    "for i in range(n):\n",
    "   for j in range(n):\n",
    "      k = 2 + 2\n",
    "# Answer :- Big(O)N^2"
   ]
  },
  {
   "cell_type": "code",
   "execution_count": null,
   "metadata": {},
   "outputs": [],
   "source": [
    "Give the Big-O performance of the following code fragment:\n",
    "#2\n",
    "for i in range(n):\n",
    "     k = 2 + 2\n",
    "# Answer :- Big(O)(N)"
   ]
  },
  {
   "cell_type": "code",
   "execution_count": null,
   "metadata": {},
   "outputs": [],
   "source": [
    "Give the Big-O performance of the following code fragment:\n",
    "\n",
    "\n",
    "#3\n",
    "i = n\n",
    "while i > 0:\n",
    "   k = 2 + 2\n",
    "   i = i // 2\n",
    "# Answer :- Big(O)(logN)"
   ]
  },
  {
   "cell_type": "code",
   "execution_count": null,
   "metadata": {},
   "outputs": [],
   "source": [
    "Give the Big-O performance of the following code fragment:\n",
    "\n",
    "#4\n",
    "for i in range(n):\n",
    "   for j in range(n):\n",
    "      for k in range(n):\n",
    "         k = 2 + 2\n",
    "# Answer :- Big(O)(N)^3"
   ]
  },
  {
   "cell_type": "code",
   "execution_count": null,
   "metadata": {},
   "outputs": [],
   "source": [
    "Give the Big-O performance of the following code fragment:\n",
    "\n",
    "#5\n",
    "i = n\n",
    "while i > 0:\n",
    "   k = 2 + 2\n",
    "   i = i // 2\n",
    "# Answer :- Big(O)(logN)"
   ]
  },
  {
   "cell_type": "code",
   "execution_count": null,
   "metadata": {},
   "outputs": [],
   "source": [
    "#6, Give the Big-O performance of the following code fragment:\n",
    "\n",
    "for i in range(n):\n",
    "   k = 2 + 2\n",
    "for j in range(n):\n",
    "   k = 2 + 2\n",
    "for k in range(n):\n",
    "   k = 2 + 2\n",
    "# Answer :- Big(O)(N)"
   ]
  },
  {
   "cell_type": "code",
   "execution_count": null,
   "metadata": {},
   "outputs": [],
   "source": [
    "#Give the Big-O performance of the following code fragment:\n",
    "i=0\n",
    "while (i*i < n):\n",
    "  print ( i*i)\n",
    "  i += 1\n",
    "# Answer :- Big(O)(logN)"
   ]
  },
  {
   "cell_type": "code",
   "execution_count": 4,
   "metadata": {},
   "outputs": [],
   "source": [
    "#Give the Big-O performance of the following code fragment:\n",
    "def findRepeated(L):\n",
    "  \"\"\"\n",
    "    determines whether all elements in a given list L are distinct\n",
    "  \"\"\"\n",
    "  n=len(L)\n",
    "  for i in range(n):\n",
    "    for j in range(i+1, n):\n",
    "      if L[i]==L[j]:\n",
    "        return True\n",
    "  return False\n",
    "# Answer :- Big(O)(N)^2"
   ]
  },
  {
   "cell_type": "code",
   "execution_count": 11,
   "metadata": {},
   "outputs": [
    {
     "name": "stdout",
     "output_type": "stream",
     "text": [
      "[1,2,3,4] no duplicates    True\n",
      "[1,1,2,2] duplicates found True\n"
     ]
    }
   ],
   "source": [
    "#Revise the previous program to improve the time complexity to O(n) or O(n log n)\n",
    "def improved_findrepeat(L):\n",
    "    s = set(L)\n",
    "    return len(s) == len(L)\n",
    "print(\"[1,2,3,4] no duplicates   \", True==improved_findrepeat([1,2,3,4]))\n",
    "print(\"[1,1,2,2] duplicates found\", False==improved_findrepeat([1,1,1]))    "
   ]
  }
 ],
 "metadata": {
  "kernelspec": {
   "display_name": "Python 3",
   "language": "python",
   "name": "python3"
  },
  "language_info": {
   "codemirror_mode": {
    "name": "ipython",
    "version": 3
   },
   "file_extension": ".py",
   "mimetype": "text/x-python",
   "name": "python",
   "nbconvert_exporter": "python",
   "pygments_lexer": "ipython3",
   "version": "3.7.1"
  }
 },
 "nbformat": 4,
 "nbformat_minor": 2
}
