{
 "cells": [
  {
   "cell_type": "markdown",
   "metadata": {},
   "source": [
    "<h1>\n",
    " <a href= \"http://interactivepython.org/runestone/static/pythonds/SortSearch/toctree.html\"> In Class Exercise # 5 </a>\n",
    "    </h1?"
   ]
  },
  {
   "cell_type": "markdown",
   "metadata": {},
   "source": [
    "<h1> <a href= \"\n",
    "http://interactivepython.org/runestone/static/pythonds/SortSearch/DiscussionQuestions.html\"> \n",
    "    5.15. Discussion Questions</a></h1>"
   ]
  },
  {
   "cell_type": "raw",
   "metadata": {},
   "source": [
    "<a href= \"http://interactivepython.org/runestone/static/pythonds/SortSearch/Hashing.html#analysis-of-hashing\"> \n",
    "    5.15. Discussion Questions</a>\n",
    "\n",
    "Using the hash table performance formulas given in the chapter, compute the average number of comparisons necessary when the table is\n",
    "\n",
    "10% full\n",
    "25% full\n",
    "50% full\n",
    "75% full\n",
    "90% full\n",
    "99% full\n",
    "At what point do you think the hash table is too small? Explain.\n"
   ]
  },
  {
   "cell_type": "raw",
   "metadata": {},
   "source": [
    "Modify the hash function for strings to use positional weightings."
   ]
  },
  {
   "cell_type": "raw",
   "metadata": {},
   "source": [
    "We used a hash function for strings that weighted the characters by position. \n",
    "What are the biases that exist with these functions?\n",
    "Devise an alternative weighting scheme that remove these biases."
   ]
  },
  {
   "cell_type": "raw",
   "metadata": {},
   "source": [
    "Consider the following list of integers: \n",
    "[7, 2,9, 3,4,10, 5,1, 6,8]. \n",
    "Show how this list is sorted by the following algorithms:\n",
    "\n",
    "bubble sort\n",
    "selection sort\n",
    "insertion sort\n",
    "merge sort\n",
    "quick sort (Use the first one as the pivot value)"
   ]
  },
  {
   "cell_type": "code",
   "execution_count": 12,
   "metadata": {},
   "outputs": [
    {
     "name": "stdout",
     "output_type": "stream",
     "text": [
      "[32, 39, 39, 47, 51, 60, 62, 72, 76, 79]\n",
      "[12, 22, 23, 48, 57, 62, 80, 81, 88, 87]\n",
      "[41, 42, 46, 47, 52, 57, 64, 69, 80, 86]\n",
      "[13, 15, 26, 35, 41, 44, 45, 51, 73, 84]\n",
      "[23, 60, 22, 55, 33, 70, 83, 74, 89, 78]\n"
     ]
    }
   ],
   "source": [
    "import random\n",
    "def ran():\n",
    "    A = []\n",
    "    for i in range(0,10):\n",
    "        A.append(random.randint(i,100))\n",
    "    return A\n",
    "A = ran()\n",
    "# bubble sort\n",
    "def bubblesort(A):\n",
    "    for i in range(0,len(A)-1):\n",
    "        for j in range(i+1,len(A)):\n",
    "           if A[j] < A[i]:\n",
    "            A[i],A[j] = A[j],A[i]\n",
    "    print(A)\n",
    "bubblesort(A)\n",
    "A = ran()\n",
    "def selectionsort(A):\n",
    "    for i in range(0,len(A)):\n",
    "        minimum = A[i]\n",
    "        index = i\n",
    "        flag = False\n",
    "        for j in range(i+1,len(A)-1):\n",
    "            if A[j] < minimum:\n",
    "                minimum = A[j]\n",
    "                index = j\n",
    "                flag = True\n",
    "        if flag:\n",
    "            A[i],A[index] = A[index],A[i]\n",
    "    print(A)\n",
    "selectionsort(A)\n",
    "A = ran()\n",
    "def insertionsort(A):\n",
    "    for i in range(1,len(A)):\n",
    "        key = A[i] \n",
    "        j = i-1\n",
    "        while j >= 0 and key < A[j] : \n",
    "                A[j + 1] = A[j] \n",
    "                j -= 1\n",
    "        A[j + 1] = key \n",
    "    print(A)       \n",
    "insertionsort(A)\n",
    "A = ran()\n",
    "def mergeSort(arr): # Referred from geeksforgeeks \n",
    "    if len(arr) >1: \n",
    "        mid = len(arr)//2 \n",
    "        L = arr[:mid] \n",
    "        R = arr[mid:] \n",
    "        mergeSort(L) \n",
    "        mergeSort(R)\n",
    "        i = j = k = 0\n",
    "        while i < len(L) and j < len(R): \n",
    "            if L[i] < R[j]: \n",
    "                arr[k] = L[i] \n",
    "                i+=1\n",
    "            else: \n",
    "                arr[k] = R[j] \n",
    "                j+=1\n",
    "            k+=1\n",
    "        while i < len(L): \n",
    "            arr[k] = L[i] \n",
    "            i+=1\n",
    "            k+=1\n",
    "        while j < len(R): \n",
    "            arr[k] = R[j] \n",
    "            j+=1\n",
    "            k+=1\n",
    "mergeSort(A)    \n",
    "print(A)\n",
    "A = ran()\n",
    "\n",
    "def partition(arr,low,high): \n",
    "    i = ( low-1 )        \n",
    "    pivot = arr[high]   \n",
    "    for j in range(low , high): \n",
    "        if arr[j] <= pivot: \n",
    "            i = i+1 \n",
    "            arr[i],arr[j] = arr[j],arr[i] \n",
    "    arr[i+1],arr[high] = arr[high],arr[i+1] \n",
    "    return ( i+1 ) \n",
    "  \n",
    "def quickSort(arr,low,high): \n",
    "    if low < high: \n",
    "        pi = partition(arr,low,high) \n",
    "        quickSort(arr, low, pi-1) \n",
    "        quickSort(arr, pi+1, high) \n",
    "quickSort(A,0,len(A)-1)\n",
    "print(A)\n",
    "\n"
   ]
  },
  {
   "cell_type": "raw",
   "metadata": {},
   "source": [
    "Consider the following list of integers: \n",
    "[10,9,8,7,6,5,4,3,2,1]. \n",
    "Show how this list is sorted by the following algorithms:\n",
    "\n",
    "bubble sort\n",
    "selection sort\n",
    "insertion sort\n",
    "merge sort\n",
    "quick sort (Use the first one as the pivot value)\n",
    "\n",
    "Show the array at each iteration. A sample run for the quick sort is given below, where the \n",
    "input array is shown at step 0, and * indicate the pivot item.\n",
    "\n",
    " 0: 54   26   93   17   77   31   44   55   20   \n",
    " 1: 31   26   20   17   44   54*  77   55   93   \n",
    " 2: 17   26   20   31*  44        55   77*  93   \n",
    " 3: 17*  26   20        44        55        93   \n",
    "\n",
    " 4: 17*  20   26*  31*  44   54*  55   77*  93\n",
    " \n",
    " \n",
    " \n",
    " Ans. Adding print statement in above algorithms will print the intermediate steps\n"
   ]
  },
  {
   "cell_type": "raw",
   "metadata": {},
   "source": [
    "Consider the following list of integers: [1,2,3,4,5,6,7,8,9,10]. \n",
    "Show how this list is sorted by the following algorithms:\n",
    "bubble sort\n",
    "selection sort\n",
    "insertion sort\n",
    "merge sort\n",
    "quick sort (Use the first one as the pivot value)"
   ]
  },
  {
   "cell_type": "raw",
   "metadata": {},
   "source": [
    "\n",
    "Consider the list of characters: ['P','Y','T','H','O','N']. \n",
    "Show how this list is sorted using the following algorithms:\n",
    "bubble sort\n",
    "selection sort\n",
    "insertion sort\n",
    "merge sort\n",
    "quick sort (you decide on the pivot value)\n",
    "\n",
    "\n",
    "\n",
    "Ans. I will use same algorithm mentioned above if required then will use ASCII."
   ]
  },
  {
   "cell_type": "raw",
   "metadata": {},
   "source": [
    "Devise alternative strategies for choosing the pivot value in quick sort. \n",
    "For example, pick the middle item. \n",
    "Re-implement the algorithm and then execute it on random data sets. \n",
    "Under what criteria does your new strategy perform better or worse than the strategy from this chapter?\n",
    "\n",
    "Ans. Choosing pivot has its own tradeoff and will depend on the arrangement of algorithm.\n"
   ]
  },
  {
   "cell_type": "code",
   "execution_count": null,
   "metadata": {},
   "outputs": [],
   "source": [
    "#Improve the time complexity of thefollowing algorithm to be linear time O(N)\n",
    "def findRepeated(L):\n",
    "  \"\"\"\n",
    "    determines whether all elements in a given list L are distinct\n",
    "  \"\"\"\n",
    "  n=len(L)\n",
    "  for i in range(n):\n",
    "    for j in range(i+1, n):\n",
    "      if L[i]==L[j]:\n",
    "        return True\n",
    "  return False"
   ]
  }
 ],
 "metadata": {
  "kernelspec": {
   "display_name": "Python 3",
   "language": "python",
   "name": "python3"
  },
  "language_info": {
   "codemirror_mode": {
    "name": "ipython",
    "version": 3
   },
   "file_extension": ".py",
   "mimetype": "text/x-python",
   "name": "python",
   "nbconvert_exporter": "python",
   "pygments_lexer": "ipython3",
   "version": "3.7.1"
  }
 },
 "nbformat": 4,
 "nbformat_minor": 2
}
