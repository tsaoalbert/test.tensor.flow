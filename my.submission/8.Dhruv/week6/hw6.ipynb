{
 "cells": [
  {
   "cell_type": "markdown",
   "metadata": {},
   "source": [
    "<h1>\n",
    "<a href='http://interactivepython.org/runestone/static/pythonds/Trees/toctree.html'> \n",
    "    HW #6: Trees and Tree Algorithms  </a> </h1>"
   ]
  },
  {
   "cell_type": "markdown",
   "metadata": {},
   "source": [
    "<h3> \n",
    "The questions are taken from  <a href='\n",
    "http://interactivepython.org/runestone/static/pythonds/Trees/ProgrammingExercises.html    '>\n",
    "6.22. Programming Exercises  </a>\n",
    "</h3>"
   ]
  },
  {
   "cell_type": "code",
   "execution_count": 6,
   "metadata": {},
   "outputs": [
    {
     "data": {
      "text/plain": [
       "'\\nRefernces : google.com, wikipedia, geeksforgeeks\\n'"
      ]
     },
     "execution_count": 6,
     "metadata": {},
     "output_type": "execute_result"
    }
   ],
   "source": [
    "'''\n",
    "Refernces : google.com, wikipedia, geeksforgeeks\n",
    "'''"
   ]
  },
  {
   "cell_type": "code",
   "execution_count": 7,
   "metadata": {},
   "outputs": [
    {
     "name": "stdout",
     "output_type": "stream",
     "text": [
      "[1, 2, 3, 4, 5]\n"
     ]
    }
   ],
   "source": [
    "'''\n",
    "Q #1 Using the buildHeap method, write a sorting function that can sort a list in O(nlogn) time.\n",
    "'''\n",
    "\n",
    "def heapsort(array):\n",
    "    build_max_heap(array)\n",
    "    for i in range(len(array) - 1, 0, -1):\n",
    "        array[0], array[i] = array[i], array[0]\n",
    "        max_heapify(array, index = 0, size = i)\n",
    " \n",
    "def parent(i):\n",
    "    return (i - 1) // 2\n",
    " \n",
    "def left(i):\n",
    "    return 2 * i + 1\n",
    " \n",
    "def right(i):\n",
    "    return 2 * i + 2\n",
    " \n",
    "def build_max_heap(array):\n",
    "    length = len(array)\n",
    "    start = parent(length - 1)\n",
    "    while start >= 0:\n",
    "        max_heapify(array, index = start, size = length)\n",
    "        start = start - 1\n",
    " \n",
    "def max_heapify(array, index, size):\n",
    "    l = left(index)\n",
    "    r = right(index)\n",
    "    if (l < size and array[l] > array[index]):\n",
    "        largest = l\n",
    "    else:\n",
    "        largest = index\n",
    "    if (r < size and array[r] > array[largest]):\n",
    "        largest = r\n",
    "    if (largest != index):\n",
    "        array[largest], array[index] = array[index], array[largest]\n",
    "        max_heapify(array, largest, size)\n",
    " \n",
    " \n",
    "array = [5,4,3,2,1]\n",
    "heapsort(array)\n",
    "print(array)\n",
    "\n"
   ]
  },
  {
   "cell_type": "code",
   "execution_count": 8,
   "metadata": {},
   "outputs": [
    {
     "name": "stdout",
     "output_type": "stream",
     "text": [
      "-9999 -5 0 60 85 100 300 "
     ]
    }
   ],
   "source": [
    "'''\n",
    "Q#2 Implement a binary heap as a max heap.\n",
    "'''\n",
    "import random\n",
    "\n",
    "class Heap:\n",
    "    def __init__(self):\n",
    "        self.__heap = []\n",
    "        self.__last_index = -1\n",
    "\n",
    "    def push(self, value):\n",
    "        self.__last_index += 1\n",
    "        if self.__last_index < len(self.__heap):\n",
    "            self.__heap[self.__last_index] = value\n",
    "        else:\n",
    "            self.__heap.append(value)\n",
    "        self.__siftup(self.__last_index)\n",
    "\n",
    "    def pop(self):\n",
    "        if self.__last_index == -1:\n",
    "            raise IndexError('pop from empty heap')\n",
    "\n",
    "        min_value = self.__heap[0]\n",
    "\n",
    "        self.__heap[0] = self.__heap[self.__last_index]\n",
    "        self.__last_index -= 1\n",
    "        self.__siftdown(0)\n",
    "\n",
    "        return min_value\n",
    "\n",
    "    def __siftup(self, index):\n",
    "        while index > 0:\n",
    "            parent_index, parent_value = self.__get_parent(index)\n",
    "\n",
    "            if parent_value <= self.__heap[index]:\n",
    "                break\n",
    "\n",
    "            self.__heap[parent_index], self.__heap[index] =\\\n",
    "                self.__heap[index], self.__heap[parent_index]\n",
    "\n",
    "            index = parent_index\n",
    "\n",
    "    def __siftdown(self, index):\n",
    "        while True:\n",
    "            index_value = self.__heap[index]\n",
    "\n",
    "            left_child_index, left_child_value = self.__get_left_child(index, index_value)\n",
    "            right_child_index, right_child_value = self.__get_right_child(index, index_value)\n",
    "\n",
    "            if index_value <= left_child_value and index_value <= right_child_value:\n",
    "                break\n",
    "\n",
    "            if left_child_value < right_child_value:\n",
    "                new_index = left_child_index\n",
    "            else:\n",
    "                new_index = right_child_index\n",
    "\n",
    "            self.__heap[new_index], self.__heap[index] =\\\n",
    "                self.__heap[index], self.__heap[new_index]\n",
    "\n",
    "            index = new_index\n",
    "\n",
    "    def __get_parent(self, index):\n",
    "        if index == 0:\n",
    "            return None, None\n",
    "\n",
    "        parent_index = (index - 1) // 2\n",
    "\n",
    "        return parent_index, self.__heap[parent_index]\n",
    "\n",
    "    def __get_left_child(self, index, default_value):\n",
    "        left_child_index = 2 * index + 1\n",
    "\n",
    "        if left_child_index > self.__last_index:\n",
    "            return None, default_value\n",
    "\n",
    "        return left_child_index, self.__heap[left_child_index]\n",
    "\n",
    "    def __get_right_child(self, index, default_value):\n",
    "        right_child_index = 2 * index + 2\n",
    "\n",
    "        if right_child_index > self.__last_index:\n",
    "            return None, default_value\n",
    "\n",
    "        return right_child_index, self.__heap[right_child_index]\n",
    "\n",
    "    def __len__(self):\n",
    "        return self.__last_index + 1\n",
    "    \n",
    "values = [-9999,0,-5,85,300,100,60]\n",
    "\n",
    "h = Heap()\n",
    "for v in values:\n",
    "    h.push(v)\n",
    "\n",
    "while len(h) > 0:\n",
    "    print(h.pop(), end=' ')"
   ]
  },
  {
   "cell_type": "code",
   "execution_count": 9,
   "metadata": {},
   "outputs": [
    {
     "name": "stdout",
     "output_type": "stream",
     "text": [
      "2\n",
      "5\n"
     ]
    }
   ],
   "source": [
    "'''\n",
    "Q#3 Using the BinaryHeap class, implement a new class called PriorityQueue that implement the constructor, plus the enqueue and dequeue methods.\n",
    "Hints: see lecture note 7\n",
    "'''\n",
    "class PriorityQueue:\n",
    "    \n",
    "    def __init__(self):\n",
    "        self.heap = Heap()\n",
    "    \n",
    "    def enqueue(self, item):\n",
    "        self.heap.push(item)\n",
    "        \n",
    "    def dequeue(self):\n",
    "        return self.heap.pop()\n",
    "        \n",
    "pq = PriorityQueue()\n",
    "pq.enqueue(2)\n",
    "pq.enqueue(20)\n",
    "pq.enqueue(30)\n",
    "pq.enqueue(5)\n",
    "pq.enqueue(7)\n",
    "\n",
    "print(pq.dequeue())\n",
    "print(pq.dequeue())\n",
    "        "
   ]
  },
  {
   "cell_type": "raw",
   "metadata": {},
   "source": [
    "Q#4 Consdier the following max-heap tree. Show the new  tree and the srray after insertinn number 7"
   ]
  },
  {
   "cell_type": "markdown",
   "metadata": {},
   "source": [
    "<div class=\"binarySearch\">\n",
    "    <div style=\"float:left;margin-top:75px;\">\n",
    "    <figure>\n",
    "        <img src=\"images/heap.insert.1.png\" width=\"550\"  />\n",
    "        <figcaption style=\"text-align:center;\">   </figcaption>\n",
    "    </figure>\n",
    "    </div>\n",
    "    <div style=\"float:left;margin-right:55px;\">\n",
    "    <figure>\n",
    "        <img src=\"images/heap.insert.2.png\"  width=\"550\"  />\n",
    "        <figcaption style=\"text-align:center;\">   </figcaption>\n",
    "    </figure>\n",
    "    </div>\n",
    "</div>"
   ]
  },
  {
   "cell_type": "code",
   "execution_count": 10,
   "metadata": {},
   "outputs": [
    {
     "data": {
      "text/plain": [
       "'\\n\\nTo me above tree looks like min-heap tree. I will convert it like below to make it max-heap tree.\\n\\narray = [5,7,9,11,14,17,18,19,21,27,33] <--- Min-Heap Tree Array\\n\\narray = [33,27,21,19,18,17,14,11,9,7,5] <--- Max-Heap Tree Array\\n\\n                                        33\\n                                    /                                          27        21\\n                                 /   \\\\      /                                  19   18    17  14\\n                               / \\\\   /                               11  9 7   5\\n'"
      ]
     },
     "execution_count": 10,
     "metadata": {},
     "output_type": "execute_result"
    }
   ],
   "source": [
    "'''\n",
    "\n",
    "To me above tree looks like min-heap tree. I will convert it like below to make it max-heap tree.\n",
    "\n",
    "array = [5,7,9,11,14,17,18,19,21,27,33] <--- Min-Heap Tree Array\n",
    "\n",
    "array = [33,27,21,19,18,17,14,11,9,7,5] <--- Max-Heap Tree Array\n",
    "\n",
    "                                        33\n",
    "                                    /       \\\n",
    "                                   27        21\n",
    "                                 /   \\      /  \\\n",
    "                                19   18    17  14\n",
    "                               / \\   / \\\n",
    "                              11  9 7   5\n",
    "'''"
   ]
  },
  {
   "cell_type": "code",
   "execution_count": 11,
   "metadata": {},
   "outputs": [
    {
     "ename": "NameError",
     "evalue": "name 'insert' is not defined",
     "output_type": "error",
     "traceback": [
      "\u001b[0;31m---------------------------------------------------------------------------\u001b[0m",
      "\u001b[0;31mNameError\u001b[0m                                 Traceback (most recent call last)",
      "\u001b[0;32m<ipython-input-11-c0ab6323b5d1>\u001b[0m in \u001b[0;36m<module>\u001b[0;34m\u001b[0m\n\u001b[1;32m     34\u001b[0m \u001b[0;34m\u001b[0m\u001b[0m\n\u001b[1;32m     35\u001b[0m \u001b[0mroot\u001b[0m \u001b[0;34m=\u001b[0m \u001b[0mNode\u001b[0m\u001b[0;34m(\u001b[0m\u001b[0;36m50\u001b[0m\u001b[0;34m)\u001b[0m\u001b[0;34m\u001b[0m\u001b[0;34m\u001b[0m\u001b[0m\n\u001b[0;32m---> 36\u001b[0;31m \u001b[0minsert\u001b[0m\u001b[0;34m(\u001b[0m\u001b[0mroot\u001b[0m\u001b[0;34m,\u001b[0m\u001b[0mNode\u001b[0m\u001b[0;34m(\u001b[0m\u001b[0;36m50\u001b[0m\u001b[0;34m)\u001b[0m\u001b[0;34m)\u001b[0m\u001b[0;34m\u001b[0m\u001b[0;34m\u001b[0m\u001b[0m\n\u001b[0m\u001b[1;32m     37\u001b[0m \u001b[0mroot\u001b[0m\u001b[0;34m.\u001b[0m\u001b[0mtraverse\u001b[0m\u001b[0;34m(\u001b[0m\u001b[0;34m)\u001b[0m\u001b[0;34m\u001b[0m\u001b[0;34m\u001b[0m\u001b[0m\n\u001b[1;32m     38\u001b[0m \u001b[0;34m\u001b[0m\u001b[0m\n",
      "\u001b[0;31mNameError\u001b[0m: name 'insert' is not defined"
     ]
    }
   ],
   "source": [
    "'''\n",
    "Q#5 Modify our implementation of the binary search tree so that it handles duplicate keys properly. \n",
    "That is, if a key is already in the tree then the new payload should replace the old \n",
    "rather than add another node with the same key.\n",
    "'''\n",
    "\n",
    "class Node: \n",
    "    def __init__(self,key): \n",
    "        self.left = None\n",
    "        self.right = None\n",
    "        self.val = key \n",
    "  \n",
    "    def insert(self, root,node):  # \n",
    "        if self.root is None: \n",
    "            self.root = node \n",
    "        else: \n",
    "            if root.val == node.val:\n",
    "                root = node   \n",
    "            if root.val < node.val: \n",
    "                if root.right is None: \n",
    "                    root.right = node \n",
    "                else: \n",
    "                    insert(root.right, node) \n",
    "            else: \n",
    "                if root.left is None: \n",
    "                    root.left = node \n",
    "                else: \n",
    "                    insert(root.left, node) \n",
    "    def traverse(self):\n",
    "        if self != None:\n",
    "            print(self.val)\n",
    "        if self.right is not None and self.left is not None: # Condition to check duplicates are not replaced\n",
    "            print(self.right.val,self.left.val)   \n",
    "  \n",
    "root = Node(50) \n",
    "insert(root,Node(50))  \n",
    "root.traverse()\n",
    "\n",
    "\n",
    "\n"
   ]
  },
  {
   "cell_type": "markdown",
   "metadata": {},
   "source": [
    "Bonus question:\n",
    "Using the following as a starting point, derive the equation that gives the updated balance factor for node D.\n",
    "<div class=\"parse.tree\">\n",
    "    <div style=\"float:left;margin-top:55px;\">\n",
    "    <figure>\n",
    "        <img src=\"images/exer.5.14.png\"  width=\"550\" />\n",
    "        <figcaption style=\"text-align:center;\">  </figcaption>\n",
    "    </figure>\n",
    "    </div>\n",
    "</div>\n",
    "Hints: Read  <a href='http://interactivepython.org/runestone/static/pythonds/Trees/AVLTreeImplementation.html'>6.17. </a>"
   ]
  }
 ],
 "metadata": {
  "kernelspec": {
   "display_name": "Python 3",
   "language": "python",
   "name": "python3"
  },
  "language_info": {
   "codemirror_mode": {
    "name": "ipython",
    "version": 3
   },
   "file_extension": ".py",
   "mimetype": "text/x-python",
   "name": "python",
   "nbconvert_exporter": "python",
   "pygments_lexer": "ipython3",
   "version": "3.7.1"
  }
 },
 "nbformat": 4,
 "nbformat_minor": 2
}
