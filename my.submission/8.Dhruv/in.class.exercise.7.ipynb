{
 "cells": [
  {
   "cell_type": "markdown",
   "metadata": {},
   "source": [
    "<h1>\n",
    "In Class Exercise #7\n",
    "\n",
    "</h1>"
   ]
  },
  {
   "cell_type": "markdown",
   "metadata": {},
   "source": [
    "\n",
    "<h2>\n",
    "<a href='\n",
    "http://interactivepython.org/runestone/static/pythonds/Graphs/DiscussionQuestions.html         '> \n",
    "7.25. Discussion Questions\n",
    "  </a>\n",
    " </h2>\n"
   ]
  },
  {
   "cell_type": "code",
   "execution_count": 2,
   "metadata": {},
   "outputs": [
    {
     "ename": "SyntaxError",
     "evalue": "invalid syntax (<ipython-input-2-cdb09256e465>, line 1)",
     "output_type": "error",
     "traceback": [
      "\u001b[0;36m  File \u001b[0;32m\"<ipython-input-2-cdb09256e465>\"\u001b[0;36m, line \u001b[0;32m1\u001b[0m\n\u001b[0;31m    Draw the graph corresponding to the following adjacency matrix.\u001b[0m\n\u001b[0m           ^\u001b[0m\n\u001b[0;31mSyntaxError\u001b[0m\u001b[0;31m:\u001b[0m invalid syntax\n"
     ]
    }
   ],
   "source": [
    "Draw the graph corresponding to the following adjacency matrix.\n",
    "../_images/adjMatEX.png\n",
    "Draw the graph corresponding to the following list of edges.\n",
    "\n",
    "from\tto\tcost\n",
    "1\t2\t10\n",
    "1\t3\t15\n",
    "1\t6\t5\n",
    "2\t3\t7\n",
    "3\t4\t7\n",
    "3\t6\t10\n",
    "4\t5\t7\n",
    "6\t4\t5\n",
    "5\t6\t13\n",
    "\n",
    "'''\n",
    "http://graphonline.ru/en/?graph=rdFIjbpTjrgOFKDA\n",
    "'''\n",
    "Ignoring the weights, perform a breadth first search on the graph from the previous question.\n",
    "\n",
    "'''\n",
    "http://graphonline.ru/en/?graph=rdFIjbpTjrgOFKDA\n",
    "'''\n",
    "\n",
    "What is the Big-O running time of the buildGraph function?\n",
    "\n",
    "'''\n",
    "O(E ln|V|)\n",
    "'''\n",
    "\n",
    "Derive the Big-O running time for the topological sort algorithm.\n",
    "\n",
    "'''\n",
    "O(V+E)\n",
    "'''\n",
    "\n",
    "Derive the Big-O running time for the strongly connected components algorithm.\n",
    "\n",
    "'''\n",
    "O(V+E)\n",
    "'''\n",
    "\n",
    "Show each step in applying Dijkstra’s algorithm to the graph shown above.\n",
    "\n",
    "'''\n",
    "http://graphonline.ru/en/?graph=rdFIjbpTjrgOFKDA\n",
    "\n",
    "The pseudocode for dijkstra's algorithm is as below,\n",
    "Let the node at which we are starting be called the initial node. Let the distance of node Y be the distance from the initial node to Y. Dijkstra's algorithm will assign some initial distance values and will try to improve them step by step.\n",
    "\n",
    "1. Mark all nodes unvisited. Create a set of all the unvisited nodes called the unvisited set.\n",
    "2. Assign to every node a tentative distance value: set it to zero for our initial node and to infinity for all other nodes. Set the initial node as current.[13]\n",
    "3. For the current node, consider all of its unvisited neighbours and calculate their tentative distances through the current node. Compare the newly calculated tentative distance to the current assigned value and assign the smaller one. For example, if the current node A is marked with a distance of 6, and the edge connecting it with a neighbour B has length 2, then the distance to B through A will be 6 + 2 = 8. If B was previously marked with a distance greater than 8 then change it to 8. Otherwise, keep the current value.\n",
    "4. When we are done considering all of the unvisited neighbours of the current node, mark the current node as visited and remove it from the unvisited set. A visited node will never be checked again.\n",
    "5. If the destination node has been marked visited (when planning a route between two specific nodes) or if the smallest tentative distance among the nodes in the unvisited set is infinity (when planning a complete traversal; occurs when there is no connection between the initial node and remaining unvisited nodes), then stop. The algorithm has finished.\n",
    "6. Otherwise, select the unvisited node that is marked with the smallest tentative distance, set it as the new \"current node\", and go back to step 3.\n",
    "\n",
    "'''\n",
    "\n",
    "Using Prim’s algorithm, find the minimum weight spanning tree for the graph shown above.\n",
    "\n",
    "'''\n",
    "\n",
    "\n",
    "'''\n",
    "\n",
    "Draw a dependency graph illustrating the steps needed to send an email. Perform a topological sort on your graph.\n",
    "\n",
    "Derive an expression for the base of the exponent used in expressing the running time of the knights tour.\n",
    "\n",
    "Explain why the general DFS algorithm is not suitable for solving the knights tour problem.\n",
    "\n",
    "What is the Big-O running time for Prim’s minimum spanning tree algorithm?\n",
    "\n"
   ]
  },
  {
   "cell_type": "code",
   "execution_count": null,
   "metadata": {},
   "outputs": [],
   "source": []
  }
 ],
 "metadata": {
  "kernelspec": {
   "display_name": "Python 3",
   "language": "python",
   "name": "python3"
  },
  "language_info": {
   "codemirror_mode": {
    "name": "ipython",
    "version": 3
   },
   "file_extension": ".py",
   "mimetype": "text/x-python",
   "name": "python",
   "nbconvert_exporter": "python",
   "pygments_lexer": "ipython3",
   "version": "3.7.1"
  }
 },
 "nbformat": 4,
 "nbformat_minor": 2
}
