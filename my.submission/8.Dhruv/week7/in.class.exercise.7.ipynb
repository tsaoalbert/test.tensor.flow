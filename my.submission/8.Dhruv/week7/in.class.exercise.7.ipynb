{
 "cells": [
  {
   "cell_type": "markdown",
   "metadata": {},
   "source": [
    "<h1><a href='http://interactivepython.org/runestone/static/pythonds/Graphs/toctree.html'> 7. Graphs and Graph Algorithms</a></h1>"
   ]
  },
  {
   "cell_type": "markdown",
   "metadata": {},
   "source": [
    "<h2><a href='http://interactivepython.org/runestone/static/pythonds/Graphs/DiscussionQuestions.html'> 7.25. Discussion Questions</a></h2>"
   ]
  },
  {
   "cell_type": "markdown",
   "metadata": {},
   "source": [
    "Q#1 Use online graph http://graphonline.ru/en/ to draw a nice graph corresponding to the following adjacency matrix.\n",
    "<div class=\"binarySearch\">\n",
    "    <div style=\"float:left;margin-right:55px;\">\n",
    "    <figure>\n",
    "        <img src=\"images/adj.matrix.png\" height=\"400\" width=\"400\"  />\n",
    "        <figcaption style=\"text-align:center;\"> Adjacency Matrix  </figcaption>\n",
    "    </figure>\n",
    "    </div>\n",
    "    \n",
    "</div>"
   ]
  },
  {
   "cell_type": "code",
   "execution_count": 1,
   "metadata": {},
   "outputs": [],
   "source": [
    "# answer: http://graphonline.ru/en/?graph=aKgNbdAomocicJyT"
   ]
  },
  {
   "cell_type": "raw",
   "metadata": {},
   "source": [
    "Q#2 \n",
    "Draw the graph corresponding to the following list of edges.\n",
    "from\tto\tcost\n",
    "1\t2\t10\n",
    "1\t3\t15\n",
    "1\t6\t5\n",
    "2\t3\t7\n",
    "3\t4\t7\n",
    "3\t6\t10\n",
    "4\t5\t7\n",
    "6\t4\t5\n",
    "5\t6\t13\n",
    "hints: sample graph at http://graphonline.ru/en/?graph=DJTdnIUwAzlCppwr"
   ]
  },
  {
   "cell_type": "code",
   "execution_count": null,
   "metadata": {},
   "outputs": [],
   "source": [
    "#answer http://graphonline.ru/en/?graph=eFmrfSKcghyKgXEC"
   ]
  },
  {
   "cell_type": "code",
   "execution_count": null,
   "metadata": {},
   "outputs": [],
   "source": []
  },
  {
   "cell_type": "markdown",
   "metadata": {},
   "source": [
    "Q#3 \n",
    "* Show each step in applying Dijkstra’s algorithm to the graph shown above.\n",
    "* Using Prim’s algorithm, find the minimum weight spanning tree for the graph shown above.\n",
    "* Ignoring the weights, perform a breadth first search on the graph from the previous question."
   ]
  },
  {
   "cell_type": "code",
   "execution_count": 2,
   "metadata": {},
   "outputs": [
    {
     "ename": "SyntaxError",
     "evalue": "invalid syntax (<ipython-input-2-5e78677f1bb0>, line 1)",
     "output_type": "error",
     "traceback": [
      "\u001b[0;36m  File \u001b[0;32m\"<ipython-input-2-5e78677f1bb0>\"\u001b[0;36m, line \u001b[0;32m1\u001b[0m\n\u001b[0;31m    Tree: 5 -> 3 -> 2 -> 4 -> 1 -> 0\u001b[0m\n\u001b[0m             ^\u001b[0m\n\u001b[0;31mSyntaxError\u001b[0m\u001b[0;31m:\u001b[0m invalid syntax\n"
     ]
    }
   ],
   "source": [
    "Tree: 5 -> 3 -> 2 -> 4 -> 1 -> 0\n",
    "Cost: 0 -> 5 -> 7 -> 7 -> 7 -> 10\n",
    "\n",
    "Total Cost: 36"
   ]
  },
  {
   "cell_type": "markdown",
   "metadata": {},
   "source": []
  },
  {
   "cell_type": "code",
   "execution_count": null,
   "metadata": {},
   "outputs": [],
   "source": [
    "Q#4\n",
    "Prim’s Algorithm: Fill in the following table.\n",
    "dv = Cheapest edge cost to connect node v to tree T\n",
    "pv = Node in T to which the cheapest edge is connected"
   ]
  },
  {
   "cell_type": "markdown",
   "metadata": {},
   "source": [
    "<div class=\"binarySearch\">\n",
    "    <div style=\"float:left;margin-top:75px;\">\n",
    "    <figure>\n",
    "        <img src=\"images/prim.exer.2.png\" width=\"550\"  />\n",
    "        <figcaption style=\"text-align:center;\">   </figcaption>\n",
    "    </figure>\n",
    "    </div>\n",
    "    <div style=\"float:left;margin-right:55px;\">\n",
    "    <figure>\n",
    "        <img src=\"images/prim.exer.1.png\"  width=\"250\"  />\n",
    "        <figcaption style=\"text-align:center;\">   </figcaption>\n",
    "    </figure>\n",
    "    </div>\n",
    "</div>"
   ]
  },
  {
   "cell_type": "code",
   "execution_count": null,
   "metadata": {},
   "outputs": [],
   "source": [
    "\tK\tdv\tPv\n",
    "A\tT\t8\tB\n",
    "B\tT\t5\tC\n",
    "C\tT\t1\tD\n",
    "D\n",
    "E\tT\t2\tF\n",
    "F\tT\t3\tC\n",
    "Total Cost: 15"
   ]
  },
  {
   "cell_type": "raw",
   "metadata": {},
   "source": [
    "A T 8 B\n",
    "B T 5 C\n",
    "C T 1 D\n",
    "D T - -\n",
    "E T 2 F\n",
    "F T 3 C\n",
    "Total: 19"
   ]
  },
  {
   "cell_type": "raw",
   "metadata": {},
   "source": [
    "Q#5\n",
    "Consider the example below. What are the discovered and finished times for each node, and the topological order? (Note that the answers can be not unique. To make the answer unique, we assume that lower-numbered edges are explored first.) \n",
    "1)\tNode A? Answer(1pt): ? | ?\n",
    "2)\tNode B? Answer(1pt): ? | ?\n",
    "3)\tNode C? Answer(1pt): ? | ?\n",
    "4)\tNode D? Answer(1pt): ? | ?\n",
    "5)\tNode E? Answer(1pt): ? | ?\n",
    "6)\tWhat is the topological order? Answer(1pt): "
   ]
  },
  {
   "cell_type": "code",
   "execution_count": null,
   "metadata": {},
   "outputs": [],
   "source": [
    "1)\tNode A? Answer(1pt): 0 | 6\n",
    "2)\tNode B? Answer(1pt): 2 | 5\n",
    "3)\tNode C? Answer(1pt): 1 | 9\n",
    "4)\tNode D? Answer(1pt): 3 | 4\n",
    "5)\tNode E? Answer(1pt): 7 | 8\n",
    "6)\tWhat is the topological order? Answer(1pt): \n",
    "A\tB\tD\tD\tB\tA\tE\tE\tC"
   ]
  },
  {
   "cell_type": "markdown",
   "metadata": {},
   "source": [
    "<div class=\"binarySearch\">\n",
    "    <div style=\"float:left;margin-right:55px;\">\n",
    "    <figure>\n",
    "        <img src=\"images/topo.sort.exer.png\" height=\"400\" width=\"400\"  />\n",
    "        <figcaption style=\"text-align:center;\">   </figcaption>\n",
    "    </figure>\n",
    "    </div>\n",
    "</div>"
   ]
  },
  {
   "cell_type": "code",
   "execution_count": null,
   "metadata": {},
   "outputs": [],
   "source": [
    "A: 0|9\n",
    "B: 2|5\n",
    "C: 1|8\n",
    "D: 3|4\n",
    "E: 6|7\n",
    "\n",
    "order:A C E B D"
   ]
  }
 ],
 "metadata": {
  "kernelspec": {
   "display_name": "Python 3",
   "language": "python",
   "name": "python3"
  },
  "language_info": {
   "codemirror_mode": {
    "name": "ipython",
    "version": 3
   },
   "file_extension": ".py",
   "mimetype": "text/x-python",
   "name": "python",
   "nbconvert_exporter": "python",
   "pygments_lexer": "ipython3",
   "version": "3.7.1"
  }
 },
 "nbformat": 4,
 "nbformat_minor": 2
}
