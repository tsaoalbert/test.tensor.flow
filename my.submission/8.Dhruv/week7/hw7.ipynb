{
 "cells": [
  {
   "cell_type": "markdown",
   "metadata": {},
   "source": [
    "<h1> HW #7:  Tree and Tree Algorithms </h1>"
   ]
  },
  {
   "cell_type": "markdown",
   "metadata": {},
   "source": [
    "<h3> The questions are taken from\n",
    "<a href='\n",
    "http://interactivepython.org/runestone/static/pythonds/Graphs/ProgrammingExercises.html\n",
    "         '> 7.26. Programming Exercises  </a></h3>\n"
   ]
  },
  {
   "cell_type": "code",
   "execution_count": 3,
   "metadata": {},
   "outputs": [
    {
     "name": "stdout",
     "output_type": "stream",
     "text": [
      "[5, 4, 2, 3, 1, 0]\n"
     ]
    }
   ],
   "source": [
    "'''\n",
    "5/20\n",
    "Q#1 Modify the depth first search function to produce a topological sort.\n",
    "'''\n",
    "\n",
    "from collections import defaultdict \n",
    "\n",
    "class Graph: \n",
    "    def __init__(self,vertices): \n",
    "        self.graph = defaultdict(list) \n",
    "        self.V = vertices \n",
    "  \n",
    "    def addEdge(self,u,v): \n",
    "        self.graph[u].append(v) \n",
    "  \n",
    "\n",
    "    def topologicalSortUtil(self,v,visited,stack): \n",
    "        visited[v] = True\n",
    "        for i in self.graph[v]: \n",
    "            if visited[i] == False: \n",
    "                self.topologicalSortUtil(i,visited,stack) \n",
    "        stack.insert(0,v) \n",
    "  \n",
    "\n",
    "    def topologicalSort(self): \n",
    "        visited = [False]*self.V \n",
    "        stack =[] \n",
    "        for i in range(self.V): \n",
    "            if visited[i] == False: \n",
    "                self.topologicalSortUtil(i,visited,stack) \n",
    "        print(stack)\n",
    "  \n",
    "g = Graph(6) \n",
    "g.addEdge(5, 2) \n",
    "g.addEdge(5, 0) \n",
    "g.addEdge(4, 0)\n",
    "g.addEdge(4, 1)\n",
    "g.addEdge(2, 3)\n",
    "g.addEdge(3, 1) \n",
    "g.topologicalSort() \n"
   ]
  },
  {
   "cell_type": "raw",
   "metadata": {},
   "source": [
    "'''\n",
    "20/20\n",
    "20/20\n",
    "Q#2 Modify the depth first search to produce strongly connected components.\n",
    "\n",
    "Q#3: Write the transpose method for the Graph class.\n",
    "'''\n",
    "\n",
    "    def getTranspose(self): \n",
    "        g = Graph(self.V) \n",
    "        for i in self.graph: \n",
    "            for j in self.graph[i]: \n",
    "                g.addEdge(j,i) \n",
    "        return g\n",
    "        \n",
    "    def stronglyconnectedcomponents(self): \n",
    "        stack = [] \n",
    "        visited =[False]*(self.V) \n",
    "        for i in range(self.V): \n",
    "            if visited[i]==False: \n",
    "                self.fillOrder(i, visited, stack) \n",
    "        gr = self.getTranspose() \n",
    "        visited =[False]*(self.V) \n",
    "        while stack: \n",
    "            i = stack.pop() \n",
    "            if visited[i]==False: \n",
    "                gr.DFSUtil(i, visited) \n",
    "            \n"
   ]
  },
  {
   "cell_type": "raw",
   "metadata": {},
   "source": [
    "'''\n",
    "Q#4: Using BFS revise the maze program from the recursion chapter to find the shortest path out of a maze.\n",
    "import collections \n",
    "\n",
    "'''"
   ]
  },
  {
   "cell_type": "raw",
   "metadata": {},
   "source": [
    "Q#5:\n",
    "Dijkstra’s Algorithm: Fill in the table, where\n",
    "dv = Shortest path length from source node s to v\n",
    "pv = Node in T to which Node v is connected\n"
   ]
  },
  {
   "cell_type": "markdown",
   "metadata": {},
   "source": [
    "<div class=\"binarySearch\">\n",
    "    <div style=\"float:left;margin-top:75px;\">\n",
    "    <figure>\n",
    "        <img src=\"images/dijkstra.hw7.5.png\" height=\"400\" width=\"500\"  />\n",
    "        <figcaption style=\"text-align:center;\">   </figcaption>\n",
    "    </figure>\n",
    "    </div>\n",
    "    <div style=\"float:left;margin-right:55px;\">\n",
    "    <figure>\n",
    "        <img src=\"images/dijkstra.hw7.5_2.png\" width=\"300\"   />\n",
    "        <figcaption style=\"text-align:center;\">   </figcaption>\n",
    "    </figure>\n",
    "    </div>\n",
    "</div>"
   ]
  },
  {
   "cell_type": "markdown",
   "metadata": {},
   "source": [
    "20/20\n",
    "Q#6\n",
    "What is the Big-O running time of \n",
    "* the buildGraph function?\n",
    "* the topological sort algorithm.\n",
    "* the strongly connected components algorithm.\n",
    "* Prim’s minimum spanning tree algorithm?"
   ]
  },
  {
   "cell_type": "code",
   "execution_count": null,
   "metadata": {},
   "outputs": [],
   "source": [
    "'''\n",
    "buildGraph function -  O(|V|+|E|)\n",
    "topological sort - O(|V|+|E|)\n",
    "strongly connect components algorithm - O(|V|+|E|)\n",
    "Prim's minimum spanning tree - O(ElogV)\n",
    "'''"
   ]
  }
 ],
 "metadata": {
  "kernelspec": {
   "display_name": "Python 3",
   "language": "python",
   "name": "python3"
  },
  "language_info": {
   "codemirror_mode": {
    "name": "ipython",
    "version": 3
   },
   "file_extension": ".py",
   "mimetype": "text/x-python",
   "name": "python",
   "nbconvert_exporter": "python",
   "pygments_lexer": "ipython3",
   "version": "3.7.1"
  }
 },
 "nbformat": 4,
 "nbformat_minor": 2
}
