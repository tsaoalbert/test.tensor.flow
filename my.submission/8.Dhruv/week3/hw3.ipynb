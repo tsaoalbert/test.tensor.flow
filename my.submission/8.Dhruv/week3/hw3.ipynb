{
 "cells": [
  {
   "cell_type": "markdown",
   "metadata": {},
   "source": [
    "<h1> Assignments #3:  <a href='http://interactivepython.org/runestone/static/pythonds/BasicDS/toctree.html'> \n",
    "Basic Data Structures </a> </h1>"
   ]
  },
  {
   "cell_type": "markdown",
   "metadata": {},
   "source": [
    "<h3> <a href='\n",
    "http://interactivepython.org/runestone/static/pythonds/BasicDS/ProgrammingExercises.html  \n",
    "'>   Programming Exercises  </a> </h3>"
   ]
  },
  {
   "cell_type": "raw",
   "metadata": {},
   "source": [
    "* 3.1 (10%) Modify the infix-to-postfix algorithm so that it can handle errors.\n",
    "* 3.2 (10%) Modify the postfix evaluation algorithm so that it can handle errors.\n",
    "* 3.3 (10%) Implement a direct infix evaluator that combines both infix-to-postfix conversion \n",
    "* 3.4 (10%) Turn your direct infix evaluator from the previous problem into a calculator that can handles arithmetic operators +,-,*,/, //, %, ** and parenthesis."
   ]
  },
  {
   "cell_type": "code",
   "execution_count": null,
   "metadata": {},
   "outputs": [],
   "source": [
    "20/40\n",
    "'''\n",
    "3.1,3.2 \n",
    "I will add try catch block into the code to handle errors as well as will check for the valid parenthesis and\n",
    "and check for the validation of pattern\n",
    "'''"
   ]
  },
  {
   "cell_type": "markdown",
   "metadata": {},
   "source": [
    "* 3.12 (10/10%) Extend the program from Listing 2.15 to handle palindromes with spaces. For example, I PREFER PI is a palindrome that reads the same forward and backward if you ignore the blank characters."
   ]
  },
  {
   "cell_type": "code",
   "execution_count": 8,
   "metadata": {},
   "outputs": [
    {
     "name": "stdout",
     "output_type": "stream",
     "text": [
      "True\n",
      "True\n",
      "False\n"
     ]
    }
   ],
   "source": [
    "\"\"\"\n",
    "Palindrome program with spaces ignored\n",
    "\"\"\"\n",
    "def ispalindrome(teststring):\n",
    "    teststring = teststring.lower().replace(\" \",\"\")\n",
    "    return teststring == teststring[::-1] \n",
    "    \n",
    "print(ispalindrome(\"I PREFER PI\"))\n",
    "print(ispalindrome(\"Racecar\"))\n",
    "print(ispalindrome(\"Not a palindrome\"))"
   ]
  },
  {
   "cell_type": "markdown",
   "metadata": {},
   "source": [
    "(30%) Modify the unorderedList class as follows: \n",
    "* allow duplicates\n",
    "* remove method can work correctly on non-existing items\n",
    "* Improve the time of length method to O(1)\n",
    "* Implement __str__ method so that unorderedList are displayed the Python way\n",
    "* Implement the remaining operations defined in the UnorderedList ADT (append, index, pop, insert)."
   ]
  },
  {
   "cell_type": "raw",
   "metadata": {},
   "source": [
    "(10/10%) Explain how a singly linked list with both head  tail pointer can be used to implement a queue that would have an average performance of O(1) for enqueue and dequeue operations.(No coding)"
   ]
  },
  {
   "cell_type": "code",
   "execution_count": null,
   "metadata": {},
   "outputs": [],
   "source": [
    "\"\"\"\n",
    "\n",
    "LL : 1 -> 2 -> 3\n",
    "     ^         ^\n",
    "     |         |\n",
    "   deque    enqueue\n",
    "\n",
    "\"\"\""
   ]
  },
  {
   "cell_type": "markdown",
   "metadata": {},
   "source": [
    "(10%) Use doubly linked lists to implement queue, stack, and deque that would have have an average performance of O(1)  for operations of adding or removing operations. Hints: implement deque first, then you can build stack and queue on top of deque"
   ]
  },
  {
   "cell_type": "code",
   "execution_count": null,
   "metadata": {},
   "outputs": [],
   "source": []
  }
 ],
 "metadata": {
  "kernelspec": {
   "display_name": "Python 3",
   "language": "python",
   "name": "python3"
  },
  "language_info": {
   "codemirror_mode": {
    "name": "ipython",
    "version": 3
   },
   "file_extension": ".py",
   "mimetype": "text/x-python",
   "name": "python",
   "nbconvert_exporter": "python",
   "pygments_lexer": "ipython3",
   "version": "3.7.1"
  }
 },
 "nbformat": 4,
 "nbformat_minor": 2
}
