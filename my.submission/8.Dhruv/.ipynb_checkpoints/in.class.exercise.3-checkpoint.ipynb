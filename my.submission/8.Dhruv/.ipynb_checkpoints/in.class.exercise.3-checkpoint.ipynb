{
 "cells": [
  {
   "cell_type": "markdown",
   "metadata": {},
   "source": [
    "<h1> In Class Exercise: #3 <a href='http://interactivepython.org/runestone/static/pythonds/BasicDS/toctree.html'> \n",
    "Basic Data Structures </a> </h1>"
   ]
  },
  {
   "cell_type": "markdown",
   "metadata": {},
   "source": [
    "<h1> <a href='\n",
    "http://interactivepython.org/runestone/static/pythonds/BasicDS/DiscussionQuestions.html   \n",
    "    '>  3.26. Discussion Questions  </a> </h1>"
   ]
  },
  {
   "cell_type": "code",
   "execution_count": 7,
   "metadata": {},
   "outputs": [
    {
     "name": "stdout",
     "output_type": "stream",
     "text": [
      "Binary for number  17 is: \n",
      "10001\n",
      "\n",
      "Binary for number  45 is: \n",
      "101101\n",
      "\n",
      "Binary for number  96 is: \n",
      "0000011\n",
      "\n"
     ]
    }
   ],
   "source": [
    "10/10\n",
    "#Convert the following values to binary using “divide by 2.” Show the stack of remainders.\n",
    "l = [17,45,96]\n",
    "for i in l:\n",
    "    number = i \n",
    "    print(\"Binary for number \",number,\"is: \")\n",
    "    while number > 0:\n",
    "        print(number%2,end='')\n",
    "        number //= 2\n",
    "    print(\"\\n\")\n",
    "    \n"
   ]
  },
  {
   "cell_type": "raw",
   "metadata": {},
   "source": [
    "'''\n",
    "10/10\n",
    "Convert the following infix expressions to prefix (use full parentheses):\n",
    "1. (A+B)*(C+D)*(E+F)\n",
    "\n",
    "+AB*+CD*+EF\n",
    "\n",
    "\n",
    "2. A+((B+C)*(D+E))\n",
    "\n",
    "+A+BC*+DE\n",
    "\n",
    "\n",
    "3.  A*B*C*D+E+F\n",
    "\n",
    "++***ABCDEF\n",
    "\n",
    "Convert the above infix expressions to postfix (use full parentheses).\n",
    "\n",
    "1. AB+CD+*EF+*\n",
    "2. ABC+++DE+*+\n",
    "3. AB*C*D*E+F+\n",
    "\n",
    "Convert the above infix expressions to postfix using the direct conversion algorithm. \n",
    "Show the stack as the conversion takes place.\n",
    "'''\n",
    "\n",
    "( ((A+B)*(C+D))*(E+F) ) \n",
    "       ==> prefix :  * * + A B + C D + E F\n",
    "       ==> postfix:  A B + C D + * E F + *\n",
    "( A+((B+C)*(D+E)) )\n",
    "       ==> prefix :  + A * + B C + D E\n",
    "       ==> postfix:  A B C + D E + * +\n",
    "(((((A*B)*C)*D)+E)+F) \n",
    "       ==> prefix :  + + * * * A B C D E F\n",
    "       ==> postfix:  A B * C * D * E + F +"
   ]
  },
  {
   "cell_type": "code",
   "execution_count": 27,
   "metadata": {},
   "outputs": [
    {
     "name": "stdout",
     "output_type": "stream",
     "text": [
      "['10']\n",
      "['15']\n",
      "['47']\n"
     ]
    }
   ],
   "source": [
    "5/10\n",
    "# Evaluate the following postfix expressions. Show the stack as each operand and operator is processed.\n",
    "l = ['2 3 * 4 +','1 2 + 3 + 4 + 5 +','1 2 3 4 5 * + * +']\n",
    "for i in l:\n",
    "    x = i.split(\" \")\n",
    "    l = []\n",
    "    for i in x:\n",
    "        if i.isdigit():\n",
    "            l.append(i)\n",
    "        else:\n",
    "            sign = i\n",
    "            if len(l) >=2:\n",
    "                a = l.pop()\n",
    "                b = l.pop()\n",
    "                answer = eval(a+sign+b)\n",
    "                l.append(str(answer))\n",
    "    print(l)"
   ]
  },
  {
   "cell_type": "markdown",
   "metadata": {},
   "source": [
    "0/10\n",
    "The alternative implementation of the Queue ADT is to use a list such that the rear of the queue is at the end of the list. What would this mean for Big-O performance?"
   ]
  },
  {
   "cell_type": "raw",
   "metadata": {},
   "source": [
    "# Append and pop from the end of the list will be fast."
   ]
  },
  {
   "cell_type": "markdown",
   "metadata": {},
   "source": [
    "What is the result of carrying out both steps of the linked list add method in reverse order? \n",
    "What kind of reference results? \n",
    "What types of problems may result?"
   ]
  },
  {
   "cell_type": "code",
   "execution_count": null,
   "metadata": {},
   "outputs": [],
   "source": [
    "# Didn't understand the question."
   ]
  },
  {
   "cell_type": "raw",
   "metadata": {},
   "source": [
    "10/10\n",
    "# Explain how the linked list remove method works when the item to be removed is in the last node."
   ]
  },
  {
   "cell_type": "code",
   "execution_count": null,
   "metadata": {},
   "outputs": [],
   "source": [
    "\"\"\"\n",
    "Let's say ll looks like below and want to remove 3. This is how the steps will happen\n",
    "\n",
    "1->2->3\n",
    "\n",
    "\"\"\"\n",
    "\n",
    "\"\"\"\n",
    "Let's say you want to remove node 3 then we will use two pointers, first pointer start and second pointer nexttostart,\n",
    "we will start with start pointer and then use nexttostart which points to next one ahead to the start pointer.\n",
    "Now,we traverse a linked list and keep going till nexttostart becomes null and first pointer start will point to the last node.\n",
    "then we simpley make 3 as none. \n",
    "\"\"\""
   ]
  },
  {
   "cell_type": "markdown",
   "metadata": {},
   "source": [
    "10/10\n",
    "Explain how the remove method works when the item is in the only node in the linked list."
   ]
  },
  {
   "cell_type": "code",
   "execution_count": null,
   "metadata": {},
   "outputs": [],
   "source": [
    "'''\n",
    "it's a case of single node into the list.\n",
    "What we simply make head to none.\n",
    "'''"
   ]
  }
 ],
 "metadata": {
  "kernelspec": {
   "display_name": "Python 3",
   "language": "python",
   "name": "python3"
  },
  "language_info": {
   "codemirror_mode": {
    "name": "ipython",
    "version": 3
   },
   "file_extension": ".py",
   "mimetype": "text/x-python",
   "name": "python",
   "nbconvert_exporter": "python",
   "pygments_lexer": "ipython3",
   "version": "3.7.1"
  }
 },
 "nbformat": 4,
 "nbformat_minor": 2
}
