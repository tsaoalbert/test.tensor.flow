{
 "cells": [
  {
   "cell_type": "markdown",
   "metadata": {},
   "source": [
    "<h1>\n",
    " <a href= \"http://interactivepython.org/runestone/static/pythonds/SortSearch/toctree.html\"> In Class Exercise # 5 </a>\n",
    "    </h1?"
   ]
  },
  {
   "cell_type": "markdown",
   "metadata": {},
   "source": [
    "You may watch the anmiation of animation\n",
    "<a href='http://cs.armstrong.edu/liang/animation/animation.html'>    here. </a>"
   ]
  },
  {
   "cell_type": "markdown",
   "metadata": {},
   "source": [
    "Q#1\n",
    "Using the hash table performance<a href= \"http://interactivepython.org/runestone/static/pythonds/SortSearch/Hashing.html#analysis-of-hashing\"> \n",
    "    formulas</a> given in the chapter, compute the average number of comparisons necessary when the table is\n",
    "* 10% full\n",
    "* 25% full\n",
    "* 50% full\n",
    "* 75% full\n",
    "* 90% full\n",
    "* 99% full\n",
    "\n",
    "At what point do you think the hash table is too small? Explain."
   ]
  },
  {
   "cell_type": "code",
   "execution_count": null,
   "metadata": {},
   "outputs": [],
   "source": []
  },
  {
   "cell_type": "raw",
   "metadata": {},
   "source": [
    "Q#2\n",
    "Modify the hash function for strings to use positional weightings."
   ]
  },
  {
   "cell_type": "code",
   "execution_count": 2,
   "metadata": {},
   "outputs": [
    {
     "name": "stdout",
     "output_type": "stream",
     "text": [
      "530\n"
     ]
    }
   ],
   "source": [
    "def hashfunction(x):\n",
    "    totalvalue = 0\n",
    "    for i in x:\n",
    "        totalvalue += ord(i)\n",
    "    return totalvalue\n",
    "print(hashfunction(\"apple\"))\n",
    "        "
   ]
  },
  {
   "cell_type": "raw",
   "metadata": {},
   "source": [
    "Q#3\n",
    "We used a hash function for strings that weighted the characters by position. \n",
    "What are the biases that exist with these functions?\n",
    "Devise an alternative weighting scheme that remove these biases."
   ]
  },
  {
   "cell_type": "code",
   "execution_count": 6,
   "metadata": {},
   "outputs": [
    {
     "name": "stdout",
     "output_type": "stream",
     "text": [
      "1966\n"
     ]
    }
   ],
   "source": [
    "def hfw(x):\n",
    "    totalvalue = 0 \n",
    "    for i in range(0,len(x)):\n",
    "        totalvalue += i*ord(x[i])\n",
    "    return totalvalue\n",
    "print(hfw(\"apple123\"))"
   ]
  },
  {
   "cell_type": "code",
   "execution_count": 24,
   "metadata": {},
   "outputs": [
    {
     "name": "stdout",
     "output_type": "stream",
     "text": [
      "[1, 2, 3, 4, 5]\n",
      "[1, 2, 3, 4, 5]\n",
      "[1, 2, 3, 4, 5]\n",
      "5 6 7 11 12 13 \n",
      "[1, 5, 7, 8, 9, 10]\n"
     ]
    }
   ],
   "source": [
    "'''\n",
    "\n",
    "Q#4:\n",
    "Consider the following list of integers: \n",
    "[7, 2,9, 3,4,10, 5,1, 6,8]. \n",
    "Show how this list is sorted by the following algorithms:\n",
    "\n",
    "insertion sort\n",
    "selection sort\n",
    "bubble sort\n",
    "merge sort\n",
    "quick sort (Use the first one as the pivot value)\n",
    "\n",
    "Hints: run the program in the lecture notes\n",
    "Q#5\n",
    "Consider the following list of integers: \n",
    "[10,9,8,7,6,5,4,3,2,1]. \n",
    "Show how this list is sorted by the following algorithms:\n",
    "\n",
    "bubble sort\n",
    "selection sort\n",
    "insertion sort\n",
    "merge sort\n",
    "quick sort (Use the first one as the pivot value)\n",
    "\n",
    "Show the array at each iteration. A sample run for the quick sort is given below, where the \n",
    "input array is shown at step 0, and * indicate the pivot item.\n",
    "\n",
    " 0: 54   26   93   17   77   31   44   55   20   \n",
    " 1: 31   26   20   17   44   54*  77   55   93   \n",
    " 2: 17   26   20   31*  44        55   77*  93   \n",
    " 3: 17*  26   20        44        55        93   \n",
    "\n",
    " 4: 17*  20   26*  31*  44   54*  55   77*  93\n",
    "\n",
    "Hints: run the program in the lecture notes\n",
    "\n",
    "\n",
    "\n",
    "Q#7\n",
    "Consider the following list of integers: [1,2,3,4,5,6,7,8,9,10]. \n",
    "Show how this list is sorted by the following algorithms:\n",
    "bubble sort\n",
    "selection sort\n",
    "insertion sort\n",
    "merge sort\n",
    "quick sort (Use the first one as the pivot value)\n",
    "\n",
    "Hints: run the program in the lecture notes\n",
    "\n",
    "\n",
    "\n",
    "Q#8\n",
    "Consider the list of characters: ['P','Y','T','H','O','N']. \n",
    "Show how this list is sorted using the following algorithms:\n",
    "bubble sort\n",
    "selection sort\n",
    "insertion sort\n",
    "merge sort\n",
    "quick sort (you decide on the pivot value)\n",
    "\n",
    "Hints: run the program in the lecture notes\n",
    "\n",
    "\n",
    "'''\n",
    "A = [5,4,3,2,1]\n",
    "\n",
    "def bubblesort(x):\n",
    "    for i in range(0,len(x)):\n",
    "        for j in range(0,len(x)):\n",
    "            if x[i] < x[j]:\n",
    "                x[i],x[j] = x[j],x[i]\n",
    "    return x\n",
    "print(bubblesort(A))\n",
    "A = [5,4,3,2,1]\n",
    "\n",
    "def selectionsort(x):\n",
    "    for fillslot in range(len(x)-1,0,-1):\n",
    "       positionOfMax=0\n",
    "       for location in range(1,fillslot+1):\n",
    "           if x[location]>x[positionOfMax]:\n",
    "               positionOfMax = location\n",
    "       temp = x[fillslot]\n",
    "       x[fillslot] = x[positionOfMax]\n",
    "       x[positionOfMax] = temp\n",
    "    return x\n",
    "print(selectionsort(A))\n",
    "\n",
    "A = [5,4,3,2,1]\n",
    "\n",
    "def insertionSort(alist):\n",
    "    for index in range(1,len(alist)):\n",
    "        currentvalue = alist[index]\n",
    "        position = index\n",
    "        while position>0 and alist[position-1]>currentvalue:\n",
    "            alist[position]=alist[position-1]\n",
    "            position = position-1\n",
    "            alist[position]=currentvalue\n",
    "    return alist\n",
    "print(insertionSort(A))\n",
    "\n",
    "A = [5,4,3,2,1]\n",
    "\n",
    "def mergeSort(arr): \n",
    "    if len(arr) >1: \n",
    "        mid = len(arr)//2  \n",
    "        L = arr[:mid]  \n",
    "        R = arr[mid:] \n",
    "  \n",
    "        mergeSort(L) \n",
    "        mergeSort(R)\n",
    "  \n",
    "        i = j = k = 0\n",
    "          \n",
    "        while i < len(L) and j < len(R): \n",
    "            if L[i] < R[j]: \n",
    "                arr[k] = L[i] \n",
    "                i+=1\n",
    "            else: \n",
    "                arr[k] = R[j] \n",
    "                j+=1\n",
    "            k+=1\n",
    "          \n",
    "        while i < len(L): \n",
    "            arr[k] = L[i] \n",
    "            i+=1\n",
    "            k+=1\n",
    "          \n",
    "        while j < len(R): \n",
    "            arr[k] = R[j] \n",
    "            j+=1\n",
    "            k+=1\n",
    "  \n",
    "def printList(arr): \n",
    "    for i in range(len(arr)):         \n",
    "        print(arr[i],end=\" \") \n",
    "    print() \n",
    "  \n",
    "arr = [12, 11, 13, 5, 6, 7]  \n",
    "mergeSort(arr)      \n",
    "printList(arr) \n",
    "\n",
    "def partition(arr,low,high): \n",
    "    i = ( low-1 )   \n",
    "    pivot = arr[high]     \n",
    "    for j in range(low , high): \n",
    "        if   arr[j] <= pivot: \n",
    "            i = i+1 \n",
    "            arr[i],arr[j] = arr[j],arr[i] \n",
    "  \n",
    "    arr[i+1],arr[high] = arr[high],arr[i+1] \n",
    "    return ( i+1 ) \n",
    "def quickSort(arr,low,high): \n",
    "    if low < high: \n",
    "        pi = partition(arr,low,high) \n",
    "        quickSort(arr, low, pi-1) \n",
    "        quickSort(arr, pi+1, high) \n",
    "    \n",
    "arr = [10, 7, 8, 9, 1, 5] \n",
    "n = len(arr) \n",
    "quickSort(arr,0,n-1)\n",
    "print(arr)\n",
    "\n",
    "\n"
   ]
  },
  {
   "cell_type": "raw",
   "metadata": {},
   "source": [
    "'''\n",
    "Q#9\n",
    "Devise alternative strategies for choosing the pivot value in quick sort. \n",
    "For example, pick the middle item. \n",
    "Re-implement the algorithm and then execute it on random data sets. \n",
    "Under what criteria does your new strategy perform better or worse than the strategy from this chapter?\n",
    "\n",
    "It can use any of the stretegy to choose pivot for example as follows,\n",
    "\n",
    "1. Choose any random pivot.\n",
    "2. Choose 3 random numbers and go with the middle one.\n",
    "\n",
    "'''"
   ]
  }
 ],
 "metadata": {
  "kernelspec": {
   "display_name": "Python 3",
   "language": "python",
   "name": "python3"
  },
  "language_info": {
   "codemirror_mode": {
    "name": "ipython",
    "version": 3
   },
   "file_extension": ".py",
   "mimetype": "text/x-python",
   "name": "python",
   "nbconvert_exporter": "python",
   "pygments_lexer": "ipython3",
   "version": "3.7.1"
  }
 },
 "nbformat": 4,
 "nbformat_minor": 2
}
