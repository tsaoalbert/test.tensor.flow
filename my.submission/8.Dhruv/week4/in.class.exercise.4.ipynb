{
 "cells": [
  {
   "cell_type": "markdown",
   "metadata": {},
   "source": [
    "<h1> <a href= \"http://interactivepython.org/runestone/static/pythonds/Recursion/toctree.html\"> In Class Exercise: #4 </a>  </h1>\n",
    "<ul>\n",
    "    \n",
    "<li> Recursion vs Iteration </li>\n",
    "<li> Three Laws of Recusion</li>\n",
    "<li>  Example: Tower of Hanoi, Maze, Dynamic Programming</li>\n",
    "</ul>\n"
   ]
  },
  {
   "cell_type": "markdown",
   "metadata": {},
   "source": [
    "<h1> <a href= \"http://interactivepython.org/runestone/static/pythonds/Recursion/DiscussionQuestions.html\">4.15. Discussion Questions\n",
    " </a> \n",
    "\n",
    "</h1>\n",
    "\n"
   ]
  },
  {
   "cell_type": "markdown",
   "metadata": {},
   "source": [
    "Write both  recursive and iterative function to compute the Fibonacci sequence. \n",
    "        How does the performance of the recursive function compare to that of an iterative version?\n",
    "           F(1)=F(2) = 1\n",
    "   F(n) = F(n-1)+F(n-2), for n >= 3"
   ]
  },
  {
   "cell_type": "code",
   "execution_count": 1,
   "metadata": {},
   "outputs": [
    {
     "name": "stdout",
     "output_type": "stream",
     "text": [
      "45\n",
      "34\n"
     ]
    }
   ],
   "source": [
    "def fib(x):\n",
    "    l = [0] \n",
    "    for i in range(1,x+1):\n",
    "        l.append(l[i-1]+i)\n",
    "    return l[x]\n",
    "print(fib(9))\n",
    "\n",
    "def rfib(x):\n",
    "    if x <2:\n",
    "        return x\n",
    "    return rfib(x-1)+rfib(x-2)\n",
    "print(rfib(9))"
   ]
  },
  {
   "cell_type": "markdown",
   "metadata": {},
   "source": [
    "Using the dynamic programming algorithm for making change, find the smallest number of coins that you can use to make 33 cents in change. In addition to the usual coins assume that you have an 8 cent coin."
   ]
  },
  {
   "cell_type": "code",
   "execution_count": 2,
   "metadata": {},
   "outputs": [
    {
     "name": "stdout",
     "output_type": "stream",
     "text": [
      "Making change for 33 requires\n",
      "2 coins\n"
     ]
    }
   ],
   "source": [
    "def dpMakeChange(coinValueList,change,minCoins,coinsUsed):\n",
    "   for cents in range(change+1):\n",
    "      coinCount = cents\n",
    "      newCoin = 1\n",
    "      for j in [c for c in coinValueList if c <= cents]:\n",
    "            if minCoins[cents-j] + 1 < coinCount:\n",
    "               coinCount = minCoins[cents-j]+1\n",
    "               newCoin = j\n",
    "      minCoins[cents] = coinCount\n",
    "      coinsUsed[cents] = newCoin\n",
    "   return minCoins[change]\n",
    "amnt = 33\n",
    "clist = [1,5,10,8,25]\n",
    "coinsUsed = [0]*(amnt+1)\n",
    "coinCount = [0]*(amnt+1)\n",
    "\n",
    "print(\"Making change for\",amnt,\"requires\")\n",
    "print(dpMakeChange(clist,amnt,coinCount,coinsUsed),\"coins\")"
   ]
  },
  {
   "cell_type": "code",
   "execution_count": null,
   "metadata": {},
   "outputs": [],
   "source": []
  }
 ],
 "metadata": {
  "kernelspec": {
   "display_name": "Python 3",
   "language": "python",
   "name": "python3"
  },
  "language_info": {
   "codemirror_mode": {
    "name": "ipython",
    "version": 3
   },
   "file_extension": ".py",
   "mimetype": "text/x-python",
   "name": "python",
   "nbconvert_exporter": "python",
   "pygments_lexer": "ipython3",
   "version": "3.7.1"
  }
 },
 "nbformat": 4,
 "nbformat_minor": 2
}
