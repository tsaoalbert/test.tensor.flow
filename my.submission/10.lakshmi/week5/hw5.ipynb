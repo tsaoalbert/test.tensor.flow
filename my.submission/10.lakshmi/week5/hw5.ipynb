{
 "cells": [
  {
   "cell_type": "code",
   "execution_count": null,
   "metadata": {},
   "outputs": [],
   "source": [
    "# <a href= \"http://interactivepython.org/runestone/static/pythonds/SortSearch/toctree.html\"> Chapter 5: Searching and Sorting </a>"
   ]
  },
  {
   "cell_type": "markdown",
   "metadata": {},
   "source": [
    "<h3> <a href= \"\n",
    "http://interactivepython.org/runestone/static/pythonds/SortSearch/ProgrammingExercises.html    \"> \n",
    "Programming Exercises¶\n",
    "</a>\n",
    "</h3>"
   ]
  },
  {
   "cell_type": "markdown",
   "metadata": {},
   "source": [
    "Implement the mergeSort function without using the slice operator."
   ]
  },
  {
   "cell_type": "code",
   "execution_count": 1,
   "metadata": {},
   "outputs": [
    {
     "name": "stdout",
     "output_type": "stream",
     "text": [
      "Given array is\n",
      "109 231 164 1745 965 837 \n",
      "array after sorting is: \n",
      "109 164 231 837 965 1745 \n"
     ]
    }
   ],
   "source": [
    "\n",
    "def merge_sort(arr): \n",
    "    if len(arr) >1: \n",
    "        mid = len(arr)//2 \n",
    "        left = []\n",
    "        for i in range(0,mid):\n",
    "            left.append(arr[i])\n",
    "        right= []\n",
    "        for i in range(mid, len(arr)):\n",
    "            right.append(arr[i])\n",
    "        merge_sort(left) \n",
    "        merge_sort(right)\n",
    "        i = 0\n",
    "        j = 0\n",
    "        k = 0\n",
    "        while i < len(left) and j < len(right): \n",
    "            if left[i] < right[j]: \n",
    "                arr[k] = left[i] \n",
    "                i+=1\n",
    "            else: \n",
    "                arr[k] = right[j] \n",
    "                j=j+1\n",
    "            k=k+1\n",
    "        # Checking if any element was left \n",
    "        while i < len(left): \n",
    "            arr[k] = left[i] \n",
    "            i=i+1\n",
    "            k=k+1\n",
    "        while j < len(right): \n",
    "            arr[k] = right[j] \n",
    "            j=j+1\n",
    "            k=k+1\n",
    "  \n",
    "def print_the_list(arr): \n",
    "    for i in range(len(arr)):         \n",
    "        print(arr[i],end=\" \") \n",
    "    print() \n",
    "  \n",
    "if __name__ == '__main__': \n",
    "    arr = [109, 231, 164, 1745, 965, 837]  \n",
    "    print (\"Given array is\", end=\"\\n\")  \n",
    "    print_the_list(arr) \n",
    "    merge_sort(arr) \n",
    "    print(\"array after sorting is: \", end=\"\\n\") \n",
    "    print_the_list(arr) \n",
    "  "
   ]
  },
  {
   "cell_type": "markdown",
   "metadata": {},
   "source": [
    "Using a random number generator, create a list of 500 integers. Perform a benchmark analysis two sorting algorithmsfrom this chapter. The first one has to be one of the insertion/selection/bubble sorting algorithms and the other is one of the quick/merge sorting algorithm.  What is the difference in execution speed?"
   ]
  },
  {
   "cell_type": "markdown",
   "metadata": {},
   "source": [
    "2.4 Given a list of numbers in random order, write an algorithm that works\n",
    "      in O(nlog(n)) to find the kth smallest number in the list."
   ]
  },
  {
   "cell_type": "code",
   "execution_count": 4,
   "metadata": {},
   "outputs": [
    {
     "name": "stdout",
     "output_type": "stream",
     "text": [
      "165 "
     ]
    }
   ],
   "source": [
    "def smallest_p(arr, p): \n",
    "    arr.sort()  \n",
    "    print (arr[p-1],end=\" \")  \n",
    "  \n",
    "# Test with sample input\n",
    "arr = [131, 235, 165, 97, 326, 1248, 1350] \n",
    "p = 3\n",
    "smallest_p(arr, p) "
   ]
  },
  {
   "cell_type": "markdown",
   "metadata": {},
   "source": [
    "2.5 Improve the algorithm from the previous problem to be linear? (Hints: the qsort algorithms.) \n"
   ]
  },
  {
   "cell_type": "code",
   "execution_count": 5,
   "metadata": {},
   "outputs": [
    {
     "name": "stdout",
     "output_type": "stream",
     "text": [
      "K'th smallest element is 18\n"
     ]
    }
   ],
   "source": [
    "import sys \n",
    "  \n",
    "def kth_smallest(arr, l, r, k): \n",
    "    if (k > 0 and k <= r - l + 1): \n",
    "        pos = partition(arr, l, r) \n",
    "        if (pos - l == k - 1): \n",
    "            return arr[pos] \n",
    "        if (pos - l > k - 1):\n",
    "            return kth_smallest(arr, l, pos - 1, k) \n",
    "  \n",
    "        return kth_smallest(arr, pos + 1, r, \n",
    "                            k - pos + l - 1)\n",
    "    return sys.maxsize \n",
    "  \n",
    "\n",
    "def partition(arr, l, r): \n",
    "    x = arr[r] \n",
    "    i = l \n",
    "    for j in range(l, r): \n",
    "        if (arr[j] <= x): \n",
    "            arr[i], arr[j] = arr[j], arr[i] \n",
    "            i += 1\n",
    "    arr[i], arr[r] = arr[r], arr[i] \n",
    "    return i \n",
    "  \n",
    "# Main\n",
    "if __name__ == \"__main__\": \n",
    "      \n",
    "    arr = [13, 18, 15, 93, 44, 174, 2246] \n",
    "    n = len(arr) \n",
    "    k = 3; \n",
    "    print(\"K'th smallest element is\",  \n",
    "           kth_smallest(arr, 0, n - 1, k))"
   ]
  },
  {
   "cell_type": "markdown",
   "metadata": {},
   "source": [
    "(Optional) Research perfect hash functions. Using a list of names (classmates, family members, etc.), generate the hash values using the perfect hash algorithm."
   ]
  }
 ],
 "metadata": {
  "kernelspec": {
   "display_name": "Python 3",
   "language": "python",
   "name": "python3"
  },
  "language_info": {
   "codemirror_mode": {
    "name": "ipython",
    "version": 3
   },
   "file_extension": ".py",
   "mimetype": "text/x-python",
   "name": "python",
   "nbconvert_exporter": "python",
   "pygments_lexer": "ipython3",
   "version": "3.7.1"
  }
 },
 "nbformat": 4,
 "nbformat_minor": 2
}
