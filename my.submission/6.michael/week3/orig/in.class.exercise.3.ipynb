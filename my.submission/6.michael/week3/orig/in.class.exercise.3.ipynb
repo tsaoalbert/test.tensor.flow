{
 "cells": [
  {
   "cell_type": "markdown",
   "metadata": {},
   "source": [
    "<h1> In Class Exercise 3 <a href='http://interactivepython.org/runestone/static/pythonds/BasicDS/toctree.html'> \n",
    "(Basic Data Structures) </a> </h1>"
   ]
  },
  {
   "cell_type": "code",
   "execution_count": null,
   "metadata": {},
   "outputs": [],
   "source": [
    "Grade 110/100"
   ]
  },
  {
   "cell_type": "markdown",
   "metadata": {},
   "source": [
    "<h1> <a href='\n",
    "http://interactivepython.org/runestone/static/pythonds/BasicDS/DiscussionQuestions.html   \n",
    "    '>  Discussion Questions  </a> </h1>"
   ]
  },
  {
   "cell_type": "raw",
   "metadata": {},
   "source": [
    "10/10\n",
    "Convert the following values to binary using “divide by 2.” Show the stack of remainders.\n",
    "17 \n",
    "45\n",
    "96"
   ]
  },
  {
   "cell_type": "code",
   "execution_count": null,
   "metadata": {},
   "outputs": [],
   "source": [
    "# 17 -> 10001\n",
    "# 45 -> 101101\n",
    "# 96 -> "
   ]
  },
  {
   "cell_type": "raw",
   "metadata": {},
   "source": [
    "10/10\n",
    "Convert the following infix expressions to both prefix and postfix (use full parentheses):\n",
    "(A+B)*(C+D)*(E+F)\n",
    "A+((B+C)*(D+E))\n",
    "A*B*C*D+E+F"
   ]
  },
  {
   "cell_type": "code",
   "execution_count": null,
   "metadata": {},
   "outputs": [],
   "source": [
    "#Postfix\n",
    "A B + C D + * E F + *\n",
    "A B C + D E + * +\n",
    "A B * C * D * E + F +\n",
    "\n",
    "#Prefix\n",
    "*+AB*+CD+EF\n",
    "+A*+BC+DE\n",
    "+**AB*CD+EF"
   ]
  },
  {
   "cell_type": "markdown",
   "metadata": {},
   "source": [
    "<div class=\"image123\">\n",
    "    <div style=\"float:left;margin-right:55px;\">\n",
    "    <figure>\n",
    "        <img src=\"images/postfix.png\" height=\"300\" width=\"200\"  />\n",
    "        <figcaption style=\"text-align:center;\">  </figcaption>\n",
    "    </figure>\n",
    "    </div>\n",
    "    <div style=\"float:left;margin-right:55px;\">\n",
    "    <figure>\n",
    "        <img class=\"middle-img\" src=\"images/prefix.png\" height=\"300\" width=\"200\" />\n",
    "        <figcaption style=\"text-align:center;\"> </figcaption>\n",
    "    </figure>\n",
    "    </div>\n",
    "    <div style=\"float:left;margin-right:55px;\">\n",
    "    <figure>\n",
    "        <img src=\"images/infix.png\" height=\"400\" width=\"400\" />\n",
    "        <figcaption style=\"text-align:center;\">  </figcaption>\n",
    "    </figure>\n",
    "    </div>\n",
    "</div>"
   ]
  },
  {
   "cell_type": "raw",
   "metadata": {},
   "source": [
    "Convert the following infix expressions to postfix using the direct conversion algorithm as shown below\n",
    "Fill in the rule that is used at each step in the following table.\n",
    "(A+B)*(C+D)*(E+F)\n",
    "Show the stack as the conversion takes place."
   ]
  },
  {
   "cell_type": "markdown",
   "metadata": {},
   "source": [
    "Direct Conversion Algorithm: \n",
    "Create an empty stack called opstack for keeping operators. \n",
    "Create an empty list for output.\n",
    "Convert the input infix string to a list by using the string method split.\n",
    "Scan the token list from left to right.\n",
    "\n",
    "* A. If the token is an operand, append it to the end of the output list.\n",
    "* B. If the token is a (, push it on the opstack.\n",
    "* C. If the token is a ), pop the opstack until the corresponding ( is removed. Append each operator to the end of the output list.\n",
    "* D. If the token is an arithmatic operator, *, /, +, or -, push it on the opstack. \n",
    "* E. However, first remove any operators already on the opstack that have higher or equal precedence and append them to the output list.\n",
    "* F. When the input expression has been completely processed, append any operators still on the stack  to the end of the output list."
   ]
  },
  {
   "cell_type": "markdown",
   "metadata": {},
   "source": [
    "<div class=\"image123\">\n",
    "    <div style=\"float:left;margin-right:55px;\">\n",
    "    <figure>\n",
    "        <img src=\"images/infix.postfix.1.png\" height=\"300\" width=\"900\"  />\n",
    "        <figcaption style=\"text-align:center;\">  </figcaption>\n",
    "    </figure>\n",
    "    </div>\n",
    "\n",
    "</div>"
   ]
  },
  {
   "cell_type": "raw",
   "metadata": {},
   "source": [
    "10/10\n",
    "Convert the following infix expressions to postfix using the direct conversion algorithm. \n",
    "A+((B+C)*(D+E))\n",
    "Fill in the rule that is used at each step in the following table.\n",
    "Show the stack as the conversion takes place."
   ]
  },
  {
   "cell_type": "code",
   "execution_count": null,
   "metadata": {},
   "outputs": [],
   "source": [
    "Step\t0\t1\t2\t3\t4\t5\t6\t7\t8\t9\t10\t11\t12\t13\t14\t15\n",
    "Rule\t\t\t\t\t\t\t\t\t\t\t\t\t\t\t\t\n",
    "Prefix\tA\t+\t(\t(\tB\t+\tC\t)\t*\t(\tD\t+\tE\t)\t)\t\n",
    "Stack\t\t\t\t\t\t\t\t\t\t\t\t\t\t\t\t\n",
    "\t\t\t\t\t\t\t\t\t\t\t\t\t+\t+\t\t\t\n",
    "\t\t\t\t\t\t\t+\t+\t\t\t(\t(\t(\t(\t\t\t\n",
    "\t\t\t\t\t(\t(\t(\t(\t\t*\t*\t*\t*\t*\t*\t\t\n",
    "\t\t\t\t(\t(\t(\t(\t(\t(\t(\t(\t(\t(\t(\t(\t\t\n",
    "\t\t\t+\t+\t+\t+\t+\t+\t+\t+\t+\t+\t+\t+\t+\t+\t\n",
    "Postfix\tA\t\t\t\tB\t\tC\t+\t\t\tD\t\tE\t+\t*\t+"
   ]
  },
  {
   "cell_type": "markdown",
   "metadata": {},
   "source": [
    "<div class=\"image123\">\n",
    "    <div style=\"float:left;margin-right:55px;\">\n",
    "    <figure>\n",
    "        <img src=\"images/infix.postfix.2.png\" height=\"300\" width=\"900\"  />\n",
    "        <figcaption style=\"text-align:center;\">  </figcaption>\n",
    "    </figure>\n",
    "    </div>\n",
    "\n",
    "</div>"
   ]
  },
  {
   "cell_type": "raw",
   "metadata": {},
   "source": [
    "C10/10\n",
    "\n",
    "onvert the following infix expressions to postfix using the direct conversion algorithm. \n",
    "Fill in the rule that is used at each step in the following table.\n",
    "A*B*C*D+E+F\n",
    "Show the stack as the conversion takes place."
   ]
  },
  {
   "cell_type": "markdown",
   "metadata": {},
   "source": [
    "<div class=\"image123\">\n",
    "    <div style=\"float:left;margin-right:55px;\">\n",
    "    <figure>\n",
    "        <img src=\"images/infix.postfix.3.png\" height=\"300\" width=\"900\"  />\n",
    "        <figcaption style=\"text-align:center;\">  </figcaption>\n",
    "    </figure>\n",
    "    </div>\n",
    "\n",
    "</div>"
   ]
  },
  {
   "cell_type": "raw",
   "metadata": {},
   "source": [
    "Step\t0\t1\t2\t3\t4\t5\t6\t7\t8\t9\t10\t11\t12\n",
    "Rule\t\t\t\t\t\t\t\t\t\t\t\t\t\n",
    "Prefix\tA\t*\tB\t*\tC\t*\tD\t+\tE\t+\tF\t\t\n",
    "Stack\t\t\t\t\t\t\t\t\t\t\t\t\t\n",
    "\t\t\t*\t*\t*\t*\t*\t*\t+\t+\t+\t+\t\t\n",
    "Postfix\tA\t\tB\t*\tC\t*\tD\t*\tE\t\tF\t+\t+"
   ]
  },
  {
   "cell_type": "code",
   "execution_count": null,
   "metadata": {},
   "outputs": [],
   "source": [
    "10/10\n",
    "Evaluate the following postfix expressions. \n",
    "\n",
    "2 3 * 4 +\n",
    "\n",
    "Step\t0\t1\t2\t3\t4\n",
    "Rule\t\t\t\t\t\n",
    "Postfix\t2\t3\t*\t4\t+\n",
    "Stack\t\t3\t\t\t\n",
    "    \t2\t2\t6\t\t\n",
    "    \t\t\t6\t6\t10\n",
    "\n",
    "1 2 + 3 + 4 + 5 +\n",
    "\n",
    "Step\t0\t1\t2\t3\t4\t5\t6\t7\t8\n",
    "Rule\t\t\t\t\t\t\t\t\t\n",
    "Postfix\t1\t2\t+\t3\t+\t4\t+\t5\t+\n",
    "Stack\t\t2\t\t\t\t\t\t\t\n",
    "        1\t1\t3\t3\t6\t6\t10\t10\t15\n",
    "\n",
    "\n",
    "1 2 3 4 5 * + * +\n",
    "\n",
    "Step\t0\t1\t2\t3\t4\t5\t6\t7\t8\t9\n",
    "Rule\t\t\t\t\t\t\t\t\t\t\n",
    "Postfix\t1\t2\t3\t4\t5\t*\t+\t*\t+\t\n",
    "Stack\t\t\t\t\t5\t\t\t\t\t\n",
    "     \t\t\t\t4\t4\t20\t\t\t\t\n",
    "    \t\t\t3\t3\t3\t3\t23\t\t\t\n",
    "    \t\t2\t2\t2\t2\t2\t2\t46\t\t\n",
    "    \t1\t1\t1\t1\t1\t1\t1\t1\t47\t\n",
    "    \n",
    "Show the stack as each operand and operator is processed."
   ]
  },
  {
   "cell_type": "code",
   "execution_count": null,
   "metadata": {},
   "outputs": [],
   "source": [
    "Step\t0\t1\t2\t3\t4\t5\t6\t7\t8\t9\n",
    "Rule\t\t\t\t\t\t\t\t\t\t\n",
    "Postfix\t1\t2\t3\t4\t5\t*\t+\t*\t+\t\n",
    "Stack\t\t\t\t\t5\t\t\t\t\t\n",
    "\t\t\t\t\t4\t4\t20\t\t\t\t\n",
    "\t\t\t\t3\t3\t3\t3\t23\t\t\t\n",
    "\t\t\t2\t2\t2\t2\t2\t2\t46\t\t\n",
    "\t\t1\t1\t1\t1\t1\t1\t1\t1\t47\t"
   ]
  },
  {
   "cell_type": "markdown",
   "metadata": {},
   "source": [
    "10/10\n",
    "The alternative implementation of the Queue ADT is to use a list such that the rear of the queue is at the end of the list. \n",
    "What would this mean for Big-O performance? \n",
    "Hints: In this case, enqueue() and dequeue() becomes the append and pop(0) methods of the Python List."
   ]
  },
  {
   "cell_type": "code",
   "execution_count": null,
   "metadata": {},
   "outputs": [],
   "source": [
    "# Answer\n",
    "Enqueue -> O(1)\n",
    "Dequeue -> O(N)"
   ]
  },
  {
   "cell_type": "markdown",
   "metadata": {},
   "source": [
    "10/10\n",
    "What is the result of carrying out both steps of the singly linked list add method in reverse order? \n",
    "What kind of reference results? \n",
    "What types of problems may result?\n",
    "(Hints: see the graphs below.)"
   ]
  },
  {
   "cell_type": "code",
   "execution_count": null,
   "metadata": {},
   "outputs": [],
   "source": [
    "#Answer\n",
    "The linked list will have a temp node. Other nodes in the original linked list will have \n",
    "no external reference while memories allocated to them will be relinquished."
   ]
  },
  {
   "cell_type": "markdown",
   "metadata": {},
   "source": [
    "<div class=\"image123\">\n",
    "    <div style=\"float:left;margin-right:55px;\">\n",
    "    <figure>\n",
    "        <img src=\"images/list.add.node.at.front.png\" height=\"400\" width=\"400\"  />\n",
    "        <figcaption style=\"text-align:left;\">   Add a node (26) <br/>\n",
    "                    Step 1: temp.setNext(self.head)  <br/>\n",
    "        Step 2: self.head = temp\n",
    "        </figcaption>\n",
    "    </figure>\n",
    "    </div>\n",
    "    <div style=\"float:left;margin-right:55px;\">\n",
    "    <figure>\n",
    "        <img src=\"images/list.add.node.at.front.wrong.png\" height=\"400\" width=\"400\"  />\n",
    "        <figcaption style=\"text-align:left;\">   Erroneous node addition<br/>\n",
    "        Step 2: self.head = temp<br/>\n",
    "                            Step 1: temp.setNext(self.head)\n",
    "        </figcaption>\n",
    "    </figure>\n",
    "    </div> \n",
    "</div>"
   ]
  },
  {
   "cell_type": "markdown",
   "metadata": {},
   "source": [
    "10/10\n",
    "What is the time complexity of the singly linked list remove method when the item to be removed is in the last node (that is, the pop() method). Explain the reason.\n"
   ]
  },
  {
   "cell_type": "markdown",
   "metadata": {},
   "source": [
    "With the tail pointer, the time comlexity for the append method can be improved to O(1). \n",
    "Explain the reason.\n",
    "\n",
    "Would the  tail pointer also improve the performance of the pop method to O(1) like the append method?"
   ]
  },
  {
   "cell_type": "code",
   "execution_count": null,
   "metadata": {},
   "outputs": [],
   "source": [
    "# Answer: \n",
    "In removing the last node, the time complexity of singly linked list is O(N) since one has to \n",
    "find the last node by visiting previous nodes. \n",
    "\n",
    "YES -> tail pointer can make time complexity of append method equal O(1). \n",
    "\n",
    "NO -> a tail pointer cannot improve a pop method."
   ]
  },
  {
   "cell_type": "markdown",
   "metadata": {},
   "source": [
    "<div class=\"image123\">\n",
    "    <div style=\"float:left;margin-right:55px;\">\n",
    "    <figure>\n",
    "        <img src=\"images/list.remove.tail.png\" height=\"300\" width=\"900\"  />\n",
    "        <figcaption style=\"text-align:center;\">  </figcaption>\n",
    "    </figure>\n",
    "    </div>\n",
    "\n",
    "</div>"
   ]
  },
  {
   "cell_type": "markdown",
   "metadata": {},
   "source": [
    "10/10\n",
    "With an additional tail pointer in the singly linked list, how can we improve the implementation of the Queue ADT such that both enqueue() and dequeue() take only O(1)? "
   ]
  },
  {
   "cell_type": "raw",
   "metadata": {},
   "source": [
    "Given, enqueue means add note from the tail and dequeue means remove head notes, time complexity would be O(1). Or Use the doubly linked list, that is, add the node with a previous node as a attribute."
   ]
  },
  {
   "cell_type": "markdown",
   "metadata": {},
   "source": [
    "(Repeat the above question for the doubly linked lists.)\n",
    "What is the time complexity of the doubly linked list remove method  when the item to be removed is in the last node. Explain the reason.\n",
    "Would the time complexity change if the item to be removed is not the last node?\n",
    "List the codes for the remove method of the doubly circular linked list."
   ]
  },
  {
   "cell_type": "markdown",
   "metadata": {},
   "source": [
    "<div class=\"image123\">\n",
    "    <div style=\"float:left;margin-right:55px;\">\n",
    "    <figure>\n",
    "        <img src=\"images/doubly.linked.remove.tail.png\" height=\"600\" width=\"600\"  />\n",
    "        <figcaption style=\"text-align:center;\">    Remove the last node  </figcaption>\n",
    "    </figure>\n",
    "    </div>\n",
    "</div>"
   ]
  },
  {
   "cell_type": "markdown",
   "metadata": {},
   "source": [
    "10/10\n",
    "Explain how the remove method works when the item is in the only node in both singly and doubly circular linked list. Write the codes to implement the methods for both  lists. (Hints: the implementations of both methods in this case should be the same.)"
   ]
  },
  {
   "cell_type": "code",
   "execution_count": 1,
   "metadata": {},
   "outputs": [
    {
     "ename": "SyntaxError",
     "evalue": "invalid syntax (<ipython-input-1-ad1cb66e696f>, line 1)",
     "output_type": "error",
     "traceback": [
      "\u001b[0;36m  File \u001b[0;32m\"<ipython-input-1-ad1cb66e696f>\"\u001b[0;36m, line \u001b[0;32m1\u001b[0m\n\u001b[0;31m    When the last node in a doubly lined list is removed, the time complexity is O(1)\u001b[0m\n\u001b[0m           ^\u001b[0m\n\u001b[0;31mSyntaxError\u001b[0m\u001b[0;31m:\u001b[0m invalid syntax\n"
     ]
    }
   ],
   "source": [
    "When the last node in a doubly lined list is removed, the time complexity is O(1) \n",
    "as new tail can be found and set alongside the old one. "
   ]
  },
  {
   "cell_type": "markdown",
   "metadata": {},
   "source": [
    "<div class=\"image123\">\n",
    "    <div style=\"float:left;margin-right:55px;\">\n",
    "    <figure>\n",
    "        <img src=\"images/doubly.linked.insertion.empty.png\" height=\"300\" width=\"300\"  />\n",
    "        <figcaption style=\"text-align:center;\">  </figcaption>\n",
    "    </figure>\n",
    "    </div>\n",
    "\n",
    "</div>"
   ]
  },
  {
   "cell_type": "code",
   "execution_count": null,
   "metadata": {},
   "outputs": [],
   "source": [
    "10/10\n",
    "Because the nodes of both singly and doubly circular linked list have the next, \n",
    "if the next is the current node itself, which means the circular list has only one node. \n",
    "the remove method will set the head of the list as null."
   ]
  },
  {
   "cell_type": "code",
   "execution_count": 1,
   "metadata": {},
   "outputs": [],
   "source": [
    "class Node:\n",
    "    def __init__(self,initdata):\n",
    "        self.data = initdata\n",
    "        self.next = self.previous = None\n",
    "\n",
    "    def getData(self):\n",
    "        return self.data\n",
    "\n",
    "    def __str__(self):\n",
    "        return str(self.data)\n",
    "\n",
    "    def getNext(self):\n",
    "        return self.next\n",
    "    \n",
    "    def getPrevious(self):\n",
    "        return self.previous\n",
    "    \n",
    "    def setData(self,newdata):\n",
    "        self.data = newdata\n",
    "\n",
    "    def setNext(self,newnext):\n",
    "        self.next = newnext\n",
    "        \n",
    "    def setPrevious (self, p):\n",
    "        self.previous = p\n",
    "\n",
    "class SoloNodeCircularLinkedList:\n",
    "    def __init__(self):\n",
    "        soloNode = Node(10)        \n",
    "        soloNode.setNext(soloNode)\n",
    "        self.first = soloNode\n",
    "    \n",
    "    def remove(self, node):            \n",
    "        if self.first.next == self.first:\n",
    "            if self.first.data == node.data:\n",
    "                self.first = None\n",
    "        else:\n",
    "            pass"
   ]
  },
  {
   "cell_type": "code",
   "execution_count": null,
   "metadata": {},
   "outputs": [],
   "source": [
    "a = Node(10)\n",
    "b = SoloNodeCircularLinkedList()\n",
    "b.remove(a)"
   ]
  }
 ],
 "metadata": {
  "kernelspec": {
   "display_name": "Python 3",
   "language": "python",
   "name": "python3"
  },
  "language_info": {
   "codemirror_mode": {
    "name": "ipython",
    "version": 3
   },
   "file_extension": ".py",
   "mimetype": "text/x-python",
   "name": "python",
   "nbconvert_exporter": "python",
   "pygments_lexer": "ipython3",
   "version": "3.7.1"
  }
 },
 "nbformat": 4,
 "nbformat_minor": 2
}
