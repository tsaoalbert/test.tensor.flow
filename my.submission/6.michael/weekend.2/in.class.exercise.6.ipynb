{
 "cells": [
  {
   "cell_type": "markdown",
   "metadata": {},
   "source": [
    "<h1>\n",
    "<a href='http://interactivepython.org/runestone/static/pythonds/Trees/toctree.html'> \n",
    "    In Class Exercise #6: Trees and Tree Algorithms  </a>\n",
    "    </h1>"
   ]
  },
  {
   "cell_type": "markdown",
   "metadata": {},
   "source": [
    "<h1> <a href='http://interactivepython.org/runestone/static/pythonds/Trees/DiscussionQuestions.html'>\n",
    "6.21. Discussion Questions  </a></h1>"
   ]
  },
  {
   "cell_type": "markdown",
   "metadata": {},
   "source": [
    "Q#1:\n",
    "Trace the algorithm for creating an expression tree for the expression (4∗8)/6−3."
   ]
  },
  {
   "cell_type": "code",
   "execution_count": null,
   "metadata": {},
   "outputs": [],
   "source": [
    "15/25\n",
    "(((4*8)/6)-3)\n",
    "Preoder: - / * 4 8 6 3 \n",
    "Postorder: 4 8 * 6 / 3 -\n",
    "Inorder: 4 * 8 / 6 - 3 \n",
    "Expression: ((((4)*(8))/(6))-(3))"
   ]
  },
  {
   "cell_type": "markdown",
   "metadata": {},
   "source": [
    "Q#2:\n",
    "Consider the following list of integers: [10,9,8,7,6,5,4,3,2,1]. Show the binary heap resulting from inserting the integers one at a time.\n",
    "Hints: run the program from the lecture notes"
   ]
  },
  {
   "cell_type": "code",
   "execution_count": null,
   "metadata": {},
   "outputs": [],
   "source": [
    "                 +----------1-------+\n",
    "       +-----2-----+         +-----4-----+       \n",
    "  +----3-----+    +6         5           8\n",
    " 10          7    9   "
   ]
  },
  {
   "cell_type": "code",
   "execution_count": null,
   "metadata": {},
   "outputs": [],
   "source": [
    "                +--------------1---------+            \n",
    "       +---------2---------+         +----4----+       \n",
    "  +----3----+         +----6         5         8       \n",
    " 10         7         9  "
   ]
  },
  {
   "cell_type": "markdown",
   "metadata": {},
   "source": [
    "15/25\n",
    "Q#3:\n",
    "Draw the binary search tree that results from inserting the following keys in the order given:  \n",
    "b = [51, 52, 64, 41, 21, 40, 76, 67, 48, 91, 26, 24, 97, 8, 24]"
   ]
  },
  {
   "cell_type": "code",
   "execution_count": null,
   "metadata": {},
   "outputs": [],
   "source": [
    "                                                      +.....---....51........+                                                                 \n",
    "              +.....-----------------------....41........+                   52....+                                                       \n",
    "    +.........21....-------------....+                   48                        64....-------....+                                   \n",
    "    8                           +...40                                                          +...76........+                         \n",
    "                        +......26                                                               67            91 ..........+   \n",
    "                        24                                                                                                 97"
   ]
  },
  {
   "cell_type": "code",
   "execution_count": null,
   "metadata": {},
   "outputs": [],
   "source": [
    "                                +-------------52---------+                 \n",
    "            +------------------41---------+         +---67---------+       \n",
    "       +---24---------+              +---51        64         +---91----+  \n",
    "  +---21         +---26----+        48                       76        97  \n",
    "  8             24        40  "
   ]
  },
  {
   "cell_type": "markdown",
   "metadata": {},
   "source": [
    "Q4:\n",
    "Given the following tree, perform the appropriate rotations to bring it back into balance.\n",
    "<div class=\"parse.tree\">\n",
    "    <div style=\"float:left;margin-top:55px;\">\n",
    "    <figure>\n",
    "        <img src=\"images/exer.5.13.png\"  width=\"200\" />\n",
    "        <figcaption style=\"text-align:center;\">  </figcaption>\n",
    "    </figure>\n",
    "    </div>\n",
    "</div>"
   ]
  },
  {
   "cell_type": "code",
   "execution_count": null,
   "metadata": {},
   "outputs": [],
   "source": [
    "       +.............D...............+   \n",
    "  +....B.....+              +........E.........+\n",
    "  A          C                                 F"
   ]
  },
  {
   "cell_type": "code",
   "execution_count": null,
   "metadata": {},
   "outputs": [],
   "source": [
    "       +.............D...............+\n",
    "  +....B.....+                       E.........+\n",
    "  A          C                                 F"
   ]
  }
 ],
 "metadata": {
  "kernelspec": {
   "display_name": "Python 3",
   "language": "python",
   "name": "python3"
  },
  "language_info": {
   "codemirror_mode": {
    "name": "ipython",
    "version": 3
   },
   "file_extension": ".py",
   "mimetype": "text/x-python",
   "name": "python",
   "nbconvert_exporter": "python",
   "pygments_lexer": "ipython3",
   "version": "3.7.1"
  }
 },
 "nbformat": 4,
 "nbformat_minor": 2
}
