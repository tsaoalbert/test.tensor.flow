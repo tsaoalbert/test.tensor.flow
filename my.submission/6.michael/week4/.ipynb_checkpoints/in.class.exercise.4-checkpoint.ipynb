{
 "cells": [
  {
   "cell_type": "markdown",
   "metadata": {},
   "source": [
    "<h1> <a href= \"http://interactivepython.org/runestone/static/pythonds/Recursion/toctree.html\"> In Class Exercise: #4 </a>  </h1>\n",
    "<ul>\n",
    "    \n",
    "<li> Recursion vs Iteration </li>\n",
    "<li> Three Laws of Recusion</li>\n",
    "<li>  Example: Tower of Hanoi, Maze, Dynamic Programming</li>\n",
    "</ul>\n"
   ]
  },
  {
   "cell_type": "markdown",
   "metadata": {},
   "source": [
    "<h1> <a href= \"http://interactivepython.org/runestone/static/pythonds/Recursion/DiscussionQuestions.html\">4.15. Discussion Questions\n",
    " </a> \n",
    "\n",
    "</h1>\n",
    "\n"
   ]
  },
  {
   "cell_type": "markdown",
   "metadata": {},
   "source": [
    "Write both  recursive and iterative function to compute the Fibonacci sequence. \n",
    "        How does the performance of the recursive function compare to that of an iterative version?\n",
    "           F(1)=F(2) = 1\n",
    "   F(n) = F(n-1)+F(n-2), for n >= 3"
   ]
  },
  {
   "cell_type": "code",
   "execution_count": null,
   "metadata": {},
   "outputs": [],
   "source": [
    "import timeit\n",
    "def fib_recursive (n):\n",
    "    if n < 2:\n",
    "        return n\n",
    "    elif n == 2:\n",
    "        return n-1\n",
    "    else:\n",
    "        return fib_recursive(n-1) + fib_recursive(n-2)\n",
    "\n",
    "start = timeit.default_timer()\n",
    "print(\"Recursive:\", fib_recursive(10))\n",
    "print(timeit.default_timer() - start)\n",
    "\n",
    "# def fib_iterative (n):\n",
    "\n",
    "def fib_i(n):                                                                                                 \n",
    "    fib = [0, 1, 1]                                                                                           \n",
    "    for f in range(2, n):                                                                                      \n",
    "        fib.append(fib[-1] + fib[-2])                                                                         \n",
    "    return fib[n]\n",
    "\n",
    "start = timeit.default_timer()    \n",
    "print(\"Iterative:\", fib_i(10))\n",
    "print(timeit.default_timer() - start)\n",
    "\n"
   ]
  },
  {
   "cell_type": "code",
   "execution_count": null,
   "metadata": {},
   "outputs": [],
   "source": [
    "# iterative functions takes half the time as recursive function. \n",
    "While iterative takes less than 30 steps, the recursive \n",
    "function takes about 500 steps to complete the sequence of codes"
   ]
  },
  {
   "cell_type": "markdown",
   "metadata": {},
   "source": []
  },
  {
   "cell_type": "markdown",
   "metadata": {},
   "source": [
    "Using the dynamic programming algorithm for making change, find the smallest number of coins that you can use to make 33 cents in change. In addition to the usual coins assume that you have an 8 cent coin."
   ]
  },
  {
   "cell_type": "code",
   "execution_count": 1,
   "metadata": {},
   "outputs": [
    {
     "name": "stdout",
     "output_type": "stream",
     "text": [
      "2\n"
     ]
    }
   ],
   "source": [
    "def recMC(coinValueList,change):\n",
    "   minCoins = change\n",
    "   if change in coinValueList:\n",
    "     return 1\n",
    "   else:\n",
    "      for i in [c for c in coinValueList if c <= change]:\n",
    "         numCoins = 1 + recMC(coinValueList,change-i)\n",
    "         if numCoins < minCoins:\n",
    "            minCoins = numCoins\n",
    "   return minCoins\n",
    "\n",
    "print(recMC([1,5,8,10,25],33))"
   ]
  },
  {
   "cell_type": "code",
   "execution_count": null,
   "metadata": {},
   "outputs": [],
   "source": []
  }
 ],
 "metadata": {
  "kernelspec": {
   "display_name": "Python 3",
   "language": "python",
   "name": "python3"
  },
  "language_info": {
   "codemirror_mode": {
    "name": "ipython",
    "version": 3
   },
   "file_extension": ".py",
   "mimetype": "text/x-python",
   "name": "python",
   "nbconvert_exporter": "python",
   "pygments_lexer": "ipython3",
   "version": "3.7.1"
  }
 },
 "nbformat": 4,
 "nbformat_minor": 2
}
