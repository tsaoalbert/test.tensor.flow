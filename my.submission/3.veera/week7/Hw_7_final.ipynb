{
 "cells": [
  {
   "cell_type": "markdown",
   "metadata": {},
   "source": [
    "<h1> HW #7:  Tree and Tree Algorithms </h1>"
   ]
  },
  {
   "cell_type": "markdown",
   "metadata": {},
   "source": [
    "<h3> The questions are taken from\n",
    "<a href='\n",
    "http://interactivepython.org/runestone/static/pythonds/Graphs/ProgrammingExercises.html\n",
    "         '> 7.26. Programming Exercises  </a></h3>\n"
   ]
  },
  {
   "cell_type": "raw",
   "metadata": {},
   "source": [
    "10/20\n",
    "Q#1 Modify the depth first search function to produce a topological sort. Write down the algorithms with pseudo codes. No coding is required"
   ]
  },
  {
   "cell_type": "code",
   "execution_count": null,
   "metadata": {},
   "outputs": [],
   "source": [
    "#The DFS algorithm works as follows:\n",
    "\n",
    "1)Start by putting any one of the graph's vertices on top of a stack.\n",
    "2)Take the top item of the stack and add it to the visited list.\n",
    "3)Create a list of that vertex's adjacent nodes. Add the ones which aren't in the visited list to the top of stack.\n",
    "4)Keep repeating steps 2 and 3 until the stack is empty.\n",
    "\n",
    "Pseudo Code "
   ]
  },
  {
   "cell_type": "code",
   "execution_count": 2,
   "metadata": {},
   "outputs": [],
   "source": [
    "\n",
    "def recursive_dfs(graph, node):\n",
    "    outcome = []\n",
    "    found = set()\n",
    "\n",
    "    def recursive_helper(node):\n",
    "        for neighbor in graph[node]:\n",
    "            if neighbor not in found:\n",
    "                outcome.append(neighbor)     # this line will be replaced below\n",
    "                found.add(neighbor)\n",
    "                recursive_helper(neighbor)\n",
    "\n",
    "    recursive_helper(node)\n",
    "    return outcome\n",
    "\n",
    "def recursive_topological_sort(graph, node):\n",
    "    outcome = []\n",
    "    found = set()\n",
    "\n",
    "    def recursive_helper(node):\n",
    "        for neighbor in graph[node]:\n",
    "            if neighbor not in found:\n",
    "                found.add(neighbor)\n",
    "                recursive_helper(neighbor)\n",
    "        outcome.insert(0, node)              # this line replaces the outcome.append line\n",
    "\n",
    "    recursive_helper(node)\n",
    "    return outcome\n",
    "\n"
   ]
  },
  {
   "cell_type": "raw",
   "metadata": {},
   "source": [
    "Q#2 Modify the depth first search to produce strongly connected components. Write down the algorithms with pseudo codes. No coding is required"
   ]
  },
  {
   "cell_type": "code",
   "execution_count": null,
   "metadata": {},
   "outputs": [],
   "source": [
    "Algorithm\n",
    "\n",
    "1) Create an empty stack ‘S’ and do DFS traversal of a graph. In DFS traversal, after calling recursive DFS for adjacent \n",
    "vertices of a vertex, push the vertex to stack. In the above graph, if we start DFS from vertex 0, we get vertices in stack\n",
    "as 1, 2, 4, 3, 0.\n",
    "2) Reverse directions of all arcs to obtain the transpose graph.\n",
    "3) One by one pop a vertex from S while S is not empty. Let the popped vertex be ‘v’. Take v as source and do DFS \n",
    "(call DFSUtil(v)). The DFS starting from v prints strongly connected component of v. In the above example, we process \n",
    "vertices in order 0, 3, 4, 2, 1 (One by one popped from stack)."
   ]
  },
  {
   "cell_type": "raw",
   "metadata": {},
   "source": [
    "Q#3: (Optional) Write a Python program to implement the transpose method for the Graph class."
   ]
  },
  {
   "cell_type": "code",
   "execution_count": null,
   "metadata": {},
   "outputs": [],
   "source": [
    "\n",
    "def add_edge(node, src, dest):\n",
    "    node[src].append(dest)\n",
    "\n",
    "def disp_graph(node, v):\n",
    "    for i in range(v):\n",
    "        print(i, “–> “, end = “”)\n",
    "        for j in range(len(node[i])):\n",
    "            print(node[i][j], end = ” “)\n",
    "        print()\n",
    "\n",
    "# function to get Transpose of a graph\n",
    "# taking nodeacency list of given graph\n",
    "# and that of Transpose graph\n",
    "def transposeGraph(node, transpose, v):\n",
    "    for i in range(v):\n",
    "        for j in range(len(node[i])):\n",
    "            add_edge(transpose, node[i][j], i)"
   ]
  },
  {
   "cell_type": "raw",
   "metadata": {},
   "source": [
    "Q#4: Using BFS revise the maze program from the recursion chapter to find the shortest path out of a maze."
   ]
  },
  {
   "cell_type": "code",
   "execution_count": null,
   "metadata": {},
   "outputs": [],
   "source": [
    "def short_path():\n",
    "    testCases = int(raw_input())\n",
    "\n",
    "    for a in range(testCases):\n",
    "        nodes,num_of_edges = raw_input().strip().split(' ')\n",
    "        Num_of_nodes,num_of_edges = [int(nodes), int(num_of_edges)]\n",
    "\n",
    "        edgeList = []\n",
    "\n",
    "        # input data\n",
    "        for b in range(num_of_edges):\n",
    "            a,b = raw_input().strip().split(' ')\n",
    "            a,b = [int(a), int(b)]\n",
    "            edgeList += [[a,b]]\n",
    "        root = int(raw_input())\n",
    "\n",
    "        marked = [] # what I've checked\n",
    "        fringe = [root] # things to check\n",
    "        distances = {} # what to return\n",
    "        levels = {root: 0} # the level of each element\n",
    "        counter = 1\n",
    "\n",
    "        # do the BFS\n",
    "        while fringe != []:\n",
    "            node = fringe[0]\n",
    "            fringe.remove(node)\n",
    "            marked += [node]\n",
    "            if counter > levels[node] + 1:\n",
    "                counter = levels[node] + 1\n",
    "            nbrsList = Nbrs(node, edgeList)\n",
    "            for v in nbrsList:\n",
    "                levels[v] = counter\n",
    "                if v not in fringe and v not in marked:\n",
    "                    levels[v] = counter\n",
    "                    distances[v] = 6*counter\n",
    "                    fringe += [v]\n",
    "            counter += 1\n",
    "\n",
    "        listOfNodes = nodeList(edgeList, Num_of_nodes)\n",
    "\n",
    "        for node in listOfNodes:\n",
    "            if node != root:\n",
    "                if node in distances:\n",
    "                    print distances[node],\n",
    "                else:\n",
    "                    print -1,  \n",
    "        print \"\"\n",
    "    print \"\"\n",
    "\n",
    "def nodeList(num_of_edges, Num_of_nodes):\n",
    "    nodes = []\n",
    "    for edge in num_of_edges:\n",
    "        for element in edge:\n",
    "            if element not in nodes:\n",
    "                nodes += [element]\n",
    "    nodes.sort()\n",
    "\n",
    "    for x in range(1,Num_of_nodes+1):\n",
    "        if x not in nodes:\n",
    "            nodes += [x]\n",
    "    nodes.sort()\n",
    "    return nodes\n",
    "\n",
    "\n",
    "def Nbrs(node, num_of_edges):\n",
    "    tempList = []\n",
    "    for edge in num_of_edges:\n",
    "        if node in edge:\n",
    "            for element in edge:\n",
    "                if element != node:\n",
    "                    tempList += [element]\n",
    "    return tempList"
   ]
  },
  {
   "cell_type": "raw",
   "metadata": {},
   "source": [
    "Q#5:\n",
    "Dijkstra’s Algorithm: Fill in the table, where\n",
    "dv = Shortest path length from source node s to v\n",
    "pv = Node in T to which Node v is connected\n"
   ]
  },
  {
   "cell_type": "code",
   "execution_count": null,
   "metadata": {},
   "outputs": [],
   "source": []
  },
  {
   "cell_type": "markdown",
   "metadata": {},
   "source": [
    "<div class=\"binarySearch\">\n",
    "    <div style=\"float:left;margin-top:75px;\">\n",
    "    <figure>\n",
    "        <img src=\"images/dijkstra.hw7.5.png\" height=\"400\" width=\"500\"  />\n",
    "        <figcaption style=\"text-align:center;\">   </figcaption>\n",
    "    </figure>\n",
    "    </div>\n",
    "    <div style=\"float:left;margin-right:55px;\">\n",
    "    <figure>\n",
    "        <img src=\"images/dijkstra.hw7.5_2.png\" width=\"300\"   />\n",
    "        <figcaption style=\"text-align:center;\">   </figcaption>\n",
    "    </figure>\n",
    "    </div>\n",
    "</div>"
   ]
  },
  {
   "cell_type": "markdown",
   "metadata": {},
   "source": [
    "Q#6\n",
    "What is the Big-O running time of \n",
    "* the buildGraph function? -- O(V^2)\n",
    "* the topological sort algorithm. ---  O(|V|+|E|)(O(|number of nodes|+|number of edges|))\n",
    "* the strongly connected components algorithm -- O(|V|+|E|)(O(|number of nodes|+|number of edges|))\n",
    "* Prim’s minimum spanning tree algorithm? -- O(V^2)"
   ]
  },
  {
   "cell_type": "code",
   "execution_count": null,
   "metadata": {},
   "outputs": [],
   "source": []
  }
 ],
 "metadata": {
  "kernelspec": {
   "display_name": "Python 3",
   "language": "python",
   "name": "python3"
  },
  "language_info": {
   "codemirror_mode": {
    "name": "ipython",
    "version": 3
   },
   "file_extension": ".py",
   "mimetype": "text/x-python",
   "name": "python",
   "nbconvert_exporter": "python",
   "pygments_lexer": "ipython3",
   "version": "3.7.1"
  }
 },
 "nbformat": 4,
 "nbformat_minor": 2
}
