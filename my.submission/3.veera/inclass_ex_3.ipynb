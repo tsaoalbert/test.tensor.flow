{
 "cells": [
  {
   "cell_type": "markdown",
   "metadata": {},
   "source": [
    "<h1> In Class Exercise 3 <a href='http://interactivepython.org/runestone/static/pythonds/BasicDS/toctree.html'> \n",
    "(Basic Data Structures) </a> </h1>"
   ]
  },
  {
   "cell_type": "markdown",
   "metadata": {},
   "source": [
    "<h1> <a href='\n",
    "http://interactivepython.org/runestone/static/pythonds/BasicDS/DiscussionQuestions.html   \n",
    "    '>  Discussion Questions  </a> </h1>"
   ]
  },
  {
   "cell_type": "raw",
   "metadata": {},
   "source": [
    "Convert the following values to binary using “divide by 2.” Show the stack of remainders.\n",
    "17\n",
    "45\n",
    "96"
   ]
  },
  {
   "cell_type": "raw",
   "metadata": {},
   "source": [
    "\n",
    "Convert the following infix expressions to both prefix and postfix (use full parentheses):\n",
    "(A+B)*(C+D)*(E+F)\n",
    "A+((B+C)*(D+E))\n",
    "A*B*C*D+E+F"
   ]
  },
  {
   "cell_type": "markdown",
   "metadata": {},
   "source": [
    "<div class=\"image123\">\n",
    "    <div style=\"float:left;margin-right:55px;\">\n",
    "    <figure>\n",
    "        <img src=\"images/postfix.png\" height=\"300\" width=\"200\"  />\n",
    "        <figcaption style=\"text-align:center;\">  </figcaption>\n",
    "    </figure>\n",
    "    </div>\n",
    "    <div style=\"float:left;margin-right:55px;\">\n",
    "    <figure>\n",
    "        <img class=\"middle-img\" src=\"images/prefix.png\" height=\"300\" width=\"200\" />\n",
    "        <figcaption style=\"text-align:center;\"> </figcaption>\n",
    "    </figure>\n",
    "    </div>\n",
    "    <div style=\"float:left;margin-right:55px;\">\n",
    "    <figure>\n",
    "        <img src=\"images/infix.png\" height=\"400\" width=\"400\" />\n",
    "        <figcaption style=\"text-align:center;\">  </figcaption>\n",
    "    </figure>\n",
    "    </div>\n",
    "</div>"
   ]
  },
  {
   "cell_type": "raw",
   "metadata": {},
   "source": [
    "Convert the following infix expressions to postfix using the direct conversion algorithm as shown below\n",
    "Fill in the rule that is used at each step in the following table.\n",
    "(A+B)*(C+D)*(E+F)\n",
    "Show the stack as the conversion takes place."
   ]
  },
  {
   "cell_type": "markdown",
   "metadata": {},
   "source": [
    "Direct Conversion Algorithm: \n",
    "Create an empty stack called opstack for keeping operators. \n",
    "Create an empty list for output.\n",
    "Convert the input infix string to a list by using the string method split.\n",
    "Scan the token list from left to right.\n",
    "\n",
    "* A. If the token is an operand, append it to the end of the output list.\n",
    "* B. If the token is a (, push it on the opstack.\n",
    "* C. If the token is a ), pop the opstack until the corresponding ( is removed. Append each operator to the end of the output list.\n",
    "* D. If the token is an arithmatic operator, *, /, +, or -, push it on the opstack. \n",
    "* E. However, first remove any operators already on the opstack that have higher or equal precedence and append them to the output list.\n",
    "* F. When the input expression has been completely processed, append any operators still on the stack  to the end of the output list."
   ]
  },
  {
   "cell_type": "code",
   "execution_count": null,
   "metadata": {},
   "outputs": [],
   "source": [
    "from stack import Stack\n",
    "\n",
    "def InfixToPostfix(expression):\n",
    "    '''infix to postfix conversion'''\n",
    "\n",
    "    # Precedence\n",
    "    prec = {}\n",
    "    prec[\"*\"] = 3\n",
    "    prec[\"/\"] = 3\n",
    "    prec[\"+\"] = 2\n",
    "    prec[\"-\"] = 2\n",
    "    prec[\"(\"] = 1\n",
    "    \n",
    "    # Create an empty stack called data_stack for keeping operators. Create an empty list for output.\n",
    "    data_stack = Stack()\n",
    "    postfix_exp = []\n",
    "    tokens = expression.split()\n",
    "\n",
    "    for token in tokens:\n",
    "\t\t# If the token is an operand, append it to the end of the output list.\n",
    "        if token in \"ABCDEFGHIJKLMNOPQRSTUVWXYZ\" or token in \"0123456789\":\n",
    "            postfix_exp.append(token)\n",
    "        \n",
    "        # If the token is a left parenthesis, push it on the data_stack.    \n",
    "        elif token == '(':\n",
    "            data_stack.push(token)\n",
    "        \n",
    "        #If the token is a right parenthesis, pop the data_stack until the corresponding left parenthesis is removed. \n",
    "        elif token == ')':\n",
    "            top_token = data_stack.pop()\n",
    "            while top_token != '(':\n",
    "\t\t\t\t# Append each operator to the end of the output list.\n",
    "                postfix_exp.append(top_token)\n",
    "                top_token = data_stack.pop()\n",
    "        else:\n",
    "\t\t\t# If the token is an operator, *, /, +, or -, push it on the data_stack. \n",
    "\t\t\t# first remove any operators already on the data_stack that have higher or equal precedence and append them to the output list.\n",
    "            while (not data_stack.is_empty()) and (prec[data_stack.peek()] >= prec[token]):\n",
    "                  postfix_exp.append(data_stack.pop())\n",
    "            data_stack.push(token)\n",
    "    \n",
    "    # Any operators still on the stack can be removed and appended to the end of the output list.\n",
    "    while not data_stack.is_empty():\n",
    "        postfix_exp.append(data_stack.pop())\n",
    "    \n",
    "    return \" \".join(postfix_exp)\n",
    "\n",
    "# Testing\n",
    "print(InfixToPostfix(\"A * B + C * D\"))\n",
    "print(InfixToPostfix(\"( A + B ) * C - ( D - E ) * ( F + G )\"))"
   ]
  },
  {
   "cell_type": "raw",
   "metadata": {},
   "source": [
    "Convert the following infix expressions to postfix using the direct conversion algorithm. \n",
    "A+((B+C)*(D+E))\n",
    "Fill in the rule that is used at each step in the following table.\n",
    "Show the stack as the conversion takes place."
   ]
  },
  {
   "cell_type": "code",
   "execution_count": null,
   "metadata": {},
   "outputs": [],
   "source": [
    "(A + B ^ C ) * D + E\n",
    "\n",
    "Step 1 :\n",
    "\n",
    "\n",
    "Expression Wrapped in Round Bracket Should be Evaluated Firstly.\n",
    "\n",
    "Again Bracket Contain Two Operators – Addition(+) and Raise to(^) .\n",
    "\n",
    "Out of these two ‘^’ Operator has Higher Priority.\n",
    "\n",
    "So “B^C” should be Evaluated First\n",
    "\n",
    "\n",
    "(A + B ^ C ) * D + E\n",
    "= (A + B C ^ ) * D + E    [B^C Converted Into BC^]\n",
    "\n",
    "\n",
    "Now [ B C ^ ] is Converted Expression So Consider it as X\n",
    "\n",
    "\n",
    "= (A + X ) * D + E    [X = BC^]\n",
    "\n",
    "Step 2 :\n",
    "\n",
    "\n",
    "\n",
    "Evaluate A + X\n",
    "\n",
    "\n",
    "(A + X ) * D + E\n",
    "= (A X + ) * D + E    [A+X Converted Into AX+]\n",
    "\n",
    "\n",
    "Now [ A X + ] is Converted Expression So Consider it as Y\n",
    "\n",
    "\n",
    "= Y * D + E    [Y = AX+]\n",
    "\n",
    "Step 3 :\n",
    "\n",
    "\n",
    "\n",
    "Evaluate Y * D\n",
    "\n",
    "\n",
    "Y * D + E\n",
    "= Y D * + E    [Y*D Converted Into YD*]\n",
    "\n",
    "\n",
    "Now [Y D * ] is Converted Expression So Consider it as Z\n",
    "\n",
    "\n",
    "= Z + E    [Z = YD*]\n",
    "\n",
    "Step 4 :\n",
    "\n",
    "\n",
    "\n",
    "Evaluate Z + E\n",
    "\n",
    "\n",
    "Z + E\n",
    "= Z E +    [Z+E Converted Into ZE+]\n",
    "\n",
    "Final Postfix Expression : \n",
    "\n",
    "= Z E +    \n",
    "= Y D * E +          [Put Value of Z]\n",
    "= A X + D * E +      [Put Value of Y]\n",
    "= A B C ^ + D * E +  [Put Value of X] "
   ]
  },
  {
   "cell_type": "raw",
   "metadata": {},
   "source": [
    "Q#5,\n",
    "Convert the following infix expressions to postfix using the direct conversion algorithm. \n",
    "Fill in the rule that is used at each step in the following table.\n",
    "A*B*C*D+E+F\n",
    "Show the stack as the conversion takes place."
   ]
  },
  {
   "cell_type": "raw",
   "metadata": {},
   "source": [
    "from pythonds.basic.stack import Stack\n",
    "\n",
    "def infixToPostfix(infixexpr):\n",
    "    prec = {}\n",
    "    prec[\"*\"] = 3\n",
    "    prec[\"/\"] = 3\n",
    "    prec[\"+\"] = 2\n",
    "    prec[\"-\"] = 2\n",
    "    prec[\"(\"] = 1\n",
    "    opStack = Stack()\n",
    "    postfixList = []\n",
    "    tokenList = infixexpr.split()\n",
    "\n",
    "    for token in tokenList:\n",
    "        if token in \"ABCDEFGHIJKLMNOPQRSTUVWXYZ\" or token in \"0123456789\":\n",
    "            postfixList.append(token)\n",
    "        elif token == '(':\n",
    "            opStack.push(token)\n",
    "        elif token == ')':\n",
    "            topToken = opStack.pop()\n",
    "            while topToken != '(':\n",
    "                postfixList.append(topToken)\n",
    "                topToken = opStack.pop()\n",
    "        else:\n",
    "            while (not opStack.isEmpty()) and \\\n",
    "               (prec[opStack.peek()] >= prec[token]):\n",
    "                  postfixList.append(opStack.pop())\n",
    "            opStack.push(token)\n",
    "\n",
    "    while not opStack.isEmpty():\n",
    "        postfixList.append(opStack.pop())\n",
    "    return \" \".join(postfixList)\n",
    "\n",
    "print(infixToPostfix(\"A * B + C * D\"))\n",
    "print(infixToPostfix(\"( A + B ) * C - ( D - E ) * ( F + G )\"))\n",
    "\n"
   ]
  },
  {
   "cell_type": "code",
   "execution_count": null,
   "metadata": {},
   "outputs": [],
   "source": [
    "Evaluate the following postfix expressions. \n",
    "2 3 * 4 +\n",
    "1 2 + 3 + 4 + 5 +\n",
    "1 2 3 4 5 * + * +\n",
    "Show the stack as each operand and operator is processed."
   ]
  },
  {
   "cell_type": "code",
   "execution_count": null,
   "metadata": {},
   "outputs": [],
   "source": [
    "Answers:\n",
    "\n",
    "Postfix:  2 3 *  4  +\n",
    "----------------------------\n",
    "            3    4   \n",
    " Stack    2 2 6  6  10\n",
    "----------------------------"
   ]
  },
  {
   "cell_type": "markdown",
   "metadata": {},
   "source": [
    "The alternative implementation of the Queue ADT is to use a list such that the rear of the queue is at the end of the list. \n",
    "What would this mean for Big-O performance? \n",
    "Hints: In this case, enqueue() and dequeue() becomes the append and pop(0) methods of the Python List."
   ]
  },
  {
   "cell_type": "markdown",
   "metadata": {},
   "source": [
    "What is the result of carrying out both steps of the singly linked list add method in reverse order? \n",
    "What kind of reference results? \n",
    "What types of problems may result?\n",
    "(Hints: see the graphs below.)"
   ]
  },
  {
   "cell_type": "markdown",
   "metadata": {},
   "source": [
    "<div class=\"image123\">\n",
    "    <div style=\"float:left;margin-right:55px;\">\n",
    "    <figure>\n",
    "        <img src=\"images/list.add.node.at.front.png\" height=\"400\" width=\"400\"  />\n",
    "        <figcaption style=\"text-align:left;\">   Add a node (26) <br/>\n",
    "                    Step 1: temp.setNext(self.head)  <br/>\n",
    "        Step 2: self.head = temp\n",
    "        </figcaption>\n",
    "    </figure>\n",
    "    </div>\n",
    "    <div style=\"float:left;margin-right:55px;\">\n",
    "    <figure>\n",
    "        <img src=\"images/list.add.node.at.front.wrong.png\" height=\"400\" width=\"400\"  />\n",
    "        <figcaption style=\"text-align:left;\">   Erroneous node addition<br/>\n",
    "        Step 2: self.head = temp<br/>\n",
    "                            Step 1: temp.setNext(self.head)\n",
    "        </figcaption>\n",
    "    </figure>\n",
    "    </div> \n",
    "</div>"
   ]
  },
  {
   "cell_type": "markdown",
   "metadata": {},
   "source": [
    "What is the time complexity of the singly linked list remove method when the item to be removed is in the last node (that is, the pop() method). Explain the reason.\n"
   ]
  },
  {
   "cell_type": "markdown",
   "metadata": {},
   "source": [
    "With the tail pointer, the time comlexity for the append method can be improved to O(1). \n",
    "Explain the reason.\n",
    "\n",
    "Would the  tail pointer also improve the performance of the pop method to O(1) like the append method?"
   ]
  },
  {
   "cell_type": "markdown",
   "metadata": {},
   "source": [
    "<div class=\"image123\">\n",
    "    <div style=\"float:left;margin-right:55px;\">\n",
    "    <figure>\n",
    "        <img src=\"images/list.remove.tail.png\" height=\"300\" width=\"900\"  />\n",
    "        <figcaption style=\"text-align:center;\">  </figcaption>\n",
    "    </figure>\n",
    "    </div>\n",
    "\n",
    "</div>"
   ]
  },
  {
   "cell_type": "markdown",
   "metadata": {},
   "source": [
    "With an additional tail pointer in the singly linked list, how can we improve the implementation of the Queue ADT such that both enqueue() and dequeue() take only O(1)? "
   ]
  },
  {
   "cell_type": "raw",
   "metadata": {},
   "source": [
    "Answers:\n",
    "\n",
    "For the sinlgy linked list L with tail pointr, the operation L.pop(0) and L.append() takes O(1).\n",
    "When we use L as the internal engine of the Queue, the enqueue() method can be implemented using L.append(), and dequeue with L.pop(0)"
   ]
  },
  {
   "cell_type": "markdown",
   "metadata": {},
   "source": [
    "(Repeat the above question for the doubly linked lists.)\n",
    "What is the time complexity of the doubly linked list remove method  when the item to be removed is in the last node. Explain the reason.\n",
    "Would the time complexity change if the item to be removed is not the last node?\n",
    "List the codes for the remove method of the doubly circular linked list."
   ]
  },
  {
   "cell_type": "markdown",
   "metadata": {},
   "source": [
    "<div class=\"image123\">\n",
    "    <div style=\"float:left;margin-right:55px;\">\n",
    "    <figure>\n",
    "        <img src=\"images/doubly.linked.remove.tail.png\" height=\"600\" width=\"600\"  />\n",
    "        <figcaption style=\"text-align:center;\">    Remove the last node  </figcaption>\n",
    "    </figure>\n",
    "    </div>\n",
    "</div>"
   ]
  },
  {
   "cell_type": "markdown",
   "metadata": {},
   "source": [
    "Explain how the remove method works when the item is in the only node in both singly and doubly circular linked list. Write the codes to implement the methods for both  lists. (Hints: the implementations of both methods in this case should be the same.)"
   ]
  },
  {
   "cell_type": "markdown",
   "metadata": {},
   "source": [
    "<div class=\"image123\">\n",
    "    <div style=\"float:left;margin-right:55px;\">\n",
    "    <figure>\n",
    "        <img src=\"images/doubly.linked.insertion.empty.png\" height=\"300\" width=\"300\"  />\n",
    "        <figcaption style=\"text-align:center;\">  </figcaption>\n",
    "    </figure>\n",
    "    </div>\n",
    "\n",
    "</div>"
   ]
  },
  {
   "cell_type": "code",
   "execution_count": null,
   "metadata": {},
   "outputs": [],
   "source": []
  }
 ],
 "metadata": {
  "kernelspec": {
   "display_name": "Python 3",
   "language": "python",
   "name": "python3"
  },
  "language_info": {
   "codemirror_mode": {
    "name": "ipython",
    "version": 3
   },
   "file_extension": ".py",
   "mimetype": "text/x-python",
   "name": "python",
   "nbconvert_exporter": "python",
   "pygments_lexer": "ipython3",
   "version": "3.7.1"
  }
 },
 "nbformat": 4,
 "nbformat_minor": 2
}
