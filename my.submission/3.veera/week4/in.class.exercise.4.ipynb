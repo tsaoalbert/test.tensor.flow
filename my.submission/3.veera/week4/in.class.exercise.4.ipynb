{
 "cells": [
  {
   "cell_type": "markdown",
   "metadata": {},
   "source": [
    "<h1> <a href= \"http://interactivepython.org/runestone/static/pythonds/Recursion/toctree.html\"> In Class Exercise: #4 </a>  </h1>\n",
    "<ul>\n",
    "    \n",
    "<li> Recursion vs Iteration </li>\n",
    "<li> Three Laws of Recusion</li>\n",
    "<li>  Example: Tower of Hanoi, Maze, Dynamic Programming</li>\n",
    "</ul>\n"
   ]
  },
  {
   "cell_type": "markdown",
   "metadata": {},
   "source": [
    "<h1> <a href= \"http://interactivepython.org/runestone/static/pythonds/Recursion/DiscussionQuestions.html\">4.15. Discussion Questions\n",
    " </a> \n",
    "\n",
    "</h1>\n",
    "\n"
   ]
  },
  {
   "cell_type": "code",
   "execution_count": 8,
   "metadata": {},
   "outputs": [
    {
     "name": "stdout",
     "output_type": "stream",
     "text": [
      "55\n",
      "55\n"
     ]
    }
   ],
   "source": [
    "\"\"\"Write both  recursive and iterative function to compute the Fibonacci sequence. \n",
    "        How does the performance of the recursive function compare to that of an iterative version?\n",
    "           F(1)=F(2) = 1\n",
    "   F(n) = F(n-1)+F(n-2), for n >= 3\"\"\"\n",
    "   \n",
    "   #Recursive version\n",
    "def fib_recursive(n):\n",
    "    if n <=0:\n",
    "        return 0\n",
    "    elif n<=2:\n",
    "        return n\n",
    "    else:\n",
    "        return fib_recursive(n-1)+fib_recursive(n-2)\n",
    "    \n",
    "#Iterative version\n",
    "def fib_iterative(n):\n",
    "    if n == 0 or n == 1:\n",
    "        return 1\n",
    "    n_Sum = 0\n",
    "    n_1_Sum=1\n",
    "    n_2_Sum=1\n",
    "    for i in range(2,n+1):\n",
    "        n_Sum = n_1_Sum + n_2_Sum\n",
    "        n_2_Sum = n_1_Sum\n",
    "        n_1_Sum = n_Sum\n",
    "    return n_Sum\n",
    "\n",
    "print(fib_recursive(9))# Ans is 55\n",
    "print(fib_iterative(9))# Ans is 55\n",
    "\n",
    "\n",
    "# Performance comparison\n",
    "\n",
    "# Recursive version is lot slower than iterative version\n",
    "\n",
    "# In recursive version we calculate fibonacci value of all numbers less than n-2 twice\n",
    "# Once during calculation of f(n)\n",
    "# And during calculation of f(n-1)"
   ]
  },
  {
   "cell_type": "code",
   "execution_count": 7,
   "metadata": {},
   "outputs": [
    {
     "name": "stdout",
     "output_type": "stream",
     "text": [
      "Minimum coins required is  6\n",
      "Minimum coins required is  2\n"
     ]
    }
   ],
   "source": [
    "\"\"\"Using the dynamic programming algorithm for making change, find the smallest number of coins that you can use to make 33 cents in change. In addition to the usual coins assume that you have an 8 cent coin.\"\"\"\n",
    "\n",
    "import sys\n",
    "\"\"\"Using the dynamic programming algorithm for making change, find the smallest number of coins that you can use to make 33 cents in change. In addition to the usual coins assume that you have an 8 cent coin.\"\"\"\n",
    "\n",
    "\n",
    "# m is size of coins array (number of\n",
    "# different coins)\n",
    "import sys\n",
    "\"\"\"Using the dynamic programming algorithm for making change, find the smallest number of coins that you can use to make 33 cents in change. In addition to the usual coins assume that you have an 8 cent coin.\"\"\"\n",
    "\n",
    "\n",
    "# m is size of coins array (number of\n",
    "# different coins)\n",
    "def minCoins(coins, m, V):\n",
    "    # table[i] will be storing the minimum\n",
    "    # number of coins required for i value.\n",
    "    # So table[V] will have result\n",
    "    table = [0 for i in range(V + 1)]\n",
    "\n",
    "    # Base case (If given value V is 0)\n",
    "    #table[0] = 0\n",
    "\n",
    "    # Initialize all table values as Infinite\n",
    "    for i in range(1, V + 1):\n",
    "        table[i] = sys.maxsize\n",
    "\n",
    "    # Compute minimum coins required\n",
    "    # for all values from 1 to V\n",
    "    for i in range(1, V + 1):\n",
    "\n",
    "        # Go through all coins smaller than i\n",
    "        for j in range(m):\n",
    "            if (coins[j] <= i):\n",
    "                sub_res = table[i - coins[j]]\n",
    "                if (sub_res != sys.maxsize and\n",
    "                        sub_res + 1 < table[i]):\n",
    "                    table[i] = sub_res + 1\n",
    "    return table[V]\n",
    "\n",
    "if __name__ == \"__main__\":\n",
    "    coins = [10, 5, 1]\n",
    "    m = len(coins)\n",
    "    V = 33\n",
    "    print(\"Minimum coins required is \",\n",
    "          minCoins(coins, m, V))\n",
    "\n",
    "\"\"\"In addition to the usual coins assume that you have an 8 cent coin\"\"\"\n",
    "if __name__ == \"__main__\":\n",
    "    coins = [25, 10, 8, 5, 1]\n",
    "    m = len(coins)\n",
    "    V = 33\n",
    "    print(\"Minimum coins required is \",\n",
    "          minCoins(coins, m, V))\n"
   ]
  },
  {
   "cell_type": "code",
   "execution_count": null,
   "metadata": {},
   "outputs": [],
   "source": []
  },
  {
   "cell_type": "code",
   "execution_count": null,
   "metadata": {},
   "outputs": [],
   "source": []
  }
 ],
 "metadata": {
  "kernelspec": {
   "display_name": "Python 3",
   "language": "python",
   "name": "python3"
  },
  "language_info": {
   "codemirror_mode": {
    "name": "ipython",
    "version": 3
   },
   "file_extension": ".py",
   "mimetype": "text/x-python",
   "name": "python",
   "nbconvert_exporter": "python",
   "pygments_lexer": "ipython3",
   "version": "3.7.1"
  }
 },
 "nbformat": 4,
 "nbformat_minor": 2
}
