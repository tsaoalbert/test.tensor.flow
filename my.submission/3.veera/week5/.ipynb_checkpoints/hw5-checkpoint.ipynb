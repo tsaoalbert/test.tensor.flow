{
 "cells": [
  {
   "cell_type": "markdown",
   "metadata": {},
   "source": [
    "# <a href= \"http://interactivepython.org/runestone/static/pythonds/SortSearch/toctree.html\"> Chapter 5: Searching and Sorting </a>"
   ]
  },
  {
   "cell_type": "markdown",
   "metadata": {},
   "source": [
    "<h3> <a href= \"\n",
    "http://interactivepython.org/runestone/static/pythonds/SortSearch/ProgrammingExercises.html    \"> \n",
    "Programming Exercises¶\n",
    "</a>\n",
    "</h3>"
   ]
  },
  {
   "cell_type": "markdown",
   "metadata": {},
   "source": [
    "Q#1: 5/20\n",
    "Implement the following for the hash table Map ADT implementation.\n",
    "<ul> \n",
    "  <li>  len method (__len__)</li>\n",
    "  <li> in method (__contains__)</li>\n",
    "  <li> del method using the following for collision resolution</li>\n",
    "  <ul>\n",
    "         <li>  chaining </li>\n",
    "         <li> open addressing</li>\n",
    "           <li>quadratic probing</li>\n",
    "  </ul>\n",
    "          \n",
    "</ul>\n",
    "\n"
   ]
  },
  {
   "cell_type": "code",
   "execution_count": 6,
   "metadata": {},
   "outputs": [
    {
     "name": "stdout",
     "output_type": "stream",
     "text": [
      "2\n",
      "We have alex's number\n",
      "Now deleting alex's number\n",
      "We do not have alex's number\n"
     ]
    }
   ],
   "source": [
    "\n",
    "phone_numbers = {\"alex\": 456878, \"johnson\":8539589}\n",
    "print(len(phone_numbers))\n",
    "if \"alex\" in phone_numbers:\n",
    "    print(\"We have {}'s number\".format(\"alex\"))\n",
    "print(\"Now deleting {}'s number\".format(\"alex\"))\n",
    "try:\n",
    "    del phone_numbers['alex']\n",
    "except KeyError:\n",
    "    pass\n",
    "if \"alex\" not in phone_numbers:\n",
    "    print(\"We do not have {}'s number\".format(\"alex\"))\n",
    "    \n",
    "    "
   ]
  },
  {
   "cell_type": "markdown",
   "metadata": {},
   "source": [
    "Q#2 15/20\n",
    "Implement the mergeSort function without using the slice operator."
   ]
  },
  {
   "cell_type": "code",
   "execution_count": 12,
   "metadata": {},
   "outputs": [
    {
     "name": "stdout",
     "output_type": "stream",
     "text": [
      "Given array is\n",
      "12 11 13 5 6 7 \n",
      "Sorted array is: \n",
      "5 6 7 11 12 13 \n"
     ]
    }
   ],
   "source": [
    "\n",
    "def mergeSort(arr): \n",
    "    if len(arr) >1: \n",
    "        mid = len(arr)//2 #mid of the array\n",
    "        left = []\n",
    "        for i in range(0,mid):\n",
    "            left.append(arr[i])\n",
    "        right= []\n",
    "        for i in range(mid, len(arr)):\n",
    "            right.append(arr[i])\n",
    "\n",
    "  \n",
    "        mergeSort(left) \n",
    "        mergeSort(right)\n",
    "  \n",
    "        i = j = k = 0\n",
    "          \n",
    "        # Copy data to temp arrays left and right\n",
    "        while i < len(left) and j < len(right): \n",
    "            if left[i] < right[j]: \n",
    "                arr[k] = left[i] \n",
    "                i+=1\n",
    "            else: \n",
    "                arr[k] = right[j] \n",
    "                j+=1\n",
    "            k+=1\n",
    "          \n",
    "        # Checking if any element was left \n",
    "        while i < len(left): \n",
    "            arr[k] = left[i] \n",
    "            i+=1\n",
    "            k+=1\n",
    "          \n",
    "        while j < len(right): \n",
    "            arr[k] = right[j] \n",
    "            j+=1\n",
    "            k+=1\n",
    "  \n",
    "# Code to print the list \n",
    "def printList(arr): \n",
    "    for i in range(len(arr)):         \n",
    "        print(arr[i],end=\" \") \n",
    "    print() \n",
    "  \n",
    "# code to test the above code \n",
    "if __name__ == '__main__': \n",
    "    arr = [13, 11, 16, 15, 6, 7]  \n",
    "    print (\"Given array is\", end=\"\\n\")  \n",
    "    printList(arr) \n",
    "    mergeSort(arr) \n",
    "    print(\"Sorted array is: \", end=\"\\n\") \n",
    "    printList(arr) \n",
    "  "
   ]
  },
  {
   "cell_type": "markdown",
   "metadata": {},
   "source": [
    "Q#3: 0/20\n",
    "\n",
    "Using a random number generator, create a list of 500 integers. Perform a benchmark analysis two sorting algorithmsfrom this chapter. The first one has to be one of the insertion/selection/bubble sorting algorithms and the other is one of the quick/merge sorting algorithm.  What is the difference in execution speed?"
   ]
  },
  {
   "cell_type": "markdown",
   "metadata": {},
   "source": [
    "Q#4: 20/20\n",
    "Given a list of numbers in random order, write an algorithm that works\n",
    "      in O(nlog(n)) to find the kth smallest number in the list."
   ]
  },
  {
   "cell_type": "code",
   "execution_count": 10,
   "metadata": {},
   "outputs": [
    {
     "name": "stdout",
     "output_type": "stream",
     "text": [
      "9 "
     ]
    }
   ],
   "source": [
    "def kth_smallest(arr, k): \n",
    "    # Sort the given array arr in reverse  \n",
    "    # order. sorting happnes as O(nlog(n))\n",
    "    arr.sort() \n",
    "    #Print the first kth largest elements \n",
    "    print (arr[k-1],end=\" \")  \n",
    "  \n",
    "# Test with sample input\n",
    "arr = [1, 25, 16, 9, 36, 8, 50] \n",
    "#n = len(arr) \n",
    "k = 3# find 3rd smallest\n",
    "kth_smallest(arr, k) "
   ]
  },
  {
   "cell_type": "markdown",
   "metadata": {},
   "source": [
    "Q#5:  20/20\n",
    "Improve the algorithm from the previous problem to be linear? (Hints: the qsort algorithms.) \n"
   ]
  },
  {
   "cell_type": "code",
   "execution_count": 3,
   "metadata": {},
   "outputs": [
    {
     "name": "stdout",
     "output_type": "stream",
     "text": [
      "[0, 1, 2, 3, 4, 5, 6, 7, 8, 9, 10, 11, 12, 13, 14, 15, 16, 17, 18, 19]\n",
      "10th smallest element is 9\n"
     ]
    }
   ],
   "source": [
    "import sys \n",
    "  \n",
    "def kth_smallest(arr, l, r, k): \n",
    "  \n",
    "\n",
    "    if (k > 0 and k <= r - l + 1): \n",
    "        pos = partition(arr, l, r) \n",
    "        if (pos - l == k - 1): \n",
    "            return arr[pos] \n",
    "        if (pos - l > k - 1): # If position is more,  \n",
    "            return kth_smallest(arr, l, pos - 1, k) \n",
    "  \n",
    "        # Else recur for right subarray \n",
    "        return kth_smallest(arr, pos + 1, r, \n",
    "                            k - pos + l - 1)\n",
    "    return sys.maxsize \n",
    "  \n",
    "\n",
    "def partition(arr, l, r): \n",
    "  \n",
    "    x = arr[r] \n",
    "    i = l \n",
    "    for j in range(l, r): \n",
    "        if (arr[j] <= x): \n",
    "            arr[i], arr[j] = arr[j], arr[i] \n",
    "            i += 1\n",
    "    arr[i], arr[r] = arr[r], arr[i] \n",
    "    return i \n",
    "  \n",
    "# Main\n",
    "if __name__ == \"__main__\": \n",
    "      \n",
    "    arr = [13, 8, 5, 9, 4, 17, 26]\n",
    "    arr = list ( range (20) )\n",
    "    n = len(arr) \n",
    "    k = n//2; \n",
    "    print (arr)\n",
    "    print( str(k)+\"th smallest element is\",  \n",
    "           kth_smallest(arr, 0, n - 1, k))"
   ]
  },
  {
   "cell_type": "markdown",
   "metadata": {},
   "source": [
    "(Optional) Research perfect hash functions. Using a list of names (classmates, family members, etc.), generate the hash values using the perfect hash algorithm."
   ]
  }
 ],
 "metadata": {
  "kernelspec": {
   "display_name": "Python 3",
   "language": "python",
   "name": "python3"
  },
  "language_info": {
   "codemirror_mode": {
    "name": "ipython",
    "version": 3
   },
   "file_extension": ".py",
   "mimetype": "text/x-python",
   "name": "python",
   "nbconvert_exporter": "python",
   "pygments_lexer": "ipython3",
   "version": "3.7.1"
  }
 },
 "nbformat": 4,
 "nbformat_minor": 2
}
