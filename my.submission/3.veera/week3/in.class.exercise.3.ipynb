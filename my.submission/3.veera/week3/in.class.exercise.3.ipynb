{
 "cells": [
  {
   "cell_type": "markdown",
   "metadata": {},
   "source": [
    "<h1> In Class Exercise 3 <a href='http://interactivepython.org/runestone/static/pythonds/BasicDS/toctree.html'> \n",
    "(Basic Data Structures) </a> </h1>"
   ]
  },
  {
   "cell_type": "markdown",
   "metadata": {},
   "source": [
    "<h1> <a href='\n",
    "http://interactivepython.org/runestone/static/pythonds/BasicDS/DiscussionQuestions.html   \n",
    "    '>  Discussion Questions  </a> </h1>"
   ]
  },
  {
   "cell_type": "raw",
   "metadata": {},
   "source": [
    "Convert the following values to binary using “divide by 2.” Show the stack of remainders.\n",
    "17\n",
    "45\n",
    "96"
   ]
  },
  {
   "cell_type": "code",
   "execution_count": 6,
   "metadata": {},
   "outputs": [
    {
     "name": "stdout",
     "output_type": "stream",
     "text": [
      "10001\n",
      "101101\n",
      "1100000\n"
     ]
    }
   ],
   "source": [
    "def convertToBinary(n):\n",
    "   if n > 1:\n",
    "       convertToBinary(n//2)\n",
    "   print(n % 2,end = '')\n",
    "\n",
    "dec = 17\n",
    "convertToBinary(dec)\n",
    "print()\n",
    "dec = 45\n",
    "convertToBinary(dec)\n",
    "print()\n",
    "dec = 96\n",
    "convertToBinary(dec)\n",
    "print()"
   ]
  },
  {
   "cell_type": "raw",
   "metadata": {},
   "source": [
    "\n",
    "Convert the following infix expressions to both prefix and postfix (use full parentheses):\n",
    "(A+B)*(C+D)*(E+F)\n",
    "A+((B+C)*(D+E))\n",
    "A*B*C*D+E+F"
   ]
  },
  {
   "cell_type": "code",
   "execution_count": null,
   "metadata": {},
   "outputs": [],
   "source": [
    "(A+B)*(C+D)*(E+F)\n",
    "-*+ABC*-DE+FA #prefix\n",
    "AB+C*DE-FG+*- #postfix\n",
    "\n",
    "\n",
    "A+((B+C)*(D+E))\n",
    "**+AB+CD+EF #prefix\n",
    "ABC+DE+*+#postfix\n",
    "\n",
    "\n",
    "A*B*C*D+E+F\n",
    "++***ABCDEF#prefix\n",
    "AB*C*D*E+F+#postfix\n"
   ]
  },
  {
   "cell_type": "markdown",
   "metadata": {},
   "source": [
    "<div class=\"image123\">\n",
    "    <div style=\"float:left;margin-right:55px;\">\n",
    "    <figure>\n",
    "        <img src=\"images/postfix.png\" height=\"300\" width=\"200\"  />\n",
    "        <figcaption style=\"text-align:center;\">  </figcaption>\n",
    "    </figure>\n",
    "    </div>\n",
    "    <div style=\"float:left;margin-right:55px;\">\n",
    "    <figure>\n",
    "        <img class=\"middle-img\" src=\"images/prefix.png\" height=\"300\" width=\"200\" />\n",
    "        <figcaption style=\"text-align:center;\"> </figcaption>\n",
    "    </figure>\n",
    "    </div>\n",
    "    <div style=\"float:left;margin-right:55px;\">\n",
    "    <figure>\n",
    "        <img src=\"images/infix.png\" height=\"400\" width=\"400\" />\n",
    "        <figcaption style=\"text-align:center;\">  </figcaption>\n",
    "    </figure>\n",
    "    </div>\n",
    "</div>"
   ]
  },
  {
   "cell_type": "code",
   "execution_count": null,
   "metadata": {},
   "outputs": [],
   "source": []
  }
 ],
 "metadata": {
  "kernelspec": {
   "display_name": "Python 3",
   "language": "python",
   "name": "python3"
  },
  "language_info": {
   "codemirror_mode": {
    "name": "ipython",
    "version": 3
   },
   "file_extension": ".py",
   "mimetype": "text/x-python",
   "name": "python",
   "nbconvert_exporter": "python",
   "pygments_lexer": "ipython3",
   "version": "3.6.4"
  }
 },
 "nbformat": 4,
 "nbformat_minor": 2
}
