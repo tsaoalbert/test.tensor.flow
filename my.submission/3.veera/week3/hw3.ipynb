{
 "cells": [
  {
   "cell_type": "markdown",
   "metadata": {},
   "source": [
    "<h1> Assignments #3:  <a href='http://interactivepython.org/runestone/static/pythonds/BasicDS/toctree.html'> \n",
    "Basic Data Structures </a> </h1>"
   ]
  },
  {
   "cell_type": "markdown",
   "metadata": {},
   "source": [
    "<h3> <a href='\n",
    "http://interactivepython.org/runestone/static/pythonds/BasicDS/ProgrammingExercises.html  \n",
    "'>   Programming Exercises  </a> </h3>"
   ]
  },
  {
   "cell_type": "code",
   "execution_count": null,
   "metadata": {},
   "outputs": [],
   "source": [
    "3.1 Modify the infix-to-postfix algorithm so that it can handle errors."
   ]
  },
  {
   "cell_type": "code",
   "execution_count": 2,
   "metadata": {},
   "outputs": [
    {
     "name": "stdout",
     "output_type": "stream",
     "text": [
      "abcd^e-fgh*+^*+i-\n"
     ]
    }
   ],
   "source": [
    "class MyClass: \n",
    " \n",
    "    def __init__(self, capacity): \n",
    "        self.top = -1 \n",
    "        self.capacity = capacity \n",
    "        # This array is used a stack  \n",
    "        self.array = [] \n",
    "        # Precedence setting \n",
    "        self.output = [] \n",
    "        self.precedence = {'+':1, '-':1, '*':2, '/':2, '^':3} \n",
    "      \n",
    "\n",
    "    def isEmpty(self): \n",
    "        return True if self.top == -1 else False\n",
    "      \n",
    " \n",
    "    def peek(self): \n",
    "        return self.array[-1] \n",
    "      \n",
    "\n",
    "    def pop(self): \n",
    "        if not self.isEmpty(): \n",
    "            self.top -= 1\n",
    "            return self.array.pop() \n",
    "        else: \n",
    "            return \"$\"\n",
    "      \n",
    "\n",
    "    def push(self, op): \n",
    "        self.top += 1\n",
    "        self.array.append(op)  \n",
    "  \n",
    "  \n",
    "    def isOperand(self, ch): \n",
    "        return ch.isalpha() \n",
    "  \n",
    " \n",
    "    def notGreater(self, i): \n",
    "        try: \n",
    "            a = self.precedence[i] \n",
    "            b = self.precedence[self.peek()] \n",
    "            return True if a  <= b else False\n",
    "        except KeyError:  \n",
    "            return False\n",
    "              \n",
    " \n",
    "    def infixToPostfix(self, exp): \n",
    "\n",
    "        for i in exp: \n",
    "\n",
    "            if self.isOperand(i): \n",
    "                self.output.append(i) \n",
    "              \n",
    "\n",
    "            elif i  == '(': \n",
    "                self.push(i) \n",
    "  \n",
    "\n",
    "            elif i == ')': \n",
    "                while( (not self.isEmpty()) and self.peek() != '('): \n",
    "                    a = self.pop() \n",
    "                    self.output.append(a) \n",
    "                if (not self.isEmpty() and self.peek() != '('): \n",
    "                    return -1\n",
    "                else: \n",
    "                    self.pop() \n",
    "  \n",
    "\n",
    "            else: \n",
    "                while(not self.isEmpty() and self.notGreater(i)): \n",
    "                    self.output.append(self.pop()) \n",
    "                self.push(i) \n",
    "  \n",
    " \n",
    "        while not self.isEmpty(): \n",
    "            self.output.append(self.pop()) \n",
    "  \n",
    "        print(\"\".join(self.output) )\n",
    "  \n",
    "infix_exp = \"a+b*(c^d-e)^(f+g*h)-i\"\n",
    "my_obj = MyClass(len(infix_exp)) \n",
    "my_obj.infixToPostfix(infix_exp) "
   ]
  },
  {
   "cell_type": "code",
   "execution_count": null,
   "metadata": {},
   "outputs": [],
   "source": [
    "3.2 Modify the postfix evaluation algorithm so that it can handle errors."
   ]
  },
  {
   "cell_type": "code",
   "execution_count": null,
   "metadata": {},
   "outputs": [],
   "source": [
    "class MyClass: \n",
    "      \n",
    " \n",
    "    def __init__(self, capacity): \n",
    "        self.top = -1\n",
    "        self.capacity = capacity \n",
    "        # This array is used a stack  \n",
    "        self.array = [] \n",
    "\n",
    "    def push(self, op): \n",
    "        self.top += 1\n",
    "        self.array.append(op)  \n",
    " \n",
    "    def isEmpty(self): \n",
    "        return True if self.top == -1 else False\n",
    "\n",
    "    def peek(self): \n",
    "        return self.array[-1] \n",
    "\n",
    "    def pop(self): \n",
    "        if not self.isEmpty(): \n",
    "            self.top -= 1\n",
    "            return self.array.pop() \n",
    "        else: \n",
    "            return \"$\"  \n",
    "\n",
    "    def evaluatePostfix(self, exp): \n",
    "\n",
    "        for i in exp: \n",
    "              \n",
    "\n",
    "            if i.isdigit(): \n",
    "                self.push(i) \n",
    " \n",
    "            else: \n",
    "                val1 = self.pop() \n",
    "                val2 = self.pop() \n",
    "                self.push(str(eval(val2 + i + val1))) \n",
    "  \n",
    "        return int(self.pop()) \n",
    "                  \n",
    " \n",
    "postfix_exp = \"541*+4-\"\n",
    "my_obj = MyClass(len(postfix_exp)) \n",
    "print \"postfix evaluation: %d\"%(my_obj.evaluatePostfix(postfix_exp)) "
   ]
  }
 ],
 "metadata": {
  "kernelspec": {
   "display_name": "Python 3",
   "language": "python",
   "name": "python3"
  },
  "language_info": {
   "codemirror_mode": {
    "name": "ipython",
    "version": 3
   },
   "file_extension": ".py",
   "mimetype": "text/x-python",
   "name": "python",
   "nbconvert_exporter": "python",
   "pygments_lexer": "ipython3",
   "version": "3.6.4"
  }
 },
 "nbformat": 4,
 "nbformat_minor": 2
}
