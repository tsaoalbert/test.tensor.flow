{
 "cells": [
  {
   "cell_type": "markdown",
   "metadata": {},
   "source": [
    "<h1>\n",
    "<a href='http://interactivepython.org/runestone/static/pythonds/Trees/toctree.html'> \n",
    "    In Class Exercise #6: Trees and Tree Algorithms  </a>\n",
    "    </h1>"
   ]
  },
  {
   "cell_type": "markdown",
   "metadata": {},
   "source": [
    "<h1> <a href='http://interactivepython.org/runestone/static/pythonds/Trees/DiscussionQuestions.html'>\n",
    "6.21. Discussion Questions  </a></h1>"
   ]
  },
  {
   "cell_type": "markdown",
   "metadata": {},
   "source": [
    "Q#1:\n",
    "Trace the algorithm for creating an expression tree for the expression (4∗8)/6−3.\n",
    "\n",
    "for j <-- 2 top length[A}\n",
    "\n",
    "do key <-- A[j]\n",
    "// Insert A[j] into the sorted portion i <-- j-1\n",
    "whilei>0andA[i]>key\n",
    "         do A[i+1] <-- A[i]\n",
    "            i <-- i-1\n",
    "   A[i+1] <-- key"
   ]
  },
  {
   "cell_type": "markdown",
   "metadata": {},
   "source": [
    "Q#2:\n",
    "Consider the following list of integers: [10,9,8,7,6,5,4,3,2,1]. Show the binary heap resulting from inserting the integers one at a time.\n",
    "Hints: run the program from the lecture notes\n",
    "\n",
    "\n",
    "                                     +--------------1--------------+\n",
    "                         +---------2-----------+         +-----------4---------+\n",
    "                 +---------3-----------+       +---------6     +---------4---------+\n",
    "                 10                      7     9                5                   8\n",
    "                 \n",
    "                 "
   ]
  },
  {
   "cell_type": "code",
   "execution_count": null,
   "metadata": {},
   "outputs": [],
   "source": [
    "                +--------------1---------+            \n",
    "       +---------2---------+         +----4----+       \n",
    "  +----3----+         +----6         5         8       \n",
    " 10         7         9  "
   ]
  },
  {
   "cell_type": "markdown",
   "metadata": {},
   "source": [
    "Q#3:\n",
    "Draw the binary search tree that results from inserting the following keys in the order given:  \n",
    "b = [51, 52, 64, 41, 21, 40, 76, 67, 48, 91, 26, 24, 97, 8, 24]\n",
    "\n",
    "\n",
    "\n",
    "                                 +--------------------51------------------+\n",
    "                           +---------41-----+               52-------+   \n",
    "                                            48\n",
    "                         +--------21---------+                    64----------+\n",
    "                         8            +--------40                         +-------76-----+\n",
    "                                  +------26                               67          91------+\n",
    "                                  24                                                           97\n",
    "                         "
   ]
  },
  {
   "cell_type": "markdown",
   "metadata": {},
   "source": [
    "Q4:\n",
    "Given the following tree, perform the appropriate rotations to bring it back into balance.\n",
    "<div class=\"parse.tree\">\n",
    "    <div style=\"float:left;margin-top:55px;\">\n",
    "    <figure>\n",
    "        <img src=\"images/exer.5.13.png\"  width=\"200\" />\n",
    "        <figcaption style=\"text-align:center;\">  </figcaption>\n",
    "    </figure>\n",
    "    </div>\n",
    "</div>"
   ]
  },
  {
   "cell_type": "code",
   "execution_count": null,
   "metadata": {},
   "outputs": [],
   "source": [
    "A node in a binary tree is an only-child if it has a parent node but no sibling node (Note: The root does not qualify as an only child).\n",
    "The \"loneliness-ratio\" of a given binary tree T is defined as the following ratio:\n",
    "LR(T) = (The number of nodes in T that are only children) / (The number of nodes in T).\n",
    "a. Prove that for any nonempty AVL tree T we have that LR(T)≤1/2.\n",
    "b. Is it true for any binary tree T, that if LR(T)≤1/2 then height(T)=O(lgn)?\n",
    "c. Is it true for any binary tree T, that if there are Θ(n) only-children, all of which are leaves, then height(T)=O(lgn)?"
   ]
  }
 ],
 "metadata": {
  "kernelspec": {
   "display_name": "Python 3",
   "language": "python",
   "name": "python3"
  },
  "language_info": {
   "codemirror_mode": {
    "name": "ipython",
    "version": 3
   },
   "file_extension": ".py",
   "mimetype": "text/x-python",
   "name": "python",
   "nbconvert_exporter": "python",
   "pygments_lexer": "ipython3",
   "version": "3.7.1"
  }
 },
 "nbformat": 4,
 "nbformat_minor": 2
}
