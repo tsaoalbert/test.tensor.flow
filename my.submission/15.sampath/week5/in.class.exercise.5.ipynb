{
 "cells": [
  {
   "cell_type": "markdown",
   "metadata": {},
   "source": [
    "<h1>\n",
    " <a href= \"http://interactivepython.org/runestone/static/pythonds/SortSearch/toctree.html\"> In Class Exercise # 5 </a>\n",
    "    </h1?"
   ]
  },
  {
   "cell_type": "markdown",
   "metadata": {},
   "source": [
    "You may watch the anmiation of animation\n",
    "<a href='http://cs.armstrong.edu/liang/animation/animation.html'>    here. </a>"
   ]
  },
  {
   "cell_type": "markdown",
   "metadata": {},
   "source": [
    "Q#1\n",
    "Using the hash table performance<a href= \"http://interactivepython.org/runestone/static/pythonds/SortSearch/Hashing.html#analysis-of-hashing\"> \n",
    "    formulas</a> given in the chapter, compute the average number of comparisons necessary when the table is\n",
    "* 10% full\n",
    "* 25% full\n",
    "* 50% full\n",
    "* 75% full\n",
    "* 90% full\n",
    "* 99% full\n",
    "\n",
    "At what point do you think the hash table is too small? Explain.\n",
    "\n",
    "insertion\n",
    "\n",
    " h.insert(pair(key, value));       \n",
    "\n",
    "or\n",
    " \n",
    " h[key] = value;\n",
    "\n",
    "\n",
    "lookup\n",
    "\n",
    "             value = h[key];\n",
    "             \n",
    " In particular, if the hash table contains N keys (and associated values) we want these operations to be O(1). "
   ]
  },
  {
   "cell_type": "raw",
   "metadata": {},
   "source": [
    "Q#2\n",
    "Modify the hash function for strings to use positional weightings.\n",
    "\n",
    "A hash table is a collection of items, stored in such a way as to make it easier to find them later. The table consists of slots that hold items and are named by a specific integer value, starting with 0.\n",
    "\n",
    "Example of a hash table (sorry for the poor formatting because markdown :\n",
    "\n",
    "0\t1\t2\t3\t4\t5\t6\t7\t8\t9\t10\n",
    "None\tNone\tNone\tNone\tNone\tNone\tNone\tNone\tNone\tNone\tNone\n",
    "Each entry in this hash table, is currently set to a value of None."
   ]
  },
  {
   "cell_type": "raw",
   "metadata": {},
   "source": [
    "Q#3\n",
    "We used a hash function for strings that weighted the characters by position. \n",
    "What are the biases that exist with these functions?\n",
    "Devise an alternative weighting scheme that remove these biases.\n",
    "\n",
    "boolean containsKey(String key);\n",
    "String get(String key);\n",
    "void put(String key, String value);\n",
    "String remove(String key);"
   ]
  },
  {
   "cell_type": "raw",
   "metadata": {},
   "source": [
    "Q#4:\n",
    "Consider the following list of integers: \n",
    "[7, 2,9, 3,4,10, 5,1, 6,8]. \n",
    "Show how this list is sorted by the following algorithms:\n",
    "\n",
    "insertion sort\n",
    "selection sort\n",
    "bubble sort\n",
    "merge sort\n",
    "quick sort (Use the first one as the pivot value)\n",
    "\n",
    "Hints: run the program in the lecture notes\n",
    "\n",
    "\n",
    "The pivot could be either the 7 or the 9.\n",
    "B\n",
    "The pivot could be the 7, but it is not the 9\n",
    "C\n",
    "The pivot is not the 7, but it could be the 9\n",
    "D\n",
    "Neither the 7 nor the 9 is the pivot.\n"
   ]
  },
  {
   "cell_type": "raw",
   "metadata": {},
   "source": [
    "Q#5\n",
    "Consider the following list of integers: \n",
    "[10,9,8,7,6,5,4,3,2,1]. \n",
    "Show how this list is sorted by the following algorithms:\n",
    "\n",
    "bubble sort\n",
    "selection sort\n",
    "insertion sort\n",
    "merge sort\n",
    "quick sort (Use the first one as the pivot value)\n",
    "\n",
    "Show the array at each iteration. A sample run for the quick sort is given below, where the \n",
    "input array is shown at step 0, and * indicate the pivot item.\n",
    "\n",
    " 0: 54   26   93   17   77   31   44   55   20   \n",
    " 1: 31   26   20   17   44   54*  77   55   93   \n",
    " 2: 17   26   20   31*  44        55   77*  93   \n",
    " 3: 17*  26   20        44        55        93   \n",
    "\n",
    " 4: 17*  20   26*  31*  44   54*  55   77*  93\n",
    "\n",
    "Hints: run the program in the lecture notes\n",
    "\n",
    "\n",
    "\n",
    "\n",
    "\n",
    "\n",
    "MergeSort(arr[], l,  r)\n",
    "If r > l\n",
    "     1. Find the middle point to divide the array into two halves:  \n",
    "             middle m = (l+r)/2\n",
    "     2. Call mergeSort for first half:   \n",
    "             Call mergeSort(arr, l, m)\n",
    "     3. Call mergeSort for second half:\n",
    "             Call mergeSort(arr, m+1, r)\n",
    "     4. Merge the two halves sorted in step 2 and 3:\n",
    "             Call merge(arr, l, m, r)\n",
    "The following diagram from wikipedia shows the complete merge sort process for an example array {38, 27, 43, 3, 9, 82, 10}. If we take a closer look at the diagram, we can see that the array is recursively divided in two halves till the size becomes 1. Once the size becomes 1, the merge processes comes into action and starts merging arrays back till the complete array is merged.\n",
    "\n",
    "\n"
   ]
  },
  {
   "cell_type": "raw",
   "metadata": {},
   "source": [
    "Q#7\n",
    "Consider the following list of integers: [1,2,3,4,5,6,7,8,9,10]. \n",
    "Show how this list is sorted by the following algorithms:\n",
    "bubble sort\n",
    "selection sort\n",
    "insertion sort\n",
    "merge sort\n",
    "quick sort (Use the first one as the pivot value)\n",
    "\n",
    "Hints: run the program in the lecture notes\n",
    "\n",
    "\n",
    "\n",
    "\n",
    "\n",
    "Insertion sort. Insertion sort is a simple sorting algorithm that builds the final sorted array (or list) one item at a time. It is much less efficient on large lists than more advanced algorithms such as quicksort, heapsort, or merge sort."
   ]
  },
  {
   "cell_type": "raw",
   "metadata": {},
   "source": [
    "Q#8\n",
    "Consider the list of characters: ['P','Y','T','H','O','N']. \n",
    "Show how this list is sorted using the following algorithms:\n",
    "bubble sort\n",
    "selection sort\n",
    "insertion sort\n",
    "merge sort\n",
    "quick sort (you decide on the pivot value)\n",
    "\n",
    "Hints: run the program in the lecture notes\n",
    "\n",
    "\n",
    "\n",
    "\n",
    "Selection Sort's time complexity on average is O(n^2)"
   ]
  },
  {
   "cell_type": "raw",
   "metadata": {},
   "source": [
    "Q#9\n",
    "Devise alternative strategies for choosing the pivot value in quick sort. \n",
    "For example, pick the middle item. \n",
    "Re-implement the algorithm and then execute it on random data sets. \n",
    "Under what criteria does your new strategy perform better or worse than the strategy from this chapter?"
   ]
  },
  {
   "cell_type": "raw",
   "metadata": {},
   "source": [
    "\n",
    "Divide by choosing any element in the subarray array[p..r]. Call this element the pivot. Rearrange the elements in array[p..r] so that all elements in array[p..r] that are less than or equal to the pivot are to its left and all elements that are greater than the pivot are to its right. We call this procedure partitioning. At this point, it doesn't matter what order the elements to the left of the pivot are in relation to each other, and the same holds for the elements to the right of the pivot. We just care that each element is somewhere on the correct side of the pivot.\n",
    "As a matter of practice, we'll always choose the rightmost element in the subarray, array[r], as the pivot. So, for example, if the subarray consists of [9, 7, 5, 11, 12, 2, 14, 3, 10, 6], then we choose 6 as the pivot. After partitioning, the subarray might look like [5, 2, 3, 6, 12, 7, 14, 9, 10, 11]. Let q be the index of where the pivot ends up.\n",
    "Conquer by recursively sorting the subarrays array[p..q-1] (all elements to the left of the pivot, which must be less than or equal to the pivot) and array[q+1..r] (all elements to the right of the pivot, which must be greater than the pivot).\n",
    "Combine by doing nothing. Once the conquer step recursively sorts, we are done. Why? All elements to the left of the pivot, in array[p..q-1], are less than or equal to the pivot and are sorted, and all elements to the right of the pivot, in array[q+1..r], are greater than the pivot and are sorted. The elements in array[p..r] can't help but be sorted!"
   ]
  },
  {
   "cell_type": "code",
   "execution_count": null,
   "metadata": {},
   "outputs": [],
   "source": []
  }
 ],
 "metadata": {
  "kernelspec": {
   "display_name": "Python 3",
   "language": "python",
   "name": "python3"
  },
  "language_info": {
   "codemirror_mode": {
    "name": "ipython",
    "version": 3
   },
   "file_extension": ".py",
   "mimetype": "text/x-python",
   "name": "python",
   "nbconvert_exporter": "python",
   "pygments_lexer": "ipython3",
   "version": "3.7.1"
  }
 },
 "nbformat": 4,
 "nbformat_minor": 2
}
