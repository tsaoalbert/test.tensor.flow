{
 "cells": [
  {
   "cell_type": "markdown",
   "metadata": {},
   "source": [
    "# <a href= \"http://interactivepython.org/runestone/static/pythonds/SortSearch/toctree.html\"> Chapter 5: Searching and Sorting </a>"
   ]
  },
  {
   "cell_type": "markdown",
   "metadata": {},
   "source": [
    "<h3> <a href= \"\n",
    "http://interactivepython.org/runestone/static/pythonds/SortSearch/ProgrammingExercises.html    \"> \n",
    "Programming Exercises¶\n",
    "</a>\n",
    "</h3>"
   ]
  },
  {
   "cell_type": "markdown",
   "metadata": {},
   "source": [
    "Implement the following for the hash table Map ADT implementation.\n",
    "<ul> \n",
    "  <li>  len method (__len__)</li>\n",
    "  <li> in method (__contains__)</li>\n",
    "  <li> del method using the following for collision resolution</li>\n",
    "  <ul>\n",
    "         <li>  chaining </li>\n",
    "         <li> open addressing</li>\n",
    "           <li>quadratic probing</li>\n",
    "  </ul>\n",
    "          \n",
    "</ul>\n",
    "\n"
   ]
  },
  {
   "cell_type": "code",
   "execution_count": null,
   "metadata": {},
   "outputs": [],
   "source": []
  },
  {
   "cell_type": "markdown",
   "metadata": {},
   "source": [
    "Implement the mergeSort function without using the slice operator."
   ]
  },
  {
   "cell_type": "code",
   "execution_count": 5,
   "metadata": {},
   "outputs": [
    {
     "ename": "TypeError",
     "evalue": "mergesort() missing 2 required positional arguments: 'l' and 'r'",
     "output_type": "error",
     "traceback": [
      "\u001b[0;31m---------------------------------------------------------------------------\u001b[0m",
      "\u001b[0;31mTypeError\u001b[0m                                 Traceback (most recent call last)",
      "\u001b[0;32m<ipython-input-5-1643d54b483e>\u001b[0m in \u001b[0;36m<module>\u001b[0;34m\u001b[0m\n\u001b[1;32m     38\u001b[0m \u001b[0mL\u001b[0m\u001b[0;34m=\u001b[0m\u001b[0;34m[\u001b[0m\u001b[0;36m0\u001b[0m\u001b[0;34m,\u001b[0m \u001b[0;36m9\u001b[0m\u001b[0;34m,\u001b[0m \u001b[0;36m3\u001b[0m\u001b[0;34m,\u001b[0m \u001b[0;36m7\u001b[0m\u001b[0;34m,\u001b[0m \u001b[0;36m4\u001b[0m\u001b[0;34m,\u001b[0m \u001b[0;36m2\u001b[0m\u001b[0;34m,\u001b[0m \u001b[0;36m6\u001b[0m\u001b[0;34m,\u001b[0m \u001b[0;36m1\u001b[0m\u001b[0;34m,\u001b[0m \u001b[0;36m0\u001b[0m\u001b[0;34m,\u001b[0m \u001b[0;36m8\u001b[0m\u001b[0;34m]\u001b[0m\u001b[0;34m\u001b[0m\u001b[0;34m\u001b[0m\u001b[0m\n\u001b[1;32m     39\u001b[0m \u001b[0;34m\u001b[0m\u001b[0m\n\u001b[0;32m---> 40\u001b[0;31m \u001b[0mprint\u001b[0m\u001b[0;34m(\u001b[0m\u001b[0mmergesort\u001b[0m\u001b[0;34m(\u001b[0m\u001b[0mL\u001b[0m\u001b[0;34m)\u001b[0m \u001b[0;34m)\u001b[0m\u001b[0;34m\u001b[0m\u001b[0;34m\u001b[0m\u001b[0m\n\u001b[0m\u001b[1;32m     41\u001b[0m \u001b[0mL\u001b[0m\u001b[0;34m\u001b[0m\u001b[0;34m\u001b[0m\u001b[0m\n",
      "\u001b[0;31mTypeError\u001b[0m: mergesort() missing 2 required positional arguments: 'l' and 'r'"
     ]
    }
   ],
   "source": [
    "def mergesort(arr, l, r):\n",
    "\n",
    "    #print('start: ', arr[l:r])\n",
    "\n",
    "    if len(arr[l:r]) <=1:\n",
    "        return arr[l:r]\n",
    "    \n",
    "\n",
    "    mid = l + (r-l) // 2\n",
    "    left    = mergesort(arr, l, mid)\n",
    "    right   = mergesort(arr, mid, r)\n",
    "\n",
    "    l_idx = l\n",
    "    r_idx = mid\n",
    "    final = []\n",
    "\n",
    "    while l_idx < mid and r_idx < r:\n",
    "        if arr[l_idx] <= arr[r_idx]:\n",
    "            final.append(arr[l_idx])\n",
    "            l_idx+=1\n",
    "        else:\n",
    "            final.append(arr[r_idx]) \n",
    "            r_idx+=1\n",
    "\n",
    "\n",
    "    for val in arr[l_idx:mid]:\n",
    "        final.append(val)\n",
    "\n",
    "    for val in arr[r_idx:r]:\n",
    "        final.append(val)\n",
    "\n",
    "    #print('final: ', final[l:r])\n",
    "    #print()\n",
    "    #print()\n",
    "    return final \n",
    "\n",
    "\n",
    "L=[0, 9, 3, 7, 4, 2, 6, 1, 0, 8]\n",
    "\n",
    "print(mergesort(L, 0) )\n",
    "L\n"
   ]
  },
  {
   "cell_type": "markdown",
   "metadata": {},
   "source": [
    "Using a random number generator, create a list of 500 integers. Perform a benchmark analysis two sorting algorithmsfrom this chapter. The first one has to be one of the insertion/selection/bubble sorting algorithms and the other is one of the quick/merge sorting algorithm.  What is the difference in execution speed?"
   ]
  },
  {
   "cell_type": "code",
   "execution_count": null,
   "metadata": {},
   "outputs": [],
   "source": [
    "def mergesort(arr, l, r):\n",
    "\n",
    "    #print('start: ', arr[l:r])\n",
    "\n",
    "    if len(arr[l:r]) <= 1:\n",
    "        return arr[l:r]\n",
    "\n",
    "    mid = l + (r-l) // 2\n",
    "    left = mergesort(arr, l, mid)\n",
    "    right = mergesort(arr, mid, r)\n",
    "    # concatenate the left and right results into arr\n",
    "    arr = left + right\n",
    "\n",
    "    # realign the indexes with the new arr\n",
    "    mid -= l\n",
    "    r -= l\n",
    "\n",
    "    l_idx = 0\n",
    "    r_idx = mid\n",
    "    final = []\n",
    "\n",
    "    while l_idx < mid and r_idx < r:\n",
    "        if arr[l_idx] <= arr[r_idx]:\n",
    "            final.append(arr[l_idx])\n",
    "            l_idx += 1\n",
    "        else:\n",
    "            final.append(arr[r_idx])\n",
    "            r_idx += 1\n",
    "\n",
    "    for val in arr[l_idx:mid]:\n",
    "        final.append(val)\n",
    "\n",
    "    for val in arr[r_idx:r]:\n",
    "        final.append(val)\n",
    "    return final\n",
    "\n",
    "\n",
    "print(mergesort([0, 9, 3, 7, 4, 2, 6, 1], 0, 8))\n"
   ]
  },
  {
   "cell_type": "markdown",
   "metadata": {},
   "source": [
    "2.4 Given a list of numbers in random order, write an algorithm that works\n",
    "      in O(nlog(n)) to find the kth smallest number in the list."
   ]
  },
  {
   "cell_type": "code",
   "execution_count": null,
   "metadata": {},
   "outputs": [],
   "source": [
    "def sorting_list(A,k):\n",
    "    for i in range(len(A)): \n",
    "      \n",
    "    # Find the minimum element in remaining  \n",
    "    # unsorted array \n",
    "    min_idx = i \n",
    "    for j in range(i+1, len(A)): \n",
    "        if A[min_idx] > A[j]: \n",
    "            min_idx = j \n",
    "              \n",
    "    # Swap the found minimum element with  \n",
    "    # the first element         \n",
    "    A[i], A[min_idx] = A[min_idx], A[i] \n",
    "    returnA[k]"
   ]
  },
  {
   "cell_type": "markdown",
   "metadata": {},
   "source": [
    "2.5 Improve the algorithm from the previous problem to be linear? (Hints: the qsort algorithms.) \n"
   ]
  },
  {
   "cell_type": "code",
   "execution_count": null,
   "metadata": {},
   "outputs": [],
   "source": [
    "def qsort(arr):\n",
    "    if len(arr) <= 1:\n",
    "        return arr\n",
    "    else:\n",
    "        return qsort([x for x in arr[1:] if x < arr[0]]) + \\\n",
    "            [arr[0]] + \\\n",
    "            qsort([x for x in arr[1:] if x >= arr[0]])\n",
    "\n",
    "\n",
    "def quick_sort(arr, k):\n",
    "    array_sorted = qsort(arr)\n",
    "    return array_sorted[k]"
   ]
  },
  {
   "cell_type": "markdown",
   "metadata": {},
   "source": [
    "(Optional) Research perfect hash functions. Using a list of names (classmates, family members, etc.), generate the hash values using the perfect hash algorithm."
   ]
  }
 ],
 "metadata": {
  "kernelspec": {
   "display_name": "Python 3",
   "language": "python",
   "name": "python3"
  },
  "language_info": {
   "codemirror_mode": {
    "name": "ipython",
    "version": 3
   },
   "file_extension": ".py",
   "mimetype": "text/x-python",
   "name": "python",
   "nbconvert_exporter": "python",
   "pygments_lexer": "ipython3",
   "version": "3.7.1"
  }
 },
 "nbformat": 4,
 "nbformat_minor": 2
}
