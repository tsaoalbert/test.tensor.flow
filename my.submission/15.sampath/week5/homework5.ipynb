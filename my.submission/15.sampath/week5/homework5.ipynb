{
 "cells": [
  {
   "cell_type": "markdown",
   "metadata": {},
   "source": [
    "# <a href= \"http://interactivepython.org/runestone/static/pythonds/SortSearch/toctree.html\"> Chapter 5: Searching and Sorting </a>"
   ]
  },
  {
   "cell_type": "markdown",
   "metadata": {},
   "source": [
    "<h3> <a href= \"\n",
    "http://interactivepython.org/runestone/static/pythonds/SortSearch/ProgrammingExercises.html    \"> \n",
    "Programming Exercises¶\n",
    "</a>\n",
    "</h3>"
   ]
  },
  {
   "cell_type": "markdown",
   "metadata": {},
   "source": [
    "Implement the following for the hash table Map ADT implementation.\n",
    "<ul> \n",
    "  <li>  len method (__len__)</li>\n",
    "  <li> in method (__contains__)</li>\n",
    "  <li> del method using the following for collision resolution</li>\n",
    "  <ul>\n",
    "         <li>  chaining </li>\n",
    "         <li> open addressing</li>\n",
    "           <li>quadratic probing</li>\n",
    "  </ul>\n",
    "          \n",
    "</ul>\n",
    "\n"
   ]
  },
  {
   "cell_type": "code",
   "execution_count": null,
   "metadata": {},
   "outputs": [],
   "source": []
  },
  {
   "cell_type": "markdown",
   "metadata": {},
   "source": [
    "Implement the mergeSort function without using the slice operator."
   ]
  },
  {
   "cell_type": "code",
   "execution_count": 9,
   "metadata": {},
   "outputs": [
    {
     "name": "stderr",
     "output_type": "stream",
     "text": [
      "ERROR:root:Internal Python error in the inspect module.\n",
      "Below is the traceback from this internal error.\n",
      "\n"
     ]
    },
    {
     "name": "stdout",
     "output_type": "stream",
     "text": [
      "Traceback (most recent call last):\n",
      "  File \"/Users/chung-wenalberttsao/anaconda3/lib/python3.7/site-packages/IPython/core/interactiveshell.py\", line 3267, in run_code\n",
      "    exec(code_obj, self.user_global_ns, self.user_ns)\n",
      "  File \"<ipython-input-9-08f78791db06>\", line 40, in <module>\n",
      "    mergesort(L, 0, len(L))\n",
      "  File \"<ipython-input-9-08f78791db06>\", line 10, in mergesort\n",
      "    left    = mergesort(arr, l, mid)\n",
      "  File \"<ipython-input-9-08f78791db06>\", line 11, in mergesort\n",
      "    right   = mergesort(arr, mid, r)\n",
      "  File \"<ipython-input-9-08f78791db06>\", line 11, in mergesort\n",
      "    right   = mergesort(arr, mid, r)\n",
      "  File \"<ipython-input-9-08f78791db06>\", line 11, in mergesort\n",
      "    right   = mergesort(arr, mid, r)\n",
      "  [Previous line repeated 2954 more times]\n",
      "  File \"<ipython-input-9-08f78791db06>\", line 10, in mergesort\n",
      "    left    = mergesort(arr, l, mid)\n",
      "  File \"<ipython-input-9-08f78791db06>\", line 5, in mergesort\n",
      "    if len(arr[l:r]) <=1:\n",
      "RecursionError: maximum recursion depth exceeded while calling a Python object\n",
      "\n",
      "During handling of the above exception, another exception occurred:\n",
      "\n",
      "Traceback (most recent call last):\n",
      "  File \"/Users/chung-wenalberttsao/anaconda3/lib/python3.7/site-packages/IPython/core/interactiveshell.py\", line 2018, in showtraceback\n",
      "    stb = value._render_traceback_()\n",
      "AttributeError: 'RecursionError' object has no attribute '_render_traceback_'\n",
      "\n",
      "During handling of the above exception, another exception occurred:\n",
      "\n",
      "Traceback (most recent call last):\n",
      "  File \"/Users/chung-wenalberttsao/anaconda3/lib/python3.7/site-packages/IPython/core/ultratb.py\", line 1095, in get_records\n",
      "    return _fixed_getinnerframes(etb, number_of_lines_of_context, tb_offset)\n",
      "  File \"/Users/chung-wenalberttsao/anaconda3/lib/python3.7/site-packages/IPython/core/ultratb.py\", line 313, in wrapped\n",
      "    return f(*args, **kwargs)\n",
      "  File \"/Users/chung-wenalberttsao/anaconda3/lib/python3.7/site-packages/IPython/core/ultratb.py\", line 347, in _fixed_getinnerframes\n",
      "    records = fix_frame_records_filenames(inspect.getinnerframes(etb, context))\n",
      "  File \"/Users/chung-wenalberttsao/anaconda3/lib/python3.7/inspect.py\", line 1500, in getinnerframes\n",
      "    frameinfo = (tb.tb_frame,) + getframeinfo(tb, context)\n",
      "  File \"/Users/chung-wenalberttsao/anaconda3/lib/python3.7/inspect.py\", line 1462, in getframeinfo\n",
      "    lines, lnum = findsource(frame)\n",
      "  File \"/Users/chung-wenalberttsao/anaconda3/lib/python3.7/site-packages/IPython/core/ultratb.py\", line 167, in findsource\n",
      "    file = getsourcefile(object) or getfile(object)\n",
      "  File \"/Users/chung-wenalberttsao/anaconda3/lib/python3.7/inspect.py\", line 696, in getsourcefile\n",
      "    if getattr(getmodule(object, filename), '__loader__', None) is not None:\n",
      "  File \"/Users/chung-wenalberttsao/anaconda3/lib/python3.7/inspect.py\", line 733, in getmodule\n",
      "    if ismodule(module) and hasattr(module, '__file__'):\n",
      "  File \"/Users/chung-wenalberttsao/anaconda3/lib/python3.7/inspect.py\", line 70, in ismodule\n",
      "    return isinstance(object, types.ModuleType)\n",
      "KeyboardInterrupt\n"
     ]
    },
    {
     "ename": "RecursionError",
     "evalue": "maximum recursion depth exceeded while calling a Python object",
     "output_type": "error",
     "traceback": [
      "\u001b[0;31m---------------------------------------------------------------------------\u001b[0m"
     ]
    }
   ],
   "source": [
    "def mergesort(arr, l, r):\n",
    "\n",
    "    #print('start: ', arr[l:r])\n",
    "\n",
    "    if len(arr[l:r]) <=1:\n",
    "        return arr[l:r]\n",
    "    \n",
    "\n",
    "    mid = (l + r-1) // 2\n",
    "    left    = mergesort(arr, l, mid)\n",
    "    right   = mergesort(arr, mid, r)\n",
    "\n",
    "    l_idx = l\n",
    "    r_idx = mid\n",
    "    final = []\n",
    "\n",
    "    while l_idx < mid and r_idx < r:\n",
    "        if arr[l_idx] <= arr[r_idx]:\n",
    "            final.append(arr[l_idx])\n",
    "            l_idx+=1\n",
    "        else:\n",
    "            final.append(arr[r_idx]) \n",
    "            r_idx+=1\n",
    "\n",
    "\n",
    "    for val in arr[l_idx:mid]:\n",
    "        final.append(val)\n",
    "\n",
    "    for val in arr[r_idx:r]:\n",
    "        final.append(val)\n",
    "\n",
    "    #print('final: ', final[l:r])\n",
    "    #print()\n",
    "    #print()\n",
    "    return final \n",
    "\n",
    "\n",
    "L=[0, 9, 3, 7, 4, 2, 6, 1, 0, 8]\n",
    "\n",
    "mergesort(L, 0, len(L))\n",
    "print (L)\n"
   ]
  },
  {
   "cell_type": "markdown",
   "metadata": {},
   "source": [
    "Using a random number generator, create a list of 500 integers. Perform a benchmark analysis two sorting algorithmsfrom this chapter. The first one has to be one of the insertion/selection/bubble sorting algorithms and the other is one of the quick/merge sorting algorithm.  What is the difference in execution speed?"
   ]
  },
  {
   "cell_type": "code",
   "execution_count": null,
   "metadata": {},
   "outputs": [],
   "source": [
    "def mergesort(arr, l, r):\n",
    "\n",
    "    #print('start: ', arr[l:r])\n",
    "\n",
    "    if len(arr[l:r]) <= 1:\n",
    "        return arr[l:r]\n",
    "\n",
    "    mid = l + (r-l) // 2\n",
    "    left = mergesort(arr, l, mid)\n",
    "    right = mergesort(arr, mid, r)\n",
    "    # concatenate the left and right results into arr\n",
    "    arr = left + right\n",
    "\n",
    "    # realign the indexes with the new arr\n",
    "    mid -= l\n",
    "    r -= l\n",
    "\n",
    "    l_idx = 0\n",
    "    r_idx = mid\n",
    "    final = []\n",
    "\n",
    "    while l_idx < mid and r_idx < r:\n",
    "        if arr[l_idx] <= arr[r_idx]:\n",
    "            final.append(arr[l_idx])\n",
    "            l_idx += 1\n",
    "        else:\n",
    "            final.append(arr[r_idx])\n",
    "            r_idx += 1\n",
    "\n",
    "    for val in arr[l_idx:mid]:\n",
    "        final.append(val)\n",
    "\n",
    "    for val in arr[r_idx:r]:\n",
    "        final.append(val)\n",
    "    return final\n",
    "\n",
    "\n",
    "print(mergesort([0, 9, 3, 7, 4, 2, 6, 1], 0, 8))\n"
   ]
  },
  {
   "cell_type": "markdown",
   "metadata": {},
   "source": [
    "2.4 Given a list of numbers in random order, write an algorithm that works\n",
    "      in O(nlog(n)) to find the kth smallest number in the list."
   ]
  },
  {
   "cell_type": "code",
   "execution_count": null,
   "metadata": {},
   "outputs": [],
   "source": [
    "def sorting_list(A,k):\n",
    "    for i in range(len(A)): \n",
    "      \n",
    "    # Find the minimum element in remaining  \n",
    "    # unsorted array \n",
    "    min_idx = i \n",
    "    for j in range(i+1, len(A)): \n",
    "        if A[min_idx] > A[j]: \n",
    "            min_idx = j \n",
    "              \n",
    "    # Swap the found minimum element with  \n",
    "    # the first element         \n",
    "    A[i], A[min_idx] = A[min_idx], A[i] \n",
    "    returnA[k]"
   ]
  },
  {
   "cell_type": "markdown",
   "metadata": {},
   "source": [
    "2.5 Improve the algorithm from the previous problem to be linear? (Hints: the qsort algorithms.) \n"
   ]
  },
  {
   "cell_type": "code",
   "execution_count": null,
   "metadata": {},
   "outputs": [],
   "source": [
    "def qsort(arr):\n",
    "    if len(arr) <= 1:\n",
    "        return arr\n",
    "    else:\n",
    "        return qsort([x for x in arr[1:] if x < arr[0]]) + \\\n",
    "            [arr[0]] + \\\n",
    "            qsort([x for x in arr[1:] if x >= arr[0]])\n",
    "\n",
    "\n",
    "def quick_sort(arr, k):\n",
    "    array_sorted = qsort(arr)\n",
    "    return array_sorted[k]"
   ]
  },
  {
   "cell_type": "markdown",
   "metadata": {},
   "source": [
    "(Optional) Research perfect hash functions. Using a list of names (classmates, family members, etc.), generate the hash values using the perfect hash algorithm."
   ]
  }
 ],
 "metadata": {
  "kernelspec": {
   "display_name": "Python 3",
   "language": "python",
   "name": "python3"
  },
  "language_info": {
   "codemirror_mode": {
    "name": "ipython",
    "version": 3
   },
   "file_extension": ".py",
   "mimetype": "text/x-python",
   "name": "python",
   "nbconvert_exporter": "python",
   "pygments_lexer": "ipython3",
   "version": "3.7.1"
  }
 },
 "nbformat": 4,
 "nbformat_minor": 2
}
