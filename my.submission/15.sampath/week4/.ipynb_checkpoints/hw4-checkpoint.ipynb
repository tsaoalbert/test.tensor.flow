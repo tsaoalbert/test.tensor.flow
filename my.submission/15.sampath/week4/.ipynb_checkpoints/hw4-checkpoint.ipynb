{
 "cells": [
  {
   "cell_type": "markdown",
   "metadata": {},
   "source": [
    "<h1> <a href= \"http://interactivepython.org/runestone/static/pythonds/Recursion/toctree.html\"> Assignment 4:  Recursion </a>  </h1>\n",
    "<ul>\n",
    "    \n",
    "<li> Recursion vs Iteration </li>\n",
    "<li> Three Laws of Recusion</li>\n",
    "<li>  Example: Tower of Hanoi, Maze, Dynamic Programming</li>\n",
    "</ul>\n"
   ]
  },
  {
   "cell_type": "markdown",
   "metadata": {},
   "source": [
    "<h3> <a href= \"\n",
    "http://interactivepython.org/runestone/static/pythonds/Recursion/pythondsProgrammingExercises.html\n",
    "    \">4.17. Programming Exercises\n",
    " </a> \n",
    "\n",
    "</h3>\n",
    "\n"
   ]
  },
  {
   "cell_type": "code",
   "execution_count": 2,
   "metadata": {},
   "outputs": [
    {
     "data": {
      "text/plain": [
       "3"
      ]
     },
     "execution_count": 2,
     "metadata": {},
     "output_type": "execute_result"
    }
   ],
   "source": [
    "Write both recursive and iterative function to compute the factorial of a number.\n",
    "How does the performance of the recursive function compare to that of an iterative version?\n",
    "   F(0)=F(1) = 1\n",
    "   F(n) = F(n-1)*n, for n >=2\n",
    "\n",
    "def recursive_factorial (n):\n",
    "  if n == 0:\n",
    "    return 1\n",
    "  else:\n",
    "    return n *recursive_factorial(n-1)\n",
    "def iterative_factorial (n):\n",
    "  product = 1\n",
    "  for i in range(1,n + 1):\n",
    "    product = product * i\n",
    "    return product"
   ]
  },
  {
   "cell_type": "code",
   "execution_count": null,
   "metadata": {},
   "outputs": [],
   "source": [
    "Write both  recursive and iterative function to compute the Fibonacci sequence.\n",
    "How does the performance of the recursive function compare to that of an iterative version?\n",
    "def recursive_fibonacci(n):\n",
    "    if n == 1 or n == 2:\n",
    "        return 1\n",
    "    elif n==0\n",
    "        return 0\n",
    "    else:\n",
    "        return n + recursive_fibonacci(n-1)\n",
    "def iterative_fibonacci(n):\n",
    "    sum = 0\n",
    "    for i in range(0,n+1):\n",
    "        sum = sum+i\n",
    "        return sum"
   ]
  },
  {
   "cell_type": "code",
   "execution_count": null,
   "metadata": {},
   "outputs": [],
   "source": []
  },
  {
   "cell_type": "code",
   "execution_count": null,
   "metadata": {},
   "outputs": [],
   "source": [
    "import turtle\n",
    "\n",
    "def tree(branchLen,t):\n",
    "    if branchLen > 5:\n",
    "        t.forward(branchLen)\n",
    "        t.right(20)\n",
    "        tree(branchLen-15,t)\n",
    "        t.left(40)\n",
    "        tree(branchLen-15,t)\n",
    "        t.right(20)\n",
    "        t.backward(branchLen)\n",
    "\n",
    "def main():\n",
    "    t = turtle.Turtle()\n",
    "    myWin = turtle.Screen()\n",
    "    t.left(90)\n",
    "    t.up()\n",
    "    t.backward(100)\n",
    "    t.down()\n",
    "    t.color(\"green\")\n",
    "    tree(75,t)\n",
    "    myWin.exitonclick()\n",
    "\n",
    "main()\n"
   ]
  },
  {
   "cell_type": "markdown",
   "metadata": {},
   "source": [
    "\n",
    "Modify the recursive tree program to produce a more realistic looking tree with various brnach length/thickness, and braching angles."
   ]
  },
  {
   "cell_type": "code",
   "execution_count": null,
   "metadata": {},
   "outputs": [],
   "source": [
    "import turtle\n",
    "\n",
    "\n",
    "def tree(branchLen, t):\n",
    "    if branchLen > 10:\n",
    "        t.forward(branchLen)\n",
    "        t.right(20)\n",
    "        tree(branchLen-10, t)\n",
    "        t.left(40)\n",
    "        tree(branchLen-10, t)\n",
    "        t.right(20)\n",
    "        t.backward(branchLen)\n",
    "    elif branchLen > 5:\n",
    "        t.forward(branchLen)\n",
    "        t.right(20)\n",
    "        tree(branchLen-5, t)\n",
    "        t.left(40)\n",
    "        tree(branchLen-5, t)\n",
    "        t.right(20)\n",
    "        t.backward(branchLen)\n",
    "\n",
    "\n",
    "def main():\n",
    "    t = turtle.Turtle()\n",
    "    myWin = turtle.Screen()\n",
    "    t.left(90)\n",
    "    t.up()\n",
    "    t.backward(100)\n",
    "    t.down()\n",
    "    t.color(\"green\")\n",
    "    tree(75, t)\n",
    "    myWin.exitonclick()\n",
    "\n",
    "\n",
    "main()"
   ]
  },
  {
   "cell_type": "raw",
   "metadata": {},
   "source": [
    "Modify the thickness of the branches so that as the branchLen gets smaller, the line gets thinner.\n",
    "Modify the color of the branches so that as the branchLen gets very short it is colored like a leaf.\n",
    "Modify the angle used in turning the turtle so that at each branch point the angle is selected at random in some range. For example choose the angle between 15 and 45 degrees. Play around to see what looks good.\n",
    "Modify the branchLen recursively so that instead of always subtracting the same amount you subtract a random amount in some range.\n",
    "If you implement all of the above ideas you will have a very realistic looking tree."
   ]
  },
  {
   "cell_type": "raw",
   "metadata": {},
   "source": [
    "Using the recursive rules as described, draw a Sierpinski triangle using paper and pencil."
   ]
  },
  {
   "cell_type": "code",
   "execution_count": null,
   "metadata": {},
   "outputs": [],
   "source": [
    "import turtle\n",
    "\n",
    "\n",
    "def Triangle(traingle_pts, clr, my_arrow):\n",
    "    my_arrow.fillcolor(clr)\n",
    "    my_arrow.up()\n",
    "    my_arrow.goto(traingle_pts[0][0], traingle_pts[0][1])\n",
    "    my_arrow.down()\n",
    "    my_arrow.begin_fill()\n",
    "    my_arrow.goto(traingle_pts[2][0], traingle_pts[2][1])\n",
    "    my_arrow.goto(traingle_pts[1][0], traingle_pts[1][1])\n",
    "    my_arrow.goto(traingle_pts[0][0], traingle_pts[0][1])\n",
    "    my_arrow.end_fill()\n",
    "\n",
    "\n",
    "def Mid_point(a, b):\n",
    "    return ((a[0]+b[0]) / 2,  (a[1]+b[1]) / 2)\n",
    "\n",
    "\n",
    "def sierpinski_triangle(cordinates, angle, pointer):\n",
    "    colors = ['black', 'blue', 'green', 'white', 'yellow',\n",
    "              'grey', 'orange']\n",
    "    Triangle(cordinates, colors[angle], pointer)\n",
    "    if angle > 0:\n",
    "        sierpinski_triangle([cordinates[0],\n",
    "                             Mid_point(cordinates[0], cordinates[1]),\n",
    "                             Mid_point(cordinates[0], cordinates[2])],\n",
    "                            angle-1, pointer)\n",
    "        sierpinski_triangle([cordinates[1],\n",
    "                             Mid_point(cordinates[0], cordinates[1]),\n",
    "                             Mid_point(cordinates[1], cordinates[2])],\n",
    "                            angle-1, pointer)\n",
    "        sierpinski_triangle([cordinates[2],\n",
    "                             Mid_point(cordinates[2], cordinates[1]),\n",
    "                             Mid_point(cordinates[0], cordinates[2])],\n",
    "                            angle-1, pointer)\n",
    "\n",
    "\n",
    "def main():\n",
    "    myTurtle = turtle.Turtle()\n",
    "    myWin = turtle.Screen()\n",
    "    myPoints = [[-100, -50], [0, 100], [100, -50]]\n",
    "    sierpinski_triangle(myPoints, 3, myTurtle)\n",
    "    myWin.exitonclick()\n",
    "\n",
    "\n",
    "main()\n"
   ]
  },
  {
   "cell_type": "code",
   "execution_count": null,
   "metadata": {},
   "outputs": [],
   "source": [
    "Draw a call stack for the Tower of Hanoi problem. Assume that you start with a stack of three disks."
   ]
  },
  {
   "cell_type": "code",
   "execution_count": 1,
   "metadata": {},
   "outputs": [
    {
     "name": "stdout",
     "output_type": "stream",
     "text": [
      "Input Number of disks: 3\n",
      "Change disk 1 from tower x to tower z.\n",
      "Change disk 2 from tower x to tower y.\n",
      "Change disk 1 from tower z to tower y.\n",
      "Change disk 3 from tower x to tower z.\n",
      "Change disk 1 from tower y to tower x.\n",
      "Change disk 2 from tower y to tower z.\n",
      "Change disk 1 from tower x to tower z.\n"
     ]
    }
   ],
   "source": [
    "def tower_hanoi(disks, source, base, destination):\n",
    "    if disks == 1:\n",
    "        print('Change disk 1 from tower {} to tower {}.'.format(source, destination))\n",
    "        return\n",
    "    tower_hanoi(disks - 1, source, destination, base)\n",
    "    print('Change disk {} from tower {} to tower {}.'.format(disks, source, destination))\n",
    "    tower_hanoi(disks - 1, base, source, destination)\n",
    "disks = int(input('Input Number of disks: '))\n",
    "tower_hanoi(disks, 'x', 'y', 'z')\n"
   ]
  },
  {
   "cell_type": "code",
   "execution_count": null,
   "metadata": {},
   "outputs": [],
   "source": []
  }
 ],
 "metadata": {
  "kernelspec": {
   "display_name": "Python 3",
   "language": "python",
   "name": "python3"
  },
  "language_info": {
   "codemirror_mode": {
    "name": "ipython",
    "version": 3
   },
   "file_extension": ".py",
   "mimetype": "text/x-python",
   "name": "python",
   "nbconvert_exporter": "python",
   "pygments_lexer": "ipython3",
   "version": "3.7.1"
  }
 },
 "nbformat": 4,
 "nbformat_minor": 3
}
