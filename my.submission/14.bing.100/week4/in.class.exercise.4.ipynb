{
 "cells": [
  {
   "cell_type": "markdown",
   "metadata": {},
   "source": [
    "<h1> <a href= \"http://interactivepython.org/runestone/static/pythonds/Recursion/toctree.html\"> In Class Exercise: #4 </a>  </h1>\n",
    "<ul>\n",
    "    \n",
    "<li> Recursion vs Iteration </li>\n",
    "<li> Three Laws of Recusion</li>\n",
    "<li>  Example: Tower of Hanoi, Maze, Dynamic Programming</li>\n",
    "</ul>\n"
   ]
  },
  {
   "cell_type": "markdown",
   "metadata": {},
   "source": [
    "<h1> <a href= \"http://interactivepython.org/runestone/static/pythonds/Recursion/DiscussionQuestions.html\">4.15. Discussion Questions\n",
    " </a> \n",
    "\n",
    "</h1>\n",
    "\n"
   ]
  },
  {
   "cell_type": "markdown",
   "metadata": {},
   "source": [
    "Write both  recursive and iterative function to compute the Fibonacci sequence. \n",
    "        How does the performance of the recursive function compare to that of an iterative version?\n",
    "           F(1)=F(2) = 1\n",
    "   F(n) = F(n-1)+F(n-2), for n >= 3"
   ]
  },
  {
   "cell_type": "markdown",
   "metadata": {},
   "source": [
    "Using the dynamic programming algorithm for making change, find the smallest number of coins that you can use to make 33 cents in change. In addition to the usual coins assume that you have an 8 cent coin."
   ]
  },
  {
   "cell_type": "code",
   "execution_count": 4,
   "metadata": {},
   "outputs": [
    {
     "name": "stdout",
     "output_type": "stream",
     "text": [
      "3\n",
      "8\n",
      "34\n"
     ]
    }
   ],
   "source": [
    "#Recursive solution\n",
    "def fib(num):\n",
    "    if num == 1 or num == 2:\n",
    "        return num\n",
    "    return fib(num-1) +fib(num-2)\n",
    "\n",
    "print(fib(3))\n",
    "print(fib(5))\n",
    "print(fib(8))"
   ]
  },
  {
   "cell_type": "code",
   "execution_count": 6,
   "metadata": {},
   "outputs": [
    {
     "name": "stdout",
     "output_type": "stream",
     "text": [
      "3\n",
      "8\n",
      "34\n"
     ]
    }
   ],
   "source": [
    "#Iterative solution\n",
    "def fib(num):\n",
    "    f1 = 1\n",
    "    f2 = 1\n",
    "    for i in range(num-1):\n",
    "        f3 = f1+ f2\n",
    "        f1 = f2\n",
    "        f2 = f3\n",
    "    return f2\n",
    "\n",
    "print(fib(3))\n",
    "print(fib(5))\n",
    "print(fib(8))"
   ]
  },
  {
   "cell_type": "code",
   "execution_count": 1,
   "metadata": {},
   "outputs": [
    {
     "name": "stdout",
     "output_type": "stream",
     "text": [
      "3\n",
      "4\n",
      "7\n",
      "15\n",
      "45\n",
      "\n",
      "2\n",
      "6\n",
      "7\n",
      "14\n",
      "46\n"
     ]
    }
   ],
   "source": [
    "#dynamic programming solution\n",
    "#coin value we have 1,5,18,10,25\n",
    "\n",
    "#top-down recursion w/ memorization\n",
    "import sys\n",
    "def recursion_memorization(dictionary, val, coin_value):\n",
    "    if dictionary.get(val) is not None:\n",
    "        return dictionary.get(val)\n",
    "    \n",
    "    min_coin_amount = sys.maxsize\n",
    "    for coin_val in coin_value:\n",
    "        if val-coin_val >= 0:\n",
    "            min_coin_amount = min(min_coin_amount,recursion_memorization(dictionary, val - coin_val, coin_value)+1)\n",
    "    \n",
    "    #memorization\n",
    "    dictionary[val] = min_coin_amount\n",
    "    return min_coin_amount\n",
    "\n",
    "def helper_recursion_memorization(val):\n",
    "    dictionary = {0:0}\n",
    "    coin_value = [1,5,10,18,25]\n",
    "    return recursion_memorization(dictionary, val, coin_value)\n",
    "\n",
    "#bottom-up dynamic approach\n",
    "def dynamic_approach(val):\n",
    "    arr = [0] * (val+1)\n",
    "    coin_value = [1,5,10,8,25]\n",
    "\n",
    "    for i in range(1,val+1):\n",
    "        min_coin_amount = sys.maxsize   \n",
    "        for j in coin_value:\n",
    "            if i - j >=0:\n",
    "                min_coin_amount = min(min_coin_amount, arr[i-j] + 1)\n",
    "        arr[i] = min_coin_amount\n",
    "    return arr[val]\n",
    "        \n",
    "####test\n",
    "print(helper_recursion_memorization(33))\n",
    "print(helper_recursion_memorization(72))\n",
    "print(helper_recursion_memorization(145))\n",
    "print(helper_recursion_memorization(333))\n",
    "print(helper_recursion_memorization(1111))\n",
    "print()\n",
    "print(dynamic_approach(33))\n",
    "print(dynamic_approach(72))\n",
    "print(dynamic_approach(145))\n",
    "print(dynamic_approach(333))\n",
    "print(dynamic_approach(1111))"
   ]
  },
  {
   "cell_type": "code",
   "execution_count": null,
   "metadata": {},
   "outputs": [],
   "source": []
  }
 ],
 "metadata": {
  "kernelspec": {
   "display_name": "Python 3",
   "language": "python",
   "name": "python3"
  },
  "language_info": {
   "codemirror_mode": {
    "name": "ipython",
    "version": 3
   },
   "file_extension": ".py",
   "mimetype": "text/x-python",
   "name": "python",
   "nbconvert_exporter": "python",
   "pygments_lexer": "ipython3",
   "version": "3.7.1"
  }
 },
 "nbformat": 4,
 "nbformat_minor": 2
}
