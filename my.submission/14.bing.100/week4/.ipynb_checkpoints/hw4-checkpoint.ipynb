{
 "cells": [
  {
   "cell_type": "markdown",
   "metadata": {},
   "source": [
    "<h1> <a href= \"http://interactivepython.org/runestone/static/pythonds/Recursion/toctree.html\"> Assignment 4:  Recursion </a>  </h1>\n",
    "<ul>\n",
    "    \n",
    "<li> Recursion vs Iteration </li>\n",
    "<li> Three Laws of Recusion</li>\n",
    "<li>  Example: Tower of Hanoi, Maze, Dynamic Programming</li>\n",
    "</ul>\n"
   ]
  },
  {
   "cell_type": "markdown",
   "metadata": {},
   "source": [
    "<h3> <a href= \"\n",
    "http://interactivepython.org/runestone/static/pythonds/Recursion/pythondsProgrammingExercises.html\n",
    "    \">4.17. Programming Exercises\n",
    " </a> \n",
    "\n",
    "</h3>\n",
    "\n"
   ]
  },
  {
   "cell_type": "code",
   "execution_count": 2,
   "metadata": {},
   "outputs": [
    {
     "data": {
      "text/plain": [
       "3"
      ]
     },
     "execution_count": 2,
     "metadata": {},
     "output_type": "execute_result"
    }
   ],
   "source": [
    "Write both recursive and iterative function to compute the factorial of a number.\n",
    "How does the performance of the recursive function compare to that of an iterative version?\n",
    "   F(0)=F(1) = 1\n",
    "   F(n) = F(n-1)*n, for n >=2\n"
   ]
  },
  {
   "cell_type": "code",
   "execution_count": 9,
   "metadata": {},
   "outputs": [
    {
     "name": "stdout",
     "output_type": "stream",
     "text": [
      "--------factorial of 5--------\n",
      "recursive approach: 120 iterative approach: 120\n",
      "\n",
      "--------factorial of 8--------\n",
      "recursive approach: 40320 iterative approach: 40320\n",
      "\n",
      "--------factorial of 10--------\n",
      "recursive approach: 3628800 iterative approach: 3628800\n",
      "\n",
      "--------factorial of 20--------\n",
      "recursive approach: 2432902008176640000 iterative approach: 2432902008176640000\n"
     ]
    }
   ],
   "source": [
    "def fac_recursive (n):\n",
    "    if n <=1:\n",
    "        return 1\n",
    "    else:\n",
    "        return fac_recursive(n-1)*n\n",
    "def fac_iterative(n):\n",
    "    mul_sum = 1\n",
    "    for num in range(1,n+1):\n",
    "        mul_sum*=num\n",
    "    return mul_sum\n",
    "\n",
    "print(\"--------factorial of 5--------\")\n",
    "print(\"recursive approach: %s \"% fac_recursive(5) + \"iterative approach: %s\"% fac_iterative(5))\n",
    "print()\n",
    "print(\"--------factorial of 8--------\")\n",
    "print(\"recursive approach: %s \"% fac_recursive(8) + \"iterative approach: %s\"% fac_iterative(8))\n",
    "print()\n",
    "print(\"--------factorial of 10--------\")\n",
    "print(\"recursive approach: %s \"% fac_recursive(10) + \"iterative approach: %s\"% fac_iterative(10))\n",
    "print()\n",
    "print(\"--------factorial of 20--------\")\n",
    "print(\"recursive approach: %s \"% fac_recursive(20) + \"iterative approach: %s\"% fac_iterative(20))"
   ]
  },
  {
   "cell_type": "code",
   "execution_count": null,
   "metadata": {},
   "outputs": [],
   "source": [
    "Write both  recursive and iterative function to compute the Fibonacci sequence. \n",
    "        How does the performance of the recursive function compare to that of an iterative version?\n",
    "           F(1)=F(2) = 1\n",
    "   F(n) = F(n-1)+F(n-2), for n >= 3"
   ]
  },
  {
   "cell_type": "code",
   "execution_count": 27,
   "metadata": {},
   "outputs": [
    {
     "name": "stdout",
     "output_type": "stream",
     "text": [
      "--------1st fibonacci --------\n",
      "recursive approach: 1 iterative approach: 1\n",
      "\n",
      "--------2nd fibonacci --------\n",
      "recursive approach: 1 iterative approach: 1\n",
      "\n",
      "--------3rd fibonacci --------\n",
      "recursive approach: 2 iterative approach: 2\n",
      "\n",
      "--------4th fibonacci --------\n",
      "recursive approach: 3 iterative approach: 3\n",
      "\n",
      "--------5th fibonacci --------\n",
      "recursive approach: 5 iterative approach: 5\n",
      "\n",
      "--------6th fibonacci --------\n",
      "recursive approach: 8 iterative approach: 8\n",
      "\n",
      "--------7th fibonacci --------\n",
      "recursive approach: 13 iterative approach: 13\n",
      "\n",
      "--------8th Fibonacci--------\n",
      "recursive approach: 21 iterative approach: 21\n",
      "\n",
      "--------50th Fibonacci--------\n",
      "recursive approach: 55 iterative approach: 55\n",
      "\n",
      "--------100th Fibonacci--------\n",
      "recursive approach: 6765 iterative approach: 6765\n"
     ]
    }
   ],
   "source": [
    "def fib_recursive (n):\n",
    "    if n <=0:\n",
    "        return 0\n",
    "    elif n<=2:\n",
    "        return 1\n",
    "    else:\n",
    "        return fib_recursive(n-1)+fib_recursive(n-2)\n",
    "def fib_iterative (n):\n",
    "    num1 = 0\n",
    "    num2 = 1\n",
    "    total = 0\n",
    "    \n",
    "    for i in range(n-1):\n",
    "        total = num1 + num2\n",
    "        num1 = num2\n",
    "        num2 = total    \n",
    "    return num2\n",
    "\n",
    "print(\"--------1st fibonacci --------\")\n",
    "print(\"recursive approach: %s \"% fib_recursive(1) + \"iterative approach: %s\"% fib_iterative(1))\n",
    "print()\n",
    "print(\"--------2nd fibonacci --------\")\n",
    "print(\"recursive approach: %s \"% fib_recursive(2) + \"iterative approach: %s\"% fib_iterative(2))\n",
    "print()\n",
    "print(\"--------3rd fibonacci --------\")\n",
    "print(\"recursive approach: %s \"% fib_recursive(3) + \"iterative approach: %s\"% fib_iterative(3))\n",
    "print()\n",
    "print(\"--------4th fibonacci --------\")\n",
    "print(\"recursive approach: %s \"% fib_recursive(4) + \"iterative approach: %s\"% fib_iterative(4))\n",
    "print()\n",
    "print(\"--------5th fibonacci --------\")\n",
    "print(\"recursive approach: %s \"% fib_recursive(5) + \"iterative approach: %s\"% fib_iterative(5))\n",
    "print()\n",
    "print(\"--------6th fibonacci --------\")\n",
    "print(\"recursive approach: %s \"% fib_recursive(6) + \"iterative approach: %s\"% fib_iterative(6))\n",
    "print()\n",
    "print(\"--------7th fibonacci --------\")\n",
    "print(\"recursive approach: %s \"% fib_recursive(7) + \"iterative approach: %s\"% fib_iterative(7))\n",
    "print()\n",
    "print(\"--------8th Fibonacci--------\")\n",
    "print(\"recursive approach: %s \"% fib_recursive(8) + \"iterative approach: %s\"% fib_iterative(8))\n",
    "print()\n",
    "print(\"--------50th Fibonacci--------\")\n",
    "print(\"recursive approach: %s \"% fib_recursive(10) + \"iterative approach: %s\"% fib_iterative(10))\n",
    "print()\n",
    "print(\"--------100th Fibonacci--------\")\n",
    "print(\"recursive approach: %s \"% fib_recursive(20) + \"iterative approach: %s\"% fib_iterative(20))"
   ]
  },
  {
   "cell_type": "code",
   "execution_count": 1,
   "metadata": {},
   "outputs": [],
   "source": [
    "import turtle\n",
    "import random\n",
    "\n",
    "def tree(branchLen,t, color):\n",
    "    turtle.colormode(255)\n",
    "    if branchLen > 5:\n",
    "        angle = random.randint(15,45)\n",
    "        branchLen_sub = random.randint(10,20)\n",
    "        t.pensize(branchLen/10)\n",
    "        t.color((0,min(255, color),0))\n",
    "        t.forward(branchLen)\n",
    "        t.right(angle/2)\n",
    "        tree(branchLen-branchLen_sub,t, color*2)\n",
    "        t.left(angle)\n",
    "        tree(branchLen-branchLen_sub,t, color*2)\n",
    "        t.right(angle/2)\n",
    "        t.backward(branchLen)\n",
    "\n",
    "def main():\n",
    "    t = turtle.Turtle()\n",
    "    myWin = turtle.Screen()\n",
    "    t.left(90)\n",
    "    t.up()\n",
    "    t.backward(100)\n",
    "    t.down()\n",
    "    t.color(\"green\")\n",
    "    tree(75,t,10)\n",
    "    myWin.exitonclick()\n",
    "\n",
    "main()\n"
   ]
  },
  {
   "cell_type": "markdown",
   "metadata": {},
   "source": [
    "\n",
    "Modify the recursive tree program to produce a more realistic looking tree with various brnach length/thickness, and braching angles."
   ]
  },
  {
   "cell_type": "raw",
   "metadata": {},
   "source": [
    "Modify the thickness of the branches so that as the branchLen gets smaller, the line gets thinner.\n",
    "Modify the color of the branches so that as the branchLen gets very short it is colored like a leaf.\n",
    "Modify the angle used in turning the turtle so that at each branch point the angle is selected at random in some range. For example choose the angle between 15 and 45 degrees. Play around to see what looks good.\n",
    "Modify the branchLen recursively so that instead of always subtracting the same amount you subtract a random amount in some range.\n",
    "If you implement all of the above ideas you will have a very realistic looking tree."
   ]
  },
  {
   "cell_type": "raw",
   "metadata": {},
   "source": [
    "Using the recursive rules as described, draw a Sierpinski triangle using paper and pencil."
   ]
  },
  {
   "cell_type": "code",
   "execution_count": null,
   "metadata": {},
   "outputs": [],
   "source": [
    "Draw a call stack for the Tower of Hanoi problem. Assume that you start with a stack of three disks."
   ]
  },
  {
   "cell_type": "code",
   "execution_count": null,
   "metadata": {},
   "outputs": [],
   "source": [
    "Assume we have 3 rods A,B,C, 3 plates 1,2,3, and we define our recursive function tower(numberOfDistLeft, sourceRod, destinationRod, freeRod)\n",
    "Initially, all 3 plates are placed at rod A, in the order 1,2,3 from top to bottom\n",
    "\n",
    "\n",
    "tower(3,A,B,C)  -> tower(2,C,B,A)  ->  tower(2,C,B,A) -> tower(2,C,B,A) -> tower(2,C,B,A) -> tower(2,C,B,A) ->(continue below)\n",
    "                   tower(2,A,C,B)      tower(1,B,C,A)    tower(1,B,C,A)    tower(1,B,C,A)    tower(1,B,C,A)\n",
    "                                       tower(1,A,B,C)    tower(0,C,B,A)    tower(0,C,B,A)\n",
    "                                                         tower(0,A,B,C)\n",
    "                   \n",
    "   tower(2,C,B,A)    tower(2,C,B,A)    tower(2,C,B,A)    tower(1,A,B,C)    tower(1,A,B,C)    tower(1,A,B,C)\n",
    "-> tower(0,A,C,B) -> tower(0,A,C,B) ->                -> tower(1,C,A,B) -> tower(0,B,A,C) -> tower(0,B,A,C) ->(continue below)\n",
    "   tower(0,B,A,C)                                                          tower(0,C,B,A)\n",
    "\n",
    "   tower(1,A,B,C)    tower(0,C,B,A)    \n",
    "->                -> tower(0,A,C,B)\n",
    "    "
   ]
  }
 ],
 "metadata": {
  "kernelspec": {
   "display_name": "Python 3",
   "language": "python",
   "name": "python3"
  },
  "language_info": {
   "codemirror_mode": {
    "name": "ipython",
    "version": 3
   },
   "file_extension": ".py",
   "mimetype": "text/x-python",
   "name": "python",
   "nbconvert_exporter": "python",
   "pygments_lexer": "ipython3",
   "version": "3.7.1"
  }
 },
 "nbformat": 4,
 "nbformat_minor": 2
}
