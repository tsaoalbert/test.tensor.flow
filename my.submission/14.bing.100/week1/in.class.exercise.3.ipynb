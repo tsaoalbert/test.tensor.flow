{
 "cells": [
  {
   "cell_type": "markdown",
   "metadata": {},
   "source": [
    "<h1> In Class Exercise 3 <a href='http://interactivepython.org/runestone/static/pythonds/BasicDS/toctree.html'> \n",
    "(Basic Data Structures) </a> </h1>"
   ]
  },
  {
   "cell_type": "markdown",
   "metadata": {},
   "source": [
    "<h1> <a href='\n",
    "http://interactivepython.org/runestone/static/pythonds/BasicDS/DiscussionQuestions.html   \n",
    "    '>  Discussion Questions  </a> </h1>"
   ]
  },
  {
   "cell_type": "raw",
   "metadata": {},
   "source": [
    "Convert the following values to binary using “divide by 2.” Show the stack of remainders.\n",
    "17\n",
    "45\n",
    "96"
   ]
  },
  {
   "cell_type": "code",
   "execution_count": null,
   "metadata": {},
   "outputs": [],
   "source": [
    "Answer:\n",
    "##############################################################\n",
    "17 \n",
    "\n",
    "17%2      8%2     4%2        2%2          1%2             0\n",
    "------    -----   ------     --------     -----------      ----------\n",
    "|1     -> |1 0  ->|1 0 0  -> |1 0 0 0  -> | 1 0 0 0 1  ->  |1 0 0 0 1   \n",
    "------    -----   ------     --------     ----------=      ----------\n",
    "\n",
    "17 = 1*(2^4) + 0 *(2^3) + 0*(2^2) + 0*(2^1) + 1*(2^0)\n",
    "##############################################################\n",
    "45\n",
    "\n",
    "45%2     22%2     11%2      5%2          2%2               1%2             0\n",
    "-----    -----    ------    --------     -----------      -----------     ------------\n",
    "|1    -> |1 0  -> |1 0 1 -> |1 0 1 1 ->  | 1 0 1 1 0 ->   |1 0 1 1 0 1 -> |1 0 1 1 0 1\n",
    "-----    -----    ------    --------     -----------      -----------     ------------\n",
    "\n",
    "45 = 1*(2^5) + 0*(2^4) + 1 *(2^3) + 1*(2^2) + 0*(2^1) + 1*(2^0)\n",
    "##############################################################\n",
    "96\n",
    "\n",
    "96%2     48%2      24%2      12%2        6%2           3%2              1%2               0\n",
    "-----    -----     ------    --------    ----------    ------------     --------------    ---------------\n",
    "|0    -> |0 0   -> |0 0 0 -> |0 0 0 0 -> |0 0 0 0 0 -> |0 0 0 0 0 1  -> |0 0 0 0 0 1 1 -> |0 0 0 0 0 1 1\n",
    "-----    -----     ------    --------    ----------    ------------     --------------    ---------------\n",
    "\n",
    "96 = 1*(2^6) + 1*(2^5) + 0*(2^4) + 0 *(2^3) + 0*(2^2) + 0*(2^1) + 0*(2^0)"
   ]
  },
  {
   "cell_type": "raw",
   "metadata": {},
   "source": [
    "\n",
    "Convert the following infix expressions to both prefix and postfix (use full parentheses):\n",
    "(A+B)*(C+D)*(E+F)\n",
    "A+((B+C)*(D+E))\n",
    "A*B*C*D+E+F\n"
   ]
  },
  {
   "cell_type": "code",
   "execution_count": null,
   "metadata": {},
   "outputs": [],
   "source": [
    "Answer:\n",
    "##############################################################\n",
    "(A+B)*(C+D)*(E+F)\n",
    "\n",
    "prefix\n",
    "**+AB+CD+EF\n",
    "postfix\n",
    "AB+CD+*EF+*\n",
    "##############################################################\n",
    "A+((B+C)*(D+E))\n",
    "\n",
    "prefix\n",
    "+A*+BC+DE\n",
    "postfix\n",
    "ABC+DE+*+\n",
    "##############################################################\n",
    "A*B*C*D+E+F\n",
    "\n",
    "prefix\n",
    "++***ABCDEF\n",
    "postfix\n",
    "AB*C*D*E+F+"
   ]
  },
  {
   "cell_type": "code",
   "execution_count": null,
   "metadata": {},
   "outputs": [],
   "source": []
  },
  {
   "cell_type": "markdown",
   "metadata": {},
   "source": [
    "<div class=\"image123\">\n",
    "    <div style=\"float:left;margin-right:55px;\">\n",
    "    <figure>\n",
    "        <img src=\"images/postfix.png\" height=\"300\" width=\"200\"  />\n",
    "        <figcaption style=\"text-align:center;\">  </figcaption>\n",
    "    </figure>\n",
    "    </div>\n",
    "    <div style=\"float:left;margin-right:55px;\">\n",
    "    <figure>\n",
    "        <img class=\"middle-img\" src=\"images/prefix.png\" height=\"300\" width=\"200\" />\n",
    "        <figcaption style=\"text-align:center;\"> </figcaption>\n",
    "    </figure>\n",
    "    </div>\n",
    "    <div style=\"float:left;margin-right:55px;\">\n",
    "    <figure>\n",
    "        <img src=\"images/infix.png\" height=\"400\" width=\"400\" />\n",
    "        <figcaption style=\"text-align:center;\">  </figcaption>\n",
    "    </figure>\n",
    "    </div>\n",
    "</div>"
   ]
  },
  {
   "cell_type": "raw",
   "metadata": {},
   "source": [
    "Convert the following infix expressions to postfix using the direct conversion algorithm as shown below\n",
    "Fill in the rule that is used at each step in the following table.\n",
    "(A+B)*(C+D)*(E+F)\n",
    "Show the stack as the conversion takes place.\n"
   ]
  },
  {
   "cell_type": "markdown",
   "metadata": {},
   "source": [
    "Direct Conversion Algorithm: \n",
    "Create an empty stack called opstack for keeping operators. \n",
    "Create an empty list for output.\n",
    "Convert the input infix string to a list by using the string method split.\n",
    "Scan the token list from left to right.\n",
    "\n",
    "* A. If the token is an operand, append it to the end of the output list.\n",
    "* B. If the token is a (, push it on the opstack.\n",
    "* C. If the token is a ), pop the opstack until the corresponding ( is removed. Append each operator to the end of the output list.\n",
    "* D. If the token is an arithmatic operator, *, /, +, or -, push it on the opstack. \n",
    "* E. However, first remove any operators already on the opstack that have higher or equal precedence and append them to the output list.\n",
    "* F. When the input expression has been completely processed, append any operators still on the stack  to the end of the output list."
   ]
  },
  {
   "cell_type": "markdown",
   "metadata": {},
   "source": [
    "<div class=\"image123\">\n",
    "    <div style=\"float:left;margin-right:55px;\">\n",
    "    <figure>\n",
    "        <img src=\"images/infix.postfix.1.png\" height=\"300\" width=\"900\"  />\n",
    "        <figcaption style=\"text-align:center;\">  </figcaption>\n",
    "    </figure>\n",
    "    </div>\n",
    "\n",
    "</div>"
   ]
  },
  {
   "cell_type": "raw",
   "metadata": {},
   "source": [
    "Convert the following infix expressions to postfix using the direct conversion algorithm. \n",
    "A+((B+C)*(D+E))\n",
    "Fill in the rule that is used at each step in the following table.\n",
    "Show the stack as the conversion takes place."
   ]
  },
  {
   "cell_type": "markdown",
   "metadata": {},
   "source": [
    "<div class=\"image123\">\n",
    "    <div style=\"float:left;margin-right:55px;\">\n",
    "    <figure>\n",
    "        <img src=\"images/infix.postfix.2.png\" height=\"300\" width=\"900\"  />\n",
    "        <figcaption style=\"text-align:center;\">  </figcaption>\n",
    "    </figure>\n",
    "    </div>\n",
    "\n",
    "</div>"
   ]
  },
  {
   "cell_type": "raw",
   "metadata": {},
   "source": [
    "Convert the following infix expressions to postfix using the direct conversion algorithm. \n",
    "Fill in the rule that is used at each step in the following table.\n",
    "A*B*C*D+E+F\n",
    "Show the stack as the conversion takes place."
   ]
  },
  {
   "cell_type": "markdown",
   "metadata": {},
   "source": [
    "<div class=\"image123\">\n",
    "    <div style=\"float:left;margin-right:55px;\">\n",
    "    <figure>\n",
    "        <img src=\"images/infix.postfix.3.png\" height=\"300\" width=\"900\"  />\n",
    "        <figcaption style=\"text-align:center;\">  </figcaption>\n",
    "    </figure>\n",
    "    </div>\n",
    "\n",
    "</div>"
   ]
  },
  {
   "cell_type": "raw",
   "metadata": {},
   "source": []
  },
  {
   "cell_type": "code",
   "execution_count": null,
   "metadata": {},
   "outputs": [],
   "source": [
    "Evaluate the following postfix expressions. \n",
    "2 3 * 4 +\n",
    "1 2 + 3 + 4 + 5 +\n",
    "1 2 3 4 5 * + * +\n",
    "Show the stack as each operand and operator is processed.\n"
   ]
  },
  {
   "cell_type": "code",
   "execution_count": null,
   "metadata": {},
   "outputs": [],
   "source": [
    "Answer:\n",
    "###############\n",
    "2 3 * 4 + \n",
    "Stack             \n",
    "-----------    ----------     ---------    ----------    ----------\n",
    "|2          -> |2 3        -> |6        -> |6 4       -> |10\n",
    "-----------    ----------     ---------    ----------    ----------             \n",
    "\n",
    "###############\n",
    "1 2 + 3 + 4 + 5 +\n",
    "Stack\n",
    "----------    ----------    ---------    ----------    ----------    ----------    ---------    ---------    ---------\n",
    "|1         -> |1 2       -> |3        -> |3 3       -> |6         -> |6 4       -> |10       -> |10 5     -> |15\n",
    "----------    ----------    ---------    ----------    ----------    ----------    ---------    ---------    ---------\n",
    "\n",
    "###############\n",
    "1 2 3 4 5 * + * +\n",
    "Stack\n",
    "----     -----    -----     -------     ---------     --------     --------    --------    ------\n",
    "|1   ->  |1 2  -> |1 2 3 -> |1 2 3 4 -> |1 2 3 4 5 -> |1 2 3 20 -> |1 2 23  -> |1 46    -> |47     \n",
    "----     -----    -----     -------     ---------     --------     --------    --------    ------\n",
    "\n"
   ]
  },
  {
   "cell_type": "markdown",
   "metadata": {},
   "source": [
    "The alternative implementation of the Queue ADT is to use a list such that the rear of the queue is at the end of the list. \n",
    "What would this mean for Big-O performance? \n",
    "Hints: In this case, enqueue() and dequeue() becomes the append and pop(0) methods of the Python List.\n",
    "\n",
    "######\n",
    "Answer: \n",
    "For enqueue(), the average running time is O(1), the worst running time is O(n) when the internal array size grows beyond the allocation space; in this case we need to reallocate space and place every element in the new space\n",
    "For dequeue(), the average running time is O(n), because after removing the head element we need to shift every element forward, the worst time is O(n)\n"
   ]
  },
  {
   "cell_type": "markdown",
   "metadata": {},
   "source": [
    "What is the result of carrying out both steps of the singly linked list add method in reverse order? \n",
    "What kind of reference results? \n",
    "What types of problems may result?\n",
    "(Hints: see the graphs below.)\n",
    "\n",
    "######\n",
    "Answer: \n",
    "If we do in the way shown in the right graph, we lose the whole linkedList after headNode.\n",
    "If we still want to stick to the way in the right graph, we need to save the reference of linkedListNode(93) in a temporary node reference saying tmp_node, before linking headNode to linkedListNode(26), i.e before doing self.head = temp; after doing self.head = temp, we link temp to linkedListNode(93) by doing temp.setNext = tmp_node"
   ]
  },
  {
   "cell_type": "markdown",
   "metadata": {},
   "source": [
    "<div class=\"image123\">\n",
    "    <div style=\"float:left;margin-right:55px;\">\n",
    "    <figure>\n",
    "        <img src=\"images/list.add.node.at.front.png\" height=\"400\" width=\"400\"  />\n",
    "        <figcaption style=\"text-align:left;\">   Add a node (26) <br/>\n",
    "                    Step 1: temp.setNext(self.head)  <br/>\n",
    "        Step 2: self.head = temp\n",
    "        </figcaption>\n",
    "    </figure>\n",
    "    </div>\n",
    "    <div style=\"float:left;margin-right:55px;\">\n",
    "    <figure>\n",
    "        <img src=\"images/list.add.node.at.front.wrong.png\" height=\"400\" width=\"400\"  />\n",
    "        <figcaption style=\"text-align:left;\">   Erroneous node addition<br/>\n",
    "        Step 2: self.head = temp<br/>\n",
    "                            Step 1: temp.setNext(self.head)\n",
    "        </figcaption>\n",
    "    </figure>\n",
    "    </div> \n",
    "</div>"
   ]
  },
  {
   "cell_type": "markdown",
   "metadata": {},
   "source": [
    "What is the time complexity of the singly linked list remove method when the item to be removed is in the last node (that is, the pop() method). Explain the reason.\n",
    "With the tail pointer, the time comlexity for the append method can be improved to O(1). \n",
    "Would the  tail pointer also improves the performance of the pop method to O(1) like the append method?"
   ]
  },
  {
   "cell_type": "markdown",
   "metadata": {},
   "source": [
    "With the tail pointer, the time comlexity for the append method can be improved to O(1). \n",
    "Explain the reason.\n",
    "######\n",
    "Answer:\n",
    "We have direct access to the last node of the linklist, so we know where to append the new node; previously we don't have direct access to the last node, so we have to walk all the way to the last node, which means we will have O(n), where n is the length of the linkedlist\n",
    "\n",
    "\n",
    "\n",
    "Would the  tail pointer also improve the performance of the pop method to O(1) like the append method?\n",
    "######\n",
    "Answer:\n",
    "No it won't, and the running time will still be O(n)."
   ]
  },
  {
   "cell_type": "markdown",
   "metadata": {},
   "source": [
    "<div class=\"image123\">\n",
    "    <div style=\"float:left;margin-right:55px;\">\n",
    "    <figure>\n",
    "        <img src=\"images/list.remove.tail.png\" height=\"300\" width=\"900\"  />\n",
    "        <figcaption style=\"text-align:center;\">  </figcaption>\n",
    "    </figure>\n",
    "    </div>\n",
    "\n",
    "</div>"
   ]
  },
  {
   "cell_type": "markdown",
   "metadata": {},
   "source": [
    "With an additional tail pointer in the list node, how can we improve the implementation of the Queue ADT such that both enqueue() and dequeue() take only O(1)? \n",
    "\n",
    "######\n",
    "Answer: \n",
    "I don't believe we can achieve this without the help of extra data structure.\n",
    "As shown above, to remove current tail from the linkedlist we can simple do previous.setNext = null, and tail = previous(tail points to linkedListNode(77)), and these operations take O(1). However we have no way to make previous pointing to linkedListNode(17) unless starting from the head node and walking all the way to linkedListNode(17), which takes O(n)"
   ]
  },
  {
   "cell_type": "markdown",
   "metadata": {},
   "source": [
    "(Repeat the above question for the doubly linked lists.)\n",
    "What is the time complexity of the doubly linked list remove method  when the item to be removed is in the last node. Explain the reason.\n",
    "######\n",
    "Answer:\n",
    "O(1). \n",
    "Would the time complexity change if the item to be removed is not the last node?\n",
    "List the codes for the remove method of the doubly circular linked list.\n",
    "######\n",
    "Answer:\n",
    "No, it takes O(1) to remove any node on a double linkedList, as long as the reference of the node to be removed is provided.\n",
    "\n",
    "head.setPrev(tail.getPrev)\n",
    "head.getPrev.setNext(head)\n",
    "tail.setPrev(null)\n",
    "tail.setNext(null)\n",
    "tail = head.getPrev"
   ]
  },
  {
   "cell_type": "markdown",
   "metadata": {},
   "source": [
    "<div class=\"image123\">\n",
    "    <div style=\"float:left;margin-right:55px;\">\n",
    "    <figure>\n",
    "        <img src=\"images/doubly.linked.remove.tail.png\" height=\"600\" width=\"600\"  />\n",
    "        <figcaption style=\"text-align:center;\">    Remove the last node  </figcaption>\n",
    "    </figure>\n",
    "    </div>\n",
    "</div>"
   ]
  },
  {
   "cell_type": "markdown",
   "metadata": {},
   "source": [
    "Explain how the remove method works when the item is in the only node in both singly and doubly circular linked list. Write the codes to implement the methods for both  lists. (Hints: the implementations of both methods in this case should be the same.)\n",
    "\n",
    "######\n",
    "Answer:\n",
    "To remove the only node in both forms of linkedLists, we only need to set the head pointer to null; this is because both linkedList will have no node after removing, and this translates into head poiner pointing to null.\n",
    "self.head = null"
   ]
  },
  {
   "cell_type": "markdown",
   "metadata": {},
   "source": [
    "<div class=\"image123\">\n",
    "    <div style=\"float:left;margin-right:55px;\">\n",
    "    <figure>\n",
    "        <img src=\"images/doubly.linked.insertion.empty.png\" height=\"300\" width=\"300\"  />\n",
    "        <figcaption style=\"text-align:center;\">  </figcaption>\n",
    "    </figure>\n",
    "    </div>\n",
    "\n",
    "</div>"
   ]
  },
  {
   "cell_type": "code",
   "execution_count": null,
   "metadata": {},
   "outputs": [],
   "source": []
  }
 ],
 "metadata": {
  "kernelspec": {
   "display_name": "Python 3",
   "language": "python",
   "name": "python3"
  },
  "language_info": {
   "codemirror_mode": {
    "name": "ipython",
    "version": 3
   },
   "file_extension": ".py",
   "mimetype": "text/x-python",
   "name": "python",
   "nbconvert_exporter": "python",
   "pygments_lexer": "ipython3",
   "version": "3.7.1"
  }
 },
 "nbformat": 4,
 "nbformat_minor": 2
}
