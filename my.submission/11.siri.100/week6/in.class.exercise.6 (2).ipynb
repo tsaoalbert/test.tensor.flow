{
 "cells": [
  {
   "cell_type": "markdown",
   "metadata": {},
   "source": [
    "<h1>\n",
    "<a href='http://interactivepython.org/runestone/static/pythonds/Trees/toctree.html'> \n",
    "    In Class Exercise #6: Trees and Tree Algorithms  </a>\n",
    "    </h1>"
   ]
  },
  {
   "cell_type": "markdown",
   "metadata": {},
   "source": [
    "<h1> <a href='http://interactivepython.org/runestone/static/pythonds/Trees/DiscussionQuestions.html'>\n",
    "6.21. Discussion Questions  </a></h1>"
   ]
  },
  {
   "cell_type": "markdown",
   "metadata": {},
   "source": [
    "Q#1:\n",
    "Trace the algorithm for creating an expression tree for the expression (4∗8)/6−3."
   ]
  },
  {
   "cell_type": "markdown",
   "metadata": {},
   "source": [
    "Q#2:\n",
    "Consider the following list of integers: [10,9,8,7,6,5,4,3,2,1]. Show the binary heap resulting from inserting the integers one at a time.\n",
    "Hints: run the program from the lecture notes"
   ]
  },
  {
   "cell_type": "code",
   "execution_count": 1,
   "metadata": {},
   "outputs": [],
   "source": [
    "import math\n",
    "# Draw a Tree\n",
    "LINK =\"-\"\n",
    "SPACE=\" \"\n",
    "PIPE=\"+\"\n",
    "dot = \".\"\n",
    "\n",
    "def fieldLength (t, grid,s1=SPACE,s2=SPACE):\n",
    "    t = str(t)\n",
    "    n = len(t)\n",
    "    n1 = (grid-n)//2\n",
    "    n2 = grid-n - n1\n",
    "    t = s1*n1 + t + s2*n2\n",
    "    return t\n",
    "def printMatrix (M):\n",
    "    s=\"\"\n",
    "    for i in range ( len(M)):\n",
    "        for j in range ( len(M[i])):\n",
    "            s+= M[i][j]\n",
    "        s += \"\\n\"\n",
    "    print(s,\"\\n\"*2)\n",
    "    \n",
    "def addOneLink (M,i,j, grid, left):\n",
    "    s = LINK*grid\n",
    "    if left:\n",
    "        a=j-1; b=c=-1;\n",
    "        t = fieldLength( PIPE, grid, SPACE, dot)\n",
    "    else: \n",
    "        a=j+1; b = len(M[i]); c = 1 \n",
    "        t=fieldLength( PIPE, grid, dot, SPACE)\n",
    "    for k in range (a,b,c):\n",
    "        y = M[i+1][k]\n",
    "        if ( type(y)==str):\n",
    "            M[i][k]=s\n",
    "        else:\n",
    "            M[i][k]= t\n",
    "            break\n",
    "    \n",
    "def addLinks(M,i,j, grid, L):\n",
    "    n = len (M[0])\n",
    "    s1=s2=SPACE\n",
    "    x=M[i][j]\n",
    "    if ( x*2 < n ):\n",
    "        addOneLink(M,i,j, grid, True)\n",
    "        s1 = dot\n",
    "    if ( x*2+1 < n ):\n",
    "        addOneLink(M,i,j, grid, False)\n",
    "        s2 = dot\n",
    "    M[i][j] = fieldLength( L[x], grid,s1,s2 )\n",
    "\n",
    "def drawTree(bh, grid):\n",
    "    n = len(bh.heapList)\n",
    "    L=[SPACE*grid]*n    \n",
    "    h = int (math.log(n, 2)) + 1\n",
    "    M=[ L.copy() for i in range(h) ]\n",
    "    bh.trace (1,M)\n",
    "    for i in range ( len(M)):\n",
    "        for j in range ( n ):\n",
    "            x = M[i][j]\n",
    "            if (type(x)!=str):\n",
    "                addLinks(M,i,j, grid, bh.heapList)\n",
    "    printMatrix(M)"
   ]
  },
  {
   "cell_type": "code",
   "execution_count": 2,
   "metadata": {},
   "outputs": [],
   "source": [
    "class BinHeap:\n",
    "  def __init__(self):\n",
    "    self.heapList = [0]\n",
    "    self.currentSize = 0\n",
    "  def __len__ (self):\n",
    "    return self.currentSize\n",
    "\n",
    "  def __str__(self):\n",
    "        return str ( self.heapList )\n",
    "    \n",
    "  def trace (self, i, M, cnt=0,level=0):\n",
    "        if i < len(self.heapList):\n",
    "            cnt = self.trace (2*i,M,cnt,level+1)\n",
    "            M[level][cnt]= i\n",
    "            cnt += 1\n",
    "            cnt = self.trace (2*i+1,M,cnt,level+1)\n",
    "        return cnt\n",
    "    \n",
    "\n",
    "        \n",
    "  def percUp(self,i):\n",
    "    while i // 2 > 0:\n",
    "      if self.heapList[i] < self.heapList[i // 2]:\n",
    "        tmp = self.heapList[i // 2]\n",
    "        self.heapList[i // 2] = self.heapList[i]\n",
    "        self.heapList[i] = tmp\n",
    "      i = i // 2\n",
    "\n",
    "  def percDown(self,i):\n",
    "    while (i * 2) <= self.currentSize:\n",
    "      mc = self.minChild(i)\n",
    "      if self.heapList[i] >self.heapList[mc]:\n",
    "        tmp = self.heapList[i]\n",
    "        self.heapList[i] = self.heapList[mc]\n",
    "        self.heapList[mc] = tmp\n",
    "      i = mc\n",
    "\n",
    "  def minChild(self,i):\n",
    "    if i * 2 + 1 > self.currentSize:\n",
    "      return i * 2\n",
    "    else:\n",
    "      if self.heapList[i*2] < self.heapList[i*2+1]:\n",
    "        return i * 2\n",
    "      else:\n",
    "        return i * 2 + 1\n",
    "\n",
    "  def insert(self,k):\n",
    "    self.heapList.append(k)\n",
    "    self.currentSize = self.currentSize + 1\n",
    "    self.percUp(self.currentSize)\n",
    "\n",
    "  def delMin(self):\n",
    "    retval = self.heapList[1]\n",
    "    self.heapList[1] = self.heapList[self.currentSize]\n",
    "    self.currentSize = self.currentSize - 1\n",
    "    self.heapList.pop()\n",
    "    self.percDown(1)\n",
    "    return retval\n",
    "\n",
    "  def draw(self):\n",
    "    drawTree (self,5)\n",
    "    \n",
    "  def buildHeap(self,alist):\n",
    "    i = len(alist) // 2\n",
    "    self.currentSize = len(alist)\n",
    "    self.heapList = [0] + alist[:]\n",
    "    while (i > 0):\n",
    "      self.percDown(i)\n",
    "      i = i -1"
   ]
  },
  {
   "cell_type": "code",
   "execution_count": 3,
   "metadata": {},
   "outputs": [
    {
     "name": "stdout",
     "output_type": "stream",
     "text": [
      "[0, 1, 2, 4, 3, 6, 5, 8, 10, 7, 9]\n",
      "1\n",
      "2\n",
      "3\n",
      "4\n",
      "5\n",
      "6\n",
      "7\n",
      "8\n",
      "9\n",
      "10\n"
     ]
    }
   ],
   "source": [
    "bh = BinHeap()\n",
    "bh.buildHeap( [10,9,8,7,6,5,4,3,2,1])\n",
    "print (bh)\n",
    "n=len(bh)\n",
    "for i in range (n):\n",
    "    print(bh.delMin())"
   ]
  },
  {
   "cell_type": "markdown",
   "metadata": {},
   "source": [
    "Q#3:\n",
    "Draw the binary search tree that results from inserting the following keys in the order given:  \n",
    "b = [51, 52, 64, 41, 21, 40, 76, 67, 48, 91, 26, 24, 97, 8, 24]"
   ]
  },
  {
   "cell_type": "markdown",
   "metadata": {},
   "source": [
    "                              51\n",
    "                              / \\\n",
    "                            41  52\n",
    "                            /    \\\n",
    "                          21      64\n",
    "                         / \\      / \\\n",
    "                        8   40   67  76\n",
    "                           /  \\        \\\n",
    "                          26   48       91\n",
    "                          /               \\\n",
    "                         24                97"
   ]
  },
  {
   "cell_type": "code",
   "execution_count": null,
   "metadata": {},
   "outputs": [],
   "source": [
    "                           +--------51----+                                \n",
    "2\n",
    "       +------------------41----+        52----+                           \n",
    "3\n",
    "  +---21--------------+        48             64---------+                 \n",
    "4\n",
    "  8              +---40                             +---76----+            \n",
    "5\n",
    "            +---26                                 67        91----+       \n",
    "6\n",
    "           24                                                     97   "
   ]
  },
  {
   "cell_type": "markdown",
   "metadata": {},
   "source": [
    "Q4:\n",
    "Given the following tree, perform the appropriate rotations to bring it back into balance.\n",
    "<div class=\"parse.tree\">\n",
    "    <div style=\"float:left;margin-top:55px;\">\n",
    "    <figure>\n",
    "        <img src=\"images/exer.5.13.png\"  width=\"200\" />\n",
    "        <figcaption style=\"text-align:center;\">  </figcaption>\n",
    "    </figure>\n",
    "    </div>\n",
    "</div>"
   ]
  },
  {
   "cell_type": "code",
   "execution_count": null,
   "metadata": {},
   "outputs": [],
   "source": [
    "                        C0\n",
    "                       /  \\\n",
    "                    B1    E0\n",
    "                     /     / \\\n",
    "                    A0    D0  F0\n",
    "       +.............D...............+\n",
    "  +....B.....+                       E.........+\n",
    "  A          C                                 F"
   ]
  }
 ],
 "metadata": {
  "kernelspec": {
   "display_name": "Python 3",
   "language": "python",
   "name": "python3"
  },
  "language_info": {
   "codemirror_mode": {
    "name": "ipython",
    "version": 3
   },
   "file_extension": ".py",
   "mimetype": "text/x-python",
   "name": "python",
   "nbconvert_exporter": "python",
   "pygments_lexer": "ipython3",
   "version": "3.7.1"
  }
 },
 "nbformat": 4,
 "nbformat_minor": 2
}
