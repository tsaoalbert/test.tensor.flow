{
 "cells": [
  {
   "cell_type": "markdown",
   "metadata": {},
   "source": [
    "<h1>\n",
    "<a href='http://interactivepython.org/runestone/static/pythonds/Trees/toctree.html'> \n",
    "    HW #6: Trees and Tree Algorithms  </a> </h1>"
   ]
  },
  {
   "cell_type": "markdown",
   "metadata": {},
   "source": [
    "<h3> \n",
    "The questions are taken from  <a href='\n",
    "http://interactivepython.org/runestone/static/pythonds/Trees/ProgrammingExercises.html    '>\n",
    "6.22. Programming Exercises  </a>\n",
    "</h3>"
   ]
  },
  {
   "cell_type": "raw",
   "metadata": {},
   "source": [
    "Q#1 Using the buildHeap method, write a sorting function that can sort a list in O(nlogn) time."
   ]
  },
  {
   "cell_type": "code",
   "execution_count": 4,
   "metadata": {},
   "outputs": [
    {
     "name": "stdout",
     "output_type": "stream",
     "text": [
      "3\n",
      "6\n",
      "7\n",
      "8\n",
      "10\n",
      "12\n",
      "17\n"
     ]
    }
   ],
   "source": [
    "\n",
    "class BinHeap:\n",
    "  def __init__(self):\n",
    "    self.heapList = [0]\n",
    "    self.currentSize = 0\n",
    "    \n",
    "    \n",
    "  def __len__ (self):\n",
    "    return self.currentSize\n",
    "\n",
    "  def __str__(self):\n",
    "        return str ( self.heapList )\n",
    "    \n",
    "  def trace (self, i, M, cnt=0,level=0):\n",
    "        if i < len(self.heapList):\n",
    "            cnt = self.trace (2*i,M,cnt,level+1)\n",
    "            M[level][cnt]= i\n",
    "            cnt += 1\n",
    "            cnt = self.trace (2*i+1,M,cnt,level+1)\n",
    "        return cnt\n",
    "    \n",
    "\n",
    "        \n",
    "  def percUp(self,i):\n",
    "    while i // 2 > 0:\n",
    "      if self.heapList[i] < self.heapList[i // 2]:  # xxx 26. reverse the compariosn\n",
    "        tmp = self.heapList[i // 2]\n",
    "        self.heapList[i // 2] = self.heapList[i]\n",
    "        self.heapList[i] = tmp\n",
    "      i = i // 2\n",
    "\n",
    "  def percDown(self,i):\n",
    "    while (i * 2) <= self.currentSize:\n",
    "      mc = self.minChild(i)\n",
    "      if self.heapList[i] >self.heapList[mc]:    # xxx 35. reverse the compariosn\n",
    "        tmp = self.heapList[i]\n",
    "        self.heapList[i] = self.heapList[mc]\n",
    "        self.heapList[mc] = tmp\n",
    "      i = mc\n",
    "\n",
    "  def minChild(self,i):\n",
    "    if i * 2 + 1 > self.currentSize:             # xxx 42. reverse the compariosn\n",
    "      return i * 2\n",
    "    else:\n",
    "      if self.heapList[i*2] < self.heapList[i*2+1]:\n",
    "        return i * 2\n",
    "      else:\n",
    "        return i * 2 + 1\n",
    "\n",
    "  def insert(self,k):\n",
    "    self.heapList.append(k)\n",
    "    self.currentSize = self.currentSize + 1\n",
    "    self.percUp(self.currentSize)\n",
    "\n",
    "  def delMin(self):\n",
    "    retval = self.heapList[1]\n",
    "    self.heapList[1] = self.heapList[self.currentSize]\n",
    "    self.currentSize = self.currentSize - 1\n",
    "    self.heapList.pop()\n",
    "    self.percDown(1)\n",
    "    return retval\n",
    "\n",
    "  def draw(self):\n",
    "    drawTree (self,5)\n",
    "    \n",
    "  def buildHeap(self,alist):\n",
    "    i = len(alist) // 2\n",
    "    self.currentSize = len(alist)\n",
    "    self.heapList = [0] + alist[:]\n",
    "    while (i > 0):\n",
    "      self.percDown(i)\n",
    "      i = i -1\n",
    "  def sort (self):\n",
    "    ans=[]\n",
    "    while len(self)>0:\n",
    "        x = self.delMin()\n",
    "        ans.append(x)\n",
    "    self.buildHeap(ans)\n",
    "    print (ans)\n",
    "    \n",
    "hp = BinHeap()\n",
    "hp.buildHeap([10,7,12,6,3,8,17])\n",
    "\n",
    "while len(hp) != 0:\n",
    "    print(hp.delMin())"
   ]
  },
  {
   "cell_type": "raw",
   "metadata": {},
   "source": [
    "Q#2 Implement a binary heap as a max heap."
   ]
  },
  {
   "cell_type": "code",
   "execution_count": 5,
   "metadata": {},
   "outputs": [
    {
     "name": "stdout",
     "output_type": "stream",
     "text": [
      "17\n",
      "12\n",
      "10\n",
      "8\n",
      "7\n",
      "6\n",
      "3\n"
     ]
    }
   ],
   "source": [
    "\n",
    "class BinHeap:\n",
    "  def __init__(self):\n",
    "    self.heapList = [0]\n",
    "    self.currentSize = 0\n",
    "    \n",
    "    \n",
    "  def __len__ (self):\n",
    "    return self.currentSize\n",
    "\n",
    "  def __str__(self):\n",
    "        return str ( self.heapList )\n",
    "    \n",
    "  def trace (self, i, M, cnt=0,level=0):\n",
    "        if i < len(self.heapList):\n",
    "            cnt = self.trace (2*i,M,cnt,level+1)\n",
    "            M[level][cnt]= i\n",
    "            cnt += 1\n",
    "            cnt = self.trace (2*i+1,M,cnt,level+1)\n",
    "        return cnt\n",
    "    \n",
    "\n",
    "        \n",
    "  def percUp(self,i):\n",
    "    while i // 2 > 0:\n",
    "      if self.heapList[i] > self.heapList[i // 2]:  # xxx 26. reverse the compariosn\n",
    "        tmp = self.heapList[i // 2]\n",
    "        self.heapList[i // 2] = self.heapList[i]\n",
    "        self.heapList[i] = tmp\n",
    "      i = i // 2\n",
    "\n",
    "  def percDown(self,i):\n",
    "    while (i * 2) <= self.currentSize:\n",
    "      mc = self.minChild(i)\n",
    "      if self.heapList[i] < self.heapList[mc]:    # xxx 35. reverse the compariosn\n",
    "        tmp = self.heapList[i]\n",
    "        self.heapList[i] = self.heapList[mc]\n",
    "        self.heapList[mc] = tmp\n",
    "      i = mc\n",
    "\n",
    "  def minChild(self,i):\n",
    "    if i * 2 + 1 > self.currentSize:             \n",
    "      return i * 2\n",
    "    else:\n",
    "      if self.heapList[i*2] > self.heapList[i*2+1]: # xxx 42. reverse the compariosn\n",
    "        return i * 2\n",
    "      else:\n",
    "        return i * 2 + 1\n",
    "\n",
    "  def insert(self,k):\n",
    "    self.heapList.append(k)\n",
    "    self.currentSize = self.currentSize + 1\n",
    "    self.percUp(self.currentSize)\n",
    "\n",
    "  def delMin(self):\n",
    "    retval = self.heapList[1]\n",
    "    self.heapList[1] = self.heapList[self.currentSize]\n",
    "    self.currentSize = self.currentSize - 1\n",
    "    self.heapList.pop()\n",
    "    self.percDown(1)\n",
    "    return retval\n",
    "\n",
    "  def draw(self):\n",
    "    drawTree (self,5)\n",
    "    \n",
    "  def buildHeap(self,alist):\n",
    "    i = len(alist) // 2\n",
    "    self.currentSize = len(alist)\n",
    "    self.heapList = [0] + alist[:]\n",
    "    while (i > 0):\n",
    "      self.percDown(i)\n",
    "      i = i -1\n",
    "  def sort (self):\n",
    "    ans=[]\n",
    "    while len(self)>0:\n",
    "        x = self.delMin()\n",
    "        ans.append(x)\n",
    "    self.buildHeap(ans)\n",
    "    print (ans)\n",
    "    \n",
    "hp = BinHeap()\n",
    "hp.buildHeap([10,7,12,6,3,8,17])\n",
    "\n",
    "while len(hp) != 0:\n",
    "    print(hp.delMin())"
   ]
  },
  {
   "cell_type": "raw",
   "metadata": {},
   "source": [
    "Q#3 Using the BinaryHeap class, implement a new class called PriorityQueue that implement the constructor, plus the enqueue and dequeue methods.\n",
    "Hints: see lecture note 7"
   ]
  },
  {
   "cell_type": "code",
   "execution_count": 6,
   "metadata": {},
   "outputs": [
    {
     "name": "stdout",
     "output_type": "stream",
     "text": [
      "19, 18, 17, 16, 15, 14, 13, 12, 11, 10, \n"
     ]
    }
   ],
   "source": [
    "class PriorityQueue (BinHeap):\n",
    "    def enqueue(self, k):\n",
    "        self.insert (k)\n",
    "    def dequeue(self):\n",
    "       return self.delMin()\n",
    "    \n",
    "#testing\n",
    "x = PriorityQueue()\n",
    "for i in range(20):\n",
    "    x.enqueue(i)\n",
    "for i in range(10):\n",
    "    y = x.dequeue()\n",
    "    print (y, end=\", \")\n",
    "print()"
   ]
  },
  {
   "cell_type": "raw",
   "metadata": {},
   "source": [
    "Q#4 Consdier the following max-heap tree. Show the new  tree and the srray after insertinn number 7"
   ]
  },
  {
   "cell_type": "markdown",
   "metadata": {},
   "source": [
    "<div class=\"binarySearch\">\n",
    "    <div style=\"float:left;margin-top:75px;\">\n",
    "    <figure>\n",
    "        <img src=\"images/heap.insert.1.png\" width=\"550\"  />\n",
    "        <figcaption style=\"text-align:center;\">   </figcaption>\n",
    "    </figure>\n",
    "    </div>\n",
    "    <div style=\"float:left;margin-right:55px;\">\n",
    "    <figure>\n",
    "        <img src=\"images/heap.insert.2.png\"  width=\"550\"  />\n",
    "        <figcaption style=\"text-align:center;\">   </figcaption>\n",
    "    </figure>\n",
    "    </div>\n",
    "</div>"
   ]
  },
  {
   "cell_type": "code",
   "execution_count": null,
   "metadata": {},
   "outputs": [],
   "source": []
  },
  {
   "cell_type": "raw",
   "metadata": {},
   "source": [
    "Q#5 Modify our implementation of the binary search tree so that it handles duplicate keys properly. That is, if a key is already in the tree then the new payload should replace the old rather than add another node with the same key."
   ]
  },
  {
   "cell_type": "markdown",
   "metadata": {},
   "source": [
    "Bonus question:\n",
    "Using the following as a starting point, derive the equation that gives the updated balance factor for node D.\n",
    "<div class=\"parse.tree\">\n",
    "    <div style=\"float:left;margin-top:55px;\">\n",
    "    <figure>\n",
    "        <img src=\"images/exer.5.14.png\"  width=\"550\" />\n",
    "        <figcaption style=\"text-align:center;\">  </figcaption>\n",
    "    </figure>\n",
    "    </div>\n",
    "</div>\n",
    "Hints: Read  <a href='http://interactivepython.org/runestone/static/pythonds/Trees/AVLTreeImplementation.html'>6.17. </a>"
   ]
  }
 ],
 "metadata": {
  "kernelspec": {
   "display_name": "Python 3",
   "language": "python",
   "name": "python3"
  },
  "language_info": {
   "codemirror_mode": {
    "name": "ipython",
    "version": 3
   },
   "file_extension": ".py",
   "mimetype": "text/x-python",
   "name": "python",
   "nbconvert_exporter": "python",
   "pygments_lexer": "ipython3",
   "version": "3.7.1"
  }
 },
 "nbformat": 4,
 "nbformat_minor": 2
}
