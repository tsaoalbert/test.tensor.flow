{
 "cells": [
  {
   "cell_type": "markdown",
   "metadata": {},
   "source": [
    "<h1>\n",
    "<a href='http://interactivepython.org/runestone/static/pythonds/Trees/toctree.html'> \n",
    "    HW #6: Trees and Tree Algorithms  </a> </h1>"
   ]
  },
  {
   "cell_type": "markdown",
   "metadata": {},
   "source": [
    "<h3> \n",
    "The questions are taken from  <a href='\n",
    "http://interactivepython.org/runestone/static/pythonds/Trees/ProgrammingExercises.html    '>\n",
    "6.22. Programming Exercises  </a>\n",
    "</h3>"
   ]
  },
  {
   "cell_type": "raw",
   "metadata": {},
   "source": [
    "Q#1 Using the buildHeap method, write a sorting function that can sort a list in O(nlogn) time."
   ]
  },
  {
   "cell_type": "code",
   "execution_count": 1,
   "metadata": {},
   "outputs": [
    {
     "ename": "NameError",
     "evalue": "name 'MinHeap' is not defined",
     "output_type": "error",
     "traceback": [
      "\u001b[0;31m---------------------------------------------------------------------------\u001b[0m",
      "\u001b[0;31mNameError\u001b[0m                                 Traceback (most recent call last)",
      "\u001b[0;32m<ipython-input-1-d3e98a860c9e>\u001b[0m in \u001b[0;36m<module>\u001b[0;34m\u001b[0m\n\u001b[1;32m     60\u001b[0m \u001b[0;32mdef\u001b[0m \u001b[0mgetSize\u001b[0m\u001b[0;34m(\u001b[0m\u001b[0mself\u001b[0m\u001b[0;34m)\u001b[0m\u001b[0;34m:\u001b[0m\u001b[0;34m\u001b[0m\u001b[0;34m\u001b[0m\u001b[0m\n\u001b[1;32m     61\u001b[0m             \u001b[0;32mreturn\u001b[0m \u001b[0mself\u001b[0m\u001b[0;34m.\u001b[0m\u001b[0mcurrentSize\u001b[0m\u001b[0;34m\u001b[0m\u001b[0;34m\u001b[0m\u001b[0m\n\u001b[0;32m---> 62\u001b[0;31m \u001b[0mhp\u001b[0m \u001b[0;34m=\u001b[0m \u001b[0mMinHeap\u001b[0m\u001b[0;34m(\u001b[0m\u001b[0;34m)\u001b[0m\u001b[0;34m\u001b[0m\u001b[0;34m\u001b[0m\u001b[0m\n\u001b[0m\u001b[1;32m     63\u001b[0m \u001b[0mhp\u001b[0m\u001b[0;34m.\u001b[0m\u001b[0mbuildHeap\u001b[0m\u001b[0;34m(\u001b[0m\u001b[0;34m[\u001b[0m\u001b[0;36m10\u001b[0m\u001b[0;34m,\u001b[0m\u001b[0;36m7\u001b[0m\u001b[0;34m,\u001b[0m\u001b[0;36m12\u001b[0m\u001b[0;34m,\u001b[0m\u001b[0;36m6\u001b[0m\u001b[0;34m,\u001b[0m\u001b[0;36m3\u001b[0m\u001b[0;34m,\u001b[0m\u001b[0;36m8\u001b[0m\u001b[0;34m,\u001b[0m\u001b[0;36m17\u001b[0m\u001b[0;34m]\u001b[0m\u001b[0;34m)\u001b[0m\u001b[0;34m\u001b[0m\u001b[0;34m\u001b[0m\u001b[0m\n\u001b[1;32m     64\u001b[0m \u001b[0;34m\u001b[0m\u001b[0m\n",
      "\u001b[0;31mNameError\u001b[0m: name 'MinHeap' is not defined"
     ]
    }
   ],
   "source": [
    "    def __init__(self):\n",
    "                self.heapList = [0]\n",
    "                self.currentSize = 0\n",
    "\n",
    "        # this method bubblesUp the heap starting from a index till root\n",
    "    def percUp(self,i):\n",
    "                while i // 2 > 0:\n",
    "                        if self.heapList[i] < self.heapList[i // 2]:\n",
    "                                tmp = self.heapList[i // 2]\n",
    "                                self.heapList[i // 2] = self.heapList[i]\n",
    "                                self.heapList[i] = tmp\n",
    "                        i = i // 2\n",
    "\n",
    "        # add a new entry to the heap\n",
    "    def insert(self,k):\n",
    "                self.heapList.append(k)\n",
    "                self.currentSize = self.currentSize + 1\n",
    "                self.percUp(self.currentSize)    \n",
    "        \n",
    "        # this method bubblesDown the heap starting from a index till leaf\n",
    "    def percDown(self,i):\n",
    "                while (i * 2) <= self.currentSize:\n",
    "                        mc = self.minChild(i)\n",
    "                        if self.heapList[i] > self.heapList[mc]:\n",
    "                                tmp = self.heapList[i]\n",
    "                                self.heapList[i] = self.heapList[mc]\n",
    "                                self.heapList[mc] = tmp\n",
    "                        i = mc\n",
    "\n",
    "        # this method finds the index of the child having lesser values.\n",
    "    def minChild(self,i):\n",
    "                if i * 2 + 1 > self.currentSize:\n",
    "                        return i * 2\n",
    "                else:\n",
    "                        if self.heapList[i*2] < self.heapList[i*2+1]:\n",
    "                                return i * 2\n",
    "                        else:\n",
    "                                return i * 2 + 1\n",
    "                \n",
    "        # this method removes the root node from the heap\n",
    "    def delMin(self):\n",
    "                # remove the root node.\n",
    "                retval = self.heapList[1]\n",
    "                self.heapList[1] = self.heapList[self.currentSize]\n",
    "                self.currentSize = self.currentSize - 1\n",
    "                self.heapList.pop()\n",
    "                self.percDown(1)\n",
    "                return retval\n",
    "\n",
    "        # given a list of number, this method builds the heap\n",
    "    def buildHeap(self, alist):\n",
    "                i = len(alist) // 2\n",
    "                self.currentSize = len(alist)\n",
    "                self.heapList = [0] + alist[:]\n",
    "                while (i > 0):\n",
    "                        self.percDown(i)\n",
    "                        i = i - 1\n",
    "\n",
    "        # return number of entries in heap\n",
    "    def getSize(self):\n",
    "                return self.currentSize\n",
    "hp = MinHeap()\n",
    "hp.buildHeap([10,7,12,6,3,8,17])\n",
    "\n",
    "while hp.getSize() != 0:\n",
    "                print(hp.delMin())"
   ]
  },
  {
   "cell_type": "raw",
   "metadata": {},
   "source": [
    "Q#2 Implement a binary heap as a max heap."
   ]
  },
  {
   "cell_type": "code",
   "execution_count": 5,
   "metadata": {},
   "outputs": [
    {
     "name": "stdout",
     "output_type": "stream",
     "text": [
      "[0, 10, 8, 1, 6, 9]\n"
     ]
    },
    {
     "ename": "IndexError",
     "evalue": "list index out of range",
     "output_type": "error",
     "traceback": [
      "\u001b[1;31m---------------------------------------------------------------------------\u001b[0m",
      "\u001b[1;31mIndexError\u001b[0m                                Traceback (most recent call last)",
      "\u001b[1;32m<ipython-input-5-85d443902c24>\u001b[0m in \u001b[0;36m<module>\u001b[1;34m\u001b[0m\n\u001b[0;32m    141\u001b[0m \u001b[0mn\u001b[0m\u001b[1;33m=\u001b[0m\u001b[0mlen\u001b[0m\u001b[1;33m(\u001b[0m\u001b[0mbh\u001b[0m\u001b[1;33m)\u001b[0m\u001b[1;33m\u001b[0m\u001b[1;33m\u001b[0m\u001b[0m\n\u001b[0;32m    142\u001b[0m \u001b[1;32mfor\u001b[0m \u001b[0mi\u001b[0m \u001b[1;32min\u001b[0m \u001b[0mrange\u001b[0m \u001b[1;33m(\u001b[0m\u001b[0mn\u001b[0m\u001b[1;33m)\u001b[0m\u001b[1;33m:\u001b[0m\u001b[1;33m\u001b[0m\u001b[1;33m\u001b[0m\u001b[0m\n\u001b[1;32m--> 143\u001b[1;33m     \u001b[0mprint\u001b[0m\u001b[1;33m(\u001b[0m\u001b[0mbh\u001b[0m\u001b[1;33m.\u001b[0m\u001b[0mdelMin\u001b[0m\u001b[1;33m(\u001b[0m\u001b[1;33m)\u001b[0m\u001b[1;33m)\u001b[0m\u001b[1;33m\u001b[0m\u001b[1;33m\u001b[0m\u001b[0m\n\u001b[0m",
      "\u001b[1;32m<ipython-input-5-85d443902c24>\u001b[0m in \u001b[0;36mdelMin\u001b[1;34m(self)\u001b[0m\n\u001b[0;32m    120\u001b[0m     \u001b[0mself\u001b[0m\u001b[1;33m.\u001b[0m\u001b[0mcurrentSize\u001b[0m \u001b[1;33m=\u001b[0m \u001b[0mself\u001b[0m\u001b[1;33m.\u001b[0m\u001b[0mcurrentSize\u001b[0m \u001b[1;33m-\u001b[0m \u001b[1;36m1\u001b[0m\u001b[1;33m\u001b[0m\u001b[1;33m\u001b[0m\u001b[0m\n\u001b[0;32m    121\u001b[0m     \u001b[0mself\u001b[0m\u001b[1;33m.\u001b[0m\u001b[0mheapList\u001b[0m\u001b[1;33m.\u001b[0m\u001b[0mpop\u001b[0m\u001b[1;33m(\u001b[0m\u001b[1;33m)\u001b[0m\u001b[1;33m\u001b[0m\u001b[1;33m\u001b[0m\u001b[0m\n\u001b[1;32m--> 122\u001b[1;33m     \u001b[0mself\u001b[0m\u001b[1;33m.\u001b[0m\u001b[0mpercDown\u001b[0m\u001b[1;33m(\u001b[0m\u001b[1;36m1\u001b[0m\u001b[1;33m)\u001b[0m\u001b[1;33m\u001b[0m\u001b[1;33m\u001b[0m\u001b[0m\n\u001b[0m\u001b[0;32m    123\u001b[0m     \u001b[1;32mreturn\u001b[0m \u001b[0mretval\u001b[0m\u001b[1;33m\u001b[0m\u001b[1;33m\u001b[0m\u001b[0m\n\u001b[0;32m    124\u001b[0m \u001b[1;33m\u001b[0m\u001b[0m\n",
      "\u001b[1;32m<ipython-input-5-85d443902c24>\u001b[0m in \u001b[0;36mpercDown\u001b[1;34m(self, i)\u001b[0m\n\u001b[0;32m     94\u001b[0m   \u001b[1;32mdef\u001b[0m \u001b[0mpercDown\u001b[0m\u001b[1;33m(\u001b[0m\u001b[0mself\u001b[0m\u001b[1;33m,\u001b[0m\u001b[0mi\u001b[0m\u001b[1;33m)\u001b[0m\u001b[1;33m:\u001b[0m\u001b[1;33m\u001b[0m\u001b[1;33m\u001b[0m\u001b[0m\n\u001b[0;32m     95\u001b[0m     \u001b[1;32mwhile\u001b[0m \u001b[1;33m(\u001b[0m\u001b[0mi\u001b[0m \u001b[1;33m*\u001b[0m \u001b[1;36m2\u001b[0m\u001b[1;33m)\u001b[0m \u001b[1;33m<=\u001b[0m \u001b[0mself\u001b[0m\u001b[1;33m.\u001b[0m\u001b[0mcurrentSize\u001b[0m\u001b[1;33m:\u001b[0m\u001b[1;33m\u001b[0m\u001b[1;33m\u001b[0m\u001b[0m\n\u001b[1;32m---> 96\u001b[1;33m       \u001b[0mmc\u001b[0m \u001b[1;33m=\u001b[0m \u001b[0mself\u001b[0m\u001b[1;33m.\u001b[0m\u001b[0mminChild\u001b[0m\u001b[1;33m(\u001b[0m\u001b[0mi\u001b[0m\u001b[1;33m)\u001b[0m\u001b[1;33m\u001b[0m\u001b[1;33m\u001b[0m\u001b[0m\n\u001b[0m\u001b[0;32m     97\u001b[0m       \u001b[1;32mif\u001b[0m \u001b[0mself\u001b[0m\u001b[1;33m.\u001b[0m\u001b[0mheapList\u001b[0m\u001b[1;33m[\u001b[0m\u001b[0mi\u001b[0m\u001b[1;33m]\u001b[0m \u001b[1;33m<\u001b[0m\u001b[0mself\u001b[0m\u001b[1;33m.\u001b[0m\u001b[0mheapList\u001b[0m\u001b[1;33m[\u001b[0m\u001b[0mmc\u001b[0m\u001b[1;33m]\u001b[0m\u001b[1;33m:\u001b[0m\u001b[1;33m\u001b[0m\u001b[1;33m\u001b[0m\u001b[0m\n\u001b[0;32m     98\u001b[0m         \u001b[0mtmp\u001b[0m \u001b[1;33m=\u001b[0m \u001b[0mself\u001b[0m\u001b[1;33m.\u001b[0m\u001b[0mheapList\u001b[0m\u001b[1;33m[\u001b[0m\u001b[0mi\u001b[0m\u001b[1;33m]\u001b[0m\u001b[1;33m\u001b[0m\u001b[1;33m\u001b[0m\u001b[0m\n",
      "\u001b[1;32m<ipython-input-5-85d443902c24>\u001b[0m in \u001b[0;36mminChild\u001b[1;34m(self, i)\u001b[0m\n\u001b[0;32m    105\u001b[0m       \u001b[1;32mreturn\u001b[0m \u001b[0mi\u001b[0m \u001b[1;33m*\u001b[0m \u001b[1;36m2\u001b[0m\u001b[1;33m\u001b[0m\u001b[1;33m\u001b[0m\u001b[0m\n\u001b[0;32m    106\u001b[0m     \u001b[1;32melse\u001b[0m\u001b[1;33m:\u001b[0m\u001b[1;33m\u001b[0m\u001b[1;33m\u001b[0m\u001b[0m\n\u001b[1;32m--> 107\u001b[1;33m       \u001b[1;32mif\u001b[0m \u001b[0mself\u001b[0m\u001b[1;33m.\u001b[0m\u001b[0mheapList\u001b[0m\u001b[1;33m[\u001b[0m\u001b[0mi\u001b[0m\u001b[1;33m*\u001b[0m\u001b[1;36m2\u001b[0m\u001b[1;33m]\u001b[0m \u001b[1;33m<\u001b[0m \u001b[0mself\u001b[0m\u001b[1;33m.\u001b[0m\u001b[0mheapList\u001b[0m\u001b[1;33m[\u001b[0m\u001b[0mi\u001b[0m\u001b[1;33m*\u001b[0m\u001b[1;36m2\u001b[0m\u001b[1;33m+\u001b[0m\u001b[1;36m1\u001b[0m\u001b[1;33m]\u001b[0m\u001b[1;33m:\u001b[0m\u001b[1;33m\u001b[0m\u001b[1;33m\u001b[0m\u001b[0m\n\u001b[0m\u001b[0;32m    108\u001b[0m         \u001b[1;32mreturn\u001b[0m \u001b[0mi\u001b[0m \u001b[1;33m*\u001b[0m \u001b[1;36m2\u001b[0m\u001b[1;33m\u001b[0m\u001b[1;33m\u001b[0m\u001b[0m\n\u001b[0;32m    109\u001b[0m       \u001b[1;32melse\u001b[0m\u001b[1;33m:\u001b[0m\u001b[1;33m\u001b[0m\u001b[1;33m\u001b[0m\u001b[0m\n",
      "\u001b[1;31mIndexError\u001b[0m: list index out of range"
     ]
    }
   ],
   "source": [
    "import math\n",
    "# Draw a Tree\n",
    "LINK =\"-\"\n",
    "SPACE=\" \"\n",
    "PIPE=\"+\"\n",
    "dot = \".\"\n",
    "\n",
    "def fieldLength (t, grid,s1=SPACE,s2=SPACE):\n",
    "    t = str(t)\n",
    "    n = len(t)\n",
    "    n1 = (grid-n)//2\n",
    "    n2 = grid-n - n1\n",
    "    t = s1*n1 + t + s2*n2\n",
    "    return t\n",
    "def printMatrix (M):\n",
    "    s=\"\"\n",
    "    for i in range ( len(M)):\n",
    "        for j in range ( len(M[i])):\n",
    "            s+= M[i][j]\n",
    "        s += \"\\n\"\n",
    "    print(s,\"\\n\"*2)\n",
    "    \n",
    "def addOneLink (M,i,j, grid, left):\n",
    "    s = LINK*grid\n",
    "    if left:\n",
    "        a=j-1; b=c=-1;\n",
    "        t = fieldLength( PIPE, grid, SPACE, dot)\n",
    "    else: \n",
    "        a=j+1; b = len(M[i]); c = 1 \n",
    "        t=fieldLength( PIPE, grid, dot, SPACE)\n",
    "    for k in range (a,b,c):\n",
    "        y = M[i+1][k]\n",
    "        if ( type(y)==str):\n",
    "            M[i][k]=s\n",
    "        else:\n",
    "            M[i][k]= t\n",
    "            break\n",
    "    \n",
    "def addLinks(M,i,j, grid, L):\n",
    "    n = len (M[0])\n",
    "    s1=s2=SPACE\n",
    "    x=M[i][j]\n",
    "    if ( x*2 < n ):\n",
    "        addOneLink(M,i,j, grid, True)\n",
    "        s1 = dot\n",
    "    if ( x*2+1 < n ):\n",
    "        addOneLink(M,i,j, grid, False)\n",
    "        s2 = dot\n",
    "    M[i][j] = fieldLength( L[x], grid,s1,s2 )\n",
    "\n",
    "def drawTree(bh, grid):\n",
    "    n = len(bh.heapList)\n",
    "    L=[SPACE*grid]*n    \n",
    "    h = int (math.log(n, 2)) + 1\n",
    "    M=[ L.copy() for i in range(h) ]\n",
    "    bh.trace (1,M)\n",
    "    for i in range ( len(M)):\n",
    "        for j in range ( n ):\n",
    "            x = M[i][j]\n",
    "            if (type(x)!=str):\n",
    "                addLinks(M,i,j, grid, bh.heapList)\n",
    "    printMatrix(M)\n",
    "    \n",
    "\n",
    "\n",
    "class BinHeap:\n",
    "  def __init__(self):\n",
    "    self.heapList = [0]\n",
    "    self.currentSize = 0\n",
    "  def __len__ (self):\n",
    "    return self.currentSize\n",
    "\n",
    "  def __str__(self):\n",
    "        return str ( self.heapList )\n",
    "    \n",
    "  def trace (self, i, M, cnt=0,level=0):\n",
    "        if i < len(self.heapList):\n",
    "            cnt = self.trace (2*i,M,cnt,level+1)\n",
    "            M[level][cnt]= i\n",
    "            cnt += 1\n",
    "            cnt = self.trace (2*i+1,M,cnt,level+1)\n",
    "        return cnt\n",
    "    \n",
    "\n",
    "        \n",
    "  def percUp(self,i):\n",
    "    while i // 2 > 0:\n",
    "      if self.heapList[i] > self.heapList[i // 2]:\n",
    "        tmp = self.heapList[i // 2]\n",
    "        self.heapList[i // 2] = self.heapList[i]\n",
    "        self.heapList[i] = tmp\n",
    "      i = i // 2\n",
    "\n",
    "  def percDown(self,i):\n",
    "    while (i * 2) <= self.currentSize:\n",
    "      mc = self.minChild(i)\n",
    "      if self.heapList[i] <self.heapList[mc]:\n",
    "        tmp = self.heapList[i]\n",
    "        self.heapList[i] = self.heapList[mc]\n",
    "        self.heapList[mc] = tmp\n",
    "      i = mc\n",
    "\n",
    "  def minChild(self,i):\n",
    "    if i * 2 + 1 < self.currentSize:\n",
    "      return i * 2\n",
    "    else:\n",
    "      if self.heapList[i*2] < self.heapList[i*2+1]:\n",
    "        return i * 2\n",
    "      else:\n",
    "        return i * 2 + 1\n",
    "\n",
    "  def insert(self,k):\n",
    "    self.heapList.append(k)\n",
    "    self.currentSize = self.currentSize + 1\n",
    "    self.percUp(self.currentSize)\n",
    "\n",
    "  def delMin(self):\n",
    "    retval = self.heapList[1]\n",
    "    self.heapList[1] = self.heapList[self.currentSize]\n",
    "    self.currentSize = self.currentSize - 1\n",
    "    self.heapList.pop()\n",
    "    self.percDown(1)\n",
    "    return retval\n",
    "\n",
    "  def draw(self):\n",
    "    drawTree (self,5)\n",
    "    \n",
    "  def buildHeap(self,alist):\n",
    "    i = len(alist) // 2\n",
    "    self.currentSize = len(alist)\n",
    "    self.heapList = [0] + alist[:]\n",
    "    while (i > 0):\n",
    "      self.percDown(i)\n",
    "      i = i -1\n",
    "        \n",
    "#from BinHeap import BinHeap\n",
    "\n",
    "bh = BinHeap()\n",
    "bh.buildHeap([10,8,1,6,9])\n",
    "print (bh)\n",
    "n=len(bh)\n",
    "for i in range (n):\n",
    "    print(bh.delMin())"
   ]
  },
  {
   "cell_type": "raw",
   "metadata": {},
   "source": [
    "Q#3 Using the BinaryHeap class, implement a new class called PriorityQueue that implement the constructor, plus the enqueue and dequeue methods.\n",
    "Hints: see lecture note 7"
   ]
  },
  {
   "cell_type": "code",
   "execution_count": 1,
   "metadata": {},
   "outputs": [
    {
     "ename": "NameError",
     "evalue": "name 'BinHeap' is not defined",
     "output_type": "error",
     "traceback": [
      "\u001b[1;31m---------------------------------------------------------------------------\u001b[0m",
      "\u001b[1;31mNameError\u001b[0m                                 Traceback (most recent call last)",
      "\u001b[1;32m<ipython-input-1-9974ad12919b>\u001b[0m in \u001b[0;36m<module>\u001b[1;34m\u001b[0m\n\u001b[1;32m----> 1\u001b[1;33m \u001b[1;32mclass\u001b[0m \u001b[0mPriorityQueue\u001b[0m \u001b[1;33m(\u001b[0m\u001b[0mBinHeap\u001b[0m\u001b[1;33m)\u001b[0m\u001b[1;33m:\u001b[0m\u001b[1;33m\u001b[0m\u001b[1;33m\u001b[0m\u001b[0m\n\u001b[0m\u001b[0;32m      2\u001b[0m     \u001b[1;32mdef\u001b[0m \u001b[0menqueue\u001b[0m\u001b[1;33m(\u001b[0m\u001b[0mself\u001b[0m\u001b[1;33m,\u001b[0m \u001b[0mk\u001b[0m\u001b[1;33m)\u001b[0m\u001b[1;33m:\u001b[0m\u001b[1;33m\u001b[0m\u001b[1;33m\u001b[0m\u001b[0m\n\u001b[0;32m      3\u001b[0m         \u001b[0mself\u001b[0m\u001b[1;33m.\u001b[0m\u001b[0minsert\u001b[0m \u001b[1;33m(\u001b[0m\u001b[0mk\u001b[0m\u001b[1;33m)\u001b[0m\u001b[1;33m\u001b[0m\u001b[1;33m\u001b[0m\u001b[0m\n\u001b[0;32m      4\u001b[0m     \u001b[1;32mdef\u001b[0m \u001b[0mdequeue\u001b[0m\u001b[1;33m(\u001b[0m\u001b[0mself\u001b[0m\u001b[1;33m)\u001b[0m\u001b[1;33m:\u001b[0m\u001b[1;33m\u001b[0m\u001b[1;33m\u001b[0m\u001b[0m\n\u001b[0;32m      5\u001b[0m        \u001b[1;32mreturn\u001b[0m \u001b[0mself\u001b[0m\u001b[1;33m.\u001b[0m\u001b[0mdelMin\u001b[0m\u001b[1;33m(\u001b[0m\u001b[1;33m)\u001b[0m\u001b[1;33m\u001b[0m\u001b[1;33m\u001b[0m\u001b[0m\n",
      "\u001b[1;31mNameError\u001b[0m: name 'BinHeap' is not defined"
     ]
    }
   ],
   "source": [
    "class PriorityQueue (BinHeap):\n",
    "    def enqueue(self, k):\n",
    "        self.insert (k)\n",
    "    def dequeue(self):\n",
    "       return self.delMin()\n",
    "    \n",
    "#testing\n",
    "x = PriorityQueue()\n",
    "for i in range(20):\n",
    "    x.enqueue(i)\n",
    "for i in range(10):\n",
    "    y = x.dequeue()\n",
    "    print (y, end=\", \")\n",
    "print()"
   ]
  },
  {
   "cell_type": "raw",
   "metadata": {},
   "source": [
    "Q#4 Consdier the following max-heap tree. Show the new  tree and the srray after insertinn number 7"
   ]
  },
  {
   "cell_type": "markdown",
   "metadata": {},
   "source": [
    "<div class=\"binarySearch\">\n",
    "    <div style=\"float:left;margin-top:75px;\">\n",
    "    <figure>\n",
    "        <img src=\"images/heap.insert.1.png\" width=\"550\"  />\n",
    "        <figcaption style=\"text-align:center;\">   </figcaption>\n",
    "    </figure>\n",
    "    </div>\n",
    "    <div style=\"float:left;margin-right:55px;\">\n",
    "    <figure>\n",
    "        <img src=\"images/heap.insert.2.png\"  width=\"550\"  />\n",
    "        <figcaption style=\"text-align:center;\">   </figcaption>\n",
    "    </figure>\n",
    "    </div>\n",
    "</div>"
   ]
  },
  {
   "cell_type": "code",
   "execution_count": null,
   "metadata": {},
   "outputs": [],
   "source": []
  },
  {
   "cell_type": "raw",
   "metadata": {},
   "source": [
    "Q#5 Modify our implementation of the binary search tree so that it handles duplicate keys properly. That is, if a key is already in the tree then the new payload should replace the old rather than add another node with the same key."
   ]
  },
  {
   "cell_type": "markdown",
   "metadata": {},
   "source": [
    "Bonus question:\n",
    "Using the following as a starting point, derive the equation that gives the updated balance factor for node D.\n",
    "<div class=\"parse.tree\">\n",
    "    <div style=\"float:left;margin-top:55px;\">\n",
    "    <figure>\n",
    "        <img src=\"images/exer.5.14.png\"  width=\"550\" />\n",
    "        <figcaption style=\"text-align:center;\">  </figcaption>\n",
    "    </figure>\n",
    "    </div>\n",
    "</div>\n",
    "Hints: Read  <a href='http://interactivepython.org/runestone/static/pythonds/Trees/AVLTreeImplementation.html'>6.17. </a>"
   ]
  }
 ],
 "metadata": {
  "kernelspec": {
   "display_name": "Python 3",
   "language": "python",
   "name": "python3"
  },
  "language_info": {
   "codemirror_mode": {
    "name": "ipython",
    "version": 3
   },
   "file_extension": ".py",
   "mimetype": "text/x-python",
   "name": "python",
   "nbconvert_exporter": "python",
   "pygments_lexer": "ipython3",
   "version": "3.7.1"
  }
 },
 "nbformat": 4,
 "nbformat_minor": 2
}
