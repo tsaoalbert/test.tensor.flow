{
 "cells": [
  {
   "cell_type": "markdown",
   "metadata": {},
   "source": [
    "<h1> HW #7:  Tree and Tree Algorithms </h1>"
   ]
  },
  {
   "cell_type": "markdown",
   "metadata": {},
   "source": [
    "<h3> The questions are taken from\n",
    "<a href='http://interactivepython.org/runestone/static/pythonds/Graphs/ProgrammingExercises.html\n",
    "         '> 7.26. Programming Exercises  </a></h3>\n"
   ]
  },
  {
   "cell_type": "raw",
   "metadata": {},
   "source": [
    "Q#1 Modify the depth first search function to produce a topological sort.\n",
    "hints: DFS + sorting nodes in the decrease order of their finished time"
   ]
  },
  {
   "cell_type": "code",
   "execution_count": 9,
   "metadata": {},
   "outputs": [],
   "source": [
    "from pythonds.graphs import Graph\n",
    "class DFSGraph(Graph):\n",
    "    def __init__(self):\n",
    "        super().__init__()\n",
    "        self.time = 0\n",
    "\n",
    "    def dfs(self):\n",
    "        for aVertex in self:\n",
    "            aVertex.setColor('white')\n",
    "            aVertex.setPred(-1)\n",
    "        for aVertex in self:\n",
    "            if aVertex.getColor() == 'white':\n",
    "                self.dfsvisit(aVertex)\n",
    "    def topologicalSorting (self): # Answers to Q#1\n",
    "        print (\"topologicalSorting: \", end=\"\")\n",
    "        self.dfs()      \n",
    "        L=[x for x in g] # collect \n",
    "        # sort list in the decreasing order of the finished time\n",
    "        L.sort(key=lambda x: x.fin, reverse=True)\n",
    "        for x in L:\n",
    "            print (x.id, end=\", \")\n",
    "        print ()\n",
    "        \n",
    "    def dfsvisit(self,startVertex):\n",
    "        startVertex.setColor('gray')\n",
    "        self.time += 1\n",
    "        startVertex.setDiscovery(self.time)\n",
    "        for nextVertex in startVertex.getConnections():\n",
    "            if nextVertex.getColor() == 'white':\n",
    "                nextVertex.setPred(startVertex)\n",
    "                self.dfsvisit(nextVertex)\n",
    "        startVertex.setColor('black')\n",
    "        self.time += 1\n",
    "        startVertex.setFinish(self.time)"
   ]
  },
  {
   "cell_type": "code",
   "execution_count": 10,
   "metadata": {},
   "outputs": [
    {
     "name": "stdout",
     "output_type": "stream",
     "text": [
      "0, 1, 2, 3, 5, 4, \n"
     ]
    }
   ],
   "source": [
    "g = DFSGraph()\n",
    "\n",
    "for i in range(6):\n",
    "    g.addVertex(i)\n",
    "# from, to, weight\n",
    "L= ( (0,1,5), (0,5,2), (1,2,4), (2,3,9), (3,4,7), (3,5,3), (4,0,1), (5,4,8), (5,2,1) )\n",
    "for x in L:\n",
    "    from_vertex, to_vertex, weight = x[0],x[1],x[2]\n",
    "    g.addEdge(from_vertex, to_vertex, weight)\n",
    "g.topologicalSorting()        \n"
   ]
  },
  {
   "cell_type": "raw",
   "metadata": {},
   "source": [
    "Q#2 Modify the depth first search to produce strongly connected components. \n",
    "Write down the algorithms with pseudo codes. \n",
    "No coding is required"
   ]
  },
  {
   "cell_type": "code",
   "execution_count": null,
   "metadata": {},
   "outputs": [],
   "source": [
    "Answer: can be found in the textbook or lecture nodes"
   ]
  },
  {
   "cell_type": "raw",
   "metadata": {},
   "source": [
    "Q#3: (Optional) Write a Python program to implement the transpose method for the Graph class."
   ]
  },
  {
   "cell_type": "raw",
   "metadata": {},
   "source": [
    "Q#4: Using BFS revise the maze program from the recursion chapter to find the shortest path out of a maze."
   ]
  },
  {
   "cell_type": "raw",
   "metadata": {},
   "source": [
    "Q#5:\n",
    "Dijkstra’s Algorithm: Fill in the table, where\n",
    "dv = Shortest path length from source node s to v\n",
    "pv = Node in T to which Node v is connected\n",
    "\n",
    "Type your answers as follows, where x is the spot to be filled in\n",
    "A  T 0 -\n",
    "B  x 8 A\n",
    "C  x x x\n",
    "D  x x x\n",
    "E  x x x\n",
    "F  x x x"
   ]
  },
  {
   "cell_type": "code",
   "execution_count": null,
   "metadata": {},
   "outputs": [],
   "source": [
    "Answer: can be found in slide 12.MST.SPT.pptx\n",
    "    K dv pv\n",
    "A   T  0  -\n",
    "B   T  8  A\n",
    "C   T 13  B\n",
    "D   T 14  C\n",
    "E   T 12  F\n",
    "F   T 10  A"
   ]
  },
  {
   "cell_type": "markdown",
   "metadata": {},
   "source": [
    "<div class=\"binarySearch\">\n",
    "    <div style=\"float:left;margin-top:75px;\">\n",
    "    <figure>\n",
    "        <img src=\"images/dijkstra.hw7.5.png\" height=\"400\" width=\"500\"  />\n",
    "        <figcaption style=\"text-align:center;\">   </figcaption>\n",
    "    </figure>\n",
    "    </div>\n",
    "    <div style=\"float:left;margin-right:55px;\">\n",
    "    <figure>\n",
    "        <img src=\"images/dijkstra.hw7.5_2.png\" width=\"300\"   />\n",
    "        <figcaption style=\"text-align:center;\">   </figcaption>\n",
    "    </figure>\n",
    "    </div>\n",
    "</div>"
   ]
  },
  {
   "cell_type": "code",
   "execution_count": null,
   "metadata": {},
   "outputs": [],
   "source": []
  },
  {
   "cell_type": "markdown",
   "metadata": {},
   "source": [
    "Q#6\n",
    "What is the Big-O running time of \n",
    "* the buildGraph function?\n",
    "* the topological sort algorithm.\n",
    "* the strongly connected components algorithm.\n",
    "* Prim’s minimum spanning tree algorithm?"
   ]
  },
  {
   "cell_type": "code",
   "execution_count": null,
   "metadata": {},
   "outputs": [],
   "source": [
    "* the buildGraph function?  O(V+E)\n",
    "* the topological sort algorithm.  O (n logn)\n",
    "* the strongly connected components algorithm. O(n)\n",
    "* Prim’s minimum spanning tree algorithm? O(n log n)"
   ]
  }
 ],
 "metadata": {
  "kernelspec": {
   "display_name": "Python 3",
   "language": "python",
   "name": "python3"
  },
  "language_info": {
   "codemirror_mode": {
    "name": "ipython",
    "version": 3
   },
   "file_extension": ".py",
   "mimetype": "text/x-python",
   "name": "python",
   "nbconvert_exporter": "python",
   "pygments_lexer": "ipython3",
   "version": "3.7.1"
  }
 },
 "nbformat": 4,
 "nbformat_minor": 2
}
