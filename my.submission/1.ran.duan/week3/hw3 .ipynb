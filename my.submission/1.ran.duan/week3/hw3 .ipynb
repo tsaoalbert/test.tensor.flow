{
 "cells": [
  {
   "cell_type": "markdown",
   "metadata": {},
   "source": [
    "<h1> Assignments #3:  <a href='http://interactivepython.org/runestone/static/pythonds/BasicDS/toctree.html'> \n",
    "Basic Data Structures </a> </h1>"
   ]
  },
  {
   "cell_type": "markdown",
   "metadata": {},
   "source": [
    "<h3> <a href='\n",
    "http://interactivepython.org/runestone/static/pythonds/BasicDS/ProgrammingExercises.html  \n",
    "'>   Programming Exercises  </a> </h3>"
   ]
  },
  {
   "cell_type": "markdown",
   "metadata": {},
   "source": [
    "* 3.1 Modify the infix-to-postfix algorithm so that it can handle errors.\n",
    "* 3.2 Modify the postfix evaluation algorithm so that it can handle errors.\n",
    "* 3.3 Implement a direct infix evaluator that combines both infix-to-postfix conversion \n",
    "* 0/10 3.4 Turn your direct infix evaluator from the previous problem into a calculator that can handles arithmetic operators +,-,*,/, //, %, ** and parenthesis."
   ]
  },
  {
   "cell_type": "code",
   "execution_count": 2,
   "metadata": {},
   "outputs": [],
   "source": [
    "class Stack:\n",
    "    \n",
    "    def __init__(self):\n",
    "        self.items = []\n",
    "        \n",
    "    def pop(self):\n",
    "        return self.items.pop()\n",
    "    \n",
    "    def push(self, item):\n",
    "        self.items.append(item)\n",
    "    \n",
    "    def peek(self):\n",
    "        return self.items[-1]\n",
    "    \n",
    "    def isEmpty(self):\n",
    "        return self.items == []\n",
    "    \n",
    "    def size(self):\n",
    "        return len(self.items)"
   ]
  },
  {
   "cell_type": "code",
   "execution_count": 25,
   "metadata": {},
   "outputs": [],
   "source": [
    "# 3.1\n",
    "def infixToPostfix(tokenList):\n",
    "    prec = {}\n",
    "    prec[\"*\"] = 3\n",
    "    prec[\"/\"] = 3\n",
    "    prec[\"+\"] = 2\n",
    "    prec[\"-\"] = 2\n",
    "    prec[\"(\"] = 1\n",
    "    opStack = Stack()\n",
    "    postfixList = []\n",
    "\n",
    "    for token in tokenList:\n",
    "        if token in \"ABCDEFGHIJKLMNOPQRSTUVWXYZ\" or token in \"0123456789\":\n",
    "            postfixList.append(token)\n",
    "        elif token == '(':\n",
    "            opStack.push(token)\n",
    "        elif token == ')':\n",
    "            topToken = opStack.pop()\n",
    "            while topToken != '(':\n",
    "                postfixList.append(topToken)\n",
    "                topToken = opStack.pop()\n",
    "        else:\n",
    "            while (not opStack.isEmpty()) and \\\n",
    "               (prec[opStack.peek()] >= prec[token]):\n",
    "                    postfixList.append(opStack.pop())\n",
    "            opStack.push(token)\n",
    "\n",
    "    while not opStack.isEmpty():\n",
    "        postfixList.append(opStack.pop())\n",
    "    return \" \".join(postfixList)\n",
    "\n",
    "def parenChecker(parent):\n",
    "    s = Stack()\n",
    "    balanced = True\n",
    "    for p in parent:\n",
    "        if p == '(':\n",
    "            s.push(p)\n",
    "        else:\n",
    "            if s.isEmpty():\n",
    "                balances = False\n",
    "                break\n",
    "            else:\n",
    "                s.pop()\n",
    "                \n",
    "    if not s.isEmpty():\n",
    "        balanced = False\n",
    "        \n",
    "    return balanced\n",
    "\n",
    "def validateInput(expr):\n",
    "    if not expr:\n",
    "        return False\n",
    "    expr = expr.strip()\n",
    "\n",
    "    parenList = []\n",
    "    for e in expr:\n",
    "        if e == '(' or e == ')':\n",
    "            parenList.append(e)\n",
    "    if not parenChecker(parenList):\n",
    "        return False\n",
    "    tokenList = expr.split(\" \")\n",
    "    sanitizedTokList = []\n",
    "    for t in tokenList:\n",
    "        t = t.strip()\n",
    "        sanitizedTokList.append(t)\n",
    "        if t.isdigit():\n",
    "            continue\n",
    "        elif t == '+' or t == '-' or t == '/' or t == '*' or t == '^':\n",
    "            continue\n",
    "        elif t == '(' or t == ')':\n",
    "            continue\n",
    "        else:\n",
    "            return False\n",
    "    return sanitizedTokList\n",
    "\n",
    "def readInput():\n",
    "    print (\"Enter infix expression with space.\")\n",
    "    infix = input(\"infix expression: \")\n",
    "    tokenList = validateInput(infix)\n",
    "    while not tokenList:\n",
    "        print (\"Bad Input! Please enter valid infix expression\")\n",
    "        print (\"Enter infix expression with space.\")\n",
    "        infix = input(\"infix expression: \")\n",
    "\n",
    "    return tokenList"
   ]
  },
  {
   "cell_type": "code",
   "execution_count": 27,
   "metadata": {
    "scrolled": true
   },
   "outputs": [
    {
     "name": "stdout",
     "output_type": "stream",
     "text": [
      "Enter infix expression with space.\n",
      "infix expression: ( 6 + 8 ) * 9\n"
     ]
    },
    {
     "data": {
      "text/plain": [
       "'6 8 + 9 *'"
      ]
     },
     "execution_count": 27,
     "metadata": {},
     "output_type": "execute_result"
    }
   ],
   "source": [
    "infix = readInput()\n",
    "infixToPostfix(infix)"
   ]
  },
  {
   "cell_type": "code",
   "execution_count": 28,
   "metadata": {},
   "outputs": [
    {
     "name": "stdout",
     "output_type": "stream",
     "text": [
      "Enter infix expression with space.\n",
      "infix expression: ( 9 + 8 ) * ( 8 + 1 )\n"
     ]
    },
    {
     "data": {
      "text/plain": [
       "'9 8 + 8 1 + *'"
      ]
     },
     "execution_count": 28,
     "metadata": {},
     "output_type": "execute_result"
    }
   ],
   "source": [
    "infix = readInput()\n",
    "infixToPostfix(infix)"
   ]
  },
  {
   "cell_type": "code",
   "execution_count": 48,
   "metadata": {},
   "outputs": [],
   "source": [
    "# 3.2\n",
    "def postfixEval(tokenList):\n",
    "    opStack = Stack()\n",
    "\n",
    "    for t in tokenList:\n",
    "        if t.isdigit():\n",
    "            opStack.push(int(t))\n",
    "            \n",
    "        else:\n",
    "            if opStack.size() < 2:\n",
    "                print (\"Invalid postfix expression\")\n",
    "                return None\n",
    "            second = opStack.pop()\n",
    "            first = opStack.pop()\n",
    "            ans = doMath(t, first, second)\n",
    "            if ans is None:\n",
    "                return ans\n",
    "            opStack.push(ans)\n",
    "    return opStack.pop()\n",
    "\n",
    "def doMath(op, op1, op2):\n",
    "    if op == \"*\":\n",
    "        return op1 * op2\n",
    "    elif op == \"/\":\n",
    "        return op1 / op2\n",
    "    elif op == \"+\":\n",
    "        return op1 + op2\n",
    "    else:\n",
    "        return op1 - op2\n",
    "    \n",
    "def readInput():\n",
    "    print (\"Enter post expression with space.\")\n",
    "    postfix = input(\"Postfix expression: \")\n",
    "    tokenList = validateInput(postfix)\n",
    "    while not tokenList:\n",
    "        print (\"Bad Input! Please enter valid postfix expression\")\n",
    "        print (\"Enter post expression with space.\")\n",
    "        postfix = input(\"Postfix expression: \")\n",
    "\n",
    "    return tokenList"
   ]
  },
  {
   "cell_type": "code",
   "execution_count": 49,
   "metadata": {},
   "outputs": [
    {
     "name": "stdout",
     "output_type": "stream",
     "text": [
      "Enter post expression with space.\n",
      "Postfix expression: 9 8 + 8 1 + *\n",
      "True\n"
     ]
    }
   ],
   "source": [
    "postfix = readInput()\n",
    "result = postfixEval(postfix)\n",
    "infix_result = ( 9 + 8 ) * ( 8 + 1 )\n",
    "print(result == infix_result)"
   ]
  },
  {
   "cell_type": "code",
   "execution_count": 52,
   "metadata": {},
   "outputs": [],
   "source": [
    "# 3.3\n",
    "def infixCalc(tokenList):\n",
    "    postfix = infixToPostfix(tokenList)\n",
    "    print (\"Postfix: \", postfix)\n",
    "    ans = postfixEval(postfix.split(' '))\n",
    "    return ans"
   ]
  },
  {
   "cell_type": "code",
   "execution_count": 53,
   "metadata": {
    "scrolled": true
   },
   "outputs": [
    {
     "name": "stdout",
     "output_type": "stream",
     "text": [
      "Enter post expression with space.\n",
      "Postfix expression: 9 8 + 8 1 + *\n",
      "Postfix:  9 8 8 1 + * +\n",
      "Result:  81\n"
     ]
    }
   ],
   "source": [
    "infix = readInput()\n",
    "ans = infixCalc(infix)\n",
    "print (\"Result: \", ans)"
   ]
  },
  {
   "cell_type": "raw",
   "metadata": {},
   "source": [
    "0/10 * 3.12 Extend the program from Listing 2.15 to handle palindromes with spaces. For example, I PREFER PI is a palindrome that reads the same forward and backward if you ignore the blank characters."
   ]
  },
  {
   "cell_type": "markdown",
   "metadata": {},
   "source": [
    "Modify the unorderedList class as follows:\n",
    "* 0/6 allow duplicates\n",
    "* 0/6 remove method can work correctly on non-existing items\n",
    "* 0/6 Improve the time of length method to O(1)\n",
    "* 6/6 Implement __str__ method so that unorderedList are displayed the Python way\n",
    "* 4/6 Implement the remaining operations defined in the UnorderedList ADT (append, index, pop, insert)."
   ]
  },
  {
   "cell_type": "code",
   "execution_count": 69,
   "metadata": {},
   "outputs": [],
   "source": [
    "class Node:\n",
    "    def __init__(self,initdata, position=0):\n",
    "        self.data = initdata\n",
    "        self.next = None\n",
    "        self.position = position\n",
    "\n",
    "    def getData(self):\n",
    "        return self.data\n",
    "\n",
    "    def getNext(self):\n",
    "        return self.next\n",
    "\n",
    "    def setData(self,newdata):\n",
    "        self.data = newdata\n",
    "\n",
    "    def setNext(self,newnext):\n",
    "        self.next = newnext"
   ]
  },
  {
   "cell_type": "code",
   "execution_count": 87,
   "metadata": {},
   "outputs": [
    {
     "name": "stdout",
     "output_type": "stream",
     "text": [
      "True\n",
      "3\n",
      "5\n",
      "5\n",
      "5\n",
      "6\n",
      "7\n",
      "[54, 90, 19, 19, 20, 70, 799]\n"
     ]
    },
    {
     "data": {
      "text/plain": [
       "'item found at position 5'"
      ]
     },
     "execution_count": 87,
     "metadata": {},
     "output_type": "execute_result"
    }
   ],
   "source": [
    "class UnorderedList:\n",
    "    def __init__(self):\n",
    "        self.head = None\n",
    "        \n",
    "    def __str__(self):\n",
    "        current = self.head\n",
    "        my_list = []\n",
    "        while current != None:\n",
    "            my_list = my_list+[current.getData()]\n",
    "            current = current.getNext()\n",
    "        \n",
    "        return str(my_list)\n",
    "                                 \n",
    "    def is_empty(self):\n",
    "        return self.head == None\n",
    "    \n",
    "    def index_correct(self, value):\n",
    "        position = 0\n",
    "        while value != None:\n",
    "            value.position = position\n",
    "            position += 1\n",
    "            value = value.next\n",
    "    \n",
    "#     def add(self, item):\n",
    "#         temp = Node(item)\n",
    "#         temp.next = self.head\n",
    "#         self.head = temp\n",
    "\n",
    "    def add(self,item): \n",
    "        temp = Node(item)           \n",
    "        temp.next = self.head     \n",
    "        self.head = temp            \n",
    "        current = self.head         \n",
    "        self.index_correct(current) \n",
    "        current = self.head\n",
    "        previous = None\n",
    "        while current.position != self.size() - 1:\n",
    "            previous = current\n",
    "            current = current.next\n",
    "            current.back = previous\n",
    "        self.tail = current\n",
    "        \n",
    "               \n",
    "    def size(self):\n",
    "        count = 0\n",
    "        current = self.head\n",
    "        while current != None:\n",
    "            count += 1\n",
    "            current = current.getNext()\n",
    "            \n",
    "        return count\n",
    "        \n",
    "    def search(self, item):\n",
    "        loc = None\n",
    "        count = 0\n",
    "        found = False\n",
    "        current = self.head\n",
    "               \n",
    "        while current != None and not found:\n",
    "            if item == current.getData():\n",
    "                found = True\n",
    "                loc = count\n",
    "            current = current.getNext()\n",
    "            count += 1\n",
    "        \n",
    "        if found:\n",
    "            return str(\"item found at position %r\"%(loc))\n",
    "        else:\n",
    "            return \"item not found\"\n",
    "            \n",
    "    def remove(self, item):\n",
    "        prev = None\n",
    "        found = False\n",
    "        current = self.head\n",
    "               \n",
    "        while current != None and not found:\n",
    "            if item == current.getData():\n",
    "                found = True\n",
    "            else:\n",
    "                prev = current\n",
    "                current = current.getNext()\n",
    "                    \n",
    "        if prev == None:\n",
    "            self.head = current.getNext()\n",
    "        else:\n",
    "            prev.set_next(current.getNext())\n",
    "            \n",
    "    def append(self, item):\n",
    "        prev = None\n",
    "        found = False\n",
    "        current = self.head\n",
    "               \n",
    "        while current != None and not found:\n",
    "            \n",
    "                prev = current\n",
    "                current = current.getNext()\n",
    "                \n",
    "        temp = Node(item)\n",
    "        prev.setNext(temp)\n",
    "    \n",
    "    def index(self,item):\n",
    "        current = self.head\n",
    "        while current != None:\n",
    "            if current.data == item:\n",
    "                return current.position\n",
    "            else:\n",
    "                current = current.next\n",
    "        print (\"item not present in list\")\n",
    "    \n",
    "    \n",
    "    \n",
    "my_list = UnorderedList()\n",
    "\n",
    "print(my_list.is_empty())\n",
    "my_list.add(20)\n",
    "my_list.add(19)\n",
    "my_list.add(19)\n",
    "print(my_list.size())\n",
    "my_list.add(90)\n",
    "my_list.add(54)\n",
    "print(my_list.size())\n",
    "print (my_list.size())\n",
    "print (my_list.size())\n",
    "my_list.append(70)\n",
    "print (my_list.size())\n",
    "my_list.append(799)\n",
    "print (my_list.size())\n",
    "print(my_list)\n",
    "my_list.search(70)"
   ]
  },
  {
   "cell_type": "markdown",
   "metadata": {},
   "source": [
    "Explain how a singly linked list with both head  tail pointer can be used to implement a queue that would have an average performance of O(1) for enqueue and dequeue operations.(No coding)"
   ]
  },
  {
   "cell_type": "markdown",
   "metadata": {},
   "source": [
    "Use doubly linked lists to implement queue, stack, and deque that would have have an average performance of O(1)  for operations of adding or removing operations. Hints: implement deque first, then you can build stack and queue on top of deque"
   ]
  }
 ],
 "metadata": {
  "kernelspec": {
   "display_name": "Python 3",
   "language": "python",
   "name": "python3"
  },
  "language_info": {
   "codemirror_mode": {
    "name": "ipython",
    "version": 3
   },
   "file_extension": ".py",
   "mimetype": "text/x-python",
   "name": "python",
   "nbconvert_exporter": "python",
   "pygments_lexer": "ipython3",
   "version": "3.7.1"
  }
 },
 "nbformat": 4,
 "nbformat_minor": 2
}
