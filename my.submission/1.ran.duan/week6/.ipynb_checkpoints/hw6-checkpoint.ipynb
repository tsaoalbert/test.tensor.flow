{
 "cells": [
  {
   "cell_type": "markdown",
   "metadata": {},
   "source": [
    "<h1>\n",
    "<a href='http://interactivepython.org/runestone/static/pythonds/Trees/toctree.html'> \n",
    "    HW #6: Trees and Tree Algorithms  </a> </h1>"
   ]
  },
  {
   "cell_type": "markdown",
   "metadata": {},
   "source": [
    "<h3> \n",
    "The questions are taken from  <a href='\n",
    "http://interactivepython.org/runestone/static/pythonds/Trees/ProgrammingExercises.html    '>\n",
    "6.22. Programming Exercises  </a>\n",
    "</h3>"
   ]
  },
  {
   "cell_type": "raw",
   "metadata": {},
   "source": [
    "Q#1 Using the buildHeap method, write a sorting function that can sort a list in O(nlogn) time."
   ]
  },
  {
   "cell_type": "code",
   "execution_count": 1,
   "metadata": {},
   "outputs": [],
   "source": [
    "def buildHeap(arr, n, i): \n",
    "    largest = i # Initialize largest as root \n",
    "    l = 2 * i + 1     # left = 2*i + 1 \n",
    "    r = 2 * i + 2     # right = 2*i + 2 \n",
    "  \n",
    "    # See if left child of root exists and is \n",
    "    # greater than root \n",
    "    if l < n and arr[i] < arr[l]: \n",
    "        largest = l \n",
    "  \n",
    "    # See if right child of root exists and is \n",
    "    # greater than root \n",
    "    if r < n and arr[largest] < arr[r]: \n",
    "        largest = r \n",
    "  \n",
    "    # Change root, if needed \n",
    "    if largest != i: \n",
    "        arr[i],arr[largest] = arr[largest],arr[i] # swap \n",
    "  \n",
    "        # Heapify the root. \n",
    "        buildHeap(arr, n, largest) \n",
    "\n",
    "def heapSort(arr): \n",
    "    n = len(arr) \n",
    "  \n",
    "    # Build a maxheap. \n",
    "    for i in range(n, -1, -1): \n",
    "        buildHeap(arr, n, i) \n",
    "  \n",
    "    # One by one extract elements \n",
    "    for i in range(n-1, 0, -1): \n",
    "        arr[i], arr[0] = arr[0], arr[i] # swap \n",
    "        buildHeap(arr, i, 0) "
   ]
  },
  {
   "cell_type": "code",
   "execution_count": 3,
   "metadata": {},
   "outputs": [
    {
     "name": "stdout",
     "output_type": "stream",
     "text": [
      "Sorted array is\n",
      "0\n",
      "7\n",
      "8\n",
      "10\n",
      "11\n",
      "50\n"
     ]
    }
   ],
   "source": [
    "arr = [ 11, 10, 0, 8, 50, 7] \n",
    "heapSort(arr) \n",
    "n = len(arr) \n",
    "print (\"Sorted array is\") \n",
    "for i in range(n): \n",
    "    print (\"%d\" %arr[i]), "
   ]
  },
  {
   "cell_type": "raw",
   "metadata": {},
   "source": [
    "Q#2 Implement a binary heap as a max heap."
   ]
  },
  {
   "cell_type": "code",
   "execution_count": 20,
   "metadata": {},
   "outputs": [],
   "source": [
    "def maxHeap(A):\n",
    "    '''Turns a list `A` into a max-ordered binary heap.'''\n",
    "    n = len(A) - 1\n",
    "    # start at last parent and go left one node at a time\n",
    "    for node in range(n//2, -1, -1):\n",
    "        __siftdown(A, node)\n",
    "    return\n",
    "\n",
    "# runs in log(n) time\n",
    "def push_heap(A, val):\n",
    "    '''Pushes a value onto the heap `A` while keeping the heap property \n",
    "    intact.  The heap size increases by 1.'''\n",
    "    A.append(val)\n",
    "    __siftup(A, len(A) - 1)   # furthest left node\n",
    "    return\n",
    "\n",
    "# runs in log(n) time\n",
    "def pop_heap(A):\n",
    "    '''Returns the max value from the heap `A` while keeping the heap\n",
    "    property intact.  The heap size decreases by 1.'''\n",
    "    n = len(A) - 1\n",
    "    __swap(A, 0, n)\n",
    "    max = A.pop(n)\n",
    "    __siftdown(A, 0)\n",
    "    return max\n",
    "\n",
    "# runs in log(n) time\n",
    "def replace_key(A, node, newval):\n",
    "    '''Replace the key at node `node` in the max-heap `A` by `newval`.\n",
    "    The heap size does not change.'''\n",
    "    curval  = A[node]\n",
    "    A[node] = newval\n",
    "    # increase key\n",
    "    if newval > curval:\n",
    "        __siftup(A, node)\n",
    "    # decrease key\n",
    "    elif newval < curval:\n",
    "        __siftdown(A, node)\n",
    "    return\n",
    "    \n",
    "def __swap(A, i, j):\n",
    "    # the pythonic swap\n",
    "    A[i], A[j] = A[j], A[i]\n",
    "    return\n",
    "\n",
    "# runs in log(n) time   \n",
    "def __siftdown(A, node):\n",
    "    '''Traverse down a binary tree `A` starting at node `node` and \n",
    "    turn it into a max-heap'''\n",
    "    child = 2*node + 1\n",
    "    # base case, stop recursing when we hit the end of the heap\n",
    "    if child > len(A) - 1:\n",
    "        return\n",
    "    # check that second child exists; if so find max\n",
    "    if (child + 1 <= len(A) - 1) and (A[child+1] > A[child]):\n",
    "        child += 1\n",
    "    # preserves heap structure\n",
    "    if A[node] < A[child]:\n",
    "        __swap(A, node, child)\n",
    "        __siftdown(A, child)\n",
    "    else:\n",
    "        return\n",
    "\n",
    "# runs in log(n) time    \n",
    "def __siftup(A, node):\n",
    "    '''Traverse up an otherwise max-heap `A` starting at node `node`\n",
    "    (which is the only node that breaks the heap property) and restore \n",
    "    the heap structure.'''\n",
    "    parent = (node - 1)/2\n",
    "    if A[parent] < A[node]:\n",
    "        __swap(A, node, parent)\n",
    "    # base case; we've reached the top of the heap\n",
    "    if parent <= 0:\n",
    "        return\n",
    "    else:\n",
    "        __siftup(A, parent)"
   ]
  },
  {
   "cell_type": "code",
   "execution_count": 87,
   "metadata": {},
   "outputs": [
    {
     "name": "stdout",
     "output_type": "stream",
     "text": [
      "[51, 45, 3, 10, 20]\n"
     ]
    }
   ],
   "source": [
    "x = [10, 20, 3, 45, 51] \n",
    "maxHeap(x)\n",
    "print(x)"
   ]
  },
  {
   "cell_type": "raw",
   "metadata": {},
   "source": [
    "Q#3 Using the BinaryHeap class, implement a new class called PriorityQueue that implement the constructor, plus the enqueue and dequeue methods.\n",
    "Hints: see lecture note 7"
   ]
  },
  {
   "cell_type": "code",
   "execution_count": 30,
   "metadata": {},
   "outputs": [],
   "source": [
    "class BinHeap:\n",
    "    def __init__(self):\n",
    "        self.heapList = [0]\n",
    "        self.currentSize = 0\n",
    "        \n",
    "    def percUp(self,i):\n",
    "        while i // 2 > 0:\n",
    "            if self.heapList[i] < self.heapList[i // 2]:\n",
    "                tmp = self.heapList[i // 2]\n",
    "                self.heapList[i // 2] = self.heapList[i]\n",
    "                self.heapList[i] = tmp\n",
    "            i = i // 2\n",
    "        \n",
    "    def insert(self,k):\n",
    "        self.heapList.append(k)\n",
    "        self.currentSize = self.currentSize + 1\n",
    "        self.percUp(self.currentSize)\n",
    "        \n",
    "    def percDown(self,i):\n",
    "        while (i * 2) <= self.currentSize:\n",
    "            mc = self.minChild(i)\n",
    "            if self.heapList[i] > self.heapList[mc]:\n",
    "                tmp = self.heapList[i]\n",
    "                self.heapList[i] = self.heapList[mc]\n",
    "                self.heapList[mc] = tmp\n",
    "            i = mc\n",
    "\n",
    "    def minChild(self,i):\n",
    "        if i * 2 + 1 > self.currentSize:\n",
    "            return i * 2\n",
    "        else:\n",
    "            if self.heapList[i*2] < self.heapList[i*2+1]:\n",
    "                return i * 2\n",
    "            else:\n",
    "                return i * 2 + 1\n",
    "            \n",
    "    def delMin(self):\n",
    "        retval = self.heapList[1]\n",
    "        self.heapList[1] = self.heapList[self.currentSize]\n",
    "        self.currentSize = self.currentSize - 1\n",
    "        self.heapList.pop()\n",
    "        self.percDown(1)\n",
    "        return retval\n",
    "    \n",
    "    def buildHeap(self,alist):\n",
    "        i = len(alist) // 2\n",
    "        self.currentSize = len(alist)\n",
    "        self.heapList = [0] + alist[:]\n",
    "        while (i > 0):\n",
    "            self.percDown(i)\n",
    "            i = i - 1       \n"
   ]
  },
  {
   "cell_type": "code",
   "execution_count": 72,
   "metadata": {},
   "outputs": [],
   "source": [
    "class PriorityQueue(object): \n",
    "    def __init__(self): \n",
    "        self.bh = BinHeap()   \n",
    "    \n",
    "    def enqueue(self, data): \n",
    "        self.bh.insert(data)\n",
    "        \n",
    "    def dequeue(self):\n",
    "        return self.bh.delMin()"
   ]
  },
  {
   "cell_type": "code",
   "execution_count": 77,
   "metadata": {},
   "outputs": [
    {
     "name": "stdout",
     "output_type": "stream",
     "text": [
      "1\n",
      "7\n",
      "12\n",
      "14\n"
     ]
    }
   ],
   "source": [
    "pq = PriorityQueue()\n",
    "pq.enqueue(12) \n",
    "pq.enqueue(1)\n",
    "pq.enqueue(14) \n",
    "pq.enqueue(7) \n",
    "print(pq.dequeue())\n",
    "print(pq.dequeue())\n",
    "print(pq.dequeue())\n",
    "print(pq.dequeue())"
   ]
  },
  {
   "cell_type": "raw",
   "metadata": {},
   "source": [
    "Q#4 Consdier the following max-heap tree. Show the new  tree and the srray after insertinn number 7"
   ]
  },
  {
   "cell_type": "markdown",
   "metadata": {},
   "source": [
    "<div class=\"binarySearch\">\n",
    "    <div style=\"float:left;margin-top:75px;\">\n",
    "    <figure>\n",
    "        <img src=\"images/heap.insert.1.png\" width=\"550\"  />\n",
    "        <figcaption style=\"text-align:center;\">   </figcaption>\n",
    "    </figure>\n",
    "    </div>\n",
    "    <div style=\"float:left;margin-right:55px;\">\n",
    "    <figure>\n",
    "        <img src=\"images/heap.insert.2.png\"  width=\"550\"  />\n",
    "        <figcaption style=\"text-align:center;\">   </figcaption>\n",
    "    </figure>\n",
    "    </div>\n",
    "</div>"
   ]
  },
  {
   "cell_type": "markdown",
   "metadata": {},
   "source": [
    "![title](img/picture.png)"
   ]
  },
  {
   "cell_type": "raw",
   "metadata": {},
   "source": [
    "The array after inserting 7:\n",
    "[5, 7, 11, 14, 9, 19, 21, 33, 17, 27, 18]"
   ]
  },
  {
   "cell_type": "raw",
   "metadata": {},
   "source": [
    "Q#5 Modify our implementation of the binary search tree so that it handles duplicate keys properly. That is, if a key is already in the tree then the new payload should replace the old rather than add another node with the same key."
   ]
  },
  {
   "cell_type": "code",
   "execution_count": 80,
   "metadata": {},
   "outputs": [],
   "source": [
    "class BinarySearchTree:\n",
    "\n",
    "    def __init__(self):\n",
    "        self.root = None\n",
    "        self.size = 0\n",
    "\n",
    "    def length(self):\n",
    "        return self.size\n",
    "\n",
    "    def __len__(self):\n",
    "        return self.size\n",
    "\n",
    "    def __iter__(self):\n",
    "        return self.root.__iter__()\n",
    "\n",
    "class TreeNode:\n",
    "    def __init__(self,key,val,left=None,right=None,\n",
    "                                       parent=None):\n",
    "        self.key = key\n",
    "        self.payload = val\n",
    "        self.leftChild = left\n",
    "        self.rightChild = right\n",
    "        self.parent = parent\n",
    "\n",
    "    def hasLeftChild(self):\n",
    "        return self.leftChild\n",
    "\n",
    "    def hasRightChild(self):\n",
    "        return self.rightChild\n",
    "\n",
    "    def isLeftChild(self):\n",
    "        return self.parent and \\\n",
    "               self.parent.leftChild == self\n",
    "\n",
    "    def isRightChild(self):\n",
    "        return self.parent and \\\n",
    "               self.parent.rightChild == self\n",
    "\n",
    "    def isRoot(self):\n",
    "        return not self.parent\n",
    "\n",
    "    def isLeaf(self):\n",
    "        return not (self.rightChild or self.leftChild)\n",
    "\n",
    "    def hasAnyChildren(self):\n",
    "        return self.rightChild or self.leftChild\n",
    "\n",
    "    def hasBothChildren(self):\n",
    "        return self.rightChild and self.leftChild\n",
    "\n",
    "    def replaceNodeData(self,key,value,lc,rc):\n",
    "        self.key = key\n",
    "        self.payload = value\n",
    "        self.leftChild = lc\n",
    "        self.rightChild = rc\n",
    "        if self.hasLeftChild():\n",
    "            self.leftChild.parent = self\n",
    "        if self.hasRightChild():\n",
    "            self.rightChild.parent = self\n",
    "\n",
    "    def put(self,key,val):\n",
    "        if self.root:\n",
    "            self._put(key,val,self.root)\n",
    "        else:\n",
    "            self.root = TreeNode(key,val)\n",
    "        self.size = self.size + 1\n",
    "\n",
    "    def _put(self,key,val,currentNode): # handles duplicate keys\n",
    "        # If a key already exists in the tree, then the new payload replace the old value\n",
    "        if key == currentNode.key: \n",
    "            currentNode.value = val\n",
    "\n",
    "        elif key < currentNode.key:\n",
    "            if currentNode.hasLeftChild():\n",
    "                self._put(key,val,currentNode.leftChild)\n",
    "            else:\n",
    "                currentNode.leftChild = TreeNode(key,val,\n",
    "                                      parent=currentNode)\n",
    "        else:\n",
    "            if currentNode.hasRightChild():\n",
    "                self._put(key,val,currentNode.rightChild)\n",
    "            else:\n",
    "                currentNode.rightChild = TreeNode(key,val,\n",
    "                                      parent=currentNode)"
   ]
  },
  {
   "cell_type": "markdown",
   "metadata": {},
   "source": [
    "Bonus question:\n",
    "Using the following as a starting point, derive the equation that gives the updated balance factor for node D.\n",
    "<div class=\"parse.tree\">\n",
    "    <div style=\"float:left;margin-top:55px;\">\n",
    "    <figure>\n",
    "        <img src=\"images/exer.5.14.png\"  width=\"550\" />\n",
    "        <figcaption style=\"text-align:center;\">  </figcaption>\n",
    "    </figure>\n",
    "    </div>\n",
    "</div>\n",
    "Hints: Read  <a href='http://interactivepython.org/runestone/static/pythonds/Trees/AVLTreeImplementation.html'>6.17. </a>"
   ]
  }
 ],
 "metadata": {
  "kernelspec": {
   "display_name": "Python 3",
   "language": "python",
   "name": "python3"
  },
  "language_info": {
   "codemirror_mode": {
    "name": "ipython",
    "version": 3
   },
   "file_extension": ".py",
   "mimetype": "text/x-python",
   "name": "python",
   "nbconvert_exporter": "python",
   "pygments_lexer": "ipython3",
   "version": "3.7.1"
  }
 },
 "nbformat": 4,
 "nbformat_minor": 2
}
