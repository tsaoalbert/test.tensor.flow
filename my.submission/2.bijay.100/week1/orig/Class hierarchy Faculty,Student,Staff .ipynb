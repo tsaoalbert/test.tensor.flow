{
 "cells": [
  {
   "cell_type": "markdown",
   "metadata": {},
   "source": [
    "Construct a class hierarchy for people on a college campus, including faculty, staff, and students. \n",
    "What do they have in common? For example, they all have names.\n",
    "What distinguishes them from one another? "
   ]
  },
  {
   "cell_type": "code",
   "execution_count": 46,
   "metadata": {},
   "outputs": [],
   "source": [
    "class People(object):   # base class\n",
    "\n",
    "    def __init__(self, name, types):\n",
    "        self.name = name\n",
    "        self.types = types\n",
    "\n",
    "    def getName(self):\n",
    "        return self.name\n",
    "\n",
    "    def getTypes(self):\n",
    "        return self.types\n",
    "\n",
    "    def __str__(self):\n",
    "        return \"%s is a %s\" % (self.name, self.types)"
   ]
  },
  {
   "cell_type": "code",
   "execution_count": 47,
   "metadata": {},
   "outputs": [],
   "source": [
    "class Faculty(People):   # subclass\n",
    "\n",
    "    def __init__(self, name, teaches_student):\n",
    "        People.__init__(self, name, \"Faculty\")\n",
    "        self.teaches_student = teaches_student\n",
    "\n",
    "    def teachesStudent(self):\n",
    "        return self.teaches_student\n",
    "\n",
    "    def __str__(self):\n",
    "        s = [ \"teaches students.\", \"hates late submissions.\"]\n",
    "        i = self.teachesStudent()\n",
    "        return People.__str__(self) + \", and \" + s[self.teachesStudent()]"
   ]
  },
  {
   "cell_type": "code",
   "execution_count": 48,
   "metadata": {},
   "outputs": [],
   "source": [
    "class Students(People):\n",
    "    def __init__(self, name, learn_courses):\n",
    "        People.__init__(self, name, \"Students\")\n",
    "        self.learn_courses = learn_courses\n",
    "        \n",
    "    def learnCourses(self):\n",
    "        return self.learn_courses\n",
    "    \n",
    "    def __str__(self):\n",
    "        s = [ \"learn courses.\", \"hates assignments and homework.\"]\n",
    "        i = self.learnCourses()\n",
    "        return People.__str__(self) + \", and \" + s[self.learnCourses()]"
   ]
  },
  {
   "cell_type": "code",
   "execution_count": 49,
   "metadata": {},
   "outputs": [],
   "source": [
    "class Staff(People):\n",
    "    def __init__(self, name, help_people):\n",
    "        People.__init__(self, name, \"Staff\")\n",
    "        self.help_people = help_people\n",
    "        \n",
    "    def helpPeople(self):\n",
    "        return self.help_people\n",
    "    \n",
    "    def __str__(self):\n",
    "        s = [ \"help people.\", \"hates indescipline and rowdy students.\"]\n",
    "        i = self.helpPeople()\n",
    "        return People.__str__(self) + \", and \" + s[self.helpPeople()]"
   ]
  },
  {
   "cell_type": "code",
   "execution_count": 50,
   "metadata": {
    "scrolled": true
   },
   "outputs": [
    {
     "name": "stdout",
     "output_type": "stream",
     "text": [
      "Smith is a Faculty, and hates late submissions.\n",
      "Paul is a Students, and hates assignments and homework.\n",
      "Tim is a Staff, and hates indescipline and rowdy students.\n"
     ]
    }
   ],
   "source": [
    "smith = Faculty(\"Smith\", True)\n",
    "\n",
    "paul = Students(\"Paul\", True)\n",
    "\n",
    "tim = Staff(\"Tim\", True)\n",
    "\n",
    "\n",
    "list = [smith,paul,tim]\n",
    "for p in list:\n",
    "    print(p)"
   ]
  }
 ],
 "metadata": {
  "kernelspec": {
   "display_name": "Python 3",
   "language": "python",
   "name": "python3"
  },
  "language_info": {
   "codemirror_mode": {
    "name": "ipython",
    "version": 3
   },
   "file_extension": ".py",
   "mimetype": "text/x-python",
   "name": "python",
   "nbconvert_exporter": "python",
   "pygments_lexer": "ipython3",
   "version": "3.7.1"
  }
 },
 "nbformat": 4,
 "nbformat_minor": 2
}
