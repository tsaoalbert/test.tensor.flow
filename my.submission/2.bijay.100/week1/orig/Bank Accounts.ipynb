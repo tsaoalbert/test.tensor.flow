{
 "cells": [
  {
   "cell_type": "code",
   "execution_count": 22,
   "metadata": {},
   "outputs": [],
   "source": [
    "class Account(object):   # base class\n",
    "\n",
    "    def __init__(self, name, types):\n",
    "        self.name = name\n",
    "        self.types = types\n",
    "\n",
    "    def getName(self):\n",
    "        return self.name\n",
    "\n",
    "    def getTypes(self):\n",
    "        return self.types\n",
    "\n",
    "    def __str__(self):\n",
    "        return \"%s is a %s\" % (self.name, self.types)"
   ]
  },
  {
   "cell_type": "code",
   "execution_count": 23,
   "metadata": {},
   "outputs": [],
   "source": [
    "class Savings(Account):   # subclass\n",
    "\n",
    "    def __init__(self, name, saves_money):\n",
    "        Account.__init__(self, name, \"Savings Account\")\n",
    "        self.saves_money = saves_money\n",
    "\n",
    "    def savesMoney(self):\n",
    "        return self.saves_money\n",
    "\n",
    "    def __str__(self):\n",
    "        s = [ \"saves money\", \"is a Chase Bank Account that saves money.\"]\n",
    "        i = self.savesMoney()\n",
    "        return Account.__str__(self) + \", and \" + s[self.savesMoney()]"
   ]
  },
  {
   "cell_type": "code",
   "execution_count": 24,
   "metadata": {},
   "outputs": [],
   "source": [
    "class Checking(Account):   # subclass\n",
    "\n",
    "    def __init__(self, name, stores_money):\n",
    "        Account.__init__(self, name, \"Checking Account\")\n",
    "        self.stores_money = stores_money\n",
    "\n",
    "    def storesMoney(self):\n",
    "        return self.stores_money\n",
    "\n",
    "    def __str__(self):\n",
    "        s = [ \"stores money\", \"is a BoA Bank Account with Current balance.\"]\n",
    "        i = self.storesMoney()\n",
    "        return Account.__str__(self) + \", and \" + s[self.storesMoney()]"
   ]
  },
  {
   "cell_type": "code",
   "execution_count": 25,
   "metadata": {},
   "outputs": [],
   "source": [
    "class Deposit(Account):   # subclass\n",
    "\n",
    "    def __init__(self, name, deposit_money):\n",
    "        Account.__init__(self, name, \"Deposit Account\")\n",
    "        self.deposit_money = deposit_money\n",
    "\n",
    "    def depositMoney(self):\n",
    "        return self.deposit_money\n",
    "\n",
    "    def __str__(self):\n",
    "        s = [ \"Deposit money\", \"is a Wells Fargo Deposit Bank Account where all deposits are made.\"]\n",
    "        i = self.depositMoney()\n",
    "        return Account.__str__(self) + \", and \" + s[self.depositMoney()]"
   ]
  },
  {
   "cell_type": "code",
   "execution_count": 26,
   "metadata": {},
   "outputs": [
    {
     "name": "stdout",
     "output_type": "stream",
     "text": [
      "Chase is a Savings Account, and is a Chase Bank Account that saves money.\n",
      "Bank of America is a Checking Account, and is a BoA Bank Account with Current balance.\n",
      "Wells Fargo is a Deposit Account, and is a Wells Fargo Deposit Bank Account where all deposits are made.\n"
     ]
    }
   ],
   "source": [
    "chase = Savings (\"Chase\", True)\n",
    "boa = Checking (\"Bank of America\", True)\n",
    "wellsfargo = Deposit(\"Wells Fargo\", True)\n",
    "list = [chase,boa,wellsfargo]\n",
    "for p in list:\n",
    "    print(p)"
   ]
  },
  {
   "cell_type": "code",
   "execution_count": null,
   "metadata": {},
   "outputs": [],
   "source": []
  }
 ],
 "metadata": {
  "kernelspec": {
   "display_name": "Python 3",
   "language": "python",
   "name": "python3"
  },
  "language_info": {
   "codemirror_mode": {
    "name": "ipython",
    "version": 3
   },
   "file_extension": ".py",
   "mimetype": "text/x-python",
   "name": "python",
   "nbconvert_exporter": "python",
   "pygments_lexer": "ipython3",
   "version": "3.7.1"
  }
 },
 "nbformat": 4,
 "nbformat_minor": 2
}
