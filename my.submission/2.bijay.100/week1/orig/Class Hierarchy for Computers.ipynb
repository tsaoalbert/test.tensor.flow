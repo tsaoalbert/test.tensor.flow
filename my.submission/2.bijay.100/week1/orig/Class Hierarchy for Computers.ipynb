{
 "cells": [
  {
   "cell_type": "code",
   "execution_count": 40,
   "metadata": {},
   "outputs": [],
   "source": [
    "class Computer(object):   # base class\n",
    "\n",
    "    def __init__(self, name, types):\n",
    "        self.name = name\n",
    "        self.types = types\n",
    "\n",
    "    def getName(self):\n",
    "        return self.name\n",
    "\n",
    "    def getTypes(self):\n",
    "        return self.types\n",
    "\n",
    "    def __str__(self):\n",
    "        return \"%s is a %s\" % (self.name, self.types)"
   ]
  },
  {
   "cell_type": "code",
   "execution_count": 41,
   "metadata": {},
   "outputs": [],
   "source": [
    "class Laptop(Computer):   # subclass\n",
    "\n",
    "    def __init__(self, name, is_portable):\n",
    "        Computer.__init__(self, name, \"Laptop\")\n",
    "        self.is_portable = is_portable\n",
    "\n",
    "    def isPortable(self):\n",
    "        return self.is_portable\n",
    "\n",
    "    def __str__(self):\n",
    "        s = [ \"is poratble.\", \"easy to carry around\"]\n",
    "        return Computer.__str__(self) + \", and \" + s[self.isPortable()]"
   ]
  },
  {
   "cell_type": "code",
   "execution_count": 42,
   "metadata": {},
   "outputs": [],
   "source": [
    "class Desktop(Computer):   # subclass\n",
    "\n",
    "    def __init__(self, name, not_portable):\n",
    "        Computer.__init__(self, name, \"Desktop\")\n",
    "        self.not_portable = not_portable\n",
    "\n",
    "    def notPortable(self):\n",
    "        return self.not_portable\n",
    "    def __str__(self):\n",
    "        s = [ \"is not poratble.\", \"difficult to carry around\"]\n",
    "        i = self.notPortable()\n",
    "        return Computer.__str__(self) + \", and \" + s[self.notPortable()]"
   ]
  },
  {
   "cell_type": "code",
   "execution_count": 43,
   "metadata": {
    "scrolled": true
   },
   "outputs": [
    {
     "name": "stdout",
     "output_type": "stream",
     "text": [
      "Imac is a Desktop, and difficult to carry around\n",
      "Mac Book is a Laptop, and easy to carry around\n"
     ]
    }
   ],
   "source": [
    "imac = Desktop(\"Imac\", True)\n",
    "macbook = Laptop(\"Mac Book\",True)\n",
    "list = [imac,macbook]\n",
    "for p in list:\n",
    "    print(p)"
   ]
  },
  {
   "cell_type": "code",
   "execution_count": null,
   "metadata": {},
   "outputs": [],
   "source": []
  }
 ],
 "metadata": {
  "kernelspec": {
   "display_name": "Python 3",
   "language": "python",
   "name": "python3"
  },
  "language_info": {
   "codemirror_mode": {
    "name": "ipython",
    "version": 3
   },
   "file_extension": ".py",
   "mimetype": "text/x-python",
   "name": "python",
   "nbconvert_exporter": "python",
   "pygments_lexer": "ipython3",
   "version": "3.7.1"
  }
 },
 "nbformat": 4,
 "nbformat_minor": 2
}
