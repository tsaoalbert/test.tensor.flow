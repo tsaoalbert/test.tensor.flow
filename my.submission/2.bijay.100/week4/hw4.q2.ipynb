{
 "cells": [
  {
   "cell_type": "code",
   "execution_count": null,
   "metadata": {},
   "outputs": [],
   "source": [
    "Iterative and Recursive Fibonacci Numbers"
   ]
  },
  {
   "cell_type": "code",
   "execution_count": 11,
   "metadata": {},
   "outputs": [
    {
     "name": "stdout",
     "output_type": "stream",
     "text": [
      "832040\n",
      "832040\n"
     ]
    }
   ],
   "source": [
    "def fib_r (n): \n",
    "    if( n <= 2):\n",
    "        return 1\n",
    "    return fib_r(n-1)+fib_r(n-2)\n",
    "def fib_i (n):\n",
    "    a=b=c=1\n",
    "    for i in range (3,n+1):\n",
    "        c=a+b;\n",
    "        a,b=b,c\n",
    "    return c\n",
    "i = 30\n",
    "x = fib_i(i); print (x)\n",
    "y = fib_r(i);print (y)\n",
    "\n",
    "\n",
    "    \n",
    "    "
   ]
  },
  {
   "cell_type": "code",
   "execution_count": null,
   "metadata": {},
   "outputs": [],
   "source": []
  }
 ],
 "metadata": {
  "kernelspec": {
   "display_name": "Python 3",
   "language": "python",
   "name": "python3"
  },
  "language_info": {
   "codemirror_mode": {
    "name": "ipython",
    "version": 3
   },
   "file_extension": ".py",
   "mimetype": "text/x-python",
   "name": "python",
   "nbconvert_exporter": "python",
   "pygments_lexer": "ipython3",
   "version": "3.7.1"
  }
 },
 "nbformat": 4,
 "nbformat_minor": 2
}
