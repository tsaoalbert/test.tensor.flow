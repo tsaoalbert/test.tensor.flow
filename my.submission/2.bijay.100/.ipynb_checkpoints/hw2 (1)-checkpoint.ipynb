{
 "cells": [
  {
   "cell_type": "markdown",
   "metadata": {},
   "source": [
    "# Grade: 75/100\n",
    "# xxx Submit the missing works for Q4 to get back the full credit\n",
    "The following program displays the relationship between  run time vs the problem size for different opeations\n",
    "Repeat this experiements to display the relationship between  run time vs the problem size for anagramSolution 1,2, and 4. (Hints: you can use the codes from the lecture.)"
   ]
  },
  {
   "cell_type": "markdown",
   "metadata": {},
   "source": [
    "<h1> <a href='http://interactivepython.org/runestone/static/pythonds/AlgorithmAnalysis/toctree.html'> Assignment 2:  Algorithm Analysis  </a> </h1>"
   ]
  },
  {
   "cell_type": "markdown",
   "metadata": {},
   "source": [
    "<h3> <a href='http://interactivepython.org/runestone/static/pythonds/AlgorithmAnalysis/ProgrammingExercises.html'> 2.11 Programming Exercises  </a> </h3>"
   ]
  },
  {
   "cell_type": "markdown",
   "metadata": {},
   "source": [
    "Q1: What are the time complexity with Big-O notation for each of the following operations?\n",
    "* list index operator\n",
    "* dictionary get operator\n",
    "* dictionary set operator\n",
    "* del operator for lists \n",
    "* del operator for dictionaries \n"
   ]
  },
  {
   "cell_type": "markdown",
   "metadata": {},
   "source": [
    "Q2: (Continue) The following is an experiment to verify the time complexity of operations mentioned above.\n",
    " Fill in one of the five timeit.Timer objects (oa, ob,oc,od,oe) in the program  that are used to measure the perfromance of the following \n",
    "* list index operator             \n",
    "* Ans: ______________ (Choose one of the objects oa, ob,oc,od,oe in the program.) \n",
    "* dictionary get operator         \n",
    "* Ans: ______________ (Choose one of the objects oa, ob,oc,od,oe in the program.)\n",
    "* dictionary set operator  \n",
    "* Ans: ______________ (Choose one of the objects oa, ob,oc,od,oe in the program.)\n",
    "* del operator for lists  \n",
    "* Ans: ______________ (Choose one of the objects oa, ob,oc,od,oe in the program.)\n",
    "* del operator for dictionaries   \n",
    "* Ans: ______________ (Choose one of the objects oa, ob,oc,od,oe in the program.)"
   ]
  },
  {
   "cell_type": "raw",
   "metadata": {},
   "source": [
    "Q#3 (Continue) Usually the program take more time for larger problem size.\n",
    "As you may notice, the experimental data does not always show the property.\n",
    "perfromance of the following \n",
    "Discuss the possible reasons why this happens in the experiments."
   ]
  },
  {
   "cell_type": "code",
   "execution_count": 2,
   "metadata": {
    "scrolled": true
   },
   "outputs": [
    {
     "name": "stdout",
     "output_type": "stream",
     "text": [
      "   index:      list_index        dict_get        dict_set        list_del        dict_del \n",
      "  100000:         0.00003         0.00003         0.00001         0.00265         0.00002 \n",
      "  200000:         0.00003         0.00003         0.00002         0.00436         0.00003 \n",
      "  300000:         0.00003         0.00003         0.00001         0.00710         0.00004 \n",
      "  400000:         0.00003         0.00004         0.00001         0.01286         0.00005 \n",
      "  500000:         0.00004         0.00005         0.00002         0.01821         0.00005 \n",
      "  600000:         0.00006         0.00003         0.00001         0.02381         0.00006 \n",
      "  700000:         0.00005         0.00003         0.00001         0.04348         0.00006 \n",
      "  800000:         0.00011         0.00003         0.00001         0.03988         0.00007 \n",
      "  900000:         0.00011         0.00009         0.00003         0.05610         0.00018 \n",
      " 1000000:         0.00006         0.00004         0.00002         0.04198         0.00006 \n"
     ]
    }
   ],
   "source": [
    "\"\"\"\n",
    "\n",
    "#2.1 Devise an experiment to verify that the list index operator is O(1)\n",
    "#2.2 Devise an experiment to verify that get item and set item are O(1) for dictionaries.\n",
    "#2.3 Devise an experiment that compares the performance of the \n",
    "      del operator on lists and dictionaries.\n",
    "      \n",
    "\"\"\"\n",
    "import timeit\n",
    "import random as r\n",
    "\n",
    "oa = timeit.Timer(\"for i in L: lis[i]\", \"from __main__ import lis,L\")\n",
    "ob = timeit.Timer(\"for i in L: dict[i]\", \"from __main__ import dict,L\")\n",
    "oc = timeit.Timer(\"for i in L: dict[i]=-i\", \"from __main__ import dict,L\")\n",
    "\n",
    "od = timeit.Timer(\"for i in L: del lis[i]\", \"from __main__ import  lis,L; \")\n",
    "oe = timeit.Timer(\"for i in L: del dict[i]\", \"from __main__ import  dict,L; \")\n",
    "\n",
    "\n",
    "inc = 100000   #100000\n",
    "print(\"%8s: %15s %15s %15s %15s %15s \" \\\n",
    "      %(\"index\", \"list_index\",\"dict_get\",\"dict_set\", \"list_del\", \"dict_del\" ))\n",
    "num_repeats = 1       # 100000\n",
    "m = 100\n",
    "X= list ( range ( inc, inc*11, inc))\n",
    "A=[]; B=[]; C=[]; D=[]; E=[]\n",
    "for n in X :\n",
    "    lis = list(range(n))\n",
    "    dict = { i : i for i in lis }\n",
    "    L = list(range(0,n-m, n//m ))  # index\n",
    "       \n",
    "    a = oa.timeit(number=num_repeats)\n",
    "    b = ob.timeit(number=num_repeats)\n",
    "    c = oc.timeit(number=num_repeats)\n",
    "    A.append ( a )\n",
    "    B.append ( b )\n",
    "    C.append ( c)\n",
    "    \n",
    "    d = od.timeit(number=num_repeats)\n",
    "    e = oe.timeit(number=num_repeats)\n",
    "\n",
    "    D.append(d)\n",
    "    E.append (e )\n",
    "    print(\"%8d: %15.5f %15.5f %15.5f %15.5f %15.5f \" %(n, \\\n",
    "    a, b, c, d, e  ))\n"
   ]
  },
  {
   "cell_type": "raw",
   "metadata": {},
   "source": [
    "Q#4,\n",
    "\n",
    "The following program displays the relationship between  run time vs the problem size for different opeations\n",
    "Repeat this experiements to display the relationship between  run time vs the problem size for anagramSolution 1,2, and 4. (Hints: you can use the codes from the lecture.)"
   ]
  },
  {
   "cell_type": "code",
   "execution_count": 3,
   "metadata": {},
   "outputs": [
    {
     "data": {
      "image/png": "[encoded data removed]",
      "text/plain": [
       "<Figure size 1152x648 with 1 Axes>"
      ]
     },
     "metadata": {},
     "output_type": "display_data"
    }
   ],
   "source": [
    "%matplotlib inline\n",
    "import matplotlib.pyplot as plt\n",
    "plt.style.use('seaborn-whitegrid')\n",
    "plt.figure(figsize=(16,9))\n",
    "\n",
    "\n",
    "plt.plot(X, A, label=\"A: \")\n",
    "plt.plot(X, B, label='B: ')\n",
    "plt.plot(X, C, label='C: ')\n",
    "\n",
    "plt.plot(X, D, label=\"D: \")\n",
    "plt.plot(X, E, label='E: ')\n",
    "\n",
    "plt.legend(loc=\"upper center\", fontsize=\"xx-large\")\n",
    "plt.show()"
   ]
  },
  {
   "cell_type": "markdown",
   "metadata": {},
   "source": [
    "#   END of ASSIGNMENT"
   ]
  },
  {
   "cell_type": "markdown",
   "metadata": {},
   "source": [
    "Question 1\n",
    "\n",
    "list index operator -- O(1)\n",
    "dictionary get operator -- O(1)\n",
    "dictionary set operator --O(1)\n",
    "del operator for lists -- O(n)\n",
    "del operator for dictionaries -- O(1)"
   ]
  },
  {
   "cell_type": "markdown",
   "metadata": {},
   "source": [
    "Q2#\n",
    "(Continue) The following is an experiment to verify the time complexity of operations mentioned above. Fill in one of the five timeit.Timer objects (oa, ob,oc,od,oe) in the program that are used to measure the perfromance of the following\n",
    "\n",
    "    list index operator\n",
    "    Ans: _oa_ (Choose one of the objects oa, ob,oc,od,oe in the program.)\n",
    "    dictionary get operator\n",
    "    Ans: _ob_ (Choose one of the objects oa, ob,oc,od,oe in the program.)\n",
    "    dictionary set operator\n",
    "    Ans: _oc_ (Choose one of the objects oa, ob,oc,od,oe in the program.)\n",
    "    del operator for lists A\n",
    "    Ans: _od_ (Choose one of the objects oa, ob,oc,od,oe in the program.)\n",
    "    del operator for dictionaries\n",
    "    Ans: _oe_ (Choose one of the objects oa, ob,oc,od,oe in the program.)\n"
   ]
  },
  {
   "cell_type": "code",
   "execution_count": 4,
   "metadata": {},
   "outputs": [
    {
     "ename": "SyntaxError",
     "evalue": "invalid syntax (<ipython-input-4-d4610891927b>, line 2)",
     "output_type": "error",
     "traceback": [
      "\u001b[0;36m  File \u001b[0;32m\"<ipython-input-4-d4610891927b>\"\u001b[0;36m, line \u001b[0;32m2\u001b[0m\n\u001b[0;31m    As we see from the graph, Delete opration of list takes more time because it requires\u001b[0m\n\u001b[0m        ^\u001b[0m\n\u001b[0;31mSyntaxError\u001b[0m\u001b[0;31m:\u001b[0m invalid syntax\n"
     ]
    }
   ],
   "source": [
    "Q3#\n",
    "As we see from the graph, Delete opration of list takes more time because it requires \n",
    "shifting of elements and then deleting the required one. But accessingof elements requires\n",
    "O(1), which is clear from the graph above. AS the size increases, shifting will take more \n",
    "time which is why in the graph given, it takes more time for the larger size of data.\n",
    "Accessing of array calucaltes its memory by the list address * list index * and data size\n",
    "which is easy to access.\n",
    "\n",
    "For Dictionary, it maintain key value pair with hash function. With the given key it will \n",
    "easily figure out the location of the value from hash funciton.So setting and getting and deleting\n",
    "from dictionary is O(1). "
   ]
  }
 ],
 "metadata": {
  "kernelspec": {
   "display_name": "Python 3",
   "language": "python",
   "name": "python3"
  },
  "language_info": {
   "codemirror_mode": {
    "name": "ipython",
    "version": 3
   },
   "file_extension": ".py",
   "mimetype": "text/x-python",
   "name": "python",
   "nbconvert_exporter": "python",
   "pygments_lexer": "ipython3",
   "version": "3.7.1"
  }
 },
 "nbformat": 4,
 "nbformat_minor": 2
}
