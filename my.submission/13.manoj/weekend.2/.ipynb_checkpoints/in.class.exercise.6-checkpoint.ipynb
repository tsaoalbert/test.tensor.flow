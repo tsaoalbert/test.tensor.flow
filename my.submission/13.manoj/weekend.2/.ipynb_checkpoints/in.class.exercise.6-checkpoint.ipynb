{
 "cells": [
  {
   "cell_type": "markdown",
   "metadata": {},
   "source": [
    "<h1>\n",
    "<a href='http://interactivepython.org/runestone/static/pythonds/Trees/toctree.html'> \n",
    "    In Class Exercise #6: Trees and Tree Algorithms  </a>\n",
    "    </h1>"
   ]
  },
  {
   "cell_type": "markdown",
   "metadata": {},
   "source": [
    "<h1> <a href='\n",
    "http://interactivepython.org/runestone/static/pythonds/Trees/DiscussionQuestions.html'>\n",
    "6.21. Discussion Questions  </a>\n",
    "</h1>"
   ]
  },
  {
   "cell_type": "code",
   "execution_count": null,
   "metadata": {},
   "outputs": [],
   "source": [
    "Consider the following list of integers: [1,2,3,4,5,6,7,8,9,10]. Show the binary search tree resulting from inserting the integers in the list."
   ]
  },
  {
   "cell_type": "code",
   "execution_count": 18,
   "metadata": {},
   "outputs": [
    {
     "name": "stdout",
     "output_type": "stream",
     "text": [
      "1\n",
      "2\n",
      "3\n",
      "4\n",
      "5\n",
      "6\n",
      "7\n",
      "8\n",
      "9\n",
      "10\n"
     ]
    }
   ],
   "source": [
    "class Node: \n",
    "    def __init__(self,key): \n",
    "        self.left = None\n",
    "        self.right = None\n",
    "        self.val = key \n",
    "  \n",
    "# for inserting into tree\n",
    "def insert(root,node): \n",
    "    if root is None: \n",
    "        root = node \n",
    "    else: \n",
    "        if root.val < node.val: \n",
    "            if root.right is None: \n",
    "                root.right = node \n",
    "            else: \n",
    "                insert(root.right, node) \n",
    "        else: \n",
    "            if root.left is None: \n",
    "                root.left = node \n",
    "            else: \n",
    "                insert(root.left, node) \n",
    "  \n",
    "# for reading tree\n",
    "def inorder(root): \n",
    "    if root: \n",
    "        inorder(root.left) \n",
    "        print(root.val) \n",
    "        inorder(root.right)\n",
    "alist=[1,2,3,4,5,6,7,8,9,10]\n",
    "binary_search_tree = Node(alist[0]) \n",
    "for i in range(1,len(alist)):\n",
    "    insert(binary_search_tree,Node(alist[i])) \n",
    "\n",
    "    \n",
    "def inorder(root): \n",
    "    if root: \n",
    "        inorder(root.left) \n",
    "        print(root.val) \n",
    "        inorder(root.right)\n",
    "inorder(binary_search_tree)"
   ]
  },
  {
   "cell_type": "code",
   "execution_count": null,
   "metadata": {},
   "outputs": [],
   "source": [
    "Consider the following list of integers: [10,9,8,7,6,5,4,3,2,1]. Show the binary search tree resulting from inserting the integers in the list."
   ]
  },
  {
   "cell_type": "code",
   "execution_count": 19,
   "metadata": {},
   "outputs": [
    {
     "name": "stdout",
     "output_type": "stream",
     "text": [
      "1\n",
      "2\n",
      "3\n",
      "4\n",
      "5\n",
      "6\n",
      "7\n",
      "8\n",
      "9\n",
      "10\n"
     ]
    }
   ],
   "source": [
    "class Node: \n",
    "    def __init__(self,key): \n",
    "        self.left = None\n",
    "        self.right = None\n",
    "        self.val = key \n",
    "  \n",
    "# to insert \n",
    "def insert(root,node): \n",
    "    if root is None: \n",
    "        root = node \n",
    "    else: \n",
    "        if root.val < node.val: \n",
    "            if root.right is None: \n",
    "                root.right = node \n",
    "            else: \n",
    "                insert(root.right, node) \n",
    "        else: \n",
    "            if root.left is None: \n",
    "                root.left = node \n",
    "            else: \n",
    "                insert(root.left, node) \n",
    "  \n",
    "#to read \n",
    "def inorder(root): \n",
    "    if root: \n",
    "        inorder(root.left) \n",
    "        print(root.val) \n",
    "        inorder(root.right)\n",
    "alist=[10,9,8,7,6,5,4,3,2,1]\n",
    "binary_search_tree = Node(alist[0]) \n",
    "for i in range(1,len(alist)):\n",
    "    insert(binary_search_tree,Node(alist[i])) \n",
    "\n",
    "    \n",
    "def inorder(root): \n",
    "    if root: \n",
    "        inorder(root.left) \n",
    "        print(root.val) \n",
    "        inorder(root.right)\n",
    "inorder(binary_search_tree)"
   ]
  },
  {
   "cell_type": "raw",
   "metadata": {},
   "source": [
    "Generate a random list of integers. Show the binary heap tree resulting from inserting the integers on the list one at a time.\n",
    "Using the list from the previous question, show the binary heap tree resulting from using the list as a parameter to the buildHeap method. Show both the tree and list form"
   ]
  },
  {
   "cell_type": "code",
   "execution_count": 23,
   "metadata": {},
   "outputs": [
    {
     "name": "stdout",
     "output_type": "stream",
     "text": [
      "[11, 16, 42, 26, 7, 6, 64, 52, 85, 59]\n",
      "[6, 7, 11, 16, 26, 42, 52, 59, 64, 85]\n"
     ]
    }
   ],
   "source": [
    "class BinHeap:\n",
    "\tdef __init__(self):\n",
    "\t\tself.heapList = [0]\n",
    "\t\tself.currentSize = 0\n",
    "\n",
    "\tdef percUp(self,i):\n",
    "\t\twhile i // 2 > 0:\n",
    "\t\t\tif self.heapList[i] < self.heapList[i // 2]:\n",
    "\t\t\t\ttmp = self.heapList[i // 2]\n",
    "\t\t\t\tself.heapList[i // 2] = self.heapList[i]\n",
    "\t\t\t\tself.heapList[i] = tmp\n",
    "\t\t\ti = i // 2\n",
    "\n",
    "\tdef percDown(self,i):\n",
    "\t\twhile (i * 2) <= self.currentSize:\n",
    "\t\t\tmc = self.minChild(i)\n",
    "\t\t\tif self.heapList[i] >self.heapList[mc]:\n",
    "\t\t\t\ttmp = self.heapList[i]\n",
    "\t\t\t\tself.heapList[i] = self.heapList[mc]\n",
    "\t\t\t\tself.heapList[mc] = tmp\n",
    "\t\t\ti = mc\n",
    "\n",
    "\tdef minChild(self,i):\n",
    "\t\tif i * 2 + 1 > self.currentSize:\n",
    "\t\t\treturn i * 2\n",
    "\t\telse:\n",
    "\t\t\tif self.heapList[i*2] < self.heapList[i*2+1]:\n",
    "\t\t\t\treturn i * 2\n",
    "\t\t\telse:\n",
    "\t\t\t\treturn i * 2 + 1\n",
    "\n",
    "\tdef insert(self,k):\n",
    "\t\tself.heapList.append(k)\n",
    "\t\tself.currentSize = self.currentSize + 1\n",
    "\t\tself.percUp(self.currentSize)\n",
    "\n",
    "\tdef delMin(self):\n",
    "\t\tretval = self.heapList[1]\n",
    "\t\tself.heapList[1] = self.heapList[self.currentSize]\n",
    "\t\tself.currentSize = self.currentSize - 1\n",
    "\t\tself.heapList.pop()\n",
    "\t\tself.percDown(1)\n",
    "\t\treturn retval\n",
    "\n",
    "\n",
    "\tdef buildHeap(self,alist):\n",
    "\t\ti = len(alist) // 2\n",
    "\t\tself.currentSize = len(alist)\n",
    "\t\tself.heapList = [0] + alist[:]\n",
    "\t\twhile (i > 0):\n",
    "\t\t\tself.percDown(i)\n",
    "\t\t\ti = i -1\n",
    "bh = BinHeap()\n",
    "alist=[]\n",
    "import random\n",
    "for x in range(10):\n",
    "    alist.append(random.randint(1,101))\n",
    "bh.buildHeap(alist)\n",
    "sortedlist=[]\n",
    "for i in range(len(alist)):\n",
    "\tsortedlist.append(bh.delMin())\n",
    "print(alist)    \n",
    "print(sortedlist)\n",
    " "
   ]
  },
  {
   "cell_type": "code",
   "execution_count": null,
   "metadata": {},
   "outputs": [],
   "source": [
    "Consider the following list of integers: [1,2,3,4,5,6,7,8,9,10]. Show the binary heap resulting from inserting the integers\n",
    "."
   ]
  },
  {
   "cell_type": "code",
   "execution_count": 28,
   "metadata": {},
   "outputs": [
    {
     "name": "stdout",
     "output_type": "stream",
     "text": [
      "[1, 2, 3, 4, 5, 6, 7, 8, 9, 10]\n"
     ]
    }
   ],
   "source": [
    "alist=[1,2,3,4,5,6,7,8,9,10]\n",
    "bh = BinHeap()\n",
    "bh.buildHeap(alist)\n",
    "sortedlist=[]\n",
    "for i in range(len(alist)):\n",
    "\tsortedlist.append(bh.delMin())\n",
    "print(sortedlist)"
   ]
  }
 ],
 "metadata": {
  "kernelspec": {
   "display_name": "Python 3",
   "language": "python",
   "name": "python3"
  },
  "language_info": {
   "codemirror_mode": {
    "name": "ipython",
    "version": 3
   },
   "file_extension": ".py",
   "mimetype": "text/x-python",
   "name": "python",
   "nbconvert_exporter": "python",
   "pygments_lexer": "ipython3",
   "version": "3.6.4"
  }
 },
 "nbformat": 4,
 "nbformat_minor": 2
}
