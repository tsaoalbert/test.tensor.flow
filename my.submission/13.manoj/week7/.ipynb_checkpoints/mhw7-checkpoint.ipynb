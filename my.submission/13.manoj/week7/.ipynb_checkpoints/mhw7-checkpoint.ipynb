{
 "cells": [
  {
   "cell_type": "markdown",
   "metadata": {},
   "source": [
    "<h1> HW #7:  Tree and Tree Algorithms </h1>"
   ]
  },
  {
   "cell_type": "markdown",
   "metadata": {},
   "source": [
    "<h3> The questions are taken from\n",
    "<a href='\n",
    "http://interactivepython.org/runestone/static/pythonds/Graphs/ProgrammingExercises.html\n",
    "         '> 7.26. Programming Exercises  </a></h3>\n"
   ]
  },
  {
   "cell_type": "raw",
   "metadata": {},
   "source": [
    "5/20\n",
    "Q#1 Modify the depth first search function to produce a topological sort. Write down the algorithms with pseudo codes. No coding is required"
   ]
  },
  {
   "cell_type": "code",
   "execution_count": null,
   "metadata": {},
   "outputs": [],
   "source": [
    "The algorithms with pseudo codes for topological sort follows as:\n",
    "    \n",
    "  1.Topological sorting for Directed Acyclic Graph,that means it could not follow the cyclic graph\n",
    ",it is a linear order of vertices.\n",
    " 2.we can find topologicial graph by modifying the DFS.   "
   ]
  },
  {
   "cell_type": "raw",
   "metadata": {},
   "source": [
    "5/20\n",
    "Q#2 Modify the depth first search to produce strongly connected components. Write down the algorithms with pseudo codes. No coding is required"
   ]
  },
  {
   "cell_type": "code",
   "execution_count": null,
   "metadata": {},
   "outputs": [],
   "source": [
    "A directed graph is strongly connected if there is a path between of pairs of vertices.\n",
    "\n",
    "ALGORITHM FOR STRONGLY CONNECTED COMPONENTS:\n",
    "    1. First the head of the algorithm \n",
    "has tree edges from the both ends of the head.\n",
    "2. From the middle the back edge has connected,\n",
    "which connected to the one of the tree edge part.\n",
    "3.From the combination of the tree edge and back edge creates the sub head ,which gives three sub edges .\n",
    "4.from the other hand of the main head , the sub heads connected some edges.\n",
    "5. Finally this will connected to cross edge.\n"
   ]
  },
  {
   "cell_type": "raw",
   "metadata": {},
   "source": [
    "0/20\n",
    "Q#3: (Optional) Write a Python program to implement the transpose method for the Graph class."
   ]
  },
  {
   "cell_type": "raw",
   "metadata": {},
   "source": [
    "5/20\n",
    "Q#4: Using BFS revise the maze program from the recursion chapter to find the shortest path out of a maze."
   ]
  },
  {
   "cell_type": "code",
   "execution_count": null,
   "metadata": {},
   "outputs": [],
   "source": [
    "To find the short path in maze . first search for all possible paths in the maze from the \n",
    "starting positions to the goal position . we can easily achive the by handling the  back tracking ."
   ]
  },
  {
   "cell_type": "raw",
   "metadata": {},
   "source": [
    "0/20\n",
    "Q#5:\n",
    "Dijkstra’s Algorithm: Fill in the table, where\n",
    "dv = Shortest path length from source node s to v\n",
    "pv = Node in T to which Node v is connected\n"
   ]
  },
  {
   "cell_type": "markdown",
   "metadata": {},
   "source": [
    "<div class=\"binarySearch\">\n",
    "    <div style=\"float:left;margin-top:75px;\">\n",
    "    <figure>\n",
    "        <img src=\"images/dijkstra.hw7.5.png\" height=\"400\" width=\"500\"  />\n",
    "        <figcaption style=\"text-align:center;\">   </figcaption>\n",
    "    </figure>\n",
    "    </div>\n",
    "    <div style=\"float:left;margin-right:55px;\">\n",
    "    <figure>\n",
    "        <img src=\"images/dijkstra.hw7.5_2.png\" width=\"300\"   />\n",
    "        <figcaption style=\"text-align:center;\">   </figcaption>\n",
    "    </figure>\n",
    "    </div>\n",
    "</div>"
   ]
  },
  {
   "cell_type": "markdown",
   "metadata": {},
   "source": [
    "Q#6\n",
    "What is the Big-O running time of \n",
    "* the buildGraph function?\n",
    "* the topological sort algorithm.\n",
    "* the strongly connected components algorithm.\n",
    "* Prim’s minimum spanning tree algorithm?"
   ]
  },
  {
   "cell_type": "code",
   "execution_count": null,
   "metadata": {},
   "outputs": [],
   "source": [
    "1.It is to describle the complexity and performance of an algorithm .\n",
    "2. It has capacity to maintain the time complexity  for dfs.\n",
    "3. It is directed as strongly connected sub graphs.\n",
    "4. the total time complexity of vertices and edges in prim's minimum spanning tree algorithm."
   ]
  }
 ],
 "metadata": {
  "kernelspec": {
   "display_name": "Python 3",
   "language": "python",
   "name": "python3"
  },
  "language_info": {
   "codemirror_mode": {
    "name": "ipython",
    "version": 3
   },
   "file_extension": ".py",
   "mimetype": "text/x-python",
   "name": "python",
   "nbconvert_exporter": "python",
   "pygments_lexer": "ipython3",
   "version": "3.7.1"
  }
 },
 "nbformat": 4,
 "nbformat_minor": 2
}
