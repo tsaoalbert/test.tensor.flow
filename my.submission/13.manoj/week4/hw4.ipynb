{
 "cells": [
  {
   "cell_type": "markdown",
   "metadata": {},
   "source": [
    "<h1> <a href= \"http://interactivepython.org/runestone/static/pythonds/Recursion/toctree.html\"> Assignment 4:  Recursion </a>  </h1>\n",
    "<ul>\n",
    "    \n",
    "<li> Recursion vs Iteration </li>\n",
    "<li> Three Laws of Recusion</li>\n",
    "<li>  Example: Tower of Hanoi, Maze, Dynamic Programming</li>\n",
    "</ul>\n"
   ]
  },
  {
   "cell_type": "markdown",
   "metadata": {},
   "source": [
    "<h3> <a href= \"\n",
    "http://interactivepython.org/runestone/static/pythonds/Recursion/pythondsProgrammingExercises.html\n",
    "    \">4.17. Programming Exercises\n",
    " </a> \n",
    "\n",
    "</h3>\n",
    "\n"
   ]
  },
  {
   "cell_type": "code",
   "execution_count": 1,
   "metadata": {},
   "outputs": [
    {
     "name": "stdout",
     "output_type": "stream",
     "text": [
      "720\n"
     ]
    }
   ],
   "source": [
    "\"\"\"Write both recursive and iterative function to compute the factorial of a number.\n",
    "How does the performance of the recursive function compare to that of an iterative version?\n",
    "   F(0)=F(1) = 1\n",
    "   F(n) = F(n-1)*n, for n >=2\"\"\"\n",
    "\n",
    "def factorial(n):\n",
    "    if n == 0 or n == 1:\n",
    "        return 1\n",
    "    else:\n",
    "        return n*factorial(n-1)\n",
    "print(factorial(6))#ans is 720"
   ]
  },
  {
   "cell_type": "code",
   "execution_count": null,
   "metadata": {},
   "outputs": [],
   "source": [
    "Write both  recursive and iterative function to compute the Fibonacci sequence. \n",
    "        How does the performance of the recursive function compare to that of an iterative version?\n",
    "           F(1)=F(2) = 1\n",
    "   F(n) = F(n-1)+F(n-2), for n >= 3"
   ]
  },
  {
   "cell_type": "code",
   "execution_count": 6,
   "metadata": {},
   "outputs": [
    {
     "name": "stdout",
     "output_type": "stream",
     "text": [
      "55\n",
      "55\n"
     ]
    }
   ],
   "source": [
    "#Recursive version\n",
    "def fib_recursive(n):\n",
    "    if n <=0:\n",
    "        return 0\n",
    "    elif n<=2:\n",
    "        return n\n",
    "    else:\n",
    "        return fib_recursive(n-1)+fib_recursive(n-2)\n",
    "    \n",
    "#Iterative version\n",
    "def fib_iterative(n):\n",
    "    a, b = 1, 1\n",
    "    for i in range(0, n):\n",
    "        a, b = b, a + b\n",
    "    return a\n",
    "\n",
    "print(fib_recursive(9))# Ans is 55\n",
    "print(fib_iterative(9))# Ans is 55\n",
    "\n",
    "\n",
    "# Performance comparison\n",
    "\n",
    "# Recursive version is lot slower than iterative version\n",
    "\n",
    "# In recursive version we calculate fibonacci value of all numbers less than n-2 twice\n",
    "# Once during calculation of f(n)\n",
    "# And during calculation of f(n-1)\n",
    "\n",
    "\n"
   ]
  },
  {
   "cell_type": "code",
   "execution_count": null,
   "metadata": {},
   "outputs": [],
   "source": [
    "import turtle\n",
    "\n",
    "def tree(branchLen,t):\n",
    "    if branchLen > 5:\n",
    "        t.forward(branchLen)\n",
    "        t.right(20)\n",
    "        tree(branchLen-15,t)\n",
    "        t.left(40)\n",
    "        tree(branchLen-15,t)\n",
    "        t.right(20)\n",
    "        t.backward(branchLen)\n",
    "\n",
    "def main():\n",
    "    t = turtle.Turtle()\n",
    "    myWin = turtle.Screen()\n",
    "    t.left(90)\n",
    "    t.up()\n",
    "    t.backward(100)\n",
    "    t.down()\n",
    "    t.color(\"green\")\n",
    "    tree(75,t)\n",
    "    myWin.exitonclick()\n",
    "\n",
    "main()\n"
   ]
  },
  {
   "cell_type": "markdown",
   "metadata": {},
   "source": [
    "\n",
    "Modify the recursive tree program to produce a more realistic looking tree with various brnach length/thickness, and braching angles."
   ]
  },
  {
   "cell_type": "raw",
   "metadata": {},
   "source": [
    "\"\"\"Modify the thickness of the branches so that as the branchLen gets smaller, the line gets thinner.\n",
    "Modify the color of the branches so that as the branchLen gets very short it is colored like a leaf.\"\"\"\n",
    "import turtle\n",
    "\n",
    "def tree(branchLen,t):\n",
    "    if branchLen > 5:\n",
    "        t.forward(branchLen)\n",
    "        t.width(branchLen/12)\n",
    "        t.right(20)\n",
    "        t.width(branchLen / 25)\n",
    "        tree(branchLen-15,t)\n",
    "        t.left(40)\n",
    "        t.width(branchLen / 25)\n",
    "        tree(branchLen-15,t)\n",
    "        t.right(20)\n",
    "        t.width(branchLen / 25)\n",
    "        t.backward(branchLen)\n",
    "        if branchLen < 14: \n",
    "            t.color(\"blue\")\n",
    "        else:\n",
    "            t.color(\"red\")\n",
    "\n",
    "def main():\n",
    "    t = turtle.Turtle()\n",
    "    myWin = turtle.Screen()\n",
    "    t.left(90)\n",
    "    t.up()\n",
    "    t.backward(100)\n",
    "    t.down()\n",
    "    t.color(\"green\")\n",
    "    tree(100,t)\n",
    "    myWin.exitonclick()\n",
    "\n",
    "main()\n",
    "\n",
    "\n",
    "\n",
    "\n"
   ]
  },
  {
   "cell_type": "raw",
   "metadata": {},
   "source": [
    "\"\"\"Using the recursive rules as described, draw a Sierpinski triangle using paper and pencil.\"\"\"\n",
    "import turtle\n",
    "def recursive_sierpinski(length,depth):\n",
    "    if depth==0:\n",
    "        for i in range(0,3):\n",
    "            t.forward(length)\n",
    "            t.left(120)\n",
    "    else:\n",
    "        recursive_sierpinski(length/2,depth-1)\n",
    "        t.forward(length/2)\n",
    "        recursive_sierpinski(length/2,depth-1)\n",
    "        t.backward(length/2)\n",
    "        t.left(60)\n",
    "        t.forward(length/2)\n",
    "        t.right(60)\n",
    "        recursive_sierpinski(length/2,depth-1)\n",
    "        t.left(60)\n",
    "        t.backward(length/2)\n",
    "        t.right(60)\n",
    "\n",
    "window = turtle.Screen()\n",
    "t = turtle.Turtle()\n",
    "t.color('red')\n",
    "recursive_sierpinski(100,2)\n",
    "window.exitonclick()\n"
   ]
  },
  {
   "cell_type": "code",
   "execution_count": 10,
   "metadata": {},
   "outputs": [
    {
     "name": "stdout",
     "output_type": "stream",
     "text": [
      "Let us say 3 disks of increasing disks are placed on pole A and need to be be \n",
      "move disk from A to B\n",
      "move disk from A to C\n",
      "move disk from B to C\n",
      "move disk from A to B\n",
      "move disk from C to A\n",
      "move disk from C to B\n",
      "move disk from A to B\n"
     ]
    }
   ],
   "source": [
    "\"\"\"Draw a call stack for the Tower of Hanoi problem. Assume that you start with a stack of three disks.\"\"\"\n",
    "def towerOfHanoi(height,fromPole, toPole, withPole):\n",
    "    if height >= 1:\n",
    "        towerOfHanoi(height-1,fromPole,withPole,toPole)\n",
    "        moveDisk(fromPole,toPole)\n",
    "        towerOfHanoi(height-1,withPole,toPole,fromPole)\n",
    "\n",
    "def moveDisk(fromPole,toPole):\n",
    "    print(\"move disk from\",fromPole,\"to\",toPole)\n",
    "\n",
    "print(\"Let us say 3 disks of increasing disks are placed on pole A and need to be moved to pole C\")\n",
    "towerOfHanoi(3,\"A\",\"B\",\"C\")\n",
    "\n"
   ]
  },
  {
   "cell_type": "code",
   "execution_count": null,
   "metadata": {},
   "outputs": [],
   "source": []
  }
 ],
 "metadata": {
  "kernelspec": {
   "display_name": "Python 3",
   "language": "python",
   "name": "python3"
  },
  "language_info": {
   "codemirror_mode": {
    "name": "ipython",
    "version": 3
   },
   "file_extension": ".py",
   "mimetype": "text/x-python",
   "name": "python",
   "nbconvert_exporter": "python",
   "pygments_lexer": "ipython3",
   "version": "3.7.1"
  }
 },
 "nbformat": 4,
 "nbformat_minor": 2
}
