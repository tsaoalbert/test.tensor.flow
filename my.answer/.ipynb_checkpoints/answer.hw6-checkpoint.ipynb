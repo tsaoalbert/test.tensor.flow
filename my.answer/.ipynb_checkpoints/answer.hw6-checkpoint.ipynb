{
 "cells": [
  {
   "cell_type": "markdown",
   "metadata": {},
   "source": [
    "<h1>\n",
    "<a href='http://interactivepython.org/runestone/static/pythonds/Trees/toctree.html'> \n",
    "    HW #6: Trees and Tree Algorithms  </a> </h1>"
   ]
  },
  {
   "cell_type": "markdown",
   "metadata": {},
   "source": [
    "<h3> \n",
    "The questions are taken from  <a href='\n",
    "http://interactivepython.org/runestone/static/pythonds/Trees/ProgrammingExercises.html    '>\n",
    "6.22. Programming Exercises  </a>\n",
    "</h3>"
   ]
  },
  {
   "cell_type": "raw",
   "metadata": {},
   "source": [
    "Q#1 Using the buildHeap method, write a sorting function that can sort a list in O(nlogn) time."
   ]
  },
  {
   "cell_type": "raw",
   "metadata": {},
   "source": [
    "Q#2 Implement a binary heap as a max heap."
   ]
  },
  {
   "cell_type": "raw",
   "metadata": {},
   "source": [
    "Q#3 Using the BinaryHeap class, implement a new class called PriorityQueue that implement the constructor, plus the enqueue and dequeue methods.\n",
    "Hints: see lecture note 7"
   ]
  },
  {
   "cell_type": "raw",
   "metadata": {},
   "source": [
    "Q#4 Consdier the following min-heap tree. Show the new  tree and the srray after insertinn number 7"
   ]
  },
  {
   "cell_type": "markdown",
   "metadata": {},
   "source": [
    "<div class=\"binarySearch\">\n",
    "    <div style=\"float:left;margin-top:75px;\">\n",
    "    <figure>\n",
    "        <img src=\"images/heap.insert.1.png\" width=\"550\"  />\n",
    "        <figcaption style=\"text-align:center;\">   </figcaption>\n",
    "    </figure>\n",
    "    </div>\n",
    "    <div style=\"float:left;margin-right:55px;\">\n",
    "    <figure>\n",
    "        <img src=\"images/heap.insert.2.png\"  width=\"550\"  />\n",
    "        <figcaption style=\"text-align:center;\">   </figcaption>\n",
    "    </figure>\n",
    "    </div>\n",
    "</div>"
   ]
  },
  {
   "cell_type": "raw",
   "metadata": {},
   "source": [
    "Q#5 Modify our implementation of the binary search tree so that it handles duplicate keys properly. That is, if a key is already in the tree then the new payload should replace the old rather than add another node with the same key."
   ]
  },
  {
   "cell_type": "markdown",
   "metadata": {},
   "source": [
    "Bonus question:\n",
    "Using the following as a starting point, derive the equation that gives the updated balance factor for node D.\n",
    "<div class=\"parse.tree\">\n",
    "    <div style=\"float:left;margin-top:55px;\">\n",
    "    <figure>\n",
    "        <img src=\"images/exer.5.14.png\"  width=\"550\" />\n",
    "        <figcaption style=\"text-align:center;\">  </figcaption>\n",
    "    </figure>\n",
    "    </div>\n",
    "</div>\n",
    "Hints: Read  <a href='http://interactivepython.org/runestone/static/pythonds/Trees/AVLTreeImplementation.html'>6.17. </a>"
   ]
  }
 ],
 "metadata": {
  "kernelspec": {
   "display_name": "Python 3",
   "language": "python",
   "name": "python3"
  },
  "language_info": {
   "codemirror_mode": {
    "name": "ipython",
    "version": 3
   },
   "file_extension": ".py",
   "mimetype": "text/x-python",
   "name": "python",
   "nbconvert_exporter": "python",
   "pygments_lexer": "ipython3",
   "version": "3.7.1"
  }
 },
 "nbformat": 4,
 "nbformat_minor": 2
}
