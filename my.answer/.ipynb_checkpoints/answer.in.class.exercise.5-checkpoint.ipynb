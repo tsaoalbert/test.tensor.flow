{
 "cells": [
  {
   "cell_type": "markdown",
   "metadata": {},
   "source": [
    "<h1>\n",
    " <a href= \"http://interactivepython.org/runestone/static/pythonds/SortSearch/toctree.html\"> In Class Exercise # 5 </a>\n",
    "    </h1?"
   ]
  },
  {
   "cell_type": "markdown",
   "metadata": {},
   "source": [
    "<h1> <a href= \"\n",
    "http://interactivepython.org/runestone/static/pythonds/SortSearch/DiscussionQuestions.html\"> \n",
    "    5.15. Discussion Questions</a></h1>"
   ]
  },
  {
   "cell_type": "raw",
   "metadata": {},
   "source": [
    "Q#1\n",
    "\n",
    "Using the hash table performance formulas given in the chapter, compute the average number of comparisons necessary when the table is\n",
    "\n",
    "10% full\n",
    "25% full\n",
    "50% full\n",
    "75% full\n",
    "90% full\n",
    "99% full\n",
    "At what point do you think the hash table is too small? Explain.\n"
   ]
  },
  {
   "cell_type": "raw",
   "metadata": {},
   "source": [
    "When 10%full---\n",
    "Successful-1.055      Unsuccessful--0.77\n",
    "\n",
    "When 25% full\n",
    "Successful--1.166      Unsuccessful--0.83\n",
    "\n",
    "When 50% full\n",
    "Successful--1.5       Unsuccessful--1.5\n",
    "\n",
    "When 75% Full\n",
    "Successful--2.5        Unsuccessful--1.5\n",
    "\n",
    "When 90%\n",
    "Successful--5.5        Unsuccessful--3\n",
    "\n",
    "When 99%full\n",
    "Successful--50.5       Unsuccessful--25.5\n",
    "\n",
    "The hash table is small when  the hash table is 75% full. \n"
   ]
  },
  {
   "cell_type": "raw",
   "metadata": {},
   "source": [
    "Q#2\n",
    "Modify the hash function for strings to use positional weightings."
   ]
  },
  {
   "cell_type": "raw",
   "metadata": {},
   "source": [
    "Q#3\n",
    "We used a hash function for strings that weighted the characters by position. \n",
    "What are the biases that exist with these functions?\n",
    "Devise an alternative weighting scheme that remove these biases."
   ]
  },
  {
   "cell_type": "raw",
   "metadata": {},
   "source": [
    "Q#4\n",
    "Consider the following list of integers: \n",
    "[7, 2,9, 3,4,10, 5,1, 6,8]. \n",
    "Show how this list is sorted by the following algorithms:\n",
    "\n",
    "bubble sort\n",
    "selection sort\n",
    "insertion sort\n",
    "merge sort\n",
    "quick sort (Use the first one as the pivot value)"
   ]
  },
  {
   "cell_type": "raw",
   "metadata": {},
   "source": [
    "Q#5\n",
    "Consider the following list of integers: \n",
    "[10,9,8,7,6,5,4,3,2,1]. \n",
    "Show how this list is sorted by the following algorithms:\n",
    "\n",
    "bubble sort\n",
    "selection sort\n",
    "insertion sort\n",
    "merge sort\n",
    "quick sort (Use the first one as the pivot value)\n",
    "\n",
    "Show the array at each iteration. A sample run for the quick sort is given below, where the \n",
    "input array is shown at step 0, and * indicate the pivot item.\n",
    "\n",
    " 0: 54   26   93   17   77   31   44   55   20   \n",
    " 1: 31   26   20   17   44   54*  77   55   93   \n",
    " 2: 17   26   20   31*  44        55   77*  93   \n",
    " 3: 17*  26   20        44        55        93   \n",
    "\n",
    " 4: 17*  20   26*  31*  44   54*  55   77*  93\n"
   ]
  },
  {
   "cell_type": "raw",
   "metadata": {},
   "source": [
    "Q#7\n",
    "Consider the following list of integers: [1,2,3,4,5,6,7,8,9,10]. \n",
    "Show how this list is sorted by the following algorithms:\n",
    "bubble sort\n",
    "selection sort\n",
    "insertion sort\n",
    "merge sort\n",
    "quick sort (Use the first one as the pivot value)"
   ]
  },
  {
   "cell_type": "raw",
   "metadata": {},
   "source": [
    "Q#8\n",
    "Consider the list of characters: ['P','Y','T','H','O','N']. \n",
    "Show how this list is sorted using the following algorithms:\n",
    "bubble sort\n",
    "selection sort\n",
    "insertion sort\n",
    "merge sort\n",
    "quick sort (you decide on the pivot value)"
   ]
  },
  {
   "cell_type": "raw",
   "metadata": {},
   "source": [
    "Q#9\n",
    "Devise alternative strategies for choosing the pivot value in quick sort. \n",
    "For example, pick the middle item. \n",
    "Re-implement the algorithm and then execute it on random data sets. \n",
    "Under what criteria does your new strategy perform better or worse than the strategy from this chapter?"
   ]
  },
  {
   "cell_type": "code",
   "execution_count": 9,
   "metadata": {},
   "outputs": [
    {
     "name": "stdout",
     "output_type": "stream",
     "text": [
      "Quick Sort: \n",
      " 0:  7    2    9    3    4   10    5    1    6    8   \n",
      " 1:  4    2    1    3    5*  10    7    9    6    8   \n",
      " 2:  1    2*   4    3         6    7    8*   9   10   \n",
      " 3:  1    2*   3    4*   5*   6*   7    8*   9*  10   \n",
      "Quick Sort: \n",
      " 0: 10    9    8    7    6    5    4    3    2    1   \n",
      " 1:  4    1    2    3    5*  10    6    7    8    9   \n",
      " 2:  1    2*   4    3         7    6    8*  10    9   \n",
      " 3:  1    2*   3    4*   5*   6    7*   8*   9   10*  \n",
      "Quick Sort: \n",
      " 0:  1    2    3    4    5    6    7    8    9   10   \n",
      " 1:  1    2    3    4    5*   6    7    8    9   10   \n",
      " 2:  1    2*   3    4         6    7    8*   9   10   \n",
      " 3:  1    2*   3*   4    5*   6*   7    8*   9*  10   \n",
      "Quick Sort: \n",
      " 0:  P    Y    T    H    O    N   \n",
      " 1:  H    N    O*   T    P    Y   \n",
      " 2:  H*   N    O*   P    T*   Y   \n"
     ]
    }
   ],
   "source": [
    "\n",
    "# used to pick a better pivot value to enable the balanced partition\n",
    "def chooseBetterPivot (alist, first, last):  # xxx explain this function\n",
    "  if last > first+1:\n",
    "    L=alist[first:last+1]       \n",
    "    n = len(L)\n",
    "    x = sorted(L)[ (n-1)//2 ]\n",
    "    i = first + L.index(x)\n",
    "    alist[first], alist[i] = alist[i], alist[first]\n",
    "\n",
    "def quickSort(alist,d,e ):\n",
    "  return quickSortHelper(alist,0,len(alist)-1, 0,d,e )\n",
    "  \n",
    "\n",
    "def quickSortHelper(alist,first,last, i, d, e):\n",
    "  for j in range (first, last+1):\n",
    "    d[i][j] =  alist[j]\n",
    "  depth = i+1\n",
    "  if first<last:\n",
    "    splitpoint = partition(alist,first,last )\n",
    "    for j in range (i+1,len(e)):\n",
    "        e[j][splitpoint] = \"*\" \n",
    "    x=quickSortHelper(alist,first,splitpoint-1, i+1,d,e )\n",
    "    y=quickSortHelper(alist,splitpoint+1,last, i+1,d,e )\n",
    "    depth = max (x,y)\n",
    "  return depth\n",
    "   \n",
    "def partition(alist,first,last):\n",
    "  chooseBetterPivot (alist, first,  last)\n",
    "  pivotvalue = alist[first]\n",
    "\n",
    "  leftmark = first+1\n",
    "  rightmark = last\n",
    "\n",
    "  done = False\n",
    "  while not done:\n",
    "\n",
    "    while leftmark <= rightmark and alist[leftmark] <= pivotvalue:\n",
    "      leftmark = leftmark + 1\n",
    "\n",
    "    while alist[rightmark] >= pivotvalue and rightmark >= leftmark:\n",
    "      rightmark = rightmark -1\n",
    "\n",
    "    if rightmark < leftmark:\n",
    "      done = True\n",
    "    else:\n",
    "      alist[leftmark], alist[rightmark]  = alist[rightmark], alist[leftmark]\n",
    "  alist[first], alist[rightmark]  = alist[rightmark], alist[first]\n",
    "  return rightmark\n",
    "def preTrace (M):\n",
    "    print (\"Quick Sort: \")\n",
    "    d=[]; e=[]\n",
    "    n = len(M)\n",
    "    for i in range ( n):\n",
    "        d.append(M.copy()); \n",
    "        e.append([\" \"]*n)\n",
    "    return d, e\n",
    "\n",
    "def testQuickSort(L):\n",
    "    n = len(L)\n",
    "    d,e = preTrace ( sorted(L) );\n",
    "    m = quickSort(L, d,e )\n",
    "    X = list( range(m) ) + [ n-1]\n",
    "    for i in range ( m):\n",
    "        s = \"{0:2}: \".format(i)\n",
    "        print (s, end=\"\")\n",
    "        for j in range(n):\n",
    "            x = d[i][j]; y = e[i][j]\n",
    "            s = \"{0:>2}{1:<2}\".format(x,y)\n",
    "            if (i!= m-1 and i>0 and e[i-1][j]==\"*\"):\n",
    "              s = \" \"* len(s)  \n",
    "            print ( s, end=\" \")\n",
    "        print ()\n",
    "\n",
    "#L = [54,26,93,17,77,31,44,55,20]\n",
    "#testQuickSort(L)\n",
    "#testQuickSort ([0,1,2,3])\n",
    "#testQuickSort ([4,3,2,1,0])\n",
    "\n",
    "a=[7, 2,9, 3,4,10, 5,1, 6,8]  #Q4\n",
    "b=[10,9,8,7,6,5,4,3,2,1]      #Q5\n",
    "c=[1,2,3,4,5,6,7,8,9,10]      #Q6\n",
    "d=['P','Y','T','H','O','N']   #Q7\n",
    "for s in [a,b,c,d]:\n",
    "    testQuickSort(s)\n"
   ]
  },
  {
   "cell_type": "code",
   "execution_count": null,
   "metadata": {},
   "outputs": [],
   "source": []
  }
 ],
 "metadata": {
  "kernelspec": {
   "display_name": "Python 3",
   "language": "python",
   "name": "python3"
  },
  "language_info": {
   "codemirror_mode": {
    "name": "ipython",
    "version": 3
   },
   "file_extension": ".py",
   "mimetype": "text/x-python",
   "name": "python",
   "nbconvert_exporter": "python",
   "pygments_lexer": "ipython3",
   "version": "3.7.1"
  }
 },
 "nbformat": 4,
 "nbformat_minor": 2
}
