{
 "cells": [
  {
   "cell_type": "markdown",
   "metadata": {},
   "source": [
    "<h1> <a href= \"http://interactivepython.org/runestone/static/pythonds/Recursion/toctree.html\"> In Class Exercise: #4 </a>  </h1>\n",
    "<ul>\n",
    "    \n",
    "<li> Recursion vs Iteration </li>\n",
    "<li> Three Laws of Recusion</li>\n",
    "<li>  Example: Tower of Hanoi, Maze, Dynamic Programming</li>\n",
    "</ul>\n"
   ]
  },
  {
   "cell_type": "markdown",
   "metadata": {},
   "source": [
    "<h1> <a href= \"http://interactivepython.org/runestone/static/pythonds/Recursion/DiscussionQuestions.html\">4.15. Discussion Questions\n",
    " </a> \n",
    "\n",
    "</h1>\n",
    "\n"
   ]
  },
  {
   "cell_type": "raw",
   "metadata": {},
   "source": [
    "Q#1:\n",
    "    Write both  recursive and iterative function to compute the Fibonacci sequence. \n",
    "        How does the performance of the recursive function compare to that of an iterative version?\n",
    "           F(1)=F(2) = 1\n",
    "   F(n) = F(n-1)+F(n-2), for n >= 3"
   ]
  },
  {
   "cell_type": "raw",
   "metadata": {},
   "source": [
    "Q#2:\n",
    "Using the dynamic programming algorithm for making change, find the smallest number of coins that you can use to make 33 cents in change. In addition to the usual coins assume that you have an 8 cent coin."
   ]
  },
  {
   "cell_type": "code",
   "execution_count": 3,
   "metadata": {},
   "outputs": [
    {
     "name": "stdout",
     "output_type": "stream",
     "text": [
      "Number of coins:  2\n",
      "       cents  0  1  2  3  4  5  6  7  8  9 10 11 12 13 14 15 16 17 18 19 20 21 22 23 24 25 26 27 28 29 30 31 32 33\n",
      "num of coins  0  1  0  0  0  1  2  3  1  2  1  2  3  2  3  2  2  3  2  3  2  3  4  3  3  1  2  3  3  4  2  3  4  2\n"
     ]
    }
   ],
   "source": [
    "# Dynamic approach\n",
    "def recDC(coinValueList, change,knownResults):\n",
    "\tminCoins = change\n",
    "\tif change in coinValueList:\n",
    "\t\tknownResults[change] = 1\n",
    "\t\treturn 1\n",
    "\telif knownResults[change] > 0:\n",
    "\t\treturn knownResults[change]\n",
    "\telse:\n",
    "\t\tfor i in [c for c in coinValueList if c <= change]:\n",
    "\t\t\tnumCoins = 1 + recDC(coinValueList, change-i,knownResults)\n",
    "\t\t\tif numCoins < minCoins:\n",
    "\t\t\t\tminCoins = numCoins\n",
    "\t\t\t\tknownResults[change] = minCoins\n",
    "\treturn minCoins\n",
    "def main (L, n):\n",
    "    X=[0]*(n+1)\n",
    "    m = recDC(L,n, X)\n",
    "    print(\"Number of coins: \", m)\n",
    "    print (\"{0:>12}\".format(\"cents\"), end=\"\")\n",
    "    for i in range ( len(X) ):\n",
    "        print ( \"{0:3}\".format(i), end=\"\")\n",
    "    print()\n",
    "    print (\"{0:12}\".format(\"num of coins\"), end=\"\")\n",
    "\n",
    "    for i in X:\n",
    "        print ( \"{0:3}\".format(i), end=\"\")\n",
    "    print()\n",
    "n=33\n",
    "B = [1,5,8, 10, 25]\n",
    "main (B,n)"
   ]
  },
  {
   "cell_type": "code",
   "execution_count": null,
   "metadata": {},
   "outputs": [],
   "source": [
    "N(33) = min  {   1 + N(32),    # use 1 penny\n",
    "                 1 + N(28),    # use 1 nickle\n",
    "                 1 + N(23),    # use 1 dime\n",
    "                 1 + N(8),     # use 1 quarter\n",
    "                 1 + N(25)     # use 1 coin of 8cents\n",
    "             }\n",
    "N(25) = min  {   1 + N(24),    # use 1 penny\n",
    "                 1 + N(20),    # use 1 nickle\n",
    "                 1 + N(15),    # use 1 dime\n",
    "                 1 ,           # use 1 quarter\n",
    "                 1 + N(17)     # use 1 coin of 8cents\n",
    "             }"
   ]
  }
 ],
 "metadata": {
  "kernelspec": {
   "display_name": "Python 3",
   "language": "python",
   "name": "python3"
  },
  "language_info": {
   "codemirror_mode": {
    "name": "ipython",
    "version": 3
   },
   "file_extension": ".py",
   "mimetype": "text/x-python",
   "name": "python",
   "nbconvert_exporter": "python",
   "pygments_lexer": "ipython3",
   "version": "3.7.1"
  }
 },
 "nbformat": 4,
 "nbformat_minor": 2
}
