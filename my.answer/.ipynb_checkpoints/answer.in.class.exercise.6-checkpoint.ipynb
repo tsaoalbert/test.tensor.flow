{
 "cells": [
  {
   "cell_type": "markdown",
   "metadata": {},
   "source": [
    "<h1>\n",
    "<a href='http://interactivepython.org/runestone/static/pythonds/Trees/toctree.html'> \n",
    "    In Class Exercise #6: Trees and Tree Algorithms  </a>\n",
    "    </h1>"
   ]
  },
  {
   "cell_type": "markdown",
   "metadata": {},
   "source": [
    "<h1> <a href='http://interactivepython.org/runestone/static/pythonds/Trees/DiscussionQuestions.html'>\n",
    "6.21. Discussion Questions  </a></h1>"
   ]
  },
  {
   "cell_type": "markdown",
   "metadata": {},
   "source": [
    "Q#1:\n",
    "Trace the algorithm for creating an expression tree for the expression (4∗8)/6−3."
   ]
  },
  {
   "cell_type": "markdown",
   "metadata": {},
   "source": [
    "Q#2:\n",
    "Consider the following list of integers: [10,9,8,7,6,5,4,3,2,1]. Show the binary min-heap resulting from inserting the integers one at a time.\n",
    "Hints: run the program from the lecture notes"
   ]
  },
  {
   "cell_type": "markdown",
   "metadata": {},
   "source": [
    "Q#3:\n",
    "Draw the binary search tree that results from inserting the following keys in the order given:  \n",
    "b = [51, 52, 64, 41, 21, 40, 76, 67, 48, 91, 26, 24, 97, 8, 24]"
   ]
  },
  {
   "cell_type": "raw",
   "metadata": {},
   "source": [
    "                           +--------51----+                                \n",
    "       +------------------41----+        52----+                           \n",
    "  +---21--------------+        48             64---------+                 \n",
    "  8              +---40                             +---76----+            \n",
    "            +---26                                 67        91----+       \n",
    "           24                                                     97   "
   ]
  },
  {
   "cell_type": "markdown",
   "metadata": {},
   "source": [
    "Q#4:\n",
    "Draw the AVL (balanced binary search) tree that results from inserting the following keys in the order given:  \n",
    "b = [51, 52, 64, 41, 21, 40, 76, 67, 48, 91, 26, 24, 97, 8, 24]\n",
    "(Hints: use the tool at http://cs.armstrong.edu/liang/animation/animation.html)"
   ]
  },
  {
   "cell_type": "raw",
   "metadata": {},
   "source": [
    "                                +-------------52---------+                 \n",
    "            +------------------41---------+         +---67---------+       \n",
    "       +---24---------+              +---51        64         +---91----+  \n",
    "  +---21         +---26----+        48                       76        97  \n",
    "  8             24        40  "
   ]
  },
  {
   "cell_type": "markdown",
   "metadata": {},
   "source": [
    "##### Q5: (Bonus)\n",
    "Given the following tree, perform the appropriate rotations to bring it back into balance.\n",
    "<div class=\"parse.tree\">\n",
    "    <div style=\"float:left;margin-top:0px;\">\n",
    "    <figure>\n",
    "        <img src=\"images/avl.right.left.0.png\"  width=\"200\" />\n",
    "        <figcaption style=\"text-align:center;\">  </figcaption>\n",
    "    </figure>\n",
    "    </div>\n",
    "    <div style=\"float:left;margin-top:0px;\">\n",
    "    <figure>\n",
    "        <img src=\"images/avl.right.left.1.png\"  width=\"200\" />\n",
    "        <figcaption style=\"text-align:center;\">  </figcaption>\n",
    "    </figure>\n",
    "    </div>\n",
    "    <div style=\"float:left;margin-top:0px;\">\n",
    "    <figure>\n",
    "        <img src=\"images/avl.right.left.2.png\"  width=\"200\" />\n",
    "        <figcaption style=\"text-align:center;\">  </figcaption>\n",
    "    </figure>\n",
    "    </div>\n",
    "</div>"
   ]
  },
  {
   "cell_type": "code",
   "execution_count": null,
   "metadata": {},
   "outputs": [],
   "source": [
    "       +.............D...............+\n",
    "  +....B.....+                       E.........+\n",
    "  A          C                                 F"
   ]
  }
 ],
 "metadata": {
  "kernelspec": {
   "display_name": "Python 3",
   "language": "python",
   "name": "python3"
  },
  "language_info": {
   "codemirror_mode": {
    "name": "ipython",
    "version": 3
   },
   "file_extension": ".py",
   "mimetype": "text/x-python",
   "name": "python",
   "nbconvert_exporter": "python",
   "pygments_lexer": "ipython3",
   "version": "3.7.1"
  }
 },
 "nbformat": 4,
 "nbformat_minor": 2
}
