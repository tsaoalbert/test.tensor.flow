{
 "cells": [
  {
   "cell_type": "markdown",
   "metadata": {},
   "source": [
    "<h1> <a href='http://interactivepython.org/runestone/static/pythonds/AlgorithmAnalysis/toctree.html'> In Class Exercise 2 (Algorithm Analysis)  </a> </h1>"
   ]
  },
  {
   "cell_type": "markdown",
   "metadata": {},
   "source": [
    "<h1> <a href='\n",
    "http://interactivepython.org/runestone/static/pythonds/AlgorithmAnalysis/DiscussionQuestions.html    '>  Discussion Questions  </a> </h1>"
   ]
  },
  {
   "cell_type": "raw",
   "metadata": {},
   "source": [
    "#Give the Big-O performance of the following code fragment.\n",
    "#1\n",
    "for i in range(n):\n",
    "   for j in range(n):\n",
    "      k = 2 + 2"
   ]
  },
  {
   "cell_type": "raw",
   "metadata": {},
   "source": [
    "O(n^2)"
   ]
  },
  {
   "cell_type": "raw",
   "metadata": {},
   "source": [
    "#Give the Big-O performance of the following code fragment:\n",
    "#2\n",
    "for i in range(n):\n",
    "     k = 2 + 2"
   ]
  },
  {
   "cell_type": "raw",
   "metadata": {},
   "source": [
    "O(n)"
   ]
  },
  {
   "cell_type": "raw",
   "metadata": {},
   "source": [
    "Give the Big-O performance of the following code fragment:\n",
    "\n",
    "\n",
    "#3\n",
    "i = n\n",
    "while i > 0:\n",
    "   k = 2 + 2\n",
    "   i = i // 2\n"
   ]
  },
  {
   "cell_type": "raw",
   "metadata": {},
   "source": [
    "O(log n)"
   ]
  },
  {
   "cell_type": "raw",
   "metadata": {},
   "source": [
    "Give the Big-O performance of the following code fragment:\n",
    "\n",
    "#4\n",
    "for i in range(n):\n",
    "   for j in range(n):\n",
    "      for k in range(n):\n",
    "         k = 2 + 2\n"
   ]
  },
  {
   "cell_type": "raw",
   "metadata": {},
   "source": [
    "O(n^3)"
   ]
  },
  {
   "cell_type": "raw",
   "metadata": {},
   "source": [
    "#6, Give the Big-O performance of the following code fragment:\n",
    "\n",
    "for i in range(n):\n",
    "   k = 2 + 2\n",
    "for j in range(n):\n",
    "   k = 2 + 2\n",
    "for k in range(n):\n",
    "   k = 2 + 2"
   ]
  },
  {
   "cell_type": "raw",
   "metadata": {},
   "source": [
    "O(n)"
   ]
  },
  {
   "cell_type": "raw",
   "metadata": {},
   "source": [
    "#7, Give the Big-O performance of the following code fragment:\n",
    "i=0\n",
    "while (i*i < n):\n",
    "  print ( i*i)\n",
    "  i += 1\n"
   ]
  },
  {
   "cell_type": "raw",
   "metadata": {},
   "source": [
    "O(n^0.5)"
   ]
  },
  {
   "cell_type": "raw",
   "metadata": {},
   "source": [
    "#8, Give the Big-O performance of the following code fragment:\n",
    "def findRepeated(L):\n",
    "  \"\"\"\n",
    "    determines whether all elements in a given list L are distinct\n",
    "  \"\"\"\n",
    "  n=len(L)\n",
    "  for i in range(n):\n",
    "    for j in range(i+1, n):\n",
    "      if L[i]==L[j]:\n",
    "        return True\n",
    "  return False"
   ]
  },
  {
   "cell_type": "raw",
   "metadata": {},
   "source": [
    "O(n^2)"
   ]
  },
  {
   "cell_type": "raw",
   "metadata": {},
   "source": [
    "#9, Revise the previous program to improve the time complexity to O(n) or O(n log n)"
   ]
  },
  {
   "cell_type": "code",
   "execution_count": 6,
   "metadata": {},
   "outputs": [],
   "source": [
    "#Give the Big-O performance of the following code fragment:\n",
    "def findRepeated(L):\n",
    "  \"\"\"\n",
    "    determines whether all elements in a given list L are distinct\n",
    "  \"\"\"\n",
    "  n=len(L)\n",
    "  L.sort()\n",
    "  for i in range (n-1):\n",
    "      if L[i]==L[i+1]:\n",
    "          return True\n",
    "  return False"
   ]
  },
  {
   "cell_type": "code",
   "execution_count": 8,
   "metadata": {},
   "outputs": [
    {
     "name": "stdout",
     "output_type": "stream",
     "text": [
      "True [1, 2, 3, 3, 4]\n"
     ]
    }
   ],
   "source": [
    "L= [ 3,2,1,3,4]\n",
    "x = findRepeated (L)\n",
    "print (x, L )"
   ]
  },
  {
   "cell_type": "code",
   "execution_count": null,
   "metadata": {},
   "outputs": [],
   "source": []
  }
 ],
 "metadata": {
  "kernelspec": {
   "display_name": "Python 3",
   "language": "python",
   "name": "python3"
  },
  "language_info": {
   "codemirror_mode": {
    "name": "ipython",
    "version": 3
   },
   "file_extension": ".py",
   "mimetype": "text/x-python",
   "name": "python",
   "nbconvert_exporter": "python",
   "pygments_lexer": "ipython3",
   "version": "3.7.1"
  }
 },
 "nbformat": 4,
 "nbformat_minor": 2
}
