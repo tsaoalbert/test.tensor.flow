{
 "cells": [
  {
   "cell_type": "markdown",
   "metadata": {},
   "source": [
    "<h1>\n",
    "<a href='http://interactivepython.org/runestone/static/pythonds/Trees/toctree.html'> \n",
    "    Answer HW #6: Trees and Tree Algorithms  </a> </h1>"
   ]
  },
  {
   "cell_type": "markdown",
   "metadata": {},
   "source": [
    "<h3> \n",
    "The questions are taken from  <a href='\n",
    "http://interactivepython.org/runestone/static/pythonds/Trees/ProgrammingExercises.html    '>\n",
    "6.22. Programming Exercises  </a>\n",
    "</h3>"
   ]
  },
  {
   "cell_type": "raw",
   "metadata": {},
   "source": [
    "Q#1 Using the buildHeap method, write a sorting function that can sort a list in O(n log n) time."
   ]
  },
  {
   "cell_type": "code",
   "execution_count": null,
   "metadata": {},
   "outputs": [],
   "source": [
    "#Answers: search for \"heapsort in python\" on the internet\n",
    "def buildHeap(arr, n, i): \n",
    "    largest = i # Initialize largest as root \n",
    "    l = 2 * i + 1     # left = 2*i + 1 \n",
    "    r = 2 * i + 2     # right = 2*i + 2 \n",
    "  \n",
    "    # See if left child of root exists and is \n",
    "    # greater than root \n",
    "    if l < n and arr[i] < arr[l]: \n",
    "        largest = l \n",
    "  \n",
    "    # See if right child of root exists and is \n",
    "    # greater than root \n",
    "    if r < n and arr[largest] < arr[r]: \n",
    "        largest = r \n",
    "  \n",
    "    # Change root, if needed \n",
    "    if largest != i: \n",
    "        arr[i],arr[largest] = arr[largest],arr[i] # swap \n",
    "  \n",
    "        # Heapify the root. \n",
    "        buildHeap(arr, n, largest) \n",
    "\n",
    "def heapSort(arr): \n",
    "    n = len(arr) \n",
    "  \n",
    "    # Build a maxheap. \n",
    "    for i in range(n, -1, -1): \n",
    "        buildHeap(arr, n, i) \n",
    "  \n",
    "    # One by one extract elements \n",
    "    for i in range(n-1, 0, -1): \n",
    "        arr[i], arr[0] = arr[0], arr[i] # swap \n",
    "        buildHeap(arr, i, 0)     "
   ]
  },
  {
   "cell_type": "code",
   "execution_count": null,
   "metadata": {},
   "outputs": [],
   "source": [
    "arr = [ 11, 10, 0, 8, 50, 7] \n",
    "heapSort(arr) \n",
    "n = len(arr) \n",
    "print (\"Sorted array is\") \n",
    "for i in range(n): \n",
    "    print (\"%d\" %arr[i]), "
   ]
  },
  {
   "cell_type": "raw",
   "metadata": {},
   "source": [
    "Q#2 Implement a binary heap as a max heap."
   ]
  },
  {
   "cell_type": "raw",
   "metadata": {},
   "source": [
    "Answer: \n",
    "Modify the min heap algoritm (class BinHeap) in the lecture notes. \n",
    "Below are the changes marked xxx to change the min heap to a max heap.\n",
    "xxx reverse the compariosn at line# 26, 35, and 42"
   ]
  },
  {
   "cell_type": "code",
   "execution_count": 16,
   "metadata": {},
   "outputs": [],
   "source": [
    "import math\n",
    "# Draw a Tree\n",
    "LINK =\"-\"\n",
    "SPACE=\" \"\n",
    "PIPE=\"+\"\n",
    "dot = \"-\"\n",
    "\n",
    "def fieldLength (t, grid,s1=SPACE,s2=SPACE):\n",
    "    t = str(t)\n",
    "    n = len(t)\n",
    "    n1 = (grid-n)//2\n",
    "    n2 = grid-n - n1\n",
    "    t = s1*n1 + t + s2*n2\n",
    "    return t\n",
    "def printMatrix (M):\n",
    "    s=\"\"\n",
    "    for i in range ( len(M)):\n",
    "        for j in range ( len(M[i])):\n",
    "            s+= M[i][j]\n",
    "        s += \"\\n\"\n",
    "    print(s,\"\\n\"*2)\n",
    "    \n",
    "def addOneLink (M,i,j, grid, left):\n",
    "    s = LINK*grid\n",
    "    if left:\n",
    "        a=j-1; b=c=-1;\n",
    "        t = fieldLength( PIPE, grid, SPACE, dot)\n",
    "    else: \n",
    "        a=j+1; b = len(M[i]); c = 1 \n",
    "        t=fieldLength( PIPE, grid, dot, SPACE)\n",
    "    for k in range (a,b,c):\n",
    "        y = M[i+1][k]\n",
    "        if ( type(y)==str):\n",
    "            M[i][k]=s\n",
    "        else:\n",
    "            M[i][k]= t\n",
    "            break\n",
    "    \n",
    "def addLinks(M,i,j, grid, L):\n",
    "    n = len (M[0])\n",
    "    s1=s2=SPACE\n",
    "    x=M[i][j]\n",
    "    if ( x*2 < n ):\n",
    "        addOneLink(M,i,j, grid, True)\n",
    "        s1 = dot\n",
    "    if ( x*2+1 < n ):\n",
    "        addOneLink(M,i,j, grid, False)\n",
    "        s2 = dot\n",
    "    M[i][j] = fieldLength( L[x], grid,s1,s2 )\n",
    "\n",
    "def drawTree(bh, grid):\n",
    "    n = len(bh.heapList)\n",
    "    L=[SPACE*grid]*n    \n",
    "    h = int (math.log(n, 2)) + 1\n",
    "    M=[ L.copy() for i in range(h) ]\n",
    "    bh.trace (1,M)\n",
    "    for i in range ( len(M)):\n",
    "        for j in range ( n ):\n",
    "            x = M[i][j]\n",
    "            if (type(x)!=str):\n",
    "                addLinks(M,i,j, grid, bh.heapList)\n",
    "    printMatrix(M)"
   ]
  },
  {
   "cell_type": "code",
   "execution_count": 21,
   "metadata": {},
   "outputs": [],
   "source": [
    "\n",
    "class BinHeap:\n",
    "  def __init__(self, minHeap = True):\n",
    "    self.heapList = [0]\n",
    "    self.currentSize = 0\n",
    "    self.isMinHeap = minHeap\n",
    "    \n",
    "    \n",
    "  def __len__ (self):\n",
    "    return self.currentSize\n",
    "\n",
    "  def __str__(self):\n",
    "        return str ( self.heapList )\n",
    "    \n",
    "  def trace (self, i, M, cnt=0,level=0):\n",
    "        if i < len(self.heapList):\n",
    "            cnt = self.trace (2*i,M,cnt,level+1)\n",
    "            M[level][cnt]= i\n",
    "            cnt += 1\n",
    "            cnt = self.trace (2*i+1,M,cnt,level+1)\n",
    "        return cnt\n",
    "    \n",
    "       \n",
    "  def percUp(self,i):\n",
    "    while i // 2 > 0:\n",
    "      if self.isMinHeap == (self.heapList[i] < self.heapList[i // 2]): # xxx\n",
    "        tmp = self.heapList[i // 2]\n",
    "        self.heapList[i // 2] = self.heapList[i]\n",
    "        self.heapList[i] = tmp\n",
    "      i = i // 2\n",
    "\n",
    "  def percDown(self,i):\n",
    "    while (i * 2) <= self.currentSize:\n",
    "      mc = self.minChild(i)\n",
    "      if self.isMinHeap == (self.heapList[i]  > self.heapList[mc]): # xxx\n",
    "        tmp = self.heapList[i]\n",
    "        self.heapList[i] = self.heapList[mc]\n",
    "        self.heapList[mc] = tmp\n",
    "      i = mc\n",
    "\n",
    "  def minChild(self,i):\n",
    "    if i * 2 + 1 > self.currentSize:\n",
    "      return i * 2\n",
    "    else:\n",
    "      if self.isMinHeap == (self.heapList[i*2] < self.heapList[i*2+1]) : # xxx\n",
    "        return i * 2\n",
    "      else:\n",
    "        return i * 2 + 1\n",
    "\n",
    "  def insert(self,k):\n",
    "    self.heapList.append(k)\n",
    "    self.currentSize = self.currentSize + 1\n",
    "    self.percUp(self.currentSize)\n",
    "\n",
    "  def delMin(self):\n",
    "    retval = self.heapList[1]\n",
    "    self.heapList[1] = self.heapList[self.currentSize]\n",
    "    self.currentSize = self.currentSize - 1\n",
    "    self.heapList.pop()\n",
    "    self.percDown(1)\n",
    "    return retval\n",
    "\n",
    "  def draw(self):\n",
    "    drawTree (self,5)\n",
    "    \n",
    "  def buildHeap(self,alist):\n",
    "    i = len(alist) // 2\n",
    "    self.currentSize = len(alist)\n",
    "    self.heapList = [0] + alist[:]\n",
    "    while (i > 0):\n",
    "      self.percDown(i)\n",
    "      i = i -1\n",
    "  def sort (self):\n",
    "    ans=[]\n",
    "    while len(self)>0:\n",
    "        x = self.delMin()\n",
    "        ans.append(x)\n",
    "    self.buildHeap(ans)\n",
    "    print (ans)"
   ]
  },
  {
   "cell_type": "code",
   "execution_count": 22,
   "metadata": {},
   "outputs": [
    {
     "name": "stdout",
     "output_type": "stream",
     "text": [
      "                 +-------------10---------+            \n",
      "       +---------9---------+         +----8----+       \n",
      "  +----7----+         +----6         5         4       \n",
      "  3         2         1                                \n",
      " \n",
      "\n",
      "\n"
     ]
    }
   ],
   "source": [
    "bh = BinHeap(False)\n",
    "bh.buildHeap( list (range(10)))\n",
    "bh.draw()"
   ]
  },
  {
   "cell_type": "raw",
   "metadata": {},
   "source": [
    "Q#3 Using the BinaryHeap class, implement a new class called PriorityQueue that implement the constructor, plus the enqueue and dequeue methods.\n",
    "Hints: see lecture note 6"
   ]
  },
  {
   "cell_type": "code",
   "execution_count": 11,
   "metadata": {},
   "outputs": [
    {
     "name": "stdout",
     "output_type": "stream",
     "text": [
      "19, 18, 17, 16, 15, 14, 13, 12, 11, 10, \n",
      "                 +--------------9---------+            \n",
      "       +---------8---------+         +----5----+       \n",
      "  +----6----+         +----7         1         4       \n",
      "  0         3         2                                \n",
      " \n",
      "\n",
      "\n"
     ]
    }
   ],
   "source": [
    "class PriorityQueue (BinHeap): # built on top of BinHeap\n",
    "    \n",
    "    def  enqueue(self, k):      # implement enqueue and dequeue\n",
    "        self.insert (k)\n",
    "    def  dequeue(self):\n",
    "        return self.delMin()\n",
    "\n",
    "#xxx testing\n",
    "x = PriorityQueue()\n",
    "for i in range(20):\n",
    "    x.enqueue(i)\n",
    "for i in range(10):\n",
    "    y = x.dequeue()\n",
    "    print ( y, end=\", \")\n",
    "print ()\n"
   ]
  },
  {
   "cell_type": "raw",
   "metadata": {},
   "source": [
    "Q#4 Consdier the following min-heap tree. Show the new  tree and the srray after insertinn number 7"
   ]
  },
  {
   "cell_type": "raw",
   "metadata": {},
   "source": [
    "Answers is at Chapter 6 of the textbook at  http://interactivepython.org/runestone/static/pythonds/Trees/BinaryHeapImplementation.html#the-heap-order-property"
   ]
  },
  {
   "cell_type": "code",
   "execution_count": null,
   "metadata": {},
   "outputs": [],
   "source": [
    "The array after inserting 7:\n",
    "[5, 7, 11, 14, 9, 19, 21, 33, 17, 27, 18]"
   ]
  },
  {
   "cell_type": "markdown",
   "metadata": {},
   "source": [
    "<div class=\"binarySearch\">\n",
    "    <div style=\"float:left;margin-top:75px;\">\n",
    "    <figure>\n",
    "        <img src=\"images/heap.insert.1.png\" width=\"550\"  />\n",
    "        <figcaption style=\"text-align:center;\">   </figcaption>\n",
    "    </figure>\n",
    "    </div>\n",
    "    <div style=\"float:left;margin-right:55px;\">\n",
    "    <figure>\n",
    "        <img src=\"images/heap.insert.2.png\"  width=\"550\"  />\n",
    "        <figcaption style=\"text-align:center;\">   </figcaption>\n",
    "    </figure>\n",
    "    </div>\n",
    "</div>"
   ]
  },
  {
   "cell_type": "raw",
   "metadata": {},
   "source": [
    "Q#5 Modify our implementation of the binary search tree so that it handles duplicate keys properly. That is, if a key is already in the tree then the new payload should replace the old rather than add another node with the same key."
   ]
  },
  {
   "cell_type": "code",
   "execution_count": null,
   "metadata": {},
   "outputs": [],
   "source": [
    "The answer can be found in the lecture notes."
   ]
  },
  {
   "cell_type": "markdown",
   "metadata": {},
   "source": [
    "Bonus question:\n",
    "Using the following as a starting point, derive the equation that gives the updated balance factor for node D.\n",
    "<div class=\"parse.tree\">\n",
    "    <div style=\"float:left;margin-top:55px;\">\n",
    "    <figure>\n",
    "        <img src=\"images/exer.5.14.png\"  width=\"550\" />\n",
    "        <figcaption style=\"text-align:center;\">  </figcaption>\n",
    "    </figure>\n",
    "    </div>\n",
    "</div>\n",
    "Hints: Read  <a href='http://interactivepython.org/runestone/static/pythonds/Trees/AVLTreeImplementation.html'>6.17. </a>"
   ]
  }
 ],
 "metadata": {
  "kernelspec": {
   "display_name": "Python 3",
   "language": "python",
   "name": "python3"
  },
  "language_info": {
   "codemirror_mode": {
    "name": "ipython",
    "version": 3
   },
   "file_extension": ".py",
   "mimetype": "text/x-python",
   "name": "python",
   "nbconvert_exporter": "python",
   "pygments_lexer": "ipython3",
   "version": "3.7.1"
  }
 },
 "nbformat": 4,
 "nbformat_minor": 2
}
