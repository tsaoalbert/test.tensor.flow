{
 "cells": [
  {
   "cell_type": "markdown",
   "metadata": {},
   "source": [
    "<h1><a href='http://interactivepython.org/runestone/static/pythonds/Graphs/toctree.html'> 7. Graphs and Graph Algorithms</a></h1>"
   ]
  },
  {
   "cell_type": "markdown",
   "metadata": {},
   "source": [
    "<h2><a href='http://interactivepython.org/runestone/static/pythonds/Graphs/DiscussionQuestions.html'> 7.25. Discussion Questions</a></h2>"
   ]
  },
  {
   "cell_type": "markdown",
   "metadata": {},
   "source": [
    "Q#1 Use online graph http://graphonline.ru/en/ to draw a nice graph corresponding to the following adjacency matrix.\n",
    "<div class=\"binarySearch\">\n",
    "    <div style=\"float:left;margin-right:55px;\">\n",
    "    <figure>\n",
    "        <img src=\"images/adj.matrix.png\" height=\"400\" width=\"400\"  />\n",
    "        <figcaption style=\"text-align:center;\"> Adjacency Matrix  </figcaption>\n",
    "    </figure>\n",
    "    </div>\n",
    "    \n",
    "</div>"
   ]
  },
  {
   "cell_type": "raw",
   "metadata": {},
   "source": [
    "Q#2 \n",
    "Draw the graph corresponding to the following list of edges.\n",
    "from\tto\t    cost\n",
    "1\t    2    \t10\n",
    "1    \t3    \t15\n",
    "1    \t6    \t5\n",
    "2    \t3\t    7\n",
    "3    \t4\t    7\n",
    "3\t    6\t    10\n",
    "4\t    5\t    7\n",
    "6    \t4\t    5\n",
    "5\t    6\t    13\n",
    "hints: sample graph at http://graphonline.ru/en/?graph=DJTdnIUwAzlCppwr"
   ]
  },
  {
   "cell_type": "markdown",
   "metadata": {},
   "source": [
    "Q#3 \n",
    "* Show each step in applying Dijkstra’s algorithm to the graph shown above.\n",
    "* Using Prim’s algorithm, find the minimum weight spanning tree for the graph shown above.\n",
    "* Ignoring the weights, perform a breadth first search on the graph from the previous question."
   ]
  },
  {
   "cell_type": "markdown",
   "metadata": {},
   "source": []
  },
  {
   "cell_type": "code",
   "execution_count": null,
   "metadata": {},
   "outputs": [],
   "source": [
    "Q#4\n",
    "Prim’s Algorithm: Fill in the following table.\n",
    "dv = Cheapest edge cost to connect node v to tree T\n",
    "pv = Node in T to which the cheapest edge is connected"
   ]
  },
  {
   "cell_type": "markdown",
   "metadata": {},
   "source": [
    "<div class=\"binarySearch\">\n",
    "    <div style=\"float:left;margin-top:75px;\">\n",
    "    <figure>\n",
    "        <img src=\"images/prim.exer.2.png\" width=\"550\"  />\n",
    "        <figcaption style=\"text-align:center;\">   </figcaption>\n",
    "    </figure>\n",
    "    </div>\n",
    "    <div style=\"float:left;margin-right:55px;\">\n",
    "    <figure>\n",
    "        <img src=\"images/prim.exer.1.png\"  width=\"250\"  />\n",
    "        <figcaption style=\"text-align:center;\">   </figcaption>\n",
    "    </figure>\n",
    "    </div>\n",
    "</div>"
   ]
  },
  {
   "cell_type": "raw",
   "metadata": {},
   "source": [
    "Q#5\n",
    "Consider the example below. What are the discovered and finished times for each node, and the topological order? (Note that the answers can be not unique. To make the answer unique, we assume that lower-numbered edges are explored first.) \n",
    "1)\tNode A? Answer(1pt): ? | ?\n",
    "2)\tNode B? Answer(1pt): ? | ?\n",
    "3)\tNode C? Answer(1pt): ? | ?\n",
    "4)\tNode D? Answer(1pt): ? | ?\n",
    "5)\tNode E? Answer(1pt): ? | ?\n",
    "6)\tWhat is the topological order? Answer(1pt): "
   ]
  },
  {
   "cell_type": "markdown",
   "metadata": {},
   "source": [
    "<div class=\"binarySearch\">\n",
    "    <div style=\"float:left;margin-right:55px;\">\n",
    "    <figure>\n",
    "        <img src=\"images/topo.sort.exer.png\" height=\"400\" width=\"400\"  />\n",
    "        <figcaption style=\"text-align:center;\">   </figcaption>\n",
    "    </figure>\n",
    "    </div>\n",
    "</div>"
   ]
  },
  {
   "cell_type": "code",
   "execution_count": null,
   "metadata": {},
   "outputs": [],
   "source": []
  }
 ],
 "metadata": {
  "kernelspec": {
   "display_name": "Python 3",
   "language": "python",
   "name": "python3"
  },
  "language_info": {
   "codemirror_mode": {
    "name": "ipython",
    "version": 3
   },
   "file_extension": ".py",
   "mimetype": "text/x-python",
   "name": "python",
   "nbconvert_exporter": "python",
   "pygments_lexer": "ipython3",
   "version": "3.7.1"
  }
 },
 "nbformat": 4,
 "nbformat_minor": 2
}
