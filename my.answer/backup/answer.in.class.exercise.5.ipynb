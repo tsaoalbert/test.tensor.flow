{
 "cells": [
  {
   "cell_type": "markdown",
   "metadata": {},
   "source": [
    "<h1>\n",
    " <a href= \"http://interactivepython.org/runestone/static/pythonds/SortSearch/toctree.html\"> In Class Exercise # 5 </a>\n",
    "    </h1?"
   ]
  },
  {
   "cell_type": "markdown",
   "metadata": {},
   "source": [
    "<h1> <a href= \"\n",
    "http://interactivepython.org/runestone/static/pythonds/SortSearch/DiscussionQuestions.html\"> \n",
    "    5.15. Discussion Questions</a></h1>"
   ]
  },
  {
   "cell_type": "raw",
   "metadata": {},
   "source": [
    "Q#1\n",
    "\n",
    "Using the hash table performance formulas given in the chapter, compute the average number of comparisons necessary when the table is\n",
    "\n",
    "10% full\n",
    "25% full\n",
    "50% full\n",
    "75% full\n",
    "90% full\n",
    "99% full\n",
    "At what point do you think the hash table is too small? Explain.\n"
   ]
  },
  {
   "cell_type": "raw",
   "metadata": {},
   "source": [
    "Q#2\n",
    "Modify the hash function for strings to use positional weightings."
   ]
  },
  {
   "cell_type": "raw",
   "metadata": {},
   "source": [
    "Q#3\n",
    "We used a hash function for strings that weighted the characters by position. \n",
    "What are the biases that exist with these functions?\n",
    "Devise an alternative weighting scheme that remove these biases."
   ]
  },
  {
   "cell_type": "raw",
   "metadata": {},
   "source": [
    "Q#4\n",
    "Consider the following list of integers: \n",
    "[7, 2,9, 3,4,10, 5,1, 6,8]. \n",
    "Show how this list is sorted by the following algorithms:\n",
    "\n",
    "bubble sort\n",
    "selection sort\n",
    "insertion sort\n",
    "merge sort\n",
    "quick sort (Use the first one as the pivot value)"
   ]
  },
  {
   "cell_type": "raw",
   "metadata": {},
   "source": [
    "Q#5\n",
    "Consider the following list of integers: \n",
    "[10,9,8,7,6,5,4,3,2,1]. \n",
    "Show how this list is sorted by the following algorithms:\n",
    "\n",
    "bubble sort\n",
    "selection sort\n",
    "insertion sort\n",
    "merge sort\n",
    "quick sort (Use the first one as the pivot value)\n",
    "\n",
    "Show the array at each iteration. A sample run for the quick sort is given below, where the \n",
    "input array is shown at step 0, and * indicate the pivot item.\n",
    "\n",
    " 0: 54   26   93   17   77   31   44   55   20   \n",
    " 1: 31   26   20   17   44   54*  77   55   93   \n",
    " 2: 17   26   20   31*  44        55   77*  93   \n",
    " 3: 17*  26   20        44        55        93   \n",
    "\n",
    " 4: 17*  20   26*  31*  44   54*  55   77*  93\n"
   ]
  },
  {
   "cell_type": "raw",
   "metadata": {},
   "source": [
    "Q#7\n",
    "Consider the following list of integers: [1,2,3,4,5,6,7,8,9,10]. \n",
    "Show how this list is sorted by the following algorithms:\n",
    "bubble sort\n",
    "selection sort\n",
    "insertion sort\n",
    "merge sort\n",
    "quick sort (Use the first one as the pivot value)"
   ]
  },
  {
   "cell_type": "raw",
   "metadata": {},
   "source": [
    "Q#8\n",
    "Consider the list of characters: ['P','Y','T','H','O','N']. \n",
    "Show how this list is sorted using the following algorithms:\n",
    "bubble sort\n",
    "selection sort\n",
    "insertion sort\n",
    "merge sort\n",
    "quick sort (you decide on the pivot value)"
   ]
  },
  {
   "cell_type": "raw",
   "metadata": {},
   "source": [
    "Q#9\n",
    "Devise alternative strategies for choosing the pivot value in quick sort. \n",
    "For example, pick the middle item. \n",
    "Re-implement the algorithm and then execute it on random data sets. \n",
    "Under what criteria does your new strategy perform better or worse than the strategy from this chapter?"
   ]
  },
  {
   "cell_type": "code",
   "execution_count": null,
   "metadata": {},
   "outputs": [],
   "source": [
    "def selectPivot (alist, first, last):\n",
    "  if last-first <2:\n",
    "    return\n",
    "  L=alist[first:last] # xxx\n",
    "  L.sort()                          # xxx\n",
    "  x= L  [len(L)//2 ]                # xxx\n",
    "  print (L, x)\n",
    "  i = first + L.index(x)            # xxx\n",
    "  alist[first], alist[i] = alist[i], alist[first] # xxx"
   ]
  },
  {
   "cell_type": "code",
   "execution_count": 24,
   "metadata": {},
   "outputs": [
    {
     "name": "stdout",
     "output_type": "stream",
     "text": [
      "Quick Sort: \n",
      " 0:  7    2    9    3    4   10    5    1   22   37   96   54    6    8   \n",
      " 1:  1    2*   9    3    4   10    5    7   22   37   96   54    6    8   \n",
      " 2:  1         3*   9    4   10    5    7   22   37   96   54    6    8   \n",
      " 3:  1              4*   9   10    5    7   22   37   96   54    6    8   \n",
      " 4:  1                   6    9    5    7    8   10*  96   54   37   22   \n",
      " 5:  1                   8    6    5    7    9*       37   22   54*  96   \n",
      " 6:  1                   5    6*   8    7             22   37*       96   \n",
      " 7:  1    2*   3*   4*   5    6*   7    8*   9*  10*  22   37*  54*  96   \n",
      "Quick Sort: \n",
      " 0: 15   14   13   12   11   10    9    8    7    6    5    4    3    2    1   \n",
      " 1:  2    1   13   12   11   10    9    8    7    6    5    4    3   14*  15   \n",
      " 2:  1*   2   13   12   11   10    9    8    7    6    5    4    3        15   \n",
      " 3:       3    2   12   11   10    9    8    7    6    5    4   13*       15   \n",
      " 4:       2*   3   12   11   10    9    8    7    6    5    4             15   \n",
      " 5:            4    3   11   10    9    8    7    6    5   12*            15   \n",
      " 6:            3*   4   11   10    9    8    7    6    5                  15   \n",
      " 7:                 5    4   10    9    8    7    6   11*                 15   \n",
      " 8:                 4*   5   10    9    8    7    6                       15   \n",
      " 9:                      6    5    9    8    7   10*                      15   \n",
      "10:                      5*   6    9    8    7                            15   \n",
      "11:                           7    6    8    9*                           15   \n",
      "12:                           6*   7    8                                 15   \n",
      "13:  1*   2*   3*   4*   5*   6*   7*   8    9*  10*  11*  12*  13*  14*  15   \n",
      "Quick Sort: \n",
      " 0:  1    2    3    4    5    6    7    8    9   10   11   12   13   15   29   99   \n",
      " 1:  1    2*   3    4    5    6    7    8    9   10   11   12   13   15   29   99   \n",
      " 2:  1         3    4*   5    6    7    8    9   10   11   12   13   15   29   99   \n",
      " 3:  1         3         5    6*   7    8    9   10   11   12   13   15   29   99   \n",
      " 4:  1         3         5         7    8*   9   10   11   12   13   15   29   99   \n",
      " 5:  1         3         5         7         9   10*  11   12   13   15   29   99   \n",
      " 6:  1         3         5         7         9        11   12*  13   15   29   99   \n",
      " 7:  1         3         5         7         9        11        13   15*  29   99   \n",
      " 8:  1    2*   3    4*   5    6*   7    8*   9   10*  11   12*  13   15*  29*  99   \n",
      "Quick Sort: \n",
      " 0:  P    Y    T    H    O    N    b    i    j    a    y   \n",
      " 1:  N    P    T    H    O    Y*   b    i    j    a    y   \n",
      " 2:  H    N    O    P*   T         a    b    i*   j    y   \n",
      " 3:  H    N*   O    P*   T    Y*   a*   b    i*   j*   y   \n"
     ]
    }
   ],
   "source": [
    "def quickSort(alist,d,e ):\n",
    "  return quickSortHelper(alist,0,len(alist)-1, 0,d,e )\n",
    "  \n",
    "\n",
    "def quickSortHelper(alist,first,last, i, d, e):\n",
    "  for j in range (first, last+1):\n",
    "    d[i][j] =  alist[j]\n",
    "  depth = i+1\n",
    "  if first<last:\n",
    "    splitpoint = partition(alist,first,last )\n",
    "    for j in range (i+1,len(e)):\n",
    "        e[j][splitpoint] = \"*\" \n",
    "    x=quickSortHelper(alist,first,splitpoint-1, i+1,d,e )\n",
    "    y=quickSortHelper(alist,splitpoint+1,last, i+1,d,e )\n",
    "    depth = max (x,y)\n",
    "  return depth\n",
    "   \n",
    "def partition(alist,first,last):\n",
    "  L=alist[first: min(first+3,last)] # xxx\n",
    "  L.sort()                          # xxx\n",
    "  x= L  [len(L)//2 ]                # xxx\n",
    "  i = first + L.index(x)            # xxx\n",
    "  alist[first], alist[i] = alist[i], alist[first]\n",
    "  pivotvalue = alist[first]  # xxx\n",
    "  alist\n",
    "  leftmark = first+1\n",
    "  rightmark = last\n",
    "\n",
    "  done = False\n",
    "  while not done:\n",
    "\n",
    "    while leftmark <= rightmark and alist[leftmark] <= pivotvalue:\n",
    "      leftmark = leftmark + 1\n",
    "\n",
    "    while alist[rightmark] >= pivotvalue and rightmark >= leftmark:\n",
    "      rightmark = rightmark -1\n",
    "\n",
    "    if rightmark < leftmark:\n",
    "      done = True\n",
    "    else:\n",
    "      alist[leftmark], alist[rightmark]  = alist[rightmark], alist[leftmark]\n",
    "  alist[first], alist[rightmark]  = alist[rightmark], alist[first]\n",
    "  return rightmark\n",
    "def preTrace (M):\n",
    "    print (\"Quick Sort: \")\n",
    "    d=[]; e=[]\n",
    "    n = len(M)\n",
    "    for i in range ( n):\n",
    "        d.append(M.copy()); \n",
    "        e.append([\" \"]*n)\n",
    "    return d, e\n",
    "\n",
    "def testQuickSort(L):\n",
    "    n = len(L)\n",
    "    d,e = preTrace ( sorted(L) );\n",
    "    m = quickSort(L, d,e )\n",
    "    X = list( range(m) ) + [ n-1]\n",
    "    for i in range ( m):\n",
    "        s = \"{0:2}: \".format(i)\n",
    "        print (s, end=\"\")\n",
    "        for j in range(n):\n",
    "            x = d[i][j]; y = e[i][j]\n",
    "            s = \"{0:>2}{1:<2}\".format(x,y)\n",
    "            if (i!= m-1 and i>0 and e[i-1][j]==\"*\"):\n",
    "              s = \" \"* len(s)  \n",
    "            print ( s, end=\" \")\n",
    "        print ()\n",
    "\n",
    "a=[7, 2,9, 3,4,10, 5,1,22,37,96,54,6,8]  #Q4\n",
    "b=[15,14,13,12,11,10,9,8,7,6,5,4,3,2,1]      #Q5\n",
    "c=[1,2,3,4,5,6,7,8,9,10,11,12,13,15,29,99]      #Q6\n",
    "d=['P','Y','T','H','O','N','b','i','j','a','y']   #Q7\n",
    "for s in [a,b,c,d]:\n",
    "    testQuickSort(s)\n"
   ]
  },
  {
   "cell_type": "code",
   "execution_count": null,
   "metadata": {},
   "outputs": [],
   "source": []
  }
 ],
 "metadata": {
  "kernelspec": {
   "display_name": "Python 3",
   "language": "python",
   "name": "python3"
  },
  "language_info": {
   "codemirror_mode": {
    "name": "ipython",
    "version": 3
   },
   "file_extension": ".py",
   "mimetype": "text/x-python",
   "name": "python",
   "nbconvert_exporter": "python",
   "pygments_lexer": "ipython3",
   "version": "3.7.1"
  }
 },
 "nbformat": 4,
 "nbformat_minor": 2
}
