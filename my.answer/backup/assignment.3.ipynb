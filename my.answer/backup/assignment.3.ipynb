{
 "cells": [
  {
   "cell_type": "markdown",
   "metadata": {},
   "source": [
    "<h1> Assignments #3:  <a href='http://interactivepython.org/runestone/static/pythonds/BasicDS/toctree.html'> \n",
    "Basic Data Structures </a> </h1>"
   ]
  },
  {
   "cell_type": "markdown",
   "metadata": {},
   "source": [
    "<h3> <a href='\n",
    "http://interactivepython.org/runestone/static/pythonds/BasicDS/ProgrammingExercises.html  \n",
    "'>   Programming Exercises  </a> </h3>"
   ]
  },
  {
   "cell_type": "markdown",
   "metadata": {},
   "source": [
    "* 3.1 Modify the infix-to-postfix algorithm so that it can handle errors.\n",
    "* 3.2 Modify the postfix evaluation algorithm so that it can handle errors.\n",
    "* 3.3 Implement a direct infix evaluator that combines both infix-to-postfix conversion \n",
    "* 3.4 Turn your direct infix evaluator from the previous problem into a calculator that can handles arithmetic operators +,-,*,/, //, %, ** and parenthesis."
   ]
  },
  {
   "cell_type": "markdown",
   "metadata": {},
   "source": [
    "* 3.12 Extend the program from Listing 2.15 to handle palindromes with spaces. For example, I PREFER PI is a palindrome that reads the same forward and backward if you ignore the blank characters."
   ]
  },
  {
   "cell_type": "markdown",
   "metadata": {},
   "source": [
    "Modify the unorderedList class as follows:\n",
    "* allow duplicates\n",
    "* remove method can work correctly on non-existing items\n",
    "* Improve the time of length method to O(1)\n",
    "* Implement __str__ method so that lists are displayed the Python way\n",
    "* Implement the remaining operations defined in the UnorderedList ADT (append, index, pop, insert)."
   ]
  },
  {
   "cell_type": "markdown",
   "metadata": {},
   "source": [
    "Implement the remaining operations defined in the OrderedList ADT."
   ]
  },
  {
   "cell_type": "markdown",
   "metadata": {},
   "source": [
    "Use linked lists to implement queue, deque, and deque."
   ]
  },
  {
   "cell_type": "markdown",
   "metadata": {},
   "source": [
    "Use doubly linked list to implement a queue that would have an average performance of O(1)for enqueue and dequeue operations.\n"
   ]
  },
  {
   "cell_type": "markdown",
   "metadata": {},
   "source": [
    "* 3.12 Extend the program from Listing 2.15 to handle palindromes with spaces. For example, I PREFER PI is a palindrome that reads the same forward and backward if you ignore the blank characters."
   ]
  },
  {
   "cell_type": "markdown",
   "metadata": {},
   "source": [
    "You may make use of the following starter program to finish your work."
   ]
  },
  {
   "cell_type": "code",
   "execution_count": 84,
   "metadata": {},
   "outputs": [],
   "source": [
    "#!/usr/bin/env python\n",
    "\"\"\"\n",
    "3.12 Extend the program from Listing 2.15 to handle palindromes with spaces. \n",
    "For example, I PREFER PI is a palindrome that reads the same forward and backward if you ignore the blank characters.\n",
    "\"\"\"\n",
    "from pythonds.basic.deque import Deque\n",
    "import string\n",
    "\n",
    "def palchecker(aString):\n",
    "    aString = ''.join(e for e in aString if e.isalpha())\n",
    "    aString = aString.upper()\n",
    "    chardeque = Deque()\n",
    "\n",
    "    for ch in aString:\n",
    "        chardeque.addRear(ch)\n",
    "\n",
    "    stillEqual = True\n",
    "\n",
    "    while chardeque.size() > 1 and stillEqual:\n",
    "        first = chardeque.removeFront()\n",
    "        last = chardeque.removeRear()\n",
    "        if first != last:\n",
    "            stillEqual = False\n",
    "\n",
    "    return stillEqual\n",
    "A = [ \"A Nut for a Jar of Tuna\", \"A But Tuba\", \"As I Pee, Sir, I See Pisa\", \\\n",
    "        \"A Toyota's a Toyota\", \"No X in Nixon\", \"radar\",  \"I prefer pi\", \"Race car\" ] \n",
    "for s in A:\n",
    "    assert palchecker (s)\n",
    "\n",
    "assert (not palchecker(\"lsdkjfskf\"))\n",
    "\n"
   ]
  },
  {
   "cell_type": "code",
   "execution_count": 78,
   "metadata": {},
   "outputs": [],
   "source": [
    "#!/usr/bin/env python\n",
    "\n",
    "class Node:\n",
    "    def __init__(self,initdata):\n",
    "        self.data = initdata\n",
    "        self.next = None\n",
    "\n",
    "    def getData(self):\n",
    "        return self.data\n",
    "\n",
    "    def __str__(self):\n",
    "        return self.data\n",
    "\n",
    "    def getNext(self):\n",
    "        return self.next\n",
    "\n",
    "    def setData(self,newdata):\n",
    "        self.data = newdata\n",
    "\n",
    "    def setNext(self,newnext):\n",
    "        self.next = newnext"
   ]
  },
  {
   "cell_type": "markdown",
   "metadata": {},
   "source": [
    "Modify the unorderedList class as follows:\n",
    "* Improve the time of length method to O(1)\n",
    "* Allow duplicates. Which methods will be impacted by this change? \n",
    "* Remove method can work correctly on non-existing items\n",
    "* Implement __str__ method so that lists are displayed the Python way\n",
    "* Implement the remaining operations defined in the UnorderedList ADT (append, index, pop, insert)."
   ]
  },
  {
   "cell_type": "code",
   "execution_count": 80,
   "metadata": {},
   "outputs": [
    {
     "name": "stdout",
     "output_type": "stream",
     "text": [
      "Cannot remove 93\n"
     ]
    }
   ],
   "source": [
    "class UnorderedList:\n",
    "    def __init__(self, L=[] ):\n",
    "        self.count = 0      # xxx Improve the time of length method to O(1)\n",
    "        self.head = None\n",
    "        for x in L:\n",
    "            self.add (x)\n",
    "        \n",
    "    def isEmpty(self):\n",
    "        return self.count == 0\n",
    "    \n",
    "    def append (self, item):  # xxx add at the end\n",
    "        pass\n",
    "    def insert ( self, i):    # add at position indexed i\n",
    "        pass\n",
    "    def add(self,item):      # add at the head \n",
    "        self.count += 1\n",
    "        temp = Node(item)\n",
    "        temp.setNext(self.head)\n",
    "        self.head = temp\n",
    "        \n",
    "    def __getitem__(self,i): # xxx  index\n",
    "        cnt = 0 \n",
    "        current = self.head\n",
    "        while current != None and cnt < i :\n",
    "            current = current.getNext()\n",
    "            cnt += 1\n",
    "        if ( current==None):\n",
    "          return None\n",
    "        else:\n",
    "          return current.getData()\n",
    "        \n",
    "    def getList (self):\n",
    "        ans = []\n",
    "        current = self.head\n",
    "        while current != None:\n",
    "            ans.append( current.getData() )\n",
    "            current = current.getNext()\n",
    "        return  (ans)\n",
    "    \n",
    "    def __str__(self):\n",
    "        return  str( self.getList() )\n",
    "        \n",
    "    def length(self): \n",
    "        return self.count\n",
    "\n",
    "    def search(self,item):\n",
    "        current = self.head\n",
    "        found = False\n",
    "        while current != None and not found:\n",
    "            if current.getData() == item:\n",
    "                found = True\n",
    "            else:\n",
    "                current = current.getNext()\n",
    "\n",
    "        return found\n",
    "  \n",
    "    def pop (self):           # xxx remove at the end\n",
    "        pass\n",
    "\n",
    "    def remove(self,item):\n",
    "        current = self.head\n",
    "        previous = None\n",
    "        found = False\n",
    "        while current!=None and not found:\n",
    "            if current.getData() == item:\n",
    "                found = True\n",
    "            else:\n",
    "                previous = current\n",
    "                current = current.getNext()\n",
    "\n",
    "        if found:\n",
    "          self.count -= 1\n",
    "          if previous == None:\n",
    "            self.head = current.getNext()\n",
    "          else:\n",
    "            previous.setNext(current.getNext())\n",
    "        else:\n",
    "          print ( \"Cannot remove %d\" % (item) )\n",
    "        return found\n",
    "\n",
    "def test1():\n",
    "    L = [ 31,77, 17, 93, 26, 54 ]\n",
    "    mylist = UnorderedList( L  )\n",
    "    assert  mylist.length() == 6\n",
    "    assert mylist.search(93)\n",
    "    assert not mylist.search(100)\n",
    "    mylist.add(100)\n",
    "    assert  mylist.search(100)\n",
    "    assert mylist.length()==7\n",
    "    mylist.remove(54)\n",
    "    mylist.remove(93)\n",
    "    mylist.remove(31)\n",
    "    assert  mylist.length() == 4\n",
    "    assert not mylist.search(93)\n",
    "    assert not mylist.remove(93)\n",
    "    assert mylist.getList() == [100, 26, 17, 77]\n",
    "    assert mylist.search(100)\n",
    "\n",
    "test1()"
   ]
  }
 ],
 "metadata": {
  "kernelspec": {
   "display_name": "Python 3",
   "language": "python",
   "name": "python3"
  },
  "language_info": {
   "codemirror_mode": {
    "name": "ipython",
    "version": 3
   },
   "file_extension": ".py",
   "mimetype": "text/x-python",
   "name": "python",
   "nbconvert_exporter": "python",
   "pygments_lexer": "ipython3",
   "version": "3.7.1"
  }
 },
 "nbformat": 4,
 "nbformat_minor": 2
}
