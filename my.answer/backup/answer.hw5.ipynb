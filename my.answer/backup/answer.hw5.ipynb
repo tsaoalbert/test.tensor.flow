{
 "cells": [
  {
   "cell_type": "markdown",
   "metadata": {},
   "source": [
    "# <a href= \"http://interactivepython.org/runestone/static/pythonds/SortSearch/toctree.html\"> Chapter 5: Searching and Sorting </a>"
   ]
  },
  {
   "cell_type": "markdown",
   "metadata": {},
   "source": [
    "<h3> <a href= \"http://interactivepython.org/runestone/static/pythonds/SortSearch/ProgrammingExercises.html    \"> \n",
    "Programming Exercises\n",
    "</a>\n",
    "</h3>\n",
    "(Note that you may find answers or partial answers in the lecture notes.)"
   ]
  },
  {
   "cell_type": "markdown",
   "metadata": {},
   "source": [
    "Q#1: Implement the following for the hash table Map ADT implementation.\n",
    "<ul> \n",
    "  <li>  len method (__len__)</li>\n",
    "  <li> in method (__contains__)</li>\n",
    "  <li> del method using the following for collision resolution</li>\n",
    "  <ul>\n",
    "         <li>  chaining </li>\n",
    "         <li> open addressing quadratic probing</li>\n",
    "  </ul>\n",
    "          \n",
    "</ul>\n",
    "\n"
   ]
  },
  {
   "cell_type": "markdown",
   "metadata": {},
   "source": [
    "Q#2: Implement the mergeSort function without using the slice operator."
   ]
  },
  {
   "cell_type": "code",
   "execution_count": 2,
   "metadata": {},
   "outputs": [
    {
     "name": "stdout",
     "output_type": "stream",
     "text": [
      "Given array is\n",
      "19 101 33 5 6 7 2 44 72 12 1 0 \n",
      "\n",
      "Sorted array is\n",
      "0 1 2 5 6 7 12 19 33 44 72 101 "
     ]
    }
   ],
   "source": [
    "def merge(arr, l, m, r): \n",
    "  n1 = m - l + 1 \n",
    "  n2 = r- m \n",
    "  L = [ arr[l+i] for i in range(n1) ] \n",
    "  R = [ arr[m+1+i] for i in range(n2) ] \n",
    "\n",
    "  i = 0 \n",
    "  j = 0 \n",
    "  k = l \n",
    "  while i < n1 and j < n2 :\n",
    "    if L[i] <= R[j]:\n",
    "      arr[k] = L[i]\n",
    "      i += 1\n",
    "    else:\n",
    "      arr[k] = R[j]\n",
    "      j += 1\n",
    "    k += 1\n",
    "    \n",
    "  while i < n1:\n",
    "    arr[k] = L[i]\n",
    "    i += 1\n",
    "    k += 1\n",
    "\n",
    "  while j < n2:\n",
    "    arr[k] = R[j]\n",
    "    j += 1\n",
    "    k += 1\n",
    "\n",
    "\n",
    "def mergeSort(arr,l,r):\n",
    "\n",
    "  if l < r: \n",
    "    m = (l+(r-1))//2 \n",
    "    mergeSort(arr, l, m) \n",
    "    mergeSort(arr, m+1, r) \n",
    "    merge(arr, l, m, r) \n",
    "\n",
    "arr = [19, 101, 33, 5, 6, 7,2,44,72,12,1,0] \n",
    "n = len(arr) \n",
    "print (\"Given array is\") \n",
    "for i in range(n): \n",
    "  print (\"%d\" %arr[i], end=\" \")\n",
    "\n",
    "mergeSort(arr,0,n-1) \n",
    "print(\"\\n\\nSorted array is\") \n",
    "for i in range(n): \n",
    "  print (\"%d\" %arr[i], end = \" \")\n"
   ]
  },
  {
   "cell_type": "markdown",
   "metadata": {},
   "source": [
    "Q#3: Using a random number generator, create a list of 500 integers. Perform a benchmark analysis two sorting algorithmsfrom this chapter. The first one has to be one of the insertion/selection/bubble sorting algorithms and the other is one of the quick/merge sorting algorithm.  What is the difference in execution speed?"
   ]
  },
  {
   "cell_type": "markdown",
   "metadata": {},
   "source": [
    "Q#4; Given a list of numbers in random order, write an algorithm that works\n",
    "      in O(nlog(n)) to find the kth smallest number in the list."
   ]
  },
  {
   "cell_type": "code",
   "execution_count": 2,
   "metadata": {},
   "outputs": [
    {
     "name": "stdout",
     "output_type": "stream",
     "text": [
      "5\n"
     ]
    }
   ],
   "source": [
    "def selection (k, L):\n",
    "    L.sort();\n",
    "    return L[k-1]\n",
    "\n",
    "L = [ 3,2,5,4,9,1]\n",
    "print ( selection (4, L ))"
   ]
  },
  {
   "cell_type": "markdown",
   "metadata": {},
   "source": [
    "Q#5: Improve the algorithm from the previous problem to be linear? (Hints: the qsort algorithms.) \n"
   ]
  },
  {
   "cell_type": "code",
   "execution_count": 1,
   "metadata": {},
   "outputs": [],
   "source": [
    "def pivot (alist, first, last):\n",
    "  if last > first+1:\n",
    "    L=alist[first:last+1]\n",
    "    n = len(L)\n",
    "    x = sorted(L)[ (n-1)//2 ]\n",
    "    i = first + L.index(x)\n",
    "    alist[first], alist[i] = alist[i], alist[first]"
   ]
  },
  {
   "cell_type": "code",
   "execution_count": 2,
   "metadata": {},
   "outputs": [
    {
     "name": "stdout",
     "output_type": "stream",
     "text": [
      "Quick Sort: \n",
      " 0: 31   26   20   17   44   77   54   55   93   \n",
      " 1: 17   20   26   31   44*  54   55   77   93   \n",
      " 2: 17   20*  26   31        54   55*  77   93   \n",
      " 3: 17   20*  26   31*  44*  54   55*  77*  93   \n",
      "Quick Sort: \n",
      " 0:  0    1    2    3   \n",
      " 1:  0    1*   2    3   \n",
      " 2:  0    1*   2*   3   \n",
      "Quick Sort: \n",
      " 0:  1    0    2    4    3   \n",
      " 1:  0    1    2*   3    4   \n",
      " 2:  0    1*   2*   3    4*  \n",
      "Quick Sort: \n",
      " 0:  4    2    1    3    5   10    7    9    6    8   \n",
      " 1:  1    2    3    4    5*   6    7    8    9   10   \n",
      " 2:  1    2*   3    4         6    7    8*   9   10   \n",
      " 3:  1    2*   3    4*   5*   6*   7    8*   9*  10   \n",
      "Quick Sort: \n",
      " 0:  4    1    2    3    5   10    6    7    8    9   \n",
      " 1:  1    2    3    4    5*   7    6    8   10    9   \n",
      " 2:  1    2*   3    4         6    7    8*   9   10   \n",
      " 3:  1    2*   3    4*   5*   6    7*   8*   9   10*  \n",
      "Quick Sort: \n",
      " 0:  1    2    3    4    5    6    7    8    9   10   \n",
      " 1:  1    2    3    4    5*   6    7    8    9   10   \n",
      " 2:  1    2*   3    4         6    7    8*   9   10   \n",
      " 3:  1    2*   3*   4    5*   6*   7    8*   9*  10   \n",
      "Quick Sort: \n",
      " 0:  H    N    O    T    P    Y   \n",
      " 1:  H    N    O*   P    T    Y   \n",
      " 2:  H*   N    O*   P    T*   Y   \n"
     ]
    }
   ],
   "source": [
    "\n",
    "def quickSort(alist,d,e ):\n",
    "  return quickSortHelper(alist,0,len(alist)-1, 0,d,e )\n",
    "  \n",
    "\n",
    "def quickSortHelper(alist,first,last, i, d, e):\n",
    "  for j in range (first, last+1):\n",
    "    d[i][j] =  alist[j]\n",
    "  depth = i+1\n",
    "  if first<last:\n",
    "    splitpoint = partition(alist,first,last )\n",
    "    d[i] = alist.copy()\n",
    "    for j in range (i+1,len(e)):\n",
    "        e[j][splitpoint] = \"*\" \n",
    "    x=quickSortHelper(alist,first,splitpoint-1, i+1,d,e )\n",
    "    y=quickSortHelper(alist,splitpoint+1,last, i+1,d,e )\n",
    "    depth = max (x,y)\n",
    "  return depth\n",
    "   \n",
    "def partition(alist,first,last):\n",
    "    \n",
    "  pivot (alist, first, last)\n",
    "\n",
    "  pivotvalue = alist[first]\n",
    "\n",
    "  leftmark = first+1\n",
    "  rightmark = last\n",
    "\n",
    "  done = False\n",
    "  while not done:\n",
    "\n",
    "    while leftmark <= rightmark and alist[leftmark] <= pivotvalue:\n",
    "      leftmark = leftmark + 1\n",
    "\n",
    "    while alist[rightmark] >= pivotvalue and rightmark >= leftmark:\n",
    "      rightmark = rightmark -1\n",
    "\n",
    "    if rightmark < leftmark:\n",
    "      done = True\n",
    "    else:\n",
    "      alist[leftmark], alist[rightmark]  = alist[rightmark], alist[leftmark]\n",
    "  alist[first], alist[rightmark]  = alist[rightmark], alist[first]\n",
    "  return rightmark\n",
    "def preTrace (M):\n",
    "    print (\"Quick Sort: \")\n",
    "    d=[]; e=[]\n",
    "    n = len(M)\n",
    "    for i in range ( n):\n",
    "        d.append(M.copy()); \n",
    "        e.append([\" \"]*n)\n",
    "    return d, e\n",
    "\n",
    "def testQuickSort(L):\n",
    "    n = len(L)\n",
    "    d,e = preTrace ( sorted(L) );\n",
    "    m = quickSort(L, d,e )\n",
    "    X = list( range(m) ) + [ n-1]\n",
    "    for i in range ( m):\n",
    "        s = \"{0:2}: \".format(i)\n",
    "        print (s, end=\"\")\n",
    "        for j in range(n):\n",
    "            x = d[i][j]; y = e[i][j]\n",
    "            s = \"{0:>2}{1:<2}\".format(x,y)\n",
    "            if (i!= m-1 and i>0 and e[i-1][j]==\"*\"):\n",
    "              s = \" \"* len(s)  \n",
    "            print ( s, end=\" \")\n",
    "        print ()\n",
    "\n",
    "L = [54,26,93,17,77,31,44,55,20]\n",
    "testQuickSort(L)\n",
    "testQuickSort ([0,1,2,3])\n",
    "testQuickSort ([4,3,2,1,0])\n",
    "\n",
    "a=[7, 2,9, 3,4,10, 5,1, 6,8]  #Q4\n",
    "b=[10,9,8,7,6,5,4,3,2,1]      #Q5\n",
    "c=[1,2,3,4,5,6,7,8,9,10]      #Q6\n",
    "d=['P','Y','T','H','O','N']   #Q7\n",
    "for s in [a,b,c,d]:\n",
    "    testQuickSort(s)\n"
   ]
  },
  {
   "cell_type": "markdown",
   "metadata": {},
   "source": [
    "(Optional) Research perfect hash functions. Using a list of names (classmates, family members, etc.), generate the hash values using the perfect hash algorithm."
   ]
  }
 ],
 "metadata": {
  "kernelspec": {
   "display_name": "Python 3",
   "language": "python",
   "name": "python3"
  },
  "language_info": {
   "codemirror_mode": {
    "name": "ipython",
    "version": 3
   },
   "file_extension": ".py",
   "mimetype": "text/x-python",
   "name": "python",
   "nbconvert_exporter": "python",
   "pygments_lexer": "ipython3",
   "version": "3.7.1"
  }
 },
 "nbformat": 4,
 "nbformat_minor": 2
}
