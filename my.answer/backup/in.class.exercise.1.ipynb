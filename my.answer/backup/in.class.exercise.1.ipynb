{
 "cells": [
  {
   "cell_type": "markdown",
   "metadata": {},
   "source": [
    "<h1> <a href='\n",
    "http://interactivepython.org/runestone/static/pythonds/Introduction/DiscussionQuestions.html\n",
    "'> In Class Exercise #1  </a> </h1>\n",
    "    "
   ]
  },
  {
   "cell_type": "code",
   "execution_count": null,
   "metadata": {},
   "outputs": [],
   "source": [
    "# Modify the following code so that the \n",
    "# final list only contains a single copy of each letter.\n",
    "# the answer is: ['c', 'a', 't', 'd', 'o', 'g', 'r', 'b', 'i']\n",
    "\n",
    "wordlist = ['cat','dog','rabbit']\n",
    "letterlist = [ ]\n",
    "for aword in wordlist:\n",
    "    # fill in the missing piece of codes\n",
    "print(letterlist)"
   ]
  },
  {
   "cell_type": "markdown",
   "metadata": {},
   "source": [
    "Construct a class hierarchy for people on a college campus. \n",
    "Include faculty, staff, and students. \n",
    "What do they have in common? \n",
    "What distinguishes them from one another?"
   ]
  },
  {
   "cell_type": "markdown",
   "metadata": {},
   "source": [
    "Construct a class hierarchy for \n",
    "* different types of bank accounts.\n",
    "* different types of computers"
   ]
  },
  {
   "cell_type": "markdown",
   "metadata": {},
   "source": []
  },
  {
   "cell_type": "markdown",
   "metadata": {},
   "source": [
    "\n",
    "\n",
    "<h3> Read the problem description at <a href='\n",
    "http://www.jesshamrick.com/2011/05/18/an-introduction-to-classes-and-inheritance-in-python/    '> Construct a class hierarchy for different types of pets.\n",
    " </a>  \n",
    "<ul>\n",
    "    <li>\n",
    " Include birds, fish, dogs and cats.\n",
    "        </li>\n",
    "<li>\n",
    "     What do they have in common? \n",
    "       </li>    \n",
    "<li>\n",
    "     What distinguishes them from one another?\n",
    "       </li>\n",
    "</ul>\n",
    "</h3>"
   ]
  },
  {
   "cell_type": "markdown",
   "metadata": {},
   "source": [
    "Construct a class hierarchy for different types of computers.\n"
   ]
  },
  {
   "cell_type": "code",
   "execution_count": null,
   "metadata": {},
   "outputs": [],
   "source": [
    "class Pet(object):   # base class\n",
    "\n",
    "    def __init__(self, name, species):\n",
    "        self.name = name\n",
    "        self.species = species\n",
    "\n",
    "    def getName(self):\n",
    "        return self.name\n",
    "\n",
    "    def getSpecies(self):\n",
    "        return self.species\n",
    "\n",
    "    def __str__(self):\n",
    "        return \"%s is a %s\" % (self.name, self.species)"
   ]
  },
  {
   "cell_type": "code",
   "execution_count": null,
   "metadata": {},
   "outputs": [],
   "source": [
    "class Dog(Pet):   # subclass\n",
    "\n",
    "    def __init__(self, name, chases_cats):\n",
    "        Pet.__init__(self, name, \"Dog\")\n",
    "        self.chases_cats = chases_cats\n",
    "\n",
    "    def chasesCats(self):\n",
    "        return self.chases_cats"
   ]
  },
  {
   "cell_type": "code",
   "execution_count": null,
   "metadata": {},
   "outputs": [],
   "source": [
    "class Cat(Pet):\n",
    "\n",
    "    def __init__(self, name, hates_dogs):\n",
    "        Pet.__init__(self, name, \"Cat\")\n",
    "        self.hates_dogs = hates_dogs\n",
    "\n",
    "    def hatesDogs(self):\n",
    "        return self.hates_dogs"
   ]
  },
  {
   "cell_type": "code",
   "execution_count": null,
   "metadata": {},
   "outputs": [],
   "source": [
    "fido = Dog(\"Fido\", True)\n",
    "rover = Dog(\"Rover\", False)\n",
    "mittens = Cat(\"Mittens\", True)\n",
    "fluffy = Cat(\"Fluffy\", False)\n",
    "print (fido, rover, mittens, fluffy)\n",
    "\n",
    "\"\"\"\n",
    "print \"%s chases cats: %s\" % (fido.getName(), fido.chasesCats())\n",
    "print \"%s chases cats: %s\" % (rover.getName(), rover.chasesCats())\n",
    "print \"%s hates dogs: %s\" % (mittens.getName(), mittens.hatesDogs())\n",
    "print \"%s hates dogs: %s\" % (fluffy.getName(), fluffy.hatesDogs())\n",
    "\"\"\"\n"
   ]
  },
  {
   "cell_type": "code",
   "execution_count": null,
   "metadata": {},
   "outputs": [],
   "source": []
  },
  {
   "cell_type": "markdown",
   "metadata": {},
   "source": [
    "<h3> (Optional) Read the problem description at <a href='\n",
    "https://www.jrmf.org/problems/WolvesAndSheep.pdf\n",
    "    '> Wolves and Sheep  </a>  </h3>"
   ]
  },
  {
   "cell_type": "markdown",
   "metadata": {},
   "source": [
    "<h3> Modify the following program with classes  </h3>"
   ]
  },
  {
   "cell_type": "code",
   "execution_count": 44,
   "metadata": {},
   "outputs": [],
   "source": [
    "def count( b ):\n",
    "    count = 0\n",
    "    n = len (b)\n",
    "    for i in range ( n): \n",
    "        for j in range ( n):\n",
    "            if (b[i][j]==0):\n",
    "                count += 1\n",
    "    return count\n",
    "\n",
    "def display( board ):\n",
    "  n = 1\n",
    "  gap = \" \"*n\n",
    "  offset = \" \" *1\n",
    "  header = gap + \"1\" + gap +\"2\" +gap + \"3\" +gap + \"4\" +gap + \"5\"\n",
    "  print ( offset + \"  \" + header )\n",
    "  symbol = [ \"-\", \"w\", \"x\" ]\n",
    "  for i in range (5):\n",
    "    print (offset, i+1 , end=\"\")\n",
    "    for j in range (5):\n",
    "      k = board[i][j]\n",
    "      print ( gap + symbol[k], end=\"\" )\n",
    "    print (\"\\n\"*n, end=\"\")\n",
    "\n",
    "def markBoard (board, x,y):\n",
    "  n = len (board[0])\n",
    "  for i in range ( n ):\n",
    "    if (board[i][y]==0):\n",
    "      board[i][y]=2\n",
    "    if (board[x][i]==0):\n",
    "      board[x][i]=2\n",
    "\n",
    "  for i in range ( -n+1,n,1 ):\n",
    "    a = x + i\n",
    "    b = y + i\n",
    "    if ( 0<=a<n and 0<=b<n and board[a][b]==0):\n",
    "      board[a][b]=2\n",
    "    a = x + i\n",
    "    b = y - i\n",
    "    if ( 0<=a<n and 0<=b<n and board[a][b]==0):\n",
    "      board[a][b]=2\n",
    "\n",
    "def init ():\n",
    "  row = [0]*5\n",
    "  board = []\n",
    "  for i in range (5):\n",
    "    board += [row.copy() ]\n",
    "  return board\n",
    "\n",
    "def displayInit ():\n",
    "    print (\"Game of 5 Wolves and 3 Sheep\" )\n",
    "    board = init ()\n",
    "    display ( board )  \n",
    "    \n",
    "def game (s):\n",
    "  board = init ()\n",
    "  s = s.split()\n",
    "  dict = { 0:\"-\", 1:\"W\", 2:\"S\" }\n",
    "  for z in s:\n",
    "    i = int( z[0] ) - 1\n",
    "    j = int( z[1] ) - 1\n",
    "    board[i][j] = 1\n",
    "  for z in s:\n",
    "    i = int( z[0] ) - 1\n",
    "    j = int( z[1] ) - 1\n",
    "    markBoard (board, i,j)\n",
    "  print (\"\\nThe input is\", s)\n",
    "  display ( board )\n",
    "  ans = count (board)\n",
    "  print (\"Number of safe spots for sheep are \", ans)\n",
    "\n",
    "def main():\n",
    "    displayInit ()\n",
    "    prompt = \"Input positions of 5 wolves like 11 21 32 44 52 with row index before the column index --> \"\n",
    "    s = input ( prompt )\n",
    "    game (s )"
   ]
  },
  {
   "cell_type": "code",
   "execution_count": 47,
   "metadata": {},
   "outputs": [
    {
     "name": "stdout",
     "output_type": "stream",
     "text": [
      "Game of 5 Wolves and 3 Sheep\n",
      "    1 2 3 4 5\n",
      "  1 - - - - -\n",
      "  2 - - - - -\n",
      "  3 - - - - -\n",
      "  4 - - - - -\n",
      "  5 - - - - -\n",
      "Input positions of 5 wolves like 11 21 32 44 52 with row index before the column index --> 11\n",
      "\n",
      "The input is ['11']\n",
      "    1 2 3 4 5\n",
      "  1 w x x x x\n",
      "  2 x x - - -\n",
      "  3 x - x - -\n",
      "  4 x - - x -\n",
      "  5 x - - - x\n",
      "Number of safe spots for sheep are  12\n"
     ]
    }
   ],
   "source": [
    "main ()"
   ]
  },
  {
   "cell_type": "markdown",
   "metadata": {},
   "source": [
    "<h1> END of ASSIGNMENTS</h1>"
   ]
  },
  {
   "cell_type": "code",
   "execution_count": null,
   "metadata": {},
   "outputs": [],
   "source": []
  }
 ],
 "metadata": {
  "kernelspec": {
   "display_name": "Python 3",
   "language": "python",
   "name": "python3"
  },
  "language_info": {
   "codemirror_mode": {
    "name": "ipython",
    "version": 3
   },
   "file_extension": ".py",
   "mimetype": "text/x-python",
   "name": "python",
   "nbconvert_exporter": "python",
   "pygments_lexer": "ipython3",
   "version": "3.7.1"
  }
 },
 "nbformat": 4,
 "nbformat_minor": 2
}
