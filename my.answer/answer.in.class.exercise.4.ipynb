{
 "cells": [
  {
   "cell_type": "markdown",
   "metadata": {},
   "source": [
    "<h1> <a href= \"http://interactivepython.org/runestone/static/pythonds/Recursion/toctree.html\"> In Class Exercise: #4 </a>  </h1>\n",
    "<ul>\n",
    "    \n",
    "<li> Recursion vs Iteration </li>\n",
    "<li> Three Laws of Recusion</li>\n",
    "<li>  Example: Tower of Hanoi, Maze, Dynamic Programming</li>\n",
    "</ul>\n"
   ]
  },
  {
   "cell_type": "markdown",
   "metadata": {},
   "source": [
    "<h1> <a href= \"http://interactivepython.org/runestone/static/pythonds/Recursion/DiscussionQuestions.html\">4.15. Discussion Questions\n",
    " </a> \n",
    "\n",
    "</h1>\n",
    "\n"
   ]
  },
  {
   "cell_type": "raw",
   "metadata": {},
   "source": [
    "Q#1:\n",
    "    Write both  recursive and iterative function to compute the Fibonacci sequence. \n",
    "        How does the performance of the recursive function compare to that of an iterative version?\n",
    "           F(1)=F(2) = 1\n",
    "   F(n) = F(n-1)+F(n-2), for n >= 3"
   ]
  },
  {
   "cell_type": "raw",
   "metadata": {},
   "source": [
    "Q#2:\n",
    "Using the dynamic programming algorithm for making change, find the smallest number of coins that you can use to make 33 cents in change. In addition to the usual coins assume that you have an 8 cent coin."
   ]
  },
  {
   "cell_type": "code",
   "execution_count": 17,
   "metadata": {},
   "outputs": [
    {
     "name": "stdout",
     "output_type": "stream",
     "text": [
      "value of coins:  [1, 5, 8, 10, 25]\n",
      "33 cents can be made with 2 coins: \n",
      "       cents   1   2   3   4   5   6   7   8   9  10  11  12  13  14  15  16  17  18  19  20\n",
      "num of coins   1   0   0   0   1   2   3   1   2   1   2   3   2   3   2   2   3   2   3   2\n",
      "\n",
      "       cents  21  22  23  24  25  26  27  28  29  30  31  32  33\n",
      "num of coins   3   4   3   3   1   2   3   3   4   2   3   4   2\n",
      "\n",
      "value of coins:  [1, 5, 8, 10, 25]\n",
      "111 cents can be made with 6 coins: \n",
      "       cents   1   2   3   4   5   6   7   8   9  10  11  12  13  14  15  16  17  18  19  20\n",
      "num of coins   1   0   0   0   1   2   3   1   2   1   2   3   2   3   2   2   3   2   3   2\n",
      "\n",
      "       cents  21  22  23  24  25  26  27  28  29  30  31  32  33  34  35  36  37  38  39  40\n",
      "num of coins   3   4   3   3   1   2   3   3   4   2   3   4   2   3   2   3   4   3   4   3\n",
      "\n",
      "       cents  41  42  43  44  45  46  47  48  49  50  51  52  53  54  55  56  57  58  59  60\n",
      "num of coins   3   4   3   4   3   4   5   4   4   2   3   4   4   5   3   4   5   3   4   3\n",
      "\n",
      "       cents  61  62  63  64  65  66  67  68  69  70  71  72  73  74  75  76  77  78  79  80\n",
      "num of coins   4   5   4   5   4   4   5   4   5   4   5   6   5   5   3   4   5   5   6   4\n",
      "\n",
      "       cents  81  82  83  84  85  86  87  88  89  90  91  92  93  94  95  96  97  98  99 100\n",
      "num of coins   5   6   4   5   4   5   6   5   6   5   5   6   5   6   5   6   7   6   6   4\n",
      "\n",
      "       cents 101 102 103 104 105 106 107 108 109 110 111\n",
      "num of coins   5   6   6   7   5   6   7   5   6   5   6\n",
      "\n"
     ]
    }
   ],
   "source": [
    "# Dynamic approach\n",
    "def recDC(coinValueList, change,knownResults):\n",
    "\tminCoins = change\n",
    "\tif change in coinValueList:\n",
    "\t\tknownResults[change] = 1\n",
    "\t\treturn 1\n",
    "\telif knownResults[change] > 0:\n",
    "\t\treturn knownResults[change]\n",
    "\telse:\n",
    "\t\tfor i in [c for c in coinValueList if c <= change]:\n",
    "\t\t\tnumCoins = 1 + recDC(coinValueList, change-i,knownResults)\n",
    "\t\t\tif numCoins < minCoins:\n",
    "\t\t\t\tminCoins = numCoins\n",
    "\t\t\t\tknownResults[change] = minCoins\n",
    "\treturn minCoins\n",
    "def display (X,a,b):\n",
    "    print (\"{0:>12}\".format(\"cents\"), end=\"\")\n",
    "    for i in range ( a,b ):\n",
    "        print ( \"{0:4}\".format(i), end=\"\")\n",
    "    print()\n",
    "    \n",
    "    print (\"{0:12}\".format(\"num of coins\"), end=\"\")\n",
    "    for i in range (a,b):        \n",
    "        print ( \"{0:4}\".format(X[i]), end=\"\")\n",
    "    print(\"\\n\"*1)\n",
    "\n",
    "def main (L, n):\n",
    "    X=[0]*(n+1)\n",
    "    m = recDC(L,n, X)\n",
    "    print(\"value of coins: \", L)    \n",
    "    print(n, \"cents can be made with\", m, \"coins: \")\n",
    "    a = 1\n",
    "    b = min (len(X), a+20 )\n",
    "    while (a < len(X)):\n",
    "        display (X,a,b)\n",
    "        a= b\n",
    "        b = min (len(X), a+20 )\n",
    "        \n",
    "n=33\n",
    "B = [1,5,8, 10, 25]\n",
    "main (B,n)\n",
    "main (B,111)"
   ]
  },
  {
   "cell_type": "code",
   "execution_count": null,
   "metadata": {},
   "outputs": [],
   "source": [
    "define N(33) as the least number of coins to make 33 cents\n",
    "N(33) = min  {   1 + N(32),    # use 1 penny\n",
    "                 1 + N(28),    # use 1 nickle\n",
    "                 1 + N(23),    # use 1 dime\n",
    "                 1 + N(8),     # use 1 quarter\n",
    "                 1 + N(25)     # use 1 coin of 8cents\n",
    "             }\n",
    "N(25) = min  {   1 + N(24),    # use 1 penny\n",
    "                 1 + N(20),    # use 1 nickle\n",
    "                 1 + N(15),    # use 1 dime\n",
    "                 1 ,           # use 1 quarter\n",
    "                 1 + N(17)     # use 1 coin of 8cents\n",
    "             }"
   ]
  }
 ],
 "metadata": {
  "kernelspec": {
   "display_name": "Python 3",
   "language": "python",
   "name": "python3"
  },
  "language_info": {
   "codemirror_mode": {
    "name": "ipython",
    "version": 3
   },
   "file_extension": ".py",
   "mimetype": "text/x-python",
   "name": "python",
   "nbconvert_exporter": "python",
   "pygments_lexer": "ipython3",
   "version": "3.7.1"
  }
 },
 "nbformat": 4,
 "nbformat_minor": 2
}
