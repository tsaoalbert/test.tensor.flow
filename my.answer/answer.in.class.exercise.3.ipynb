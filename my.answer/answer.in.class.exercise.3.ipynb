{
 "cells": [
  {
   "cell_type": "markdown",
   "metadata": {},
   "source": [
    "<h1> Answer: In Class Exercise 3 <a href='http://interactivepython.org/runestone/static/pythonds/BasicDS/toctree.html'> \n",
    "(Basic Data Structures) </a> </h1>"
   ]
  },
  {
   "cell_type": "markdown",
   "metadata": {},
   "source": [
    "<h1> <a href='\n",
    "http://interactivepython.org/runestone/static/pythonds/BasicDS/DiscussionQuestions.html   \n",
    "    '>  Discussion Questions  </a> </h1>"
   ]
  },
  {
   "cell_type": "raw",
   "metadata": {},
   "source": [
    "Q#1 Convert the following values to binary using “divide by 2.” Show the stack of remainders.\n",
    "17\n",
    "45\n",
    "96"
   ]
  },
  {
   "cell_type": "code",
   "execution_count": 3,
   "metadata": {},
   "outputs": [
    {
     "name": "stdout",
     "output_type": "stream",
     "text": [
      "10001\n",
      "101101\n",
      "1100000\n"
     ]
    }
   ],
   "source": [
    "for i in [17,45,96]:\n",
    "    print (bin(i)[2:])"
   ]
  },
  {
   "cell_type": "raw",
   "metadata": {},
   "source": [
    "Q#2: \n",
    "Convert the following infix expressions to both prefix and postfix (use full parentheses):\n",
    "(A+B)*(C+D)*(E+F)\n",
    "A+((B+C)*(D+E))\n",
    "A*B*C*D+E+F"
   ]
  },
  {
   "cell_type": "markdown",
   "metadata": {},
   "source": [
    "<div class=\"image123\">\n",
    "    <div style=\"float:left;margin-right:55px;\">\n",
    "    <figure>\n",
    "        <img src=\"images/postfix.png\" height=\"300\" width=\"200\"  />\n",
    "        <figcaption style=\"text-align:center;\">  </figcaption>\n",
    "    </figure>\n",
    "    </div>\n",
    "    <div style=\"float:left;margin-right:55px;\">\n",
    "    <figure>\n",
    "        <img class=\"middle-img\" src=\"images/prefix.png\" height=\"300\" width=\"200\" />\n",
    "        <figcaption style=\"text-align:center;\"> </figcaption>\n",
    "    </figure>\n",
    "    </div>\n",
    "    <div style=\"float:left;margin-right:55px;\">\n",
    "    <figure>\n",
    "        <img src=\"images/infix.png\" height=\"400\" width=\"400\" />\n",
    "        <figcaption style=\"text-align:center;\">  </figcaption>\n",
    "    </figure>\n",
    "    </div>\n",
    "</div>"
   ]
  },
  {
   "cell_type": "raw",
   "metadata": {},
   "source": [
    "( ((A+B)*(C+D))*(E+F) ) \n",
    "       ==> prefix :  * * + A B + C D + E F\n",
    "       ==> postfix:  A B + C D + * E F + *\n",
    "( A+((B+C)*(D+E)) )\n",
    "       ==> prefix :  + A * + B C + D E\n",
    "       ==> postfix:  A B C + D E + * +\n",
    "(((((A*B)*C)*D)+E)+F) \n",
    "       ==> prefix :  + + * * * A B C D E F\n",
    "       ==> postfix:  A B * C * D * E + F +"
   ]
  },
  {
   "cell_type": "raw",
   "metadata": {},
   "source": [
    "Q3:\n",
    "Convert the following infix expressions to postfix using the direct conversion algorithm as shown below\n",
    "Fill in the rule that is used at each step in the following table.\n",
    "(A+B)*(C+D)*(E+F)\n",
    "Show the stack as the conversion takes place."
   ]
  },
  {
   "cell_type": "markdown",
   "metadata": {},
   "source": [
    "Direct Conversion Algorithm: \n",
    "Create an empty stack called opstack for keeping operators. \n",
    "Create an empty list for output.\n",
    "Convert the input infix string to a list by using the string method split.\n",
    "Scan the token list from left to right.\n",
    "\n",
    "* A. If the token is an operand, append it to the end of the output list.\n",
    "* B. If the token is a (, push it on the opstack.\n",
    "* C. If the token is a ), pop the opstack until the corresponding ( is removed. Append each operator to the end of the output list.\n",
    "* D. If the token is an arithmatic operator, *, /, +, or -, push it on the opstack. \n",
    "* E. However, first remove any operators already on the opstack that have higher or equal precedence and append them to the output list.\n",
    "* F. When the input expression has been completely processed, append any operators still on the stack  to the end of the output list."
   ]
  },
  {
   "cell_type": "markdown",
   "metadata": {},
   "source": [
    "<div class=\"image123\">\n",
    "    <div style=\"float:left;margin-right:55px;\">\n",
    "    <figure>\n",
    "        <img src=\"images/answer.infix.postfix.1.png\" height=\"300\" width=\"900\"  />\n",
    "        <figcaption style=\"text-align:center;\">  </figcaption>\n",
    "    </figure>\n",
    "    </div>\n",
    "\n",
    "</div>"
   ]
  },
  {
   "cell_type": "raw",
   "metadata": {},
   "source": [
    "Q#4:\n",
    "Convert the following infix expressions to postfix using the direct conversion algorithm. \n",
    "A+((B+C)*(D+E))\n",
    "Fill in the rule that is used at each step in the following table.\n",
    "Show the stack as the conversion takes place."
   ]
  },
  {
   "cell_type": "markdown",
   "metadata": {},
   "source": [
    "<div class=\"image123\">\n",
    "    <div style=\"float:left;margin-right:55px;\">\n",
    "    <figure>\n",
    "        <img src=\"images/answer.infix.postfix.2.png\" height=\"300\" width=\"900\"  />\n",
    "        <figcaption style=\"text-align:center;\">  </figcaption>\n",
    "    </figure>\n",
    "    </div>\n",
    "\n",
    "</div>"
   ]
  },
  {
   "cell_type": "code",
   "execution_count": null,
   "metadata": {},
   "outputs": [],
   "source": [
    "Trace infixToPostfix:A+((B+C)*(D+E))\n",
    "step Rule  infix stack postfix\n",
    " 4 ----- 5 ----- 6 ----- 7 ----- 8 ----- 9 -----10 -----11----- 12 -----13      \n",
    "----------------------------------------------------------------------------\n",
    " A       D       A       C       C       D       B       A       D       A       \n",
    "-----------------------------------------------------------------------------\n",
    " B       +       C       )               *       (       D       +       E       \n",
    "----------------------------------------------------------------------------\n",
    "                                                                 +       +       \n",
    "         +       +       +                       (       (       (       (       \n",
    " (       (       (       (       (       *       *       *       *       *       \n",
    " (       (       (       (       (       (       (       (       (       (       \n",
    " +       +       +       +       +       +       +       +       +       +       \n",
    "---------------------------------------------------------------------------"
   ]
  },
  {
   "cell_type": "raw",
   "metadata": {},
   "source": [
    "Q#5:\n",
    "Convert the following infix expressions to postfix using the direct conversion algorithm. \n",
    "Fill in the rule that is used at each step in the following table.\n",
    "A*B*C*D+E+F\n",
    "Show the stack as the conversion takes place."
   ]
  },
  {
   "cell_type": "markdown",
   "metadata": {},
   "source": [
    "<div class=\"image123\">\n",
    "    <div style=\"float:left;margin-right:55px;\">\n",
    "    <figure>\n",
    "        <img src=\"images/answer.infix.postfix.3.png\" height=\"300\" width=\"900\"  />\n",
    "        <figcaption style=\"text-align:center;\">  </figcaption>\n",
    "    </figure>\n",
    "    </div>\n",
    "\n",
    "</div>"
   ]
  },
  {
   "cell_type": "raw",
   "metadata": {},
   "source": [
    "*       *       *       *       *       +       + "
   ]
  },
  {
   "cell_type": "raw",
   "metadata": {},
   "source": [
    "Q#6:\n",
    "Evaluate the following postfix expressions. \n",
    "2 3 * 4 +\n",
    "1 2 + 3 + 4 + 5 +\n",
    "1 2 3 4 5 * + * +\n",
    "Show the stack as each operand and operator is processed."
   ]
  },
  {
   "cell_type": "code",
   "execution_count": null,
   "metadata": {},
   "outputs": [],
   "source": [
    "Answer:"
   ]
  },
  {
   "cell_type": "raw",
   "metadata": {},
   "source": [
    "\n",
    "Postfix:  2 3 *  4  +\n",
    "----------------------------\n",
    "            3    4   \n",
    " Stack    2 2 6  6  10\n",
    "----------------------------"
   ]
  },
  {
   "cell_type": "raw",
   "metadata": {},
   "source": [
    "Trace Postfix Expression Evaluation: 1 2 + 3 + 4 + 5 +\n",
    "----------------------------------------------------------------------------------------------------\n",
    "     token         1         2         +         3         +         4         +         5         +\n",
    "----------------------------------------------------------------------------------------------------\n",
    "   operand                   2                   3                   4                   5          \n",
    "     stack         1         1         3         3         6         6        10        10        15\n",
    "----------------------------------------------------------------------------------------------------"
   ]
  },
  {
   "cell_type": "raw",
   "metadata": {},
   "source": [
    "Trace Postfix Expression Evaluation: 1 2 3 4 5 * + * +\n",
    "----------------------------------------------------------------------------------------------------\n",
    "     token         1         2         3         4         5         *         +         *         +\n",
    "----------------------------------------------------------------------------------------------------\n",
    "                                                           5                                        \n",
    "                                                 4         4        20                              \n",
    "                                       3         3         3         3        23                    \n",
    "   operand                   2         2         2         2         2         2        46          \n",
    "     stack         1         1         1         1         1         1         1         1        47\n",
    "----------------------------------------------------------------------------------------------------"
   ]
  },
  {
   "cell_type": "raw",
   "metadata": {},
   "source": [
    "Q#7:\n",
    "The alternative implementation of the Queue ADT is to use a Python list such that the rear of the queue is at the end of the list. \n",
    "What would this mean for Big-O performance? \n",
    "Hints: In this case, enqueue() and dequeue() becomes the append and pop(0) methods of the Python List."
   ]
  },
  {
   "cell_type": "raw",
   "metadata": {},
   "source": [
    "Answers:\n",
    "Assume we are using the Python List to implement the queue.\n",
    "enqueue(), like the append() method of the Python list,  will have time complexity O(1)\n",
    "dequeue(), like the pop(0) method of the Python list, will have time complexity O(n)"
   ]
  },
  {
   "cell_type": "raw",
   "metadata": {},
   "source": [
    "Q#8:\n",
    "What is the result of carrying out both steps of the singly linked list add method in reverse order? \n",
    "What kind of reference results? \n",
    "What types of problems may result?\n",
    "(Hints: see the graphs below.)"
   ]
  },
  {
   "cell_type": "markdown",
   "metadata": {},
   "source": [
    "<div class=\"image123\">\n",
    "    <div style=\"float:left;margin-right:55px;\">\n",
    "    <figure>\n",
    "        <img src=\"images/list.add.node.at.front.png\" height=\"400\" width=\"400\"  />\n",
    "        <figcaption style=\"text-align:left;\">   Add a node (26) <br/>\n",
    "                    Step 1: temp.setNext(self.head)  <br/>\n",
    "        Step 2: self.head = temp\n",
    "        </figcaption>\n",
    "    </figure>\n",
    "    </div>\n",
    "    <div style=\"float:left;margin-right:55px;\">\n",
    "    <figure>\n",
    "        <img src=\"images/list.add.node.at.front.wrong.png\" height=\"400\" width=\"400\"  />\n",
    "        <figcaption style=\"text-align:left;\">   Erroneous node addition<br/>\n",
    "        Step 2: self.head = temp<br/>\n",
    "                            Step 1: temp.setNext(self.head)\n",
    "        </figcaption>\n",
    "    </figure>\n",
    "    </div> \n",
    "</div>"
   ]
  },
  {
   "cell_type": "raw",
   "metadata": {},
   "source": [
    "Answer:\n",
    "    (Check the e-textbook at http://interactivepython.org/runestone/static/pythonds/BasicDS/ImplementinganUnorderedListLinkedLists.html)\n",
    "    \n",
    "    If the modification of the head of the list happens first, the result can be seen in the above graph. Since the head was the only external reference to the list nodes, all of the original nodes are lost and can no longer be accessed."
   ]
  },
  {
   "cell_type": "raw",
   "metadata": {},
   "source": [
    "Q#9:\n",
    "What is the time complexity of the singly linked list remove method when the item to be removed is in the last node (that is, the pop() method). Explain the reason."
   ]
  },
  {
   "cell_type": "code",
   "execution_count": null,
   "metadata": {},
   "outputs": [],
   "source": [
    "O(1)"
   ]
  },
  {
   "cell_type": "raw",
   "metadata": {},
   "source": [
    "Q#10:\n",
    "With the tail pointer, the time comlexity for the append method (of the singly linked list, as shown below) can be improved to O(1). \n",
    "\n",
    "Explain the reason.\n",
    "\n",
    "Would the  tail pointer also improve the performance of the pop method to O(1) like the append method?"
   ]
  },
  {
   "cell_type": "raw",
   "metadata": {},
   "source": [
    "Answers:\n",
    "    With the tail pointer, there is no need for the list traversal to find the last node. So the time complexity  only O(1) for the append method.\n",
    "    \n",
    "    However, to remove the node at the tail, we also need the \"previous\" pointer, as shown in the figure below. Since the previous node can be only found by the list traversal, the time complexity is still O(n)."
   ]
  },
  {
   "cell_type": "markdown",
   "metadata": {},
   "source": [
    "<div class=\"image123\">\n",
    "    <div style=\"float:left;margin-right:55px;\">\n",
    "    <figure>\n",
    "        <img src=\"images/list.remove.tail.png\" height=\"300\" width=\"900\"  />\n",
    "        <figcaption style=\"text-align:center;\">  </figcaption>\n",
    "    </figure>\n",
    "    </div>\n",
    "\n",
    "</div>"
   ]
  },
  {
   "cell_type": "raw",
   "metadata": {},
   "source": [
    "Q#11:\n",
    "With an additional tail pointer in the singly linked list, how can we improve the implementation of the Queue ADT such that both enqueue() and dequeue() take only O(1)? "
   ]
  },
  {
   "cell_type": "raw",
   "metadata": {},
   "source": [
    "Answers:\n",
    "For the singly linked list L with tail pointr,both the operations L.pop(0) and L.append() take O(1).\n",
    "When we use L to implement Queue, the enqueue() method can be implemented with L.append(), and dequeue with L.pop(0)."
   ]
  },
  {
   "cell_type": "raw",
   "metadata": {},
   "source": [
    "Q#12:\n",
    "(Repeat the above question for the doubly linked lists.)\n",
    "What is the time complexity of the doubly linked list remove method  when the item to be removed is in the last node. Explain the reason.\n",
    "Would the time complexity change if the item to be removed is not the last node?\n",
    "List the codes for the remove method of the doubly circular linked list."
   ]
  },
  {
   "cell_type": "markdown",
   "metadata": {},
   "source": [
    "<div class=\"image123\">\n",
    "    <div style=\"float:left;margin-right:55px;\">\n",
    "    <figure>\n",
    "        <img src=\"images/doubly.linked.remove.tail.png\" height=\"600\" width=\"600\"  />\n",
    "        <figcaption style=\"text-align:center;\">    Remove the last node  </figcaption>\n",
    "    </figure>\n",
    "    </div>\n",
    "</div>"
   ]
  },
  {
   "cell_type": "raw",
   "metadata": {},
   "source": [
    "Answers:\n",
    "O(1)\n",
    "Whether the item to be removed is the last node or not, the remove method of the doubly circular linked list will only take O(1) time"
   ]
  },
  {
   "cell_type": "raw",
   "metadata": {},
   "source": [
    "class doublyLinkedList:\n",
    "\n",
    "    def find (self,item):\n",
    "        curr = self.head\n",
    "        found = False\n",
    "        while curr != None:\n",
    "            if curr.getData() == item:\n",
    "                return curr\n",
    "            curr = curr.getNext()\n",
    "            if curr==self.head:\n",
    "                break;\n",
    "        return None \n",
    "\n",
    "    def remove (self,item):\n",
    "        curr = self.find ( item ) \n",
    "        if curr == None:\n",
    "            print ( \"Cannot remove\", item )\n",
    "            return None\n",
    "        else:\n",
    "            return self.removeNode  ( curr )\n",
    "        \n",
    "    def removeNode (self,curr ):    \n",
    "        self.count -= 1\n",
    "        if self.count==0:\n",
    "            self.head = None\n",
    "        else: \n",
    "            prev = curr.getPrevious()\n",
    "            next = curr.getNext()\n",
    "            prev.setNext( next )\n",
    "            next.setPrevious( prev )\n",
    "            if curr == self.head :\n",
    "                self.head = next\n",
    "        return curr.getData()"
   ]
  },
  {
   "cell_type": "raw",
   "metadata": {},
   "source": [
    "Q#13:\n",
    "Explain how the remove method works when the item is in the only node in both singly and doubly circular linked list. Write the codes to implement the methods for both  lists. (Hints: the implementations of both methods in this case should be the same.)"
   ]
  },
  {
   "cell_type": "markdown",
   "metadata": {},
   "source": [
    "<div class=\"image123\">\n",
    "    <div style=\"float:left;margin-right:55px;\">\n",
    "    <figure>\n",
    "        <img src=\"images/doubly.linked.insertion.empty.png\" height=\"300\" width=\"300\"  />\n",
    "        <figcaption style=\"text-align:center;\">  </figcaption>\n",
    "    </figure>\n",
    "    </div>\n",
    "\n",
    "</div>"
   ]
  },
  {
   "cell_type": "code",
   "execution_count": null,
   "metadata": {},
   "outputs": [],
   "source": [
    "Answer: simply set the self.head to be None when self.count becomes 0\n",
    "    def removeNode (self,curr ):    \n",
    "        self.count -= 1\n",
    "        if self.count==0:\n",
    "            self.head = None\n",
    "        #else:\n",
    "            # ..."
   ]
  }
 ],
 "metadata": {
  "kernelspec": {
   "display_name": "Python 3",
   "language": "python",
   "name": "python3"
  },
  "language_info": {
   "codemirror_mode": {
    "name": "ipython",
    "version": 3
   },
   "file_extension": ".py",
   "mimetype": "text/x-python",
   "name": "python",
   "nbconvert_exporter": "python",
   "pygments_lexer": "ipython3",
   "version": "3.7.1"
  }
 },
 "nbformat": 4,
 "nbformat_minor": 2
}
