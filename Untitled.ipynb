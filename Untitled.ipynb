{
 "cells": [
  {
   "cell_type": "code",
   "execution_count": 6,
   "metadata": {},
   "outputs": [
    {
     "name": "stdout",
     "output_type": "stream",
     "text": [
      "    1    2    3\n",
      "    4    5    6\n",
      "    7    8    9\n",
      "Enter a number between 1 and 9 on the empty spot --> 5\n",
      "    1    2    3\n",
      "    4    X    6\n",
      "    7    8    9\n",
      "Enter a number between 1 and 9 on the empty spot --> 1\n",
      "    O    2    3\n",
      "    4    X    6\n",
      "    7    8    9\n",
      "Enter a number between 1 and 9 on the empty spot --> 3\n",
      "    O    2    X\n",
      "    4    X    6\n",
      "    7    8    9\n",
      "Enter a number between 1 and 9 on the empty spot --> 2\n",
      "    O    O    X\n",
      "    4    X    6\n",
      "    7    8    9\n",
      "Enter a number between 1 and 9 on the empty spot --> 7\n",
      "    O    O    X\n",
      "    4    X    6\n",
      "    X    8    9\n",
      "Player X won the game!!\n"
     ]
    }
   ],
   "source": [
    "\"\"\"\n",
    "    1    2    3\n",
    "    4    5    6\n",
    "    7    8    9\n",
    "\"\"\"\n",
    "def check(L):\n",
    "    for i in [0,3,6]: # check winner at each row 6starting at index 0.3,\n",
    "        if L[i+1] == L[i+2] == L[i+3]:\n",
    "            return L[i+1]\n",
    "    for i in [1,2,3]: # check winner at each column i,2, and 3\n",
    "        if L[i] == L[i+3] == L[i+6]:\n",
    "            return L[i+1]\n",
    "\n",
    "    if ( L[1]==L[5]==L[9]):\n",
    "        return L[5]\n",
    "    if ( L[3]==L[5]==L[7]):\n",
    "        return L[5]\n",
    "    \n",
    "    return 0    # no winner yet\n",
    "\n",
    "def show (L):\n",
    "    for i in range(1,10) : # show symbols at all 9 spots\n",
    "        s = str (L[i])     # convert L[i] to string\n",
    "        print ( \"%5s\" % s, end=\"\")\n",
    "        if (i%3==0):\n",
    "            print ()       # move cursor to next line for every 3 numbers\n",
    "def main ():\n",
    "    L = list ( range (10) ) # L=[0,1,2,3,4,5,6,7,8,9]\n",
    "    show(L)\n",
    "    for i in range (1,10): # for each step i=1,2,3, ..., 9\n",
    "        player = \"O\" if i%2==0 else \"X\" # players take turns\n",
    "\n",
    "        j = input (\"Enter a number between 1 and 9 on the empty spot --> \")\n",
    "        j = int (j)  # convert j to an integer for indexing\n",
    "        L[j] = player  # Mark L[j] as taken by the current player\n",
    "        show (L)       # display the game \n",
    "        ans = check(L) # cere check if thhere is a winner or note\n",
    "        if ans != 0:\n",
    "            print ( \"Player\", ans, \"won the game!!\")\n",
    "            break;\n",
    "main ()"
   ]
  },
  {
   "cell_type": "markdown",
   "metadata": {},
   "source": [
    "row = [ 0 ] * 8  # row = [0,0,0, ..., 0]\n",
    "L = [ [0, 0,0, 0, 0,0,0,0 ], \\\n",
    "      [0, 0,0, 0, 0,0,0,0 ], \\\n",
    "      [0, 0,0, 0, 0,0,0,0 ], \\\n",
    "      [0, 0,0, 0, 0,0,0,0 ], \\\n",
    "      [0, 0,0, 0, 0,0,0,0 ], \\   \n",
    "      [0, 0,0, 0, 0,0,0,0 ], \\    \n",
    "      [0, 0,0, 0, 0,0,0,0 ],     ]    \n",
    "print (L)\n",
    "    "
   ]
  },
  {
   "cell_type": "code",
   "execution_count": null,
   "metadata": {},
   "outputs": [],
   "source": []
  }
 ],
 "metadata": {
  "kernelspec": {
   "display_name": "Python 3",
   "language": "python",
   "name": "python3"
  }
 },
 "nbformat": 4,
 "nbformat_minor": 2
}
