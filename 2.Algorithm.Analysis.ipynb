{
 "cells": [
  {
   "cell_type": "code",
   "execution_count": 1,
   "metadata": {
    "scrolled": true
   },
   "outputs": [
    {
     "data": {
      "text/plain": [
       "3"
      ]
     },
     "execution_count": 1,
     "metadata": {},
     "output_type": "execute_result"
    }
   ],
   "source": [
    "1+2"
   ]
  },
  {
   "cell_type": "raw",
   "metadata": {},
   "source": [
    "%reset"
   ]
  },
  {
   "cell_type": "markdown",
   "metadata": {},
   "source": [
    "<h1> <a href='http://interactivepython.org/runestone/static/pythonds/AlgorithmAnalysis/toctree.html'> Chapter 2:  Algorithm Analysis  </a> </h1>"
   ]
  },
  {
   "cell_type": "markdown",
   "metadata": {},
   "source": [
    "Objectives\n",
    "* To understand why algorithm analysis is important.\n",
    "* To understand the “Big-O” execution time of common operations on Python lists and dictionaries.\n",
    "* To understand how the implementation of Python data impacts algorithm analysis.\n",
    "* To understand how to benchmark simple Python programs."
   ]
  },
  {
   "cell_type": "markdown",
   "metadata": {},
   "source": [
    "When two programs solve the same problem but look different, is one program better than the other?"
   ]
  },
  {
   "cell_type": "code",
   "execution_count": 2,
   "metadata": {},
   "outputs": [
    {
     "name": "stdout",
     "output_type": "stream",
     "text": [
      "              N sumOfN2 - O(N) sumOfN3 - O(1)\n",
      "        1000000      0.0955751      0.0000012\n",
      "        2000000      0.1958749      0.0000021\n",
      "        3000000      0.2394109      0.0000021\n",
      "        4000000      0.3427520      0.0000021\n",
      "        5000000      0.4213557      0.0000012\n",
      "        6000000      0.5433609      0.0000021\n",
      "        7000000      0.6393840      0.0000019\n",
      "        8000000      0.7707350      0.0000021\n",
      "        9000000      0.8628609      0.0000010\n",
      "       10000000      0.8665118      0.0000007\n"
     ]
    }
   ],
   "source": [
    "#list1\n",
    "import time\n",
    "\n",
    "def sumOfN2(n):\n",
    "   start = time.time()\n",
    "\n",
    "   theSum = 0\n",
    "   for i in range(1,n+1):  # O(N)\n",
    "      theSum = theSum + i   # How many number of steps\n",
    "   end = time.time()\n",
    "\n",
    "   return theSum,end-start\n",
    "\n",
    "def sumOfN3(n):          # O(1)\n",
    "    start = time.time()\n",
    "    theSum = (n*(n+1))/2\n",
    "    end = time.time()\n",
    "    return theSum,end-start\n",
    "\n",
    "m=1000000              # Problem size\n",
    "print(\"%15s%15s%15s\"  % (\"N\", \"sumOfN2 - O(N)\", \"sumOfN3 - O(1)\" )  ) \n",
    "L = list (range (m,11*m, m))\n",
    "B=[]; C=[];\n",
    "for n in L:\n",
    "    x, tx = sumOfN2(n)  #O(N)\n",
    "    y, ty = sumOfN3(n)  # O(1)\n",
    "    B.append (tx)\n",
    "    C.append (ty)\n",
    "    print(\"%15d%15.7f%15.7f\" % (n, tx,ty) )"
   ]
  },
  {
   "cell_type": "code",
   "execution_count": 3,
   "metadata": {},
   "outputs": [
    {
     "ename": "KeyboardInterrupt",
     "evalue": "",
     "output_type": "error",
     "traceback": [
      "\u001b[0;31m---------------------------------------------------------------------------\u001b[0m",
      "\u001b[0;31mKeyboardInterrupt\u001b[0m                         Traceback (most recent call last)",
      "\u001b[0;32m<ipython-input-3-6b8780842681>\u001b[0m in \u001b[0;36m<module>\u001b[0;34m\u001b[0m\n\u001b[0;32m----> 1\u001b[0;31m \u001b[0mget_ipython\u001b[0m\u001b[0;34m(\u001b[0m\u001b[0;34m)\u001b[0m\u001b[0;34m.\u001b[0m\u001b[0mrun_line_magic\u001b[0m\u001b[0;34m(\u001b[0m\u001b[0;34m'matplotlib'\u001b[0m\u001b[0;34m,\u001b[0m \u001b[0;34m'inline'\u001b[0m\u001b[0;34m)\u001b[0m\u001b[0;34m\u001b[0m\u001b[0;34m\u001b[0m\u001b[0m\n\u001b[0m\u001b[1;32m      2\u001b[0m \u001b[0;32mimport\u001b[0m \u001b[0mmatplotlib\u001b[0m\u001b[0;34m.\u001b[0m\u001b[0mpyplot\u001b[0m \u001b[0;32mas\u001b[0m \u001b[0mplt\u001b[0m\u001b[0;34m\u001b[0m\u001b[0;34m\u001b[0m\u001b[0m\n\u001b[1;32m      3\u001b[0m \u001b[0mplt\u001b[0m\u001b[0;34m.\u001b[0m\u001b[0mstyle\u001b[0m\u001b[0;34m.\u001b[0m\u001b[0muse\u001b[0m\u001b[0;34m(\u001b[0m\u001b[0;34m'seaborn-whitegrid'\u001b[0m\u001b[0;34m)\u001b[0m\u001b[0;34m\u001b[0m\u001b[0;34m\u001b[0m\u001b[0m\n\u001b[1;32m      4\u001b[0m \u001b[0mplt\u001b[0m\u001b[0;34m.\u001b[0m\u001b[0mfigure\u001b[0m\u001b[0;34m(\u001b[0m\u001b[0mfigsize\u001b[0m\u001b[0;34m=\u001b[0m\u001b[0;34m(\u001b[0m\u001b[0;36m16\u001b[0m\u001b[0;34m,\u001b[0m\u001b[0;36m9\u001b[0m\u001b[0;34m)\u001b[0m\u001b[0;34m)\u001b[0m\u001b[0;34m\u001b[0m\u001b[0;34m\u001b[0m\u001b[0m\n\u001b[1;32m      5\u001b[0m \u001b[0;34m\u001b[0m\u001b[0m\n",
      "\u001b[0;32m~/anaconda3/lib/python3.7/site-packages/IPython/core/interactiveshell.py\u001b[0m in \u001b[0;36mrun_line_magic\u001b[0;34m(self, magic_name, line, _stack_depth)\u001b[0m\n\u001b[1;32m   2285\u001b[0m                 \u001b[0mkwargs\u001b[0m\u001b[0;34m[\u001b[0m\u001b[0;34m'local_ns'\u001b[0m\u001b[0;34m]\u001b[0m \u001b[0;34m=\u001b[0m \u001b[0msys\u001b[0m\u001b[0;34m.\u001b[0m\u001b[0m_getframe\u001b[0m\u001b[0;34m(\u001b[0m\u001b[0mstack_depth\u001b[0m\u001b[0;34m)\u001b[0m\u001b[0;34m.\u001b[0m\u001b[0mf_locals\u001b[0m\u001b[0;34m\u001b[0m\u001b[0;34m\u001b[0m\u001b[0m\n\u001b[1;32m   2286\u001b[0m             \u001b[0;32mwith\u001b[0m \u001b[0mself\u001b[0m\u001b[0;34m.\u001b[0m\u001b[0mbuiltin_trap\u001b[0m\u001b[0;34m:\u001b[0m\u001b[0;34m\u001b[0m\u001b[0;34m\u001b[0m\u001b[0m\n\u001b[0;32m-> 2287\u001b[0;31m                 \u001b[0mresult\u001b[0m \u001b[0;34m=\u001b[0m \u001b[0mfn\u001b[0m\u001b[0;34m(\u001b[0m\u001b[0;34m*\u001b[0m\u001b[0margs\u001b[0m\u001b[0;34m,\u001b[0m\u001b[0;34m**\u001b[0m\u001b[0mkwargs\u001b[0m\u001b[0;34m)\u001b[0m\u001b[0;34m\u001b[0m\u001b[0;34m\u001b[0m\u001b[0m\n\u001b[0m\u001b[1;32m   2288\u001b[0m             \u001b[0;32mreturn\u001b[0m \u001b[0mresult\u001b[0m\u001b[0;34m\u001b[0m\u001b[0;34m\u001b[0m\u001b[0m\n\u001b[1;32m   2289\u001b[0m \u001b[0;34m\u001b[0m\u001b[0m\n",
      "\u001b[0;32m<decorator-gen-107>\u001b[0m in \u001b[0;36mmatplotlib\u001b[0;34m(self, line)\u001b[0m\n",
      "\u001b[0;32m~/anaconda3/lib/python3.7/site-packages/IPython/core/magic.py\u001b[0m in \u001b[0;36m<lambda>\u001b[0;34m(f, *a, **k)\u001b[0m\n\u001b[1;32m    185\u001b[0m     \u001b[0;31m# but it's overkill for just that one bit of state.\u001b[0m\u001b[0;34m\u001b[0m\u001b[0;34m\u001b[0m\u001b[0;34m\u001b[0m\u001b[0m\n\u001b[1;32m    186\u001b[0m     \u001b[0;32mdef\u001b[0m \u001b[0mmagic_deco\u001b[0m\u001b[0;34m(\u001b[0m\u001b[0marg\u001b[0m\u001b[0;34m)\u001b[0m\u001b[0;34m:\u001b[0m\u001b[0;34m\u001b[0m\u001b[0;34m\u001b[0m\u001b[0m\n\u001b[0;32m--> 187\u001b[0;31m         \u001b[0mcall\u001b[0m \u001b[0;34m=\u001b[0m \u001b[0;32mlambda\u001b[0m \u001b[0mf\u001b[0m\u001b[0;34m,\u001b[0m \u001b[0;34m*\u001b[0m\u001b[0ma\u001b[0m\u001b[0;34m,\u001b[0m \u001b[0;34m**\u001b[0m\u001b[0mk\u001b[0m\u001b[0;34m:\u001b[0m \u001b[0mf\u001b[0m\u001b[0;34m(\u001b[0m\u001b[0;34m*\u001b[0m\u001b[0ma\u001b[0m\u001b[0;34m,\u001b[0m \u001b[0;34m**\u001b[0m\u001b[0mk\u001b[0m\u001b[0;34m)\u001b[0m\u001b[0;34m\u001b[0m\u001b[0;34m\u001b[0m\u001b[0m\n\u001b[0m\u001b[1;32m    188\u001b[0m \u001b[0;34m\u001b[0m\u001b[0m\n\u001b[1;32m    189\u001b[0m         \u001b[0;32mif\u001b[0m \u001b[0mcallable\u001b[0m\u001b[0;34m(\u001b[0m\u001b[0marg\u001b[0m\u001b[0;34m)\u001b[0m\u001b[0;34m:\u001b[0m\u001b[0;34m\u001b[0m\u001b[0;34m\u001b[0m\u001b[0m\n",
      "\u001b[0;32m~/anaconda3/lib/python3.7/site-packages/IPython/core/magics/pylab.py\u001b[0m in \u001b[0;36mmatplotlib\u001b[0;34m(self, line)\u001b[0m\n\u001b[1;32m     97\u001b[0m             \u001b[0mprint\u001b[0m\u001b[0;34m(\u001b[0m\u001b[0;34m\"Available matplotlib backends: %s\"\u001b[0m \u001b[0;34m%\u001b[0m \u001b[0mbackends_list\u001b[0m\u001b[0;34m)\u001b[0m\u001b[0;34m\u001b[0m\u001b[0;34m\u001b[0m\u001b[0m\n\u001b[1;32m     98\u001b[0m         \u001b[0;32melse\u001b[0m\u001b[0;34m:\u001b[0m\u001b[0;34m\u001b[0m\u001b[0;34m\u001b[0m\u001b[0m\n\u001b[0;32m---> 99\u001b[0;31m             \u001b[0mgui\u001b[0m\u001b[0;34m,\u001b[0m \u001b[0mbackend\u001b[0m \u001b[0;34m=\u001b[0m \u001b[0mself\u001b[0m\u001b[0;34m.\u001b[0m\u001b[0mshell\u001b[0m\u001b[0;34m.\u001b[0m\u001b[0menable_matplotlib\u001b[0m\u001b[0;34m(\u001b[0m\u001b[0margs\u001b[0m\u001b[0;34m.\u001b[0m\u001b[0mgui\u001b[0m\u001b[0;34m)\u001b[0m\u001b[0;34m\u001b[0m\u001b[0;34m\u001b[0m\u001b[0m\n\u001b[0m\u001b[1;32m    100\u001b[0m             \u001b[0mself\u001b[0m\u001b[0;34m.\u001b[0m\u001b[0m_show_matplotlib_backend\u001b[0m\u001b[0;34m(\u001b[0m\u001b[0margs\u001b[0m\u001b[0;34m.\u001b[0m\u001b[0mgui\u001b[0m\u001b[0;34m,\u001b[0m \u001b[0mbackend\u001b[0m\u001b[0;34m)\u001b[0m\u001b[0;34m\u001b[0m\u001b[0;34m\u001b[0m\u001b[0m\n\u001b[1;32m    101\u001b[0m \u001b[0;34m\u001b[0m\u001b[0m\n",
      "\u001b[0;32m~/anaconda3/lib/python3.7/site-packages/IPython/core/interactiveshell.py\u001b[0m in \u001b[0;36menable_matplotlib\u001b[0;34m(self, gui)\u001b[0m\n\u001b[1;32m   3341\u001b[0m         \"\"\"\n\u001b[1;32m   3342\u001b[0m         \u001b[0;32mfrom\u001b[0m \u001b[0mIPython\u001b[0m\u001b[0;34m.\u001b[0m\u001b[0mcore\u001b[0m \u001b[0;32mimport\u001b[0m \u001b[0mpylabtools\u001b[0m \u001b[0;32mas\u001b[0m \u001b[0mpt\u001b[0m\u001b[0;34m\u001b[0m\u001b[0;34m\u001b[0m\u001b[0m\n\u001b[0;32m-> 3343\u001b[0;31m         \u001b[0mgui\u001b[0m\u001b[0;34m,\u001b[0m \u001b[0mbackend\u001b[0m \u001b[0;34m=\u001b[0m \u001b[0mpt\u001b[0m\u001b[0;34m.\u001b[0m\u001b[0mfind_gui_and_backend\u001b[0m\u001b[0;34m(\u001b[0m\u001b[0mgui\u001b[0m\u001b[0;34m,\u001b[0m \u001b[0mself\u001b[0m\u001b[0;34m.\u001b[0m\u001b[0mpylab_gui_select\u001b[0m\u001b[0;34m)\u001b[0m\u001b[0;34m\u001b[0m\u001b[0;34m\u001b[0m\u001b[0m\n\u001b[0m\u001b[1;32m   3344\u001b[0m \u001b[0;34m\u001b[0m\u001b[0m\n\u001b[1;32m   3345\u001b[0m         \u001b[0;32mif\u001b[0m \u001b[0mgui\u001b[0m \u001b[0;34m!=\u001b[0m \u001b[0;34m'inline'\u001b[0m\u001b[0;34m:\u001b[0m\u001b[0;34m\u001b[0m\u001b[0;34m\u001b[0m\u001b[0m\n",
      "\u001b[0;32m~/anaconda3/lib/python3.7/site-packages/IPython/core/pylabtools.py\u001b[0m in \u001b[0;36mfind_gui_and_backend\u001b[0;34m(gui, gui_select)\u001b[0m\n\u001b[1;32m    274\u001b[0m     \"\"\"\n\u001b[1;32m    275\u001b[0m \u001b[0;34m\u001b[0m\u001b[0m\n\u001b[0;32m--> 276\u001b[0;31m     \u001b[0;32mimport\u001b[0m \u001b[0mmatplotlib\u001b[0m\u001b[0;34m\u001b[0m\u001b[0;34m\u001b[0m\u001b[0m\n\u001b[0m\u001b[1;32m    277\u001b[0m \u001b[0;34m\u001b[0m\u001b[0m\n\u001b[1;32m    278\u001b[0m     \u001b[0;32mif\u001b[0m \u001b[0mgui\u001b[0m \u001b[0;32mand\u001b[0m \u001b[0mgui\u001b[0m \u001b[0;34m!=\u001b[0m \u001b[0;34m'auto'\u001b[0m\u001b[0;34m:\u001b[0m\u001b[0;34m\u001b[0m\u001b[0;34m\u001b[0m\u001b[0m\n",
      "\u001b[0;32m~/anaconda3/lib/python3.7/site-packages/matplotlib/__init__.py\u001b[0m in \u001b[0;36m<module>\u001b[0;34m\u001b[0m\n\u001b[1;32m    139\u001b[0m \u001b[0;31m# cbook must import matplotlib only within function\u001b[0m\u001b[0;34m\u001b[0m\u001b[0;34m\u001b[0m\u001b[0;34m\u001b[0m\u001b[0m\n\u001b[1;32m    140\u001b[0m \u001b[0;31m# definitions, so it is safe to import from it here.\u001b[0m\u001b[0;34m\u001b[0m\u001b[0;34m\u001b[0m\u001b[0;34m\u001b[0m\u001b[0m\n\u001b[0;32m--> 141\u001b[0;31m \u001b[0;32mfrom\u001b[0m \u001b[0;34m.\u001b[0m \u001b[0;32mimport\u001b[0m \u001b[0mcbook\u001b[0m\u001b[0;34m,\u001b[0m \u001b[0mrcsetup\u001b[0m\u001b[0;34m\u001b[0m\u001b[0;34m\u001b[0m\u001b[0m\n\u001b[0m\u001b[1;32m    142\u001b[0m from matplotlib.cbook import (\n\u001b[1;32m    143\u001b[0m     MatplotlibDeprecationWarning, dedent, get_label, sanitize_sequence)\n",
      "\u001b[0;32m~/anaconda3/lib/python3.7/site-packages/matplotlib/cbook/__init__.py\u001b[0m in \u001b[0;36m<module>\u001b[0;34m\u001b[0m\n\u001b[1;32m     31\u001b[0m \u001b[0;32mfrom\u001b[0m \u001b[0mweakref\u001b[0m \u001b[0;32mimport\u001b[0m \u001b[0mWeakMethod\u001b[0m\u001b[0;34m\u001b[0m\u001b[0;34m\u001b[0m\u001b[0m\n\u001b[1;32m     32\u001b[0m \u001b[0;34m\u001b[0m\u001b[0m\n\u001b[0;32m---> 33\u001b[0;31m \u001b[0;32mimport\u001b[0m \u001b[0mnumpy\u001b[0m \u001b[0;32mas\u001b[0m \u001b[0mnp\u001b[0m\u001b[0;34m\u001b[0m\u001b[0;34m\u001b[0m\u001b[0m\n\u001b[0m\u001b[1;32m     34\u001b[0m \u001b[0;34m\u001b[0m\u001b[0m\n\u001b[1;32m     35\u001b[0m \u001b[0;32mimport\u001b[0m \u001b[0mmatplotlib\u001b[0m\u001b[0;34m\u001b[0m\u001b[0;34m\u001b[0m\u001b[0m\n",
      "\u001b[0;32m~/anaconda3/lib/python3.7/site-packages/numpy/__init__.py\u001b[0m in \u001b[0;36m<module>\u001b[0;34m\u001b[0m\n\u001b[1;32m    225\u001b[0m             \u001b[0;32mraise\u001b[0m \u001b[0mRuntimeError\u001b[0m\u001b[0;34m(\u001b[0m\u001b[0mmsg\u001b[0m\u001b[0;34m.\u001b[0m\u001b[0mformat\u001b[0m\u001b[0;34m(\u001b[0m\u001b[0m__file__\u001b[0m\u001b[0;34m)\u001b[0m\u001b[0;34m)\u001b[0m\u001b[0;34m\u001b[0m\u001b[0;34m\u001b[0m\u001b[0m\n\u001b[1;32m    226\u001b[0m \u001b[0;34m\u001b[0m\u001b[0m\n\u001b[0;32m--> 227\u001b[0;31m     \u001b[0m_sanity_check\u001b[0m\u001b[0;34m(\u001b[0m\u001b[0;34m)\u001b[0m\u001b[0;34m\u001b[0m\u001b[0;34m\u001b[0m\u001b[0m\n\u001b[0m\u001b[1;32m    228\u001b[0m     \u001b[0;32mdel\u001b[0m \u001b[0m_sanity_check\u001b[0m\u001b[0;34m\u001b[0m\u001b[0;34m\u001b[0m\u001b[0m\n",
      "\u001b[0;32m~/anaconda3/lib/python3.7/site-packages/numpy/__init__.py\u001b[0m in \u001b[0;36m_sanity_check\u001b[0;34m()\u001b[0m\n\u001b[1;32m    217\u001b[0m         \u001b[0;32mtry\u001b[0m\u001b[0;34m:\u001b[0m\u001b[0;34m\u001b[0m\u001b[0;34m\u001b[0m\u001b[0m\n\u001b[1;32m    218\u001b[0m             \u001b[0mx\u001b[0m \u001b[0;34m=\u001b[0m \u001b[0mones\u001b[0m\u001b[0;34m(\u001b[0m\u001b[0;36m2\u001b[0m\u001b[0;34m,\u001b[0m \u001b[0mdtype\u001b[0m\u001b[0;34m=\u001b[0m\u001b[0mfloat32\u001b[0m\u001b[0;34m)\u001b[0m\u001b[0;34m\u001b[0m\u001b[0;34m\u001b[0m\u001b[0m\n\u001b[0;32m--> 219\u001b[0;31m             \u001b[0;32mif\u001b[0m \u001b[0;32mnot\u001b[0m \u001b[0mabs\u001b[0m\u001b[0;34m(\u001b[0m\u001b[0mx\u001b[0m\u001b[0;34m.\u001b[0m\u001b[0mdot\u001b[0m\u001b[0;34m(\u001b[0m\u001b[0mx\u001b[0m\u001b[0;34m)\u001b[0m \u001b[0;34m-\u001b[0m \u001b[0;36m2.0\u001b[0m\u001b[0;34m)\u001b[0m \u001b[0;34m<\u001b[0m \u001b[0;36m1e-5\u001b[0m\u001b[0;34m:\u001b[0m\u001b[0;34m\u001b[0m\u001b[0;34m\u001b[0m\u001b[0m\n\u001b[0m\u001b[1;32m    220\u001b[0m                 \u001b[0;32mraise\u001b[0m \u001b[0mAssertionError\u001b[0m\u001b[0;34m(\u001b[0m\u001b[0;34m)\u001b[0m\u001b[0;34m\u001b[0m\u001b[0;34m\u001b[0m\u001b[0m\n\u001b[1;32m    221\u001b[0m         \u001b[0;32mexcept\u001b[0m \u001b[0mAssertionError\u001b[0m\u001b[0;34m:\u001b[0m\u001b[0;34m\u001b[0m\u001b[0;34m\u001b[0m\u001b[0m\n",
      "\u001b[0;31mKeyboardInterrupt\u001b[0m: "
     ]
    }
   ],
   "source": [
    "%matplotlib inline\n",
    "import matplotlib.pyplot as plt\n",
    "plt.style.use('seaborn-whitegrid')\n",
    "plt.figure(figsize=(16,9))\n",
    "\n",
    "plt.plot(L, B, label=\"sumOfN2: O(N)\")\n",
    "plt.plot(L, C, label='sumOfN3: O(1)  ' )\n",
    "\n",
    "\n",
    "plt.legend(loc=\"upper center\", fontsize=\"xx-large\")\n",
    "plt.show()"
   ]
  },
  {
   "cell_type": "code",
   "execution_count": null,
   "metadata": {},
   "outputs": [],
   "source": [
    "# listing #2\n",
    "#T(n)=3+3n^2+2n+1=3n^2+2n+4.\n",
    "\n",
    "def foo(n):\n",
    "    a = 5\n",
    "    b = 6\n",
    "    c = 10\n",
    "\n",
    "    for i in range(n):\n",
    "        for j in range(n):\n",
    "            x = i * i\n",
    "            y = j * j\n",
    "            z = i * j\n",
    "\n",
    "    for k in range(n):\n",
    "        w = a * k + 45\n",
    "        v = b * b\n",
    "\n",
    "d = 33\n"
   ]
  },
  {
   "cell_type": "markdown",
   "metadata": {},
   "source": [
    "Measure the time complexity by the number of assignment operations, as listed below.\n",
    "* T(n)=3+3$n^{2}$+2n+1=3$n^{2}$+2n+4. \n",
    "* By looking at the exponents, we can easily see that the $n^{2}$term will be dominant and therefore this fragment of code is O($n^{2}$). \n",
    "* Note that all of the other terms as well as the coefficient on the dominant term can be ignored as n grows larger."
   ]
  },
  {
   "cell_type": "markdown",
   "metadata": {},
   "source": [
    "<div class=\"image123\">\n",
    "    <div style=\"float:left;margin-right:55px;\">\n",
    "    <figure>\n",
    "        <img src=\"images/T_of_n.png\" height=\"600\" width=\"600\"  />\n",
    "        <figcaption style=\"text-align:center;\"> Compare T(n) with some common Big-O functions </figcaption>\n",
    "    </figure>\n",
    "    </div>\n",
    " \n",
    "</div>"
   ]
  },
  {
   "cell_type": "markdown",
   "metadata": {},
   "source": [
    "### The computer scientist definition of \"fast algorithm\"\n",
    "\n",
    "An algorithm is \"fast\" if its worst-case running time grows slowly with the input size.\n",
    "\n",
    "Three principles of this kind of algorithm analysis:\n",
    "* Worst-case behavior is most important\n",
    "* Don't sweat small constant factors -- big picture analysis\n",
    "* Asymptotic analysis -- how does behavior change as input size grows?"
   ]
  },
  {
   "cell_type": "markdown",
   "metadata": {},
   "source": [
    "Seven functions that often appear in algorithm analysis:\n",
    "* Constant ≈ $1$\n",
    "* Logarithmic ≈ $\\log n$\n",
    "* Linear ≈ $n$\n",
    "* N-Log-N ≈ $n \\log n$\n",
    "* Quadratic ≈ $n^{2}$\n",
    "* Cubic ≈ $n^{3}$\n",
    "* Exponential ≈ $2^{n}$\n",
    "\n",
    "Let's look at their growth rates using matplotlib!\n"
   ]
  },
  {
   "cell_type": "markdown",
   "metadata": {},
   "source": [
    "* The order of magnitude function describes the part of T(n) that increases the fastest as the value of n increases. \n",
    "* Order of magnitude is often called Big-O notation (for “order”) and written as O(f(n)). \n",
    "* It provides a useful approximation to the actual number of steps in the computation. \n",
    "* The function f(n) provides a simple representation of the dominant part of the original T(n)."
   ]
  },
  {
   "cell_type": "code",
   "execution_count": null,
   "metadata": {},
   "outputs": [],
   "source": [
    "%matplotlib inline\n",
    "import matplotlib.pyplot as plt\n",
    "from math import log\n",
    "plt.style.use('seaborn-whitegrid') # presentation\n",
    "\n",
    "plt.figure(figsize=(16,9))\n",
    "import numpy as np\n",
    "x = np.linspace(1, 20, 50)\n",
    "\n",
    "# First plot a constant function\n",
    "plt.plot(x, np.ones(50), label=\"f(n) = 1\")\n",
    "\n",
    "# Then plot log(x)\n",
    "plt.plot(x, np.log(x), label='f(n)= log(n)')\n",
    "\n",
    "# Then plot linear growth\n",
    "plt.plot(x, x, label='f(n)=n')\n",
    "\n",
    "# Now add n log n growth\n",
    "plt.plot(x, np.multiply(x, np.log(x)), label=\"f(n) = n*log(n)\")\n",
    "\n",
    "plt.legend(loc=\"upper center\", fontsize=\"xx-large\")\n",
    "plt.show()"
   ]
  },
  {
   "cell_type": "markdown",
   "metadata": {},
   "source": [
    "<h3> <a href='http://interactivepython.org/runestone/static/pythonds/AlgorithmAnalysis/AnAnagramDetectionExample.html    '> 2.4. An Anagram Detection Example  </a> </h3>"
   ]
  },
  {
   "cell_type": "markdown",
   "metadata": {},
   "source": [
    "One string is an anagram of another if the second is simply a rearrangement of the first. For example, \n",
    "* 'heart' and 'earth'  \n",
    "* 'python' and 'typhon'"
   ]
  },
  {
   "cell_type": "markdown",
   "metadata": {},
   "source": [
    "Given two strings s1 and s2 with equal length\n",
    "* anagramSolution1: Check if each character in s1 actually occurs in s2. O(n^2)\n",
    "* anagramSolution2: Compare the sorted strings of s1 and s2               O(n log n)\n",
    "* anagramSolution3: Enumerate all permutation s of s1, and see if any s == s2\n",
    "* anagramSolution4: count and compare                                     O(n)"
   ]
  },
  {
   "cell_type": "code",
   "execution_count": 17,
   "metadata": {},
   "outputs": [
    {
     "name": "stdout",
     "output_type": "stream",
     "text": [
      "[1, 2, 3]\n",
      "[1, 2, 3]\n"
     ]
    }
   ],
   "source": [
    "x = [1,2]\n",
    "y = [1,2,3]\n",
    "x.append (3)\n",
    "assert x == y\n",
    "print (x)\n",
    "print (y)"
   ]
  },
  {
   "cell_type": "code",
   "execution_count": null,
   "metadata": {},
   "outputs": [],
   "source": [
    "import itertools\n",
    "from timeit import Timer\n",
    "import random\n",
    "import string\n",
    "\n",
    "# Assume len(s1)==len(s2)\n",
    "def anagramSolution1(s1,s2):  # O(N^2)\n",
    "    alist = list(s2)          # string s2 is immutable, alist is mutable\n",
    "\n",
    "    pos1 = 0\n",
    "    stillOK = True\n",
    "\n",
    "    #    python  ==> python ==> python  ==> python  ==> python\n",
    "    #    ^            ^           ^            ^            ^\n",
    "    #    typhon ==> ty@hon  ==> @@@hon ==> @@@hon  ==> @@@@on\n",
    "    #    --^        -^         ^           ---^        ----^\n",
    "    \n",
    "    #    pyyhon  ==> pyyhon ==> pyyhon  \n",
    "    #    ^            ^           ^            ^\n",
    "    #    typhon ==> ty@hon  ==> @@@hon \n",
    "    #    --^        -^          ------ fail           \n",
    "\n",
    "    while pos1 < len(s1) and stillOK:    # for each position in string s1 O(N)\n",
    "        pos2 = 0\n",
    "        found = False\n",
    "        while pos2 < len(alist) and not found:  # check if the current char exists on alist O(N)\n",
    "            if s1[pos1] == alist[pos2]:\n",
    "                found = True\n",
    "            else:\n",
    "                pos2 = pos2 + 1                 # if not found, move to next position\n",
    "\n",
    "        if found:\n",
    "            alist[pos2] = None                  # mark off\n",
    "        else:\n",
    "            stillOK = False\n",
    "\n",
    "        pos1 = pos1 + 1\n",
    "\n",
    "    return stillOK\n",
    "\n",
    "\n",
    "\n",
    "def anagramSolution2(s1,s2): # O(n log n)\n",
    "    \"\"\"\n",
    "    If s1 and s2 are sorted first, then they are anagram if s1==s2 \n",
    "\n",
    "    @param param1: the 1st string\n",
    "    @param param2: second string\n",
    "    @return: true if s1 and s2 are anagram\n",
    "    @raise keyError: raises an exception\n",
    "    \"\"\"\n",
    "    alist1 = list(s1)   # convert string s1 to list   alist1\n",
    "    alist2 = list(s2)    # convert string s2 to list   alist2\n",
    "\n",
    "    alist1.sort()       # sort() has time complexity O(n log n)\n",
    "    alist2.sort()       # sort() has time complexity O(n log n)\n",
    "    #return alist1 == alist2\n",
    "    \n",
    "    \n",
    "    pos = 0\n",
    "    matches = True\n",
    "\n",
    "    while pos < len(s1) and matches:\n",
    "        if alist1[pos]==alist2[pos]:\n",
    "            pos = pos + 1\n",
    "        else:\n",
    "            matches = False\n",
    "    return matches\n",
    "\n",
    "def anagramSolution3(s1,s2): # O(n!) >  O(2^n)\n",
    "  for s3 in itertools.permutations(s1):\n",
    "    if \"\".join(s3)==s2:\n",
    "      return True\n",
    "  return theSum\n",
    "\n",
    "def anagramSolution4(s1,s2):  # O(n)\n",
    "    \"\"\"\n",
    "      count and compare\n",
    "                  0 1 2 3 4 5 6  7\n",
    "      heart  ==>  a b c d e f g  h ...         z\n",
    "            c1= [ 0 0 0 0 1 0 0  1                            ] # number of occurences for each letter in s1\n",
    "                     c1[7]  += 1\n",
    "                     c1[4]  += 1\n",
    "    \n",
    "      eaarth\n",
    "                  0 1 2 3 4 5 6  7\n",
    "             ==>  a b c d e f g  h ...         z\n",
    "            c2 = [2 0 0 0 1 0 0  1                          ] # number of occurences for each letter in s2\n",
    "                     c2[4]  += 1 \n",
    "                     c2[0]  += 1 \n",
    "                     c2[0]  += 1 \n",
    "                    \n",
    "    \"\"\"\n",
    "    c1 = [0]*26\n",
    "\n",
    "    n = len(s1)\n",
    "    x = ord('a')\n",
    "    for i in range( n ):\n",
    "        pos = ord(s1[i])-x  # get the pos index for each letter in string s1\n",
    "        c1[pos] += 1\n",
    "        pos = ord(s2[i])-x  # get the pos index for each letter in string s2\n",
    "        c1[pos] -=  1\n",
    "\n",
    "    for i in c1:\n",
    "        if i != 0:\n",
    "            return False\n",
    "\n",
    "    return True\n",
    "\n",
    "def demo():\n",
    "  x,y = randomword (5)\n",
    "  L = ( (x,y), ('abcd','dcba'), ('abcde','edcba'), ('abcde','edcba'), ('apple','pleap'), ('python', 'typhon'))\n",
    "  for z in L:\n",
    "    x = z[0]; y = z[1];\n",
    "    assert (anagramSolution1(x,y))\n",
    "    assert (anagramSolution2(x,y))\n",
    "    assert (anagramSolution3(x,y))\n",
    "    assert (anagramSolution4(x,y))\n",
    "\n",
    "\n",
    "\n",
    "def randomword(length):\n",
    "    allchar = string.ascii_lowercase \n",
    "\n",
    "    L = [random.choice(allchar) for i in range(length) ]\n",
    "    random.shuffle(L)\n",
    "    x = ''.join(L)\n",
    "    random.shuffle(L)\n",
    "    y = ''.join(L)\n",
    "    return x,y\n",
    "\n",
    "demo()  \n",
    "\n",
    "if True: \n",
    "    x,y = randomword (1000000)\n",
    "    #print (x,y)\n",
    "    \n",
    "    M=1\n",
    "    print (\"start\")\n",
    "    #t1 = Timer(\"anagramSolution1(x,y)\", \"from __main__ import anagramSolution1, x, y \")\n",
    "    #print(\"anagramSolution1 \", t1.timeit(number=M), \"milliseconds\")\n",
    "    \n",
    "    t2 = Timer(\"anagramSolution2(x,y)\", \"from __main__ import anagramSolution2, x, y \")\n",
    "    print(\"anagramSolution2 \", t2.timeit(number=M), \"milliseconds\")\n",
    "    #t3 = Timer(\"anagramSolution3(x,y)\", \"from __main__ import anagramSolution3, x,y \")\n",
    "    # print(\"anagramSolution3 \", t3.timeit(number=M), \"milliseconds\")\n",
    "    t4 = Timer(\"anagramSolution4(x,y)\", \"from __main__ import anagramSolution4, x,y \")\n",
    "    print(\"anagramSolution4 \", t4.timeit(number=M), \"milliseconds\")\n",
    "\n",
    "#main()\n",
    "\n"
   ]
  },
  {
   "cell_type": "markdown",
   "metadata": {},
   "source": [
    "<h3> <a href='http://interactivepython.org/runestone/static/pythonds/AlgorithmAnalysis/PerformanceofPythonDataStructures.html'> 2.5. Performance of Python Data Structures: lists  </a> </h3>\n"
   ]
  },
  {
   "cell_type": "markdown",
   "metadata": {},
   "source": [
    "<h3> <a href='http://interactivepython.org/runestone/static/pythonds/AlgorithmAnalysis/Lists.html'> 2.5.  lists  </a> </h3>\n",
    "Four different ways to generate a list of n numbers starting with 0."
   ]
  },
  {
   "cell_type": "code",
   "execution_count": 7,
   "metadata": {},
   "outputs": [
    {
     "name": "stdout",
     "output_type": "stream",
     "text": [
      "concat  1.6355756449999959 milliseconds\n",
      "append  0.11819102900000189 milliseconds\n",
      "comprehension  0.056083370999999715 milliseconds\n",
      "list range  0.024697950000003743 milliseconds\n"
     ]
    }
   ],
   "source": [
    "# listing 3\n",
    "from timeit import Timer\n",
    "\n",
    "\n",
    "def test1():\n",
    "    l = []\n",
    "    for i in range(1000):\n",
    "        l = l + [i]\n",
    "\n",
    "def test2():\n",
    "    l = []\n",
    "    for i in range(1000):\n",
    "        l.append(i)\n",
    "\n",
    "def test3():  # \n",
    "    l = [i for i in range(1000)]  #comprehension\n",
    "\n",
    "def test4():\n",
    "    l = list(range(1000))\n",
    "\n",
    "\n",
    "t1 = Timer(\"test1()\", \"from __main__ import test1\")\n",
    "print(\"concat \",t1.timeit(number=1000), \"milliseconds\")\n",
    "t2 = Timer(\"test2()\", \"from __main__ import test2\")\n",
    "print(\"append \",t2.timeit(number=1000), \"milliseconds\")\n",
    "t3 = Timer(\"test3()\", \"from __main__ import test3\")\n",
    "print(\"comprehension \",t3.timeit(number=1000), \"milliseconds\")\n",
    "t4 = Timer(\"test4()\", \"from __main__ import test4\")\n",
    "print(\"list range \",t4.timeit(number=1000), \"milliseconds\")\n",
    "\n",
    "#concat  6.54352807999 milliseconds\n",
    "#append  0.306292057037 milliseconds\n",
    "#comprehension  0.147661924362 milliseconds\n",
    "#list range  0.0655000209808 milliseconds"
   ]
  },
  {
   "cell_type": "raw",
   "metadata": {},
   "source": [
    "# Operation\tBig-O Efficiency\n",
    "index []  \t        O(1)\n",
    "index assignment\tO(1)\n",
    "pop()\t            O(1)   <-----\n",
    "pop(i)\t            O(n)   <-----\n",
    "insert(i,item)\t    O(n)   <-----\n",
    "append(item)\t    O(1)   <-----\n",
    "\n",
    "del operator\t    O(n)\n",
    "iteration\t        O(n)\n",
    "contains (in)\t    O(n)\n",
    "get slice [x:y]\t    O(k)\n",
    "del slice\t        O(n)\n",
    "set slice\t        O(n+k)\n",
    "reverse\t            O(n)\n",
    "concatenate\t        O(k)\n",
    "sort\t            O(n log n)\n",
    "multiply\t        O(nk)"
   ]
  },
  {
   "cell_type": "code",
   "execution_count": 10,
   "metadata": {},
   "outputs": [
    {
     "name": "stdout",
     "output_type": "stream",
     "text": [
      "popzero : 2.1539358450000066\n",
      "popend = : 0.00015390499999057283\n"
     ]
    }
   ],
   "source": [
    "#listing 4\n",
    "#from timeit import Timer\n",
    "import timeit\n",
    "\n",
    "popzero = timeit.Timer(\"x.pop(0)\",\n",
    "                       \"from __main__ import x\")\n",
    "popend = timeit.Timer(\"x.pop()\",\n",
    "                      \"from __main__ import x\")\n",
    "\n",
    "x = list(range(2000000))      # x = [0,1,2, ...,  2000000-1=1999999  ]\n",
    "t1 = popzero.timeit(number=1000)\n",
    "#4.8213560581207275\n",
    "print (\"popzero :\", t1)\n",
    "\n",
    "x = list(range(2000000))\n",
    "t2 = popend.timeit(number=1000)    # popend for pop() at the end\n",
    "#0.0003161430358886719\n",
    "print (\"popend = :\", t2)\n"
   ]
  },
  {
   "cell_type": "code",
   "execution_count": 11,
   "metadata": {
    "scrolled": true
   },
   "outputs": [
    {
     "name": "stdout",
     "output_type": "stream",
     "text": [
      "  list size          pop(0)           pop()\n",
      "   1000000:         0.15885         0.00001\n",
      "   2000000:         0.20593         0.00001\n",
      "   3000000:         0.37810         0.00001\n",
      "   4000000:         0.45246         0.00002\n",
      "   5000000:         0.51770         0.00005\n",
      "   6000000:         0.58028         0.00001\n",
      "   7000000:         0.75837         0.00001\n",
      "   8000000:         0.79648         0.00001\n",
      "   9000000:         0.89927         0.00002\n",
      "  10000000:         0.96674         0.00001\n"
     ]
    }
   ],
   "source": [
    "\"\"\"\n",
    "#listing 5\n",
    "While our previous test does show that pop(0) is indeed slower than pop(), \n",
    "it does not validate the claim that pop(0) is O(n) while pop() is O(1). \n",
    "\n",
    "To validate that claim we need to look at the performance of both calls \n",
    "over a range of list sizes. \n",
    "\n",
    "Listing 5 implements this test.\n",
    "\"\"\"\n",
    "\n",
    "from timeit import Timer\n",
    "\n",
    "popFront = Timer(\"x.pop(0)\", \"from __main__ import x\")\n",
    "popRear = Timer(\"x.pop()\", \"from __main__ import x\")\n",
    "print(\"%11s %15s %15s\" % (\"list size\", \"pop(0)\", \"pop()\") )\n",
    "\n",
    "delta = 1000000\n",
    "samples = 100\n",
    "A = list ( range(delta,delta*10+1,delta) ) # A = [ 1000000, 2000000, 3000000, ...,10,000,000 ]\n",
    "B = []\n",
    "C = []\n",
    "for i in A :  # for each number in list A = [ 1000000, 2000000, 3000000, ...,10,000,000 ]\n",
    "    x = list(range(i))\n",
    "    timePopFront = popFront.timeit(number=samples) # run tiem for opertaion pop(0)\n",
    "    B.append(timePopFront)                         # B = [ runtime for 1,000,000, time for 2,000,000, ... ]\n",
    "    x = list(range(i))\n",
    "    \n",
    "    timePopRear = popRear.timeit(number=samples)   # run tiem for opertaion pop() at the end, O(1)\n",
    "    C.append ( timePopRear )                       # C = [ time for 1,000,000, time for 2,000,000 ...]\n",
    "    print(\"%10d: %15.5f %15.5f\" %(i, timePopFront,timePopRear))\n",
    "\n"
   ]
  },
  {
   "cell_type": "raw",
   "metadata": {},
   "source": [
    "c  list size (A)    pop(0) B        pop()  C\n",
    "   1000000:         0.11032         0.00001\n",
    "   2000000:         0.20169         0.00002\n",
    "   3000000:         0.31633         0.00001\n",
    "   4000000:         0.41115         0.00001\n",
    "   5000000:         0.70900         0.00003\n",
    "   6000000:         0.82720         0.00002\n",
    "   7000000:         0.85506         0.00003\n",
    "   8000000:         0.99204         0.00003\n",
    "   9000000:         1.04212         0.00001\n",
    "  10000000:         1.25988         0.00003"
   ]
  },
  {
   "cell_type": "code",
   "execution_count": 12,
   "metadata": {},
   "outputs": [
    {
     "data": {
      "image/png": "[encoded data removed]",
      "text/plain": [
       "<Figure size 1152x648 with 1 Axes>"
      ]
     },
     "metadata": {},
     "output_type": "display_data"
    }
   ],
   "source": [
    "%matplotlib inline\n",
    "import matplotlib.pyplot as plt\n",
    "plt.style.use('seaborn-whitegrid')\n",
    "plt.figure(figsize=(16,9))\n",
    "\n",
    "plt.plot(A, B, label=\"B List: popfront\")\n",
    "plt.plot(A, C, label='C List: poprear')\n",
    "\n",
    "\n",
    "plt.legend(loc=\"upper center\", fontsize=\"xx-large\")\n",
    "plt.show()"
   ]
  },
  {
   "cell_type": "code",
   "execution_count": null,
   "metadata": {},
   "outputs": [],
   "source": [
    "Repeat the above experiment for anagramSolution 1,2 and 4."
   ]
  },
  {
   "cell_type": "code",
   "execution_count": null,
   "metadata": {},
   "outputs": [],
   "source": []
  }
 ],
 "metadata": {
  "kernelspec": {
   "display_name": "Python 3",
   "language": "python",
   "name": "python3"
  },
  "language_info": {
   "codemirror_mode": {
    "name": "ipython",
    "version": 3
   },
   "file_extension": ".py",
   "mimetype": "text/x-python",
   "name": "python",
   "nbconvert_exporter": "python",
   "pygments_lexer": "ipython3",
   "version": "3.7.1"
  }
 },
 "nbformat": 4,
 "nbformat_minor": 2
}
