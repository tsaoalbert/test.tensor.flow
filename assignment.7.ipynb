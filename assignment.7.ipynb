{
 "cells": [
  {
   "cell_type": "code",
   "execution_count": 2,
   "metadata": {},
   "outputs": [
    {
     "data": {
      "text/plain": [
       "3"
      ]
     },
     "execution_count": 2,
     "metadata": {},
     "output_type": "execute_result"
    }
   ],
   "source": [
    "Week7: Graphs and Graph Algorithms\n",
    "  Topics:\n",
    "    Graph ADT\n",
    "    implementation of Adjacency Matrix and List\n",
    "    BFS: Knights' Tour Analysis\n",
    "    DFS:\n",
    "      topological sorting,\n",
    "      Strongly connected componetns\n",
    "    Short Path Problems and Dijkstra's Algorithm\n",
    "    Minmum Spanning TreeProblems and the Prim's/Kruskal Algorithm\n",
    "\n",
    "HW#7:\n",
    "    * Modify the depth first search function to produce\n",
    "        a topological sort.\n",
    "        strongly connected components.\n",
    "    * Using breadth first search revise the maze program from the recursion chapter\n",
    "      to find the shortest path out of a maze.\n",
    "    * Three Water-Jug problems.1+2"
   ]
  },
  {
   "cell_type": "markdown",
   "metadata": {},
   "source": [
    "<a href=' http://my.jessup.edu/'> my.jessup  </a>"
   ]
  },
  {
   "cell_type": "code",
   "execution_count": null,
   "metadata": {},
   "outputs": [],
   "source": []
  },
  {
   "cell_type": "code",
   "execution_count": null,
   "metadata": {},
   "outputs": [],
   "source": []
  },
  {
   "cell_type": "code",
   "execution_count": null,
   "metadata": {},
   "outputs": [],
   "source": []
  },
  {
   "cell_type": "code",
   "execution_count": null,
   "metadata": {},
   "outputs": [],
   "source": []
  }
 ],
 "metadata": {
  "kernelspec": {
   "display_name": "Python 3",
   "language": "python",
   "name": "python3"
  },
  "language_info": {
   "codemirror_mode": {
    "name": "ipython",
    "version": 3
   },
   "file_extension": ".py",
   "mimetype": "text/x-python",
   "name": "python",
   "nbconvert_exporter": "python",
   "pygments_lexer": "ipython3",
   "version": "3.7.1"
  }
 },
 "nbformat": 4,
 "nbformat_minor": 2
}
