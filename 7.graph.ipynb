{
 "cells": [
  {
   "cell_type": "markdown",
   "metadata": {},
   "source": [
    "<h1><a href='http://interactivepython.org/runestone/static/pythonds/Graphs/toctree.html'> 7. Graphs and Graph Algorithms</a></h1>"
   ]
  },
  {
   "cell_type": "markdown",
   "metadata": {},
   "source": [
    "* <a href='http://graphonline.ru/en/'> Graph Drawing Tool  </a>\n",
    "* <a href='http://cs.armstrong.edu/liang/animation/animation.html'>   Graph Animaiton </a>"
   ]
  },
  {
   "cell_type": "raw",
   "metadata": {},
   "source": [
    "Week7: Graphs and Graph Algorithms\n",
    "  Topics:\n",
    "    Graph ADT\n",
    "    implementation of Adjacency Matrix and List\n",
    "    BFS: \n",
    "      Word Ladder Problem\n",
    "      Water Jug Problem\n",
    "    DFS:\n",
    "      Knight's Tour \n",
    "      Topological Sorting\n",
    "      Strongly Connected Componetns\n",
    "    Shortest Path Problem and Dijkstra's Algorithm\n",
    "    Minmum Spanning Tree Problem and Prim's/Kruskal Algorithms"
   ]
  },
  {
   "cell_type": "markdown",
   "metadata": {},
   "source": [
    "\n",
    "  "
   ]
  },
  {
   "cell_type": "markdown",
   "metadata": {},
   "source": [
    "<div class=\"binarySearch\">\n",
    "    <div style=\"float:left;margin-right:55px;\">\n",
    "    <figure>\n",
    "        <img src=\"images/adj.matrix.png\" height=\"400\" width=\"400\"  />\n",
    "        <figcaption style=\"text-align:center;\"> \n",
    "        <h1>\n",
    "<a href='http://interactivepython.org/runestone/static/pythonds/Graphs/AnAdjacencyMatrix.html'>  7.4 Adjacent Matrix </a> \n",
    "        </figcaption>\n",
    "    </figure>\n",
    "    </div>\n",
    "    <div style=\"float:left;margin-right:55px;\">\n",
    "    <figure>\n",
    "        <img src=\"images/adj.list.png\" height=\"400\" width=\"400\"  />\n",
    "        <figcaption style=\"text-align:center;\">   <h1>\n",
    "<a href='http://interactivepython.org/runestone/static/pythonds/Graphs/AnAdjacencyList.html         '>  7.5 Adjacent List </a></h1>  </figcaption>\n",
    "    </figure>\n",
    "    </div>\n",
    "</div>"
   ]
  },
  {
   "cell_type": "markdown",
   "metadata": {},
   "source": [
    "<h1><a href='http://interactivepython.org/runestone/static/pythonds/Graphs/Implementation.html'>7.6 Graph Implementation </a></h1>"
   ]
  },
  {
   "cell_type": "code",
   "execution_count": 198,
   "metadata": {},
   "outputs": [],
   "source": [
    "# Priliminary Version\n",
    "class Vertex:\n",
    "    def __init__(self,key):\n",
    "        self.id = key\n",
    "        self.connectedTo = {}  # Adjacency list: Vertex --> weight\n",
    "    \n",
    "    def addNeighbor(self,nbr,weight=0):\n",
    "        self.connectedTo[nbr] = weight\n",
    "\n",
    "    def __str__(self):\n",
    "        return str(self.id) + ' connectedTo: ' + str([x.id for x in self.connectedTo])\n",
    "\n",
    "    def getConnections(self):\n",
    "        return self.connectedTo.keys()\n",
    "\n",
    "    def getId(self):\n",
    "        return self.id\n",
    "\n",
    "    def getWeight(self,nbr):\n",
    "        return self.connectedTo.get(nbr,0)\n"
   ]
  },
  {
   "cell_type": "code",
   "execution_count": 85,
   "metadata": {},
   "outputs": [],
   "source": [
    "# Advanced version (for DFS algorithm)\n",
    "import sys\n",
    "class Vertex:\n",
    "    def __init__(self,key):\n",
    "        self.id = key\n",
    "        self.connectedTo = {}\n",
    "        \n",
    "        self.color = 'white'\n",
    "        self.dist = sys.maxsize  # used in Dijkstra's\n",
    "        self.pred = None  # predecessor\n",
    "        self.disc = 0     # discover time, used in DFS\n",
    "        self.fin =  0     # finish   time, used in DFS\n",
    "\n",
    "    \n",
    "    def addNeighbor(self,nbr,weight=0):\n",
    "        self.connectedTo[nbr] = weight\n",
    "\n",
    "    def setColor(self,color):\n",
    "        self.color = color\n",
    "\n",
    "    def setDistance(self,d):\n",
    "        self.dist = d\n",
    "\n",
    "    def setPred(self,p):\n",
    "        self.pred = p\n",
    "\n",
    "    def setDiscovery(self,dtime):\n",
    "        self.disc = dtime\n",
    "        \n",
    "    def setFinish(self,ftime):\n",
    "        self.fin = ftime\n",
    "        \n",
    "    def getFinish(self):\n",
    "        return self.fin\n",
    "        \n",
    "    def getDiscovery(self):\n",
    "        return self.disc\n",
    "        \n",
    "    def getPred(self):\n",
    "        return self.pred\n",
    "        \n",
    "    def getDistance(self):\n",
    "        return self.dist\n",
    "        \n",
    "    def getColor(self):\n",
    "        return self.color\n",
    "\n",
    "    def getConnections(self):\n",
    "        return self.connectedTo.keys()\n",
    "\n",
    "    def getWeight(self,nbr):\n",
    "        if (nbr==None):\n",
    "            return 0\n",
    "        return self.connectedTo.get(nbr,0)\n",
    "        # return self.connectedTo[nbr]\n",
    "\n",
    "    def __str__(self):\n",
    "        ans = str(self.id) + \" (\" + str(self.disc) + \":\" + str(self.fin) + \") -- \"\n",
    "        # ans +=   ' connected to: ' + str([x.id for x in self.connectedTo])\n",
    "        return ans \n",
    "\n",
    "    def getId(self):\n",
    "        return self.id\n"
   ]
  },
  {
   "cell_type": "code",
   "execution_count": 86,
   "metadata": {},
   "outputs": [],
   "source": [
    "\n",
    "class Graph:\n",
    "    def __init__(self):\n",
    "        self.vertList = {}   # dictionary, key to vertex\n",
    "        self.numVertices = 0\n",
    "\n",
    "    def __len__(self):\n",
    "        return   self.numVertices\n",
    "    \n",
    "    def addVertex(self,key):\n",
    "        self.numVertices = self.numVertices + 1\n",
    "        newVertex = Vertex(key)\n",
    "        self.vertList[key] = newVertex\n",
    "        return newVertex\n",
    "\n",
    "\n",
    "    def getVertex(self,n):\n",
    "        if n in self.vertList:\n",
    "            return self.vertList[n]\n",
    "        else:\n",
    "            return None\n",
    "\n",
    "    def __getitem__ (self,n):      # [] index operator\n",
    "        return self.getVertex(n)\n",
    "        \n",
    "    def __contains__(self,n):\n",
    "        return n in self.vertList\n",
    "\n",
    "    def addEdge(self,f,t,cost=-1):\n",
    "        if f not in self.vertList:\n",
    "            nv = self.addVertex(f)\n",
    "        if t not in self.vertList:\n",
    "            nv = self.addVertex(t)\n",
    "        self.vertList[f].addNeighbor(self.vertList[t], cost)\n",
    "\n",
    "    def getVertices(self):\n",
    "        return self.vertlist.keys()\n",
    "\n",
    "    def __iter__(self):\n",
    "        return iter(self.vertList.values())\n",
    "\n",
    "    def __str__(self):\n",
    "        s = \"Graph:\\n\"\n",
    "        for i in self:\n",
    "            s += str(i) + \"\\n\"\n",
    "        #for i in self.vertList:\n",
    "        #    s += str( self.vertList[i] )  +\"\\n\"\n",
    "        return s\n",
    "    \n",
    "    def transpose (self):\n",
    "        p=Graph()\n",
    "        for x in g:\n",
    "            p.addVertex(x.id)\n",
    "        for x in self:\n",
    "            for y in x.connectedTo:\n",
    "                p.addEdge (y.id,x.id, x.getWeight(y))\n",
    "        return p\n",
    " \n",
    "    def printEdges (self):\n",
    "        s= \"Transpose:\\n\"\n",
    "        for x in self:\n",
    "            for y in x.connectedTo:\n",
    "                w = x.getWeight(y)\n",
    "                s += str (x.id) + \"-->\" + str(y.id) + \" <\" + str (w) + \"> \\n\"\n",
    "        print (s)\n",
    "        #return s "
   ]
  },
  {
   "cell_type": "code",
   "execution_count": 87,
   "metadata": {},
   "outputs": [],
   "source": [
    "#from pythonds.graphs import Graph\n",
    "class DFSGraph(Graph):\n",
    "    def __init__(self):\n",
    "        super().__init__()\n",
    "        self.time = 0\n",
    "\n",
    "    def dfs(self):\n",
    "        for aVertex in self:\n",
    "            aVertex.setColor('white')\n",
    "            aVertex.setPred(-1)\n",
    "        for aVertex in self:\n",
    "            if aVertex.getColor() == 'white':\n",
    "                self.dfsvisit(aVertex)\n",
    "\n",
    "    \n",
    "    def topologicalSorting (self):\n",
    "        print (\"topologicalSorting: \", end=\"\")\n",
    "        self.dfs()      \n",
    "        L=[x for x in g]\n",
    "        L.sort(key=lambda x: x.fin, reverse=True)\n",
    "        for x in L:\n",
    "            print (x.id, end=\", \")\n",
    "        print ()\n",
    "            \n",
    "    def dfsvisit(self,startVertex):\n",
    "        startVertex.setColor('gray')\n",
    "        self.time += 1\n",
    "        startVertex.setDiscovery(self.time)\n",
    "        for nextVertex in startVertex.getConnections():\n",
    "            if nextVertex.getColor() == 'white':\n",
    "                nextVertex.setPred(startVertex)\n",
    "                self.dfsvisit(nextVertex)\n",
    "        startVertex.setColor('black')\n",
    "        self.time += 1\n",
    "        startVertex.setFinish(self.time)"
   ]
  },
  {
   "cell_type": "code",
   "execution_count": 88,
   "metadata": {},
   "outputs": [
    {
     "name": "stdout",
     "output_type": "stream",
     "text": [
      "topologicalSorting: 0, 1, 2, 3, 5, 4, \n",
      "Transpose:\n",
      "0-->4 <1> \n",
      "1-->0 <5> \n",
      "2-->1 <4> \n",
      "2-->5 <1> \n",
      "3-->2 <9> \n",
      "4-->3 <7> \n",
      "4-->5 <8> \n",
      "5-->0 <2> \n",
      "5-->3 <3> \n",
      "\n"
     ]
    }
   ],
   "source": [
    "\n",
    "g = DFSGraph()\n",
    "\n",
    "for i in range(6):\n",
    "    g.addVertex(i)\n",
    "# from, to, weight\n",
    "L= ( (0,1,5), (0,5,2), (1,2,4), (2,3,9), (3,4,7), (3,5,3), (4,0,1), (5,4,8), (5,2,1) )\n",
    "for x in L:\n",
    "    from_vertex, to_vertex, weight = x[0],x[1],x[2]\n",
    "    g.addEdge(from_vertex, to_vertex, weight)\n",
    "g.topologicalSorting()  \n",
    "p=g.transpose()\n",
    "p.printEdges()"
   ]
  },
  {
   "cell_type": "code",
   "execution_count": 89,
   "metadata": {},
   "outputs": [
    {
     "name": "stdout",
     "output_type": "stream",
     "text": [
      "Graph:\n",
      "A (0:0) -- \n",
      "B (0:0) -- \n",
      "\n"
     ]
    }
   ],
   "source": [
    "g = Graph()\n",
    "for i in [ \"A\", \"B\"]:\n",
    "    g.addVertex (i)\n",
    "print (g)"
   ]
  },
  {
   "cell_type": "markdown",
   "metadata": {},
   "source": [
    "<h1><a href='http://interactivepython.org/runestone/static/pythonds/Graphs/TheWordLadderProblem.html'> 7.7. The Word Ladder Problem</a></h1>"
   ]
  },
  {
   "cell_type": "markdown",
   "metadata": {},
   "source": [
    "FOOL --> POOL -->\n",
    "POLL -->\n",
    "POLE -->\n",
    "PALE -->\n",
    "SALE -->\n",
    "SAGE"
   ]
  },
  {
   "cell_type": "markdown",
   "metadata": {},
   "source": [
    "Solution:\n",
    "\n",
    "* Represent the relationships between the words as a graph.\n",
    "* Use the graph algorithm known as breadth first search to find an efficient path from the starting word to the ending word."
   ]
  },
  {
   "cell_type": "markdown",
   "metadata": {},
   "source": [
    "<h1><a href='http://interactivepython.org/runestone/static/pythonds/Graphs/BuildingtheWordLadderGraph.html'> 7.8. Building the Word Ladder Graph</a></h1>"
   ]
  },
  {
   "cell_type": "markdown",
   "metadata": {},
   "source": [
    "<div class=\"binarySearch\">\n",
    "    <div style=\"float:left;margin-right:55px;\">\n",
    "    <figure>\n",
    "        <img src=\"images/word.ladder.graph.png\"  width=\"900\"  />\n",
    "        <figcaption style=\"text-align:center;\"> Word Ladder Graph  </figcaption>\n",
    "    </figure>\n",
    "    </div>\n",
    "    <div style=\"float:left;margin-right:55px;\">\n",
    "    <figure>\n",
    "        <img src=\"images/word.ladder.bucket.png\"  width=\"300\"  />\n",
    "        <figcaption style=\"text-align:center;\"> Word Ladder Buckets  </figcaption>\n",
    "    </figure>\n",
    "    </div>\n",
    "</div>"
   ]
  },
  {
   "cell_type": "markdown",
   "metadata": {},
   "source": [
    "<h1><a href='http://interactivepython.org/runestone/static/pythonds/Graphs/ImplementingBreadthFirstSearch.html'> 7.9. Implementing Breadth First Search (BFS) </a></h1>"
   ]
  },
  {
   "cell_type": "markdown",
   "metadata": {},
   "source": [
    "<div class=\"binarySearch\">\n",
    "    <div style=\"float:left;margin-right:55px;\">\n",
    "    <figure>\n",
    "        <img src=\"images/word.ladder.graph.0.png\"  width=\"900\"  />\n",
    "        <figcaption style=\"text-align:center;\"> Breadth First Search  </figcaption>\n",
    "    </figure>\n",
    "    </div>\n",
    "    <div style=\"float:left;margin-right:55px;\">\n",
    "    <figure>\n",
    "        <img src=\"images/word.ladder.graph.1.png\"  width=\"900\"  />\n",
    "        <figcaption style=\"text-align:center;\"> Breadth First Search  </figcaption>\n",
    "    </figure>\n",
    "    </div>\n",
    "</div>"
   ]
  },
  {
   "cell_type": "markdown",
   "metadata": {},
   "source": [
    "<h1><a href='http://interactivepython.org/runestone/static/pythonds/Graphs/BuildingtheWordLadderGraph.html> 7.8. 7.8. Building the Word Ladder Graph </a></h1>\n"
   ]
  },
  {
   "cell_type": "markdown",
   "metadata": {},
   "source": [
    "<h1><a href='http://interactivepython.org/runestone/static/pythonds/Graphs/BuildingtheWordLadderGraph.htm'> 7.8. Building the Word Ladder Graph</a></h1>"
   ]
  },
  {
   "cell_type": "code",
   "execution_count": 202,
   "metadata": {},
   "outputs": [],
   "source": [
    "\n",
    "#from Graph import Graph\n",
    "\n",
    "def buildGraph(wordFile):\n",
    "    d = {}\n",
    "    g = Graph()\n",
    "    wfile = open(wordFile,'r')\n",
    "    # create buckets of words that differ by one letter\n",
    "    for line in wfile:\n",
    "        word = line[:-1]\n",
    "        for i in range(len(word)):\n",
    "            bucket = word[:i] + '_' + word[i+1:]\n",
    "            if bucket in d:\n",
    "                d[bucket].append(word)\n",
    "            else:\n",
    "                d[bucket] = [word]\n",
    "    # add vertices and edges for words in the same bucket\n",
    "    for bucket in d.keys():\n",
    "        for word1 in d[bucket]:\n",
    "            for word2 in d[bucket]:\n",
    "                if word1 != word2:\n",
    "                    g.addEdge(word1,word2)\n",
    "    return g"
   ]
  },
  {
   "cell_type": "markdown",
   "metadata": {},
   "source": [
    "<h1>\n",
    "    7.9. Implementing Breadth First Search (\n",
    "    <a href='http://interactivepython.org/runestone/static/pythonds/Graphs/ImplementingBreadthFirstSearch.html'>  BFS </a>  ) Using Queue </h1>"
   ]
  },
  {
   "cell_type": "code",
   "execution_count": 203,
   "metadata": {},
   "outputs": [],
   "source": [
    "\n",
    "class Queue:\n",
    "    def __init__(self):\n",
    "        self.items = []\n",
    "\n",
    "    def isEmpty(self):\n",
    "        return self.items == []\n",
    "    \n",
    "    def enqueue(self, item):\n",
    "        self.items.insert(0,item)\n",
    "\n",
    "    def dequeue(self):\n",
    "        return self.items.pop()\n",
    "\n",
    "    def size(self):\n",
    "        return len(self.items)\n"
   ]
  },
  {
   "cell_type": "code",
   "execution_count": 204,
   "metadata": {},
   "outputs": [
    {
     "name": "stdout",
     "output_type": "stream",
     "text": [
      "Graph:\n",
      "BAGE connected to: ['SAGE']\n",
      "SAGE connected to: ['BAGE', 'SALE']\n",
      "FOOL connected to: ['POOL']\n",
      "POOL connected to: ['FOOL', 'POLL']\n",
      "POLL connected to: ['POOL', 'POLE']\n",
      "POLE connected to: ['POLL', 'PALE']\n",
      "PALE connected to: ['POLE', 'SALE']\n",
      "SALE connected to: ['PALE', 'SAGE']\n",
      "\n",
      "Backtrace Node SAGE (-1)-->SALE (-1)-->PALE (-1)-->POLE (-1)-->POLL (-1)-->POOL (-1)-->FOOL\n"
     ]
    }
   ],
   "source": [
    "#from Vertex import Vertex\n",
    "#from Graph import Graph\n",
    "#from Queue import Queue\n",
    "\n",
    "def bfs(g,start):\n",
    "  start.setDistance(0)\n",
    "  start.setPred(None)\n",
    "  vertQueue = Queue()   # use queue\n",
    "  vertQueue.enqueue(start)\n",
    "  while (vertQueue.size() > 0):\n",
    "    currentVert = vertQueue.dequeue()\n",
    "    for nbr in currentVert.getConnections():\n",
    "      if (nbr.getColor() == 'white'):\n",
    "        nbr.setColor('gray')\n",
    "        nbr.setDistance(currentVert.getDistance() + 1)\n",
    "        nbr.setPred(currentVert)\n",
    "        vertQueue.enqueue(nbr)\n",
    "    currentVert.setColor('black')\n",
    "\n",
    "\n",
    "def traverse(y):\n",
    "    x = y\n",
    "    print (\"Backtrace Node\", end=\" \")\n",
    "    while (x.getPred()):\n",
    "        i = x.getId()\n",
    "        y = x\n",
    "        x = x.getPred()\n",
    "        w = x.getWeight( y )\n",
    "        s = str(i) + \" (\" + str(w) + \")\"\n",
    "        print( s, end=\"-->\")\n",
    "\n",
    "    print(x.getId())\n",
    "\n",
    "g = buildGraph (\"word.ladder.txt\")\n",
    "print (g)\n",
    "w0 = \"fool\".upper()\n",
    "w1 = \"sage\".upper()\n",
    "\n",
    "bfs( g, g[w0])\n",
    "traverse(g[w1])\n",
    "\n"
   ]
  },
  {
   "cell_type": "markdown",
   "metadata": {},
   "source": [
    "<h1> The  <a href='https://www.jrmf.org/problems/ThreeJugs.pdf'> Three Jugs  </a> Problem and Its BFS Solution. </h1>"
   ]
  },
  {
   "cell_type": "markdown",
   "metadata": {},
   "source": [
    "* Use an implicit graph G where each node is a unique state (a,b,c) that represents the amount of water in each jug and each edge is a legal state transition by pouring water.\n",
    "* How may nodes could there be in G?\n",
    "* How any possible outgoing edge for each node"
   ]
  },
  {
   "cell_type": "markdown",
   "metadata": {},
   "source": [
    "<div class=\"binarySearch\">\n",
    "    <div style=\"float:left;margin-top:0px;\">\n",
    "    <figure>\n",
    "        <img src=\"images/water.jug.png\"  width=\"800\"  />\n",
    "        <figcaption style=\"text-align:center;\"> The BFS solution </figcaption>\n",
    "    </figure>\n",
    "    </div> \n",
    "</div>"
   ]
  },
  {
   "cell_type": "markdown",
   "metadata": {},
   "source": [
    "<h1> The  <a href='http://cut-the-knot.org/SimpleGames/FrogsAndToads.shtml'> Frogs and  Toads  </a> Problem and Its BFS Solution. </h1>"
   ]
  },
  {
   "cell_type": "markdown",
   "metadata": {},
   "source": [
    "* Use an implicit graph G where each node is a unique string of 'A' and 'Z' and a '-' that represents the positions of frogs and toads and the only empty spot,  and each edge is a legal state transition by moving a frog or toad.\n",
    "* How may nodes could there be in G?\n",
    "* How any possible outgoing edge for each node"
   ]
  },
  {
   "cell_type": "raw",
   "metadata": {},
   "source": [
    "      The Puzzle of 2 Frogs and 2 Toads\n",
    "------------------------------------\n",
    "         A move to right only.\n",
    "         Z move to left  only.\n",
    "------------------------------------\n",
    "\n",
    "0: ZZ-AA   \n",
    "1: -ZZAA   Z-ZAA   ZZA-A   ZZAA-   \n",
    "2: ZAZ-A   Z-AZA   \n",
    "3: ZA-ZA   ZAZA-   -ZAZA   \n",
    "4: -AZZA   ZAAZ-   ZA-AZ   AZ-ZA   \n",
    "5: A-ZZA   ZAA-Z   -AZAZ   AZAZ-   \n",
    "6: A-ZAZ   AZA-Z   \n",
    "7: AAZ-Z   A-AZZ   \n",
    "8: AA-ZZ\n"
   ]
  },
  {
   "cell_type": "raw",
   "metadata": {},
   "source": [
    "      The Puzzle of 3 Frogs and 3 Toads\n",
    "----------------------------------------------------------------\n",
    "         A move to right only.\n",
    "         Z move to left  only.\n",
    "----------------------------------------------------------------\n",
    "0: ZZZ-AAA   \n",
    " 1: Z-ZZAAA   ZZ-ZAAA   ZZZA-AA   ZZZAA-A   \n",
    " 2: -ZZZAAA   ZZAZ-AA   ZZ-AZAA   ZZZAAA-   \n",
    " 3: ZZA-ZAA   ZZAZA-A   ZZAZAA-   -ZZAZAA   Z-ZAZAA   \n",
    " 4: Z-AZZAA   ZZAAZ-A   ZZA-AZA   ZAZ-ZAA   \n",
    " 5: -ZAZZAA   ZA-ZZAA   ZZAA-ZA   ZZAAZA-   Z-AZAZA   ZAZAZ-A   \n",
    " 6: AZ-ZZAA   -AZZZAA   ZZAAAZ-   ZZAA-AZ   -ZAZAZA   ZA-ZAZA   ZAZA-ZA   ZAZAZA-   \n",
    " 7: A-ZZZAA   ZZAAA-Z   AZ-ZAZA   -AZZAZA   ZAAZ-ZA   ZA-AZZA   ZAZAAZ-   ZAZA-AZ   \n",
    " 8: A-ZZAZA   AZAZ-ZA   ZAA-ZZA   ZAAZAZ-   -AZAZZA   ZAZAA-Z   ZA-AZAZ   \n",
    " 9: AZA-ZZA   AZAZAZ-   ZAAZA-Z   A-ZAZZA   -AZAZAZ   ZAA-ZAZ   \n",
    "10: A-AZZZA   AZAZA-Z   ZAA-AZZ   AAZ-ZZA   A-ZAZAZ   ZAAAZ-Z   \n",
    "11: AA-ZZZA   AZA-AZZ   ZAAA-ZZ   AAZ-ZAZ   \n",
    "12: A-AZAZZ   AZAA-ZZ   AA-ZZAZ   AAZAZ-Z   \n",
    "13: AA-ZAZZ   AAZA-ZZ   \n",
    "14: AAAZ-ZZ   AA-AZZZ   \n",
    "15: AAA-ZZZ  "
   ]
  },
  {
   "cell_type": "markdown",
   "metadata": {},
   "source": [
    "<h1> Depth First Search (DFS) </h1>"
   ]
  },
  {
   "cell_type": "markdown",
   "metadata": {},
   "source": [
    "<h1> 7.11. The  <a href='http://interactivepython.org/runestone/static/pythonds/Graphs/TheKnightsTourProblem.html'>  Knight’s Tour Problem </a> and Its DFS solution </h1>"
   ]
  },
  {
   "cell_type": "markdown",
   "metadata": {},
   "source": [
    "* Represent the legal moves of a knight on a chessboard as a graph.\n",
    "* Use a graph algorithm (DFS) to find a path where every vertex on the graph is visited exactly once."
   ]
  },
  {
   "cell_type": "markdown",
   "metadata": {},
   "source": [
    "<h1>7.12. Building the<a href='http://interactivepython.org/runestone/static/pythonds/Graphs/BuildingtheKnightsTourGraph.html'>  Knight’s Tour Graph</a></h1>"
   ]
  },
  {
   "cell_type": "markdown",
   "metadata": {},
   "source": [
    "<div class=\"binarySearch\">\n",
    "    <div style=\"float:left;margin-top:95px;\">\n",
    "    <figure>\n",
    "        <img src=\"images/chess.knight.png\" height=\"400\" width=\"400\"  />\n",
    "        <figcaption style=\"text-align:center;\"> Legal Moves of Knight  </figcaption>\n",
    "    </figure>\n",
    "    </div> \n",
    "     <div style=\"float:left;margin-right:0px;\">\n",
    "    <figure>\n",
    "        <img src=\"images/chess.knight.tour.png\"  width=\"450\"  />\n",
    "        <figcaption style=\"text-align:center;\"> The Knight's Tour Graph  </figcaption>\n",
    "    </figure>\n",
    "    </div>\n",
    "\n",
    "</div>"
   ]
  },
  {
   "cell_type": "code",
   "execution_count": 205,
   "metadata": {},
   "outputs": [],
   "source": [
    "#listing 1\n",
    "\n",
    "\n",
    "def knightGraph(bdSize):\n",
    "    ktGraph = Graph()\n",
    "    for row in range(bdSize):\n",
    "       for col in range(bdSize):\n",
    "           nodeId = posToNodeId(row,col,bdSize)\n",
    "           newPositions = genLegalMoves(row,col,bdSize)\n",
    "           for e in newPositions:\n",
    "               nid = posToNodeId(e[0],e[1],bdSize)\n",
    "               ktGraph.addEdge(nodeId,nid)\n",
    "    return ktGraph\n",
    "\n",
    "def posToNodeId(row, column, board_size):\n",
    "    return (row * board_size) + column\n",
    "\n",
    "#listing 2\n",
    "def genLegalMoves(x,y,bdSize):\n",
    "    newMoves = []\n",
    "    moveOffsets = [(-1,-2),(-1,2),(-2,-1),(-2,1),\n",
    "                   ( 1,-2),( 1,2),( 2,-1),( 2,1)]\n",
    "    for i in moveOffsets:\n",
    "        newX = x + i[0]\n",
    "        newY = y + i[1]\n",
    "        if legalCoord(newX,bdSize) and \\\n",
    "                        legalCoord(newY,bdSize):\n",
    "            newMoves.append((newX,newY))\n",
    "    return newMoves\n",
    "\n",
    "def legalCoord(x,bdSize):\n",
    "    if x >= 0 and x < bdSize:\n",
    "        return True\n",
    "    else:\n",
    "        return False"
   ]
  },
  {
   "cell_type": "code",
   "execution_count": 206,
   "metadata": {},
   "outputs": [],
   "source": [
    "g = knightGraph (8)\n",
    "# print (g)"
   ]
  },
  {
   "cell_type": "markdown",
   "metadata": {},
   "source": [
    "<h1>\n",
    "<a href='http://interactivepython.org/runestone/static/pythonds/Graphs/ImplementingKnightsTour.html         '> 7.13. Implementing Knight’s Tour</a></h1>"
   ]
  },
  {
   "cell_type": "markdown",
   "metadata": {},
   "source": []
  },
  {
   "cell_type": "markdown",
   "metadata": {},
   "source": [
    "<div class=\"knightTour\">\n",
    "    <h1> <center> A simple example of knightTour in action </center> </h1><h2> <center> Using Depth First Search and Backtracking</center> </h2>\n",
    "    <div style=\"float:left;margin-right:0px;\">\n",
    "    <figure>\n",
    "        <img src=\"images/chess.knight.dfs.1.png\"  width=\"400\"  />\n",
    "        <figcaption style=\"text-align:center;\"> knightTour(0,path,A,6) (part 1)  </figcaption>\n",
    "    </figure>\n",
    "    </div>   \n",
    "    <div style=\"float:left;margin-right:0px;\">\n",
    "    <figure>\n",
    "        <img src=\"images/chess.knight.dfs.2.png\"  width=\"400\"  />\n",
    "        <figcaption style=\"text-align:center;\"> knightTour(0,path,A,6) (part 2) </figcaption>\n",
    "                <figcaption style=\"text-align:center;\">  The solution (path) has the values [A,B,D,E,F,C]</figcaption>\n",
    "    </figure>\n",
    "    </div>\n",
    "</div>"
   ]
  },
  {
   "cell_type": "code",
   "execution_count": 207,
   "metadata": {},
   "outputs": [],
   "source": [
    "#listing 3\n",
    "#from pythonds.graphs import Graph, Vertex\n",
    "def knightTour(n,path,u,limit):\n",
    "        u.setColor('gray')\n",
    "        path.append(u)\n",
    "        if n < limit:\n",
    "            nbrList = list(u.getConnections())\n",
    "            i = 0\n",
    "            done = False\n",
    "            while i < len(nbrList) and not done:\n",
    "                if nbrList[i].getColor() == 'white':\n",
    "                    done = knightTour(n+1, path, nbrList[i], limit)\n",
    "                i = i + 1\n",
    "            if not done:  # prepare to backtrack\n",
    "                path.pop()\n",
    "                u.setColor('white')\n",
    "        else:\n",
    "            done = True\n",
    "        return done"
   ]
  },
  {
   "cell_type": "markdown",
   "metadata": {},
   "source": [
    "<div class=\"knightTour\">\n",
    "    <div style=\"float:left;margin-right:0px;\">\n",
    "    <figure>\n",
    "        <img src=\"images/chess.knight.solution.png\"  width=\"400\"  />\n",
    "        <figcaption style=\"text-align:center;\"> A Complete Knight's Tour  </figcaption>\n",
    "    </figure>\n",
    "    </div>        \n",
    "</div>"
   ]
  },
  {
   "cell_type": "markdown",
   "metadata": {},
   "source": [
    "<h1><a href='http://interactivepython.org/runestone/static/pythonds/Graphs/KnightsTourAnalysis.html'> 7.14. Knight’s Tour Analysis </a></h1>"
   ]
  },
  {
   "cell_type": "markdown",
   "metadata": {},
   "source": [
    "<div class=\"binarySearch\">\n",
    "    <div style=\"float:left;margin-right:0px;\">\n",
    "    <figure>\n",
    "        <img src=\"images/chess.knight.move.2.png\"  width=\"400\"  />\n",
    "        <figcaption style=\"text-align:center;\"> Number of Legal Knight's Moves at Each Square   </figcaption>\n",
    "    </figure>\n",
    "    </div>        \n",
    "    <div style=\"float:left;margin-top:55px;\">\n",
    "    <figure>\n",
    "        <img src=\"images/chess.knight.move.1.png\" height=\"400\" width=\"400\"  />\n",
    "        <figcaption style=\"text-align:center;\"> Legal Moves of Knight  </figcaption>\n",
    "    </figure>\n",
    "    </div>\n",
    "</div>"
   ]
  },
  {
   "cell_type": "code",
   "execution_count": 208,
   "metadata": {},
   "outputs": [],
   "source": [
    "#listing 4 \n",
    "# Warnsdorff’s algorithm\n",
    "def orderByAvail(n):\n",
    "    resList = []\n",
    "    for v in n.getConnections():\n",
    "        if v.getColor() == 'white':\n",
    "            c = 0\n",
    "            for w in v.getConnections():\n",
    "                if w.getColor() == 'white':\n",
    "                    c = c + 1\n",
    "            resList.append((c,v))\n",
    "    resList.sort(key=lambda x: x[0])\n",
    "    return [y[1] for y in resList]"
   ]
  },
  {
   "cell_type": "markdown",
   "metadata": {},
   "source": [
    "<h1>\n",
    "<a href='http://interactivepython.org/runestone/static/pythonds/Graphs/GeneralDepthFirstSearch.html'> 7.15. General Depth First Search</a>\n",
    "    </h1>"
   ]
  },
  {
   "cell_type": "markdown",
   "metadata": {},
   "source": [
    "<div class=\"binarySearch\">\n",
    "    <div style=\"float:left;margin-right:55px;\">\n",
    "    <figure>\n",
    "        <img src=\"images/dfs.1.png\" width=\"400\"   />\n",
    "        <figcaption style=\"text-align:center;\"> Depth First Search (1)   </figcaption>\n",
    "    </figure>\n",
    "    </div>\n",
    "    <div style=\"float:left;margin-right:55px;\">\n",
    "    <figure>\n",
    "        <img src=\"images/dfs.2.png\" width=\"400\" />\n",
    "        <figcaption style=\"text-align:center;\"> Depth First Search (2)   </figcaption>\n",
    "    </figure>\n",
    "    </div>\n",
    "</div>"
   ]
  },
  {
   "cell_type": "markdown",
   "metadata": {},
   "source": [
    "<div class=\"binarySearch\">\n",
    "    <div style=\"float:left;margin-right:55px;\">\n",
    "    <figure>\n",
    "        <img src=\"images/dfs.3.png\" width=\"400\"   />\n",
    "        <figcaption style=\"text-align:center;\"> Depth First Search (3)   </figcaption>\n",
    "    </figure>\n",
    "    </div>\n",
    "    <div style=\"float:left;margin-right:55px;\">\n",
    "    <figure>\n",
    "        <img src=\"images/dfs.4.png\" width=\"400\" />\n",
    "        <figcaption style=\"text-align:center;\"> Depth First Search (4)   </figcaption>\n",
    "    </figure>\n",
    "    </div>\n",
    "</div>"
   ]
  },
  {
   "cell_type": "markdown",
   "metadata": {},
   "source": [
    "<h3>\n",
    "<a href='http://interactivepython.org/runestone/static/pythonds/Graphs/GeneralDepthFirstSearch.html'> The parenthesis property.</a>\n",
    "All the children of a particular node in the depth first tree have a later discovery time and an earlier finish time than their parent. \n",
    "\n",
    "The total time for depth first search is O(V+E).</h3>\n"
   ]
  },
  {
   "cell_type": "code",
   "execution_count": 4,
   "metadata": {},
   "outputs": [],
   "source": [
    "class DFSGraph(Graph):\n",
    "    def __init__(self):\n",
    "        super().__init__()\n",
    "        self.time = 0\n",
    "\n",
    "    def dfs(self):\n",
    "        for aVertex in self:\n",
    "            aVertex.setColor('white')\n",
    "            aVertex.setPred(-1)\n",
    "        for aVertex in self:\n",
    "            if aVertex.getColor() == 'white':\n",
    "                self.dfsvisit(aVertex)\n",
    "\n",
    "    def dfsvisit(self,startVertex):\n",
    "        startVertex.setColor('gray')\n",
    "        self.time += 1\n",
    "        startVertex.setDiscovery(self.time)\n",
    "        for nextVertex in startVertex.getConnections():\n",
    "            if nextVertex.getColor() == 'white':\n",
    "                nextVertex.setPred(startVertex)\n",
    "                self.dfsvisit(nextVertex)\n",
    "        startVertex.setColor('black')\n",
    "        self.time += 1\n",
    "        startVertex.setFinish(self.time)"
   ]
  },
  {
   "cell_type": "code",
   "execution_count": 5,
   "metadata": {},
   "outputs": [
    {
     "name": "stdout",
     "output_type": "stream",
     "text": [
      "Graph:\n",
      "0 connected to: [1, 5]\n",
      "1 connected to: [2]\n",
      "2 connected to: [3]\n",
      "3 connected to: [4, 5]\n",
      "4 connected to: [0]\n",
      "5 connected to: [4, 2]\n",
      "\n"
     ]
    }
   ],
   "source": [
    "g = Graph()\n",
    "\n",
    "for i in range(6):\n",
    "    g.addVertex(i)\n",
    "# from, to, weight\n",
    "L= ( (0,1,5), (0,5,2), (1,2,4), (2,3,9), (3,4,7), (3,5,3), (4,0,1), (5,4,8), (5,2,1) )\n",
    "for x in L:\n",
    "    from_vertex, to_vertex, weight = x[0],x[1],x[2]\n",
    "    g.addEdge(from_vertex, to_vertex, weight)\n",
    "        \n",
    "print( g )"
   ]
  },
  {
   "cell_type": "markdown",
   "metadata": {},
   "source": [
    "<h1>\n",
    "<a href='http://interactivepython.org/runestone/static/pythonds/Graphs/TopologicalSorting.html'> 7.17. Topological Sorting</a></h1>\n",
    "\n",
    "* Call dfs(g) for some graph g. The main reason we want to call depth first search is to compute the finish times for each of the vertices.\n",
    "* Store the vertices in a list in decreasing order of finish time.\n",
    "* Return the ordered list as the result of the topological sort."
   ]
  },
  {
   "cell_type": "markdown",
   "metadata": {},
   "source": [
    "<div class=\"binarySearch\">\n",
    "    <div style=\"float:center;margin-right:0px;\">\n",
    "<figcaption style=\"text-align:center;\"> Get Dressed  </figcaption>    <figure>\n",
    "        <img src=\"images/topo.sort.example.png\"  width=\"800\"  />\n",
    "        <figcaption style=\"text-align:center;\"> Topological ordering = the inverse order of the 2nd numbers  </figcaption>\n",
    "    </figure>\n",
    "    </div>\n",
    "</div>"
   ]
  },
  {
   "cell_type": "raw",
   "metadata": {},
   "source": [
    "In class exercise:\n",
    "\n",
    "Consider the example below. What are the discovered and finished times for each node, and the topological order? (Note that the answers can be not unique. To make the answer unique, we assume that lower-numbered edges are explored first.) \n",
    "1)\tNode A? Answer(1pt): ? | ?\n",
    "2)\tNode B? Answer(1pt): ? | ?\n",
    "3)\tNode C? Answer(1pt): ? | ?\n",
    "4)\tNode D? Answer(1pt): ? | ?\n",
    "5)\tNode E? Answer(1pt): ? | ?\n",
    "6)\tWhat is the topological order? Answer(1pt): \n"
   ]
  },
  {
   "cell_type": "markdown",
   "metadata": {},
   "source": [
    "<div class=\"binarySearch\">\n",
    "    <div style=\"float:left;margin-right:55px;\">\n",
    "    <figure>\n",
    "        <img src=\"images/topo.sort.exer.png\" height=\"400\" width=\"400\"  />\n",
    "        <figcaption style=\"text-align:center;\">   </figcaption>\n",
    "    </figure>\n",
    "    </div>\n",
    "</div>"
   ]
  },
  {
   "cell_type": "markdown",
   "metadata": {},
   "source": [
    "<h1>\n",
    "<a href='http://interactivepython.org/runestone/static/pythonds/Graphs/StronglyConnectedComponents.html         '> 7.18. Strongly Connected Components</a></h1>\n",
    "\n",
    "Tarjan's algorithms for the SCC problem.\n",
    "\n",
    "* Call dfs for the graph G to compute the finish times for each vertex.\n",
    "* Compute GT (Transposed graph).\n",
    "* Call dfs for the graph GT but in the main loop of DFS explore each vertex in decreasing order of finish time.\n",
    "* Each tree in the forest computed in step 3 is a strongly connected component. Output the vertex ids for each vertex in each tree in the forest to identify the component."
   ]
  },
  {
   "cell_type": "markdown",
   "metadata": {},
   "source": [
    "<div class=\"binarySearch\">\n",
    "    <div style=\"float:left;margin-right:55px;\">\n",
    "    <figure>\n",
    "        <img src=\"images/scc.png\" height=\"400\" width=\"400\"  />\n",
    "        <figcaption style=\"text-align:center;\"> Strongly Connected Graph (SCC)  </figcaption>\n",
    "    </figure>\n",
    "    </div>\n",
    "    <div style=\"float:left;margin-right:55px;\">\n",
    "    <figure>\n",
    "        <img src=\"images/scc.2.png\" height=\"400\" width=\"400\"  />\n",
    "        <figcaption style=\"text-align:center;\"> Strongly Connected Graph (SCC)  </figcaption>\n",
    "    </figure>\n",
    "    </div>\n",
    "</div>"
   ]
  },
  {
   "cell_type": "markdown",
   "metadata": {},
   "source": [
    "<div class=\"binarySearch\">\n",
    "    <div style=\"float:left;margin-right:55px;\">\n",
    "    <figure>\n",
    "        <img src=\"images/scc.step.1.png\" height=\"400\" width=\"400\"  />\n",
    "        <figcaption style=\"text-align:center;\"> Strongly Connected Graph (SCC)  </figcaption>\n",
    "    </figure>\n",
    "    </div>\n",
    "    <div style=\"float:left;margin-right:55px;\">\n",
    "    <figure>\n",
    "        <img src=\"images/scc.2.png\" height=\"400\" width=\"400\"  />\n",
    "        <figcaption style=\"text-align:center;\"> Strongly Connected Graph (SCC)  </figcaption>\n",
    "    </figure>\n",
    "    </div>\n",
    "</div>"
   ]
  },
  {
   "cell_type": "markdown",
   "metadata": {},
   "source": [
    "<h1>\n",
    "<a href='http://interactivepython.org/runestone/static/pythonds/Graphs/ShortestPathProblems.html         '> 7.19. Shortest Path Problems</a></h1>"
   ]
  },
  {
   "cell_type": "markdown",
   "metadata": {},
   "source": [
    "<div class=\"binarySearch\">\n",
    "    <div style=\"float:left;margin-right:55px;\">\n",
    "    <figure>\n",
    "        <img src=\"images/spt.png\" height=\"400\" width=\"400\"  />\n",
    "        <figcaption style=\"text-align:center;\">   \n",
    "        <a href='http://graphonline.ru/en/?graph=fSPEtgwJHloCJLSd'> Shortest Path Problems  </a>\n",
    "</figcaption>     \n",
    "    </figure>\n",
    "    </div>\n",
    "</div>"
   ]
  },
  {
   "cell_type": "markdown",
   "metadata": {},
   "source": [
    "<div class=\"binarySearch\">\n",
    "    <div style=\"float:left;margin-right:0px;\">\n",
    "    <figure>\n",
    "        <img src=\"images/dijkstra.step.1.png\"  width=\"300\"  />\n",
    "        <figcaption style=\"text-align:center;\">   \n",
    "        <a href='http://graphonline.ru/en/?graph=fSPEtgwJHloCJLSd'> Dijkstra's Algorithm  </a>\n",
    "</figcaption>     \n",
    "    </figure>\n",
    "    </div>\n",
    "    <div style=\"float:left;margin-right:0px;\">\n",
    "    <figure>\n",
    "        <img src=\"images/dijkstra.step.2.png\"  width=\"300\"  />\n",
    "        <figcaption style=\"text-align:center;\">   \n",
    "        <a href='http://graphonline.ru/en/?graph=fSPEtgwJHloCJLSd'> Dijkstra's Algorithm  </a>\n",
    "</figcaption>     \n",
    "    </figure>\n",
    "    </div>\n",
    "    <div style=\"float:left;margin-right:0px;\">\n",
    "    <figure>\n",
    "        <img src=\"images/dijkstra.step.3.png\"  width=\"300\"  />\n",
    "        <figcaption style=\"text-align:center;\">   \n",
    "        <a href='http://graphonline.ru/en/?graph=fSPEtgwJHloCJLSd'> Dijkstra's Algorithm  </a>\n",
    "</figcaption>     \n",
    "    </figure>\n",
    "    </div>\n",
    "</div>"
   ]
  },
  {
   "cell_type": "markdown",
   "metadata": {},
   "source": [
    "<h1>\n",
    "<a href='http://interactivepython.org/runestone/static/pythonds/Graphs/DijkstrasAlgorithm.html'> 7.20. Dijkstra’s Algorithm</a>: Priority Queue\n",
    "    </h1>"
   ]
  },
  {
   "cell_type": "code",
   "execution_count": 210,
   "metadata": {},
   "outputs": [],
   "source": [
    "# Bradley N. Miller, David L. Ranum\n",
    "# Introduction to Data Structures and Algorithms in Python\n",
    "# Copyright 2005\n",
    "# \n",
    "import unittest\n",
    "import sys\n",
    "# this implementation of binary heap takes key value pairs,\n",
    "# we will assume that the keys are all comparable\n",
    "\n",
    "class PriorityQueue:\n",
    "    def __init__(self):\n",
    "        self.heapArray = [(0,0)]\n",
    "        self.currentSize = 0\n",
    "\n",
    "    def buildHeap(self,alist):\n",
    "        self.currentSize = len(alist)\n",
    "        self.heapArray = [(0,0)]\n",
    "        for i in alist:\n",
    "            self.heapArray.append(i)\n",
    "        i = len(alist) // 2            \n",
    "        while (i > 0):\n",
    "            self.percDown(i)\n",
    "            i = i - 1\n",
    "                        \n",
    "    def percDown(self,i):\n",
    "        while (i * 2) <= self.currentSize:\n",
    "            mc = self.minChild(i)\n",
    "            if self.heapArray[i][0] > self.heapArray[mc][0]:\n",
    "                tmp = self.heapArray[i]\n",
    "                self.heapArray[i] = self.heapArray[mc]\n",
    "                self.heapArray[mc] = tmp\n",
    "            i = mc\n",
    "                \n",
    "    def minChild(self,i):\n",
    "        if i*2 > self.currentSize:\n",
    "            return -1\n",
    "        else:\n",
    "            if i*2 + 1 > self.currentSize:\n",
    "                return i*2\n",
    "            else:\n",
    "                if self.heapArray[i*2][0] < self.heapArray[i*2+1][0]:\n",
    "                    return i*2\n",
    "                else:\n",
    "                    return i*2+1\n",
    "\n",
    "    def percUp(self,i):\n",
    "        while i // 2 > 0:\n",
    "            if self.heapArray[i][0] < self.heapArray[i//2][0]:\n",
    "               tmp = self.heapArray[i//2]\n",
    "               self.heapArray[i//2] = self.heapArray[i]\n",
    "               self.heapArray[i] = tmp\n",
    "            i = i//2\n",
    " \n",
    "    def add(self,k):\n",
    "        self.heapArray.append(k)\n",
    "        self.currentSize = self.currentSize + 1\n",
    "        self.percUp(self.currentSize)\n",
    "\n",
    "    def delMin(self):\n",
    "        retval = self.heapArray[1][1]\n",
    "        self.heapArray[1] = self.heapArray[self.currentSize]\n",
    "        self.currentSize = self.currentSize - 1\n",
    "        self.heapArray.pop()\n",
    "        self.percDown(1)\n",
    "        return retval\n",
    "        \n",
    "    def isEmpty(self):\n",
    "        if self.currentSize == 0:\n",
    "            return True\n",
    "        else:\n",
    "            return False\n",
    "\n",
    "    def decreaseKey(self,val,amt):\n",
    "        # this is a little wierd, but we need to find the heap thing to decrease by\n",
    "        # looking at its value\n",
    "        done = False\n",
    "        i = 1\n",
    "        myKey = 0\n",
    "        while not done and i <= self.currentSize:\n",
    "            if self.heapArray[i][1] == val:\n",
    "                done = True\n",
    "                myKey = i\n",
    "            else:\n",
    "                i = i + 1\n",
    "        if myKey > 0:\n",
    "            self.heapArray[myKey] = (amt,self.heapArray[myKey][1])\n",
    "            self.percUp(myKey)\n",
    "            \n",
    "    def __contains__(self,vtx):\n",
    "        for pair in self.heapArray:\n",
    "            if pair[1] == vtx:\n",
    "                return True\n",
    "        return False\n",
    "        \n"
   ]
  },
  {
   "cell_type": "code",
   "execution_count": 211,
   "metadata": {},
   "outputs": [
    {
     "name": "stderr",
     "output_type": "stream",
     "text": [
      "testDecKey (__main__.TestBinHeap) ... ok\n",
      "testDelmin (__main__.TestBinHeap) ... ok\n",
      "testInsert (__main__.TestBinHeap) ... ok\n",
      "\n",
      "----------------------------------------------------------------------\n",
      "Ran 3 tests in 0.004s\n",
      "\n",
      "OK\n"
     ]
    },
    {
     "data": {
      "text/plain": [
       "<unittest.main.TestProgram at 0x112046b00>"
      ]
     },
     "execution_count": 211,
     "metadata": {},
     "output_type": "execute_result"
    }
   ],
   "source": [
    "class TestBinHeap(unittest.TestCase):\n",
    "    def setUp(self):\n",
    "        self.theHeap = PriorityQueue()\n",
    "        self.theHeap.add((2,'x'))\n",
    "        self.theHeap.add((3,'y'))\n",
    "        self.theHeap.add((5,'z'))\n",
    "        self.theHeap.add((6,'a'))\n",
    "        self.theHeap.add((4,'d'))\n",
    "\n",
    "\n",
    "    def testInsert(self):\n",
    "        assert self.theHeap.currentSize == 5\n",
    "\n",
    "    def testDelmin(self):\n",
    "        assert self.theHeap.delMin() == 'x'\n",
    "        assert self.theHeap.delMin() == 'y'\n",
    "    \n",
    "    def testDecKey(self):\n",
    "        self.theHeap.decreaseKey('d',1)\n",
    "        assert self.theHeap.delMin() == 'd'\n",
    "        \n",
    "unittest.main(argv=['ignored', '-v'], exit=False)\n"
   ]
  },
  {
   "cell_type": "markdown",
   "metadata": {},
   "source": [
    "<h1><a href='http://interactivepython.org/runestone/static/pythonds/Graphs/DijkstrasAlgorithm.html'>7.20. Dijkstra’s Algorithm </a></h1>"
   ]
  },
  {
   "cell_type": "code",
   "execution_count": 212,
   "metadata": {},
   "outputs": [],
   "source": [
    "def dijkstra(aGraph,start):\n",
    "    pq = PriorityQueue()\n",
    "    start.setDistance(0)\n",
    "    pq.buildHeap([(v.getDistance(),v) for v in aGraph])\n",
    "    count = 0\n",
    "\n",
    "    while not pq.isEmpty():\n",
    "        count += 1\n",
    "        currentVert = pq.delMin()\n",
    "        for nextVert in currentVert.getConnections():\n",
    "            newDist = currentVert.getDistance() \\\n",
    "                    + currentVert.getWeight(nextVert)\n",
    "            if newDist < nextVert.getDistance():\n",
    "                nextVert.setDistance( newDist )\n",
    "                nextVert.setPred(currentVert)\n",
    "                pq.decreaseKey(nextVert,newDist)\n",
    "    print (\"Dijkstra:\", count, \"nodes\", \"start at\", start.getId())"
   ]
  },
  {
   "cell_type": "code",
   "execution_count": 213,
   "metadata": {},
   "outputs": [],
   "source": [
    "def testDijkstra ():\n",
    "    g = Graph()\n",
    "\n",
    "    for i in range(6):\n",
    "        g.addVertex(i)\n",
    "\n",
    "    L= ( (0,1,5), (0,5,2), (1,2,4), (2,3,9), (3,4,7), (3,5,3), (4,0,1), (5,4,8), (5,2,1) )\n",
    "    for x in L:\n",
    "        g.addEdge(x[0],x[1],x[2])\n",
    "\n",
    "    #print (g)\n",
    "    dijkstra(g, g[0])\n",
    "\n",
    "    for i in range (n):\n",
    "        traverse(g[i])"
   ]
  },
  {
   "cell_type": "markdown",
   "metadata": {},
   "source": [
    "<h1><a href='http://interactivepython.org/runestone/static/pythonds/Graphs/AnalysisofDijkstrasAlgorithm.html'> 7.21. Analysis of Dijkstra’s Algorithm¶\n",
    "</a></h1>"
   ]
  },
  {
   "cell_type": "raw",
   "metadata": {},
   "source": [
    "running time is O((V+E)log(V))."
   ]
  },
  {
   "cell_type": "markdown",
   "metadata": {},
   "source": [
    "<h1><a href='http://interactivepython.org/runestone/static/pythonds/Graphs/PrimsSpanningTreeAlgorithm.html'> 7.22. </a>Prim’s Spanning Tree Algorithm </h1>"
   ]
  },
  {
   "cell_type": "markdown",
   "metadata": {},
   "source": [
    "<div class=\"binarySearch\">\n",
    "    <div style=\"float:left;margin-right:0px;\">\n",
    "    <figure>\n",
    "        <img src=\"images/prim.1.png\"  width=\"300\"  />\n",
    "        <figcaption style=\"text-align:center;\">   \n",
    "        <a href='http://interactivepython.org/runestone/static/pythonds/Graphs/PrimsSpanningTreeAlgorithm.html'> Prim's Algorithm  </a>\n",
    "</figcaption>     \n",
    "    </figure>\n",
    "    </div>\n",
    "    <div style=\"float:left;margin-right:0px;\">\n",
    "    <figure>\n",
    "        <img src=\"images/prim.2.png\"  width=\"300\"  />\n",
    "        <figcaption style=\"text-align:center;\">   \n",
    "        <a href='http://interactivepython.org/runestone/static/pythonds/Graphs/PrimsSpanningTreeAlgorithm.html'> Prim's Algorithm  </a>\n",
    "</figcaption>     \n",
    "    </figure>\n",
    "    </div>\n",
    "    <div style=\"float:left;margin-right:0px;\">\n",
    "    <figure>\n",
    "        <img src=\"images/prim.3.png\"  width=\"300\"  />\n",
    "        <figcaption style=\"text-align:center;\">   \n",
    "        <a href='hhttp://interactivepython.org/runestone/static/pythonds/Graphs/PrimsSpanningTreeAlgorithm.html'> Prim's Algorithm  </a>\n",
    "</figcaption>     \n",
    "    </figure>\n",
    "    </div>\n",
    "</div>"
   ]
  },
  {
   "cell_type": "markdown",
   "metadata": {},
   "source": [
    "<div class=\"binarySearch\">\n",
    "    <div style=\"float:left;margin-right:0px;\">\n",
    "    <figure>\n",
    "        <img src=\"images/prim.4.png\"  width=\"300\"  />\n",
    "        <figcaption style=\"text-align:center;\">   \n",
    "        <a href='http://interactivepython.org/runestone/static/pythonds/Graphs/PrimsSpanningTreeAlgorithm.html'> Prim's Algorithm  </a>\n",
    "</figcaption>     \n",
    "    </figure>\n",
    "    </div>\n",
    "    <div style=\"float:left;margin-right:0px;\">\n",
    "    <figure>\n",
    "        <img src=\"images/prim.5.png\"  width=\"300\"  />\n",
    "        <figcaption style=\"text-align:center;\">   \n",
    "        <a href='http://interactivepython.org/runestone/static/pythonds/Graphs/PrimsSpanningTreeAlgorithm.html'> Prim's Algorithm  </a>\n",
    "</figcaption>     \n",
    "    </figure>\n",
    "    </div>\n",
    "    <div style=\"float:left;margin-right:0px;\">\n",
    "    <figure>\n",
    "        <img src=\"images/prim.6.png\"  width=\"300\"  />\n",
    "        <figcaption style=\"text-align:center;\">   \n",
    "        <a href='hhttp://interactivepython.org/runestone/static/pythonds/Graphs/PrimsSpanningTreeAlgorithm.html'> Prim's Algorithm  </a>\n",
    "</figcaption>     \n",
    "    </figure>\n",
    "    </div>\n",
    "</div>"
   ]
  },
  {
   "cell_type": "markdown",
   "metadata": {},
   "source": [
    "<div class=\"binarySearch\">\n",
    "    <div style=\"float:left;margin-right:0px;\">\n",
    "    <figure>\n",
    "        <img src=\"images/prim.7.png\"  width=\"300\"  />\n",
    "        <figcaption style=\"text-align:center;\">   \n",
    "        <a href='http://interactivepython.org/runestone/static/pythonds/Graphs/PrimsSpanningTreeAlgorithm.html'> Prim's Algorithm  </a>\n",
    "</figcaption>     \n",
    "    </figure>\n",
    "    </div>\n",
    "</div>"
   ]
  },
  {
   "cell_type": "code",
   "execution_count": 214,
   "metadata": {},
   "outputs": [],
   "source": [
    "def prim(G,start):\n",
    "    pq = PriorityQueue()\n",
    "    for v in G:\n",
    "        v.setDistance(sys.maxsize)\n",
    "        v.setPred(None)\n",
    "    start.setDistance(0)\n",
    "    pq.buildHeap([(v.getDistance(),v) for v in G])\n",
    "    count = 0\n",
    "    p=None\n",
    "    while not pq.isEmpty():\n",
    "        count += 1\n",
    "        v = pq.delMin()\n",
    "        s =  \"Step \" + str(count) + \": add node \" +  str (v.id)\n",
    "\n",
    "        print (s)\n",
    "        for nextVert in v.getConnections():\n",
    "          newCost = v.getWeight(nextVert)\n",
    "          if nextVert in pq and newCost<nextVert.getDistance():\n",
    "              nextVert.setPred(v)\n",
    "              nextVert.setDistance(newCost)\n",
    "              pq.decreaseKey(nextVert,newCost)\n",
    "        p=v\n",
    "    print ( count )\n"
   ]
  },
  {
   "cell_type": "code",
   "execution_count": 215,
   "metadata": {},
   "outputs": [
    {
     "name": "stdout",
     "output_type": "stream",
     "text": [
      "Step 1: add node 0\n",
      "Step 2: add node 5\n",
      "Step 3: add node 2\n",
      "Step 4: add node 1\n",
      "Step 5: add node 4\n",
      "Step 6: add node 3\n",
      "6\n",
      "Backtrace Node 0\n",
      "Backtrace Node 1 (5)-->0\n",
      "Backtrace Node 2 (1)-->5 (2)-->0\n",
      "Backtrace Node 3 (9)-->2 (1)-->5 (2)-->0\n",
      "Backtrace Node 4 (8)-->5 (2)-->0\n",
      "Backtrace Node 5 (2)-->0\n"
     ]
    }
   ],
   "source": [
    "g = Graph()\n",
    "\n",
    "for i in range(6):\n",
    "    g.addVertex(i)\n",
    "\n",
    "L= ( (0,1,5), (0,5,2), (1,2,4), (2,3,9), (3,4,7), (3,5,3), (4,0,1), (5,4,8), (5,2,1) )\n",
    "for x in L:\n",
    "    g.addEdge(x[0],x[1],x[2])\n",
    "\n",
    "#print (g)\n",
    "prim ( g, g[0] )\n",
    "n=len(g)\n",
    "for i in range (n):\n",
    "    traverse(g.getVertex(i))"
   ]
  },
  {
   "cell_type": "raw",
   "metadata": {},
   "source": [
    "The running time is the same as Dijkstra's"
   ]
  },
  {
   "cell_type": "code",
   "execution_count": null,
   "metadata": {},
   "outputs": [],
   "source": []
  }
 ],
 "metadata": {
  "kernelspec": {
   "display_name": "Python 3",
   "language": "python",
   "name": "python3"
  },
  "language_info": {
   "codemirror_mode": {
    "name": "ipython",
    "version": 3
   },
   "file_extension": ".py",
   "mimetype": "text/x-python",
   "name": "python",
   "nbconvert_exporter": "python",
   "pygments_lexer": "ipython3",
   "version": "3.7.1"
  }
 },
 "nbformat": 4,
 "nbformat_minor": 2
}
