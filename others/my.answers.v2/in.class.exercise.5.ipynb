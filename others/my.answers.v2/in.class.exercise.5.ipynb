{
 "cells": [
  {
   "cell_type": "markdown",
   "metadata": {},
   "source": [
    "<h1>\n",
    " <a href= \"http://interactivepython.org/runestone/static/pythonds/SortSearch/toctree.html\"> In Class Exercise # 5 </a>\n",
    "    </h1?"
   ]
  },
  {
   "cell_type": "markdown",
   "metadata": {},
   "source": [
    "<h1> <a href= \"\n",
    "http://interactivepython.org/runestone/static/pythonds/SortSearch/DiscussionQuestions.html\"> \n",
    "    5.15. Discussion Questions\n",
    "</a>\n",
    "    </h1>"
   ]
  },
  {
   "cell_type": "raw",
   "metadata": {},
   "source": [
    "Using the hash table performance formulas given in the chapter, compute the average number of comparisons necessary when the table is\n",
    "\n",
    "10% full\n",
    "25% full\n",
    "50% full\n",
    "75% full\n",
    "90% full\n",
    "99% full\n",
    "At what point do you think the hash table is too small? Explain."
   ]
  },
  {
   "cell_type": "raw",
   "metadata": {},
   "source": [
    "Modify the hash function for strings to use positional weightings."
   ]
  },
  {
   "cell_type": "raw",
   "metadata": {},
   "source": [
    "We used a hash function for strings that weighted the characters by position. Devise an alternative weighting scheme. What are the biases that exist with these functions?"
   ]
  },
  {
   "cell_type": "raw",
   "metadata": {},
   "source": [
    "Research perfect hash functions. Using a list of names (classmates, family members, etc.), generate the hash values using the perfect hash algorithm."
   ]
  },
  {
   "cell_type": "raw",
   "metadata": {},
   "source": [
    "Generate a random list of integers. Show how this list is sorted by the following algorithms:\n",
    "\n",
    "bubble sort\n",
    "selection sort\n",
    "insertion sort\n",
    "shell sort (you decide on the increments)\n",
    "merge sort\n",
    "quick sort (you decide on the pivot value)"
   ]
  },
  {
   "cell_type": "raw",
   "metadata": {},
   "source": [
    "Generate a random list of integers. Show how this list is sorted by the following algorithms:\n",
    "\n",
    "bubble sort\n",
    "selection sort\n",
    "insertion sort\n",
    "shell sort (you decide on the increments)\n",
    "merge sort\n",
    "quick sort (you decide on the pivot value)"
   ]
  },
  {
   "cell_type": "raw",
   "metadata": {},
   "source": [
    "Consider the following list of integers: [1,2,3,4,5,6,7,8,9,10]. \n",
    "Show how this list is sorted by the following algorithms:\n",
    "bubble sort\n",
    "selection sort\n",
    "insertion sort\n",
    "shell sort (you decide on the increments)\n",
    "merge sort\n",
    "quick sort (you decide on the pivot value)"
   ]
  },
  {
   "cell_type": "raw",
   "metadata": {},
   "source": [
    "Consider the following list of integers: \n",
    "[10,9,8,7,6,5,4,3,2,1]. \n",
    "Show how this list is sorted by the following algorithms:\n",
    "\n",
    "bubble sort\n",
    "selection sort\n",
    "insertion sort\n",
    "shell sort (you decide on the increments)\n",
    "merge sort\n",
    "quick sort (you decide on the pivot value)"
   ]
  },
  {
   "cell_type": "raw",
   "metadata": {},
   "source": [
    "\n",
    "Consider the list of characters: ['P','Y','T','H','O','N']. \n",
    "Show how this list is sorted using the following algorithms:\n",
    "bubble sort\n",
    "selection sort\n",
    "insertion sort\n",
    "shell sort (you decide on the increments)\n",
    "merge sort\n",
    "quick sort (you decide on the pivot value)"
   ]
  },
  {
   "cell_type": "raw",
   "metadata": {},
   "source": [
    "Devise alternative strategies for choosing the pivot value in quick sort. \n",
    "For example, pick the middle item. \n",
    "Re-implement the algorithm and then execute it on random data sets. \n",
    "Under what criteria does your new strategy perform better or worse than the strategy from this chapter?"
   ]
  },
  {
   "cell_type": "code",
   "execution_count": null,
   "metadata": {},
   "outputs": [],
   "source": []
  }
 ],
 "metadata": {
  "kernelspec": {
   "display_name": "Python 3",
   "language": "python",
   "name": "python3"
  },
  "language_info": {
   "codemirror_mode": {
    "name": "ipython",
    "version": 3
   },
   "file_extension": ".py",
   "mimetype": "text/x-python",
   "name": "python",
   "nbconvert_exporter": "python",
   "pygments_lexer": "ipython3",
   "version": "3.7.1"
  }
 },
 "nbformat": 4,
 "nbformat_minor": 2
}
