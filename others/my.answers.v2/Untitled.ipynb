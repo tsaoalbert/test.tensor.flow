{
 "cells": [
  {
   "cell_type": "code",
   "execution_count": null,
   "metadata": {},
   "outputs": [],
   "source": [
    "The area of a rectangle is the rectangle’s length times its width. \n",
    "Write a porgram that asks for the length and width of two rectangles. \n",
    "The program should tell the user which rectangle has the greater area, or if the areas are the same.\n"
   ]
  },
  {
   "cell_type": "code",
   "execution_count": null,
   "metadata": {},
   "outputs": [],
   "source": [
    "#step 1: input\n",
    "prompt = \"Please input the length of rectangle 1 \"\n",
    "length_1 = input (prompt)\n",
    "length_1 = float ( length_1 )\n",
    "\n",
    "prompt = \"Please input the width of rectangle 1 \"\n",
    "width_1 = input (prompt)\n",
    "width_1 = float ( width_1 )\n",
    "\n",
    "prompt = \"Please input the length of rectangle 2 \"\n",
    "length_2 = input (prompt)\n",
    "length_2 = float ( length_1 )\n",
    "\n",
    "prompt = \"Please input the width of rectangle 2 \"\n",
    "width_2 = input (prompt)\n",
    "width_2 = float ( width_2 )\n",
    "\n",
    "#step 2: Process \n",
    "area1 = length_1 * width_1\n",
    "area2 = length_2 * width_2\n",
    "\n",
    "#step3: Output\n",
    "if area1 == area2:\n",
    "    print (\"The areas are the same\")\n",
    "elif area1 > area2:\n",
    "    print (\"Rectange 1 has the greater area.\")\n",
    "else:\n",
    "    print (\"Rectange 2 has the greater area.\")"
   ]
  }
 ],
 "metadata": {
  "kernelspec": {
   "display_name": "Python 3",
   "language": "python",
   "name": "python3"
  },
  "language_info": {
   "codemirror_mode": {
    "name": "ipython",
    "version": 3
   },
   "file_extension": ".py",
   "mimetype": "text/x-python",
   "name": "python",
   "nbconvert_exporter": "python",
   "pygments_lexer": "ipython3",
   "version": "3.7.1"
  }
 },
 "nbformat": 4,
 "nbformat_minor": 2
}
