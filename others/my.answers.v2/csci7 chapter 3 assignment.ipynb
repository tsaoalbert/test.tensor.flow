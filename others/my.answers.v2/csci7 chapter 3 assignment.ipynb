{
 "cells": [
  {
   "cell_type": "code",
   "execution_count": 40,
   "metadata": {},
   "outputs": [
    {
     "name": "stdout",
     "output_type": "stream",
     "text": [
      "Enter a number of seconds 99999\n",
      "         1 day(s)\n",
      "         3 hour(s)\n",
      "        46 minute(s)\n",
      "        39 second(s)\n"
     ]
    }
   ],
   "source": [
    "#step1: Input\n",
    "total_seconds = int ( input(\"Enter a number of seconds \"))\n",
    "\n",
    "#Step 2: Process\n",
    "total_minutes = total_seconds//60\n",
    "total_hours   = total_minutes//60\n",
    "total_days    = total_hours  //24\n",
    "\n",
    "s = total_seconds%60\n",
    "m = total_minutes%60\n",
    "h = total_hours%24\n",
    "d = total_days\n",
    "\n",
    "#Step 3: Output\n",
    "if total_seconds >= 86400:\n",
    "    print (\"%10d day(s)\" % (d) )    # print out days\n",
    "if total_seconds >=3600:   # print out hours\n",
    "    print (\"%10d hour(s)\" % (h))    # print out hours\n",
    "if total_seconds >=60:   # print out minutes\n",
    "    print (\"%10d minute(s)\" % (m) )    # print out minutes\n",
    "\n",
    "print ( \"%10d second(s)\" % (s) )    # print out seconds at last\n"
   ]
  },
  {
   "cell_type": "code",
   "execution_count": null,
   "metadata": {},
   "outputs": [],
   "source": [
    "The area of a rectangle is the rectangle’s length times its width. \n",
    "Write a porgram that asks for the length and width of two rectangles. \n",
    "The program should tell the user which rectangle has the greater area, or if the areas are the same.\n"
   ]
  },
  {
   "cell_type": "code",
   "execution_count": null,
   "metadata": {},
   "outputs": [],
   "source": [
    "#step 1: input\n",
    "prompt = \"Please input the length of rectangle 1 \"\n",
    "length_1 = input (prompt)\n",
    "length_1 = float ( length_1 )\n",
    "\n",
    "prompt = \"Please input the width of rectangle 1 \"\n",
    "width_1 = input (prompt)\n",
    "width_1 = float ( width_1 )\n",
    "\n",
    "prompt = \"Please input the length of rectangle 2 \"\n",
    "length_2 = input (prompt)\n",
    "length_2 = float ( length_1 )\n",
    "\n",
    "prompt = \"Please input the width of rectangle 2 \"\n",
    "width_2 = input (prompt)\n",
    "width_2 = float ( width_2 )\n",
    "\n",
    "#step 2: Process \n",
    "area1 = length_1 * width_1\n",
    "area2 = length_2 * width_2\n",
    "\n",
    "#step3: Output\n",
    "if area1 == area2:\n",
    "    print (\"The areas are the same\")\n",
    "elif area1 > area2:\n",
    "    print (\"Rectange 1 has the greater area.\")\n",
    "else:\n",
    "    print (\"Rectange 2 has the greater area.\")"
   ]
  },
  {
   "cell_type": "code",
   "execution_count": null,
   "metadata": {},
   "outputs": [],
   "source": [
    "Write a program that asks the user to enter a number of seconds and works as follows:\n",
    "\n",
    "There are 60 seconds in a minute. \n",
    "If the number of seconds entered by the user is greater than or equal to 60, the program should convert the number of seconds to minutes and seconds.\n",
    "\n",
    "There are 3600 seconds in an hour. \n",
    "If the number of seconds entered by the user is greater than or equal to 3600, the program should convert the number of seconds to hours, minutes and seconds.\n",
    "\n",
    "There are 86400 seconds in a day. \n",
    "If the number of seconds entered by the user is greater than or equal to 86400, the program should convert the number of seconds to days, hours, minutes and seconds.\n"
   ]
  },
  {
   "cell_type": "code",
   "execution_count": null,
   "metadata": {},
   "outputs": [],
   "source": []
  }
 ],
 "metadata": {
  "kernelspec": {
   "display_name": "Python 3",
   "language": "python",
   "name": "python3"
  },
  "language_info": {
   "codemirror_mode": {
    "name": "ipython",
    "version": 3
   },
   "file_extension": ".py",
   "mimetype": "text/x-python",
   "name": "python",
   "nbconvert_exporter": "python",
   "pygments_lexer": "ipython3",
   "version": "3.7.1"
  }
 },
 "nbformat": 4,
 "nbformat_minor": 2
}
