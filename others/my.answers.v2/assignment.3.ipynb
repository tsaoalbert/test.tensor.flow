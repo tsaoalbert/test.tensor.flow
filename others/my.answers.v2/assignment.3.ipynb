{
 "cells": [
  {
   "cell_type": "markdown",
   "metadata": {},
   "source": [
    "<h1> Assignments #3:  <a href='http://interactivepython.org/runestone/static/pythonds/BasicDS/toctree.html'> \n",
    "Basic Data Structures </a> </h1>"
   ]
  },
  {
   "cell_type": "markdown",
   "metadata": {},
   "source": [
    "<h3> <a href='\n",
    "http://interactivepython.org/runestone/static/pythonds/BasicDS/ProgrammingExercises.html  \n",
    "'>   Programming Exercises  </a> </h3>"
   ]
  },
  {
   "cell_type": "markdown",
   "metadata": {},
   "source": [
    "* 3.1 Modify the infix-to-postfix algorithm so that it can handle errors.\n",
    "* 3.2 Modify the postfix evaluation algorithm so that it can handle errors.\n",
    "* 3.3 Implement a direct infix evaluator that combines both infix-to-postfix conversion \n",
    "* 3.4 Turn your direct infix evaluator from the previous problem into a calculator that can handles arithmetic operators +,-,*,/, //, %, ** and parenthesis."
   ]
  },
  {
   "cell_type": "markdown",
   "metadata": {},
   "source": [
    "* 3.12 Extend the program from Listing 2.15 to handle palindromes with spaces. For example, I PREFER PI is a palindrome that reads the same forward and backward if you ignore the blank characters."
   ]
  },
  {
   "cell_type": "markdown",
   "metadata": {},
   "source": [
    "Extend the program from Listing 2.15 to handle palindromes with spaces. For example, I PREFER PI is a palindrome that reads the same forward and backward if you ignore the blank characters."
   ]
  },
  {
   "cell_type": "markdown",
   "metadata": {},
   "source": [
    "Modify the unorderedList class as follows:\n",
    "* allow duplicates\n",
    "* remove method can work correctly on non-existing items\n",
    "* Improve the time of length method to O(1)\n",
    "* Implement __str__ method so that lists are displayed the Python way\n",
    "* Implement the remaining operations defined in the UnorderedList ADT (append, index, pop, insert)."
   ]
  },
  {
   "cell_type": "markdown",
   "metadata": {},
   "source": [
    "Use a singly linked list with both head  tail pointer to implement a queue that would have an average performance of O(1) for enqueue and dequeue operations.\n"
   ]
  },
  {
   "cell_type": "markdown",
   "metadata": {},
   "source": [
    "Use doubly linked lists to implement queue, stack, and deque that would have have an average performance of O(1)  for operations of adding or removing operations."
   ]
  },
  {
   "cell_type": "markdown",
   "metadata": {},
   "source": [
    "You may make use of the following starter program to finish your work."
   ]
  },
  {
   "cell_type": "code",
   "execution_count": 84,
   "metadata": {},
   "outputs": [],
   "source": [
    "#!/usr/bin/env python\n",
    "\"\"\"\n",
    "3.12 Extend the program from Listing 2.15 to handle palindromes with spaces. \n",
    "For example, I PREFER PI is a palindrome that reads the same forward and backward if you ignore the blank characters.\n",
    "\"\"\"\n",
    "from pythonds.basic.deque import Deque\n",
    "import string\n",
    "\n",
    "def palchecker(aString):\n",
    "    aString = ''.join(e for e in aString if e.isalpha())\n",
    "    aString = aString.upper()\n",
    "    chardeque = Deque()\n",
    "\n",
    "    for ch in aString:\n",
    "        chardeque.addRear(ch)\n",
    "\n",
    "    stillEqual = True\n",
    "\n",
    "    while chardeque.size() > 1 and stillEqual:\n",
    "        first = chardeque.removeFront()\n",
    "        last = chardeque.removeRear()\n",
    "        if first != last:\n",
    "            stillEqual = False\n",
    "\n",
    "    return stillEqual\n",
    "A = [ \"A Nut for a Jar of Tuna\", \"A But Tuba\", \"As I Pee, Sir, I See Pisa\", \\\n",
    "        \"A Toyota's a Toyota\", \"No X in Nixon\", \"radar\",  \"I prefer pi\", \"Race car\" ] \n",
    "for s in A:\n",
    "    assert palchecker (s)\n",
    "\n",
    "assert (not palchecker(\"lsdkjfskf\"))\n",
    "\n"
   ]
  },
  {
   "cell_type": "code",
   "execution_count": 78,
   "metadata": {},
   "outputs": [],
   "source": [
    "#!/usr/bin/env python\n",
    "\n",
    "class Node:\n",
    "    def __init__(self,initdata):\n",
    "        self.data = initdata\n",
    "        self.next = None\n",
    "\n",
    "    def getData(self):\n",
    "        return self.data\n",
    "\n",
    "    def __str__(self):\n",
    "        return self.data\n",
    "\n",
    "    def getNext(self):\n",
    "        return self.next\n",
    "\n",
    "    def setData(self,newdata):\n",
    "        self.data = newdata\n",
    "\n",
    "    def setNext(self,newnext):\n",
    "        self.next = newnext"
   ]
  },
  {
   "cell_type": "markdown",
   "metadata": {},
   "source": [
    "<h2>  3.20  <a href='http://interactivepython.org/runestone/static/pythonds/BasicDS/TheUnorderedListAbstractDataType.html'> The Unordered List Abstract Data Type </a></h2>\n",
    "\n",
    "* List() \n",
    "\n",
    "* isEmpty() \n",
    "* size()            # xxx can be improved to O(1)\n",
    "\n",
    "* index(item)       # done\n",
    "* search(item) \n",
    "\n",
    "* add(item)         # add at front\n",
    "* append(item)      # add at last, xxx not done yet\n",
    "* insert(pos,item)  # not done yet\n",
    "\n",
    "\n",
    "* remove(item)    # consider non-existing or duplicate items\n",
    "* pop()           # pop the last item xxx not done yet\n",
    "* pop(pos) \n",
    "\n",
    "* tolist()        # convert to Python list\n",
    "*__str__          # xxx to be displayed like the Python array\n",
    "*__len__"
   ]
  },
  {
   "cell_type": "markdown",
   "metadata": {},
   "source": [
    "Modify the unorderedList class as follows:\n",
    "* Improve the time of length method to O(1)\n",
    "* Allow duplicates. Which methods will be impacted by this change? \n",
    "* Remove method can work correctly on non-existing items\n",
    "* Implement __str__ method so that lists are displayed the Python way\n",
    "* Implement the remaining operations defined in the UnorderedList ADT (append, index, pop, insert)."
   ]
  },
  {
   "cell_type": "code",
   "execution_count": 85,
   "metadata": {},
   "outputs": [],
   "source": [
    "#!/usr/bin/env python\n",
    "\n",
    "class UnorderedList:  # Singly Linked List\n",
    "    def __init__(self, L=[]):\n",
    "        self.count = 0    \n",
    "        self.head = self.tail = None\n",
    "        for x in L:\n",
    "            self.append (x)\n",
    "\n",
    "    def isEmpty(self):\n",
    "        return self.count == 0\n",
    "            \n",
    "    # O(n)\n",
    "    def __getitem__(self,i): # index \n",
    "        cnt = 0 \n",
    "        current = self.head\n",
    "        while current != None and cnt < i :\n",
    "            current = current.getNext()\n",
    "            cnt += 1\n",
    "        if ( current==None):\n",
    "          return None\n",
    "        else:\n",
    "          return current.getData()\n",
    "        \n",
    "\n",
    "    \n",
    "    def search(self,item):\n",
    "        current = self.head\n",
    "        found = False\n",
    "        while current != None and not found:\n",
    "            if current.getData() == item:\n",
    "                found = True\n",
    "            else:\n",
    "                current = current.getNext()\n",
    "        return found\n",
    "                \n",
    "        \n",
    "        \n",
    "    # push front, time O(1)\n",
    "    def pushFront(self,item):      # add at the list head\n",
    "        self.count += 1\n",
    "        temp = Node(item)\n",
    "        temp.setNext(self.head)\n",
    "        self.head = temp\n",
    "        \n",
    "    def add(self,item):                # add at the list head\n",
    "        self.pushFront(item)   \n",
    "        \n",
    "    # xxx with tail pointer, append() can take time O(1) only\n",
    "    def append( self, item ):  # xxx add a new item to the end of the list \n",
    "        self.count += 1\n",
    "        temp = Node(item)\n",
    "        if self.head ==None:\n",
    "            self.head = self.tail = temp\n",
    "        else:\n",
    "            self.tail.setNext(temp) \n",
    "            self.tail = temp \n",
    "            \n",
    "    def insert(self, pos,item): \n",
    "        pass   \n",
    "\n",
    "    # xxx consider the self.tail pointer\n",
    "    def remove(self,item): # does not remove the duplicate of the item\n",
    "        current = self.head\n",
    "        previous = None\n",
    "        found = False\n",
    "        while current!=None and not found:\n",
    "            if current.getData() == item:\n",
    "                found = True\n",
    "            else:\n",
    "                previous = current\n",
    "                current = current.getNext()\n",
    "\n",
    "        if found:\n",
    "          self.count -= 1\n",
    "          if self.tail == current:\n",
    "            self.tail = previous\n",
    "          if previous == None:\n",
    "            self.head = current.getNext()\n",
    "          else:\n",
    "            previous.setNext(current.getNext())\n",
    "        else:\n",
    "          print ( \"Cannot remove %d\" % (item) )\n",
    "        return current\n",
    "            \n",
    "    def pop(self): # removes and returns the last item in the list.\n",
    "        pass\n",
    "    \n",
    "    def pop(self, i): # removes and returns the  item indexed i\n",
    "        pass\n",
    "\n",
    "    #  take time O(1)\n",
    "    def popFront(self): # xxx for \n",
    "        if self.head == None:\n",
    "            return\n",
    "        temp = self.head\n",
    "        self.head = self.head.getNext ()\n",
    "        if self.head==None:\n",
    "            self.tail = None\n",
    "        return temp\n",
    "    \n",
    "    \n",
    "    def tolist (self):\n",
    "        ans = []\n",
    "        current = self.head\n",
    "        while current != None:\n",
    "            ans.append( current.getData() )\n",
    "            current = current.getNext()\n",
    "        return  (ans)\n",
    "    \n",
    "    def __str__(self):\n",
    "\n",
    "        return str (self.tolist() )\n",
    "    \n",
    "    def __len__(self): \n",
    "        return self.count\n",
    "    \n"
   ]
  },
  {
   "cell_type": "code",
   "execution_count": null,
   "metadata": {},
   "outputs": [],
   "source": [
    "def test1():\n",
    "    L = [ 31,77, 17, 93, 26, 54 ]\n",
    "    mylist = UnorderedList( L  )\n",
    "    assert  len (mylist) == 6\n",
    "    assert mylist.search(93)\n",
    "    assert not mylist.search(100)\n",
    "    mylist.add(100)\n",
    "    assert  mylist.search(100)\n",
    "    assert len ( mylist ) ==7\n",
    "\n",
    "    mylist.remove(54)\n",
    "    mylist.remove(93)\n",
    "    mylist.remove(31)\n",
    "    assert len (mylist) == 4\n",
    "    assert not mylist.search(93)\n",
    "    assert not mylist.remove(93)\n",
    "    assert mylist.tolist() == [100, 77, 17, 26]\n",
    "    assert mylist.search(100)\n",
    "test1()"
   ]
  }
 ],
 "metadata": {
  "kernelspec": {
   "display_name": "Python 3",
   "language": "python",
   "name": "python3"
  },
  "language_info": {
   "codemirror_mode": {
    "name": "ipython",
    "version": 3
   },
   "file_extension": ".py",
   "mimetype": "text/x-python",
   "name": "python",
   "nbconvert_exporter": "python",
   "pygments_lexer": "ipython3",
   "version": "3.7.1"
  }
 },
 "nbformat": 4,
 "nbformat_minor": 2
}
