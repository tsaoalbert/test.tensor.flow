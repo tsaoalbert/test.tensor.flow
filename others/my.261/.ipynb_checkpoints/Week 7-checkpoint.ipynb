{
 "cells": [
  {
   "cell_type": "code",
   "execution_count": null,
   "metadata": {
    "collapsed": true
   },
   "outputs": [],
   "source": [
    "# Lists\n",
    "# Interface\n",
    "# add(item)\n",
    "# remove(item)\n",
    "# search(item)\n",
    "# isEmpty()\n",
    "# size()\n",
    "# append(item)\n",
    "# index(item)\n",
    "# insert(pos, item)\n",
    "# pop(pos=-1)\n"
   ]
  },
  {
   "cell_type": "code",
   "execution_count": 45,
   "metadata": {},
   "outputs": [],
   "source": [
    "class Node:\n",
    "    def __init__(self, Data = None, Next = None):\n",
    "        self.data = Data\n",
    "        self.next = Next\n",
    "\n",
    "class ItemNotFoundException(Exception):\n",
    "    def __init__(self):\n",
    "        super().__init__('Item not found')\n",
    "        \n",
    "class IndexOutOfRangeException(Exception):\n",
    "    def __init__(self):\n",
    "        super().__init__('Index out of range')\n",
    "        \n",
    "class UnorderedList:\n",
    "    def __init__(self):\n",
    "        self.head = None\n",
    "        self.tail = None\n",
    "        self.length = 0\n",
    "        \n",
    "    def find_previous_node(self, item):\n",
    "        index = 0\n",
    "        prev = self.head\n",
    "        \n",
    "        # list is empty item not found\n",
    "        if self.head is None:\n",
    "            raise ItemNotFoundException\n",
    "        \n",
    "        # item is first thing in the list\n",
    "        if self.head.data == item:\n",
    "            return None, index\n",
    "        \n",
    "        # start at the beginning and work forward until the next item is the one i'm looking for\n",
    "        while not prev.next is None:\n",
    "            index += 1\n",
    "            if prev.next.data == item:\n",
    "                return prev, index\n",
    "            prev = prev.next\n",
    "            \n",
    "        # the item was never found\n",
    "        raise ItemNotFoundException\n",
    "            \n",
    "    def add(self, item):\n",
    "        self.head = Node(item, self.head)\n",
    "        if self.head.next is None:\n",
    "            self.tail = self.head\n",
    "        self.length += 1\n",
    "        pass\n",
    "    \n",
    "    def remove(self, item):\n",
    "        #raise Exception('Pass the maple syrup')\n",
    "        node, index = self.find_previous_node(item)\n",
    "        \n",
    "        if node is None:\n",
    "            # first item in the list\n",
    "            # move head forward one\n",
    "            self.head = self.head.next\n",
    "        else:\n",
    "            # not first in the list\n",
    "            # bypass from previous to next\n",
    "            node.next = node.next.next\n",
    "            \n",
    "        self.length -= 1\n",
    "        pass\n",
    "    \n",
    "    def search(self, item):\n",
    "        try:\n",
    "            node, index = self.find_previous_node(item)\n",
    "            return True\n",
    "        except ItemNotFoundException:\n",
    "            return False\n",
    "    \n",
    "    def isEmpty(self):\n",
    "        return self.head is None\n",
    "    \n",
    "    def size(self):\n",
    "        return self.length\n",
    "        pass\n",
    "    \n",
    "    def append(self, item):\n",
    "        \n",
    "        # if this list is empty, add at the beginning\n",
    "        if self.isEmpty():\n",
    "            self.add(item) # also takes care of tail\n",
    "        else:\n",
    "            self.tail.next = Node(item)\n",
    "            self.tail = self.tail.next\n",
    "            \n",
    "            self.length += 1\n",
    "        pass\n",
    "    \n",
    "    def index(self, item):\n",
    "        node, index = self.find_previous_node(item)\n",
    "        return index\n",
    "        pass\n",
    "    \n",
    "    def insert(self, pos, item):\n",
    "        if pos > self.length:\n",
    "            raise IndexOutOfRangeException\n",
    "        elif self.length + 1 + pos < 0:\n",
    "            raise IndexOutOfRangeException\n",
    "        elif pos < 0:\n",
    "            # for negative positions shift forward by length of list + 1\n",
    "            pos += self.length + 1\n",
    "        \n",
    "        if pos == 0:\n",
    "            self.add(item)\n",
    "        elif pos == self.length:\n",
    "            self.append(item)\n",
    "        else:\n",
    "            node = self.head\n",
    "            \n",
    "            # move forward pos - 1 times\n",
    "            while pos > 1:\n",
    "                node = node.next\n",
    "                pos -= 1\n",
    "                \n",
    "            # add the node\n",
    "            node.next = Node(item, node.next)\n",
    "            \n",
    "            self.length += 1\n",
    "        pass\n",
    "    \n",
    "    def pop(self, pos = -1):\n",
    "        self.length -= 1\n",
    "        pass\n"
   ]
  },
  {
   "cell_type": "code",
   "execution_count": 47,
   "metadata": {},
   "outputs": [
    {
     "name": "stdout",
     "output_type": "stream",
     "text": [
      "The index of 5 is 2.\n",
      "The index of 6 is 1.\n",
      "The index of 7 is 0.\n",
      "The index of 9 is 4.\n"
     ]
    }
   ],
   "source": [
    "x = UnorderedList()\n",
    "x.add(5)\n",
    "x.add(6)\n",
    "x.add(7)\n",
    "x.append(9)\n",
    "x.insert(-2, 8)\n",
    "print ('The index of {} is {}.'.format(5, x.index(5)))\n",
    "print ('The index of {} is {}.'.format(6, x.index(6)))\n",
    "print ('The index of {} is {}.'.format(7, x.index(7)))\n",
    "print ('The index of {} is {}.'.format(9, x.index(9)))\n"
   ]
  },
  {
   "cell_type": "code",
   "execution_count": 17,
   "metadata": {
    "collapsed": true
   },
   "outputs": [],
   "source": [
    "x = UnorderedList()\n",
    "x.append(5)\n",
    "x.append(2)\n",
    "x.insert(3,1)\n",
    "x.insert(3,4)\n"
   ]
  },
  {
   "cell_type": "code",
   "execution_count": 36,
   "metadata": {
    "collapsed": true
   },
   "outputs": [],
   "source": [
    "from random import randint\n",
    "with open('test.csv','w') as fout:\n",
    "    for i in range(20):\n",
    "        fout.write('{},{},{}\\n'.format(randint(0,10000),randint(0,10000),randint(0,10000)))\n"
   ]
  },
  {
   "cell_type": "code",
   "execution_count": null,
   "metadata": {
    "collapsed": true
   },
   "outputs": [],
   "source": []
  }
 ],
 "metadata": {
  "kernelspec": {
   "display_name": "Python 3",
   "language": "python",
   "name": "python3"
  },
  "language_info": {
   "codemirror_mode": {
    "name": "ipython",
    "version": 3
   },
   "file_extension": ".py",
   "mimetype": "text/x-python",
   "name": "python",
   "nbconvert_exporter": "python",
   "pygments_lexer": "ipython3",
   "version": "3.7.1"
  }
 },
 "nbformat": 4,
 "nbformat_minor": 2
}
