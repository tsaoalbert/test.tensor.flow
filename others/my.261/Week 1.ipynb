{
 "cells": [
  {
   "cell_type": "code",
   "execution_count": 4,
   "metadata": {
    "collapsed": true,
    "scrolled": true
   },
   "outputs": [],
   "source": [
    "#1. Introductions\n",
    "\n",
    "#CSCI 261 -- Data Structures and Algorithms 1\n",
    "\n",
    "#Instructor\n",
    "#Moodle\n",
    "#Syllabus\n",
    "#Textbook\n",
    "#Autogradr\n"
   ]
  },
  {
   "cell_type": "code",
   "execution_count": 3,
   "metadata": {},
   "outputs": [
    {
     "name": "stdout",
     "output_type": "stream",
     "text": [
      "3.6.1 |Anaconda 4.4.0 (64-bit)| (default, May 11 2017, 13:25:24) [MSC v.1900 64 bit (AMD64)]\n"
     ]
    }
   ],
   "source": [
    "import sys\n",
    "\n",
    "print(sys.version)"
   ]
  },
  {
   "cell_type": "code",
   "execution_count": null,
   "metadata": {
    "collapsed": true
   },
   "outputs": [],
   "source": [
    "# What is a data structure?\n",
    "\n",
    "# A structure for decoding the meaning of data... the rosetta stone of bits\n",
    "\n",
    "# What is an algorithm?\n",
    "\n",
    "# A process for solving a problem by undertaking a predefined sequence of steps.\n",
    "\n",
    "# what is the difference between a good and bad data structure?\n",
    "# Efficiency... how much memory it uses?\n",
    "\n",
    "# what is the difference between a good and bad algorithm?\n",
    "# Speed and accuracy... "
   ]
  },
  {
   "cell_type": "code",
   "execution_count": 4,
   "metadata": {
    "collapsed": true
   },
   "outputs": [],
   "source": [
    "#2. Autogradr\n",
    "\n",
    "#Create an account\n",
    "#Register for the course\n",
    "#Review assignments\n",
    "#Start Lab 0"
   ]
  },
  {
   "cell_type": "code",
   "execution_count": null,
   "metadata": {
    "collapsed": true
   },
   "outputs": [],
   "source": []
  }
 ],
 "metadata": {
  "celltoolbar": "Slideshow",
  "kernelspec": {
   "display_name": "Python 3",
   "language": "python",
   "name": "python3"
  },
  "language_info": {
   "codemirror_mode": {
    "name": "ipython",
    "version": 3
   },
   "file_extension": ".py",
   "mimetype": "text/x-python",
   "name": "python",
   "nbconvert_exporter": "python",
   "pygments_lexer": "ipython3",
   "version": "3.7.1"
  }
 },
 "nbformat": 4,
 "nbformat_minor": 2
}
