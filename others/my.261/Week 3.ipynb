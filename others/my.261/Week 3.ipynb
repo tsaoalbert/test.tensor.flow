{
 "cells": [
  {
   "cell_type": "code",
   "execution_count": 4,
   "metadata": {},
   "outputs": [
    {
     "name": "stdout",
     "output_type": "stream",
     "text": [
      "Enter strings separated by commas\n",
      "one,two,five\n",
      "3\n",
      "one\n",
      "two\n",
      "five\n"
     ]
    }
   ],
   "source": [
    "# Python review\n",
    "text = input('Enter strings separated by commas\\n')\n",
    "items = text.split(',')\n",
    "print(len(items))\n",
    "for item in items:\n",
    "    print(item)"
   ]
  },
  {
   "cell_type": "code",
   "execution_count": 8,
   "metadata": {},
   "outputs": [
    {
     "name": "stdout",
     "output_type": "stream",
     "text": [
      "Enter filename\n",
      "jude.txt\n",
      "Jude \n",
      "1 Jud\n",
      "2 Mer\n",
      "3 Dea\n",
      "4 For\n",
      "5 Tho\n",
      "6 And\n",
      "7 In \n",
      "8 In \n",
      "9 But\n",
      "10 Ye\n",
      "11 Wo\n",
      "12 Th\n",
      "13 Th\n",
      "14 En\n",
      "15 to\n",
      "16 Th\n",
      "17 Bu\n",
      "18 Th\n",
      "19 Th\n",
      "20 Bu\n",
      "21 ke\n",
      "22 Be\n",
      "23 sa\n",
      "24 To\n",
      "25 to\n"
     ]
    }
   ],
   "source": [
    "# reading and writing files\n",
    "for line in open('..\\\\' + input('Enter filename\\n')):\n",
    "    print(line[:5])\n"
   ]
  },
  {
   "cell_type": "code",
   "execution_count": 5,
   "metadata": {},
   "outputs": [
    {
     "name": "stdout",
     "output_type": "stream",
     "text": [
      "Enter strings separated by commas\n",
      "one,one,one\n"
     ]
    }
   ],
   "source": [
    "# writing files\n",
    "text = input('Enter strings separated by commas\\n')\n",
    "fout = open('text.txt','w')\n",
    "fout.write('\\n'.join(text.split(',')))\n",
    "fout.close()"
   ]
  },
  {
   "cell_type": "code",
   "execution_count": null,
   "metadata": {
    "collapsed": true
   },
   "outputs": [],
   "source": [
    "# slicing arrays\n"
   ]
  },
  {
   "cell_type": "code",
   "execution_count": 8,
   "metadata": {},
   "outputs": [
    {
     "name": "stdout",
     "output_type": "stream",
     "text": [
      "doo\n",
      "{'scooby': 'doo', 'daphne': 'freddy'}\n"
     ]
    },
    {
     "data": {
      "text/plain": [
       "{'scooby': 'doo', 'shaggy': 'rogers'}"
      ]
     },
     "execution_count": 8,
     "metadata": {},
     "output_type": "execute_result"
    }
   ],
   "source": [
    "# dictionaries\n",
    "mydict = dict()\n",
    "mydict['scooby'] = 'doo'\n",
    "mydict['daphne'] = 'freddy'\n",
    "print(mydict['scooby'])\n",
    "print(mydict)\n",
    "dict(scooby='doo',shaggy='rogers')"
   ]
  },
  {
   "cell_type": "code",
   "execution_count": null,
   "metadata": {
    "collapsed": true
   },
   "outputs": [],
   "source": [
    "# classes\n",
    "# __init__\n",
    "# __str__\n",
    "# attributes\n",
    "# methods\n",
    "class Fruit:\n",
    "    pass\n",
    "\n",
    "fruit = Fruit()\n",
    "fruit.name = 'Apple'\n"
   ]
  },
  {
   "cell_type": "code",
   "execution_count": 9,
   "metadata": {},
   "outputs": [
    {
     "name": "stdout",
     "output_type": "stream",
     "text": [
      "Untitled by Unknown author\n",
      "The Great Gatsby by F. Scott Fitzgerald\n",
      "The Bible by Unknown author\n"
     ]
    }
   ],
   "source": [
    "class Book:\n",
    "    def __init__(self, title = 'Untitled', author = 'Unknown author'):\n",
    "        self.title = title\n",
    "        self.author = author\n",
    "    \n",
    "    def __str__(self):\n",
    "        return '{} by {}'.format(self.title, self.author)\n",
    "    \n",
    "x = Book()\n",
    "y = Book('The Great Gatsby', 'F. Scott Fitzgerald')\n",
    "z = Book('The Bible')\n",
    "\n",
    "print(x)\n",
    "print(y)\n",
    "print(z)\n"
   ]
  },
  {
   "cell_type": "code",
   "execution_count": 19,
   "metadata": {},
   "outputs": [
    {
     "name": "stdout",
     "output_type": "stream",
     "text": [
      "-1 + -2 i\n",
      "5.0\n",
      "0.3999999999999999 + 0.7999999999999998 i\n"
     ]
    }
   ],
   "source": [
    "import math\n",
    "\n",
    "# Complex class\n",
    "class Complex:\n",
    "    def __init__(self, x = 0, y = 0):\n",
    "        self.x = x\n",
    "        self.y = y\n",
    "\n",
    "    def __sca__(self, r):\n",
    "        return Complex(r*self.x, r*self.y)\n",
    "    def __neg__(self):\n",
    "        return self.__sca__(-1)\n",
    "    def __cong__(self):\n",
    "        return Complex(self.x, -self.y)\n",
    "    def __add__(self, q):\n",
    "        return Complex(self.x + q.x, self.y + q.y)\n",
    "    def __sub__(self, q):\n",
    "        return self + (-q)\n",
    "    def __mul__(self, q):\n",
    "        return Complex(self.x * q.x - self.y * q.y, self.x * q.y + self.y * q.x)\n",
    "    def __truediv__(self, q):\n",
    "        return (self * q.__cong__()).__sca__(1/abs(q)**2)\n",
    "    def __abs__(self):\n",
    "        return math.sqrt((self * self.__cong__()).x)\n",
    "    def __str__(self):\n",
    "        return '{} + {} i'.format(self.x, self.y) \n",
    "\n",
    "z1 = Complex(1, -2)\n",
    "z2 = Complex(2)\n",
    "\n",
    "print (z1-z2)\n",
    "print (abs(z1 * z1.__cong__()))\n",
    "print (z2 / z1)"
   ]
  },
  {
   "cell_type": "code",
   "execution_count": null,
   "metadata": {
    "collapsed": true
   },
   "outputs": [],
   "source": [
    "# testing the performance of a data structure\n",
    "#   comparisons\n",
    "#   processing time\n",
    "# O(1) vs. O(N)\n",
    "#   size invariant\n",
    "#   varies linearly with data structure size"
   ]
  },
  {
   "cell_type": "code",
   "execution_count": 13,
   "metadata": {},
   "outputs": [
    {
     "name": "stdout",
     "output_type": "stream",
     "text": [
      "Total: 17999997000000 in 0.6469295817556997 \"seconds\"\n"
     ]
    }
   ],
   "source": [
    "# example of testing processing time\n",
    "from time import process_time, perf_counter\n",
    "\n",
    "t0 = perf_counter()\n",
    "total = 0\n",
    "for i in range(6000000):\n",
    "    total += i\n",
    "t1 = perf_counter()\n",
    "print('Total:', total, 'in', t1-t0, '\"seconds\"')\n"
   ]
  },
  {
   "cell_type": "code",
   "execution_count": 5,
   "metadata": {},
   "outputs": [
    {
     "name": "stdout",
     "output_type": "stream",
     "text": [
      "1000 10000\n",
      "1.2125424630060024\n",
      "1200 10000\n",
      "1.4255838685358526\n",
      "1400 10000\n",
      "1.673521631538506\n",
      "1600 10000\n",
      "1.9231078442227272\n",
      "1800 10000\n",
      "2.123642541355821\n",
      "2000 10000\n",
      "2.394801759380641\n"
     ]
    }
   ],
   "source": [
    "# example of building a function to performance test a process\n",
    "# summing random numbers\n",
    "from time import process_time, perf_counter\n",
    "from random import random\n",
    "\n",
    "def random_sum_test(n, k):\n",
    "    '''\n",
    "    n = number of random numbers to sum\n",
    "    k = number of times to test the summing\n",
    "    '''\n",
    "    print (n, k)\n",
    "    t0 = perf_counter()\n",
    "    for j in range(k):\n",
    "        mylist = []\n",
    "        for i in range(n):\n",
    "            mylist.append(random())\n",
    "    t1 = perf_counter()\n",
    "    \n",
    "    return t1 - t0\n",
    "        \n",
    "print(random_sum_test(1000, 10000))\n",
    "print(random_sum_test(1200, 10000))\n",
    "print(random_sum_test(1400, 10000))\n",
    "print(random_sum_test(1600, 10000))\n",
    "print(random_sum_test(1800, 10000))\n",
    "print(random_sum_test(2000, 10000))\n"
   ]
  },
  {
   "cell_type": "code",
   "execution_count": 11,
   "metadata": {},
   "outputs": [
    {
     "name": "stdout",
     "output_type": "stream",
     "text": [
      "['eagle', 'badger', 'bobcat', 'squirrel', 'falcon', None, None, None]\n"
     ]
    }
   ],
   "source": [
    "# simple unordered array-based list\n",
    "class MyList:\n",
    "    \n",
    "    def __init__(self):\n",
    "        self.mylist = [None]\n",
    "        self.length = 0\n",
    "        \n",
    "    def add(self, x):\n",
    "        \n",
    "        # do i need to resize???\n",
    "        if self.length == len(self.mylist):\n",
    "            self.resize(2 * self.length)\n",
    "        \n",
    "        # add the new item to the list\n",
    "        self.mylist[self.length] = x\n",
    "        \n",
    "        # add one to length\n",
    "        self.length += 1\n",
    "        \n",
    "    def resize(self, n):\n",
    "        \n",
    "        # create a new array of the right size\n",
    "        newarray = [None] * n\n",
    "        \n",
    "        # copy all items from the old array to the new array\n",
    "        for i in range(len(self.mylist)):\n",
    "            newarray[i] = self.mylist[i]\n",
    "        \n",
    "        # replace the old array with the new array in this list\n",
    "        self.mylist = newarray\n",
    "        \n",
    "    def remove(self, x):\n",
    "        \n",
    "        \n",
    "mylist = MyList()\n",
    "mylist.add('eagle')\n",
    "mylist.add('badger')\n",
    "mylist.add('bobcat')\n",
    "mylist.add('squirrel')\n",
    "mylist.add('falcon')\n",
    "print(mylist.mylist)\n"
   ]
  },
  {
   "cell_type": "code",
   "execution_count": null,
   "metadata": {
    "collapsed": true
   },
   "outputs": [],
   "source": []
  }
 ],
 "metadata": {
  "anaconda-cloud": {},
  "kernelspec": {
   "display_name": "Python 3",
   "language": "python",
   "name": "python3"
  },
  "language_info": {
   "codemirror_mode": {
    "name": "ipython",
    "version": 3
   },
   "file_extension": ".py",
   "mimetype": "text/x-python",
   "name": "python",
   "nbconvert_exporter": "python",
   "pygments_lexer": "ipython3",
   "version": "3.6.1"
  }
 },
 "nbformat": 4,
 "nbformat_minor": 1
}
