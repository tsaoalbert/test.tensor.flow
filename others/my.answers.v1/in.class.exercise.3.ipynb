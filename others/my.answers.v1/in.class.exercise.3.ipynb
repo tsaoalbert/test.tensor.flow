{
 "cells": [
  {
   "cell_type": "markdown",
   "metadata": {},
   "source": [
    "<h1> In Class Exercise 3 <a href='http://interactivepython.org/runestone/static/pythonds/BasicDS/toctree.html'> \n",
    "(Basic Data Structures) </a> </h1>"
   ]
  },
  {
   "cell_type": "markdown",
   "metadata": {},
   "source": [
    "<h1> <a href='\n",
    "http://interactivepython.org/runestone/static/pythonds/BasicDS/DiscussionQuestions.html   \n",
    "    '>  Discussion Questions  </a> </h1>"
   ]
  },
  {
   "cell_type": "raw",
   "metadata": {},
   "source": [
    "Convert the following values to binary using “divide by 2.” Show the stack of remainders.\n",
    "17\n",
    "45\n",
    "96"
   ]
  },
  {
   "cell_type": "markdown",
   "metadata": {},
   "source": [
    "Create an empty stack called opstack for keeping operators. \n",
    "Create an empty list for output.\n",
    "Convert the input infix string to a list by using the string method split.\n",
    "Scan the token list from left to right.\n",
    "\n",
    "* A. If the token is an operand, append it to the end of the output list.\n",
    "* B. If the token is a (, push it on the opstack.\n",
    "* C. If the token is a ), pop the opstack until the corresponding ( is removed. Append each operator to the end of the output list.\n",
    "* D. If the token is an arithmatic operator, *, /, +, or -, push it on the opstack. \n",
    "* E. However, first remove any operators already on the opstack that have higher or equal precedence and append them to the output list.\n",
    "* F. When the input expression has been completely processed, append any operators still on the stack  to the end of the output list."
   ]
  },
  {
   "cell_type": "raw",
   "metadata": {},
   "source": [
    "\n",
    "Convert the following infix expressions to prefix (use full parentheses):\n",
    "(A+B)*(C+D)*(E+F)\n",
    "A+((B+C)*(D+E))\n",
    "A*B*C*D+E+F\n",
    "Convert the above infix expressions to postfix (use full parentheses)."
   ]
  },
  {
   "cell_type": "markdown",
   "metadata": {},
   "source": [
    "<div class=\"image123\">\n",
    "    <div style=\"float:left;margin-right:55px;\">\n",
    "    <figure>\n",
    "        <img src=\"images/postfix.png\" height=\"300\" width=\"200\"  />\n",
    "        <figcaption style=\"text-align:center;\">  </figcaption>\n",
    "    </figure>\n",
    "    </div>\n",
    "    <div style=\"float:left;margin-right:55px;\">\n",
    "    <figure>\n",
    "        <img class=\"middle-img\" src=\"images/prefix.png\" height=\"300\" width=\"200\" />\n",
    "        <figcaption style=\"text-align:center;\"> </figcaption>\n",
    "    </figure>\n",
    "    </div>\n",
    "    <div style=\"float:left;margin-right:55px;\">\n",
    "    <figure>\n",
    "        <img src=\"images/infix.png\" height=\"400\" width=\"400\" />\n",
    "        <figcaption style=\"text-align:center;\">  </figcaption>\n",
    "    </figure>\n",
    "    </div>\n",
    "</div>"
   ]
  },
  {
   "cell_type": "raw",
   "metadata": {},
   "source": [
    "Convert the following infix expressions to postfix using the direct conversion algorithm. \n",
    "Fill in the rule that is used at each step in the following table.\n",
    "(A+B)*(C+D)*(E+F)\n",
    "Show the stack as the conversion takes place."
   ]
  },
  {
   "cell_type": "markdown",
   "metadata": {},
   "source": [
    "<div class=\"image123\">\n",
    "    <div style=\"float:left;margin-right:55px;\">\n",
    "    <figure>\n",
    "        <img src=\"images/infix.postfix.1.png\" height=\"300\" width=\"900\"  />\n",
    "        <figcaption style=\"text-align:center;\">  </figcaption>\n",
    "    </figure>\n",
    "    </div>\n",
    "\n",
    "</div>"
   ]
  },
  {
   "cell_type": "raw",
   "metadata": {},
   "source": [
    "Convert the following infix expressions to postfix using the direct conversion algorithm. \n",
    "Fill in the rule that is used at each step in the following table.\n",
    "A+((B+C)*(D+E))\n",
    "Show the stack as the conversion takes place."
   ]
  },
  {
   "cell_type": "markdown",
   "metadata": {},
   "source": [
    "<div class=\"image123\">\n",
    "    <div style=\"float:left;margin-right:55px;\">\n",
    "    <figure>\n",
    "        <img src=\"images/infix.postfix.2.png\" height=\"300\" width=\"900\"  />\n",
    "        <figcaption style=\"text-align:center;\">  </figcaption>\n",
    "    </figure>\n",
    "    </div>\n",
    "\n",
    "</div>"
   ]
  },
  {
   "cell_type": "raw",
   "metadata": {},
   "source": [
    "Convert the following infix expressions to postfix using the direct conversion algorithm. \n",
    "Fill in the rule that is used at each step in the following table.\n",
    "A*B*C*D+E+F\n",
    "Show the stack as the conversion takes place."
   ]
  },
  {
   "cell_type": "markdown",
   "metadata": {},
   "source": [
    "<div class=\"image123\">\n",
    "    <div style=\"float:left;margin-right:55px;\">\n",
    "    <figure>\n",
    "        <img src=\"images/infix.postfix.3.png\" height=\"300\" width=\"900\"  />\n",
    "        <figcaption style=\"text-align:center;\">  </figcaption>\n",
    "    </figure>\n",
    "    </div>\n",
    "\n",
    "</div>"
   ]
  },
  {
   "cell_type": "raw",
   "metadata": {},
   "source": []
  },
  {
   "cell_type": "code",
   "execution_count": null,
   "metadata": {},
   "outputs": [],
   "source": [
    "Evaluate the following postfix expressions. \n",
    "2 3 * 4 +\n",
    "1 2 + 3 + 4 + 5 +\n",
    "1 2 3 4 5 * + * +\n",
    "Show the stack as each operand and operator is processed."
   ]
  },
  {
   "cell_type": "markdown",
   "metadata": {},
   "source": [
    "The alternative implementation of the Queue ADT is to use a list such that the rear of the queue is at the end of the list. What would this mean for Big-O performance?"
   ]
  },
  {
   "cell_type": "markdown",
   "metadata": {},
   "source": [
    "What is the result of carrying out both steps of the linked list add method in reverse order? \n",
    "What kind of reference results? \n",
    "What types of problems may result?"
   ]
  },
  {
   "cell_type": "markdown",
   "metadata": {},
   "source": [
    "Explain how the linked list remove method works when the item to be removed is in the last node."
   ]
  },
  {
   "cell_type": "markdown",
   "metadata": {},
   "source": [
    "Explain how the remove method works when the item is in the only node in the linked list."
   ]
  }
 ],
 "metadata": {
  "kernelspec": {
   "display_name": "Python 3",
   "language": "python",
   "name": "python3"
  },
  "language_info": {
   "codemirror_mode": {
    "name": "ipython",
    "version": 3
   },
   "file_extension": ".py",
   "mimetype": "text/x-python",
   "name": "python",
   "nbconvert_exporter": "python",
   "pygments_lexer": "ipython3",
   "version": "3.7.1"
  }
 },
 "nbformat": 4,
 "nbformat_minor": 2
}
