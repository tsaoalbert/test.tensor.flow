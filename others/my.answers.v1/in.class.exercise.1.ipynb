{
 "cells": [
  {
   "cell_type": "markdown",
   "metadata": {},
   "source": [
    "<h1> <a href='http://interactivepython.org/runestone/static/pythonds/Introduction/DiscussionQuestions.html'> In Class Exercise 1 (Python Introduction)  </a> </h1>"
   ]
  },
  {
   "cell_type": "code",
   "execution_count": null,
   "metadata": {},
   "outputs": [],
   "source": [
    "# Modify the following code so that the \n",
    "# final list only contains a single copy of each letter.\n",
    "# the answer is: ['c', 'a', 't', 'd', 'o', 'g', 'r', 'b', 'i']\n",
    "\n",
    "wordlist = ['cat','dog','rabbit']\n",
    "letterlist = [ ]\n",
    "for aword in wordlist:\n",
    "    # xxx fill in the missing piece of codes\n",
    "print(letterlist)"
   ]
  },
  {
   "cell_type": "raw",
   "metadata": {},
   "source": [
    "Construct a class hierarchy for people on a college campus, including faculty, staff, and students. \n",
    "What do they have in common? For example, they all have names.\n",
    "What distinguishes them from one another? "
   ]
  },
  {
   "cell_type": "raw",
   "metadata": {},
   "source": [
    "Construct a class hierarchy for \n",
    "* different types of bank accounts.\n",
    "* different types of computers"
   ]
  },
  {
   "cell_type": "markdown",
   "metadata": {},
   "source": [
    "Hints:\n",
    "names, addresses, gender, rank, \n",
    "Checking, Savings, Certified Deposit\n",
    "notebooke, desktop"
   ]
  },
  {
   "cell_type": "markdown",
   "metadata": {},
   "source": [
    "<h3> Read  <a href='http://www.jesshamrick.com/2011/05/18/an-introduction-to-classes-and-inheritance-in-python/    '> \"An Introduction to Classes and Inheritance (in Python)\" </a>  \n",
    "<ul>\n",
    "    <li>\n",
    "Construct a class hierarchy for different types of pets that include birds and fish, in addtion to cats and dogs.        </li>\n",
    "<li>\n",
    "     What do they have in common? \n",
    "       </li>    \n",
    "<li>\n",
    "     What distinguishes them from one another?\n",
    "       </li>\n",
    "</ul>\n",
    "</h3>"
   ]
  },
  {
   "cell_type": "code",
   "execution_count": 7,
   "metadata": {},
   "outputs": [],
   "source": [
    "class Pet(object):   # base class\n",
    "\n",
    "    def __init__(self, name, species):\n",
    "        self.name = name\n",
    "        self.species = species\n",
    "\n",
    "    def getName(self):\n",
    "        return self.name\n",
    "\n",
    "    def getSpecies(self):\n",
    "        return self.species\n",
    "\n",
    "    def __str__(self):\n",
    "        return \"%s is a %s\" % (self.name, self.species)"
   ]
  },
  {
   "cell_type": "code",
   "execution_count": 32,
   "metadata": {},
   "outputs": [],
   "source": [
    "class Dog(Pet):   # subclass\n",
    "\n",
    "    def __init__(self, name, chases_cats):\n",
    "        Pet.__init__(self, name, \"Dog\")\n",
    "        self.chases_cats = chases_cats\n",
    "\n",
    "    def chasesCats(self):\n",
    "        return self.chases_cats\n",
    "\n",
    "    def __str__(self):\n",
    "        s = [ \"chase cats.\", \"ok with cats.\"]\n",
    "        return Pet.__str__(self) + \", and \" + s[self.chasesCats()]"
   ]
  },
  {
   "cell_type": "code",
   "execution_count": 33,
   "metadata": {},
   "outputs": [],
   "source": [
    "class Cat(Pet):\n",
    "\n",
    "    def __init__(self, name, hates_dogs):\n",
    "        Pet.__init__(self, name, \"Cat\")\n",
    "        self.hates_dogs = hates_dogs\n",
    "\n",
    "    def hatesDogs(self):\n",
    "        return self.hates_dogs\n",
    "    def __str__(self):\n",
    "        s = [ \"hates dogs.\", \"ok with dogs.\" ]\n",
    "        i = self.hatesDogs()\n",
    "        return Pet.__str__(self) + \", and \" + s[i]"
   ]
  },
  {
   "cell_type": "raw",
   "metadata": {},
   "source": [
    "Test your the implmentation of your program that include birds and fish as the following example."
   ]
  },
  {
   "cell_type": "code",
   "execution_count": 34,
   "metadata": {},
   "outputs": [
    {
     "name": "stdout",
     "output_type": "stream",
     "text": [
      "Fido is a Dog, and ok with cats.\n",
      "Rover is a Dog, and chase cats.\n",
      "Mittens is a Cat, and ok with dogs.\n",
      "Fluffy is a Cat, and hates dogs.\n"
     ]
    }
   ],
   "source": [
    "fido = Dog(\"Fido\", True)\n",
    "rover = Dog(\"Rover\", False)\n",
    "mittens = Cat(\"Mittens\", True)\n",
    "fluffy = Cat(\"Fluffy\", False)\n",
    "list = [fido, rover, mittens, fluffy]\n",
    "for p in list:\n",
    "    print (p)"
   ]
  },
  {
   "cell_type": "code",
   "execution_count": null,
   "metadata": {},
   "outputs": [],
   "source": []
  },
  {
   "cell_type": "markdown",
   "metadata": {},
   "source": [
    "<h3> (Optional) Read the problem description at <a href='https://www.jrmf.org/problems/WolvesAndSheep.pdf'> Wolves and Sheep  </a>  </h3>"
   ]
  },
  {
   "cell_type": "raw",
   "metadata": {},
   "source": [
    "Place 5 wolves on a 5 by 5 chessboard so that 3 sheep are safe. \n",
    "Wolves move like chessqueens (any number of squares horizontally, vertically, or diagonally). \n",
    "A sheep is safe ifno wolf can reach it in one turn. \n",
    "For instance, the first grid below shows a solution with\n",
    "6 wolves and room for 2 sheep. \n",
    "The squares marked W are wolves, x marks the unsafe spaces, and S marks the two sheep spaces.\n",
    "    1 2 3 4 5\n",
    "  1 w x w w x\n",
    "  2 w x w x x\n",
    "  3 x x x x w\n",
    "  4 x S x x x\n",
    "  5 x S x x x"
   ]
  },
  {
   "cell_type": "markdown",
   "metadata": {},
   "source": [
    "<h3> Read, trace, and run the following program. Then re-write the program with classes.  </h3>"
   ]
  },
  {
   "cell_type": "code",
   "execution_count": 35,
   "metadata": {},
   "outputs": [],
   "source": [
    "def count( b ):\n",
    "    count = 0\n",
    "    n = len (b)\n",
    "    for i in range ( n): \n",
    "        for j in range ( n):\n",
    "            if (b[i][j]==0):\n",
    "                count += 1\n",
    "    return count\n",
    "\n",
    "def display( board ):\n",
    "  n = 1\n",
    "  gap = \" \"*n\n",
    "  offset = \" \" *1\n",
    "  header = gap + \"1\" + gap +\"2\" +gap + \"3\" +gap + \"4\" +gap + \"5\"\n",
    "  print ( offset + \"  \" + header )\n",
    "  symbol = [ \"-\", \"w\", \"x\" ]\n",
    "  for i in range (5):\n",
    "    print (offset, i+1 , end=\"\")\n",
    "    for j in range (5):\n",
    "      k = board[i][j]\n",
    "      print ( gap + symbol[k], end=\"\" )\n",
    "    print (\"\\n\"*n, end=\"\")\n",
    "\n",
    "def markBoard (board, x,y):\n",
    "  n = len (board[0])\n",
    "  for i in range ( n ):\n",
    "    if (board[i][y]==0):\n",
    "      board[i][y]=2\n",
    "    if (board[x][i]==0):\n",
    "      board[x][i]=2\n",
    "\n",
    "  for i in range ( -n+1,n,1 ):\n",
    "    a = x + i\n",
    "    b = y + i\n",
    "    if ( 0<=a<n and 0<=b<n and board[a][b]==0):\n",
    "      board[a][b]=2\n",
    "    a = x + i\n",
    "    b = y - i\n",
    "    if ( 0<=a<n and 0<=b<n and board[a][b]==0):\n",
    "      board[a][b]=2\n",
    "\n",
    "def init ():\n",
    "  row = [0]*5\n",
    "  board = []\n",
    "  for i in range (5):\n",
    "    board += [row.copy() ]\n",
    "  return board\n",
    "\n",
    "def displayInit ():\n",
    "    print (\"Game of 5 Wolves and 3 Sheep\" )\n",
    "    board = init ()\n",
    "    display ( board )  \n",
    "    \n",
    "def game (s):\n",
    "  board = init ()\n",
    "  s = s.split()\n",
    "  dict = { 0:\"-\", 1:\"W\", 2:\"S\" }\n",
    "  for z in s:\n",
    "    i = int( z[0] ) - 1\n",
    "    j = int( z[1] ) - 1\n",
    "    board[i][j] = 1\n",
    "  for z in s:\n",
    "    i = int( z[0] ) - 1\n",
    "    j = int( z[1] ) - 1\n",
    "    markBoard (board, i,j)\n",
    "  display ( board )\n",
    "  ans = count (board)\n",
    "  print (\"\\nThe input is\", s)\n",
    "  print (\"Number of wolves is \", len(s) )\n",
    "  print (\"Number of safe spots for sheep are \", ans)\n",
    "\n",
    "def main():\n",
    "    again = True\n",
    "    while again:\n",
    "      displayInit ()\n",
    "      prompt = \"Input positions of 5 wolves like 11 21 32 44 52 with row index before the column index --> \"\n",
    "      s = input ( prompt )\n",
    "      game (s )\n",
    "\n",
    "      prompt = \"Play again (y/n) --> \"\n",
    "      x = input ( prompt )\n",
    "      again = x == \"y\" or x == \"Y\""
   ]
  },
  {
   "cell_type": "code",
   "execution_count": 36,
   "metadata": {},
   "outputs": [
    {
     "name": "stdout",
     "output_type": "stream",
     "text": [
      "Game of 5 Wolves and 3 Sheep\n",
      "    1 2 3 4 5\n",
      "  1 - - - - -\n",
      "  2 - - - - -\n",
      "  3 - - - - -\n",
      "  4 - - - - -\n",
      "  5 - - - - -\n",
      "Input positions of 5 wolves like 11 21 32 44 52 with row index before the column index --> 11\n",
      "    1 2 3 4 5\n",
      "  1 w x x x x\n",
      "  2 x x - - -\n",
      "  3 x - x - -\n",
      "  4 x - - x -\n",
      "  5 x - - - x\n",
      "\n",
      "The input is ['11']\n",
      "Number of wolves is  1\n",
      "Number of safe spots for sheep are  12\n",
      "Play again (y/n) --> \n"
     ]
    }
   ],
   "source": [
    "main ()"
   ]
  },
  {
   "cell_type": "markdown",
   "metadata": {},
   "source": [
    "<h1> END of ASSIGNMENTS</h1>"
   ]
  },
  {
   "cell_type": "code",
   "execution_count": 37,
   "metadata": {},
   "outputs": [
    {
     "name": "stdout",
     "output_type": "stream",
     "text": [
      "Game of 5 Wolves and 3 Sheep\n",
      "    1 2 3 4 5\n",
      "  1 - - - - -\n",
      "  2 - - - - -\n",
      "  3 - - - - -\n",
      "  4 - - - - -\n",
      "  5 - - - - -\n",
      "Input positions of 5 wolves like 11 21 32 44 52 with row index before the column index --> 11 21 32\n",
      "    1 2 3 4 5\n",
      "  1 w x x x x\n",
      "  2 w x x x x\n",
      "  3 x w x x x\n",
      "  4 x x x x -\n",
      "  5 x x - x x\n",
      "\n",
      "The input is ['11', '21', '32']\n",
      "Number of wolves is  3\n",
      "Number of safe spots for sheep are  2\n"
     ]
    },
    {
     "ename": "KeyboardInterrupt",
     "evalue": "",
     "output_type": "error",
     "traceback": [
      "\u001b[0;31m---------------------------------------------------------------------------\u001b[0m",
      "\u001b[0;31mKeyboardInterrupt\u001b[0m                         Traceback (most recent call last)",
      "\u001b[0;32m~/anaconda3/lib/python3.7/site-packages/ipykernel/kernelbase.py\u001b[0m in \u001b[0;36m_input_request\u001b[0;34m(self, prompt, ident, parent, password)\u001b[0m\n\u001b[1;32m    877\u001b[0m             \u001b[0;32mtry\u001b[0m\u001b[0;34m:\u001b[0m\u001b[0;34m\u001b[0m\u001b[0;34m\u001b[0m\u001b[0m\n\u001b[0;32m--> 878\u001b[0;31m                 \u001b[0mident\u001b[0m\u001b[0;34m,\u001b[0m \u001b[0mreply\u001b[0m \u001b[0;34m=\u001b[0m \u001b[0mself\u001b[0m\u001b[0;34m.\u001b[0m\u001b[0msession\u001b[0m\u001b[0;34m.\u001b[0m\u001b[0mrecv\u001b[0m\u001b[0;34m(\u001b[0m\u001b[0mself\u001b[0m\u001b[0;34m.\u001b[0m\u001b[0mstdin_socket\u001b[0m\u001b[0;34m,\u001b[0m \u001b[0;36m0\u001b[0m\u001b[0;34m)\u001b[0m\u001b[0;34m\u001b[0m\u001b[0;34m\u001b[0m\u001b[0m\n\u001b[0m\u001b[1;32m    879\u001b[0m             \u001b[0;32mexcept\u001b[0m \u001b[0mException\u001b[0m\u001b[0;34m:\u001b[0m\u001b[0;34m\u001b[0m\u001b[0;34m\u001b[0m\u001b[0m\n",
      "\u001b[0;32m~/anaconda3/lib/python3.7/site-packages/jupyter_client/session.py\u001b[0m in \u001b[0;36mrecv\u001b[0;34m(self, socket, mode, content, copy)\u001b[0m\n\u001b[1;32m    802\u001b[0m         \u001b[0;32mtry\u001b[0m\u001b[0;34m:\u001b[0m\u001b[0;34m\u001b[0m\u001b[0;34m\u001b[0m\u001b[0m\n\u001b[0;32m--> 803\u001b[0;31m             \u001b[0mmsg_list\u001b[0m \u001b[0;34m=\u001b[0m \u001b[0msocket\u001b[0m\u001b[0;34m.\u001b[0m\u001b[0mrecv_multipart\u001b[0m\u001b[0;34m(\u001b[0m\u001b[0mmode\u001b[0m\u001b[0;34m,\u001b[0m \u001b[0mcopy\u001b[0m\u001b[0;34m=\u001b[0m\u001b[0mcopy\u001b[0m\u001b[0;34m)\u001b[0m\u001b[0;34m\u001b[0m\u001b[0;34m\u001b[0m\u001b[0m\n\u001b[0m\u001b[1;32m    804\u001b[0m         \u001b[0;32mexcept\u001b[0m \u001b[0mzmq\u001b[0m\u001b[0;34m.\u001b[0m\u001b[0mZMQError\u001b[0m \u001b[0;32mas\u001b[0m \u001b[0me\u001b[0m\u001b[0;34m:\u001b[0m\u001b[0;34m\u001b[0m\u001b[0;34m\u001b[0m\u001b[0m\n",
      "\u001b[0;32m~/anaconda3/lib/python3.7/site-packages/zmq/sugar/socket.py\u001b[0m in \u001b[0;36mrecv_multipart\u001b[0;34m(self, flags, copy, track)\u001b[0m\n\u001b[1;32m    466\u001b[0m         \"\"\"\n\u001b[0;32m--> 467\u001b[0;31m         \u001b[0mparts\u001b[0m \u001b[0;34m=\u001b[0m \u001b[0;34m[\u001b[0m\u001b[0mself\u001b[0m\u001b[0;34m.\u001b[0m\u001b[0mrecv\u001b[0m\u001b[0;34m(\u001b[0m\u001b[0mflags\u001b[0m\u001b[0;34m,\u001b[0m \u001b[0mcopy\u001b[0m\u001b[0;34m=\u001b[0m\u001b[0mcopy\u001b[0m\u001b[0;34m,\u001b[0m \u001b[0mtrack\u001b[0m\u001b[0;34m=\u001b[0m\u001b[0mtrack\u001b[0m\u001b[0;34m)\u001b[0m\u001b[0;34m]\u001b[0m\u001b[0;34m\u001b[0m\u001b[0;34m\u001b[0m\u001b[0m\n\u001b[0m\u001b[1;32m    468\u001b[0m         \u001b[0;31m# have first part already, only loop while more to receive\u001b[0m\u001b[0;34m\u001b[0m\u001b[0;34m\u001b[0m\u001b[0;34m\u001b[0m\u001b[0m\n",
      "\u001b[0;32mzmq/backend/cython/socket.pyx\u001b[0m in \u001b[0;36mzmq.backend.cython.socket.Socket.recv\u001b[0;34m()\u001b[0m\n",
      "\u001b[0;32mzmq/backend/cython/socket.pyx\u001b[0m in \u001b[0;36mzmq.backend.cython.socket.Socket.recv\u001b[0;34m()\u001b[0m\n",
      "\u001b[0;32mzmq/backend/cython/socket.pyx\u001b[0m in \u001b[0;36mzmq.backend.cython.socket._recv_copy\u001b[0;34m()\u001b[0m\n",
      "\u001b[0;32m~/anaconda3/lib/python3.7/site-packages/zmq/backend/cython/checkrc.pxd\u001b[0m in \u001b[0;36mzmq.backend.cython.checkrc._check_rc\u001b[0;34m()\u001b[0m\n",
      "\u001b[0;31mKeyboardInterrupt\u001b[0m: ",
      "\nDuring handling of the above exception, another exception occurred:\n",
      "\u001b[0;31mKeyboardInterrupt\u001b[0m                         Traceback (most recent call last)",
      "\u001b[0;32m<ipython-input-37-720c66922144>\u001b[0m in \u001b[0;36m<module>\u001b[0;34m\u001b[0m\n\u001b[1;32m     79\u001b[0m \u001b[0;34m\u001b[0m\u001b[0m\n\u001b[1;32m     80\u001b[0m \u001b[0mx\u001b[0m \u001b[0;34m=\u001b[0m \u001b[0mwolves_and_sheep\u001b[0m\u001b[0;34m(\u001b[0m\u001b[0;34m)\u001b[0m\u001b[0;34m\u001b[0m\u001b[0;34m\u001b[0m\u001b[0m\n\u001b[0;32m---> 81\u001b[0;31m \u001b[0mx\u001b[0m\u001b[0;34m.\u001b[0m\u001b[0mmain\u001b[0m\u001b[0;34m(\u001b[0m\u001b[0;34m)\u001b[0m\u001b[0;34m\u001b[0m\u001b[0;34m\u001b[0m\u001b[0m\n\u001b[0m",
      "\u001b[0;32m<ipython-input-37-720c66922144>\u001b[0m in \u001b[0;36mmain\u001b[0;34m(self)\u001b[0m\n\u001b[1;32m     74\u001b[0m \u001b[0;34m\u001b[0m\u001b[0m\n\u001b[1;32m     75\u001b[0m                       \u001b[0mprompt\u001b[0m \u001b[0;34m=\u001b[0m \u001b[0;34m\"Play again (y/n) --> \"\u001b[0m\u001b[0;34m\u001b[0m\u001b[0;34m\u001b[0m\u001b[0m\n\u001b[0;32m---> 76\u001b[0;31m                       \u001b[0mx\u001b[0m \u001b[0;34m=\u001b[0m \u001b[0minput\u001b[0m \u001b[0;34m(\u001b[0m \u001b[0mprompt\u001b[0m \u001b[0;34m)\u001b[0m\u001b[0;34m\u001b[0m\u001b[0;34m\u001b[0m\u001b[0m\n\u001b[0m\u001b[1;32m     77\u001b[0m                       \u001b[0magain\u001b[0m \u001b[0;34m=\u001b[0m \u001b[0mx\u001b[0m \u001b[0;34m==\u001b[0m \u001b[0;34m\"y\"\u001b[0m \u001b[0;32mor\u001b[0m \u001b[0mx\u001b[0m \u001b[0;34m==\u001b[0m \u001b[0;34m\"Y\"\u001b[0m\u001b[0;34m\u001b[0m\u001b[0;34m\u001b[0m\u001b[0m\n\u001b[1;32m     78\u001b[0m \u001b[0;34m\u001b[0m\u001b[0m\n",
      "\u001b[0;32m~/anaconda3/lib/python3.7/site-packages/ipykernel/kernelbase.py\u001b[0m in \u001b[0;36mraw_input\u001b[0;34m(self, prompt)\u001b[0m\n\u001b[1;32m    851\u001b[0m             \u001b[0mself\u001b[0m\u001b[0;34m.\u001b[0m\u001b[0m_parent_ident\u001b[0m\u001b[0;34m,\u001b[0m\u001b[0;34m\u001b[0m\u001b[0;34m\u001b[0m\u001b[0m\n\u001b[1;32m    852\u001b[0m             \u001b[0mself\u001b[0m\u001b[0;34m.\u001b[0m\u001b[0m_parent_header\u001b[0m\u001b[0;34m,\u001b[0m\u001b[0;34m\u001b[0m\u001b[0;34m\u001b[0m\u001b[0m\n\u001b[0;32m--> 853\u001b[0;31m             \u001b[0mpassword\u001b[0m\u001b[0;34m=\u001b[0m\u001b[0;32mFalse\u001b[0m\u001b[0;34m,\u001b[0m\u001b[0;34m\u001b[0m\u001b[0;34m\u001b[0m\u001b[0m\n\u001b[0m\u001b[1;32m    854\u001b[0m         )\n\u001b[1;32m    855\u001b[0m \u001b[0;34m\u001b[0m\u001b[0m\n",
      "\u001b[0;32m~/anaconda3/lib/python3.7/site-packages/ipykernel/kernelbase.py\u001b[0m in \u001b[0;36m_input_request\u001b[0;34m(self, prompt, ident, parent, password)\u001b[0m\n\u001b[1;32m    881\u001b[0m             \u001b[0;32mexcept\u001b[0m \u001b[0mKeyboardInterrupt\u001b[0m\u001b[0;34m:\u001b[0m\u001b[0;34m\u001b[0m\u001b[0;34m\u001b[0m\u001b[0m\n\u001b[1;32m    882\u001b[0m                 \u001b[0;31m# re-raise KeyboardInterrupt, to truncate traceback\u001b[0m\u001b[0;34m\u001b[0m\u001b[0;34m\u001b[0m\u001b[0;34m\u001b[0m\u001b[0m\n\u001b[0;32m--> 883\u001b[0;31m                 \u001b[0;32mraise\u001b[0m \u001b[0mKeyboardInterrupt\u001b[0m\u001b[0;34m\u001b[0m\u001b[0;34m\u001b[0m\u001b[0m\n\u001b[0m\u001b[1;32m    884\u001b[0m             \u001b[0;32melse\u001b[0m\u001b[0;34m:\u001b[0m\u001b[0;34m\u001b[0m\u001b[0;34m\u001b[0m\u001b[0m\n\u001b[1;32m    885\u001b[0m                 \u001b[0;32mbreak\u001b[0m\u001b[0;34m\u001b[0m\u001b[0;34m\u001b[0m\u001b[0m\n",
      "\u001b[0;31mKeyboardInterrupt\u001b[0m: "
     ]
    }
   ],
   "source": [
    "class wolves_and_sheep (object):\n",
    "\t\tdef count( self ):\n",
    "\t\t    cnt = 0\n",
    "\t\t    n = len ( self.board)\n",
    "\t\t    for i in range ( n): \n",
    "\t\t        for j in range ( n):\n",
    "\t\t            if (self.board[i][j]==0):\n",
    "\t\t                cnt += 1\n",
    "\t\t    return cnt\n",
    "\t\t\n",
    "\t\tdef display( self ):\n",
    "\t\t  n = 1\n",
    "\t\t  gap = \" \"*n\n",
    "\t\t  offset = \" \" *1\n",
    "\t\t  header = gap + \"1\" + gap +\"2\" +gap + \"3\" +gap + \"4\" +gap + \"5\"\n",
    "\t\t  print ( offset + \"  \" + header )\n",
    "\t\t  symbol = [ \"-\", \"w\", \"x\" ]\n",
    "\t\t  for i in range (5):\n",
    "\t\t    print (offset, i+1 , end=\"\")\n",
    "\t\t    for j in range (5):\n",
    "\t\t      k = self.board[i][j]\n",
    "\t\t      print ( gap + symbol[k], end=\"\" )\n",
    "\t\t    print (\"\\n\"*n, end=\"\")\n",
    "\t\t\n",
    "\t\tdef markBoard (self, x,y):\n",
    "\t\t  n = len (self.board[0])\n",
    "\t\t  for i in range ( n ):\n",
    "\t\t    if (self.board[i][y]==0):\n",
    "\t\t      self.board[i][y]=2\n",
    "\t\t    if (self.board[x][i]==0):\n",
    "\t\t      self.board[x][i]=2\n",
    "\t\t\n",
    "\t\t  for i in range ( -n+1,n,1 ):\n",
    "\t\t    a = x + i\n",
    "\t\t    b = y + i\n",
    "\t\t    if ( 0<=a<n and 0<=b<n and self.board[a][b]==0):\n",
    "\t\t      self.board[a][b]=2\n",
    "\t\t    a = x + i\n",
    "\t\t    b = y - i\n",
    "\t\t    if ( 0<=a<n and 0<=b<n and self.board[a][b]==0):\n",
    "\t\t      self.board[a][b]=2\n",
    "\t\t\n",
    "\t\tdef __init__ ( self ):\n",
    "\t\t  row = [0]*5\n",
    "\t\t  self.board = []\n",
    "\t\t  for i in range (5):\n",
    "\t\t    self.board += [row.copy() ]\n",
    "\t\t\n",
    "\t\tdef game (self,s ):\n",
    "\t\t  s = s.split()\n",
    "\t\t  dict = { 0:\"-\", 1:\"W\", 2:\"S\" }\n",
    "\t\t  for z in s:\n",
    "\t\t    i = int( z[0] ) - 1\n",
    "\t\t    j = int( z[1] ) - 1\n",
    "\t\t    self.board[i][j] = 1\n",
    "\t\t  for z in s:\n",
    "\t\t    i = int( z[0] ) - 1\n",
    "\t\t    j = int( z[1] ) - 1\n",
    "\t\t    self.markBoard (i,j)\n",
    "\t\t  self.display ( )\n",
    "\t\t  ans = self.count ()\n",
    "\t\t  print (\"\\nThe input is\", s)\n",
    "\t\t  print (\"Number of wolves is \", len(s) )\n",
    "\t\t  print (\"Number of safe spots for sheep are \", ans)\n",
    "\t\t\n",
    "\t\tdef main(self):\n",
    "\t\t    again = True\n",
    "\t\t    while again:\n",
    "\t\t      print (\"Game of 5 Wolves and 3 Sheep\" )\n",
    "\t\t      self.display ( )  \n",
    "\t\t      prompt = \"Input positions of 5 wolves like 11 21 32 44 52 with row index before the column index --> \"\n",
    "\t\t      s = input ( prompt )\n",
    "\t\t      self.game (s )\n",
    "\t\t\n",
    "\t\t      prompt = \"Play again (y/n) --> \"\n",
    "\t\t      x = input ( prompt )\n",
    "\t\t      again = x == \"y\" or x == \"Y\"\n",
    "\n",
    "\n",
    "x = wolves_and_sheep()\n",
    "x.main()\n"
   ]
  },
  {
   "cell_type": "code",
   "execution_count": null,
   "metadata": {},
   "outputs": [],
   "source": []
  }
 ],
 "metadata": {
  "kernelspec": {
   "display_name": "Python 3",
   "language": "python",
   "name": "python3"
  },
  "language_info": {
   "codemirror_mode": {
    "name": "ipython",
    "version": 3
   },
   "file_extension": ".py",
   "mimetype": "text/x-python",
   "name": "python",
   "nbconvert_exporter": "python",
   "pygments_lexer": "ipython3",
   "version": "3.7.1"
  }
 },
 "nbformat": 4,
 "nbformat_minor": 2
}
