{
 "cells": [
  {
   "cell_type": "markdown",
   "metadata": {},
   "source": [
    "# Working with Arrays\n",
    "\n"
   ]
  },
  {
   "cell_type": "markdown",
   "metadata": {},
   "source": [
    "## numpy.empty\n",
    "\n",
    "    numpy.empty(shape, dtype=float, order='C')\n",
    "    Return a new array of given shape and type, without initializing entries.\n",
    "\n",
    "Parameters:\n",
    "    \n",
    "    shape : int or tuple of int\n",
    "        Shape of the empty array, e.g., (2, 3) or 2.\n",
    "\n",
    "    dtype : data-type, optional\n",
    "        Desired output data-type for the array, e.g, numpy.int8. Default is numpy.float64.\n",
    "\n",
    "    order : {‘C’, ‘F’}, optional, default: ‘C’\n",
    "        Whether to store multi-dimensional data in row-major (C-style) or column-major (Fortran-style) order in memory.\n",
    "\n",
    "Returns: out : ndarray\n",
    "        Array of uninitialized (arbitrary) data of the given shape, dtype, and order. Object arrays will be initialized to None.\n",
    "\n",
    "See also\n",
    "    empty_like\n",
    "        Return an empty array with shape and type of input.\n",
    "    ones\n",
    "        Return a new array setting values to one.\n",
    "    zeros\n",
    "        Return a new array setting values to zero.\n",
    "    full\n",
    "        Return a new array of given shape filled with value.\n"
   ]
  },
  {
   "cell_type": "markdown",
   "metadata": {},
   "source": [
    "## Ex1 - declare an array of m row and n columns (m x n ) aka matrix of mxn"
   ]
  },
  {
   "cell_type": "code",
   "execution_count": 2,
   "metadata": {},
   "outputs": [],
   "source": [
    "# https://docs.scipy.org/doc/numpy/reference/generated/numpy.empty.html\n",
    "import numpy as np\n",
    "\n",
    "# enter code here\n",
    "\n",
    "import numpy as np\n",
    "row_size = 10\n",
    "column_size = 6\n",
    "meme = np.empty(shape=(row_size, column_size), dtype='int8')\n",
    "\n",
    "\n"
   ]
  },
  {
   "cell_type": "markdown",
   "metadata": {},
   "source": [
    "## Ex 2 - examine the contents of array and properties of array\n",
    "\n",
    "    shape, size, type, and ndim\n",
    "\n"
   ]
  },
  {
   "cell_type": "code",
   "execution_count": 3,
   "metadata": {},
   "outputs": [
    {
     "data": {
      "text/plain": [
       "array([[ 37,   0,  83,   0, 121,   0],\n",
       "       [115,   0, 116,   0, 101,   0],\n",
       "       [109,   0,  82,   0, 111,   0],\n",
       "       [111,   0, 116,   0,  37,   0],\n",
       "       [ 92,   0, 115,   0, 121,   0],\n",
       "       [115,   0, 116,   0, 101,   0],\n",
       "       [109,   0,  51,   0,  50,   0],\n",
       "       [ 92,   0, 114,   0, 115,   0],\n",
       "       [ 97,   0, 101,   0, 110,   0],\n",
       "       [104,   0,  46,   0, 100,   0]], dtype=int8)"
      ]
     },
     "execution_count": 3,
     "metadata": {},
     "output_type": "execute_result"
    }
   ],
   "source": [
    "meme"
   ]
  },
  {
   "cell_type": "code",
   "execution_count": null,
   "metadata": {},
   "outputs": [],
   "source": []
  },
  {
   "cell_type": "markdown",
   "metadata": {},
   "source": [
    "## Ex3 - declare an array with np.zeros"
   ]
  },
  {
   "cell_type": "code",
   "execution_count": null,
   "metadata": {},
   "outputs": [],
   "source": [
    "## put the code here - use a different variable like mem0\n",
    "\n"
   ]
  },
  {
   "cell_type": "code",
   "execution_count": null,
   "metadata": {},
   "outputs": [],
   "source": [
    "\n"
   ]
  },
  {
   "cell_type": "markdown",
   "metadata": {},
   "source": [
    "## Ex4 - initialize the empty array with each cell assigned to its row index"
   ]
  },
  {
   "cell_type": "code",
   "execution_count": null,
   "metadata": {},
   "outputs": [],
   "source": []
  },
  {
   "cell_type": "markdown",
   "metadata": {},
   "source": [
    "## Ex5 - take a slice or a view of empty array 'meme'"
   ]
  },
  {
   "cell_type": "code",
   "execution_count": 4,
   "metadata": {},
   "outputs": [],
   "source": [
    "start_row = 2\n",
    "end_row = 4\n",
    "viewa = meme[start_row:end_row,:column_size]\n",
    "for i in range ( start_row: end_row)\n",
    "    viewa[i][j] = i\n"
   ]
  },
  {
   "cell_type": "code",
   "execution_count": null,
   "metadata": {},
   "outputs": [],
   "source": []
  },
  {
   "cell_type": "code",
   "execution_count": null,
   "metadata": {},
   "outputs": [],
   "source": []
  },
  {
   "cell_type": "markdown",
   "metadata": {},
   "source": [
    "## Ex6 - examine properties of viewa"
   ]
  },
  {
   "cell_type": "code",
   "execution_count": 5,
   "metadata": {},
   "outputs": [
    {
     "data": {
      "text/plain": [
       "(2, 6)"
      ]
     },
     "execution_count": 5,
     "metadata": {},
     "output_type": "execute_result"
    }
   ],
   "source": [
    "viewa.shape"
   ]
  },
  {
   "cell_type": "code",
   "execution_count": 6,
   "metadata": {},
   "outputs": [
    {
     "data": {
      "text/plain": [
       "array([[109,   0,  82,   0, 111,   0],\n",
       "       [111,   0, 116,   0,  37,   0]], dtype=int8)"
      ]
     },
     "execution_count": 6,
     "metadata": {},
     "output_type": "execute_result"
    }
   ],
   "source": [
    " viewa"
   ]
  },
  {
   "cell_type": "markdown",
   "metadata": {},
   "source": [
    " \n",
    "## Ex7 - play with the slicing, extraction of view of array"
   ]
  },
  {
   "cell_type": "code",
   "execution_count": null,
   "metadata": {},
   "outputs": [],
   "source": [
    " "
   ]
  },
  {
   "cell_type": "code",
   "execution_count": null,
   "metadata": {},
   "outputs": [],
   "source": [
    " "
   ]
  },
  {
   "cell_type": "markdown",
   "metadata": {},
   "source": [
    "## Ex8 - set the small array viewa to some number like '55'"
   ]
  },
  {
   "cell_type": "code",
   "execution_count": 7,
   "metadata": {},
   "outputs": [],
   "source": [
    "rsize = viewa.shape[0]\n",
    "csize = viewa.shape[1]\n",
    "for r in range(0,rsize):\n",
    "    for c in range(0,csize):\n",
    "        viewa[r,c] = 55\n"
   ]
  },
  {
   "cell_type": "code",
   "execution_count": 8,
   "metadata": {},
   "outputs": [
    {
     "data": {
      "text/plain": [
       "array([[55, 55, 55, 55, 55, 55],\n",
       "       [55, 55, 55, 55, 55, 55]], dtype=int8)"
      ]
     },
     "execution_count": 8,
     "metadata": {},
     "output_type": "execute_result"
    }
   ],
   "source": [
    "viewa"
   ]
  },
  {
   "cell_type": "code",
   "execution_count": 9,
   "metadata": {},
   "outputs": [
    {
     "data": {
      "text/plain": [
       "array([[ 37,   0,  83,   0, 121,   0],\n",
       "       [115,   0, 116,   0, 101,   0],\n",
       "       [ 55,  55,  55,  55,  55,  55],\n",
       "       [ 55,  55,  55,  55,  55,  55],\n",
       "       [ 92,   0, 115,   0, 121,   0],\n",
       "       [115,   0, 116,   0, 101,   0],\n",
       "       [109,   0,  51,   0,  50,   0],\n",
       "       [ 92,   0, 114,   0, 115,   0],\n",
       "       [ 97,   0, 101,   0, 110,   0],\n",
       "       [104,   0,  46,   0, 100,   0]], dtype=int8)"
      ]
     },
     "execution_count": 9,
     "metadata": {},
     "output_type": "execute_result"
    }
   ],
   "source": [
    "meme\n"
   ]
  },
  {
   "cell_type": "markdown",
   "metadata": {},
   "source": [
    "## Ex9 - examine 'viewa' and 'meme'"
   ]
  },
  {
   "cell_type": "code",
   "execution_count": null,
   "metadata": {},
   "outputs": [],
   "source": []
  },
  {
   "cell_type": "code",
   "execution_count": null,
   "metadata": {},
   "outputs": [],
   "source": []
  },
  {
   "cell_type": "markdown",
   "metadata": {},
   "source": [
    "## Ex10 - now set the contents of 'viewa' to a number like 355,\n",
    "and examine the two arrays 'viewa' and 'meme'"
   ]
  },
  {
   "cell_type": "code",
   "execution_count": null,
   "metadata": {},
   "outputs": [],
   "source": []
  },
  {
   "cell_type": "code",
   "execution_count": null,
   "metadata": {},
   "outputs": [],
   "source": []
  },
  {
   "cell_type": "markdown",
   "metadata": {},
   "source": [
    "# Class tutorial"
   ]
  },
  {
   "cell_type": "code",
   "execution_count": null,
   "metadata": {},
   "outputs": [],
   "source": [
    "class MyClass:\n",
    "    aa = 44\n",
    "    \n",
    "    @classmethod\n",
    "    def geta(cls):\n",
    "        return MyClass.aa\n",
    "    \n",
    "    def geta1(self):\n",
    "        return MyClass.aa\n",
    "    \n",
    "    @staticmethod\n",
    "    def geta2():\n",
    "        return MyClass.aa\n",
    "    \n",
    "    "
   ]
  },
  {
   "cell_type": "code",
   "execution_count": null,
   "metadata": {},
   "outputs": [],
   "source": [
    "MyClass.geta2()"
   ]
  },
  {
   "cell_type": "code",
   "execution_count": null,
   "metadata": {},
   "outputs": [],
   "source": [
    "a1 = MyClass()\n",
    "a1"
   ]
  },
  {
   "cell_type": "code",
   "execution_count": null,
   "metadata": {},
   "outputs": [],
   "source": [
    "a1.geta1()"
   ]
  }
 ],
 "metadata": {
  "kernelspec": {
   "display_name": "Python 3",
   "language": "python",
   "name": "python3"
  },
  "language_info": {
   "codemirror_mode": {
    "name": "ipython",
    "version": 3
   },
   "file_extension": ".py",
   "mimetype": "text/x-python",
   "name": "python",
   "nbconvert_exporter": "python",
   "pygments_lexer": "ipython3",
   "version": "3.7.1"
  }
 },
 "nbformat": 4,
 "nbformat_minor": 2
}
