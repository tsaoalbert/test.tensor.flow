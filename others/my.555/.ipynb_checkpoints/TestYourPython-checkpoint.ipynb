{
 "cells": [
  {
   "cell_type": "code",
   "execution_count": 1,
   "metadata": {},
   "outputs": [
    {
     "ename": "SyntaxError",
     "evalue": "invalid syntax (<ipython-input-1-b498e9bd517b>, line 5)",
     "output_type": "error",
     "traceback": [
      "\u001b[0;36m  File \u001b[0;32m\"<ipython-input-1-b498e9bd517b>\"\u001b[0;36m, line \u001b[0;32m5\u001b[0m\n\u001b[0;31m    This test should be about 30 mins. After 20 mins, you can collaborate with the class to check your answers.\u001b[0m\n\u001b[0m            ^\u001b[0m\n\u001b[0;31mSyntaxError\u001b[0m\u001b[0;31m:\u001b[0m invalid syntax\n"
     ]
    }
   ],
   "source": [
    "## This is a class exercise to test your knowledge of Python\n",
    "\n",
    "### This is not graded and is useful for guaging your knowledge of Python.\n",
    "\n",
    "This test should be about 30 mins. After 20 mins, you can collaborate with the class to check your answers.\n",
    "Submit this exercise to Moodle before 10.00 pm.\n",
    "Don't worry, this is not graded. \n",
    "You can work out the answers later at home. \n"
   ]
  },
  {
   "cell_type": "markdown",
   "metadata": {},
   "source": [
    "### Exercise 1\n",
    "\n",
    "Change the following code cell so it produces a result other than `invalid syntax`"
   ]
  },
  {
   "cell_type": "code",
   "execution_count": 2,
   "metadata": {},
   "outputs": [
    {
     "ename": "SyntaxError",
     "evalue": "invalid syntax (<ipython-input-2-32d3c3db7c81>, line 1)",
     "output_type": "error",
     "traceback": [
      "\u001b[0;36m  File \u001b[0;32m\"<ipython-input-2-32d3c3db7c81>\"\u001b[0;36m, line \u001b[0;32m1\u001b[0m\n\u001b[0;31m    1 2\u001b[0m\n\u001b[0m      ^\u001b[0m\n\u001b[0;31mSyntaxError\u001b[0m\u001b[0;31m:\u001b[0m invalid syntax\n"
     ]
    }
   ],
   "source": [
    "1 2"
   ]
  },
  {
   "cell_type": "markdown",
   "metadata": {},
   "source": [
    "### Exercise 2\n",
    "\n",
    "Add parentheses to the expression `6 * 1 - 2` to change its value from `4` to `-6`."
   ]
  },
  {
   "cell_type": "code",
   "execution_count": 3,
   "metadata": {},
   "outputs": [
    {
     "data": {
      "text/plain": [
       "4"
      ]
     },
     "execution_count": 3,
     "metadata": {},
     "output_type": "execute_result"
    }
   ],
   "source": [
    "6 * 1 - 2"
   ]
  },
  {
   "cell_type": "code",
   "execution_count": null,
   "metadata": {},
   "outputs": [],
   "source": []
  },
  {
   "cell_type": "markdown",
   "metadata": {},
   "source": [
    "### Exercise 3\n",
    "\n",
    "Assign a value to `bruce` so that `bruce + 4` evaluates to `10`"
   ]
  },
  {
   "cell_type": "code",
   "execution_count": null,
   "metadata": {},
   "outputs": [],
   "source": [
    "# Add the assignment statement here\n",
    "\n",
    "# Now the expression below should evaluate to 10\n",
    "bruce + 4"
   ]
  },
  {
   "cell_type": "code",
   "execution_count": null,
   "metadata": {},
   "outputs": [],
   "source": []
  },
  {
   "cell_type": "markdown",
   "metadata": {},
   "source": [
    "### Exercise 4\n",
    "\n",
    "Take the sentence \"The wise lay up knowledge.\" Store each word in a separate variable, then print out the sentence on one line using `print`.\n",
    "\n",
    "Write your code in the code cell below and run it."
   ]
  },
  {
   "cell_type": "code",
   "execution_count": null,
   "metadata": {},
   "outputs": [],
   "source": []
  },
  {
   "cell_type": "markdown",
   "metadata": {},
   "source": [
    " ### Exercise 5\n",
    "\n",
    "From the textbook: 2.14 ex 5\n",
    "\n",
    "The formula for computing the final amount if one is earning\n",
    "compound interest is given on\n",
    "Wikipedia as\n",
    "\n",
    "\\begin{equation*}\n",
    "A   = {P(1 + \\frac{r}{n})^{ nt}}\n",
    "\\end{equation*}\n",
    "\n",
    "    where P is the principal amount\n",
    "          n is the frequency of interest is paid out\n",
    "          r is the interest rate (decimal)\n",
    "          t is the number of years\n",
    "\n",
    "\n",
    "Here, P is the principal amount (the amount that the interest is provided on),\n",
    "n the frequency that the interest is paid out (per year), and r the interest rate.\n",
    "The number of years that the interest is calculated for is t.\n",
    "Write a program that replaces these letters with something a bit\n",
    "more human-readable,\n",
    "and calculate the interest for some varying amounts of money at\n",
    "realistic interest rates\n",
    "such as 1%, and -0.05%. When you have that working, ask the user for the\n",
    "value of\n",
    "some of these variables and do the calculation.\n",
    "\n"
   ]
  },
  {
   "cell_type": "code",
   "execution_count": null,
   "metadata": {},
   "outputs": [],
   "source": []
  },
  {
   "cell_type": "markdown",
   "metadata": {},
   "source": [
    "### Exercise 6\n",
    "\n",
    "Textbook: 2.14 ex 7,8\n",
    "\n",
    "7. You look at the clock and it is exactly 2pm. \n",
    "    You set an alarm to go off in 51 hours. \n",
    "    At what time does the alarm go off? \n",
    "    (Hint: you could count on your fingers, but this is not what we’re after. \n",
    "     If you are tempted to count on your fingers, change the 51 to 5100.)\n",
    "\n",
    "    \n",
    "8. Write a Python program to solve the general version of the above problem.\n",
    "    Ask the user for the time now (in hours), and ask for the number of hours to wait.\n",
    "    Your program should output what the time will be on the clock when the alarm goes off."
   ]
  },
  {
   "cell_type": "code",
   "execution_count": null,
   "metadata": {},
   "outputs": [],
   "source": []
  },
  {
   "cell_type": "markdown",
   "metadata": {},
   "source": [
    "### Exercise 7\n",
    "\n",
    "Section 3.4.4 , page 60, exercise 4.\n",
    "\n",
    "Assume you have the assignment\n",
    "\n",
    "    numbers = [12, 10, 32, 3, 66, 17, 42, 99, 20]\n",
    "\n",
    "Write a program that:\n",
    "* First, prints each number and its square on a separate line\n",
    "* Then adds all the numbers in the list and prints the total\n",
    "* Finally, multiplies all the numbers in the list and prints the product"
   ]
  },
  {
   "cell_type": "code",
   "execution_count": null,
   "metadata": {},
   "outputs": [],
   "source": []
  },
  {
   "cell_type": "markdown",
   "metadata": {},
   "source": [
    "### Exercise 8\n",
    "\n",
    "Section 3.4.4, page 61, exercise 8.\n",
    "\n",
    "Write a program to compute the first n \"triangular numbers\" for an n provided as user input.  You can read about triangular numbers here: [Triangular numbers](https://en.wikipedia.org/wiki/Triangular_number), and here's a picture giving an informal  justification for the name \"triangular\"\n",
    "\n",
    "<img src=\"https://upload.wikimedia.org/wikipedia/commons/thumb/1/1c/First_six_triangular_numbers.svg/374px-First_six_triangular_numbers.svg.png\" alt=\"Drawing\" style=\"width: 300px;\"/>\n",
    "\n",
    "The $n^{th}$ triangular number is :\n",
    "\n",
    "<center> $\\large T_{n} = {\\frac {n(n+1)}{2}}$ </center>\n",
    "\n",
    "and we can generate the sequence from the formula $\\large T_{n} = T_{n-1} + n$ (where we assume $\\large T_{0} = 0$)"
   ]
  },
  {
   "cell_type": "code",
   "execution_count": null,
   "metadata": {},
   "outputs": [],
   "source": []
  },
  {
   "cell_type": "markdown",
   "metadata": {},
   "source": [
    "### Exercise 9\n",
    "\n",
    "Section 3.4.4, page 62, exercise 13.\n",
    "\n",
    "Write a program to count the number of even digits in a number n provided as user input"
   ]
  },
  {
   "cell_type": "code",
   "execution_count": null,
   "metadata": {},
   "outputs": [],
   "source": []
  },
  {
   "cell_type": "markdown",
   "metadata": {},
   "source": [
    "### Exercise 10\n",
    "\n",
    "Write a Python program that accepts a word from the user and prints the word reversed.  So, if the user enters the word \"nonsense\", the program will print \"esnesnon\".\n",
    "\n",
    " \n"
   ]
  },
  {
   "cell_type": "code",
   "execution_count": null,
   "metadata": {},
   "outputs": [],
   "source": []
  },
  {
   "cell_type": "markdown",
   "metadata": {},
   "source": [
    "### Exercise 11\n",
    "\n",
    "A palindrome is a string that reads the same left-to-right and right-to-left (for instance, \"10201\", or \"racecar\" or \"madam\").  Write a function that checks whether a string is a palindrome -- return True if the string is a palindrome, False otherwise.\n",
    "\n",
    "\n",
    "\n"
   ]
  },
  {
   "cell_type": "code",
   "execution_count": null,
   "metadata": {},
   "outputs": [],
   "source": []
  },
  {
   "cell_type": "code",
   "execution_count": null,
   "metadata": {},
   "outputs": [],
   "source": [
    "### Problem 12\n",
    "\n",
    "Write a Python program to create this pattern \n",
    "\n",
    "    1\n",
    "    22\n",
    "    333\n",
    "    4444\n",
    "    55555\n",
    "    666666\n",
    "    7777777\n",
    "    88888888\n",
    "    999999999\n",
    "    \n",
    "\n",
    "\n"
   ]
  },
  {
   "cell_type": "code",
   "execution_count": null,
   "metadata": {},
   "outputs": [],
   "source": []
  },
  {
   "cell_type": "markdown",
   "metadata": {},
   "source": [
    "\n",
    "### Problem 13\n",
    "\n",
    "Write a Python program to generate this pattern.  Hint: use two loops -- first, one that counts up, and then one that counts down.\n",
    "    * \n",
    "    * * \n",
    "    * * * \n",
    "    * * * * \n",
    "    * * * * * \n",
    "    * * * * \n",
    "    * * * \n",
    "    * * \n",
    "    *\n",
    "\n",
    " \n"
   ]
  },
  {
   "cell_type": "code",
   "execution_count": null,
   "metadata": {},
   "outputs": [],
   "source": []
  },
  {
   "cell_type": "code",
   "execution_count": 4,
   "metadata": {},
   "outputs": [
    {
     "name": "stdout",
     "output_type": "stream",
     "text": [
      "*\n",
      "**\n",
      "***\n",
      "****\n",
      "*****\n",
      "******\n",
      "*****\n",
      "****\n",
      "***\n",
      "**\n",
      "*\n"
     ]
    }
   ],
   "source": [
    "def triangle(current, max_length):\n",
    "    if current == max_length:\n",
    "        print(\"*\" * current)\n",
    "    else:\n",
    "        print(\"*\" * current)\n",
    "        triangle(current+1, max_length)\n",
    "        print(\"*\" * current)\n",
    "    \n",
    "triangle(1, 6)\n",
    "\n"
   ]
  },
  {
   "cell_type": "code",
   "execution_count": null,
   "metadata": {},
   "outputs": [],
   "source": []
  },
  {
   "cell_type": "markdown",
   "metadata": {},
   "source": [
    "### Exercise 14\n",
    "\n",
    "Write a function called digit_sum that takes a positive integer n as input and returns the sum of all that number's digits.\n",
    "\n"
   ]
  },
  {
   "cell_type": "code",
   "execution_count": null,
   "metadata": {},
   "outputs": [],
   "source": []
  },
  {
   "cell_type": "markdown",
   "metadata": {},
   "source": [
    "### Exercise 15\n",
    "\n",
    "We can define multiplication recursively:\n",
    "* multiply(a, b) = a if b == 1.  ***This is the base case***\n",
    "* multiply(a, b) = multiply(a, b-1) + a otherwise.  ***This is the recursive case***\n",
    "\n",
    "Write a recursive Python function multiply(a, b) that performs multiplication using this definition.  Write a little test program that shows your program performs properly.\n",
    "\n"
   ]
  },
  {
   "cell_type": "code",
   "execution_count": null,
   "metadata": {},
   "outputs": [],
   "source": []
  }
 ],
 "metadata": {
  "kernelspec": {
   "display_name": "Python 3",
   "language": "python",
   "name": "python3"
  },
  "language_info": {
   "codemirror_mode": {
    "name": "ipython",
    "version": 3
   },
   "file_extension": ".py",
   "mimetype": "text/x-python",
   "name": "python",
   "nbconvert_exporter": "python",
   "pygments_lexer": "ipython3",
   "version": "3.7.1"
  }
 },
 "nbformat": 4,
 "nbformat_minor": 2
}
