{
 "cells": [
  {
   "cell_type": "markdown",
   "metadata": {},
   "source": [
    "## A little exercise to see whether you understand array manipulations.\n",
    "\n",
    "    Follow the instructions in their correct order\n",
    "    This means do 1 first before 2, and do 3 before 4.\n",
    "    "
   ]
  },
  {
   "cell_type": "markdown",
   "metadata": {},
   "source": [
    "## 1.  Declare a 6x6 array with all zeros\n",
    "   Assign it to variable 'mm'"
   ]
  },
  {
   "cell_type": "code",
   "execution_count": 1,
   "metadata": {},
   "outputs": [
    {
     "data": {
      "text/plain": [
       "array([[0., 0., 0., 0., 0., 0.],\n",
       "       [0., 0., 0., 0., 0., 0.],\n",
       "       [0., 0., 0., 0., 0., 0.],\n",
       "       [0., 0., 0., 0., 0., 0.],\n",
       "       [0., 0., 0., 0., 0., 0.],\n",
       "       [0., 0., 0., 0., 0., 0.]])"
      ]
     },
     "execution_count": 1,
     "metadata": {},
     "output_type": "execute_result"
    }
   ],
   "source": [
    "import numpy as np\n",
    "mm = np.zeros ( (6,6) )\n",
    "mm"
   ]
  },
  {
   "cell_type": "markdown",
   "metadata": {},
   "source": [
    "## 2. Write '11' diagonally - from top left to bottom right"
   ]
  },
  {
   "cell_type": "code",
   "execution_count": 2,
   "metadata": {},
   "outputs": [
    {
     "data": {
      "text/plain": [
       "array([[11.,  0.,  0.,  0.,  0.,  0.],\n",
       "       [ 0., 11.,  0.,  0.,  0.,  0.],\n",
       "       [ 0.,  0., 11.,  0.,  0.,  0.],\n",
       "       [ 0.,  0.,  0., 11.,  0.,  0.],\n",
       "       [ 0.,  0.,  0.,  0., 11.,  0.],\n",
       "       [ 0.,  0.,  0.,  0.,  0., 11.]])"
      ]
     },
     "execution_count": 2,
     "metadata": {},
     "output_type": "execute_result"
    }
   ],
   "source": [
    "for i in range ( 6):\n",
    "    mm[i][i]=11\n",
    "mm"
   ]
  },
  {
   "cell_type": "markdown",
   "metadata": {},
   "source": [
    "## 3. Write row of ‘33’ to row index 3\n"
   ]
  },
  {
   "cell_type": "code",
   "execution_count": 4,
   "metadata": {},
   "outputs": [
    {
     "data": {
      "text/plain": [
       "array([[11., 55., 55., 55., 55., 55.],\n",
       "       [55., 11., 55., 55., 55., 55.],\n",
       "       [55., 55., 11., 55., 55., 55.],\n",
       "       [ 3.,  3.,  3.,  3.,  3.,  3.],\n",
       "       [55., 55., 55., 55., 11., 55.],\n",
       "       [55., 55., 55., 55., 55., 11.]])"
      ]
     },
     "execution_count": 4,
     "metadata": {},
     "output_type": "execute_result"
    }
   ],
   "source": [
    "for j in range (6):\n",
    "    mm[3][j]=3\n",
    "mm"
   ]
  },
  {
   "cell_type": "markdown",
   "metadata": {},
   "source": [
    "## 4. Write ‘44’ to diagonal from bottom left to top right"
   ]
  },
  {
   "cell_type": "code",
   "execution_count": 6,
   "metadata": {},
   "outputs": [
    {
     "data": {
      "text/plain": [
       "array([[11., 55., 55., 55., 55., 44.],\n",
       "       [55., 11., 55., 55., 44., 55.],\n",
       "       [55., 55., 11., 44., 55., 55.],\n",
       "       [ 3.,  3., 44.,  3.,  3.,  3.],\n",
       "       [55., 44., 55., 55., 11., 55.],\n",
       "       [44., 55., 55., 55., 55., 11.]])"
      ]
     },
     "execution_count": 6,
     "metadata": {},
     "output_type": "execute_result"
    }
   ],
   "source": [
    "for i in range (6):\n",
    "    mm[i][5-i]=44\n",
    "mm\n",
    "#(0,5) (1,4) (2,3) ( 3,2) (4,1) (5,0)"
   ]
  },
  {
   "cell_type": "markdown",
   "metadata": {},
   "source": [
    "## 5. Fill the empty cells with ‘55’\n"
   ]
  },
  {
   "cell_type": "code",
   "execution_count": 3,
   "metadata": {},
   "outputs": [
    {
     "data": {
      "text/plain": [
       "array([[11., 55., 55., 55., 55., 55.],\n",
       "       [55., 11., 55., 55., 55., 55.],\n",
       "       [55., 55., 11., 55., 55., 55.],\n",
       "       [55., 55., 55., 11., 55., 55.],\n",
       "       [55., 55., 55., 55., 11., 55.],\n",
       "       [55., 55., 55., 55., 55., 11.]])"
      ]
     },
     "execution_count": 3,
     "metadata": {},
     "output_type": "execute_result"
    }
   ],
   "source": [
    "for i in range (6):\n",
    "    for j in range (6):\n",
    "        if (mm[i][j]==0):\n",
    "            mm[i][j]=55\n",
    "mm"
   ]
  },
  {
   "cell_type": "code",
   "execution_count": null,
   "metadata": {},
   "outputs": [],
   "source": []
  }
 ],
 "metadata": {
  "kernelspec": {
   "display_name": "Python 3",
   "language": "python",
   "name": "python3"
  },
  "language_info": {
   "codemirror_mode": {
    "name": "ipython",
    "version": 3
   },
   "file_extension": ".py",
   "mimetype": "text/x-python",
   "name": "python",
   "nbconvert_exporter": "python",
   "pygments_lexer": "ipython3",
   "version": "3.7.1"
  }
 },
 "nbformat": 4,
 "nbformat_minor": 2
}
