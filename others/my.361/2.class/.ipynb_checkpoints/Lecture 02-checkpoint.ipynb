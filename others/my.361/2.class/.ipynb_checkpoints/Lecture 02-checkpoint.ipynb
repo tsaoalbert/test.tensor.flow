{
 "cells": [
  {
   "cell_type": "markdown",
   "metadata": {
    "slideshow": {
     "slide_type": "slide"
    }
   },
   "source": [
    "# Stacks, Queues, Deques\n",
    "\n",
    "Material from MR, Chapters 2-3 and AB, Chapter 5...\n",
    "\n",
    "First, install the library from MR"
   ]
  },
  {
   "cell_type": "code",
   "execution_count": 1,
   "metadata": {
    "slideshow": {
     "slide_type": "fragment"
    }
   },
   "outputs": [
    {
     "name": "stdout",
     "output_type": "stream",
     "text": [
      "Collecting pythonds\n",
      "  Downloading https://files.pythonhosted.org/packages/d5/23/3a6d8983605ba23ca972754a0ac81d1da3c9ea0a6f01b5b73d2bde3ac9fb/pythonds-1.2.1-py3-none-any.whl\n",
      "Installing collected packages: pythonds\n",
      "Successfully installed pythonds-1.2.1\n"
     ]
    }
   ],
   "source": [
    "!pip install pythonds"
   ]
  },
  {
   "cell_type": "markdown",
   "metadata": {
    "slideshow": {
     "slide_type": "fragment"
    }
   },
   "source": [
    "Also need the pyex library to get stock quotes for the example below ..."
   ]
  },
  {
   "cell_type": "code",
   "execution_count": 2,
   "metadata": {
    "slideshow": {
     "slide_type": "fragment"
    }
   },
   "outputs": [
    {
     "name": "stdout",
     "output_type": "stream",
     "text": [
      "Collecting pyex\n",
      "  Downloading https://files.pythonhosted.org/packages/93/73/2b1562e2e0ed664201b0a37d3a765e869887292ed8367604e6982198d5a9/pyEX-0.1.6.tar.gz\n",
      "Requirement already satisfied: IPython in /Users/chung-wenalberttsao/anaconda3/lib/python3.7/site-packages (from pyex) (7.2.0)\n",
      "Requirement already satisfied: pillow in /Users/chung-wenalberttsao/anaconda3/lib/python3.7/site-packages (from pyex) (5.3.0)\n",
      "Requirement already satisfied: pandas in /Users/chung-wenalberttsao/anaconda3/lib/python3.7/site-packages (from pyex) (0.23.4)\n",
      "Collecting socketIO-client-nexus (from pyex)\n",
      "  Downloading https://files.pythonhosted.org/packages/a0/fa/2bfd4b5f38530876a26678ed98e3f2233b33479d085cc01adf83af87c3f0/socketIO_client_nexus-0.7.6-py2.py3-none-any.whl\n",
      "Requirement already satisfied: prompt-toolkit<2.1.0,>=2.0.0 in /Users/chung-wenalberttsao/anaconda3/lib/python3.7/site-packages (from IPython->pyex) (2.0.7)\n",
      "Requirement already satisfied: setuptools>=18.5 in /Users/chung-wenalberttsao/anaconda3/lib/python3.7/site-packages (from IPython->pyex) (40.6.3)\n",
      "Requirement already satisfied: appnope; sys_platform == \"darwin\" in /Users/chung-wenalberttsao/anaconda3/lib/python3.7/site-packages (from IPython->pyex) (0.1.0)\n",
      "Requirement already satisfied: jedi>=0.10 in /Users/chung-wenalberttsao/anaconda3/lib/python3.7/site-packages (from IPython->pyex) (0.13.2)\n",
      "Requirement already satisfied: pygments in /Users/chung-wenalberttsao/anaconda3/lib/python3.7/site-packages (from IPython->pyex) (2.3.1)\n",
      "Requirement already satisfied: decorator in /Users/chung-wenalberttsao/anaconda3/lib/python3.7/site-packages (from IPython->pyex) (4.3.0)\n",
      "Requirement already satisfied: pickleshare in /Users/chung-wenalberttsao/anaconda3/lib/python3.7/site-packages (from IPython->pyex) (0.7.5)\n",
      "Requirement already satisfied: pexpect; sys_platform != \"win32\" in /Users/chung-wenalberttsao/anaconda3/lib/python3.7/site-packages (from IPython->pyex) (4.6.0)\n",
      "Requirement already satisfied: backcall in /Users/chung-wenalberttsao/anaconda3/lib/python3.7/site-packages (from IPython->pyex) (0.1.0)\n",
      "Requirement already satisfied: traitlets>=4.2 in /Users/chung-wenalberttsao/anaconda3/lib/python3.7/site-packages (from IPython->pyex) (4.3.2)\n",
      "Requirement already satisfied: python-dateutil>=2.5.0 in /Users/chung-wenalberttsao/anaconda3/lib/python3.7/site-packages (from pandas->pyex) (2.7.5)\n",
      "Requirement already satisfied: pytz>=2011k in /Users/chung-wenalberttsao/anaconda3/lib/python3.7/site-packages (from pandas->pyex) (2018.7)\n",
      "Requirement already satisfied: numpy>=1.9.0 in /Users/chung-wenalberttsao/anaconda3/lib/python3.7/site-packages (from pandas->pyex) (1.15.4)\n",
      "Collecting websocket-client (from socketIO-client-nexus->pyex)\n",
      "\u001b[?25l  Downloading https://files.pythonhosted.org/packages/26/2d/f749a5c82f6192d77ed061a38e02001afcba55fe8477336d26a950ab17ce/websocket_client-0.54.0-py2.py3-none-any.whl (200kB)\n",
      "\u001b[K    100% |████████████████████████████████| 204kB 1.6MB/s ta 0:00:01\n",
      "\u001b[?25hRequirement already satisfied: six in /Users/chung-wenalberttsao/anaconda3/lib/python3.7/site-packages (from socketIO-client-nexus->pyex) (1.12.0)\n",
      "Requirement already satisfied: requests>=2.7.0 in /Users/chung-wenalberttsao/anaconda3/lib/python3.7/site-packages (from socketIO-client-nexus->pyex) (2.21.0)\n",
      "Requirement already satisfied: wcwidth in /Users/chung-wenalberttsao/anaconda3/lib/python3.7/site-packages (from prompt-toolkit<2.1.0,>=2.0.0->IPython->pyex) (0.1.7)\n",
      "Requirement already satisfied: parso>=0.3.0 in /Users/chung-wenalberttsao/anaconda3/lib/python3.7/site-packages (from jedi>=0.10->IPython->pyex) (0.3.1)\n",
      "Requirement already satisfied: ptyprocess>=0.5 in /Users/chung-wenalberttsao/anaconda3/lib/python3.7/site-packages (from pexpect; sys_platform != \"win32\"->IPython->pyex) (0.6.0)\n",
      "Requirement already satisfied: ipython-genutils in /Users/chung-wenalberttsao/anaconda3/lib/python3.7/site-packages (from traitlets>=4.2->IPython->pyex) (0.2.0)\n",
      "Requirement already satisfied: idna<2.9,>=2.5 in /Users/chung-wenalberttsao/anaconda3/lib/python3.7/site-packages (from requests>=2.7.0->socketIO-client-nexus->pyex) (2.8)\n",
      "Requirement already satisfied: certifi>=2017.4.17 in /Users/chung-wenalberttsao/anaconda3/lib/python3.7/site-packages (from requests>=2.7.0->socketIO-client-nexus->pyex) (2018.11.29)\n",
      "Requirement already satisfied: urllib3<1.25,>=1.21.1 in /Users/chung-wenalberttsao/anaconda3/lib/python3.7/site-packages (from requests>=2.7.0->socketIO-client-nexus->pyex) (1.24.1)\n",
      "Requirement already satisfied: chardet<3.1.0,>=3.0.2 in /Users/chung-wenalberttsao/anaconda3/lib/python3.7/site-packages (from requests>=2.7.0->socketIO-client-nexus->pyex) (3.0.4)\n",
      "Building wheels for collected packages: pyex\n",
      "  Running setup.py bdist_wheel for pyex ... \u001b[?25ldone\n",
      "\u001b[?25h  Stored in directory: /Users/chung-wenalberttsao/Library/Caches/pip/wheels/ee/14/08/80a1170d20521518fdbe6cb27902fde32c5ed01750c90b6ccb\n",
      "Successfully built pyex\n",
      "Installing collected packages: websocket-client, socketIO-client-nexus, pyex\n",
      "Successfully installed pyex-0.1.6 socketIO-client-nexus-0.7.6 websocket-client-0.54.0\n"
     ]
    }
   ],
   "source": [
    "!pip install pyex"
   ]
  },
  {
   "cell_type": "markdown",
   "metadata": {
    "slideshow": {
     "slide_type": "slide"
    }
   },
   "source": [
    "## Stacks\n",
    "\n",
    "First, we'll make a modification to the MR stack implementation to make string representations of stacks a little more useful.  Notice the use of Python \"monkey patching\" below ...\n",
    "\n",
    "Here's folklore about where that name may have come from:\n",
    "\n",
    "> Incidentally, I think the \"monkey patch\" term originated as follows. First it was \"guerilla patch\", referring to code that sneakily changes other code at runtime without any rules. In Zope 2, sometimes these patches engage in battle with each other. This term went around Zope Corporation for a while. People heard it as \"gorilla patch\", though, since the two words sound very much alike, and the word gorilla is heard more often. So, when someone created a guerilla patch very carefully and tried to avoid any battles, they tried to make it sound less forceful by calling it a monkey patch. The term stuck.\n"
   ]
  },
  {
   "cell_type": "code",
   "execution_count": null,
   "metadata": {
    "slideshow": {
     "slide_type": "subslide"
    }
   },
   "outputs": [],
   "source": [
    "import pythonds.basic.stack\n",
    "\n",
    "# A fix to the __str__ function in Stack to make it work better with the debugger\n",
    "\n",
    "def stack_to_string(self):\n",
    "    return \"stack (\" + str(hex(id(self))) + \"): \"+ str(self.items)\n",
    "\n",
    "pythonds.basic.stack.Stack.__str__ = stack_to_string"
   ]
  },
  {
   "cell_type": "markdown",
   "metadata": {
    "slideshow": {
     "slide_type": "slide"
    }
   },
   "source": [
    "Now, let's look at the methods of Stack ..."
   ]
  },
  {
   "cell_type": "code",
   "execution_count": null,
   "metadata": {
    "pixiedust": {
     "displayParams": {}
    },
    "slideshow": {
     "slide_type": "fragment"
    }
   },
   "outputs": [],
   "source": [
    "from pythonds.basic.stack import Stack\n",
    "\n",
    "methods = [name for name in dir(Stack) if not name.startswith(\"_\")]\n",
    "print(methods)\n",
    "\n",
    "s = Stack()\n",
    "print(s)\n",
    "\n",
    "funcs = [eval(\"s.\"+name) for name in methods]\n",
    "print(funcs)"
   ]
  },
  {
   "cell_type": "code",
   "execution_count": null,
   "metadata": {
    "pixiedust": {
     "displayParams": {}
    },
    "scrolled": true,
    "slideshow": {
     "slide_type": "slide"
    }
   },
   "outputs": [],
   "source": [
    "# Notice how we can define the effects of the mutators in terms of the output of the observers\n",
    "\n",
    "from pythonds.basic.stack import Stack\n",
    "\n",
    "s = Stack()\n",
    "\n",
    "assert s.isEmpty()\n",
    "assert s.size() == 0\n",
    "\n",
    "n = 5\n",
    "\n",
    "print(\"Pushing\")\n",
    "for i in range(n):\n",
    "    assert s.size() == i\n",
    "    s.push(i)\n",
    "    print(i, s)\n",
    "    assert not s.isEmpty()\n",
    "    assert s.peek() == i\n",
    "    assert s.size() == i+1\n",
    "\n",
    "print(\"Popping\")\n",
    "for i in reversed(range(n)):\n",
    "    assert not s.isEmpty()\n",
    "    assert s.peek() == i\n",
    "    assert s.size() == i+1\n",
    "    s.pop()\n",
    "    print(i, s)\n",
    "    assert s.size() == i\n",
    "    \n",
    "assert s.isEmpty()"
   ]
  },
  {
   "cell_type": "markdown",
   "metadata": {
    "slideshow": {
     "slide_type": "slide"
    }
   },
   "source": [
    "Now, let's use a stack for a real problem ...\n",
    "\n",
    "The stock span problem is a financial problem: we have a series of n daily price quotes for a stock and we need to calculate the **span** of stock’s price over these days. \n",
    "The **span** $S_{i}$ of the stock’s price on a given day $i$ is defined as the maximum number of consecutive preceding days for which the price was lower than or equal to its price on the day $i$.  Comparing the spans of different stocks will tell you something about upward/downward trends.\n",
    "\n",
    "For example, if an array of 7 daily prices {100, 80, 60, 70, 60, 75, 85}, then the span values for corresponding 7 days are {1, 1, 1, 2, 1, 4, 6}\n",
    "\n",
    "<img src=\"https://cdncontribute.geeksforgeeks.org/wp-content/uploads/Stock_span.png\" width=800 height=600 >\n",
    "\n",
    "First, let's get some daily closing prices for a bunch of stocks ..."
   ]
  },
  {
   "cell_type": "code",
   "execution_count": null,
   "metadata": {
    "slideshow": {
     "slide_type": "subslide"
    }
   },
   "outputs": [],
   "source": [
    "from pyEX import chart\n",
    "\n",
    "apple = [d[\"close\"] for d in chart(\"AAPL\", timeframe=\"2y\")]\n",
    "amazon = [d[\"close\"] for d in chart(\"AMZN\", timeframe=\"2y\")]\n",
    "adobe = [d[\"close\"] for d in chart(\"ADBE\", timeframe=\"2y\")]\n",
    "microsoft = [d[\"close\"] for d in chart(\"MSFT\", timeframe=\"2y\")]\n",
    "ibm = [d[\"close\"] for d in chart(\"IBM\", timeframe=\"2y\")]\n",
    "ge = [d[\"close\"] for d in chart(\"GE\", timeframe=\"2y\")]\n",
    "\n",
    "print(\"Last ten days of APPL:\", apple[-10::])\n",
    "print(\"Last ten days of GE:\", ge[-10::])"
   ]
  },
  {
   "cell_type": "markdown",
   "metadata": {
    "slideshow": {
     "slide_type": "slide"
    }
   },
   "source": [
    "A simple way to compute spans is just to keep looking back until you find a day with a higher price ..."
   ]
  },
  {
   "cell_type": "code",
   "execution_count": null,
   "metadata": {
    "slideshow": {
     "slide_type": "fragment"
    }
   },
   "outputs": [],
   "source": [
    "def computeSpans(l):\n",
    "    result = [0] * len(l)\n",
    "    for i in range(len(l)):\n",
    "        span = 1\n",
    "        while span <= i and l[i-span] <= l[i]:\n",
    "            span += 1\n",
    "        result[i] = span\n",
    "    return result\n",
    "\n",
    "print(computeSpans(apple))"
   ]
  },
  {
   "cell_type": "markdown",
   "metadata": {
    "slideshow": {
     "slide_type": "slide"
    }
   },
   "source": [
    "And let's look at the relationship between stock prices and spans ..."
   ]
  },
  {
   "cell_type": "code",
   "execution_count": null,
   "metadata": {
    "slideshow": {
     "slide_type": "subslide"
    }
   },
   "outputs": [],
   "source": [
    "%matplotlib inline\n",
    "import matplotlib.pyplot as plt\n",
    "from math import log\n",
    "plt.style.use('seaborn-whitegrid')\n",
    "plt.figure(figsize=(16,9))\n",
    "\n",
    "plt.plot(apple, label=\"APPL\")\n",
    "plt.plot(computeSpans(apple))\n",
    "\n",
    "plt.legend(loc=\"upper center\", fontsize=\"xx-large\")\n",
    "plt.show()"
   ]
  },
  {
   "cell_type": "code",
   "execution_count": null,
   "metadata": {
    "slideshow": {
     "slide_type": "subslide"
    }
   },
   "outputs": [],
   "source": [
    "%matplotlib inline\n",
    "import matplotlib.pyplot as plt\n",
    "from math import log\n",
    "plt.style.use('seaborn-whitegrid')\n",
    "plt.figure(figsize=(16,9))\n",
    "\n",
    "# Because AMZN is an expensive stock, we divide the price by 8\n",
    "# This will help normalize the charts for all the stocks\n",
    "\n",
    "plt.plot([p/8 for p in amazon], label = \"AMZN\")\n",
    "plt.plot(computeSpans(amazon))\n",
    "plt.legend(loc=\"upper center\", fontsize=\"xx-large\")\n",
    "plt.show()"
   ]
  },
  {
   "cell_type": "code",
   "execution_count": null,
   "metadata": {
    "slideshow": {
     "slide_type": "subslide"
    }
   },
   "outputs": [],
   "source": [
    "%matplotlib inline\n",
    "import matplotlib.pyplot as plt\n",
    "from math import log\n",
    "plt.style.use('seaborn-whitegrid')\n",
    "plt.figure(figsize=(16,9))\n",
    "\n",
    "plt.plot([p for p in adobe], label=\"ADBE\")\n",
    "plt.plot(computeSpans(adobe))\n",
    "plt.legend(loc=\"upper center\", fontsize=\"xx-large\")\n",
    "plt.show()"
   ]
  },
  {
   "cell_type": "code",
   "execution_count": null,
   "metadata": {
    "slideshow": {
     "slide_type": "subslide"
    }
   },
   "outputs": [],
   "source": [
    "%matplotlib inline\n",
    "import matplotlib.pyplot as plt\n",
    "from math import log\n",
    "plt.style.use('seaborn-whitegrid')\n",
    "plt.figure(figsize=(16,9))\n",
    "\n",
    "# Again, we'll multiply the stock price to try to normalized the charts\n",
    "\n",
    "plt.plot([p*2 for p in microsoft], label=\"MSFT\")\n",
    "plt.plot(computeSpans(microsoft))\n",
    "plt.legend(loc=\"upper center\", fontsize=\"xx-large\")\n",
    "plt.show()"
   ]
  },
  {
   "cell_type": "code",
   "execution_count": null,
   "metadata": {
    "slideshow": {
     "slide_type": "subslide"
    }
   },
   "outputs": [],
   "source": [
    "%matplotlib inline\n",
    "import matplotlib.pyplot as plt\n",
    "from math import log\n",
    "plt.style.use('seaborn-whitegrid')\n",
    "plt.figure(figsize=(16,9))\n",
    "\n",
    "plt.plot([p for p in ge], label=\"GE\")\n",
    "plt.plot(computeSpans(ge))\n",
    "plt.legend(loc=\"upper center\", fontsize=\"xx-large\")\n",
    "plt.show()"
   ]
  },
  {
   "cell_type": "code",
   "execution_count": null,
   "metadata": {
    "slideshow": {
     "slide_type": "subslide"
    }
   },
   "outputs": [],
   "source": [
    "%matplotlib inline\n",
    "import matplotlib.pyplot as plt\n",
    "from math import log\n",
    "plt.style.use('seaborn-whitegrid')\n",
    "plt.figure(figsize=(16,9))\n",
    "\n",
    "plt.plot([p for p in ibm], label=\"IBM\")\n",
    "plt.plot(computeSpans(ibm))\n",
    "plt.legend(loc=\"upper center\", fontsize=\"xx-large\")\n",
    "plt.show()"
   ]
  },
  {
   "cell_type": "code",
   "execution_count": null,
   "metadata": {
    "slideshow": {
     "slide_type": "subslide"
    }
   },
   "outputs": [],
   "source": [
    "%matplotlib inline\n",
    "import matplotlib.pyplot as plt\n",
    "plt.style.use('seaborn-whitegrid')\n",
    "plt.figure(figsize=(30,20))\n",
    "plt.plot(computeSpans(apple), label=\"AAPL\")\n",
    "plt.plot(computeSpans(microsoft), label=\"MSFT\")\n",
    "plt.plot(computeSpans(adobe), label=\"ADBE\")\n",
    "plt.plot(computeSpans(amazon), label=\"AMZN\")\n",
    "plt.plot(computeSpans(ge), label=\"GE\")\n",
    "plt.plot(computeSpans(ibm), label=\"IBM\")\n",
    "plt.legend(loc=\"upper left\", fontsize=\"xx-large\")\n",
    "plt.show()"
   ]
  },
  {
   "cell_type": "code",
   "execution_count": null,
   "metadata": {
    "slideshow": {
     "slide_type": "subslide"
    }
   },
   "outputs": [],
   "source": [
    "%matplotlib inline\n",
    "import matplotlib.pyplot as plt\n",
    "plt.style.use('seaborn-whitegrid')\n",
    "plt.figure(figsize=(30,20))\n",
    "plt.plot(computeSpans(apple), label=\"AAPL\")\n",
    "plt.plot(computeSpans(ge), label=\"GE\")\n",
    "plt.legend(loc=\"upper left\", fontsize=\"xx-large\")\n",
    "plt.show()"
   ]
  },
  {
   "cell_type": "markdown",
   "metadata": {
    "slideshow": {
     "slide_type": "slide"
    }
   },
   "source": [
    "Finally, let's measure (empirically) the time it takes to do a two-year span computation"
   ]
  },
  {
   "cell_type": "code",
   "execution_count": null,
   "metadata": {
    "slideshow": {
     "slide_type": "fragment"
    }
   },
   "outputs": [],
   "source": [
    "%timeit computeSpans(amazon)\n",
    "%timeit computeSpans(ge)"
   ]
  },
  {
   "cell_type": "markdown",
   "metadata": {
    "slideshow": {
     "slide_type": "fragment"
    }
   },
   "source": [
    "Notice that GE was much faster to compute that AMZN!  Why?"
   ]
  },
  {
   "cell_type": "markdown",
   "metadata": {
    "slideshow": {
     "slide_type": "slide"
    }
   },
   "source": [
    "Now, let's use a stack to improve the asymptotic behavior ...\n",
    "\n",
    "We see that $S[i]$ on day $i$ can be easily computed if we know the closest day $h(i)$ preceding $i$ where the price is greater than the price on day $i$. If no such day exists, we'll define $h(i) = -1$.\n",
    "The span is now computed as $S[i] = i – h(i)$. See the following diagram.\n",
    "\n",
    "<img src=\"https://cdncontribute.geeksforgeeks.org/wp-content/uploads/stock.png\" width=800 height=600>\n",
    "\n",
    "To implement this logic, we use a stack as an abstract data type to store the days $i$, $h(i)$, $h(h(i))$ and so on. When we go from day $i-1$ to $i$, we pop the days when the price was less than or equal to price[i] and then push $i$ onto the stack."
   ]
  },
  {
   "cell_type": "markdown",
   "metadata": {
    "slideshow": {
     "slide_type": "subslide"
    }
   },
   "source": [
    "* We keep in a stack the indices of the elements visible when “looking back”\n",
    "* We scan the array from left to right\n",
    "    * Let $i$ be the current index\n",
    "    * We pop indices from the stack until we find index $j$ such that $price[i] < price[j]$\n",
    "    * We set $S[i] ← i − j + 1$\n",
    "    * We push $i$ onto the stack\n",
    "\n"
   ]
  },
  {
   "cell_type": "code",
   "execution_count": null,
   "metadata": {
    "slideshow": {
     "slide_type": "fragment"
    }
   },
   "outputs": [],
   "source": [
    "from pythonds.basic.stack import Stack\n",
    "def fastSpans(l):\n",
    "    result = [0] * len(l)\n",
    "    s = Stack()\n",
    "    for i in range(len(l)):\n",
    "        while not s.isEmpty() and l[s.peek()] <= l[i]:\n",
    "            s.pop()\n",
    "        if s.isEmpty():\n",
    "            result[i] = i+1\n",
    "        else:\n",
    "            result[i] = i - s.peek()\n",
    "        s.push(i)\n",
    "    return result"
   ]
  },
  {
   "cell_type": "code",
   "execution_count": null,
   "metadata": {
    "slideshow": {
     "slide_type": "fragment"
    }
   },
   "outputs": [],
   "source": [
    "import pixiedust"
   ]
  },
  {
   "cell_type": "code",
   "execution_count": null,
   "metadata": {
    "pixiedust": {
     "displayParams": {}
    },
    "slideshow": {
     "slide_type": "slide"
    }
   },
   "outputs": [],
   "source": [
    "%%pixie_debugger\n",
    "\n",
    "pythonds.basic.stack.Stack.__repr__ = pythonds.basic.stack.Stack.__str__\n",
    "\n",
    "def fastSpans(l):\n",
    "    result = [0] * len(l)\n",
    "    s = Stack()\n",
    "    for i in range(len(l)):\n",
    "        while not s.isEmpty() and l[s.peek()] <= l[i]:\n",
    "            s.pop()\n",
    "        if s.isEmpty():\n",
    "            result[i] = i+1\n",
    "        else:\n",
    "            result[i] = i - s.peek()\n",
    "        s.push(i)\n",
    "    return result\n",
    "print(fastSpans([100, 80, 60, 70, 60, 75, 85]))"
   ]
  },
  {
   "cell_type": "markdown",
   "metadata": {
    "slideshow": {
     "slide_type": "slide"
    }
   },
   "source": [
    "And let's get some times ..."
   ]
  },
  {
   "cell_type": "code",
   "execution_count": null,
   "metadata": {
    "scrolled": true,
    "slideshow": {
     "slide_type": "fragment"
    }
   },
   "outputs": [],
   "source": [
    "print(\"Amazon times: slow and fast\")\n",
    "%timeit computeSpans(amazon)\n",
    "%timeit fastSpans(amazon)\n",
    "\n",
    "print(\"\\nGE times: slow and fast\")\n",
    "%timeit computeSpans(ge)\n",
    "%timeit fastSpans(ge)"
   ]
  },
  {
   "cell_type": "markdown",
   "metadata": {
    "slideshow": {
     "slide_type": "subslide"
    }
   },
   "source": [
    "### What happened??"
   ]
  },
  {
   "cell_type": "markdown",
   "metadata": {
    "slideshow": {
     "slide_type": "fragment"
    }
   },
   "source": [
    "`fastSpans` seems more than O(n) at first look. If we take a closer look, we can observe that every element of array is added and removed from stack at most once. So there are total 2n operations at most. Assuming that a stack operation takes O(1) time, we can say that the time complexity is O(n).\n",
    "\n",
    "But notice that your mileage may vary ..."
   ]
  },
  {
   "cell_type": "markdown",
   "metadata": {
    "slideshow": {
     "slide_type": "slide"
    }
   },
   "source": [
    "## Queues\n",
    "\n",
    "Let's look at a famous algorithm that uses both a stack and a queue -- Dijkstra's \"shunting\" algorithm for generating Polish prefix/postfix notation from infix notation.  We use an output queue -- the next token to be output is put at the end of the queue -- and we have an operator stack to store operators that should not yet be put onto the output queue.\n",
    "\n",
    "In pictures, the algorithm looks like this:\n",
    "\n",
    "<img src=\"data02/shunting yard.png\" width=800 height=600/>\n",
    "\n",
    "Note: this is similar to what's in MR 3.9, but uses a queue for the output (and attributes the proper origination of the algorithm)."
   ]
  },
  {
   "cell_type": "markdown",
   "metadata": {
    "slideshow": {
     "slide_type": "subslide"
    }
   },
   "source": [
    "An aside about Edsger Dijkstra ...\n",
    "\n",
    "<img src=\"https://cacm.acm.org/system/assets/0000/3432/072010_CACMpg41_An-Interview.large.jpg?1476779421&1279552189\" width=500 height=500 />"
   ]
  },
  {
   "cell_type": "markdown",
   "metadata": {
    "slideshow": {
     "slide_type": "subslide"
    }
   },
   "source": [
    "Dijkstra was one of the pioneers who made computing a respectable academic discipline\n",
    " (Notre Dame closed its CS Depart in 1971 because it was just an \"IBM trade school\").  You can (and should) read a short bio here: [Dijkstra Bio](http://www-history.mcs.st-and.ac.uk/Biographies/Dijkstra.html)  A couple of quotes from it:\n",
    "> ... in '55 after three years of programming, while I was still a student, I concluded that the intellectual challenge of programming was greater than the intellectual challenge of theoretical physics, and as a result I chose programming ... I spoke with my boss at the Mathematical Centre in Amsterdam and explained my dilemma that I had to take leave from science if I became a programmer. ... he said he agreed that there was no such thing as a clear scientific component in computer programming, but that I might very well be one of the people called to make it a science.\n",
    "\n",
    "> In 1957 he married Maria C Debets ... However, he had a problem at his wedding for the Justice of the Peace would not accept 'programmer' as profession for the records, so he had to give 'theoretical physicist' on the form. \n",
    "\n",
    "In 1972, Dijkstra won the ACM Turing Award for \"his pioneering contributions to the establishment of the scientific basis for computer software through creative research in basic software theory, algorithm theory, structured programming, and semaphores.\"  His Turing Lecture is still relevant after all these years ([Dijkstra Turing Lecture](https://www.cs.utexas.edu/~EWD/transcriptions/EWD03xx/EWD340.html)).\n",
    "\n",
    "Dijkstra was also a blogger before anyone had invented the word ... :-)"
   ]
  },
  {
   "cell_type": "markdown",
   "metadata": {
    "slideshow": {
     "slide_type": "subslide"
    }
   },
   "source": [
    "Now, a little more monkey patching ... The book's Queue implementation puts the \"youngest\" element at the front of the list and then pops the \"oldest\" element from the back of the list.  Let's add a \"getitems\" that returns them in a list ordered from \"oldest\" to \"youngest\" (like the queue we imagine ...)\n",
    "\n",
    "We'll also implement a `peek` operation so that queues and stacks look a little more common ..."
   ]
  },
  {
   "cell_type": "code",
   "execution_count": null,
   "metadata": {
    "slideshow": {
     "slide_type": "subslide"
    }
   },
   "outputs": [],
   "source": [
    "from pythonds.basic.queue import Queue\n",
    "def getitems(self):\n",
    "    return self.items[::-1]\n",
    "\n",
    "pythonds.basic.queue.Queue.getitems = getitems\n",
    "\n",
    "def front(self):\n",
    "    return self.items[-1]\n",
    "\n",
    "pythonds.basic.queue.Queue.peek = front"
   ]
  },
  {
   "cell_type": "markdown",
   "metadata": {
    "slideshow": {
     "slide_type": "slide"
    }
   },
   "source": [
    "Finally, the shunting yard algorithm ..."
   ]
  },
  {
   "cell_type": "code",
   "execution_count": null,
   "metadata": {
    "slideshow": {
     "slide_type": "fragment"
    }
   },
   "outputs": [],
   "source": [
    "from pythonds.basic.queue import Queue\n",
    "from pythonds.basic.stack import Stack\n",
    "\n",
    "from typing import List\n",
    "\n",
    "operators = [\"+\", \"-\", \"*\", \"/\", \"(\"]\n",
    "\n",
    "def ShuntingYard(exp: List[str]) -> List[str]:\n",
    "    output = Queue()\n",
    "    shunt = Stack()\n",
    "    for element in exp:\n",
    "        # All numbers get put directly on the output queue\n",
    "        if element.isnumeric():\n",
    "            output.enqueue(element)\n",
    "        # Operators get shunted off to the operator stack\n",
    "        # Notice that \"(\" is treated as an operator\n",
    "        # \n",
    "        elif element in operators:\n",
    "            shunt.push(element)\n",
    "        elif element == \")\":\n",
    "            while shunt.peek() != \"(\":\n",
    "                output.enqueue(shunt.pop())\n",
    "            shunt.pop()\n",
    "    while not shunt.isEmpty():\n",
    "        output.enqueue(shunt.pop())    \n",
    "    return output.getitems()\n",
    "\n",
    "print(ShuntingYard(\"1 + 2\".split()))\n",
    "print(ShuntingYard(\"1 + ( 2 * 3 )\".split()))"
   ]
  },
  {
   "cell_type": "markdown",
   "metadata": {
    "slideshow": {
     "slide_type": "subslide"
    }
   },
   "source": [
    "### Running Time?\n",
    "\n",
    "Each token will be read once, each number and operator will be queued once, and each operator or parenthesis will be pushed onto the stack and popped off the stack once.  Thus, there are at most a constant number of operations executed per token, and the running time is O(n).\n",
    "\n",
    "Note that this analysis depends on the stack and queue primitives being O(1).  Are they?"
   ]
  },
  {
   "cell_type": "markdown",
   "metadata": {
    "slideshow": {
     "slide_type": "slide"
    }
   },
   "source": [
    "## Python Lists\n",
    "\n",
    "Material from https://www.laurentluce.com/posts/python-list-implementation/.\n",
    "\n",
    "Basically, lists are handled as resizable arrays -- no links.  Lookup is O(1).  Here's a simple test ..."
   ]
  },
  {
   "cell_type": "code",
   "execution_count": null,
   "metadata": {},
   "outputs": [],
   "source": [
    "small = [0] * 100\n",
    "medium = [0] * 100000\n",
    "large = [0] * 1000000000\n",
    "\n",
    "%timeit -n10000 small[100//2]\n",
    "%timeit -n10000 medium[100000//2]\n",
    "%timeit -n10000 large[1000000000//2]"
   ]
  },
  {
   "cell_type": "markdown",
   "metadata": {
    "slideshow": {
     "slide_type": "slide"
    }
   },
   "source": [
    "### Adding/removing the last element\n",
    "\n",
    "This data structure makes:\n",
    "* Removal -- pop -- O(1)\n",
    "* Insertion -- push -- \"amortized\" O(1)\n",
    "\n",
    "First, removal ...  removing the last element is just shortening the array.  Shortening is handled by just reducing the \"list length\" size in the list header. If the list shrinks considerably, then free up the space.\n",
    "\n",
    "<img src=\"https://www.laurentluce.com/images/blog/list/list_pop.png\" />"
   ]
  },
  {
   "cell_type": "markdown",
   "metadata": {
    "slideshow": {
     "slide_type": "slide"
    }
   },
   "source": [
    "Inserting at the end is more complicated ...\n",
    "\n",
    "When a list is allocated, space is taken for some multiple of the current size (say double).  Then, each insertion at the end is O(1) -- until you need to add more space!  We can see this in action with the following code."
   ]
  },
  {
   "cell_type": "code",
   "execution_count": null,
   "metadata": {
    "slideshow": {
     "slide_type": "fragment"
    }
   },
   "outputs": [],
   "source": [
    "from sys import getsizeof\n",
    "data = [ ]\n",
    "size = getsizeof(data)\n",
    "allocations = 0\n",
    "\n",
    "n = 1000000\n",
    "\n",
    "for k in range(n): # NOTE: must ﬁx choice of n\n",
    "    length = len(data)   # number of elements\n",
    "    next_size = getsizeof(data) # actual size in bytes\n",
    "    if next_size != size:\n",
    "        size = next_size\n",
    "        allocations += 1\n",
    "        print('(Allocation {2:2d}) Length: {0:6d}; Size in bytes: {1:8d}'.format(length, size, allocations))\n",
    "    data.append(None)  # increase length by one"
   ]
  },
  {
   "cell_type": "markdown",
   "metadata": {
    "slideshow": {
     "slide_type": "slide"
    }
   },
   "source": [
    "Here's a more detailed description ... Starting with a list of a single element, \n",
    "<img src=\"https://www.laurentluce.com/images/blog/list/list.png\" /> then after a sequence of appends we have ...\n",
    "\n",
    "<img src=\"https://www.laurentluce.com/images/blog/list/list_4.png\" />\n",
    "\n",
    "The next append causes a \"resize\" that requires copying all of the existing items into new cells, which obviously is O(n).  But we still end up with \"amortized\" cost O(1) by the following argument:\n",
    "\n",
    "> Assume we current have a list and corresponding array with $2^{n}$ elements, and we now have to double our array to size $2^{n+1}$. That means we're currently doing $2^{n+1}$ operations. Last copy, we did $2^{n}$ operations. Before that we did $2^{n-1}$... all the way down to 8,4,2,1. Here's a little program that shows the progression of allocatgion costs. "
   ]
  },
  {
   "cell_type": "code",
   "execution_count": null,
   "metadata": {
    "slideshow": {
     "slide_type": "subslide"
    }
   },
   "outputs": [],
   "source": [
    "for i in range(1, 10):\n",
    "    l = []\n",
    "    sum = 0\n",
    "    for j in range(i):\n",
    "        l = l + ([2**(i-j-1)] * j)\n",
    "        sum += 2**(i-j-1) * j\n",
    "    print(i, sum, l)"
   ]
  },
  {
   "cell_type": "markdown",
   "metadata": {
    "slideshow": {
     "slide_type": "slide"
    }
   },
   "source": [
    "Now, if we add these up for an array with $2^{n}$ elements, we get $1 + 2 + 4 + 8 + ... + 2^{n+1} = 2^{n+2} - 1 < 4 \\times 2^{n} = O(2^{n})$ total insertions. So amortized over the series of insertions, it's O(1).  \n",
    "\n",
    "Here's a simple chart of the amortized costs of the list operations.\n",
    "\n",
    "<img src=\"data02/listOps2.png\" width=400 height=800>"
   ]
  },
  {
   "cell_type": "markdown",
   "metadata": {
    "slideshow": {
     "slide_type": "slide"
    }
   },
   "source": [
    "## Deque\n",
    "\n",
    "A dequeue allows insertions and deletions at both ends.  So a simple implementation using a list isn't appropriate because adding/deleting at one of the ends is going to be O(n) instead of O(1).  Python provides a `deque` class in the `collections` library that you should always use if you need this functionality."
   ]
  },
  {
   "cell_type": "code",
   "execution_count": null,
   "metadata": {
    "slideshow": {
     "slide_type": "subslide"
    }
   },
   "outputs": [],
   "source": [
    "from collections import deque\n",
    "d = deque()\n",
    "\n",
    "%timeit -n10000 for i in range(10): d.append(1)\n",
    "    \n",
    "d.clear()\n",
    "\n",
    "%timeit -n10000 for i in range(10): d.appendleft(1)"
   ]
  },
  {
   "cell_type": "markdown",
   "metadata": {
    "slideshow": {
     "slide_type": "slide"
    }
   },
   "source": [
    "To allow insertions/deletions at either end, the `deque` implementation uses a doubly-linked list -- each item in the list has a pointer to its successor and predecessor (which we will talk more about next week).  This means more overhead (an important lesson of this course is \"nothing is free\"), but gives the desired performance."
   ]
  },
  {
   "cell_type": "code",
   "execution_count": null,
   "metadata": {},
   "outputs": [],
   "source": []
  }
 ],
 "metadata": {
  "celltoolbar": "Slideshow",
  "kernelspec": {
   "display_name": "Python 3",
   "language": "python",
   "name": "python3"
  },
  "language_info": {
   "codemirror_mode": {
    "name": "ipython",
    "version": 3
   },
   "file_extension": ".py",
   "mimetype": "text/x-python",
   "name": "python",
   "nbconvert_exporter": "python",
   "pygments_lexer": "ipython3",
   "version": "3.7.1"
  },
  "livereveal": {
   "scroll": true
  }
 },
 "nbformat": 4,
 "nbformat_minor": 2
}
