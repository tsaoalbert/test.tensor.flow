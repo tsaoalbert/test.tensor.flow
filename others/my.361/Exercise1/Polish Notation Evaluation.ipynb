{
 "cells": [
  {
   "cell_type": "markdown",
   "metadata": {},
   "source": [
    "# Exercise 1\n",
    "\n",
    "## Due January 23 before class\n",
    "\n",
    "## Polish Notation Expression Evaluator\n"
   ]
  },
  {
   "cell_type": "markdown",
   "metadata": {},
   "source": [
    "## Rules\n",
    "* You can hand in either a Notebook (filling in the code below) or a Python file.\n",
    "* You must show that your program works with my test program\n",
    "* This must be your own work -- not code off of the Internet of from another student's solution"
   ]
  },
  {
   "cell_type": "markdown",
   "metadata": {},
   "source": [
    "Polish notation (PN) is a mathematical notation in which the operators precede their operands.  So instead of a normal (infix) expression like \"1 + 2,\" in PN notation you would write \"+ 1 2\".  You can find a lot more about RPN notation here [PN Notation](https://en.wikipedia.org/wiki/Polish_notation), including why it's called \"POLISH Notation.\"\n",
    "\n",
    "Evaluating an RPN expression is easy, requiring two stacks, an operator and an operand stack (if you go from left to right). Traversing the expression from left to right:\n",
    "* Repeat the following sequence until either the operator stack is empty or the operand stack does not have sufficient operands to apply the top operator: \n",
    "    * pop the operand stack to get the required operators, \n",
    "    * pop the operator stack to get the operator, apply the operator to the operands, and \n",
    "    * push the result back on the operand stack.  \n",
    "* If the next token is an operand, push it on the operand stack, or\n",
    "* If the next token is an operator, push it on the operator stack.\n",
    "\n",
    "At the end, the final result is on the top of the operand stack.\n",
    "\n",
    "For example, to evaluate \"+ - * 1 2 3 4\", we:\n",
    "1. Push \"+\" on the operator stack,\n",
    "2. Push \"-\" on the operator stack,\n",
    "3. Push \"\\*\" on the operator stack,\n",
    "4. Push \"1\" on the operand stack,\n",
    "5. Push \"2\" on the operand stack,\n",
    "6. Evaluate \"1 * 2\" and push \"2\" on the operand stack,\n",
    "7. Push \"3\" on the operand stack,\n",
    "8. Evaluate \"2 - 3\" and push \"-1\" on the operand stack,\n",
    "9. Push \"4\" on the operand stack, and\n",
    "10. Evaluate \"-1 * 4\" and push \"-4\" on the operand stack.\n",
    "\n",
    "And the final result is -4.\n",
    "\n",
    "Your Evaluator class needs to have two methods (and an \\_\\_init\\_\\_ method, of course):\n",
    "* bind -- which takes a name and a Python function object and binds the name to the function (so that you can use the name in expressions), and\n",
    "* evaluate -- which takes a PN expression and returns its value, given the current function bindings\n",
    "\n",
    "You just need to fill in the details ..."
   ]
  },
  {
   "cell_type": "code",
   "execution_count": null,
   "metadata": {},
   "outputs": [],
   "source": [
    "class Evaluator:\n",
    "\n",
    "    def __init__(self):\n",
    "        pass\n",
    "    \n",
    "    def evaluate(self, exp):\n",
    "        pass\n",
    "    \n",
    "    def bind(self, name, function):\n",
    "        pass"
   ]
  },
  {
   "cell_type": "markdown",
   "metadata": {},
   "source": [
    "Here is a test program you need to use to verify that your evaluator works.  A couple of points:\n",
    "* Be careful that you get the operands in the right order when handling binary operations -- \"eval - 2 1\" should return 1, not -1.\n",
    "* I've added a command so that you can also import new libraries -- this means you can do something like\n",
    "    ```\n",
    "    import random\n",
    "    bind rand random.randint\n",
    "    eval 1 10 rand\n",
    "    ```\n",
    "  and get a random integer computed!\n",
    "* Note that the functions used in the test program below include zero-, one-, and two-argument functions.  One of the things you need to compute is how many arguments you need to call a function -- hint: use the `inspect` library.\n",
    "* Finally, notice that in the example of `bind rand random.randint`, the binding takes place to a \"bound method\" (a method that already has a `self` binding). Be careful when you compute how many arguments it really needs to be called -- there's a trick here."
   ]
  },
  {
   "cell_type": "code",
   "execution_count": null,
   "metadata": {},
   "outputs": [],
   "source": [
    "import math\n",
    "import operator\n",
    "\n",
    "operators = [(\"-\", operator.sub),\n",
    "              (\"+\", operator.add),\n",
    "              (\"*\", operator.mul),\n",
    "              (\"%\", operator.mod),\n",
    "              (\"/\", operator.truediv),\n",
    "              (\"//\", operator.floordiv),\n",
    "              (\"neg\", operator.neg),\n",
    "              (\"abs\", abs),\n",
    "              (\"int\", lambda x: int(x)),\n",
    "              (\"sqrt\", math.sqrt),\n",
    "              (\"**\", pow),\n",
    "              (\"True\", lambda : True),\n",
    "              (\"False\", lambda : False),\n",
    "              (\"pi\", lambda : math.pi),\n",
    "              (\"float\", lambda x: float(x))]\n",
    "\n",
    "e = Evaluator()\n",
    "for (name, func) in operators:\n",
    "    e.bind(name, func)\n",
    "\n",
    "while True:\n",
    "    exp = input(\"Enter command:\")\n",
    "    if not exp:\n",
    "        break\n",
    "    if exp.startswith(\"eval \"):\n",
    "        exp = exp[4:].strip()\n",
    "        print(e.evaluate(exp))\n",
    "    elif exp.startswith(\"import \"):\n",
    "        library = exp[6:].strip()\n",
    "        try:\n",
    "            exec(exp)\n",
    "            print(\"import of\", library, \"successful\")\n",
    "        except:\n",
    "            print(\"import of\", library, \"not successful\")\n",
    "    elif exp.startswith(\"bind\"):\n",
    "        l = exp[5:].strip().split()\n",
    "        name = l[0]\n",
    "        function = \" \".join(l[1:])\n",
    "        try:\n",
    "            func = eval(function)\n",
    "            e.bind(name, func)\n",
    "            print(\"bind of\", name, \"to\", function, \"successful\")\n",
    "        except:\n",
    "            print(\"Could not evaluate function\", function)\n",
    "        "
   ]
  },
  {
   "cell_type": "code",
   "execution_count": null,
   "metadata": {},
   "outputs": [],
   "source": []
  }
 ],
 "metadata": {
  "kernelspec": {
   "display_name": "Python 3",
   "language": "python",
   "name": "python3"
  },
  "language_info": {
   "codemirror_mode": {
    "name": "ipython",
    "version": 3
   },
   "file_extension": ".py",
   "mimetype": "text/x-python",
   "name": "python",
   "nbconvert_exporter": "python",
   "pygments_lexer": "ipython3",
   "version": "3.7.1"
  }
 },
 "nbformat": 4,
 "nbformat_minor": 2
}
