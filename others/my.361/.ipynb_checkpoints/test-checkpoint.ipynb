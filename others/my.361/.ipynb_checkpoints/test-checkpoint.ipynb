{
 "cells": [
  {
   "cell_type": "code",
   "execution_count": null,
   "metadata": {
    "slideshow": {
     "slide_type": "fragment"
    }
   },
   "outputs": [],
   "source": [
    "!pip install pixiedust"
   ]
  },
  {
   "cell_type": "markdown",
   "metadata": {
    "slideshow": {
     "slide_type": "fragment"
    }
   },
   "source": [
    "You also need to install the rise package to be able to view Notebooks as slideshows .."
   ]
  },
  {
   "cell_type": "code",
   "execution_count": null,
   "metadata": {
    "slideshow": {
     "slide_type": "fragment"
    }
   },
   "outputs": [],
   "source": [
    "!conda install -c conda-forge rise"
   ]
  },
  {
   "cell_type": "markdown",
   "metadata": {
    "slideshow": {
     "slide_type": "slide"
    }
   },
   "source": [
    "## Review\n",
    "\n",
    "### Python\n",
    "\n",
    "I'm going to assume that you're all pretty solid Python programmers.  I've included a \"Python overview\" notebook, which you should go through if you're nervous about your Python background.  It also includes an example using the pixie debugger -- I recommend walking through to try it out."
   ]
  },
  {
   "cell_type": "markdown",
   "metadata": {
    "slideshow": {
     "slide_type": "subslide"
    }
   },
   "source": [
    "### Abstract Data Types\n",
    "\n",
    "The text talks a lot about \"abstract data types,\" but doesn't really offer much of a definition of what makes a data type \"abstract.\"  I've included a paper from John Guttag of MIT about abstract data types that you should read.  From the paper,\n",
    "\n",
    "> The notion of an abstract data type is quite simple. It is a set of objects\n",
    "and the operations on those objects. The specification of those operations\n",
    "defines an interface between the abstract data type and the rest of the\n",
    "program. The interface defines the behavior of the operations – what they\n",
    "do, but not how they do it. The specification thus defines an abstraction\n",
    "barrier (Figure 1) that isolates the rest of the program from the data\n",
    "structures, algorithms, and code involved in providing a realization of the\n",
    "type abstraction.\n"
   ]
  },
  {
   "cell_type": "markdown",
   "metadata": {
    "slideshow": {
     "slide_type": "subslide"
    }
   },
   "source": [
    "#### Basic Idea ... Isolate Design Decision Implications\n",
    "\n",
    "* Abstraction\n",
    "    * Omitting or hiding low-level details\n",
    "* Modularity\n",
    "    * Dividing a system into components or modules, each of which are independent\n",
    "* Encapsulation\n",
    "    * Building walls around modules to ensure preservation of module integrity\n",
    "* Information Hiding\n",
    "    * Hiding details so they can be changed independently of rest of system\n",
    "* Separation of Concerns\n",
    "    * Making “feature” responsibility of single module, rather than spreading across many modules\n"
   ]
  },
  {
   "cell_type": "markdown",
   "metadata": {
    "slideshow": {
     "slide_type": "subslide"
    }
   },
   "source": [
    "#### Data Type operations\n",
    "\n",
    "Generally divide into:\n",
    "* Creators\n",
    "    * $\\large t^{*} \\rightarrow T$\n",
    "* Producers\n",
    "    * $\\large [T^{+}, t^{*}] \\rightarrow T$\n",
    "* Observers\n",
    "    * $\\large [T^{+}, t^{*}] \\rightarrow t$\n",
    "* Mutators\n",
    "    * $\\large [T^{+}, t^{*}] \\rightarrow \\{None, T, t\\}$"
   ]
  },
  {
   "cell_type": "markdown",
   "metadata": {
    "slideshow": {
     "slide_type": "fragment"
    }
   },
   "source": [
    "#### Examples\n",
    "\n",
    "* Integers\n",
    "    * creators: numeric literals\n",
    "\t* producers: arithmetic operators (+,-,*, …)\n",
    "\t* observers: comparison operators (==, !=, <, >)\n",
    "\t* mutators: none\n",
    "\n",
    "* Python Lists\n",
    "    * creators: list constants, list comprehensions\n",
    "\t* producers: list comprehensions, copy, slicing\n",
    "\t* observers: index, count \n",
    "\t* mutators: append, extend, insert, remove, pop, clear, sort, reverse"
   ]
  },
  {
   "cell_type": "markdown",
   "metadata": {
    "slideshow": {
     "slide_type": "slide"
    }
   },
   "source": [
    "#### What Properties Should Operations Have?\n",
    "\n",
    "* Minimal\n",
    "\t* Only define what’s needed\n",
    "\t* Prove the need for “convenience functions” before adding them\n",
    "    \n",
    "* Adequate\n",
    "\t* Every mutator should change the value of some observer\n",
    "\t* Different creator/producer arguments should change value of some observer\n"
   ]
  },
  {
   "cell_type": "code",
   "execution_count": null,
   "metadata": {
    "slideshow": {
     "slide_type": "subslide"
    }
   },
   "outputs": [],
   "source": [
    "# Here's a Python stack implementation using lists\n",
    "# I've added typing information to make the specification a little tighter\n",
    "\n",
    "from typing import Any, TypeVar, List\n",
    "\n",
    "T = TypeVar('T')\n",
    "\n",
    "class stack:\n",
    "    def __init__(self):\n",
    "        self.items: List[T] = []\n",
    "            \n",
    "    def push(self, val: T) -> None:\n",
    "        self.items.append(val)\n",
    "        \n",
    "    def pop(self) -> T:\n",
    "        return self.items.pop()\n",
    "    \n",
    "    def isEmpty(self) -> bool:\n",
    "        return len(self.items) == 0"
   ]
  },
  {
   "cell_type": "markdown",
   "metadata": {
    "slideshow": {
     "slide_type": "fragment"
    }
   },
   "source": [
    "Only observer is `isEmpty`.  Note that we have the obvious truths ..."
   ]
  },
  {
   "cell_type": "code",
   "execution_count": null,
   "metadata": {
    "slideshow": {
     "slide_type": "fragment"
    }
   },
   "outputs": [],
   "source": [
    "s = stack()\n",
    "s.push(10)\n",
    "assert not s.isEmpty()\n",
    "x = s.pop()\n",
    "assert s.isEmpty() and x == 10"
   ]
  },
  {
   "cell_type": "markdown",
   "metadata": {
    "slideshow": {
     "slide_type": "subslide"
    }
   },
   "source": [
    "This may be minimal, but it isn't really adequate.  So the text adds:"
   ]
  },
  {
   "cell_type": "code",
   "execution_count": null,
   "metadata": {
    "slideshow": {
     "slide_type": "fragment"
    }
   },
   "outputs": [],
   "source": [
    "def size(self) -> int:\n",
    "    return len(self.items)\n",
    "\n",
    "def peek(self) -> T:\n",
    "    return self.items[0]\n",
    "\n",
    "stack.size = size\n",
    "stack.peek = peek"
   ]
  },
  {
   "cell_type": "code",
   "execution_count": null,
   "metadata": {
    "slideshow": {
     "slide_type": "fragment"
    }
   },
   "outputs": [],
   "source": [
    "s.push(20)\n",
    "assert s.peek() == 20"
   ]
  },
  {
   "cell_type": "markdown",
   "metadata": {
    "slideshow": {
     "slide_type": "subslide"
    }
   },
   "source": [
    "And we might want to add a `clear` mutator too ..."
   ]
  },
  {
   "cell_type": "code",
   "execution_count": null,
   "metadata": {
    "slideshow": {
     "slide_type": "subslide"
    }
   },
   "outputs": [],
   "source": [
    "def clear(self) -> None:\n",
    "    self.items.clear()\n",
    "    \n",
    "stack.clear = clear\n",
    "\n",
    "s.clear()\n",
    "assert s.isEmpty()"
   ]
  },
  {
   "cell_type": "markdown",
   "metadata": {
    "slideshow": {
     "slide_type": "slide"
    }
   },
   "source": [
    "### Algorithm Analysis\n",
    "\n",
    "Some numbers you need to know ...\n",
    "\n",
    "But first, a wonderful insight from Grace Hopper ...."
   ]
  },
  {
   "cell_type": "code",
   "execution_count": null,
   "metadata": {
    "slideshow": {
     "slide_type": "subslide"
    }
   },
   "outputs": [],
   "source": [
    "from IPython.lib.display import YouTubeVideo\n",
    "YouTubeVideo('JEpsKnWZrJ8', width=800, height=600)"
   ]
  },
  {
   "cell_type": "markdown",
   "metadata": {
    "slideshow": {
     "slide_type": "subslide"
    }
   },
   "source": [
    "### Latency numbers every programmer should know\n",
    "    L1 cache reference ......................... 0.5 ns\n",
    "    Branch mispredict ............................ 5 ns\n",
    "    L2 cache reference ........................... 7 ns\n",
    "    Mutex lock/unlock ........................... 25 ns\n",
    "    Main memory reference ...................... 100 ns             \n",
    "    Compress 1K bytes with Zippy ............. 3,000 ns  =   3 µs\n",
    "    Send 2K bytes over 1 Gbps network ....... 20,000 ns  =  20 µs\n",
    "    SSD random read ........................ 150,000 ns  = 150 µs\n",
    "    Read 1 MB sequentially from memory ..... 250,000 ns  = 250 µs\n",
    "    Round trip within same datacenter ...... 500,000 ns  = 0.5 ms\n",
    "    Read 1 MB sequentially from SSD* ..... 1,000,000 ns  =   1 ms\n",
    "    Disk seek ........................... 10,000,000 ns  =  10 ms\n",
    "    Read 1 MB sequentially from disk .... 20,000,000 ns  =  20 ms\n",
    "    Send packet CA->Netherlands->CA .... 150,000,000 ns  = 150 ms\n",
    "    Human response time ................ 250,000,000 ns  = 250 ms\n",
    "\n",
    "Assuming ~1GB/sec SSD"
   ]
  },
  {
   "cell_type": "markdown",
   "metadata": {
    "slideshow": {
     "slide_type": "subslide"
    }
   },
   "source": [
    "![Visual representation of latencies](http://i.imgur.com/k0t1e.png)\n",
    "\n",
    "Visual chart provided by [ayshen](https://gist.github.com/ayshen)\n",
    "\n",
    "Data by [Jeff Dean](http://research.google.com/people/jeff/)\n",
    "\n",
    "Originally by [Peter Norvig](http://norvig.com/21-days.html#answers)"
   ]
  },
  {
   "cell_type": "markdown",
   "metadata": {
    "slideshow": {
     "slide_type": "subslide"
    }
   },
   "source": [
    "Lets multiply all these durations by a billion:\n",
    "\n",
    "Magnitudes:\n",
    "\n",
    "### Minute:\n",
    "    L1 cache reference                  0.5 s         One heart beat (0.5 s)\n",
    "    Branch mispredict                   5 s           Yawn\n",
    "    L2 cache reference                  7 s           Long yawn\n",
    "    Mutex lock/unlock                   25 s          Making a coffee\n",
    "\n",
    "### Hour:\n",
    "    Main memory reference               100 s         Brushing your teeth\n",
    "    Compress 1K bytes with Zippy        50 min        One episode of a TV show\n",
    "\n",
    "### Day:\n",
    "    Send 2K bytes over 1 Gbps network   5.5 hr        From lunch to end of work day\n",
    "\n",
    "### Week\n",
    "    SSD random read                     1.7 days      A normal weekend\n",
    "    Read 1 MB sequentially from memory  2.9 days      A long weekend\n",
    "    Round trip within same datacenter   5.8 days      A medium vacation\n",
    "    Read 1 MB sequentially from SSD    11.6 days      Waiting almost 2 weeks for a delivery\n",
    "\n",
    "### Year\n",
    "    Disk seek                           16.5 weeks    A semester in university\n",
    "    Read 1 MB sequentially from disk    7.8 months    Almost producing a new human being\n",
    "\n",
    "### Decade\n",
    "    Send packet CA->Netherlands->CA     4.8 years     Time to complete a bachelor's degree"
   ]
  },
  {
   "cell_type": "markdown",
   "metadata": {
    "slideshow": {
     "slide_type": "slide"
    }
   },
   "source": [
    "So, how to judge program performance?  You can try empirical analysis:\n",
    "\n",
    "* Run program and measure time (or space)\n",
    "* First, need running correct program\n",
    "* Then need “appropriate” input data\n",
    "    * Actual, random, or perverse data?\n",
    "\n",
    "It's easy to be mislead:\n",
    "* Large system behavior depends on many things\n",
    "* Network isolation, DB tuning parameters, VM size, ...\n",
    "* At least, are the results repeatable?\n"
   ]
  },
  {
   "cell_type": "markdown",
   "metadata": {
    "slideshow": {
     "slide_type": "subslide"
    }
   },
   "source": [
    "### The computer scientist definition of \"fast algorithm\"\n",
    "\n",
    "An algorithm is \"fast\" if its worst-case running time grows slowly with the input size.\n",
    "\n",
    "Three principles of this kind of algorithm analysis:\n",
    "* Worst-case behavior is most important\n",
    "* Don't sweat small constant factors -- big picture analysis\n",
    "* Asymptotic analysis -- how does behavior change as input size grows?"
   ]
  },
  {
   "cell_type": "markdown",
   "metadata": {
    "slideshow": {
     "slide_type": "subslide"
    }
   },
   "source": [
    "Seven functions that often appear in algorithm analysis:\n",
    "* Constant ≈ $1$\n",
    "* Logarithmic ≈ $\\log n$\n",
    "* Linear ≈ $n$\n",
    "* N-Log-N ≈ $n \\log n$\n",
    "* Quadratic ≈ $n^{2}$\n",
    "* Cubic ≈ $n^{3}$\n",
    "* Exponential ≈ $2^{n}$\n",
    "\n",
    "Let's look at their growth rates using matplotlib!\n"
   ]
  },
  {
   "cell_type": "code",
   "execution_count": null,
   "metadata": {
    "slideshow": {
     "slide_type": "subslide"
    }
   },
   "outputs": [],
   "source": [
    "%matplotlib inline\n",
    "import matplotlib.pyplot as plt\n",
    "from math import log\n",
    "plt.style.use('seaborn-whitegrid')\n",
    "plt.figure(figsize=(16,9))\n",
    "\n",
    "import numpy as np\n",
    "x = np.linspace(1, 20, 50)\n",
    "\n",
    "# First plot a constant function\n",
    "plt.plot(x, np.ones(50), label=\"f(n) = 1\")\n",
    "\n",
    "# Then plot log(x)\n",
    "plt.plot(x, np.log(x), label='f(n)= log(n)')\n",
    "\n",
    "# Then plot linear growth\n",
    "plt.plot(x, x, label='f(n)=n')\n",
    "\n",
    "plt.legend(loc=\"upper center\", fontsize=\"xx-large\")\n",
    "plt.show()"
   ]
  },
  {
   "cell_type": "code",
   "execution_count": null,
   "metadata": {
    "slideshow": {
     "slide_type": "subslide"
    }
   },
   "outputs": [],
   "source": [
    "%matplotlib inline\n",
    "import matplotlib.pyplot as plt\n",
    "from math import log\n",
    "plt.style.use('seaborn-whitegrid')\n",
    "plt.figure(figsize=(16,9))\n",
    "import numpy as np\n",
    "x = np.linspace(1, 20, 50)\n",
    "\n",
    "# First plot a constant function\n",
    "plt.plot(x, np.ones(50), label=\"f(n) = 1\")\n",
    "\n",
    "# Then plot log(x)\n",
    "plt.plot(x, np.log(x), label='f(n)= log(n)')\n",
    "\n",
    "# Then plot linear growth\n",
    "plt.plot(x, x, label='f(n)=n')\n",
    "\n",
    "# Now add n log n growth\n",
    "plt.plot(x, np.multiply(x, np.log(x)), label=\"f(n) = n*log(n)\")\n",
    "\n",
    "plt.legend(loc=\"upper center\", fontsize=\"xx-large\")\n",
    "plt.show()"
   ]
  },
  {
   "cell_type": "code",
   "execution_count": null,
   "metadata": {
    "slideshow": {
     "slide_type": "subslide"
    }
   },
   "outputs": [],
   "source": [
    "%matplotlib inline\n",
    "import matplotlib.pyplot as plt\n",
    "from math import log\n",
    "plt.style.use('seaborn-whitegrid')\n",
    "plt.figure(figsize=(16,9))\n",
    "\n",
    "import numpy as np\n",
    "x = np.linspace(1, 20, 50)\n",
    "\n",
    "# First plot a constant function\n",
    "plt.plot(x, np.ones(50), label=\"f(n) = 1\")\n",
    "\n",
    "# Then plot log(x)\n",
    "plt.plot(x, np.log(x), label='f(n)= log(n)')\n",
    "\n",
    "# Then plot linear growth\n",
    "plt.plot(x, x, label='f(n)=n')\n",
    "\n",
    "# Now add n log n growth\n",
    "plt.plot(x, np.multiply(x, np.log(x)), label=\"f(n) = n*log(n)\")\n",
    "\n",
    "# Now add n**2 growth\n",
    "plt.plot(x, np.power(x, 2), label=\"f(n) = n**2\")\n",
    "\n",
    "plt.legend(loc=\"upper center\", fontsize=\"xx-large\")\n",
    "plt.show()"
   ]
  },
  {
   "cell_type": "code",
   "execution_count": null,
   "metadata": {
    "slideshow": {
     "slide_type": "subslide"
    }
   },
   "outputs": [],
   "source": [
    "%matplotlib inline\n",
    "import matplotlib.pyplot as plt\n",
    "from math import log\n",
    "plt.style.use('seaborn-whitegrid')\n",
    "plt.figure(figsize=(16, 9))\n",
    "\n",
    "import numpy as np\n",
    "x = np.linspace(1, 20, 50)\n",
    "\n",
    "# First plot a constant function\n",
    "plt.plot(x, np.ones(50), label=\"f(n) = 1\")\n",
    "\n",
    "# Then plot log(x)\n",
    "plt.plot(x, np.log(x), label='f(n)= log(n)')\n",
    "\n",
    "# Then plot linear growth\n",
    "plt.plot(x, x, label='f(n)=n')\n",
    "\n",
    "# Now add n log n growth\n",
    "plt.plot(x, np.multiply(x, np.log(x)), label=\"f(n) = n*log(n)\")\n",
    "\n",
    "# Now add n**2 growth\n",
    "plt.plot(x, np.power(x, 2), label=\"f(n) = n**2\")\n",
    "\n",
    "\n",
    "# And now n**3\n",
    "plt.plot(x, np.power(x, 3), label=\"f(n) = n**3\")\n",
    "\n",
    "plt.legend(loc=\"upper center\", fontsize=\"xx-large\")\n",
    "plt.show()"
   ]
  },
  {
   "cell_type": "code",
   "execution_count": null,
   "metadata": {
    "slideshow": {
     "slide_type": "subslide"
    }
   },
   "outputs": [],
   "source": [
    "%matplotlib inline\n",
    "import matplotlib.pyplot as plt\n",
    "from math import log\n",
    "plt.style.use('seaborn-whitegrid')\n",
    "plt.figure(figsize=(16,9))\n",
    "\n",
    "import numpy as np\n",
    "x = np.linspace(1, 20, 50)\n",
    "\n",
    "# First plot a constant function\n",
    "plt.plot(x, np.ones(50), label=\"f(n) = 1\")\n",
    "\n",
    "# Then plot log(x)\n",
    "plt.plot(x, np.log(x), label='f(n)= log(n)')\n",
    "\n",
    "# Then plot linear growth\n",
    "plt.plot(x, x, label='f(n)=n')\n",
    "\n",
    "# Now add n log n growth\n",
    "plt.plot(x, np.multiply(x, np.log(x)), label=\"f(n) = n*log(n)\")\n",
    "\n",
    "# Now add n**2 growth\n",
    "plt.plot(x, np.power(x, 2), label=\"f(n) = n**2\")\n",
    "\n",
    "\n",
    "# And now n**3\n",
    "plt.plot(x, np.power(x, 3), label=\"f(n) = n**3\")\n",
    "\n",
    "# Finally, 2**n\n",
    "plt.plot(x, np.exp2(x), label=\"f(n) = 2**n\")\n",
    "\n",
    "plt.legend(loc=\"upper center\", fontsize=\"xx-large\")\n",
    "plt.show()"
   ]
  },
  {
   "cell_type": "markdown",
   "metadata": {
    "slideshow": {
     "slide_type": "subslide"
    }
   },
   "source": [
    "<img src=\"data01/function growth.png\" width=\"800\" height=\"600\"/>"
   ]
  },
  {
   "cell_type": "markdown",
   "metadata": {
    "slideshow": {
     "slide_type": "subslide"
    }
   },
   "source": [
    "<img src=\"data01/time to compute.png\" width=\"800\" height=\"600\"/>"
   ]
  },
  {
   "cell_type": "markdown",
   "metadata": {
    "slideshow": {
     "slide_type": "subslide"
    }
   },
   "source": [
    "<img src=\"data01/growth matters.png\" width=\"800\" height=\"600\"/>"
   ]
  },
  {
   "cell_type": "markdown",
   "metadata": {
    "slideshow": {
     "slide_type": "slide"
    }
   },
   "source": [
    "# Homework\n",
    "\n",
    "I will be using material from \"Algorithms Illuminated\" (Part 1 and Part 2).  The books are available on Amazon (https://www.amazon.com/gp/bookseries/B077BMH7HZ) and are well worth the price (the Kindle versions are only $2.99 each).  The author, Tim Roughgarden, has also made a series of Youtube videos from the books that I will reference from time to time.  Before next week you should watch the following videos in the series:"
   ]
  },
  {
   "cell_type": "code",
   "execution_count": null,
   "metadata": {
    "slideshow": {
     "slide_type": "slide"
    }
   },
   "outputs": [],
   "source": [
    "# Why study algorithms\n",
    "\n",
    "from IPython.lib.display import YouTubeVideo\n",
    "YouTubeVideo('yRM3sc57q0c', width=800, height=600)"
   ]
  },
  {
   "cell_type": "code",
   "execution_count": null,
   "metadata": {
    "slideshow": {
     "slide_type": "slide"
    }
   },
   "outputs": [],
   "source": [
    "# The third-grade integer multiplication algorithm\n",
    "\n",
    "from IPython.lib.display import YouTubeVideo\n",
    "YouTubeVideo('6u0Vaj4nn54', width=800, height=600)"
   ]
  },
  {
   "cell_type": "code",
   "execution_count": null,
   "metadata": {
    "slideshow": {
     "slide_type": "slide"
    }
   },
   "outputs": [],
   "source": [
    "# The surprising Karatsuba multiplication algorithm\n",
    "\n",
    "from IPython.lib.display import YouTubeVideo\n",
    "YouTubeVideo('JCbZayFr9RE', width=800, height=600)"
   ]
  },
  {
   "cell_type": "code",
   "execution_count": null,
   "metadata": {},
   "outputs": [],
   "source": []
  }
 ],
 "metadata": {
  "celltoolbar": "Slideshow",
  "kernelspec": {
   "display_name": "Python 3",
   "language": "python",
   "name": "python3"
  },
  "language_info": {
   "codemirror_mode": {
    "name": "ipython",
    "version": 3
   },
   "file_extension": ".py",
   "mimetype": "text/x-python",
   "name": "python",
   "nbconvert_exporter": "python",
   "pygments_lexer": "ipython3",
   "version": "3.7.1"
  },
  "livereveal": {
   "scroll": true
  }
 },
 "nbformat": 4,
 "nbformat_minor": 2
}
