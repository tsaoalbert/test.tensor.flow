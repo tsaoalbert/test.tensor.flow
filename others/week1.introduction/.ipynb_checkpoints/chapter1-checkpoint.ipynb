{
 "cells": [
  {
   "cell_type": "code",
   "execution_count": 2,
   "metadata": {},
   "outputs": [
    {
     "data": {
      "text/plain": [
       "3"
      ]
     },
     "execution_count": 2,
     "metadata": {},
     "output_type": "execute_result"
    }
   ],
   "source": [
    "1+2"
   ]
  },
  {
   "cell_type": "markdown",
   "metadata": {},
   "source": [
    "<a href=' http://my.jessup.edu/'> my.jessup  </a>"
   ]
  },
  {
   "cell_type": "code",
   "execution_count": 2,
   "metadata": {},
   "outputs": [
    {
     "name": "stdout",
     "output_type": "stream",
     "text": [
      "1/6\n",
      "False\n"
     ]
    }
   ],
   "source": [
    "\n",
    "\"\"\"\n",
    "(__sub__, __mul__, and __truediv__).\n",
    "(__gt__, __ge__, __lt__, __le__, and __ne__)\n",
    "\n",
    "\"\"\"\n",
    "def gcd(m,n):\n",
    "    while m%n != 0:\n",
    "        oldm = m\n",
    "        oldn = n\n",
    "\n",
    "        m = oldn\n",
    "        n = oldm%oldn\n",
    "    return n\n",
    "\n",
    "class Fraction:\n",
    "     # xxx\n",
    "     def __init__(self,a, b):\n",
    "         if type(a)!= int or type(b)!= int :\n",
    "            raise ValueError (\" Have to be an integer \" ) \n",
    "         if b==0:\n",
    "            raise ValueError (\" Denominator cannot be zero! \" ) \n",
    "\n",
    "         if b < 0:\n",
    "            a = -a; b = -b;\n",
    "         \n",
    "         g = gcd (a, b)\n",
    "         self.num = a//g\n",
    "         self.den =  b//g\n",
    "\n",
    "     def __str__(self):\n",
    "         return str(self.num)+\"/\"+str(self.den)\n",
    "\n",
    "     def show(self):\n",
    "         print(self.num,\"/\",self.den)\n",
    "\n",
    "     def __add__(self,otherfraction):\n",
    "         newnum = self.num*otherfraction.den + \\\n",
    "                      self.den*otherfraction.num\n",
    "         newden = self.den * otherfraction.den\n",
    "         common = gcd(newnum,newden)\n",
    "         return Fraction(newnum//common,newden//common)\n",
    "\n",
    "     # xxx\n",
    "     def __sub__(self, y):\n",
    "         # x = a/b, y= c/d ==> x-y = (ad-bc)/bd\n",
    "         a = self.num; b = self.den; c=y.num; d=y.den;\n",
    "         return Fraction(a*d-b*c,b*d)\n",
    "\n",
    "     def __eq__(self, other):\n",
    "         firstnum = self.num * other.den\n",
    "         secondnum = other.num * self.den\n",
    "\n",
    "         return firstnum == secondnum\n",
    "\n",
    "      # xxx\n",
    "     def getNum (self):\n",
    "        return self.num\n",
    "\n",
    "      # xxx\n",
    "     def getDen (self):\n",
    "        return self.den\n",
    "\n",
    "x = Fraction(2,3)\n",
    "y = Fraction(1,2)\n",
    "print(x-y)\n",
    "print(x == y)\n",
    "#z = Fraction(1,0)\n"
   ]
  },
  {
   "cell_type": "code",
   "execution_count": null,
   "metadata": {},
   "outputs": [],
   "source": []
  },
  {
   "cell_type": "code",
   "execution_count": null,
   "metadata": {},
   "outputs": [],
   "source": []
  },
  {
   "cell_type": "code",
   "execution_count": null,
   "metadata": {},
   "outputs": [],
   "source": []
  }
 ],
 "metadata": {
  "kernelspec": {
   "display_name": "Python 3",
   "language": "python",
   "name": "python3"
  },
  "language_info": {
   "codemirror_mode": {
    "name": "ipython",
    "version": 3
   },
   "file_extension": ".py",
   "mimetype": "text/x-python",
   "name": "python",
   "nbconvert_exporter": "python",
   "pygments_lexer": "ipython3",
   "version": "3.7.1"
  }
 },
 "nbformat": 4,
 "nbformat_minor": 2
}
