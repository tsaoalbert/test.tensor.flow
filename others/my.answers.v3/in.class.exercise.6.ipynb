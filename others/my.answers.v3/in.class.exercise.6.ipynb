{
 "cells": [
  {
   "cell_type": "markdown",
   "metadata": {},
   "source": [
    "<h1>\n",
    "<a href='http://interactivepython.org/runestone/static/pythonds/Trees/toctree.html'> \n",
    "    In Class Exercise #6: Trees and Tree Algorithms  </a>\n",
    "    </h1>"
   ]
  },
  {
   "cell_type": "markdown",
   "metadata": {},
   "source": [
    "<h1> <a href='\n",
    "http://interactivepython.org/runestone/static/pythonds/Trees/DiscussionQuestions.html'>\n",
    "6.21. Discussion Questions  </a>\n",
    "</h1>"
   ]
  },
  {
   "cell_type": "code",
   "execution_count": null,
   "metadata": {},
   "outputs": [],
   "source": [
    "Draw the tree structure resulting from the following set of tree function calls:\n",
    "\n",
    ">>> r = BinaryTree(3)\n",
    ">>> insertLeft(r,4)\n",
    "[3, [4, [], []], []]\n",
    ">>> insertLeft(r,5)\n",
    "[3, [5, [4, [], []], []], []]\n",
    ">>> insertRight(r,6)\n",
    "[3, [5, [4, [], []], []], [6, [], []]]\n",
    ">>> insertRight(r,7)\n",
    "[3, [5, [4, [], []], []], [7, [], [6, [], []]]]\n",
    ">>> setRootVal(r,9)\n",
    ">>> insertLeft(r,11)\n",
    "[9, [11, [5, [4, [], []], []], []], [7, [], [6, [], []]]]\n",
    "Trace the algorithm for creating an expression tree for the expression (4∗8)/6−3.\n",
    "\n",
    "Consider the following list of integers: [1,2,3,4,5,6,7,8,9,10]. Show the binary search tree resulting from inserting the integers in the list.\n",
    "\n",
    "Consider the following list of integers: [10,9,8,7,6,5,4,3,2,1]. Show the binary search tree resulting from inserting the integers in the list.\n",
    "\n",
    "Generate a random list of integers. Show the binary heap tree resulting from inserting the integers on the list one at a time.\n",
    "\n",
    "Using the list from the previous question, show the binary heap tree resulting from using the list as a parameter to the buildHeap method. Show both the tree and list form.\n",
    "\n",
    "Draw the binary search tree that results from inserting the following keys in the order given: 68,88,61,89,94,50,4,76,66, and 82.\n",
    "\n",
    "Generate a random list of integers. Draw the binary search tree resulting from inserting the integers on the list.\n",
    "\n",
    "Consider the following list of integers: [1,2,3,4,5,6,7,8,9,10]. Show the binary heap resulting from inserting the integers one at a time.\n",
    "\n",
    "Consider the following list of integers: [10,9,8,7,6,5,4,3,2,1]. Show the binary heap resulting from inserting the integers one at a time.\n",
    "\n",
    "Consider the two different techniques we used for implementing traversals of a binary tree. Why must we check before the call to preorder when implementing as a method, whereas we could check inside the call when implementing as a function?\n",
    "\n",
    "Show the function calls needed to build the following binary tree.\n",
    "../_images/exerTree.png\n",
    "Given the following tree, perform the appropriate rotations to bring it back into balance.\n",
    "../_images/rotexer1.png\n",
    "Using the following as a starting point, derive the equation that gives the updated balance factor for node D.\n"
   ]
  }
 ],
 "metadata": {
  "kernelspec": {
   "display_name": "Python 3",
   "language": "python",
   "name": "python3"
  },
  "language_info": {
   "codemirror_mode": {
    "name": "ipython",
    "version": 3
   },
   "file_extension": ".py",
   "mimetype": "text/x-python",
   "name": "python",
   "nbconvert_exporter": "python",
   "pygments_lexer": "ipython3",
   "version": "3.7.1"
  }
 },
 "nbformat": 4,
 "nbformat_minor": 2
}
