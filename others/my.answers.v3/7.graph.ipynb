{
 "cells": [
  {
   "cell_type": "markdown",
   "metadata": {},
   "source": [
    "\n",
    "<h1>\n",
    "<a href='\n",
    "http://interactivepython.org/runestone/static/pythonds/Graphs/toctree.html\n",
    "         '> 7. Graphs and Graph Algorithms\n",
    "  </a>\n",
    "    </h1>"
   ]
  },
  {
   "cell_type": "code",
   "execution_count": null,
   "metadata": {},
   "outputs": [],
   "source": [
    "Week7: Graphs and Graph Algorithms\n",
    "  Topics:\n",
    "    Graph ADT\n",
    "    implementation of Adjacency Matrix and List\n",
    "    BFS: Knights' Tour Analysis\n",
    "    DFS:\n",
    "      topological sorting,\n",
    "      Strongly connected componetns\n",
    "    Short Path Problems and Dijkstra's Algorithm\n",
    "    Minmum Spanning TreeProblems and the Prim's/Kruskal Algorithm"
   ]
  },
  {
   "cell_type": "markdown",
   "metadata": {},
   "source": [
    "## Adjacent List"
   ]
  },
  {
   "cell_type": "code",
   "execution_count": 26,
   "metadata": {},
   "outputs": [],
   "source": [
    "\n",
    "class Vertex:\n",
    "    def __init__(self,key):\n",
    "        self.id = key\n",
    "        self.connectedTo = {}\n",
    "    \n",
    "    def addNeighbor(self,nbr,weight=0):\n",
    "        self.connectedTo[nbr] = weight\n",
    "\n",
    "    def __str__(self):\n",
    "        return str(self.id) + ' connectedTo: ' + str([x.id for x in self.connectedTo])\n",
    "\n",
    "    def getConnections(self):\n",
    "        return self.connectedTo.keys()\n",
    "\n",
    "    def getId(self):\n",
    "        return self.id\n",
    "\n",
    "    def getWeight(self,nbr):\n",
    "        return self.connectedTo[nbr]\n"
   ]
  },
  {
   "cell_type": "code",
   "execution_count": 28,
   "metadata": {},
   "outputs": [],
   "source": [
    "#from Vertex import Vertex\n",
    "\n",
    "class Graph:\n",
    "    def __init__(self):\n",
    "        self.vertList = {}\n",
    "        self.numVertices = 0\n",
    "\n",
    "    def addVertex(self,key):\n",
    "        self.numVertices = self.numVertices + 1\n",
    "        newVertex = Vertex(key)\n",
    "        self.vertList[key] = newVertex\n",
    "        return newVertex\n",
    "\n",
    "    def getVertex(self,n):\n",
    "        if n in self.vertList:\n",
    "            return self.vertList[n]\n",
    "        else:\n",
    "            return None\n",
    "\n",
    "    def __contains__(self,n):\n",
    "        return n in self.vertList\n",
    "\n",
    "    def addEdge(self,f,t,cost=0):\n",
    "        if f not in self.vertList:\n",
    "            nv = self.addVertex(f)\n",
    "        if t not in self.vertList:\n",
    "            nv = self.addVertex(t)\n",
    "        self.vertList[f].addNeighbor(self.vertList[t], cost)\n",
    "\n",
    "    def getVertices(self):\n",
    "        return self.vertlist.keys()\n",
    "\n",
    "    def __iter__(self):\n",
    "        return iter(self.vertList.values())\n"
   ]
  },
  {
   "cell_type": "code",
   "execution_count": 30,
   "metadata": {},
   "outputs": [
    {
     "name": "stdout",
     "output_type": "stream",
     "text": [
      "{0: <__main__.Vertex object at 0x11134fd68>, 1: <__main__.Vertex object at 0x11134f1d0>, 2: <__main__.Vertex object at 0x11134ff28>, 3: <__main__.Vertex object at 0x11134f278>, 4: <__main__.Vertex object at 0x11134fa20>, 5: <__main__.Vertex object at 0x11134fd30>}\n",
      "( 0 , 1 )\n",
      "( 0 , 5 )\n",
      "( 1 , 2 )\n",
      "( 2 , 3 )\n",
      "( 3 , 4 )\n",
      "( 3 , 5 )\n",
      "( 4 , 0 )\n",
      "( 5 , 4 )\n",
      "( 5 , 2 )\n"
     ]
    }
   ],
   "source": [
    "#from Graph import Graph\n",
    "\n",
    "g = Graph()\n",
    "\n",
    "for i in range(6):\n",
    "    g.addVertex(i)\n",
    "\n",
    "print(g.vertList)\n",
    "\n",
    "g.addEdge(0,1,5)\n",
    "g.addEdge(0,5,2)\n",
    "g.addEdge(1,2,4)\n",
    "g.addEdge(2,3,9)\n",
    "g.addEdge(3,4,7)\n",
    "g.addEdge(3,5,3)\n",
    "g.addEdge(4,0,1)\n",
    "g.addEdge(5,4,8)\n",
    "g.addEdge(5,2,1)\n",
    "\n",
    "for v in g:\n",
    "    for w in v.getConnections():\n",
    "        print(\"( %s , %s )\" % (v.getId(), w.getId()))\n"
   ]
  },
  {
   "cell_type": "markdown",
   "metadata": {},
   "source": [
    "## BFS"
   ]
  },
  {
   "cell_type": "code",
   "execution_count": 44,
   "metadata": {},
   "outputs": [],
   "source": [
    "\n",
    "class Queue:\n",
    "    def __init__(self):\n",
    "        self.items = []\n",
    "\n",
    "    def isEmpty(self):\n",
    "        return self.items == []\n",
    "    \n",
    "    def enqueue(self, item):\n",
    "        self.items.insert(0,item)\n",
    "\n",
    "    def dequeue(self):\n",
    "        return self.items.pop()\n",
    "\n",
    "    def size(self):\n",
    "        return len(self.items)\n"
   ]
  },
  {
   "cell_type": "code",
   "execution_count": 45,
   "metadata": {},
   "outputs": [],
   "source": [
    "\n",
    "class Vertex:\n",
    "    def __init__(self,key):\n",
    "        self.id = key\n",
    "        self.connectedTo = {}\n",
    "        self.color = 'white'\n",
    "        self.dist = sys.maxsize\n",
    "        self.pred = None\n",
    "        self.disc = 0\n",
    "        self.fin = 0\n",
    "    \n",
    "    def addNeighbor(self,nbr,weight=0):\n",
    "        self.connectedTo[nbr] = weight\n",
    "\n",
    "    def setColor(self,color):\n",
    "        self.color = color\n",
    "\n",
    "    def setDistance(self,d):\n",
    "        self.dist = d\n",
    "\n",
    "    def setPred(self,p):\n",
    "        self.pred = p\n",
    "\n",
    "    def setDiscovery(self,dtime):\n",
    "        self.disc = dtime\n",
    "        \n",
    "    def setFinish(self,ftime):\n",
    "        self.fin = ftime\n",
    "        \n",
    "    def getFinish(self):\n",
    "        return self.fin\n",
    "        \n",
    "    def getDiscovery(self):\n",
    "        return self.disc\n",
    "        \n",
    "    def getPred(self):\n",
    "        return self.pred\n",
    "        \n",
    "    def getDistance(self):\n",
    "        return self.dist\n",
    "        \n",
    "    def getColor(self):\n",
    "        return self.color\n",
    "\n",
    "    def getConnections(self):\n",
    "        return self.connectedTo.keys()\n",
    "\n",
    "    def getWeight(self,nbr):\n",
    "        return self.connectedTo[nbr]\n",
    "\n",
    "    def __str__(self):\n",
    "        return str(self.id) + ' connectedTo: ' + str([x.id for x in self.connectedTo])\n",
    "\n",
    "    def getId(self):\n",
    "        return self.id\n"
   ]
  },
  {
   "cell_type": "code",
   "execution_count": 46,
   "metadata": {},
   "outputs": [],
   "source": [
    "\n",
    "#from Graph import Graph\n",
    "\n",
    "def buildGraph(wordFile):\n",
    "\td = []\n",
    "\tg = graph()\n",
    "\twfile = open(wordFile,'r')\n",
    "\t# create buckets of words that differ by one letter\n",
    "\tfor line in wfile:\n",
    "\t\tword = line[:-1]\n",
    "\t\tfor i in range(len(word)):\n",
    "\t\t\tbucket = word[:i] + '_' + word[i+1]\n",
    "\t\t\tif bucket in d:\n",
    "\t\t\t\td[bucket].append(word)\n",
    "\t\t\telse:\n",
    "\t\t\t\td[bucket] = [word]\n",
    "\t# add vertices and edges for words in the same bucket\n",
    "\tfor bucket in d.keys():\n",
    "\t\tfor word1 in d[bucket]:\n",
    "\t\t\tfor word2 in d[bucket]:\n",
    "\t\t\t\tif word1 != word2:\n",
    "\t\t\t\t\tg.addEdgs(word1,word2)\n",
    "\treturn g"
   ]
  },
  {
   "cell_type": "code",
   "execution_count": 47,
   "metadata": {},
   "outputs": [
    {
     "ename": "AttributeError",
     "evalue": "'NoneType' object has no attribute 'getPred'",
     "output_type": "error",
     "traceback": [
      "\u001b[0;31m---------------------------------------------------------------------------\u001b[0m",
      "\u001b[0;31mAttributeError\u001b[0m                            Traceback (most recent call last)",
      "\u001b[0;32m<ipython-input-47-4e155c22f0cd>\u001b[0m in \u001b[0;36m<module>\u001b[0;34m\u001b[0m\n\u001b[1;32m     27\u001b[0m \u001b[0;34m\u001b[0m\u001b[0m\n\u001b[1;32m     28\u001b[0m \u001b[0;34m\u001b[0m\u001b[0m\n\u001b[0;32m---> 29\u001b[0;31m \u001b[0mtraverse\u001b[0m\u001b[0;34m(\u001b[0m\u001b[0mg\u001b[0m\u001b[0;34m.\u001b[0m\u001b[0mgetVertex\u001b[0m\u001b[0;34m(\u001b[0m\u001b[0;34m'sage'\u001b[0m\u001b[0;34m)\u001b[0m\u001b[0;34m)\u001b[0m\u001b[0;34m\u001b[0m\u001b[0;34m\u001b[0m\u001b[0m\n\u001b[0m",
      "\u001b[0;32m<ipython-input-47-4e155c22f0cd>\u001b[0m in \u001b[0;36mtraverse\u001b[0;34m(y)\u001b[0m\n\u001b[1;32m     21\u001b[0m \u001b[0;32mdef\u001b[0m \u001b[0mtraverse\u001b[0m\u001b[0;34m(\u001b[0m\u001b[0my\u001b[0m\u001b[0;34m)\u001b[0m\u001b[0;34m:\u001b[0m\u001b[0;34m\u001b[0m\u001b[0;34m\u001b[0m\u001b[0m\n\u001b[1;32m     22\u001b[0m     \u001b[0mx\u001b[0m \u001b[0;34m=\u001b[0m \u001b[0my\u001b[0m\u001b[0;34m\u001b[0m\u001b[0;34m\u001b[0m\u001b[0m\n\u001b[0;32m---> 23\u001b[0;31m     \u001b[0;32mwhile\u001b[0m \u001b[0;34m(\u001b[0m\u001b[0mx\u001b[0m\u001b[0;34m.\u001b[0m\u001b[0mgetPred\u001b[0m\u001b[0;34m(\u001b[0m\u001b[0;34m)\u001b[0m\u001b[0;34m)\u001b[0m\u001b[0;34m:\u001b[0m\u001b[0;34m\u001b[0m\u001b[0;34m\u001b[0m\u001b[0m\n\u001b[0m\u001b[1;32m     24\u001b[0m         \u001b[0mprint\u001b[0m\u001b[0;34m(\u001b[0m\u001b[0mx\u001b[0m\u001b[0;34m.\u001b[0m\u001b[0mgetId\u001b[0m\u001b[0;34m(\u001b[0m\u001b[0;34m)\u001b[0m\u001b[0;34m)\u001b[0m\u001b[0;34m\u001b[0m\u001b[0;34m\u001b[0m\u001b[0m\n\u001b[1;32m     25\u001b[0m         \u001b[0mx\u001b[0m \u001b[0;34m=\u001b[0m \u001b[0mx\u001b[0m\u001b[0;34m.\u001b[0m\u001b[0mgetPred\u001b[0m\u001b[0;34m(\u001b[0m\u001b[0;34m)\u001b[0m\u001b[0;34m\u001b[0m\u001b[0;34m\u001b[0m\u001b[0m\n",
      "\u001b[0;31mAttributeError\u001b[0m: 'NoneType' object has no attribute 'getPred'"
     ]
    }
   ],
   "source": [
    "#from Vertex import Vertex\n",
    "#from Graph import Graph\n",
    "#from Queue import Queue\n",
    "\n",
    "def bfs(g,start):\n",
    "    start.setDistance(0)\n",
    "    start.setPred(None)\n",
    "    vertQueue = Queue()\n",
    "    vertQueue.enqueue(start)\n",
    "    while (vertQueue.start() > 0):\n",
    "        currentVert = vertQueue.dequeue()\n",
    "        for nbr in currentVert.getconnections():\n",
    "            if (nbr.getcolor() == 'white'):\n",
    "                nbr.setColor('gray')\n",
    "                nbr.setDistance(currentVert.getDistance() + 1)\n",
    "                nbr.setPred(currentVert)\n",
    "                vertQueue.enqueue(nbr)\n",
    "        currentVert.setColor('black')\n",
    "\n",
    "\n",
    "def traverse(y):\n",
    "    x = y\n",
    "    while (x.getPred()):\n",
    "        print(x.getId())\n",
    "        x = x.getPred()\n",
    "    print(x.getId())\n",
    "\n",
    "\n",
    "traverse(g.getVertex('sage'))\n"
   ]
  },
  {
   "cell_type": "markdown",
   "metadata": {},
   "source": [
    "## DFS"
   ]
  },
  {
   "cell_type": "code",
   "execution_count": null,
   "metadata": {},
   "outputs": [],
   "source": []
  },
  {
   "cell_type": "markdown",
   "metadata": {},
   "source": [
    "## Shortest Path Tree (SPT)"
   ]
  },
  {
   "cell_type": "code",
   "execution_count": null,
   "metadata": {},
   "outputs": [],
   "source": []
  }
 ],
 "metadata": {
  "kernelspec": {
   "display_name": "Python 3",
   "language": "python",
   "name": "python3"
  },
  "language_info": {
   "codemirror_mode": {
    "name": "ipython",
    "version": 3
   },
   "file_extension": ".py",
   "mimetype": "text/x-python",
   "name": "python",
   "nbconvert_exporter": "python",
   "pygments_lexer": "ipython3",
   "version": "3.7.1"
  }
 },
 "nbformat": 4,
 "nbformat_minor": 2
}
