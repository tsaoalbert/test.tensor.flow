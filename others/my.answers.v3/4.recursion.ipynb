{
 "cells": [
  {
   "cell_type": "markdown",
   "metadata": {},
   "source": [
    "<h1> <a href= \"http://interactivepython.org/runestone/static/pythonds/Recursion/toctree.html\"> Chapter 4:  Recursion </a>  </h1>\n",
    "<ul>\n",
    "    \n",
    "<li> Recursion vs Iteration </li>\n",
    "<li> Three Laws of Recusion</li>\n",
    "<li>  Example: Tower of Hanoi, Maze, Dynamic Programming</li>\n",
    "</ul>\n"
   ]
  },
  {
   "cell_type": "markdown",
   "metadata": {},
   "source": [
    "<h2> <a href= \"http://interactivepython.org/runestone/static/pythonds/Recursion/toctree.html\n",
    "\"> THREE LAWS OF RECURSION </a>\n",
    "   </h2>\n",
    "\n",
    "A recursive algorithm must \n",
    "    * have a base case.\n",
    "    * change its state and move toward the base case.\n",
    "    * call itself, recursively.\n",
    "    \n"
   ]
  },
  {
   "cell_type": "code",
   "execution_count": 3,
   "metadata": {},
   "outputs": [
    {
     "name": "stdout",
     "output_type": "stream",
     "text": [
      "olleh\n"
     ]
    }
   ],
   "source": [
    "\n",
    "def reverse(s):\n",
    "    if len(s) <= 1:   # base case (stop condition)\n",
    "        return s[0]\n",
    "    else:\n",
    "        return reverse(s[1:]) + s[0]  \n",
    "\n",
    "print(reverse(\"hello\"))"
   ]
  },
  {
   "cell_type": "code",
   "execution_count": 1,
   "metadata": {},
   "outputs": [
    {
     "name": "stdout",
     "output_type": "stream",
     "text": [
      "olleh\n"
     ]
    }
   ],
   "source": [
    "def reverse_itr(s):\n",
    "    t = \"\"\n",
    "    for i in s:\n",
    "        t = i + t\n",
    "    return t\n",
    "\n",
    "\n",
    "print(reverse_itr(\"hello\"))"
   ]
  },
  {
   "cell_type": "markdown",
   "metadata": {},
   "source": [
    "The python build fuunction to reverse a string\n",
    "* s[::-1]\n",
    "* ''.join(reversed('a string'))"
   ]
  },
  {
   "cell_type": "code",
   "execution_count": null,
   "metadata": {},
   "outputs": [],
   "source": [
    "http://interactivepython.org/runestone/static/pythonds/Recursion/pythondsConvertinganIntegertoaStringinAnyBase.html\n",
    "4.5. Converting an Integer to a String in Any Base¶"
   ]
  },
  {
   "cell_type": "markdown",
   "metadata": {},
   "source": [
    "\n",
    "<div class=\"image123\">\n",
    "    <div style=\"float:left;\">\n",
    "    <figure>\n",
    "        <img src=\"images/dec2bin.png\" height=\"300\" width=\"300\"  />\n",
    "        <figcaption style=\"text-align:center;\"> Converting a decimal number to a binary \n",
    "    </figcaption>\n",
    "    </figure>\n",
    "    </div>\n",
    "    <div style=\"float:left;\">\n",
    "    <figure>\n",
    "        <img src=\"images/dec2oct.png\" height=\"300\" width=\"300\"  />\n",
    "        <figcaption style=\"text-align:center;\"> Converting a decimal number to an octal \n",
    "    </figcaption>\n",
    "    </figure>\n",
    "    </div>\n",
    "     <div style=\"float:left;\">\n",
    "    <figure>\n",
    "        <img src=\"images/dec2hex.png\" height=\"300\" width=\"300\"  />\n",
    "        <figcaption style=\"text-align:center;\"> Converting a decimal number to a hexidecimal \n",
    "    </figcaption>\n",
    "    </figure>\n",
    "    </div>\n",
    "</div>"
   ]
  },
  {
   "cell_type": "code",
   "execution_count": 37,
   "metadata": {},
   "outputs": [
    {
     "name": "stdout",
     "output_type": "stream",
     "text": [
      "5AD\n"
     ]
    }
   ],
   "source": [
    "class Stack:\n",
    "    def __init__(self):\n",
    "        self.items = []\n",
    "\n",
    "    def isEmpty(self):\n",
    "        return self.items == []\n",
    "\n",
    "    def __str__(self):\n",
    "      return str ( self.items )\n",
    "\n",
    "    def push(self, item):\n",
    "        self.items.append(item)\n",
    "\n",
    "    def pop(self):\n",
    "        return self.items.pop()\n",
    "\n",
    "    def peek(self):\n",
    "        return self.items[len(self.items)-1]\n",
    "\n",
    "    def size(self):\n",
    "        return len(self.items)\n",
    "\n",
    "rStack = Stack()\n",
    "\n",
    "def toStr(n,base):\n",
    "    convertString = \"0123456789ABCDEF\"\n",
    "    while n > 0:\n",
    "        if n < base:\n",
    "            rStack.push(convertString[n])\n",
    "        else:\n",
    "            rStack.push(convertString[n % base])\n",
    "        n = n // base\n",
    "    res = \"\"\n",
    "    while not rStack.isEmpty():\n",
    "        res = res + str(rStack.pop())\n",
    "    return res\n",
    "\n",
    "print(toStr(1453,16))"
   ]
  },
  {
   "cell_type": "markdown",
   "metadata": {},
   "source": [
    "\n",
    "<div class=\"image123\">\n",
    "    <div style=\"float:left;margin-right:55px;\">\n",
    "    <figure>\n",
    "        <img src=\"images/numberConversion.png\" height=\"300\" width=\"300\"  />\n",
    "        <figcaption style=\"text-align:center;\"> Converting an Integer to a String Using a Stack (lst_recstack)\n",
    " </figcaption>\n",
    "    </figure>\n",
    "    </div>\n",
    " \n",
    "</div>"
   ]
  },
  {
   "cell_type": "code",
   "execution_count": 10,
   "metadata": {},
   "outputs": [
    {
     "name": "stdout",
     "output_type": "stream",
     "text": [
      "5AD\n"
     ]
    }
   ],
   "source": [
    "def toStr(n,base):\n",
    "   convertString = \"0123456789ABCDEF\"\n",
    "   if n < base:\n",
    "      return convertString[n]\n",
    "   else:\n",
    "      return toStr(n//base,base) + convertString[n%base]\n",
    "\n",
    "print(toStr(1453,16))"
   ]
  },
  {
   "cell_type": "code",
   "execution_count": 37,
   "metadata": {},
   "outputs": [
    {
     "name": "stdout",
     "output_type": "stream",
     "text": [
      "5AD\n"
     ]
    }
   ],
   "source": [
    "from pythonds.basic.stack import Stack\n",
    "\n",
    "rStack = Stack()\n",
    "\n",
    "def toStr(n,base):\n",
    "    convertString = \"0123456789ABCDEF\"\n",
    "    while n > 0:\n",
    "        if n < base:\n",
    "            rStack.push(convertString[n])\n",
    "        else:\n",
    "            rStack.push(convertString[n % base])\n",
    "        n = n // base\n",
    "    res = \"\"\n",
    "    while not rStack.isEmpty():\n",
    "        res = res + str(rStack.pop())\n",
    "    return res\n",
    "\n",
    "print(toStr(1453,16))"
   ]
  },
  {
   "cell_type": "code",
   "execution_count": null,
   "metadata": {},
   "outputs": [],
   "source": [
    "import turtle\n",
    "\n",
    "myTurtle = turtle.Turtle()\n",
    "myWin = turtle.Screen()\n",
    "\n",
    "def drawSpiral(myTurtle, lineLen):\n",
    "    if lineLen > 0:\n",
    "        myTurtle.forward(lineLen)\n",
    "        myTurtle.right(90)\n",
    "        drawSpiral(myTurtle,lineLen-5)\n",
    "\n",
    "drawSpiral(myTurtle,100)\n",
    "myWin.exitonclick()\n"
   ]
  },
  {
   "cell_type": "markdown",
   "metadata": {},
   "source": [
    "# Use Python Turtle to Draw a Tree"
   ]
  },
  {
   "cell_type": "code",
   "execution_count": null,
   "metadata": {},
   "outputs": [],
   "source": [
    "import turtle\n",
    "\n",
    "def tree(branchLen,t):\n",
    "    if branchLen > 5:\n",
    "        t.forward(branchLen)\n",
    "        t.right(20)\n",
    "        tree(branchLen-15,t)\n",
    "        t.left(40)\n",
    "        tree(branchLen-15,t)\n",
    "        t.right(20)\n",
    "        t.backward(branchLen)\n",
    "\n",
    "def main():\n",
    "    t = turtle.Turtle()\n",
    "    myWin = turtle.Screen()\n",
    "    t.left(90)\n",
    "    t.up()\n",
    "    t.backward(100)\n",
    "    t.down()\n",
    "    t.color(\"green\")\n",
    "    tree(75,t)\n",
    "    myWin.exitonclick()\n",
    "\n",
    "main()\n"
   ]
  },
  {
   "cell_type": "markdown",
   "metadata": {},
   "source": [
    "<h2> 4.12. Dynamic Programming vs. Greedy Algorithms </h2>\n",
    "\n",
    "A classical optimization problem:  Make change with the fewest coins\n",
    "Greedy method: \n",
    "    works fine when we are using U.S. coins\n",
    "Dynamic Programming:\n",
    "    works always"
   ]
  },
  {
   "cell_type": "code",
   "execution_count": 27,
   "metadata": {},
   "outputs": [
    {
     "name": "stdout",
     "output_type": "stream",
     "text": [
      "6\n"
     ]
    }
   ],
   "source": [
    "def greedy ( coinValueList, change ):\n",
    "    coinValueList.sort()\n",
    "    coinValueList.reverse()\n",
    "    count = 0\n",
    "    for i in coinValueList:\n",
    "        while (change >= i  ):\n",
    "            change -= i;\n",
    "            count += 1\n",
    "    if change==0:\n",
    "        print ( count)\n",
    "    else:\n",
    "        print (\"No solution!!!\")\n",
    "greedy([1,5,10,25],63 )\n"
   ]
  },
  {
   "cell_type": "markdown",
   "metadata": {},
   "source": [
    "<div class=\"image123\">\n",
    "    <div style=\"float:left;margin-right:55px;\">\n",
    "    <figure>\n",
    "        <img src=\"images/numCoins.png\" height=\"400\" width=\"400\"  />\n",
    "        <figcaption style=\"text-align:center;\"> </figcaption>\n",
    "    </figure>\n",
    "    </div>\n",
    "    <div style=\"float:left;margin-right:55px;\">\n",
    "    <figure>\n",
    "        <img src=\"images/callTree.png\" height=\"400\" width=\"400\"  />\n",
    "        <figcaption style=\"text-align:center;\"> call Tree </figcaption>\n",
    "    </figure>\n",
    "    </div> \n",
    "</div>"
   ]
  },
  {
   "cell_type": "code",
   "execution_count": 36,
   "metadata": {},
   "outputs": [
    {
     "name": "stdout",
     "output_type": "stream",
     "text": [
      "6\n",
      "[0, 1, 0, 0, 0, 1, 2, 3, 4, 5, 1, 2, 3, 4, 5, 2, 3, 4, 5, 6, 2, 3, 4, 5, 6, 1, 2, 3, 4, 5, 2, 3, 4, 5, 6, 2, 3, 4, 5, 6, 3, 4, 5, 6, 7, 3, 4, 5, 6, 7, 2, 3, 4, 5, 6, 3, 4, 5, 6, 7, 3, 4, 5, 6]\n",
      "3\n",
      "[0, 1, 0, 0, 0, 1, 2, 3, 4, 5, 1, 2, 3, 4, 5, 2, 3, 4, 5, 6, 2, 1, 2, 3, 4, 1, 2, 3, 4, 5, 2, 2, 3, 4, 5, 2, 3, 4, 5, 6, 3, 3, 2, 3, 4, 3, 2, 3, 4, 5, 2, 3, 3, 4, 5, 3, 3, 4, 5, 6, 3, 4, 4, 3]\n"
     ]
    }
   ],
   "source": [
    "# Dynamic approach\n",
    "def recDC(coinValueList, change,knownResults):\n",
    "\tminCoins = change\n",
    "\tif change in coinValueList:\n",
    "\t\tknownResults[change] = 1\n",
    "\t\treturn 1\n",
    "\telif knownResults[change] > 0:\n",
    "\t\treturn knownResults[change]\n",
    "\telse:\n",
    "\t\tfor i in [c for c in coinValueList if c <= change]:\n",
    "\t\t\tnumCoins = 1 + recDC(coinValueList, change-i,knownResults)\n",
    "\t\t\tif numCoins < minCoins:\n",
    "\t\t\t\tminCoins = numCoins\n",
    "\t\t\t\tknownResults[change] = minCoins\n",
    "\treturn minCoins\n",
    "def main (L, n):\n",
    "    X=[0]*(n+1)\n",
    "    m = recDC(L,n, X)\n",
    "    print(m)\n",
    "    print(X)\n",
    "n=63\n",
    "A=[1,5,10, 25]\n",
    "B = [1,5,10,25, 21]\n",
    "main (A,n)\n",
    "main (B,n)"
   ]
  },
  {
   "cell_type": "markdown",
   "metadata": {},
   "source": [
    "<h3>\n",
    "  Permutation enumeration: an application of stack and queue\n",
    "</h3>"
   ]
  },
  {
   "cell_type": "code",
   "execution_count": 2,
   "metadata": {},
   "outputs": [
    {
     "name": "stdout",
     "output_type": "stream",
     "text": [
      "abc\n",
      "acb\n",
      "bca\n",
      "bac\n",
      "cab\n",
      "cba\n"
     ]
    }
   ],
   "source": [
    "#!/usr/bin/env python\n",
    "import collections\n",
    "\n",
    "\n",
    "def genPerms(queue, perm_stack):\n",
    "  n = len (queue );\n",
    "  if n==0:\n",
    "    print ( \"\".join (perm_stack) )\n",
    "  else:\n",
    "    for k in range ( n ):\n",
    "      # print ( queue)\n",
    "      perm_stack.append( queue.popleft() ) \n",
    "      genPerms(queue, perm_stack) \n",
    "      queue.append( perm_stack.pop( ) )\n",
    "      # print ( queue)\n",
    "\n",
    "def main ():\n",
    "  perm_stack = collections.deque()\n",
    "  queue = collections.deque()\n",
    "  queue.extend('abc')\n",
    "  genPerms(queue, perm_stack)\n",
    "\n",
    "if __name__ == \"__main__\":\n",
    "    main()\n",
    "\n"
   ]
  },
  {
   "cell_type": "code",
   "execution_count": null,
   "metadata": {},
   "outputs": [],
   "source": []
  }
 ],
 "metadata": {
  "kernelspec": {
   "display_name": "Python 3",
   "language": "python",
   "name": "python3"
  },
  "language_info": {
   "codemirror_mode": {
    "name": "ipython",
    "version": 3
   },
   "file_extension": ".py",
   "mimetype": "text/x-python",
   "name": "python",
   "nbconvert_exporter": "python",
   "pygments_lexer": "ipython3",
   "version": "3.7.1"
  }
 },
 "nbformat": 4,
 "nbformat_minor": 2
}
