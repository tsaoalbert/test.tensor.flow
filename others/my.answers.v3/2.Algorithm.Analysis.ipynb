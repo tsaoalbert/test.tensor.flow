{
 "cells": [
  {
   "cell_type": "code",
   "execution_count": 1,
   "metadata": {
    "scrolled": true
   },
   "outputs": [
    {
     "data": {
      "text/plain": [
       "3"
      ]
     },
     "execution_count": 1,
     "metadata": {},
     "output_type": "execute_result"
    }
   ],
   "source": [
    "1+2"
   ]
  },
  {
   "cell_type": "raw",
   "metadata": {},
   "source": [
    "%reset"
   ]
  },
  {
   "cell_type": "markdown",
   "metadata": {},
   "source": [
    "<h1> <a href='http://interactivepython.org/runestone/static/pythonds/AlgorithmAnalysis/toctree.html'> Chapter 2:  Algorithm Analysis  </a> </h1>"
   ]
  },
  {
   "cell_type": "markdown",
   "metadata": {},
   "source": [
    "Objectives\n",
    "* To understand why algorithm analysis is important.\n",
    "* To understand the “Big-O” execution time of common operations on Python lists and dictionaries.\n",
    "* To understand how the implementation of Python data impacts algorithm analysis.\n",
    "* To understand how to benchmark simple Python programs."
   ]
  },
  {
   "cell_type": "markdown",
   "metadata": {},
   "source": [
    "When two programs solve the same problem but look different, is one program better than the other?"
   ]
  },
  {
   "cell_type": "code",
   "execution_count": null,
   "metadata": {},
   "outputs": [],
   "source": [
    "#list1\n",
    "import time\n",
    "\n",
    "def sumOfN2(n):\n",
    "   start = time.time()\n",
    "\n",
    "   theSum = 0\n",
    "   for i in range(1,n+1):  # O(N)\n",
    "      theSum = theSum + i   # How many number of steps\n",
    "   end = time.time()\n",
    "\n",
    "   return theSum,end-start\n",
    "\n",
    "def sumOfN3(n):          # O(1)\n",
    "    start = time.time()\n",
    "    theSum = (n*(n+1))/2\n",
    "    end = time.time()\n",
    "    return theSum,end-start\n",
    "\n",
    "m=1000000              # Problem size\n",
    "print(\"%15s%15s%15s\"  % (\"N\", \"sumOfN2 - O(N)\", \"sumOfN3 - O(1)\" )  ) \n",
    "L = list (range (m,11*m, m))\n",
    "B=[]; C=[];\n",
    "for n in L:\n",
    "    x, tx = sumOfN2(n)  #O(N)\n",
    "    y, ty = sumOfN3(n)  # O(1)\n",
    "    B.append (tx)\n",
    "    C.append (ty)\n",
    "    print(\"%15d%15.7f%15.7f\" % (n, tx,ty) )"
   ]
  },
  {
   "cell_type": "code",
   "execution_count": null,
   "metadata": {},
   "outputs": [],
   "source": [
    "%matplotlib inline\n",
    "import matplotlib.pyplot as plt\n",
    "plt.style.use('seaborn-whitegrid')\n",
    "plt.figure(figsize=(16,9))\n",
    "\n",
    "plt.plot(L, B, label=\"sumOfN2: O(N)\")\n",
    "plt.plot(L, C, label='sumOfN3: O(1))\n",
    "\n",
    "\n",
    "plt.legend(loc=\"upper center\", fontsize=\"xx-large\")\n",
    "plt.show()"
   ]
  },
  {
   "cell_type": "code",
   "execution_count": null,
   "metadata": {},
   "outputs": [],
   "source": [
    "# listing #2\n",
    "#T(n)=3+3n^2+2n+1=3n^2+2n+4.\n",
    "\n",
    "def foo(n):\n",
    "    a = 5\n",
    "    b = 6\n",
    "    c = 10\n",
    "\n",
    "    for i in range(n):\n",
    "        for j in range(n):\n",
    "            x = i * i\n",
    "            y = j * j\n",
    "            z = i * j\n",
    "\n",
    "    for k in range(n):\n",
    "        w = a * k + 45\n",
    "        v = b * b\n",
    "\n",
    "d = 33\n"
   ]
  },
  {
   "cell_type": "markdown",
   "metadata": {},
   "source": [
    "Measure the time complexity by the number of assignment operations, as listed below.\n",
    "* T(n)=3+3$n^{2}$+2n+1=3$n^{2}$+2n+4. \n",
    "* By looking at the exponents, we can easily see that the $n^{2}$term will be dominant and therefore this fragment of code is O($n^{2}$). \n",
    "* Note that all of the other terms as well as the coefficient on the dominant term can be ignored as n grows larger."
   ]
  },
  {
   "cell_type": "markdown",
   "metadata": {},
   "source": [
    "<div class=\"image123\">\n",
    "    <div style=\"float:left;margin-right:55px;\">\n",
    "    <figure>\n",
    "        <img src=\"images/T_of_n.png\" height=\"600\" width=\"600\"  />\n",
    "        <figcaption style=\"text-align:center;\"> Compare T(n) with some common Big-O functions </figcaption>\n",
    "    </figure>\n",
    "    </div>\n",
    " \n",
    "</div>"
   ]
  },
  {
   "cell_type": "markdown",
   "metadata": {},
   "source": [
    "### The computer scientist definition of \"fast algorithm\"\n",
    "\n",
    "An algorithm is \"fast\" if its worst-case running time grows slowly with the input size.\n",
    "\n",
    "Three principles of this kind of algorithm analysis:\n",
    "* Worst-case behavior is most important\n",
    "* Don't sweat small constant factors -- big picture analysis\n",
    "* Asymptotic analysis -- how does behavior change as input size grows?"
   ]
  },
  {
   "cell_type": "markdown",
   "metadata": {},
   "source": [
    "Seven functions that often appear in algorithm analysis:\n",
    "* Constant ≈ $1$\n",
    "* Logarithmic ≈ $\\log n$\n",
    "* Linear ≈ $n$\n",
    "* N-Log-N ≈ $n \\log n$\n",
    "* Quadratic ≈ $n^{2}$\n",
    "* Cubic ≈ $n^{3}$\n",
    "* Exponential ≈ $2^{n}$\n",
    "\n",
    "Let's look at their growth rates using matplotlib!\n"
   ]
  },
  {
   "cell_type": "markdown",
   "metadata": {},
   "source": [
    "* The order of magnitude function describes the part of T(n) that increases the fastest as the value of n increases. \n",
    "* Order of magnitude is often called Big-O notation (for “order”) and written as O(f(n)). \n",
    "* It provides a useful approximation to the actual number of steps in the computation. \n",
    "* The function f(n) provides a simple representation of the dominant part of the original T(n)."
   ]
  },
  {
   "cell_type": "code",
   "execution_count": null,
   "metadata": {},
   "outputs": [],
   "source": [
    "%matplotlib inline\n",
    "import matplotlib.pyplot as plt\n",
    "from math import log\n",
    "plt.style.use('seaborn-whitegrid') # presentation\n",
    "\n",
    "plt.figure(figsize=(16,9))\n",
    "import numpy as np\n",
    "x = np.linspace(1, 20, 50)\n",
    "\n",
    "# First plot a constant function\n",
    "plt.plot(x, np.ones(50), label=\"f(n) = 1\")\n",
    "\n",
    "# Then plot log(x)\n",
    "plt.plot(x, np.log(x), label='f(n)= log(n)')\n",
    "\n",
    "# Then plot linear growth\n",
    "plt.plot(x, x, label='f(n)=n')\n",
    "\n",
    "# Now add n log n growth\n",
    "plt.plot(x, np.multiply(x, np.log(x)), label=\"f(n) = n*log(n)\")\n",
    "\n",
    "plt.legend(loc=\"upper center\", fontsize=\"xx-large\")\n",
    "plt.show()"
   ]
  },
  {
   "cell_type": "markdown",
   "metadata": {},
   "source": [
    "<h3> <a href='http://interactivepython.org/runestone/static/pythonds/AlgorithmAnalysis/AnAnagramDetectionExample.html    '> 2.4. An Anagram Detection Example  </a> </h3>"
   ]
  },
  {
   "cell_type": "markdown",
   "metadata": {},
   "source": [
    "One string is an anagram of another if the second is simply a rearrangement of the first. For example, \n",
    "* 'heart' and 'earth'  \n",
    "* 'python' and 'typhon'"
   ]
  },
  {
   "cell_type": "markdown",
   "metadata": {},
   "source": [
    "Given two strings s1 and s2 with equal length\n",
    "* anagramSolution1: Check if each character in s1 actually occurs in s2.\n",
    "* anagramSolution2: Compare the sorted strings of s1 and s2 \n",
    "* anagramSolution3: Enumerate all permutation s of s1, and see if any s == s2\n",
    "* anagramSolution4: count and compare"
   ]
  },
  {
   "cell_type": "code",
   "execution_count": null,
   "metadata": {},
   "outputs": [],
   "source": [
    "x = [1,2]\n",
    "y = [1,2,3]\n",
    "x.append (3)\n",
    "assert x == y"
   ]
  },
  {
   "cell_type": "code",
   "execution_count": 54,
   "metadata": {},
   "outputs": [
    {
     "name": "stdout",
     "output_type": "stream",
     "text": [
      "start\n",
      "anagramSolution2  0.6136247329995967 milliseconds\n",
      "anagramSolution4  0.5305302570004642 milliseconds\n"
     ]
    }
   ],
   "source": [
    "import itertools\n",
    "from timeit import Timer\n",
    "import random\n",
    "import string\n",
    "\n",
    "# Assume len(s1)==len(s2)\n",
    "def anagramSolution1(s1,s2):  # O(N^2)\n",
    "    alist = list(s2)          # string s2 is immutable, alist is mutable\n",
    "\n",
    "    pos1 = 0\n",
    "    stillOK = True\n",
    "\n",
    "    while pos1 < len(s1) and stillOK:    # for each position in string s1 O(N)\n",
    "        pos2 = 0\n",
    "        found = False\n",
    "        while pos2 < len(alist) and not found:  # check if the current char exists on alist O(N)\n",
    "            if s1[pos1] == alist[pos2]:\n",
    "                found = True\n",
    "            else:\n",
    "                pos2 = pos2 + 1                 # if not found, move to next position\n",
    "\n",
    "        if found:\n",
    "            alist[pos2] = None\n",
    "        else:\n",
    "            stillOK = False\n",
    "\n",
    "        pos1 = pos1 + 1\n",
    "\n",
    "    return stillOK\n",
    "\n",
    "\n",
    "\n",
    "def anagramSolution2(s1,s2): # O(n log n)\n",
    "    \"\"\"\n",
    "    If s1 and s2 are sorted first, then they are anagram if s1==s2 \n",
    "\n",
    "    @param param1: the 1st string\n",
    "    @param param2: second string\n",
    "    @return: true if s1 and s2 are anagram\n",
    "    @raise keyError: raises an exception\n",
    "    \"\"\"\n",
    "    alist1 = list(s1)\n",
    "    alist2 = list(s2)\n",
    "\n",
    "\n",
    "    alist1.sort()\n",
    "    alist2.sort()\n",
    "    #return alist1 == alist2\n",
    "    \n",
    "    \n",
    "    pos = 0\n",
    "    matches = True\n",
    "\n",
    "    while pos < len(s1) and matches:\n",
    "        if alist1[pos]==alist2[pos]:\n",
    "            pos = pos + 1\n",
    "        else:\n",
    "            matches = False\n",
    "    return matches\n",
    "\n",
    "def anagramSolution3(s1,s2): # O(n!) >  O(2^n)\n",
    "  for s3 in itertools.permutations(s1):\n",
    "    if \"\".join(s3)==s2:\n",
    "      return True\n",
    "  return theSum\n",
    "\n",
    "def anagramSolution4(s1,s2):  # O(n)\n",
    "    \"\"\"\n",
    "      count and compare\n",
    "    \"\"\"\n",
    "    c1 = [0]*26\n",
    "\n",
    "    n = len(s1)\n",
    "    x = ord('a')\n",
    "    for i in range( n ):\n",
    "        pos = ord(s1[i])-x\n",
    "        c1[pos] += 1\n",
    "        pos = ord(s2[i])-x\n",
    "        c1[pos] -=  1\n",
    "\n",
    "    for i in c1:\n",
    "        if i != 0:\n",
    "            return False\n",
    "\n",
    "    return True\n",
    "\n",
    "def demo():\n",
    "  x,y = randomword (5)\n",
    "  L = ( (x,y), ('abcd','dcba'), ('abcde','edcba'), ('abcde','edcba'), ('apple','pleap'), ('python', 'typhon'))\n",
    "  for z in L:\n",
    "    x = z[0]; y = z[1];\n",
    "    assert (anagramSolution1(x,y))\n",
    "    assert (anagramSolution2(x,y))\n",
    "    assert (anagramSolution3(x,y))\n",
    "    assert (anagramSolution4(x,y))\n",
    "\n",
    "\n",
    "\n",
    "def randomword(length):\n",
    "    allchar = string.ascii_lowercase \n",
    "\n",
    "    L = [random.choice(allchar) for i in range(length) ]\n",
    "    random.shuffle(L)\n",
    "    x = ''.join(L)\n",
    "    random.shuffle(L)\n",
    "    y = ''.join(L)\n",
    "    return x,y\n",
    "\n",
    "demo()  \n",
    "\n",
    "if True: \n",
    "    x,y = randomword (1000000)\n",
    "    #print (x,y)\n",
    "    \n",
    "    M=1\n",
    "    print (\"start\")\n",
    "    #t1 = Timer(\"anagramSolution1(x,y)\", \"from __main__ import anagramSolution1, x, y \")\n",
    "    #print(\"anagramSolution1 \", t1.timeit(number=M), \"milliseconds\")\n",
    "    \n",
    "    t2 = Timer(\"anagramSolution2(x,y)\", \"from __main__ import anagramSolution2, x, y \")\n",
    "    print(\"anagramSolution2 \", t2.timeit(number=M), \"milliseconds\")\n",
    "    #t3 = Timer(\"anagramSolution3(x,y)\", \"from __main__ import anagramSolution3, x,y \")\n",
    "    # print(\"anagramSolution3 \", t3.timeit(number=M), \"milliseconds\")\n",
    "    t4 = Timer(\"anagramSolution4(x,y)\", \"from __main__ import anagramSolution4, x,y \")\n",
    "    print(\"anagramSolution4 \", t4.timeit(number=M), \"milliseconds\")\n",
    "\n",
    "#main()\n",
    "\n"
   ]
  },
  {
   "cell_type": "markdown",
   "metadata": {},
   "source": [
    "<h3> <a href='http://interactivepython.org/runestone/static/pythonds/AlgorithmAnalysis/PerformanceofPythonDataStructures.html'> 2.5. Performance of Python Data Structures: lists  </a> </h3>\n"
   ]
  },
  {
   "cell_type": "markdown",
   "metadata": {},
   "source": [
    "<h3> <a href='http://interactivepython.org/runestone/static/pythonds/AlgorithmAnalysis/Lists.html'> 2.5.  lists  </a> </h3>\n",
    "Four different ways to generate a list of n numbers starting with 0."
   ]
  },
  {
   "cell_type": "code",
   "execution_count": 8,
   "metadata": {},
   "outputs": [
    {
     "name": "stdout",
     "output_type": "stream",
     "text": [
      "concat  1.7250853109999866 milliseconds\n",
      "append  0.11782638500000076 milliseconds\n",
      "comprehension  0.05288371099999267 milliseconds\n",
      "list range  0.021672443999989355 milliseconds\n"
     ]
    }
   ],
   "source": [
    "# listing 3\n",
    "from timeit import Timer\n",
    "\n",
    "\n",
    "def test1():\n",
    "    l = []\n",
    "    for i in range(1000):\n",
    "        l = l + [i]\n",
    "\n",
    "def test2():\n",
    "    l = []\n",
    "    for i in range(1000):\n",
    "        l.append(i)\n",
    "\n",
    "def test3():  # \n",
    "    l = [i for i in range(1000)]  comprehension\n",
    "\n",
    "def test4():\n",
    "    l = list(range(1000))\n",
    "\n",
    "\n",
    "t1 = Timer(\"test1()\", \"from __main__ import test1\")\n",
    "print(\"concat \",t1.timeit(number=1000), \"milliseconds\")\n",
    "t2 = Timer(\"test2()\", \"from __main__ import test2\")\n",
    "print(\"append \",t2.timeit(number=1000), \"milliseconds\")\n",
    "t3 = Timer(\"test3()\", \"from __main__ import test3\")\n",
    "print(\"comprehension \",t3.timeit(number=1000), \"milliseconds\")\n",
    "t4 = Timer(\"test4()\", \"from __main__ import test4\")\n",
    "print(\"list range \",t4.timeit(number=1000), \"milliseconds\")\n",
    "\n",
    "#concat  6.54352807999 milliseconds\n",
    "#append  0.306292057037 milliseconds\n",
    "#comprehension  0.147661924362 milliseconds\n",
    "#list range  0.0655000209808 milliseconds"
   ]
  },
  {
   "cell_type": "raw",
   "metadata": {},
   "source": [
    "# Operation\tBig-O Efficiency\n",
    "index []  \t        O(1)\n",
    "index assignment\tO(1)\n",
    "append\t            O(1)\n",
    "pop()\t            O(1)   <-----\n",
    "pop(i)\t            O(n)   <-----\n",
    "insert(i,item)\t    O(n)\n",
    "del operator\t    O(n)\n",
    "iteration\t        O(n)\n",
    "contains (in)\t    O(n)\n",
    "get slice [x:y]\t    O(k)\n",
    "del slice\t        O(n)\n",
    "set slice\t        O(n+k)\n",
    "reverse\t            O(n)\n",
    "concatenate\t        O(k)\n",
    "sort\t            O(n log n)\n",
    "multiply\t        O(nk)"
   ]
  },
  {
   "cell_type": "code",
   "execution_count": null,
   "metadata": {},
   "outputs": [],
   "source": [
    "#listing 4\n",
    "from timeit import Timer\n",
    "\n",
    "popzero = timeit.Timer(\"x.pop(0)\",\n",
    "                       \"from __main__ import x\")\n",
    "popend = timeit.Timer(\"x.pop()\",\n",
    "                      \"from __main__ import x\")\n",
    "\n",
    "x = list(range(2000000))\n",
    "t1 = popzero.timeit(number=1000)\n",
    "#4.8213560581207275\n",
    "print (\"popzero :\", t1)\n",
    "\n",
    "x = list(range(2000000))\n",
    "t2 = popend.timeit(number=1000)\n",
    "#0.0003161430358886719\n",
    "print (\"popend = :\", t2)\n"
   ]
  },
  {
   "cell_type": "code",
   "execution_count": 6,
   "metadata": {},
   "outputs": [
    {
     "name": "stdout",
     "output_type": "stream",
     "text": [
      "  list size          pop(0)           pop()\n",
      "   1000000:         0.11032         0.00001\n",
      "   2000000:         0.20169         0.00002\n",
      "   3000000:         0.31633         0.00001\n",
      "   4000000:         0.41115         0.00001\n",
      "   5000000:         0.70900         0.00003\n",
      "   6000000:         0.82720         0.00002\n",
      "   7000000:         0.85506         0.00003\n",
      "   8000000:         0.99204         0.00003\n",
      "   9000000:         1.04212         0.00001\n",
      "  10000000:         1.25988         0.00003\n"
     ]
    }
   ],
   "source": [
    "\"\"\"\n",
    "#listing 5\n",
    "While our previous test does show that pop(0) is indeed slower than pop(), \n",
    "it does not validate the claim that pop(0) is O(n) while pop() is O(1). \n",
    "\n",
    "To validate that claim we need to look at the performance of both calls \n",
    "over a range of list sizes. \n",
    "\n",
    "Listing 5 implements this test.\n",
    "\"\"\"\n",
    "\n",
    "from timeit import Timer\n",
    "\n",
    "popFront = Timer(\"x.pop(0)\", \"from __main__ import x\")\n",
    "popRear = Timer(\"x.pop()\", \"from __main__ import x\")\n",
    "print(\"%11s %15s %15s\" % (\"list size\", \"pop(0)\", \"pop()\") )\n",
    "\n",
    "delta = 1000000\n",
    "samples = 100\n",
    "A = list ( range(delta,delta*10+1,delta) )\n",
    "B = []\n",
    "C = []\n",
    "for i in A :\n",
    "    x = list(range(i))\n",
    "    timePopFront = popFront.timeit(number=samples)\n",
    "    B.append(timePopFront)\n",
    "    x = list(range(i))\n",
    "    timePopRear = popRear.timeit(number=samples)\n",
    "    C.append ( timePopRear )\n",
    "    print(\"%10d: %15.5f %15.5f\" %(i, timePopFront,timePopRear))\n",
    "\n"
   ]
  },
  {
   "cell_type": "code",
   "execution_count": 4,
   "metadata": {},
   "outputs": [
    {
     "data": {
      "image/png": "[encoded data removed]",
      "text/plain": [
       "<Figure size 1152x648 with 1 Axes>"
      ]
     },
     "metadata": {},
     "output_type": "display_data"
    }
   ],
   "source": [
    "%matplotlib inline\n",
    "import matplotlib.pyplot as plt\n",
    "plt.style.use('seaborn-whitegrid')\n",
    "plt.figure(figsize=(16,9))\n",
    "\n",
    "plt.plot(A, B, label=\"B: popfront\")\n",
    "plt.plot(A, C, label='C: poprear')\n",
    "\n",
    "\n",
    "plt.legend(loc=\"upper center\", fontsize=\"xx-large\")\n",
    "plt.show()"
   ]
  },
  {
   "cell_type": "code",
   "execution_count": null,
   "metadata": {},
   "outputs": [],
   "source": [
    "Repeat the above experiment for anagramSolution 1,2 and 4."
   ]
  },
  {
   "cell_type": "code",
   "execution_count": null,
   "metadata": {},
   "outputs": [],
   "source": []
  }
 ],
 "metadata": {
  "kernelspec": {
   "display_name": "Python 3",
   "language": "python",
   "name": "python3"
  },
  "language_info": {
   "codemirror_mode": {
    "name": "ipython",
    "version": 3
   },
   "file_extension": ".py",
   "mimetype": "text/x-python",
   "name": "python",
   "nbconvert_exporter": "python",
   "pygments_lexer": "ipython3",
   "version": "3.7.1"
  }
 },
 "nbformat": 4,
 "nbformat_minor": 2
}
