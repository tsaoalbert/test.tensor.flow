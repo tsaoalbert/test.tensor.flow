{
 "cells": [
  {
   "cell_type": "markdown",
   "metadata": {},
   "source": [
    "<h1> Assignments #3:  <a href='http://interactivepython.org/runestone/static/pythonds/BasicDS/toctree.html'> \n",
    "Basic Data Structures </a> </h1>"
   ]
  },
  {
   "cell_type": "markdown",
   "metadata": {},
   "source": [
    "<h3> <a href='\n",
    "http://interactivepython.org/runestone/static/pythonds/BasicDS/ProgrammingExercises.html  \n",
    "'>   Programming Exercises  </a> </h3>"
   ]
  },
  {
   "cell_type": "markdown",
   "metadata": {},
   "source": [
    "* 3.1 Modify the infix-to-postfix algorithm so that it can handle errors.\n",
    "* 3.2 Modify the postfix evaluation algorithm so that it can handle errors.\n",
    "* 3.3 Implement a direct infix evaluator that combines both infix-to-postfix conversion \n",
    "* 3.4 Turn your direct infix evaluator from the previous problem into a calculator that can handles arithmetic operators +,-,*,/, //, %, ** and parenthesis."
   ]
  },
  {
   "cell_type": "markdown",
   "metadata": {},
   "source": [
    "* 3.12 Extend the program from Listing 2.15 to handle palindromes with spaces. For example, I PREFER PI is a palindrome that reads the same forward and backward if you ignore the blank characters."
   ]
  },
  {
   "cell_type": "markdown",
   "metadata": {},
   "source": [
    "Modify the unorderedList class as follows:\n",
    "* allow duplicates\n",
    "* remove method can work correctly on non-existing items\n",
    "* Improve the time of length method to O(1)\n",
    "* Implement __str__ method so that lists are displayed the Python way\n",
    "* Implement the remaining operations defined in the UnorderedList ADT (append, index, pop, insert)."
   ]
  },
  {
   "cell_type": "markdown",
   "metadata": {},
   "source": [
    "Use a singly linked list with both head  tail pointer to implement a queue that would have an average performance of O(1) for enqueue and dequeue operations."
   ]
  },
  {
   "cell_type": "markdown",
   "metadata": {},
   "source": [
    "Use doubly linked lists to implement queue, stack, and deque that would have have an average performance of O(1)  for operations of adding or removing operations. Hints: implement deque first, then you can build stack and queue on top of deque"
   ]
  }
 ],
 "metadata": {
  "kernelspec": {
   "display_name": "Python 3",
   "language": "python",
   "name": "python3"
  },
  "language_info": {
   "codemirror_mode": {
    "name": "ipython",
    "version": 3
   },
   "file_extension": ".py",
   "mimetype": "text/x-python",
   "name": "python",
   "nbconvert_exporter": "python",
   "pygments_lexer": "ipython3",
   "version": "3.7.1"
  }
 },
 "nbformat": 4,
 "nbformat_minor": 2
}
