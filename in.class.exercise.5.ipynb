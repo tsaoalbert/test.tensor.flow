{
 "cells": [
  {
   "cell_type": "markdown",
   "metadata": {},
   "source": [
    "<h1>\n",
    " <a href= \"http://interactivepython.org/runestone/static/pythonds/SortSearch/toctree.html\"> In Class Exercise # 5 </a>\n",
    "    </h1?"
   ]
  },
  {
   "cell_type": "markdown",
   "metadata": {},
   "source": [
    "You may watch the anmiation of animation\n",
    "<a href='http://cs.armstrong.edu/liang/animation/animation.html'>    here. </a>"
   ]
  },
  {
   "cell_type": "markdown",
   "metadata": {},
   "source": [
    "Q#1\n",
    "Using the hash table performance<a href= \"http://interactivepython.org/runestone/static/pythonds/SortSearch/Hashing.html#analysis-of-hashing\"> \n",
    "    formulas</a> given in the chapter, compute the average number of comparisons necessary when the table is\n",
    "* 10% full\n",
    "* 25% full\n",
    "* 50% full\n",
    "* 75% full\n",
    "* 90% full\n",
    "* 99% full\n",
    "\n",
    "At what point do you think the hash table is too small? Explain."
   ]
  },
  {
   "cell_type": "raw",
   "metadata": {},
   "source": [
    "Q#2\n",
    "Modify the hash function for strings to use positional weightings."
   ]
  },
  {
   "cell_type": "raw",
   "metadata": {},
   "source": [
    "Q#3\n",
    "We used a hash function for strings that weighted the characters by position. \n",
    "What are the biases that exist with these functions?\n",
    "Devise an alternative weighting scheme that remove these biases."
   ]
  },
  {
   "cell_type": "raw",
   "metadata": {},
   "source": [
    "Q#4:\n",
    "Consider the following list of integers: \n",
    "[7, 2,9, 3,4,10, 5,1, 6,8]. \n",
    "Show how this list is sorted by the following algorithms:\n",
    "\n",
    "insertion sort\n",
    "selection sort\n",
    "bubble sort\n",
    "merge sort\n",
    "quick sort (Use the first one as the pivot value)\n",
    "\n",
    "Show the array at each iteration. A sample run for the quick sort is given below, where the \n",
    "input array is shown at step 0, and * indicate the pivot item.\n",
    "\n",
    " 0: 54   26   93   17   77   31   44   55   20   \n",
    " 1: 31   26   20   17   44   54*  77   55   93   \n",
    " 2: 17   26   20   31*  44        55   77*  93   \n",
    " 3: 17*  26   20        44        55        93   \n",
    "\n",
    " 4: 17*  20   26*  31*  44   54*  55   77*  93\n",
    "\n",
    "Hints: run the program in the lecture notes"
   ]
  },
  {
   "cell_type": "raw",
   "metadata": {},
   "source": [
    "Q#5\n",
    "Consider the following list of integers: \n",
    "[10,9,8,7,6,5,4,3,2,1]. \n",
    "Show how this list is sorted by the following algorithms:\n",
    "\n",
    "bubble sort\n",
    "selection sort\n",
    "insertion sort\n",
    "merge sort\n",
    "quick sort (Use the first one as the pivot value)\n",
    "\n",
    "Show the array at each iteration. A sample run for the quick sort is given below, where the \n",
    "input array is shown at step 0, and * indicate the pivot item.\n",
    "\n",
    " 0: 54   26   93   17   77   31   44   55   20   \n",
    " 1: 31   26   20   17   44   54*  77   55   93   \n",
    " 2: 17   26   20   31*  44        55   77*  93   \n",
    " 3: 17*  26   20        44        55        93   \n",
    "\n",
    " 4: 17*  20   26*  31*  44   54*  55   77*  93\n",
    "\n",
    "Hints: run the program in the lecture notes"
   ]
  },
  {
   "cell_type": "raw",
   "metadata": {},
   "source": [
    "Q#6\n",
    "Consider the following list of integers: [1,2,3,4,5,6,7,8,9,10]. \n",
    "Show how this list is sorted by the following algorithms:\n",
    "bubble sort\n",
    "selection sort\n",
    "insertion sort\n",
    "merge sort\n",
    "quick sort (Use the first one as the pivot value)\n",
    "\n",
    "Hints: run the program in the lecture notes"
   ]
  },
  {
   "cell_type": "raw",
   "metadata": {},
   "source": [
    "Q#7\n",
    "Consider the list of characters: ['P','Y','T','H','O','N']. \n",
    "Show how this list is sorted using the following algorithms:\n",
    "bubble sort\n",
    "selection sort\n",
    "insertion sort\n",
    "merge sort\n",
    "quick sort (you decide on the pivot value)\n",
    "\n",
    "Hints: run the program in the lecture notes"
   ]
  },
  {
   "cell_type": "raw",
   "metadata": {},
   "source": [
    "Q#8\n",
    "Devise alternative strategies for choosing the pivot value in quick sort. \n",
    "For example, pick 3 numbers and choose the middle item as the pivot value.\n",
    "Re-implement the algorithm and then execute it on random data sets. \n",
    "Under what criteria does your new strategy perform better or worse than the strategy from this chapter?"
   ]
  },
  {
   "cell_type": "code",
   "execution_count": null,
   "metadata": {},
   "outputs": [],
   "source": []
  },
  {
   "cell_type": "code",
   "execution_count": null,
   "metadata": {},
   "outputs": [],
   "source": []
  }
 ],
 "metadata": {
  "kernelspec": {
   "display_name": "Python 3",
   "language": "python",
   "name": "python3"
  },
  "language_info": {
   "codemirror_mode": {
    "name": "ipython",
    "version": 3
   },
   "file_extension": ".py",
   "mimetype": "text/x-python",
   "name": "python",
   "nbconvert_exporter": "python",
   "pygments_lexer": "ipython3",
   "version": "3.7.1"
  }
 },
 "nbformat": 4,
 "nbformat_minor": 2
}
