{
 "cells": [
  {
   "cell_type": "code",
   "execution_count": 2,
   "metadata": {},
   "outputs": [
    {
     "data": {
      "text/plain": [
       "3"
      ]
     },
     "execution_count": 2,
     "metadata": {},
     "output_type": "execute_result"
    }
   ],
   "source": [
    "Week6: Trees and Tree Algorithms\n",
    "  Topics:\n",
    "     Tree Traversal: in-order, pre-order, post-order\n",
    "     Priority Queues with Binary Heaps\n",
    "     Binary Search Trees:\n",
    "     Balnaced Binary Search Trees: AVL/Red-Black Tree\n",
    "\n",
    "HW#6:\n",
    "  Extend the buildParseTree function to handle\n",
    "        * expressions with no spaces between every character.\n",
    "        * boolean statements (and, or, and not).\n",
    "\n",
    "    Using the buildHeap method, write a sorting function that can sort a list in O(nlogn) time.\n",
    "\n",
    "    Implement a binary heap as a max heap.\n",
    "\n",
    "    Using the BinaryHeap class, implement a new class called PriorityQueue that\n",
    "      implement the constructor, plus the enqueue and dequeue methods."
   ]
  },
  {
   "cell_type": "markdown",
   "metadata": {},
   "source": [
    "<a href=' http://my.jessup.edu/'> my.jessup  </a>"
   ]
  },
  {
   "cell_type": "code",
   "execution_count": null,
   "metadata": {},
   "outputs": [],
   "source": []
  },
  {
   "cell_type": "code",
   "execution_count": null,
   "metadata": {},
   "outputs": [],
   "source": []
  },
  {
   "cell_type": "code",
   "execution_count": null,
   "metadata": {},
   "outputs": [],
   "source": []
  },
  {
   "cell_type": "code",
   "execution_count": null,
   "metadata": {},
   "outputs": [],
   "source": []
  }
 ],
 "metadata": {
  "kernelspec": {
   "display_name": "Python 3",
   "language": "python",
   "name": "python3"
  },
  "language_info": {
   "codemirror_mode": {
    "name": "ipython",
    "version": 3
   },
   "file_extension": ".py",
   "mimetype": "text/x-python",
   "name": "python",
   "nbconvert_exporter": "python",
   "pygments_lexer": "ipython3",
   "version": "3.7.1"
  }
 },
 "nbformat": 4,
 "nbformat_minor": 2
}
