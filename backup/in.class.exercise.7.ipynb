{
 "cells": [
  {
   "cell_type": "markdown",
   "metadata": {},
   "source": [
    "<h1>\n",
    "In Class Exercise #7\n",
    "\n",
    "</h1>"
   ]
  },
  {
   "cell_type": "markdown",
   "metadata": {},
   "source": [
    "\n",
    "<h2>\n",
    "<a href='\n",
    "http://interactivepython.org/runestone/static/pythonds/Graphs/DiscussionQuestions.html         '> \n",
    "7.25. Discussion Questions\n",
    "  </a>\n",
    " </h2>\n"
   ]
  },
  {
   "cell_type": "code",
   "execution_count": null,
   "metadata": {},
   "outputs": [],
   "source": [
    "Draw the graph corresponding to the following adjacency matrix.\n",
    "../_images/adjMatEX.png\n",
    "Draw the graph corresponding to the following list of edges.\n",
    "\n",
    "from\tto\tcost\n",
    "1\t2\t10\n",
    "1\t3\t15\n",
    "1\t6\t5\n",
    "2\t3\t7\n",
    "3\t4\t7\n",
    "3\t6\t10\n",
    "4\t5\t7\n",
    "6\t4\t5\n",
    "5\t6\t13\n",
    "Ignoring the weights, perform a breadth first search on the graph from the previous question.\n",
    "\n",
    "What is the Big-O running time of the buildGraph function?\n",
    "\n",
    "Derive the Big-O running time for the topological sort algorithm.\n",
    "\n",
    "Derive the Big-O running time for the strongly connected components algorithm.\n",
    "\n",
    "Show each step in applying Dijkstra’s algorithm to the graph shown above.\n",
    "\n",
    "Using Prim’s algorithm, find the minimum weight spanning tree for the graph shown above.\n",
    "\n",
    "Draw a dependency graph illustrating the steps needed to send an email. Perform a topological sort on your graph.\n",
    "\n",
    "Derive an expression for the base of the exponent used in expressing the running time of the knights tour.\n",
    "\n",
    "Explain why the general DFS algorithm is not suitable for solving the knights tour problem.\n",
    "\n",
    "What is the Big-O running time for Prim’s minimum spanning tree algorithm?\n",
    "\n",
    "Next Section - 7.26. Programming Exercises\n",
    "user not logged in"
   ]
  }
 ],
 "metadata": {
  "kernelspec": {
   "display_name": "Python 3",
   "language": "python",
   "name": "python3"
  },
  "language_info": {
   "codemirror_mode": {
    "name": "ipython",
    "version": 3
   },
   "file_extension": ".py",
   "mimetype": "text/x-python",
   "name": "python",
   "nbconvert_exporter": "python",
   "pygments_lexer": "ipython3",
   "version": "3.7.1"
  }
 },
 "nbformat": 4,
 "nbformat_minor": 2
}
